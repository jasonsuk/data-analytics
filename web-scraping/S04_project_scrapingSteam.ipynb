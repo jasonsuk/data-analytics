{
 "cells": [
  {
   "cell_type": "markdown",
   "metadata": {},
   "source": [
    "# Extracting data from Steam "
   ]
  },
  {
   "cell_type": "markdown",
   "metadata": {},
   "source": [
    "In this project, you'll get a chance to explore scraping data from Steam. We'll get you started with importing the packages you'll need and connecting to a sample webpage on the site (https://store.steampowered.com/tags/en/Action/). We provide a few ideas below of what you can try scraping, too, but feel free to roam around!"
   ]
  },
  {
   "cell_type": "markdown",
   "metadata": {},
   "source": [
    "## Initial Setup"
   ]
  },
  {
   "cell_type": "code",
   "execution_count": 97,
   "metadata": {},
   "outputs": [],
   "source": [
    "from bs4 import BeautifulSoup\n",
    "import requests"
   ]
  },
  {
   "cell_type": "markdown",
   "metadata": {},
   "source": [
    "## Connect to Steam webpage"
   ]
  },
  {
   "cell_type": "code",
   "execution_count": 2,
   "metadata": {},
   "outputs": [
    {
     "data": {
      "text/plain": [
       "200"
      ]
     },
     "execution_count": 2,
     "metadata": {},
     "output_type": "execute_result"
    }
   ],
   "source": [
    "response = requests.get(\"https://store.steampowered.com/tags/en/Action/\")\n",
    "response.status_code"
   ]
  },
  {
   "cell_type": "code",
   "execution_count": 3,
   "metadata": {},
   "outputs": [],
   "source": [
    "html = response.content"
   ]
  },
  {
   "cell_type": "code",
   "execution_count": 4,
   "metadata": {},
   "outputs": [],
   "source": [
    "soup = BeautifulSoup(html, \"lxml\")"
   ]
  },
  {
   "cell_type": "markdown",
   "metadata": {},
   "source": [
    "## Instructions\n",
    "`1` Try extracting the names of the top games from this page.<br>\n",
    "`2` What tags contain the prices?  Can you extract the price information?<br>\n",
    "`3` Can you get the text from each span tag with class equal to \"top_tag\"?<br>\n",
    "`4` Under the \"Narrow by Tag\" section, there are a collection of tags (e.g. \"Indie\", \"Adventure\", etc.). <br>Write code to return these tags.<br>"
   ]
  },
  {
   "cell_type": "markdown",
   "metadata": {},
   "source": [
    "## Codes"
   ]
  },
  {
   "cell_type": "markdown",
   "metadata": {},
   "source": [
    "**`1` Try extracting the names of the top games from this page.<br>\n",
    "`2` What tags contain the prices?  Can you extract the price information?**"
   ]
  },
  {
   "cell_type": "code",
   "execution_count": 85,
   "metadata": {
    "scrolled": true
   },
   "outputs": [
    {
     "data": {
      "text/plain": [
       "<div id=\"TopSellersTable\">\n",
       "<div id=\"TopSellersRows\">\n",
       "<a class=\"tab_item\" data-ds-appid=\"1118010\" data-ds-crtrids=\"[33273264,34827959]\" data-ds-itemkey=\"App_1118010\" data-ds-tagids=\"[19,3859,1695,9564,1685,5144,4026]\" href=\"https://store.steampowered.com/app/1118010/Monster_Hunter_World_Iceborne/?snr=1_241_4_action_104\" onmouseout=\"HideGameHover( this, event, 'global_hover' )\" onmouseover=\"GameHover( this, event, 'global_hover', {&quot;type&quot;:&quot;app&quot;,&quot;id&quot;:1118010,&quot;params&quot;:{&quot;bDisableHover&quot;:false},&quot;public&quot;:1,&quot;v6&quot;:1} );\">\n",
       "<div class=\"tab_item_cap\">\n",
       "<img class=\"tab_item_cap_img\" src=\"https://cdn.cloudflare.steamstatic.com/steam/apps/1118010/capsule_184x69.jpg?t=1596524584\"/>\n",
       "</div>\n",
       "<div class=\"discount_block tab_item_discount no_discount\" data-price-final=\"31200\"><div class=\"discount_prices\"><div class=\"discount_final_price\">HK$ 312.00</div></div></div> <div class=\"tab_item_content\">\n",
       "<div class=\"tab_item_name\">Monster Hunter World: Iceborne</div>\n",
       "<div class=\"tab_item_details\">\n",
       "<span class=\"platform_img win\"></span> <div class=\"tab_item_top_tags\"><span class=\"top_tag\">Action</span><span class=\"top_tag\">, Multiplayer</span><span class=\"top_tag\">, Open World</span><span class=\"top_tag\">, Hunting</span></div>\n",
       "</div>\n",
       "</div>\n",
       "<div style=\"clear: both;\"></div>\n",
       "</a>\n",
       "<a class=\"tab_item\" data-ds-appid=\"397540\" data-ds-crtrids=\"[2428135,33338128]\" data-ds-descids=\"[1,2,5]\" data-ds-itemkey=\"App_397540\" data-ds-tagids=\"[122,19,353880,3843,1663,1774,3859]\" href=\"https://store.steampowered.com/app/397540/Borderlands_3/?snr=1_241_4_action_104\" onmouseout=\"HideGameHover( this, event, 'global_hover' )\" onmouseover=\"GameHover( this, event, 'global_hover', {&quot;type&quot;:&quot;app&quot;,&quot;id&quot;:397540,&quot;params&quot;:{&quot;bDisableHover&quot;:false},&quot;public&quot;:1,&quot;v6&quot;:1} );\">\n",
       "<div class=\"tab_item_cap\">\n",
       "<img class=\"tab_item_cap_img\" src=\"https://cdn.cloudflare.steamstatic.com/steam/apps/397540/capsule_184x69.jpg?t=1596687250\"/>\n",
       "</div>\n",
       "<div class=\"discount_block tab_item_discount\" data-price-final=\"23400\"><div class=\"discount_pct\">-50%</div><div class=\"discount_prices\"><div class=\"discount_original_price\">HK$ 468.00</div><div class=\"discount_final_price\">HK$ 234.00</div></div></div> <div class=\"tab_item_content\">\n",
       "<div class=\"tab_item_name\">Borderlands 3</div>\n",
       "<div class=\"tab_item_details\">\n",
       "<span class=\"platform_img win\"></span> <div class=\"tab_item_top_tags\"><span class=\"top_tag\">RPG</span><span class=\"top_tag\">, Action</span><span class=\"top_tag\">, Looter Shooter</span><span class=\"top_tag\">, Online Co-Op</span></div>\n",
       "</div>\n",
       "</div>\n",
       "<div style=\"clear: both;\"></div>\n",
       "</a>\n",
       "<a class=\"tab_item\" data-ds-appid=\"582010\" data-ds-crtrids=\"[33273264,34827959]\" data-ds-itemkey=\"App_582010\" data-ds-tagids=\"[1685,3859,19,1695,122,1697,4747]\" href=\"https://store.steampowered.com/app/582010/Monster_Hunter_World/?snr=1_241_4_action_104\" onmouseout=\"HideGameHover( this, event, 'global_hover' )\" onmouseover=\"GameHover( this, event, 'global_hover', {&quot;type&quot;:&quot;app&quot;,&quot;id&quot;:582010,&quot;params&quot;:{&quot;bDisableHover&quot;:false},&quot;public&quot;:1,&quot;v6&quot;:1} );\">\n",
       "<div class=\"tab_item_cap\">\n",
       "<img class=\"tab_item_cap_img\" src=\"https://cdn.cloudflare.steamstatic.com/steam/apps/582010/capsule_184x69.jpg?t=1596524445\"/>\n",
       "</div>\n",
       "<div class=\"discount_block tab_item_discount no_discount\" data-price-final=\"23400\"><div class=\"discount_prices\"><div class=\"discount_final_price\">HK$ 234.00</div></div></div> <div class=\"tab_item_content\">\n",
       "<div class=\"tab_item_name\">Monster Hunter: World</div>\n",
       "<div class=\"tab_item_details\">\n",
       "<span class=\"platform_img win\"></span> <div class=\"tab_item_top_tags\"><span class=\"top_tag\">Co-op</span><span class=\"top_tag\">, Multiplayer</span><span class=\"top_tag\">, Action</span><span class=\"top_tag\">, Open World</span></div>\n",
       "</div>\n",
       "</div>\n",
       "<div style=\"clear: both;\"></div>\n",
       "</a>\n",
       "<a class=\"tab_item\" data-ds-appid=\"1172620\" data-ds-crtrids=\"[3090835]\" data-ds-itemkey=\"App_1172620\" data-ds-tagids=\"[21,19,3859,1681,1695,1685,13577]\" href=\"https://store.steampowered.com/app/1172620/Sea_of_Thieves/?snr=1_241_4_action_104\" onmouseout=\"HideGameHover( this, event, 'global_hover' )\" onmouseover=\"GameHover( this, event, 'global_hover', {&quot;type&quot;:&quot;app&quot;,&quot;id&quot;:1172620,&quot;params&quot;:{&quot;bDisableHover&quot;:false},&quot;public&quot;:1,&quot;v6&quot;:1} );\">\n",
       "<div class=\"tab_item_cap\">\n",
       "<img class=\"tab_item_cap_img\" src=\"https://cdn.cloudflare.steamstatic.com/steam/apps/1172620/capsule_184x69.jpg?t=1596057038\"/>\n",
       "</div>\n",
       "<div class=\"discount_block tab_item_discount no_discount\" data-price-final=\"26900\"><div class=\"discount_prices\"><div class=\"discount_final_price\">HK$ 269.00</div></div></div> <div class=\"tab_item_content\">\n",
       "<div class=\"tab_item_name\">Sea of Thieves</div>\n",
       "<div class=\"tab_item_details\">\n",
       "<span class=\"platform_img win\"></span> <div class=\"tab_item_top_tags\"><span class=\"top_tag\">Adventure</span><span class=\"top_tag\">, Action</span><span class=\"top_tag\">, Multiplayer</span><span class=\"top_tag\">, Pirates</span></div>\n",
       "</div>\n",
       "</div>\n",
       "<div style=\"clear: both;\"></div>\n",
       "</a>\n",
       "<a class=\"tab_item\" data-ds-appid=\"271590\" data-ds-crtrids=\"[1541443,36291848]\" data-ds-descids=\"[5]\" data-ds-itemkey=\"App_271590\" data-ds-tagids=\"[1695,19,3859,1100687,6378,1697,3839]\" href=\"https://store.steampowered.com/app/271590/Grand_Theft_Auto_V/?snr=1_241_4_action_104\" onmouseout=\"HideGameHover( this, event, 'global_hover' )\" onmouseover=\"GameHover( this, event, 'global_hover', {&quot;type&quot;:&quot;app&quot;,&quot;id&quot;:271590,&quot;params&quot;:{&quot;bDisableHover&quot;:false},&quot;public&quot;:1,&quot;v6&quot;:1} );\">\n",
       "<div class=\"tab_item_cap\">\n",
       "<img class=\"tab_item_cap_img\" src=\"https://cdn.cloudflare.steamstatic.com/steam/apps/271590/capsule_184x69.jpg?t=1592866696\"/>\n",
       "</div>\n",
       "<div class=\"discount_block tab_item_discount\" data-price-final=\"12450\"><div class=\"discount_pct\">-50%</div><div class=\"discount_prices\"><div class=\"discount_original_price\">HK$ 249.00</div><div class=\"discount_final_price\">HK$ 124.50</div></div></div> <div class=\"tab_item_content\">\n",
       "<div class=\"tab_item_name\">Grand Theft Auto V</div>\n",
       "<div class=\"tab_item_details\">\n",
       "<span class=\"platform_img win\"></span> <div class=\"tab_item_top_tags\"><span class=\"top_tag\">Open World</span><span class=\"top_tag\">, Action</span><span class=\"top_tag\">, Multiplayer</span><span class=\"top_tag\">, Automobile Sim</span></div>\n",
       "</div>\n",
       "</div>\n",
       "<div style=\"clear: both;\"></div>\n",
       "</a>\n",
       "<a class=\"tab_item\" data-ds-appid=\"1090630\" data-ds-crtrids=\"[33144221]\" data-ds-itemkey=\"App_1090630\" data-ds-tagids=\"[19,4085,1743,4736,1775,3878,122]\" href=\"https://store.steampowered.com/app/1090630/Granblue_Fantasy_Versus/?snr=1_241_4_action_104\" onmouseout=\"HideGameHover( this, event, 'global_hover' )\" onmouseover=\"GameHover( this, event, 'global_hover', {&quot;type&quot;:&quot;app&quot;,&quot;id&quot;:1090630,&quot;params&quot;:{&quot;bDisableHover&quot;:false},&quot;public&quot;:1,&quot;v6&quot;:1} );\">\n",
       "<div class=\"tab_item_cap\">\n",
       "<img class=\"tab_item_cap_img\" src=\"https://cdn.cloudflare.steamstatic.com/steam/apps/1090630/capsule_184x69.jpg?t=1596046593\"/>\n",
       "</div>\n",
       "<div class=\"discount_block tab_item_discount no_discount\" data-price-final=\"43800\"><div class=\"discount_prices\"><div class=\"discount_final_price\">HK$ 438.00</div></div></div> <div class=\"tab_item_content\">\n",
       "<div class=\"tab_item_name\">Granblue Fantasy: Versus</div>\n",
       "<div class=\"tab_item_details\">\n",
       "<span class=\"platform_img win\"></span> <div class=\"tab_item_top_tags\"><span class=\"top_tag\">Action</span><span class=\"top_tag\">, Anime</span><span class=\"top_tag\">, Fighting</span><span class=\"top_tag\">, 2D Fighter</span></div>\n",
       "</div>\n",
       "</div>\n",
       "<div style=\"clear: both;\"></div>\n",
       "</a>\n",
       "<a class=\"tab_item\" data-ds-appid=\"835570\" data-ds-descids=\"[2,5]\" data-ds-itemkey=\"App_835570\" data-ds-tagids=\"[9,122,19,128,599,113,4172]\" href=\"https://store.steampowered.com/app/835570/Conquerors_Blade/?snr=1_241_4_action_104\" onmouseout=\"HideGameHover( this, event, 'global_hover' )\" onmouseover=\"GameHover( this, event, 'global_hover', {&quot;type&quot;:&quot;app&quot;,&quot;id&quot;:835570,&quot;params&quot;:{&quot;bDisableHover&quot;:false},&quot;public&quot;:1,&quot;v6&quot;:1} );\">\n",
       "<div class=\"tab_item_cap\">\n",
       "<img class=\"tab_item_cap_img\" src=\"https://cdn.cloudflare.steamstatic.com/steam/apps/835570/capsule_184x69.jpg?t=1593707828\"/>\n",
       "</div>\n",
       "<div class=\"discount_block tab_item_discount no_discount\" data-price-final=\"0\"><div class=\"discount_prices\"><div class=\"discount_final_price\">Free to Play</div></div></div> <div class=\"tab_item_content\">\n",
       "<div class=\"tab_item_name\">Conqueror's Blade</div>\n",
       "<div class=\"tab_item_details\">\n",
       "<span class=\"platform_img win\"></span> <div class=\"tab_item_top_tags\"><span class=\"top_tag\">Strategy</span><span class=\"top_tag\">, RPG</span><span class=\"top_tag\">, Action</span><span class=\"top_tag\">, Massively Multiplayer</span></div>\n",
       "</div>\n",
       "</div>\n",
       "<div style=\"clear: both;\"></div>\n",
       "</a>\n",
       "<a class=\"tab_item\" data-ds-appid=\"803330\" data-ds-crtrids=\"[5029225,7564110]\" data-ds-descids=\"[2,5]\" data-ds-itemkey=\"App_803330\" data-ds-tagids=\"[19,21,11333,1673,1695,5708,4182]\" href=\"https://store.steampowered.com/app/803330/Destroy_All_Humans/?snr=1_241_4_action_104\" onmouseout=\"HideGameHover( this, event, 'global_hover' )\" onmouseover=\"GameHover( this, event, 'global_hover', {&quot;type&quot;:&quot;app&quot;,&quot;id&quot;:803330,&quot;params&quot;:{&quot;bDisableHover&quot;:false},&quot;public&quot;:1,&quot;v6&quot;:1} );\">\n",
       "<div class=\"tab_item_cap\">\n",
       "<img class=\"tab_item_cap_img\" src=\"https://cdn.cloudflare.steamstatic.com/steam/apps/803330/capsule_184x69.jpg?t=1596804129\"/>\n",
       "</div>\n",
       "<div class=\"discount_block tab_item_discount no_discount\" data-price-final=\"22900\"><div class=\"discount_prices\"><div class=\"discount_final_price\">HK$ 229.00</div></div></div> <div class=\"tab_item_content\">\n",
       "<div class=\"tab_item_name\">Destroy All Humans!</div>\n",
       "<div class=\"tab_item_details\">\n",
       "<span class=\"platform_img win\"></span> <div class=\"tab_item_top_tags\"><span class=\"top_tag\">Action</span><span class=\"top_tag\">, Adventure</span><span class=\"top_tag\">, Villain Protagonist</span><span class=\"top_tag\">, Aliens</span></div>\n",
       "</div>\n",
       "</div>\n",
       "<div style=\"clear: both;\"></div>\n",
       "</a>\n",
       "<a class=\"tab_item\" data-ds-appid=\"632360\" data-ds-crtrids=\"[35646051]\" data-ds-itemkey=\"App_632360\" data-ds-tagids=\"[3814,42804,3859,19,3959,1685,353880]\" href=\"https://store.steampowered.com/app/632360/Risk_of_Rain_2/?snr=1_241_4_action_104\" onmouseout=\"HideGameHover( this, event, 'global_hover' )\" onmouseover=\"GameHover( this, event, 'global_hover', {&quot;type&quot;:&quot;app&quot;,&quot;id&quot;:632360,&quot;params&quot;:{&quot;bDisableHover&quot;:false},&quot;public&quot;:1,&quot;v6&quot;:1} );\">\n",
       "<div class=\"tab_item_cap\">\n",
       "<img class=\"tab_item_cap_img\" src=\"https://cdn.cloudflare.steamstatic.com/steam/apps/632360/capsule_184x69.jpg?t=1597330177\"/>\n",
       "</div>\n",
       "<div class=\"discount_block tab_item_discount\" data-price-final=\"10320\"><div class=\"discount_pct\">-20%</div><div class=\"discount_prices\"><div class=\"discount_original_price\">HK$ 129.00</div><div class=\"discount_final_price\">HK$ 103.20</div></div></div> <div class=\"tab_item_content\">\n",
       "<div class=\"tab_item_name\">Risk of Rain 2</div>\n",
       "<div class=\"tab_item_details\">\n",
       "<span class=\"platform_img win\"></span> <div class=\"tab_item_top_tags\"><span class=\"top_tag\">Third-Person Shooter</span><span class=\"top_tag\">, Action Roguelike</span><span class=\"top_tag\">, Multiplayer</span><span class=\"top_tag\">, Action</span></div>\n",
       "</div>\n",
       "</div>\n",
       "<div style=\"clear: both;\"></div>\n",
       "</a>\n",
       "<a class=\"tab_item\" data-ds-appid=\"997070\" data-ds-crtrids=\"[1012195]\" data-ds-itemkey=\"App_997070\" data-ds-tagids=\"[19,21,122,1671,1695,3859,1685]\" href=\"https://store.steampowered.com/app/997070/Marvels_Avengers/?snr=1_241_4_action_104\" onmouseout=\"HideGameHover( this, event, 'global_hover' )\" onmouseover=\"GameHover( this, event, 'global_hover', {&quot;type&quot;:&quot;app&quot;,&quot;id&quot;:997070,&quot;params&quot;:{&quot;bDisableHover&quot;:false},&quot;public&quot;:1,&quot;v6&quot;:1} );\">\n",
       "<div class=\"tab_item_cap\">\n",
       "<img class=\"tab_item_cap_img\" src=\"https://cdn.cloudflare.steamstatic.com/steam/apps/997070/capsule_184x69.jpg?t=1597093996\"/>\n",
       "</div>\n",
       "<div class=\"discount_block tab_item_discount no_discount\" data-price-final=\"47900\"><div class=\"discount_prices\"><div class=\"discount_final_price\">HK$ 479.00</div></div></div> <div class=\"tab_item_content\">\n",
       "<div class=\"tab_item_name\">Marvel's Avengers</div>\n",
       "<div class=\"tab_item_details\">\n",
       "<span class=\"platform_img win\"></span> <div class=\"tab_item_top_tags\"><span class=\"top_tag\">Action</span><span class=\"top_tag\">, Adventure</span><span class=\"top_tag\">, RPG</span><span class=\"top_tag\">, Superhero</span></div>\n",
       "</div>\n",
       "</div>\n",
       "<div style=\"clear: both;\"></div>\n",
       "</a>\n",
       "<a class=\"tab_item\" data-ds-appid=\"230410\" data-ds-crtrids=\"[32978945]\" data-ds-descids=\"[2,5]\" data-ds-itemkey=\"App_230410\" data-ds-tagids=\"[113,353880,19,1685,3859,3814,3942]\" href=\"https://store.steampowered.com/app/230410/Warframe/?snr=1_241_4_action_104\" onmouseout=\"HideGameHover( this, event, 'global_hover' )\" onmouseover=\"GameHover( this, event, 'global_hover', {&quot;type&quot;:&quot;app&quot;,&quot;id&quot;:230410,&quot;params&quot;:{&quot;bDisableHover&quot;:false},&quot;public&quot;:1,&quot;v6&quot;:1} );\">\n",
       "<div class=\"tab_item_cap\">\n",
       "<img class=\"tab_item_cap_img\" src=\"https://cdn.cloudflare.steamstatic.com/steam/apps/230410/capsule_184x69.jpg?t=1596663832\"/>\n",
       "</div>\n",
       "<div class=\"discount_block tab_item_discount no_discount\" data-price-final=\"0\"><div class=\"discount_prices\"><div class=\"discount_final_price\">Free to Play</div></div></div> <div class=\"tab_item_content\">\n",
       "<div class=\"tab_item_name\">Warframe</div>\n",
       "<div class=\"tab_item_details\">\n",
       "<span class=\"platform_img win\"></span> <div class=\"tab_item_top_tags\"><span class=\"top_tag\">Free to Play</span><span class=\"top_tag\">, Looter Shooter</span><span class=\"top_tag\">, Action</span><span class=\"top_tag\">, Co-op</span></div>\n",
       "</div>\n",
       "</div>\n",
       "<div style=\"clear: both;\"></div>\n",
       "</a>\n",
       "<a class=\"tab_item\" data-ds-appid=\"1009290\" data-ds-crtrids=\"[33042543]\" data-ds-itemkey=\"App_1009290\" data-ds-tagids=\"[122,19,21,4085,4434,3859,1695]\" href=\"https://store.steampowered.com/app/1009290/SWORD_ART_ONLINE_Alicization_Lycoris/?snr=1_241_4_action_104\" onmouseout=\"HideGameHover( this, event, 'global_hover' )\" onmouseover=\"GameHover( this, event, 'global_hover', {&quot;type&quot;:&quot;app&quot;,&quot;id&quot;:1009290,&quot;params&quot;:{&quot;bDisableHover&quot;:false},&quot;public&quot;:1,&quot;v6&quot;:1} );\">\n",
       "<div class=\"tab_item_cap\">\n",
       "<img class=\"tab_item_cap_img\" src=\"https://cdn.cloudflare.steamstatic.com/steam/apps/1009290/capsule_184x69.jpg?t=1594333057\"/>\n",
       "</div>\n",
       "<div class=\"discount_block tab_item_discount no_discount\" data-price-final=\"34900\"><div class=\"discount_prices\"><div class=\"discount_final_price\">HK$ 349.00</div></div></div> <div class=\"tab_item_content\">\n",
       "<div class=\"tab_item_name\">SWORD ART ONLINE Alicization Lycoris</div>\n",
       "<div class=\"tab_item_details\">\n",
       "<span class=\"platform_img win\"></span> <div class=\"tab_item_top_tags\"><span class=\"top_tag\">RPG</span><span class=\"top_tag\">, Action</span><span class=\"top_tag\">, Adventure</span><span class=\"top_tag\">, Anime</span></div>\n",
       "</div>\n",
       "</div>\n",
       "<div style=\"clear: both;\"></div>\n",
       "</a>\n",
       "<a class=\"tab_item\" data-ds-appid=\"730\" data-ds-crtrids=\"[4]\" data-ds-descids=\"[2,5]\" data-ds-itemkey=\"App_730\" data-ds-tagids=\"[1663,1774,3859,3878,19,5711,5055]\" href=\"https://store.steampowered.com/app/730/CounterStrike_Global_Offensive/?snr=1_241_4_action_104\" onmouseout=\"HideGameHover( this, event, 'global_hover' )\" onmouseover=\"GameHover( this, event, 'global_hover', {&quot;type&quot;:&quot;app&quot;,&quot;id&quot;:730,&quot;params&quot;:{&quot;bDisableHover&quot;:false},&quot;public&quot;:1,&quot;v6&quot;:1} );\">\n",
       "<div class=\"tab_item_cap\">\n",
       "<img class=\"tab_item_cap_img\" src=\"https://cdn.cloudflare.steamstatic.com/steam/apps/730/capsule_184x69.jpg?t=1592263625\"/>\n",
       "</div>\n",
       "<div class=\"discount_block tab_item_discount no_discount\" data-price-final=\"11600\"><div class=\"discount_prices\"><div class=\"discount_final_price\">Free to Play</div></div></div> <div class=\"tab_item_content\">\n",
       "<div class=\"tab_item_name\">Counter-Strike: Global Offensive</div>\n",
       "<div class=\"tab_item_details\">\n",
       "<span class=\"platform_img win\"></span><span class=\"platform_img mac\"></span><span class=\"platform_img linux\"></span> <div class=\"tab_item_top_tags\"><span class=\"top_tag\">FPS</span><span class=\"top_tag\">, Shooter</span><span class=\"top_tag\">, Multiplayer</span><span class=\"top_tag\">, Competitive</span></div>\n",
       "</div>\n",
       "</div>\n",
       "<div style=\"clear: both;\"></div>\n",
       "</a>\n",
       "<a class=\"tab_item\" data-ds-appid=\"1174180\" data-ds-crtrids=\"[1541443,36291848]\" data-ds-descids=\"[5]\" data-ds-itemkey=\"App_1174180\" data-ds-tagids=\"[21,19,1695,5144,1647,1742,3859]\" href=\"https://store.steampowered.com/app/1174180/Red_Dead_Redemption_2/?snr=1_241_4_action_104\" onmouseout=\"HideGameHover( this, event, 'global_hover' )\" onmouseover=\"GameHover( this, event, 'global_hover', {&quot;type&quot;:&quot;app&quot;,&quot;id&quot;:1174180,&quot;params&quot;:{&quot;bDisableHover&quot;:false},&quot;public&quot;:1,&quot;v6&quot;:1} );\">\n",
       "<div class=\"tab_item_cap\">\n",
       "<img class=\"tab_item_cap_img\" src=\"https://cdn.cloudflare.steamstatic.com/steam/apps/1174180/capsule_184x69.jpg?t=1595367144\"/>\n",
       "</div>\n",
       "<div class=\"discount_block tab_item_discount no_discount\" data-price-final=\"46800\"><div class=\"discount_prices\"><div class=\"discount_final_price\">HK$ 468.00</div></div></div> <div class=\"tab_item_content\">\n",
       "<div class=\"tab_item_name\">Red Dead Redemption 2</div>\n",
       "<div class=\"tab_item_details\">\n",
       "<span class=\"platform_img win\"></span> <div class=\"tab_item_top_tags\"><span class=\"top_tag\">Adventure</span><span class=\"top_tag\">, Action</span><span class=\"top_tag\">, Open World</span><span class=\"top_tag\">, Masterpiece</span></div>\n",
       "</div>\n",
       "</div>\n",
       "<div style=\"clear: both;\"></div>\n",
       "</a>\n",
       "<a class=\"tab_item\" data-ds-appid=\"1085660\" data-ds-itemkey=\"App_1085660\" data-ds-tagids=\"[113,353880,1663,3859,19,3843,21]\" href=\"https://store.steampowered.com/app/1085660/Destiny_2/?snr=1_241_4_action_104\" onmouseout=\"HideGameHover( this, event, 'global_hover' )\" onmouseover=\"GameHover( this, event, 'global_hover', {&quot;type&quot;:&quot;app&quot;,&quot;id&quot;:1085660,&quot;params&quot;:{&quot;bDisableHover&quot;:false},&quot;public&quot;:1,&quot;v6&quot;:1} );\">\n",
       "<div class=\"tab_item_cap\">\n",
       "<img class=\"tab_item_cap_img\" src=\"https://cdn.cloudflare.steamstatic.com/steam/apps/1085660/capsule_184x69.jpg?t=1593047701\"/>\n",
       "</div>\n",
       "<div class=\"discount_block tab_item_discount no_discount\" data-price-final=\"0\"><div class=\"discount_prices\"><div class=\"discount_final_price\">Free To Play</div></div></div> <div class=\"tab_item_content\">\n",
       "<div class=\"tab_item_name\">Destiny 2</div>\n",
       "<div class=\"tab_item_details\">\n",
       "<span class=\"platform_img win\"></span> <div class=\"tab_item_top_tags\"><span class=\"top_tag\">Free to Play</span><span class=\"top_tag\">, Looter Shooter</span><span class=\"top_tag\">, FPS</span><span class=\"top_tag\">, Multiplayer</span></div>\n",
       "</div>\n",
       "</div>\n",
       "<div style=\"clear: both;\"></div>\n",
       "</a>\n",
       "</div>\n",
       "<div class=\"tab_see_more\" style=\"margin-bottom: 5px;\">\n",
       "<div class=\"paged_items_no_results\" id=\"TopSellers_no_results\" style=\"display: none\">\n",
       "\t\t\tNo results found\t\t</div>\n",
       "<div class=\"paged_items_paging\" id=\"TopSellers_ctn\" style=\"\">\n",
       "<div class=\"paged_items_paging_controls\" id=\"TopSellers_controls\">\n",
       "<span class=\"pagebtn\" id=\"TopSellers_btn_prev\">&lt;</span>\n",
       "<span id=\"TopSellers_links\"></span>\n",
       "<span class=\"pagebtn\" id=\"TopSellers_btn_next\">&gt;</span>\n",
       "</div>\n",
       "<div class=\"paged_items_paging_summary ellipsis\">\n",
       "\t\t\t\tShowing <span id=\"TopSellers_start\">1</span>-<span id=\"TopSellers_end\">15</span> of <span id=\"TopSellers_total\">31,032</span> results\t\t\t</div>\n",
       "<div style=\"clear: both;\"></div>\n",
       "</div>\n",
       "</div>\n",
       "<div class=\"tab_see_more\">\n",
       "<a class=\"btnv6_white_transparent btn_small_tall\" href=\"https://store.steampowered.com/search/?filter=topsellers&amp;tags=19&amp;snr=1_241_4_action\">\n",
       "<span>Browse All Top Sellers</span>\n",
       "</a>\n",
       "</div>\n",
       "</div>"
      ]
     },
     "execution_count": 85,
     "metadata": {},
     "output_type": "execute_result"
    }
   ],
   "source": [
    "tag_topSellers = soup.find_all('div', {'id':'TopSellersTable'})[0]\n",
    "tag_topSellers"
   ]
  },
  {
   "cell_type": "code",
   "execution_count": 99,
   "metadata": {
    "scrolled": true
   },
   "outputs": [
    {
     "name": "stdout",
     "output_type": "stream",
     "text": [
      "Monster Hunter World: Iceborne\n",
      "Borderlands 3\n",
      "Monster Hunter: World\n",
      "Sea of Thieves\n",
      "Grand Theft Auto V\n",
      "Granblue Fantasy: Versus\n",
      "Conqueror's Blade\n",
      "Destroy All Humans!\n",
      "Risk of Rain 2\n",
      "Marvel's Avengers\n",
      "Warframe\n",
      "SWORD ART ONLINE Alicization Lycoris\n",
      "Counter-Strike: Global Offensive\n",
      "Red Dead Redemption 2\n",
      "Destiny 2\n"
     ]
    }
   ],
   "source": [
    "#top seller results from page 1 only\n",
    "tag_titles = tag_topSellers.find_all('div',{'class':'tab_item_name'})\n",
    "\n",
    "for title in tag_titles:\n",
    "    print(title.string.strip())"
   ]
  },
  {
   "cell_type": "code",
   "execution_count": 100,
   "metadata": {},
   "outputs": [
    {
     "name": "stdout",
     "output_type": "stream",
     "text": [
      "HK$ 312.00\n",
      "HK$ 234.00\n",
      "HK$ 234.00\n",
      "HK$ 269.00\n",
      "HK$ 124.50\n",
      "HK$ 438.00\n",
      "Free to Play\n",
      "HK$ 229.00\n",
      "HK$ 103.20\n",
      "HK$ 479.00\n",
      "Free to Play\n",
      "HK$ 349.00\n",
      "Free to Play\n",
      "HK$ 468.00\n",
      "Free To Play\n"
     ]
    }
   ],
   "source": [
    "tag_prices = tag_topSellers.find_all('div', {'class':'discount_final_price'})\n",
    "\n",
    "for price in tag_prices:\n",
    "    print(price.string.strip())"
   ]
  },
  {
   "cell_type": "markdown",
   "metadata": {},
   "source": [
    "**`3` Can you get the text from each span tag with class equal to \"top_tag\"?**"
   ]
  },
  {
   "cell_type": "code",
   "execution_count": 109,
   "metadata": {
    "scrolled": false
   },
   "outputs": [
    {
     "name": "stdout",
     "output_type": "stream",
     "text": [
      "{'Third-Person Shooter': 4, 'Action Roguelike': 6, 'Multiplayer': 32, 'Action': 52, 'Shooter': 8, 'FPS': 15, 'First-Person': 2, 'Adventure': 20, 'RPG': 13, 'Female Protagonist': 3, 'Free to Play': 11, 'MMORPG': 2, 'Villain Protagonist': 3, 'Aliens': 2, 'Simulation': 2, 'Comedy': 1, 'Family Friendly': 1, 'Survival': 2, 'Crafting': 1, 'Roguelite': 1, 'Dungeon Crawler': 1, 'Pixel Graphics': 1, 'Masterpiece': 4, 'Singleplayer': 1, 'Story Rich': 2, 'Anime': 3, 'Side Scroller': 1, 'Indie': 3, 'Pirates': 2, 'Star Wars': 1, 'Massively Multiplayer': 2, \"Shoot 'Em Up\": 1, 'Arcade': 1, 'Psychedelic': 1, 'Open World': 11, 'Hunting': 1, 'Looter Shooter': 7, 'Online Co-Op': 2, 'Co-op': 11, 'Automobile Sim': 3, 'Fighting': 3, '2D Fighter': 1, 'Strategy': 4, 'Superhero': 2, 'Competitive': 4, 'Battle Royale': 3, 'Hero Shooter': 4, 'Tactical': 2, 'MOBA': 1, 'Soccer': 1, 'Sports': 2, '2D': 1, 'Horror': 1, 'Survival Horror': 1, 'Heist': 2, 'Utilities': 1, 'Software': 1, 'Mature': 1, 'Design & Illustration': 1, 'Zombies': 2, 'Loot': 1, 'Platformer': 1, 'Dark Humor': 1, 'Puzzle Platformer': 2, 'Third Person': 1, 'Medieval': 1, 'Supernatural': 1, 'Early Access': 1, 'Action RPG': 1, 'Fantasy': 1, 'Metroidvania': 1, 'Cyberpunk': 1, 'Violent': 2, 'Casual': 1, 'Parkour': 1, 'Sexual Content': 1, 'Nudity': 1, 'Rhythm': 1, 'Puzzle': 1, 'Gore': 1}\n"
     ]
    }
   ],
   "source": [
    "tags_topTag = soup.find_all('span', {'class':'top_tag'})\n",
    "\n",
    "topTagDict = {}\n",
    "for topTag in tags_topTag:\n",
    "    entry = topTag.string.replace(', ','') #removing , + ' '\n",
    "    topTagDict[entry] = topTagDict.get(entry, 0) + 1\n",
    "    \n",
    "print(topTagDict)"
   ]
  },
  {
   "cell_type": "markdown",
   "metadata": {},
   "source": [
    "#### `4` Under the \"Narrow by Tag\" section, there are a collection of tags (e.g. \"Indie\", \"Adventure\", etc.). <br>Write code to return these tags.<br>"
   ]
  },
  {
   "cell_type": "code",
   "execution_count": 112,
   "metadata": {
    "scrolled": true
   },
   "outputs": [
    {
     "data": {
      "text/plain": [
       "[<div class=\"tag_count_button\">\n",
       " <span class=\"tag_name\">Indie</span>\n",
       " <span class=\"tag_count tab_filter_control_count\">15,629</span>\n",
       " </div>,\n",
       " <div class=\"tag_count_button\">\n",
       " <span class=\"tag_name\">Adventure</span>\n",
       " <span class=\"tag_count tab_filter_control_count\">9,036</span>\n",
       " </div>,\n",
       " <div class=\"tag_count_button\">\n",
       " <span class=\"tag_name\">Singleplayer</span>\n",
       " <span class=\"tag_count tab_filter_control_count\">6,625</span>\n",
       " </div>,\n",
       " <div class=\"tag_count_button\">\n",
       " <span class=\"tag_name\">Casual</span>\n",
       " <span class=\"tag_count tab_filter_control_count\">6,617</span>\n",
       " </div>,\n",
       " <div class=\"tag_count_button\">\n",
       " <span class=\"tag_name\">RPG</span>\n",
       " <span class=\"tag_count tab_filter_control_count\">3,709</span>\n",
       " </div>,\n",
       " <div class=\"tag_count_button\">\n",
       " <span class=\"tag_name\">Early Access</span>\n",
       " <span class=\"tag_count tab_filter_control_count\">3,439</span>\n",
       " </div>,\n",
       " <div class=\"tag_count_button\">\n",
       " <span class=\"tag_name\">2D</span>\n",
       " <span class=\"tag_count tab_filter_control_count\">3,341</span>\n",
       " </div>,\n",
       " <div class=\"tag_count_button\">\n",
       " <span class=\"tag_name\">Simulation</span>\n",
       " <span class=\"tag_count tab_filter_control_count\">3,212</span>\n",
       " </div>,\n",
       " <div class=\"tag_count_button\">\n",
       " <span class=\"tag_name\">Multiplayer</span>\n",
       " <span class=\"tag_count tab_filter_control_count\">3,169</span>\n",
       " </div>,\n",
       " <div class=\"tag_count_button\">\n",
       " <span class=\"tag_name\">Strategy</span>\n",
       " <span class=\"tag_count tab_filter_control_count\">3,142</span>\n",
       " </div>,\n",
       " <div class=\"tag_count_button\">\n",
       " <span class=\"tag_name\">Shooter</span>\n",
       " <span class=\"tag_count tab_filter_control_count\">2,982</span>\n",
       " </div>,\n",
       " <div class=\"tag_count_button\">\n",
       " <span class=\"tag_name\">Great Soundtrack</span>\n",
       " <span class=\"tag_count tab_filter_control_count\">2,638</span>\n",
       " </div>]"
      ]
     },
     "execution_count": 112,
     "metadata": {},
     "output_type": "execute_result"
    }
   ],
   "source": [
    "tag_collections = soup.find_all('div',{'class':'tag_count_button'})\n",
    "tag_collections"
   ]
  },
  {
   "cell_type": "code",
   "execution_count": 126,
   "metadata": {},
   "outputs": [],
   "source": [
    "collectionList = []\n",
    "\n",
    "for tag in tag_collections:\n",
    "    collectionName = tag.contents[1].string\n",
    "    collectionCount = tag.contents[3].string\n",
    "    \n",
    "    collectionList.append({\n",
    "        'name':collectionName, 'count':collectionCount\n",
    "    })"
   ]
  },
  {
   "cell_type": "code",
   "execution_count": 127,
   "metadata": {},
   "outputs": [
    {
     "name": "stdout",
     "output_type": "stream",
     "text": [
      "[{'name': 'Indie', 'count': '15,629'}, {'name': 'Adventure', 'count': '9,036'}, {'name': 'Singleplayer', 'count': '6,625'}, {'name': 'Casual', 'count': '6,617'}, {'name': 'RPG', 'count': '3,709'}, {'name': 'Early Access', 'count': '3,439'}, {'name': '2D', 'count': '3,341'}, {'name': 'Simulation', 'count': '3,212'}, {'name': 'Multiplayer', 'count': '3,169'}, {'name': 'Strategy', 'count': '3,142'}, {'name': 'Shooter', 'count': '2,982'}, {'name': 'Great Soundtrack', 'count': '2,638'}]\n"
     ]
    }
   ],
   "source": [
    "print(collectionList)"
   ]
  }
 ],
 "metadata": {
  "kernelspec": {
   "display_name": "Python 3",
   "language": "python",
   "name": "python3"
  },
  "language_info": {
   "codemirror_mode": {
    "name": "ipython",
    "version": 3
   },
   "file_extension": ".py",
   "mimetype": "text/x-python",
   "name": "python",
   "nbconvert_exporter": "python",
   "pygments_lexer": "ipython3",
   "version": "3.7.6"
  }
 },
 "nbformat": 4,
 "nbformat_minor": 2
}
