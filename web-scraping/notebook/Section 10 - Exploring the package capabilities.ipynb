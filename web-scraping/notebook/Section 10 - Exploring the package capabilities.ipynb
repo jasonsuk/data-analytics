{
 "cells": [
  {
   "cell_type": "markdown",
   "metadata": {},
   "source": [
    "# Exploring the requests-html capabilities\n",
    "\n",
    "`requests` library and `BeautifulSoup` package are simple and easy to use. \n",
    "<br> However, both have limitation when dealing with big projects or JavaScript websites.\n",
    "\n",
    "Good news is that there are more tools available which are compatible with Python. \n",
    "<br> `requests_html` package is one of them and was created by the author of the 'requests' library."
   ]
  },
  {
   "cell_type": "markdown",
   "metadata": {},
   "source": [
    "### Official documentation of the requests-html package [here](https://requests-html.readthedocs.io/en/latest/)"
   ]
  },
  {
   "cell_type": "markdown",
   "metadata": {},
   "source": [
    "## Initial setup"
   ]
  },
  {
   "cell_type": "code",
   "execution_count": 1,
   "metadata": {},
   "outputs": [],
   "source": [
    "# Loading the necessary packages\n",
    "from requests_html import HTMLSession"
   ]
  },
  {
   "cell_type": "code",
   "execution_count": 2,
   "metadata": {},
   "outputs": [],
   "source": [
    "# establish/open a session\n",
    "session = HTMLSession()"
   ]
  },
  {
   "cell_type": "code",
   "execution_count": 3,
   "metadata": {},
   "outputs": [
    {
     "data": {
      "text/plain": [
       "200"
      ]
     },
     "execution_count": 3,
     "metadata": {},
     "output_type": "execute_result"
    }
   ],
   "source": [
    "# submitting a GET request\n",
    "response = session.get(\"https://en.wikipedia.org/wiki/Association_football\")\n",
    "response.status_code"
   ]
  },
  {
   "cell_type": "code",
   "execution_count": 21,
   "metadata": {},
   "outputs": [
    {
     "name": "stdout",
     "output_type": "stream",
     "text": [
      "<HTML url='https://en.wikipedia.org/wiki/Association_football'>\n"
     ]
    }
   ],
   "source": [
    "# The html response to the GET request is contained in the '.html' method\n",
    "print(response.html)"
   ]
  },
  {
   "cell_type": "markdown",
   "metadata": {},
   "source": [
    "## Links"
   ]
  },
  {
   "cell_type": "code",
   "execution_count": 18,
   "metadata": {
    "scrolled": true
   },
   "outputs": [
    {
     "name": "stdout",
     "output_type": "stream",
     "text": [
      "<class 'set'>\n"
     ]
    }
   ],
   "source": [
    "# We can extract all link addresses directly with '.links'\n",
    "urls = response.html.links\n",
    "\n",
    "# An important thing to note is that these links (given by both methods) are returned in a SET, not a LIST\n",
    "print(type(urls))"
   ]
  },
  {
   "cell_type": "code",
   "execution_count": 19,
   "metadata": {
    "scrolled": true
   },
   "outputs": [
    {
     "data": {
      "text/plain": [
       "['/wiki/Tejo_(sport)',\n",
       " '/wiki/Special:WhatLinksHere/Association_football',\n",
       " '/wiki/File:Football_pitch_metric.svg',\n",
       " '/wiki/1917_in_association_football',\n",
       " '/wiki/Imperial_units',\n",
       " '/wiki/Special:BookSources/1-85613-341-9',\n",
       " '/wiki/Curl_(association_football)',\n",
       " '/wiki/Red_Star_Belgrade',\n",
       " '/wiki/International_rules_football']"
      ]
     },
     "execution_count": 19,
     "metadata": {},
     "output_type": "execute_result"
    }
   ],
   "source": [
    "list(urls)[1:10] #to present in a list"
   ]
  },
  {
   "cell_type": "markdown",
   "metadata": {},
   "source": [
    "#### Note that those are the relative URLs "
   ]
  },
  {
   "cell_type": "code",
   "execution_count": 14,
   "metadata": {
    "scrolled": true
   },
   "outputs": [
    {
     "name": "stdout",
     "output_type": "stream",
     "text": [
      "<class 'set'>\n"
     ]
    }
   ],
   "source": [
    "# To get absolute URLs we can use '.absolute_links' instead of '.links'\n",
    "full_path_urls = response.html.absolute_links"
   ]
  },
  {
   "cell_type": "code",
   "execution_count": 20,
   "metadata": {},
   "outputs": [
    {
     "data": {
      "text/plain": [
       "['https://en.wikibooks.org/wiki/Special:Search/Association_football',\n",
       " 'https://en.wikipedia.org/wiki/Paintball',\n",
       " 'https://en.wikipedia.org/wiki/1906_in_association_football',\n",
       " 'https://en.wikipedia.org/wiki/Basketball',\n",
       " 'https://en.wikipedia.org/wiki/Synchronised_swimming',\n",
       " 'https://en.wikipedia.org/wiki/Parliament',\n",
       " 'https://en.wikipedia.org/wiki/FIFA_Confederations_Cup',\n",
       " 'https://en.wikipedia.org/wiki/1975_in_association_football',\n",
       " 'https://en.wikipedia.org/wiki/Rink_bandy']"
      ]
     },
     "execution_count": 20,
     "metadata": {},
     "output_type": "execute_result"
    }
   ],
   "source": [
    "list(full_path_urls)[1:10] #to present in a list"
   ]
  },
  {
   "cell_type": "markdown",
   "metadata": {},
   "source": [
    "## Searching for elements"
   ]
  },
  {
   "cell_type": "markdown",
   "metadata": {},
   "source": [
    "#### A quick note: requests-html uses CSS selectors for searching\n",
    "\n",
    "[Here](https://www.w3schools.com/cssref/css_selectors.asp) is a more thorough look into it. "
   ]
  },
  {
   "cell_type": "code",
   "execution_count": 22,
   "metadata": {},
   "outputs": [
    {
     "data": {
      "text/plain": [
       "[<Element 'a' href='/wiki/Wikipedia:Featured_articles' title='This is a featured article. Click here for more information.'>,\n",
       " <Element 'a' href='/wiki/Wikipedia:Protection_policy#semi' title='This article is semi-protected.'>,\n",
       " <Element 'a' href='/wiki/File:Football_(soccer)_Part_One.ogg' title='Listen to this article'>,\n",
       " <Element 'a' class=('mw-jump-link',) href='#mw-head'>,\n",
       " <Element 'a' class=('mw-jump-link',) href='#searchInput'>,\n",
       " <Element 'a' href='/wiki/Soccer_(disambiguation)' class=('mw-disambig',) title='Soccer (disambiguation)'>,\n",
       " <Element 'a' href='/wiki/Soccer_Team_(band)' title='Soccer Team (band)'>,\n",
       " <Element 'a' href='/wiki/Football' title='Football'>,\n",
       " <Element 'a' href='/wiki/File:Football_iu_1996.jpg' class=('image',)>]"
      ]
     },
     "execution_count": 22,
     "metadata": {},
     "output_type": "execute_result"
    }
   ],
   "source": [
    "# We can search for elements similarly to Beautiful Soup using the find() method\n",
    "# It behaves as find_all()\n",
    "\n",
    "# find all 'a' tags\n",
    "links = response.html.find(\"a\")\n",
    "links[1:10]"
   ]
  },
  {
   "cell_type": "code",
   "execution_count": 11,
   "metadata": {},
   "outputs": [
    {
     "data": {
      "text/plain": [
       "<Element 'a' class=('mw-jump-link',) href='#mw-head'>"
      ]
     },
     "execution_count": 11,
     "metadata": {},
     "output_type": "execute_result"
    }
   ],
   "source": [
    "links[4]"
   ]
  },
  {
   "cell_type": "code",
   "execution_count": 12,
   "metadata": {},
   "outputs": [
    {
     "data": {
      "text/plain": [
       "'<a class=\"mw-jump-link\" href=\"#mw-head\">Jump to navigation</a>'"
      ]
     },
     "execution_count": 12,
     "metadata": {},
     "output_type": "execute_result"
    }
   ],
   "source": [
    "# To get the raw HTML of an element use the '.html' method\n",
    "links[4].html"
   ]
  },
  {
   "cell_type": "code",
   "execution_count": 13,
   "metadata": {},
   "outputs": [
    {
     "data": {
      "text/plain": [
       "str"
      ]
     },
     "execution_count": 13,
     "metadata": {},
     "output_type": "execute_result"
    }
   ],
   "source": [
    "type(links[4].html)"
   ]
  },
  {
   "cell_type": "code",
   "execution_count": 14,
   "metadata": {},
   "outputs": [
    {
     "data": {
      "text/plain": [
       "'Jump to navigation'"
      ]
     },
     "execution_count": 14,
     "metadata": {},
     "output_type": "execute_result"
    }
   ],
   "source": [
    "# To extract the text inside an element, use \".text\", just like in Beautiful Soup\n",
    "links[4].text"
   ]
  },
  {
   "cell_type": "code",
   "execution_count": 15,
   "metadata": {},
   "outputs": [
    {
     "data": {
      "text/plain": [
       "{'href': '/wiki/UEFA_Champions_League', 'title': 'UEFA Champions League'}"
      ]
     },
     "execution_count": 15,
     "metadata": {},
     "output_type": "execute_result"
    }
   ],
   "source": [
    "# To obtain a dictionary of the element's attributes, use '.attrs' (exactly as in Beautiful Soup)\n",
    "links[10].attrs"
   ]
  },
  {
   "cell_type": "code",
   "execution_count": 24,
   "metadata": {
    "scrolled": true
   },
   "outputs": [
    {
     "data": {
      "text/plain": [
       "[<Element 'a' href='/wiki/Wikipedia:About' title='Wikipedia:About'>,\n",
       " <Element 'a' href='//shop.wikimedia.org' title='Visit the Wikipedia store'>,\n",
       " <Element 'a' href='/wiki/Wikipedia:About' title='Learn about Wikipedia and how it works'>,\n",
       " <Element 'a' href='/wiki/Category:Wikipedia_articles_with_NDL_identifiers' title='Category:Wikipedia articles with NDL identifiers'>,\n",
       " <Element 'a' href='/wiki/Category:Wikipedia_articles_with_NARA_identifiers' title='Category:Wikipedia articles with NARA identifiers'>,\n",
       " <Element 'a' href='/wiki/Category:Wikipedia_articles_with_LCCN_identifiers' title='Category:Wikipedia articles with LCCN identifiers'>,\n",
       " <Element 'a' href='/wiki/Category:Wikipedia_articles_with_HDS_identifiers' title='Category:Wikipedia articles with HDS identifiers'>,\n",
       " <Element 'a' href='/wiki/Category:Wikipedia_articles_with_GND_identifiers' title='Category:Wikipedia articles with GND identifiers'>,\n",
       " <Element 'a' href='/wiki/Category:Wikipedia_articles_with_BNF_identifiers' title='Category:Wikipedia articles with BNF identifiers'>]"
      ]
     },
     "execution_count": 24,
     "metadata": {},
     "output_type": "execute_result"
    }
   ],
   "source": [
    "# This package offers a couple of ways to filter tags based off text\n",
    "\n",
    "# Choose only those tags that contain the string 'wikipedia' in their text (not in the 'href' attribute)\n",
    "# Note: this is not case-sensitive\n",
    "response.html.find(\"a\", containing = \"wikipedia\")[1:10]"
   ]
  },
  {
   "cell_type": "code",
   "execution_count": 25,
   "metadata": {},
   "outputs": [
    {
     "data": {
      "text/plain": [
       "['Contact Wikipedia',\n",
       " 'About Wikipedia',\n",
       " 'Wikipedia store',\n",
       " 'About Wikipedia',\n",
       " 'Wikipedia articles with NDL identifiers',\n",
       " 'Wikipedia articles with NARA identifiers',\n",
       " 'Wikipedia articles with LCCN identifiers',\n",
       " 'Wikipedia articles with HDS identifiers',\n",
       " 'Wikipedia articles with GND identifiers',\n",
       " 'Wikipedia articles with BNF identifiers',\n",
       " 'Wikipedia indefinitely semi-protected pages',\n",
       " 'https://en.wikipedia.org/w/index.php?title=Association_football&oldid=969143348']"
      ]
     },
     "execution_count": 25,
     "metadata": {},
     "output_type": "execute_result"
    }
   ],
   "source": [
    "# display the text of those tags\n",
    "[tag.text for tag in response.html.find(\"a\", containing = \"wikipedia\")]"
   ]
  },
  {
   "cell_type": "code",
   "execution_count": 26,
   "metadata": {},
   "outputs": [
    {
     "data": {
      "text/plain": [
       "<Element 'p' class=('mw-empty-elt',)>"
      ]
     },
     "execution_count": 26,
     "metadata": {},
     "output_type": "execute_result"
    }
   ],
   "source": [
    "# If we wish to find only the first element (similarly to Beautiful Soup .find()) we need to specify the 'first' parameter\n",
    "response.html.find(\"p\", first = True)"
   ]
  },
  {
   "cell_type": "markdown",
   "metadata": {},
   "source": [
    "---\n",
    "## Searching for text"
   ]
  },
  {
   "cell_type": "code",
   "execution_count": 27,
   "metadata": {},
   "outputs": [
    {
     "data": {
      "text/plain": [
       "<Result (' as football field, football ground, ',) {}>"
      ]
     },
     "execution_count": 27,
     "metadata": {},
     "output_type": "execute_result"
    }
   ],
   "source": [
    "response.html.search(\"known{}soccer\")"
   ]
  },
  {
   "cell_type": "code",
   "execution_count": 29,
   "metadata": {},
   "outputs": [
    {
     "data": {
      "text/plain": [
       "'as football field, football ground,'"
      ]
     },
     "execution_count": 29,
     "metadata": {},
     "output_type": "execute_result"
    }
   ],
   "source": [
    "response.html.search(\"known{}soccer\")[0].strip()"
   ]
  },
  {
   "cell_type": "code",
   "execution_count": 36,
   "metadata": {
    "scrolled": false
   },
   "outputs": [
    {
     "data": {
      "text/plain": [
       "<Result (' as the <a href=\"/wiki/Laws_of_the_Game_(association_football)\" title=\"Laws of the Game (association football)\">Laws of the Game</a>. The game is played using a spherical ball of 68–70&#160;cm (27–28&#160;in) circumference,<sup id=\"cite_ref-70\" class=\"reference\"><a href=\"#cite_note-70\">&#91;68&#93;</a></sup> known as the <i><a href=\"/wiki/Ball_(association_football)\" title=\"Ball (association football)\">football</a></i> (or <i>',) {}>"
      ]
     },
     "execution_count": 36,
     "metadata": {},
     "output_type": "execute_result"
    }
   ],
   "source": [
    "response.html.search_all(\"known{}soccer\")[3]"
   ]
  },
  {
   "cell_type": "markdown",
   "metadata": {},
   "source": [
    "---\n",
    "## CSS Selectors"
   ]
  },
  {
   "cell_type": "markdown",
   "metadata": {},
   "source": [
    "[Here](https://www.w3schools.com/cssref/css_selectors.asp) is a more thorough look into it. "
   ]
  },
  {
   "cell_type": "markdown",
   "metadata": {},
   "source": [
    "### Select elements based on tag name"
   ]
  },
  {
   "cell_type": "code",
   "execution_count": 38,
   "metadata": {
    "scrolled": false
   },
   "outputs": [
    {
     "data": {
      "text/plain": [
       "[<Element 'span' id='Etymology'>,\n",
       " <Element 'span' id='Names'>,\n",
       " <Element 'span' class=('toctogglespan',)>,\n",
       " <Element 'span' class=('tocnumber',)>,\n",
       " <Element 'span' class=('toctext',)>,\n",
       " <Element 'span' class=('tocnumber',)>,\n",
       " <Element 'span' class=('toctext',)>,\n",
       " <Element 'span' class=('tocnumber',)>,\n",
       " <Element 'span' class=('toctext',)>,\n",
       " <Element 'span' class=('tocnumber',)>]"
      ]
     },
     "execution_count": 38,
     "metadata": {},
     "output_type": "execute_result"
    }
   ],
   "source": [
    "response.html.find('span')[0:10]"
   ]
  },
  {
   "cell_type": "markdown",
   "metadata": {},
   "source": [
    "### Select elements based on ID"
   ]
  },
  {
   "cell_type": "code",
   "execution_count": 43,
   "metadata": {},
   "outputs": [
    {
     "data": {
      "text/plain": [
       "[<Element 'span' class=('mw-headline',) id='Name'>]"
      ]
     },
     "execution_count": 43,
     "metadata": {},
     "output_type": "execute_result"
    }
   ],
   "source": [
    "response.html.find('#Name')"
   ]
  },
  {
   "cell_type": "code",
   "execution_count": 41,
   "metadata": {},
   "outputs": [
    {
     "data": {
      "text/plain": [
       "[]"
      ]
     },
     "execution_count": 41,
     "metadata": {},
     "output_type": "execute_result"
    }
   ],
   "source": [
    "response.html.find('#name') # case_sensitive"
   ]
  },
  {
   "cell_type": "markdown",
   "metadata": {},
   "source": [
    "### Selecting by class"
   ]
  },
  {
   "cell_type": "code",
   "execution_count": 56,
   "metadata": {},
   "outputs": [
    {
     "data": {
      "text/plain": [
       "[<Element 'span' class=('mw-headline',) id='Name'>,\n",
       " <Element 'span' class=('mw-headline',) id='History'>,\n",
       " <Element 'span' class=('mw-headline',) id=\"Women's_association_football\">,\n",
       " <Element 'span' class=('mw-headline',) id=\"Early_women's_football\">,\n",
       " <Element 'span' class=('mw-headline',) id='20th_and_21st_century'>]"
      ]
     },
     "execution_count": 56,
     "metadata": {},
     "output_type": "execute_result"
    }
   ],
   "source": [
    "response.html.find('.mw-headline')[0:5]"
   ]
  },
  {
   "cell_type": "code",
   "execution_count": 48,
   "metadata": {},
   "outputs": [
    {
     "data": {
      "text/plain": [
       "[<Element 'div' role='navigation' aria-labelledby='sister-projects' class=('metadata', 'plainlinks', 'sistersitebox', 'plainlist', 'mbox-small') style='border:1px solid #aaa; padding:0; background:#f9f9f9;'>]"
      ]
     },
     "execution_count": 48,
     "metadata": {},
     "output_type": "execute_result"
    }
   ],
   "source": [
    "response.html.find('.metadata') "
   ]
  },
  {
   "cell_type": "code",
   "execution_count": 49,
   "metadata": {},
   "outputs": [
    {
     "data": {
      "text/plain": [
       "[<Element 'div' role='navigation' aria-labelledby='sister-projects' class=('metadata', 'plainlinks', 'sistersitebox', 'plainlist', 'mbox-small') style='border:1px solid #aaa; padding:0; background:#f9f9f9;'>]"
      ]
     },
     "execution_count": 49,
     "metadata": {},
     "output_type": "execute_result"
    }
   ],
   "source": [
    "response.html.find('.metadata.plainlinks') #in case that we find more than 1 class"
   ]
  },
  {
   "cell_type": "markdown",
   "metadata": {},
   "source": [
    "### Selecting based on other attributes"
   ]
  },
  {
   "cell_type": "code",
   "execution_count": 51,
   "metadata": {},
   "outputs": [
    {
     "data": {
      "text/plain": [
       "[<Element 'a' href='//upload.wikimedia.org/wikipedia/commons/3/30/O_Jogo_Bonito_%28The_Beautiful_Game%29.webm' title='Play media' target='new'>]"
      ]
     },
     "execution_count": 51,
     "metadata": {},
     "output_type": "execute_result"
    }
   ],
   "source": [
    "response.html.find('[target]')"
   ]
  },
  {
   "cell_type": "code",
   "execution_count": 57,
   "metadata": {},
   "outputs": [
    {
     "data": {
      "text/plain": [
       "[<Element 'div' role='note' class=('hatnote', 'navigation-not-searchable')>,\n",
       " <Element 'div' role='note' class=('hatnote', 'navigation-not-searchable')>,\n",
       " <Element 'div' role='note' class=('hatnote', 'navigation-not-searchable')>,\n",
       " <Element 'div' role='note' class=('hatnote', 'navigation-not-searchable')>]"
      ]
     },
     "execution_count": 57,
     "metadata": {},
     "output_type": "execute_result"
    }
   ],
   "source": [
    "response.html.find('[role=note]')[1:5]"
   ]
  },
  {
   "cell_type": "code",
   "execution_count": 58,
   "metadata": {
    "scrolled": false
   },
   "outputs": [
    {
     "data": {
      "text/plain": [
       "[<Element 'link' rel=('shortcut', 'icon') href='/static/favicon/wikipedia.ico'>,\n",
       " <Element 'link' rel=('EditURI',) type='application/rsd+xml' href='//en.wikipedia.org/w/api.php?action=rsd'>,\n",
       " <Element 'link' rel=('canonical',) href='https://en.wikipedia.org/wiki/Association_football'>,\n",
       " <Element 'a' href='//upload.wikimedia.org/wikipedia/commons/3/30/O_Jogo_Bonito_%28The_Beautiful_Game%29.webm' title='Play media' target='new'>]"
      ]
     },
     "execution_count": 58,
     "metadata": {},
     "output_type": "execute_result"
    }
   ],
   "source": [
    "response.html.find('[href*=wikipedia]')[1:5]"
   ]
  },
  {
   "cell_type": "markdown",
   "metadata": {},
   "source": [
    "### Combining different filters together"
   ]
  },
  {
   "cell_type": "code",
   "execution_count": 60,
   "metadata": {},
   "outputs": [
    {
     "data": {
      "text/plain": [
       "[<Element 'a' class=('external', 'text') href='https://en.wikipedia.org/w/index.php?title=Template:Association_football&action=edit'>,\n",
       " <Element 'a' class=('external', 'text') href='https://en.wikipedia.org/w/index.php?title=Template:International_football&action=edit'>,\n",
       " <Element 'a' class=('external', 'text') href='https://en.wikipedia.org/w/index.php?title=Template:Association_football_laws&action=edit'>,\n",
       " <Element 'a' class=('external', 'text') href='https://en.wikipedia.org/w/index.php?title=Template:Association_football_terminology&action=edit'>]"
      ]
     },
     "execution_count": 60,
     "metadata": {},
     "output_type": "execute_result"
    }
   ],
   "source": [
    "# Searching for a tags with attribute href including wikipedia\n",
    "response.html.find('a[href*=wikipedia]')[1:5]"
   ]
  },
  {
   "cell_type": "code",
   "execution_count": 65,
   "metadata": {},
   "outputs": [
    {
     "data": {
      "text/plain": [
       "[<Element 'a' href='/wiki/File:Mia1997.JPG' class=('internal',) title='Enlarge'>,\n",
       " <Element 'a' href='/wiki/File:Women%27s_football_match_Menai_Bridge_against_Penrhos_(24622680915).jpg' class=('internal',) title='Enlarge'>,\n",
       " <Element 'a' href='/wiki/File:U20-WorldCup2007-Okotie-Onka_edit2.jpg' class=('internal',) title='Enlarge'>,\n",
       " <Element 'a' href='/wiki/File:Slidetackle.JPG' class=('internal',) title='Enlarge'>]"
      ]
     },
     "execution_count": 65,
     "metadata": {},
     "output_type": "execute_result"
    }
   ],
   "source": [
    "# Searching for a tags with class called internal\n",
    "response.html.find('a.internal')[1:5]"
   ]
  },
  {
   "cell_type": "code",
   "execution_count": 69,
   "metadata": {},
   "outputs": [
    {
     "data": {
      "text/plain": [
       "[<Element 'div' class=('thumb', 'tright')>,\n",
       " <Element 'div' class=('thumb', 'tright')>,\n",
       " <Element 'div' class=('thumb', 'tright')>,\n",
       " <Element 'div' class=('thumb', 'tright')>]"
      ]
     },
     "execution_count": 69,
     "metadata": {},
     "output_type": "execute_result"
    }
   ],
   "source": [
    "response.html.find('div.thumb')[1:5]"
   ]
  },
  {
   "cell_type": "code",
   "execution_count": 76,
   "metadata": {},
   "outputs": [
    {
     "name": "stdout",
     "output_type": "stream",
     "text": [
      "<Element 'div' role='note' class=('hatnote', 'navigation-not-searchable')>\n"
     ]
    },
    {
     "data": {
      "text/plain": [
       "[<Element 'div' role='note' class=('hatnote', 'navigation-not-searchable')>,\n",
       " <Element 'div' role='note' class=('hatnote', 'navigation-not-searchable')>,\n",
       " <Element 'div' role='note' class=('hatnote', 'navigation-not-searchable')>,\n",
       " <Element 'div' role='note' class=('hatnote', 'navigation-not-searchable')>]"
      ]
     },
     "execution_count": 76,
     "metadata": {},
     "output_type": "execute_result"
    }
   ],
   "source": [
    "print(response.html.find('div[role=note]')[0])\n",
    "response.html.find('div[role=note][class=\"hatnote navigation-not-searchable\"]')[1:5]"
   ]
  },
  {
   "cell_type": "markdown",
   "metadata": {},
   "source": [
    "Like above, when searching for class together with [attribute] it must contain the full class name. Also, as there is a blank in between, we need quotes(\"\") to enclose."
   ]
  },
  {
   "cell_type": "markdown",
   "metadata": {},
   "source": [
    "### Incorporting tag hierarchy"
   ]
  },
  {
   "cell_type": "code",
   "execution_count": 78,
   "metadata": {},
   "outputs": [
    {
     "data": {
      "text/plain": [
       "[<Element 'span' class=('mw-headline',) id='History'>,\n",
       " <Element 'span' class=('mw-headline',) id='Gameplay'>,\n",
       " <Element 'span' class=('mw-headline',) id='Laws'>,\n",
       " <Element 'span' class=('mw-headline',) id='Governing_bodies'>]"
      ]
     },
     "execution_count": 78,
     "metadata": {},
     "output_type": "execute_result"
    }
   ],
   "source": [
    "response.html.find('h2 span')[1:5] #two tags, span tag inside h2 tag"
   ]
  },
  {
   "cell_type": "code",
   "execution_count": 79,
   "metadata": {},
   "outputs": [
    {
     "data": {
      "text/plain": [
       "[<Element 'p' class=('mw-empty-elt',)>,\n",
       " <Element 'p' >,\n",
       " <Element 'p' >,\n",
       " <Element 'p' >]"
      ]
     },
     "execution_count": 79,
     "metadata": {},
     "output_type": "execute_result"
    }
   ],
   "source": [
    "#search for a direct child of a parent tag\n",
    "response.html.find('div > p')[1:5]"
   ]
  },
  {
   "cell_type": "markdown",
   "metadata": {},
   "source": [
    "After complting the scraping using requests_html package, we must close session/"
   ]
  },
  {
   "cell_type": "code",
   "execution_count": 80,
   "metadata": {},
   "outputs": [],
   "source": [
    "session.close()"
   ]
  }
 ],
 "metadata": {
  "kernelspec": {
   "display_name": "Python 3",
   "language": "python",
   "name": "python3"
  },
  "language_info": {
   "codemirror_mode": {
    "name": "ipython",
    "version": 3
   },
   "file_extension": ".py",
   "mimetype": "text/x-python",
   "name": "python",
   "nbconvert_exporter": "python",
   "pygments_lexer": "ipython3",
   "version": "3.7.6"
  }
 },
 "nbformat": 4,
 "nbformat_minor": 2
}
