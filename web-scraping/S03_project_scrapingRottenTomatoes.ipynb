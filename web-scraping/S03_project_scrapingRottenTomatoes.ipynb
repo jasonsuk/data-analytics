{
 "cells": [
  {
   "cell_type": "markdown",
   "metadata": {},
   "source": [
    "## Practical Excercise - Rotten Tomatoes"
   ]
  },
  {
   "cell_type": "markdown",
   "metadata": {},
   "source": [
    "## Set up"
   ]
  },
  {
   "cell_type": "code",
   "execution_count": 1,
   "metadata": {},
   "outputs": [],
   "source": [
    "import requests\n",
    "from bs4 import BeautifulSoup\n",
    "\n",
    "import pandas as pd # save the extracted file in a dataframe"
   ]
  },
  {
   "cell_type": "code",
   "execution_count": 2,
   "metadata": {},
   "outputs": [],
   "source": [
    "# Define the URL of the site\n",
    "base_site = \"https://editorial.rottentomatoes.com/guide/140-essential-action-movies-to-watch-now/2/\""
   ]
  },
  {
   "cell_type": "code",
   "execution_count": 3,
   "metadata": {},
   "outputs": [
    {
     "name": "stdout",
     "output_type": "stream",
     "text": [
      "200\n"
     ]
    }
   ],
   "source": [
    "response = requests.get(base_site)\n",
    "print(response.status_code)"
   ]
  },
  {
   "cell_type": "code",
   "execution_count": 4,
   "metadata": {},
   "outputs": [],
   "source": [
    "html = response.content"
   ]
  },
  {
   "cell_type": "markdown",
   "metadata": {},
   "source": [
    "## Choosing a parser"
   ]
  },
  {
   "cell_type": "code",
   "execution_count": 5,
   "metadata": {},
   "outputs": [],
   "source": [
    "soup = BeautifulSoup(html, 'html.parser')"
   ]
  },
  {
   "cell_type": "code",
   "execution_count": 6,
   "metadata": {},
   "outputs": [],
   "source": [
    "with open('Rotten_tomatoes_page_2_html_parser.html', 'wb') as file:\n",
    "    file.write(soup.prettify('utf-8'))"
   ]
  },
  {
   "cell_type": "markdown",
   "metadata": {},
   "source": [
    "When inspecting the file we see that HTML element is closed at the begining -- it parsed incorrectly! <br>Let's check another parser."
   ]
  },
  {
   "cell_type": "code",
   "execution_count": 7,
   "metadata": {},
   "outputs": [],
   "source": [
    "soup = BeautifulSoup(html, 'lxml')"
   ]
  },
  {
   "cell_type": "code",
   "execution_count": 8,
   "metadata": {},
   "outputs": [],
   "source": [
    "with open('Rotten_tomatoes_page_2_lxml.parser.html', 'wb') as file:\n",
    "    file.write(soup.prettify('utf-8'))"
   ]
  },
  {
   "cell_type": "markdown",
   "metadata": {},
   "source": [
    "By first accounts of inspecting the file everything seems fine. We can use external HTML validator!"
   ]
  },
  {
   "cell_type": "markdown",
   "metadata": {},
   "source": [
    "#### Learning point: Beautiful Soup ranks the lxml parser as the best one.\n",
    "\n",
    "If a parser is not explicitly stated in the Beautiful Soup constructor, the best one available on the current machine is chosen.\n",
    "<br>This means that the same piece of code can give different results on different computers."
   ]
  },
  {
   "cell_type": "markdown",
   "metadata": {},
   "source": [
    "---\n",
    "## Extracting the title, year and rating of each movie"
   ]
  },
  {
   "cell_type": "code",
   "execution_count": 9,
   "metadata": {},
   "outputs": [],
   "source": [
    "# title and year are all under <h2> tag\n",
    "title_raw = soup.find_all('h2')[0:140] # limisting to 140 movie entries"
   ]
  },
  {
   "cell_type": "code",
   "execution_count": 10,
   "metadata": {},
   "outputs": [
    {
     "data": {
      "text/plain": [
       "<h2><a href=\"https://www.rottentomatoes.com/m/1018009-running_scared/\">Running Scared</a> <span class=\"subtle start-year\">(1986)</span> <span class=\"icon tiny fresh\" title=\"Fresh\"></span> <span class=\"tMeterScore\">60%</span></h2>"
      ]
     },
     "execution_count": 10,
     "metadata": {},
     "output_type": "execute_result"
    }
   ],
   "source": [
    "temp = title_raw[0]\n",
    "temp"
   ]
  },
  {
   "cell_type": "code",
   "execution_count": 11,
   "metadata": {},
   "outputs": [
    {
     "data": {
      "text/plain": [
       "'Running Scared'"
      ]
     },
     "execution_count": 11,
     "metadata": {},
     "output_type": "execute_result"
    }
   ],
   "source": [
    "temp.find('a').text"
   ]
  },
  {
   "cell_type": "code",
   "execution_count": 12,
   "metadata": {
    "scrolled": true
   },
   "outputs": [
    {
     "data": {
      "text/plain": [
       "'1986'"
      ]
     },
     "execution_count": 12,
     "metadata": {},
     "output_type": "execute_result"
    }
   ],
   "source": [
    "temp.find('span', {'class':'subtle start-year'}).text.strip('()')"
   ]
  },
  {
   "cell_type": "code",
   "execution_count": 13,
   "metadata": {
    "scrolled": true
   },
   "outputs": [
    {
     "data": {
      "text/plain": [
       "'60%'"
      ]
     },
     "execution_count": 13,
     "metadata": {},
     "output_type": "execute_result"
    }
   ],
   "source": [
    "temp.find('span', {'class':'tMeterScore'}).text"
   ]
  },
  {
   "cell_type": "code",
   "execution_count": 14,
   "metadata": {},
   "outputs": [],
   "source": [
    "def rt_140_essential_movie_extract(soup):\n",
    "    movie_list = []\n",
    "    movie_raw = soup.find_all('h2')[0:140]\n",
    "    \n",
    "    for data in movie_raw:\n",
    "        title = data.find('a').text\n",
    "        year = data.find('span', {'class':'subtle start-year'}).text.strip('()')\n",
    "        rating = data.find('span', {'class':'tMeterScore'}).text\n",
    "        \n",
    "        movie_list.append({'title': title, 'year': year, 'rating': rating})\n",
    "    \n",
    "    return movie_list\n",
    "    "
   ]
  },
  {
   "cell_type": "code",
   "execution_count": 15,
   "metadata": {},
   "outputs": [
    {
     "data": {
      "text/plain": [
       "[{'title': 'Running Scared', 'year': '1986', 'rating': '60%'},\n",
       " {'title': 'Equilibrium', 'year': '2002', 'rating': '40%'},\n",
       " {'title': 'Hero', 'year': '2004', 'rating': '95%'},\n",
       " {'title': 'Road House', 'year': '1989', 'rating': '39%'},\n",
       " {'title': 'Unstoppable', 'year': '2010', 'rating': '86%'},\n",
       " {'title': 'Shaft', 'year': '1971', 'rating': '88%'},\n",
       " {'title': 'The Villainess (Ak-Nyeo)', 'year': '2017', 'rating': '85%'},\n",
       " {'title': 'Highlander', 'year': '1986', 'rating': '69%'},\n",
       " {'title': 'Die Hard 2', 'year': '1990', 'rating': '68%'},\n",
       " {'title': 'National Treasure', 'year': '2004', 'rating': '46%'},\n",
       " {'title': 'The Protector (Tom yum goong) (Warrior King)',\n",
       "  'year': '2005',\n",
       "  'rating': '53%'},\n",
       " {'title': 'Revenge', 'year': '2018', 'rating': '93%'},\n",
       " {'title': 'El Mariachi', 'year': '1993', 'rating': '93%'},\n",
       " {'title': 'A Touch of Zen', 'year': '1969', 'rating': '96%'},\n",
       " {'title': 'Top Gun', 'year': '1986', 'rating': '54%'},\n",
       " {'title': 'Con Air', 'year': '1997', 'rating': '55%'},\n",
       " {'title': 'The Expendables 2', 'year': '2012', 'rating': '68%'},\n",
       " {'title': 'The Mummy', 'year': '1999', 'rating': '60%'},\n",
       " {'title': 'Mr. & Mrs. Smith', 'year': '2005', 'rating': '60%'},\n",
       " {'title': 'Rush Hour', 'year': '1998', 'rating': '60%'},\n",
       " {'title': 'The Equalizer', 'year': '2014', 'rating': '60%'},\n",
       " {'title': 'Captain America: Civil War', 'year': '2016', 'rating': '91%'},\n",
       " {'title': 'Air Force One', 'year': '1997', 'rating': '76%'},\n",
       " {'title': 'Bloodsport', 'year': '1988', 'rating': '40%'},\n",
       " {'title': 'Blade', 'year': '1998', 'rating': '55%'},\n",
       " {'title': 'Bad Boys', 'year': '1995', 'rating': '43%'},\n",
       " {'title': 'Die Hard: With a Vengeance', 'year': '1995', 'rating': '57%'},\n",
       " {'title': 'The Running Man', 'year': '1987', 'rating': '63%'},\n",
       " {'title': 'Code of Silence', 'year': '1985', 'rating': '63%'},\n",
       " {'title': \"Shoot 'Em Up\", 'year': '2007', 'rating': '67%'},\n",
       " {'title': 'Crank', 'year': '2006', 'rating': '61%'},\n",
       " {'title': 'Machete', 'year': '2010', 'rating': '72%'},\n",
       " {'title': 'Drive', 'year': '2011', 'rating': '92%'},\n",
       " {'title': 'Batman', 'year': '1989', 'rating': '71%'},\n",
       " {'title': 'Under Siege', 'year': '1992', 'rating': '79%'},\n",
       " {'title': 'Independence Day', 'year': '1996', 'rating': '66%'},\n",
       " {'title': 'Bullitt', 'year': '1968', 'rating': '97%'},\n",
       " {'title': 'Wanted', 'year': '2008', 'rating': '71%'},\n",
       " {'title': 'Superman', 'year': '1978', 'rating': '94%'},\n",
       " {'title': 'Ronin', 'year': '1998', 'rating': '67%'},\n",
       " {'title': 'They Live', 'year': '1988', 'rating': '86%'},\n",
       " {'title': 'Cliffhanger', 'year': '1993', 'rating': '68%'},\n",
       " {'title': \"Marvel's The Avengers\", 'year': '2012', 'rating': '92%'},\n",
       " {'title': 'Hot Fuzz', 'year': '2007', 'rating': '91%'},\n",
       " {'title': 'The Warriors', 'year': '1979', 'rating': '89%'},\n",
       " {'title': 'Starship Troopers', 'year': '1997', 'rating': '64%'},\n",
       " {'title': 'Elite Squad: The Enemy Within', 'year': '2011', 'rating': '93%'},\n",
       " {'title': 'Point Break', 'year': '1991', 'rating': '69%'},\n",
       " {'title': 'The Long Kiss Goodnight', 'year': '1996', 'rating': '69%'},\n",
       " {'title': 'The Guest', 'year': '2014', 'rating': '91%'},\n",
       " {'title': 'Taken', 'year': '2009', 'rating': '58%'},\n",
       " {'title': '300', 'year': '2007', 'rating': '61%'},\n",
       " {'title': 'True Lies', 'year': '1994', 'rating': '71%'},\n",
       " {'title': 'Demolition Man', 'year': '1993', 'rating': '60%'},\n",
       " {'title': 'Hardcore Henry', 'year': '2016', 'rating': '51%'},\n",
       " {'title': 'Police Story (Ging chaat goo si) (Police Force)',\n",
       "  'year': '1985',\n",
       "  'rating': '93%'},\n",
       " {'title': 'Brotherhood of the Wolf', 'year': '2001', 'rating': '73%'},\n",
       " {'title': 'Kingsman: The Secret Service', 'year': '2015', 'rating': '75%'},\n",
       " {'title': 'The Fifth Element', 'year': '1997', 'rating': '70%'},\n",
       " {'title': 'Big Trouble in Little China', 'year': '1986', 'rating': '77%'},\n",
       " {'title': 'Atomic Blonde', 'year': '2017', 'rating': '78%'},\n",
       " {'title': 'Rumble in the Bronx', 'year': '1995', 'rating': '80%'},\n",
       " {'title': 'District B13 (Banlieue 13)', 'year': '2006', 'rating': '80%'},\n",
       " {'title': 'Beverly Hills Cop', 'year': '1984', 'rating': '82%'},\n",
       " {'title': 'Ong-Bak (Ong Bak: Muay Thai Warrior)',\n",
       "  'year': '2005',\n",
       "  'rating': '85%'},\n",
       " {'title': 'Collateral', 'year': '2004', 'rating': '86%'},\n",
       " {'title': 'Iron Monkey', 'year': '2001', 'rating': '91%'},\n",
       " {'title': 'Escape from New York', 'year': '1981', 'rating': '86%'},\n",
       " {'title': 'Battle Royale', 'year': '2000', 'rating': '87%'},\n",
       " {'title': 'Spider-Man 2', 'year': '2004', 'rating': '93%'},\n",
       " {'title': '13 Assassins', 'year': '2011', 'rating': '95%'},\n",
       " {'title': 'Full Contact', 'year': '1992', 'rating': '88%'},\n",
       " {'title': 'Indiana Jones and the Last Crusade',\n",
       "  'year': '1989',\n",
       "  'rating': '87%'},\n",
       " {'title': 'Kung Fu Hustle', 'year': '2005', 'rating': '90%'},\n",
       " {'title': 'A Better Tomorrow', 'year': '2010', 'rating': '93%'},\n",
       " {'title': 'Iron Man', 'year': '2008', 'rating': '94%'},\n",
       " {'title': 'The Night Comes For Us', 'year': '2018', 'rating': '90%'},\n",
       " {'title': 'Logan', 'year': '2017', 'rating': '93%'},\n",
       " {'title': 'Goldfinger', 'year': '1964', 'rating': '99%'},\n",
       " {'title': 'Assault on Precinct 13', 'year': '1976', 'rating': '98%'},\n",
       " {'title': 'Wonder Woman', 'year': '2017', 'rating': '93%'},\n",
       " {'title': 'Fist of Fury (Jing wu men)', 'year': '1972', 'rating': '93%'},\n",
       " {'title': 'Captain America: The Winter Soldier',\n",
       "  'year': '2014',\n",
       "  'rating': '90%'},\n",
       " {'title': 'Oldboy', 'year': '2005', 'rating': '82%'},\n",
       " {'title': 'The French Connection', 'year': '1971', 'rating': '98%'},\n",
       " {'title': 'Furious 7', 'year': '2015', 'rating': '82%'},\n",
       " {'title': 'La Femme Nikita (Nikita)', 'year': '1990', 'rating': '88%'},\n",
       " {'title': 'Supercop', 'year': '1996', 'rating': '96%'},\n",
       " {'title': 'Dirty Harry', 'year': '1971', 'rating': '89%'},\n",
       " {'title': 'Live Die Repeat: Edge of Tomorrow',\n",
       "  'year': '2014',\n",
       "  'rating': '91%'},\n",
       " {'title': 'X2: X-Men United', 'year': '2003', 'rating': '85%'},\n",
       " {'title': 'The Fugitive', 'year': '1993', 'rating': '96%'},\n",
       " {'title': 'Black Panther', 'year': '2018', 'rating': '96%'},\n",
       " {'title': 'Inception', 'year': '2010', 'rating': '87%'},\n",
       " {'title': 'Braveheart', 'year': '1995', 'rating': '78%'},\n",
       " {'title': 'Minority Report', 'year': '2002', 'rating': '90%'},\n",
       " {'title': 'Avengers: Endgame', 'year': '2019', 'rating': '94%'},\n",
       " {'title': 'Dredd', 'year': '2012', 'rating': '79%'},\n",
       " {'title': 'The Bourne Identity', 'year': '2002', 'rating': '83%'},\n",
       " {'title': 'Ip Man', 'year': '2010', 'rating': '85%'},\n",
       " {'title': 'Face/Off', 'year': '1997', 'rating': '92%'},\n",
       " {'title': 'To Live and Die in L.A.', 'year': '1985', 'rating': '91%'},\n",
       " {'title': 'The Dark Knight', 'year': '2008', 'rating': '94%'},\n",
       " {'title': 'Mission: Impossible Ghost Protocol',\n",
       "  'year': '2011',\n",
       "  'rating': '94%'},\n",
       " {'title': 'Fast Five', 'year': '2011', 'rating': '77%'},\n",
       " {'title': 'Lethal Weapon', 'year': '1987', 'rating': '80%'},\n",
       " {'title': 'The Rock', 'year': '1996', 'rating': '66%'},\n",
       " {'title': 'RoboCop', 'year': '1987', 'rating': '90%'},\n",
       " {'title': 'John Wick: Chapter 2', 'year': '2017', 'rating': '89%'},\n",
       " {'title': 'Casino Royale', 'year': '2006', 'rating': '95%'},\n",
       " {'title': 'Baby Driver', 'year': '2017', 'rating': '92%'},\n",
       " {'title': 'Fist of Legend (Jing wu ying xiong)',\n",
       "  'year': '1994',\n",
       "  'rating': '100%'},\n",
       " {'title': 'The Killer', 'year': '1989', 'rating': '98%'},\n",
       " {'title': 'The Raid 2', 'year': '2014', 'rating': '81%'},\n",
       " {'title': 'Enter the Dragon', 'year': '1973', 'rating': '94%'},\n",
       " {'title': 'Commando', 'year': '1985', 'rating': '71%'},\n",
       " {'title': 'First Blood', 'year': '1982', 'rating': '85%'},\n",
       " {'title': 'Mission: Impossible Rogue Nation',\n",
       "  'year': '2015',\n",
       "  'rating': '93%'},\n",
       " {'title': 'The Terminator', 'year': '1984', 'rating': '100%'},\n",
       " {'title': 'Gladiator', 'year': '2000', 'rating': '77%'},\n",
       " {'title': 'Kill Bill: Volume 1', 'year': '2003', 'rating': '85%'},\n",
       " {'title': 'Léon: The Professional', 'year': '1994', 'rating': '73%'},\n",
       " {'title': 'Speed', 'year': '1994', 'rating': '94%'},\n",
       " {'title': 'The Legend of Drunken Master (Jui kuen II) (Drunken Fist II)',\n",
       "  'year': '1994',\n",
       "  'rating': '83%'},\n",
       " {'title': 'John Wick', 'year': '2014', 'rating': '87%'},\n",
       " {'title': 'Crouching Tiger, Hidden Dragon', 'year': '2001', 'rating': '97%'},\n",
       " {'title': 'Predator', 'year': '1987', 'rating': '81%'},\n",
       " {'title': 'The Bourne Ultimatum', 'year': '2007', 'rating': '92%'},\n",
       " {'title': 'Total Recall', 'year': '1990', 'rating': '81%'},\n",
       " {'title': 'Mad Max 2: The Road Warrior', 'year': '1982', 'rating': '93%'},\n",
       " {'title': 'Heat', 'year': '1995', 'rating': '87%'},\n",
       " {'title': 'The Raid: Redemption', 'year': '2012', 'rating': '86%'},\n",
       " {'title': 'Mission: Impossible - Fallout', 'year': '2018', 'rating': '97%'},\n",
       " {'title': 'Raiders of the Lost Ark', 'year': '1981', 'rating': '95%'},\n",
       " {'title': 'Aliens', 'year': '1986', 'rating': '97%'},\n",
       " {'title': 'Lat sau san taam (Hard-Boiled)', 'year': '1992', 'rating': '94%'},\n",
       " {'title': 'The Matrix', 'year': '1999', 'rating': '88%'},\n",
       " {'title': 'Terminator 2: Judgment Day', 'year': '1991', 'rating': '93%'},\n",
       " {'title': 'Die Hard', 'year': '1988', 'rating': '93%'},\n",
       " {'title': 'Mad Max: Fury Road', 'year': '2015', 'rating': '97%'}]"
      ]
     },
     "execution_count": 15,
     "metadata": {},
     "output_type": "execute_result"
    }
   ],
   "source": [
    "movies = rt_140_essential_movie_extract(soup)\n",
    "movies"
   ]
  },
  {
   "cell_type": "code",
   "execution_count": 16,
   "metadata": {},
   "outputs": [
    {
     "data": {
      "text/html": [
       "<div>\n",
       "<style scoped>\n",
       "    .dataframe tbody tr th:only-of-type {\n",
       "        vertical-align: middle;\n",
       "    }\n",
       "\n",
       "    .dataframe tbody tr th {\n",
       "        vertical-align: top;\n",
       "    }\n",
       "\n",
       "    .dataframe thead th {\n",
       "        text-align: right;\n",
       "    }\n",
       "</style>\n",
       "<table border=\"1\" class=\"dataframe\">\n",
       "  <thead>\n",
       "    <tr style=\"text-align: right;\">\n",
       "      <th></th>\n",
       "      <th>title</th>\n",
       "      <th>year</th>\n",
       "      <th>rating</th>\n",
       "    </tr>\n",
       "  </thead>\n",
       "  <tbody>\n",
       "    <tr>\n",
       "      <th>0</th>\n",
       "      <td>Running Scared</td>\n",
       "      <td>1986</td>\n",
       "      <td>60%</td>\n",
       "    </tr>\n",
       "    <tr>\n",
       "      <th>1</th>\n",
       "      <td>Equilibrium</td>\n",
       "      <td>2002</td>\n",
       "      <td>40%</td>\n",
       "    </tr>\n",
       "    <tr>\n",
       "      <th>2</th>\n",
       "      <td>Hero</td>\n",
       "      <td>2004</td>\n",
       "      <td>95%</td>\n",
       "    </tr>\n",
       "    <tr>\n",
       "      <th>3</th>\n",
       "      <td>Road House</td>\n",
       "      <td>1989</td>\n",
       "      <td>39%</td>\n",
       "    </tr>\n",
       "    <tr>\n",
       "      <th>4</th>\n",
       "      <td>Unstoppable</td>\n",
       "      <td>2010</td>\n",
       "      <td>86%</td>\n",
       "    </tr>\n",
       "    <tr>\n",
       "      <th>...</th>\n",
       "      <td>...</td>\n",
       "      <td>...</td>\n",
       "      <td>...</td>\n",
       "    </tr>\n",
       "    <tr>\n",
       "      <th>135</th>\n",
       "      <td>Lat sau san taam (Hard-Boiled)</td>\n",
       "      <td>1992</td>\n",
       "      <td>94%</td>\n",
       "    </tr>\n",
       "    <tr>\n",
       "      <th>136</th>\n",
       "      <td>The Matrix</td>\n",
       "      <td>1999</td>\n",
       "      <td>88%</td>\n",
       "    </tr>\n",
       "    <tr>\n",
       "      <th>137</th>\n",
       "      <td>Terminator 2: Judgment Day</td>\n",
       "      <td>1991</td>\n",
       "      <td>93%</td>\n",
       "    </tr>\n",
       "    <tr>\n",
       "      <th>138</th>\n",
       "      <td>Die Hard</td>\n",
       "      <td>1988</td>\n",
       "      <td>93%</td>\n",
       "    </tr>\n",
       "    <tr>\n",
       "      <th>139</th>\n",
       "      <td>Mad Max: Fury Road</td>\n",
       "      <td>2015</td>\n",
       "      <td>97%</td>\n",
       "    </tr>\n",
       "  </tbody>\n",
       "</table>\n",
       "<p>140 rows × 3 columns</p>\n",
       "</div>"
      ],
      "text/plain": [
       "                              title  year rating\n",
       "0                    Running Scared  1986    60%\n",
       "1                       Equilibrium  2002    40%\n",
       "2                              Hero  2004    95%\n",
       "3                        Road House  1989    39%\n",
       "4                       Unstoppable  2010    86%\n",
       "..                              ...   ...    ...\n",
       "135  Lat sau san taam (Hard-Boiled)  1992    94%\n",
       "136                      The Matrix  1999    88%\n",
       "137      Terminator 2: Judgment Day  1991    93%\n",
       "138                        Die Hard  1988    93%\n",
       "139              Mad Max: Fury Road  2015    97%\n",
       "\n",
       "[140 rows x 3 columns]"
      ]
     },
     "execution_count": 16,
     "metadata": {},
     "output_type": "execute_result"
    }
   ],
   "source": [
    "movies = pd.DataFrame(movies)\n",
    "movies # saving it as a dataframe using pandas library"
   ]
  },
  {
   "cell_type": "markdown",
   "metadata": {},
   "source": [
    "## Extracting the rest of the information\n",
    "\n",
    "- Adjusted Scores, hidden in <span></span> tag\n",
    "- Critics Consensus\n",
    "- Synopsis\n",
    "- Starrings\n",
    "- Director"
   ]
  },
  {
   "cell_type": "markdown",
   "metadata": {},
   "source": [
    "The rest of the information are all inside the div tags. Also, we will use title as a unique identifier, so we can merge the rest of the information into the previously extraced data."
   ]
  },
  {
   "cell_type": "markdown",
   "metadata": {},
   "source": [
    "### Individual Scraping\n",
    "Before combining all, let's see how web scraping works for individual information.\n",
    "<br>This is to explore a different way of saving the results."
   ]
  },
  {
   "cell_type": "markdown",
   "metadata": {},
   "source": [
    "#### Another way to extract title: title belongs to h2 tag under 'div' tag"
   ]
  },
  {
   "cell_type": "code",
   "execution_count": 17,
   "metadata": {},
   "outputs": [],
   "source": [
    "title = soup.find_all('h2')[0:140] # making sure getting 140 movies entries"
   ]
  },
  {
   "cell_type": "code",
   "execution_count": 18,
   "metadata": {},
   "outputs": [
    {
     "data": {
      "text/plain": [
       "<h2><a href=\"https://www.rottentomatoes.com/m/1018009-running_scared/\">Running Scared</a> <span class=\"subtle start-year\">(1986)</span> <span class=\"icon tiny fresh\" title=\"Fresh\"></span> <span class=\"tMeterScore\">60%</span></h2>"
      ]
     },
     "execution_count": 18,
     "metadata": {},
     "output_type": "execute_result"
    }
   ],
   "source": [
    "title[0]"
   ]
  },
  {
   "cell_type": "code",
   "execution_count": 19,
   "metadata": {},
   "outputs": [
    {
     "data": {
      "text/plain": [
       "'Running Scared'"
      ]
     },
     "execution_count": 19,
     "metadata": {},
     "output_type": "execute_result"
    }
   ],
   "source": [
    "title[0].find('a').contents[0]"
   ]
  },
  {
   "cell_type": "code",
   "execution_count": 20,
   "metadata": {
    "scrolled": true
   },
   "outputs": [],
   "source": [
    "title_list = []\n",
    "for i in range(len(title)):\n",
    "    try: \n",
    "        data = title[i].find('a').contents[0] # NoneType error \n",
    "    except:\n",
    "        data = title[i] # in case that there is an error in the list\n",
    "    title_list.append(data)"
   ]
  },
  {
   "cell_type": "code",
   "execution_count": 21,
   "metadata": {},
   "outputs": [
    {
     "data": {
      "text/plain": [
       "['Running Scared',\n",
       " 'Equilibrium',\n",
       " 'Hero',\n",
       " 'Road House',\n",
       " 'Unstoppable',\n",
       " 'Shaft',\n",
       " 'The Villainess (Ak-Nyeo)',\n",
       " 'Highlander',\n",
       " 'Die Hard 2',\n",
       " 'National Treasure',\n",
       " 'The Protector (Tom yum goong) (Warrior King)',\n",
       " 'Revenge',\n",
       " 'El Mariachi',\n",
       " 'A Touch of Zen',\n",
       " 'Top Gun',\n",
       " 'Con Air',\n",
       " 'The Expendables 2',\n",
       " 'The Mummy',\n",
       " 'Mr. & Mrs. Smith',\n",
       " 'Rush Hour',\n",
       " 'The Equalizer',\n",
       " 'Captain America: Civil War',\n",
       " 'Air Force One',\n",
       " 'Bloodsport',\n",
       " 'Blade',\n",
       " 'Bad Boys',\n",
       " 'Die Hard: With a Vengeance',\n",
       " 'The Running Man',\n",
       " 'Code of Silence',\n",
       " \"Shoot 'Em Up\",\n",
       " 'Crank',\n",
       " 'Machete',\n",
       " 'Drive',\n",
       " 'Batman',\n",
       " 'Under Siege',\n",
       " 'Independence Day',\n",
       " 'Bullitt',\n",
       " 'Wanted',\n",
       " 'Superman',\n",
       " 'Ronin',\n",
       " 'They Live',\n",
       " 'Cliffhanger',\n",
       " \"Marvel's The Avengers\",\n",
       " 'Hot Fuzz',\n",
       " 'The Warriors',\n",
       " 'Starship Troopers',\n",
       " 'Elite Squad: The Enemy Within',\n",
       " 'Point Break',\n",
       " 'The Long Kiss Goodnight',\n",
       " 'The Guest',\n",
       " 'Taken',\n",
       " '300',\n",
       " 'True Lies',\n",
       " 'Demolition Man',\n",
       " 'Hardcore Henry',\n",
       " 'Police Story (Ging chaat goo si) (Police Force)',\n",
       " 'Brotherhood of the Wolf',\n",
       " 'Kingsman: The Secret Service',\n",
       " 'The Fifth Element',\n",
       " 'Big Trouble in Little China',\n",
       " 'Atomic Blonde',\n",
       " 'Rumble in the Bronx',\n",
       " 'District B13 (Banlieue 13)',\n",
       " 'Beverly Hills Cop',\n",
       " 'Ong-Bak (Ong Bak: Muay Thai Warrior)',\n",
       " 'Collateral',\n",
       " 'Iron Monkey',\n",
       " 'Escape from New York',\n",
       " 'Battle Royale',\n",
       " 'Spider-Man 2',\n",
       " '13 Assassins',\n",
       " 'Full Contact',\n",
       " 'Indiana Jones and the Last Crusade',\n",
       " 'Kung Fu Hustle',\n",
       " 'A Better Tomorrow',\n",
       " 'Iron Man',\n",
       " 'The Night Comes For Us',\n",
       " 'Logan',\n",
       " 'Goldfinger',\n",
       " 'Assault on Precinct 13',\n",
       " 'Wonder Woman',\n",
       " 'Fist of Fury (Jing wu men)',\n",
       " 'Captain America: The Winter Soldier',\n",
       " 'Oldboy',\n",
       " 'The French Connection',\n",
       " 'Furious 7',\n",
       " 'La Femme Nikita (Nikita)',\n",
       " 'Supercop',\n",
       " 'Dirty Harry',\n",
       " 'Live Die Repeat: Edge of Tomorrow',\n",
       " 'X2: X-Men United',\n",
       " 'The Fugitive',\n",
       " 'Black Panther',\n",
       " 'Inception',\n",
       " 'Braveheart',\n",
       " 'Minority Report',\n",
       " 'Avengers: Endgame',\n",
       " 'Dredd',\n",
       " 'The Bourne Identity',\n",
       " 'Ip Man',\n",
       " 'Face/Off',\n",
       " 'To Live and Die in L.A.',\n",
       " 'The Dark Knight',\n",
       " 'Mission: Impossible Ghost Protocol',\n",
       " 'Fast Five',\n",
       " 'Lethal Weapon',\n",
       " 'The Rock',\n",
       " 'RoboCop',\n",
       " 'John Wick: Chapter 2',\n",
       " 'Casino Royale',\n",
       " 'Baby Driver',\n",
       " 'Fist of Legend (Jing wu ying xiong)',\n",
       " 'The Killer',\n",
       " 'The Raid 2',\n",
       " 'Enter the Dragon',\n",
       " 'Commando',\n",
       " 'First Blood',\n",
       " 'Mission: Impossible Rogue Nation',\n",
       " 'The Terminator',\n",
       " 'Gladiator',\n",
       " 'Kill Bill: Volume 1',\n",
       " 'Léon: The Professional',\n",
       " 'Speed',\n",
       " 'The Legend of Drunken Master (Jui kuen II) (Drunken Fist II)',\n",
       " 'John Wick',\n",
       " 'Crouching Tiger, Hidden Dragon',\n",
       " 'Predator',\n",
       " 'The Bourne Ultimatum',\n",
       " 'Total Recall',\n",
       " 'Mad Max 2: The Road Warrior',\n",
       " 'Heat',\n",
       " 'The Raid: Redemption',\n",
       " 'Mission: Impossible - Fallout',\n",
       " 'Raiders of the Lost Ark',\n",
       " 'Aliens',\n",
       " 'Lat sau san taam (Hard-Boiled)',\n",
       " 'The Matrix',\n",
       " 'Terminator 2: Judgment Day',\n",
       " 'Die Hard',\n",
       " 'Mad Max: Fury Road']"
      ]
     },
     "execution_count": 21,
     "metadata": {},
     "output_type": "execute_result"
    }
   ],
   "source": [
    "title_list"
   ]
  },
  {
   "cell_type": "markdown",
   "metadata": {},
   "source": [
    "NoneType error indicates that there is a title with None value."
   ]
  },
  {
   "cell_type": "code",
   "execution_count": 22,
   "metadata": {},
   "outputs": [
    {
     "name": "stdout",
     "output_type": "stream",
     "text": [
      "<h2><a href=\"https://www.rottentomatoes.com/m/1018009-running_scared/\">Running Scared</a> <span class=\"subtle start-year\">(1986)</span> <span class=\"icon tiny fresh\" title=\"Fresh\"></span> <span class=\"tMeterScore\">60%</span></h2>\n",
      "<h2><a href=\"https://www.rottentomatoes.com/m/equilibrium/\">Equilibrium</a> <span class=\"subtle start-year\">(2002)</span> <span class=\"icon tiny rotten\" title=\"Rotten\"></span> <span class=\"tMeterScore\">40%</span></h2>\n",
      "<h2><a href=\"https://www.rottentomatoes.com/m/hero/\">Hero</a> <span class=\"subtle start-year\">(2004)</span> <span class=\"icon tiny certified\" title=\"Certified Fresh\"></span> <span class=\"tMeterScore\">95%</span></h2>\n",
      "<h2><a href=\"https://www.rottentomatoes.com/m/1017666-road_house/\">Road House</a> <span class=\"subtle start-year\">(1989)</span> <span class=\"icon tiny rotten\" title=\"Rotten\"></span> <span class=\"tMeterScore\">39%</span></h2>\n",
      "<h2><a href=\"https://www.rottentomatoes.com/m/unstoppable-2010/\">Unstoppable</a> <span class=\"subtle start-year\">(2010)</span> <span class=\"icon tiny certified\" title=\"Certified Fresh\"></span> <span class=\"tMeterScore\">86%</span></h2>\n",
      "<h2><a href=\"https://www.rottentomatoes.com/m/1018699-shaft/\">Shaft</a> <span class=\"subtle start-year\">(1971)</span> <span class=\"icon tiny certified\" title=\"Certified Fresh\"></span> <span class=\"tMeterScore\">88%</span></h2>\n",
      "<h2><a href=\"https://www.rottentomatoes.com/m/the_villainess/\">The Villainess (Ak-Nyeo)</a> <span class=\"subtle start-year\">(2017)</span> <span class=\"icon tiny certified\" title=\"Certified Fresh\"></span> <span class=\"tMeterScore\">85%</span></h2>\n",
      "<h2><a href=\"https://www.rottentomatoes.com/m/highlander/\">Highlander</a> <span class=\"subtle start-year\">(1986)</span> <span class=\"icon tiny fresh\" title=\"Fresh\"></span> <span class=\"tMeterScore\">69%</span></h2>\n",
      "<h2><a href=\"https://www.rottentomatoes.com/m/die_hard_2_1990/\">Die Hard 2</a> <span class=\"subtle start-year\">(1990)</span> <span class=\"icon tiny fresh\" title=\"Fresh\"></span> <span class=\"tMeterScore\">68%</span></h2>\n",
      "<h2><a href=\"https://www.rottentomatoes.com/m/national_treasure/\">National Treasure</a> <span class=\"subtle start-year\">(2004)</span> <span class=\"icon tiny rotten\" title=\"Rotten\"></span> <span class=\"tMeterScore\">46%</span></h2>\n",
      "<h2><a href=\"https://www.rottentomatoes.com/m/protector/\">The Protector (Tom yum goong) (Warrior King)</a> <span class=\"subtle start-year\">(2005)</span> <span class=\"icon tiny rotten\" title=\"Rotten\"></span> <span class=\"tMeterScore\">53%</span></h2>\n",
      "<h2><a href=\"https://www.rottentomatoes.com/m/revenge_2018/\">Revenge</a> <span class=\"subtle start-year\">(2018)</span> <span class=\"icon tiny certified\" title=\"Certified Fresh\"></span> <span class=\"tMeterScore\">93%</span></h2>\n",
      "<h2><a href=\"https://www.rottentomatoes.com/m/el_mariachi/\">El Mariachi</a> <span class=\"subtle start-year\">(1993)</span> <span class=\"icon tiny fresh\" title=\"Fresh\"></span> <span class=\"tMeterScore\">93%</span></h2>\n",
      "<h2><a href=\"https://www.rottentomatoes.com/m/touch_of_zen/\">A Touch of Zen</a> <span class=\"subtle start-year\">(1969)</span> <span class=\"icon tiny fresh\" title=\"Fresh\"></span> <span class=\"tMeterScore\">96%</span></h2>\n",
      "<h2><a href=\"https://www.rottentomatoes.com/m/top_gun/\">Top Gun</a> <span class=\"subtle start-year\">(1986)</span> <span class=\"icon tiny rotten\" title=\"Rotten\"></span> <span class=\"tMeterScore\">54%</span></h2>\n",
      "<h2><a href=\"https://www.rottentomatoes.com/m/con_air/\">Con Air</a> <span class=\"subtle start-year\">(1997)</span> <span class=\"icon tiny rotten\" title=\"Rotten\"></span> <span class=\"tMeterScore\">55%</span></h2>\n",
      "<h2><a href=\"https://www.rottentomatoes.com/m/the_expendables_2/\">The Expendables 2</a> <span class=\"subtle start-year\">(2012)</span> <span class=\"icon tiny fresh\" title=\"Fresh\"></span> <span class=\"tMeterScore\">68%</span></h2>\n",
      "<h2><a href=\"https://www.rottentomatoes.com/m/1087270-mummy/\">The Mummy</a> <span class=\"subtle start-year\">(1999)</span> <span class=\"icon tiny fresh\" title=\"Fresh\"></span> <span class=\"tMeterScore\">60%</span></h2>\n",
      "<h2><a href=\"https://www.rottentomatoes.com/m/mr_and_mrs_smith/\">Mr. &amp; Mrs. Smith</a> <span class=\"subtle start-year\">(2005)</span> <span class=\"icon tiny fresh\" title=\"Fresh\"></span> <span class=\"tMeterScore\">60%</span></h2>\n",
      "<h2><a href=\"https://www.rottentomatoes.com/m/rush_hour/\">Rush Hour</a> <span class=\"subtle start-year\">(1998)</span> <span class=\"icon tiny fresh\" title=\"Fresh\"></span> <span class=\"tMeterScore\">60%</span></h2>\n",
      "<h2><a href=\"https://www.rottentomatoes.com/m/the_equalizer_2013/\">The Equalizer</a> <span class=\"subtle start-year\">(2014)</span> <span class=\"icon tiny fresh\" title=\"Fresh\"></span> <span class=\"tMeterScore\">60%</span></h2>\n",
      "<h2><a href=\"https://www.rottentomatoes.com/m/captain_america_civil_war/\">Captain America: Civil War</a> <span class=\"subtle start-year\">(2016)</span> <span class=\"icon tiny certified\" title=\"Certified Fresh\"></span> <span class=\"tMeterScore\">91%</span></h2>\n",
      "<h2><a href=\"https://www.rottentomatoes.com/m/air_force_one/\">Air Force One</a> <span class=\"subtle start-year\">(1997)</span> <span class=\"icon tiny certified\" title=\"Certified Fresh\"></span> <span class=\"tMeterScore\">76%</span></h2>\n",
      "<h2><a href=\"https://www.rottentomatoes.com/m/bloodsport/\">Bloodsport</a> <span class=\"subtle start-year\">(1988)</span> <span class=\"icon tiny rotten\" title=\"Rotten\"></span> <span class=\"tMeterScore\">40%</span></h2>\n",
      "<h2><a href=\"https://www.rottentomatoes.com/m/1083484-blade/\">Blade</a> <span class=\"subtle start-year\">(1998)</span> <span class=\"icon tiny rotten\" title=\"Rotten\"></span> <span class=\"tMeterScore\">55%</span></h2>\n",
      "<h2><a href=\"https://www.rottentomatoes.com/m/1062483-bad_boys/\">Bad Boys</a> <span class=\"subtle start-year\">(1995)</span> <span class=\"icon tiny rotten\" title=\"Rotten\"></span> <span class=\"tMeterScore\">43%</span></h2>\n",
      "<h2><a href=\"https://www.rottentomatoes.com/m/die_hard_with_a_vengeance/\">Die Hard: With a Vengeance</a> <span class=\"subtle start-year\">(1995)</span> <span class=\"icon tiny rotten\" title=\"Rotten\"></span> <span class=\"tMeterScore\">57%</span></h2>\n",
      "<h2><a href=\"https://www.rottentomatoes.com/m/running_man/\">The Running Man</a> <span class=\"subtle start-year\">(1987)</span> <span class=\"icon tiny fresh\" title=\"Fresh\"></span> <span class=\"tMeterScore\">63%</span></h2>\n",
      "<h2><a href=\"https://www.rottentomatoes.com/m/code_of_silence/\">Code of Silence</a> <span class=\"subtle start-year\">(1985)</span> <span class=\"icon tiny fresh\" title=\"Fresh\"></span> <span class=\"tMeterScore\">63%</span></h2>\n",
      "<h2><a href=\"https://www.rottentomatoes.com/m/shoot_em_up/\">Shoot 'Em Up</a> <span class=\"subtle start-year\">(2007)</span> <span class=\"icon tiny fresh\" title=\"Fresh\"></span> <span class=\"tMeterScore\">67%</span></h2>\n",
      "<h2><a href=\"https://www.rottentomatoes.com/m/crank/\">Crank</a> <span class=\"subtle start-year\">(2006)</span> <span class=\"icon tiny fresh\" title=\"Fresh\"></span> <span class=\"tMeterScore\">61%</span></h2>\n",
      "<h2><a href=\"https://www.rottentomatoes.com/m/machete/\">Machete</a> <span class=\"subtle start-year\">(2010)</span> <span class=\"icon tiny certified\" title=\"Certified Fresh\"></span> <span class=\"tMeterScore\">72%</span></h2>\n",
      "<h2><a href=\"https://www.rottentomatoes.com/m/drive_2011/\">Drive</a> <span class=\"subtle start-year\">(2011)</span> <span class=\"icon tiny certified\" title=\"Certified Fresh\"></span> <span class=\"tMeterScore\">92%</span></h2>\n",
      "<h2><a href=\"https://www.rottentomatoes.com/m/1001781-batman/\">Batman</a> <span class=\"subtle start-year\">(1989)</span> <span class=\"icon tiny fresh\" title=\"Fresh\"></span> <span class=\"tMeterScore\">71%</span></h2>\n",
      "<h2><a href=\"https://www.rottentomatoes.com/m/under_siege/\">Under Siege</a> <span class=\"subtle start-year\">(1992)</span> <span class=\"icon tiny fresh\" title=\"Fresh\"></span> <span class=\"tMeterScore\">79%</span></h2>\n",
      "<h2><a href=\"https://www.rottentomatoes.com/m/1071806-independence_day/\">Independence Day</a> <span class=\"subtle start-year\">(1996)</span> <span class=\"icon tiny fresh\" title=\"Fresh\"></span> <span class=\"tMeterScore\">66%</span></h2>\n",
      "<h2><a href=\"https://www.rottentomatoes.com/m/bullitt/\">Bullitt</a> <span class=\"subtle start-year\">(1968)</span> <span class=\"icon tiny fresh\" title=\"Fresh\"></span> <span class=\"tMeterScore\">97%</span></h2>\n",
      "<h2><a href=\"https://www.rottentomatoes.com/m/1174279-wanted/\">Wanted</a> <span class=\"subtle start-year\">(2008)</span> <span class=\"icon tiny certified\" title=\"Certified Fresh\"></span> <span class=\"tMeterScore\">71%</span></h2>\n",
      "<h2><a href=\"https://www.rottentomatoes.com/m/superman_the_movie/\">Superman</a> <span class=\"subtle start-year\">(1978)</span> <span class=\"icon tiny certified\" title=\"Certified Fresh\"></span> <span class=\"tMeterScore\">94%</span></h2>\n",
      "<h2><a href=\"https://www.rottentomatoes.com/m/ronin/\">Ronin</a> <span class=\"subtle start-year\">(1998)</span> <span class=\"icon tiny fresh\" title=\"Fresh\"></span> <span class=\"tMeterScore\">67%</span></h2>\n",
      "<h2><a href=\"https://www.rottentomatoes.com/m/they_live/\">They Live</a> <span class=\"subtle start-year\">(1988)</span> <span class=\"icon tiny certified\" title=\"Certified Fresh\"></span> <span class=\"tMeterScore\">86%</span></h2>\n",
      "<h2><a href=\"https://www.rottentomatoes.com/m/1044214-cliffhanger/\">Cliffhanger</a> <span class=\"subtle start-year\">(1993)</span> <span class=\"icon tiny fresh\" title=\"Fresh\"></span> <span class=\"tMeterScore\">68%</span></h2>\n",
      "<h2><a href=\"https://www.rottentomatoes.com/m/marvels_the_avengers/\">Marvel's The Avengers</a> <span class=\"subtle start-year\">(2012)</span> <span class=\"icon tiny certified\" title=\"Certified Fresh\"></span> <span class=\"tMeterScore\">92%</span></h2>\n",
      "<h2><a href=\"https://www.rottentomatoes.com/m/hot_fuzz/\">Hot Fuzz</a> <span class=\"subtle start-year\">(2007)</span> <span class=\"icon tiny certified\" title=\"Certified Fresh\"></span> <span class=\"tMeterScore\">91%</span></h2>\n",
      "<h2><a href=\"https://www.rottentomatoes.com/m/1023205-warriors/\">The Warriors</a> <span class=\"subtle start-year\">(1979)</span> <span class=\"icon tiny fresh\" title=\"Fresh\"></span> <span class=\"tMeterScore\">89%</span></h2>\n",
      "<h2><a href=\"https://www.rottentomatoes.com/m/starship_troopers/\">Starship Troopers</a> <span class=\"subtle start-year\">(1997)</span> <span class=\"icon tiny fresh\" title=\"Fresh\"></span> <span class=\"tMeterScore\">64%</span></h2>\n",
      "<h2><a href=\"https://www.rottentomatoes.com/m/elite_squad_the_enemy_within/\">Elite Squad: The Enemy Within</a> <span class=\"subtle start-year\">(2011)</span> <span class=\"icon tiny certified\" title=\"Certified Fresh\"></span> <span class=\"tMeterScore\">93%</span></h2>\n",
      "<h2><a href=\"https://www.rottentomatoes.com/m/point_break/\">Point Break</a> <span class=\"subtle start-year\">(1991)</span> <span class=\"icon tiny fresh\" title=\"Fresh\"></span> <span class=\"tMeterScore\">69%</span></h2>\n",
      "<h2><a href=\"https://www.rottentomatoes.com/m/long_kiss_goodnight/\">The Long Kiss Goodnight</a> <span class=\"subtle start-year\">(1996)</span> <span class=\"icon tiny fresh\" title=\"Fresh\"></span> <span class=\"tMeterScore\">69%</span></h2>\n",
      "<h2><a href=\"https://www.rottentomatoes.com/m/the_guest_2014/\">The Guest</a> <span class=\"subtle start-year\">(2014)</span> <span class=\"icon tiny certified\" title=\"Certified Fresh\"></span> <span class=\"tMeterScore\">91%</span></h2>\n",
      "<h2><a href=\"https://www.rottentomatoes.com/m/taken/\">Taken</a> <span class=\"subtle start-year\">(2009)</span> <span class=\"icon tiny rotten\" title=\"Rotten\"></span> <span class=\"tMeterScore\">58%</span></h2>\n",
      "<h2><a href=\"https://www.rottentomatoes.com/m/300/\">300</a> <span class=\"subtle start-year\">(2007)</span> <span class=\"icon tiny fresh\" title=\"Fresh\"></span> <span class=\"tMeterScore\">61%</span></h2>\n",
      "<h2><a href=\"https://www.rottentomatoes.com/m/true_lies/\">True Lies</a> <span class=\"subtle start-year\">(1994)</span> <span class=\"icon tiny fresh\" title=\"Fresh\"></span> <span class=\"tMeterScore\">71%</span></h2>\n",
      "<h2><a href=\"https://www.rottentomatoes.com/m/demolition_man/\">Demolition Man</a> <span class=\"subtle start-year\">(1993)</span> <span class=\"icon tiny fresh\" title=\"Fresh\"></span> <span class=\"tMeterScore\">60%</span></h2>\n",
      "<h2><a href=\"https://www.rottentomatoes.com/m/hardcore_henry/\">Hardcore Henry</a> <span class=\"subtle start-year\">(2016)</span> <span class=\"icon tiny rotten\" title=\"Rotten\"></span> <span class=\"tMeterScore\">51%</span></h2>\n",
      "<h2><a href=\"https://www.rottentomatoes.com/m/police_story/\">Police Story (Ging chaat goo si) (Police Force)</a> <span class=\"subtle start-year\">(1985)</span> <span class=\"icon tiny fresh\" title=\"Fresh\"></span> <span class=\"tMeterScore\">93%</span></h2>\n",
      "<h2><a href=\"https://www.rottentomatoes.com/m/brotherhood_of_the_wolf/\">Brotherhood of the Wolf</a> <span class=\"subtle start-year\">(2001)</span> <span class=\"icon tiny fresh\" title=\"Fresh\"></span> <span class=\"tMeterScore\">73%</span></h2>\n",
      "<h2><a href=\"https://www.rottentomatoes.com/m/kingsman_the_secret_service/\">Kingsman: The Secret Service</a> <span class=\"subtle start-year\">(2015)</span> <span class=\"icon tiny certified\" title=\"Certified Fresh\"></span> <span class=\"tMeterScore\">75%</span></h2>\n",
      "<h2><a href=\"https://www.rottentomatoes.com/m/fifth_element/\">The Fifth Element</a> <span class=\"subtle start-year\">(1997)</span> <span class=\"icon tiny fresh\" title=\"Fresh\"></span> <span class=\"tMeterScore\">70%</span></h2>\n",
      "<h2><a href=\"https://www.rottentomatoes.com/m/big_trouble_in_little_china/\">Big Trouble in Little China</a> <span class=\"subtle start-year\">(1986)</span> <span class=\"icon tiny fresh\" title=\"Fresh\"></span> <span class=\"tMeterScore\">77%</span></h2>\n",
      "<h2><a href=\"https://www.rottentomatoes.com/m/atomic_blonde_2017/\">Atomic Blonde</a> <span class=\"subtle start-year\">(2017)</span> <span class=\"icon tiny certified\" title=\"Certified Fresh\"></span> <span class=\"tMeterScore\">78%</span></h2>\n",
      "<h2><a href=\"https://www.rottentomatoes.com/m/rumble_in_the_bronx/\">Rumble in the Bronx</a> <span class=\"subtle start-year\">(1995)</span> <span class=\"icon tiny certified\" title=\"Certified Fresh\"></span> <span class=\"tMeterScore\">80%</span></h2>\n",
      "<h2><a href=\"https://www.rottentomatoes.com/m/district_b13/\">District B13 (Banlieue 13)</a> <span class=\"subtle start-year\">(2006)</span> <span class=\"icon tiny certified\" title=\"Certified Fresh\"></span> <span class=\"tMeterScore\">80%</span></h2>\n",
      "<h2><a href=\"https://www.rottentomatoes.com/m/beverly_hills_cop/\">Beverly Hills Cop</a> <span class=\"subtle start-year\">(1984)</span> <span class=\"icon tiny certified\" title=\"Certified Fresh\"></span> <span class=\"tMeterScore\">82%</span></h2>\n",
      "<h2><a href=\"https://www.rottentomatoes.com/m/ongbak/\">Ong-Bak (Ong Bak: Muay Thai Warrior)</a> <span class=\"subtle start-year\">(2005)</span> <span class=\"icon tiny certified\" title=\"Certified Fresh\"></span> <span class=\"tMeterScore\">85%</span></h2>\n",
      "<h2><a href=\"https://www.rottentomatoes.com/m/collateral/\">Collateral</a> <span class=\"subtle start-year\">(2004)</span> <span class=\"icon tiny certified\" title=\"Certified Fresh\"></span> <span class=\"tMeterScore\">86%</span></h2>\n",
      "<h2><a href=\"https://www.rottentomatoes.com/m/1075984-iron_monkey/\">Iron Monkey</a> <span class=\"subtle start-year\">(2001)</span> <span class=\"icon tiny certified\" title=\"Certified Fresh\"></span> <span class=\"tMeterScore\">91%</span></h2>\n",
      "<h2><a href=\"https://www.rottentomatoes.com/m/1006717-escape_from_new_york/\">Escape from New York</a> <span class=\"subtle start-year\">(1981)</span> <span class=\"icon tiny certified\" title=\"Certified Fresh\"></span> <span class=\"tMeterScore\">86%</span></h2>\n",
      "<h2><a href=\"https://www.rottentomatoes.com/m/battle_royale/\">Battle Royale</a> <span class=\"subtle start-year\">(2000)</span> <span class=\"icon tiny certified\" title=\"Certified Fresh\"></span> <span class=\"tMeterScore\">87%</span></h2>\n",
      "<h2><a href=\"https://www.rottentomatoes.com/m/spiderman_2/\">Spider-Man 2</a> <span class=\"subtle start-year\">(2004)</span> <span class=\"icon tiny certified\" title=\"Certified Fresh\"></span> <span class=\"tMeterScore\">93%</span></h2>\n",
      "<h2><a href=\"https://www.rottentomatoes.com/m/13_assassins_2011/\">13 Assassins</a> <span class=\"subtle start-year\">(2011)</span> <span class=\"icon tiny certified\" title=\"Certified Fresh\"></span> <span class=\"tMeterScore\">95%</span></h2>\n",
      "<h2><a href=\"https://www.rottentomatoes.com/m/full_contact/\">Full Contact</a> <span class=\"subtle start-year\">(1992)</span> <span class=\"icon tiny fresh\" title=\"Fresh\"></span> <span class=\"tMeterScore\">88%</span></h2>\n",
      "<h2><a href=\"https://www.rottentomatoes.com/m/indiana_jones_and_the_last_crusade/\">Indiana Jones and the Last Crusade</a> <span class=\"subtle start-year\">(1989)</span> <span class=\"icon tiny certified\" title=\"Certified Fresh\"></span> <span class=\"tMeterScore\">87%</span></h2>\n",
      "<h2><a href=\"https://www.rottentomatoes.com/m/kung_fu_hustle/\">Kung Fu Hustle</a> <span class=\"subtle start-year\">(2005)</span> <span class=\"icon tiny certified\" title=\"Certified Fresh\"></span> <span class=\"tMeterScore\">90%</span></h2>\n",
      "<h2><a href=\"https://www.rottentomatoes.com/m/better_tomorrow/\">A Better Tomorrow</a> <span class=\"subtle start-year\">(2010)</span> <span class=\"icon tiny fresh\" title=\"Fresh\"></span> <span class=\"tMeterScore\">93%</span></h2>\n",
      "<h2><a href=\"https://www.rottentomatoes.com/m/iron_man/\">Iron Man</a> <span class=\"subtle start-year\">(2008)</span> <span class=\"icon tiny certified\" title=\"Certified Fresh\"></span> <span class=\"tMeterScore\">94%</span></h2>\n",
      "<h2><a href=\"https://www.rottentomatoes.com/m/the_night_comes_for_us/\">The Night Comes For Us</a> <span class=\"subtle start-year\">(2018)</span> <span class=\"icon tiny fresh\" title=\"Fresh\"></span> <span class=\"tMeterScore\">90%</span></h2>\n",
      "<h2><a href=\"https://www.rottentomatoes.com/m/logan_2017/\">Logan</a> <span class=\"subtle start-year\">(2017)</span> <span class=\"icon tiny certified\" title=\"Certified Fresh\"></span> <span class=\"tMeterScore\">93%</span></h2>\n",
      "<h2><a href=\"https://www.rottentomatoes.com/m/goldfinger/\">Goldfinger</a> <span class=\"subtle start-year\">(1964)</span> <span class=\"icon tiny certified\" title=\"Certified Fresh\"></span> <span class=\"tMeterScore\">99%</span></h2>\n",
      "<h2><a href=\"https://www.rottentomatoes.com/m/1001280-assault_on_precinct_13/\">Assault on Precinct 13</a> <span class=\"subtle start-year\">(1976)</span> <span class=\"icon tiny certified\" title=\"Certified Fresh\"></span> <span class=\"tMeterScore\">98%</span></h2>\n",
      "<h2><a href=\"https://www.rottentomatoes.com/m/wonder_woman_2017/\">Wonder Woman</a> <span class=\"subtle start-year\">(2017)</span> <span class=\"icon tiny certified\" title=\"Certified Fresh\"></span> <span class=\"tMeterScore\">93%</span></h2>\n",
      "<h2><a href=\"https://www.rottentomatoes.com/m/chinese_connection/\">Fist of Fury (Jing wu men)</a> <span class=\"subtle start-year\">(1972)</span> <span class=\"icon tiny fresh\" title=\"Fresh\"></span> <span class=\"tMeterScore\">93%</span></h2>\n",
      "<h2><a href=\"https://www.rottentomatoes.com/m/captain_america_the_winter_soldier_2014/\">Captain America: The Winter Soldier</a> <span class=\"subtle start-year\">(2014)</span> <span class=\"icon tiny certified\" title=\"Certified Fresh\"></span> <span class=\"tMeterScore\">90%</span></h2>\n",
      "<h2><a href=\"https://www.rottentomatoes.com/m/oldboy/\">Oldboy</a> <span class=\"subtle start-year\">(2005)</span> <span class=\"icon tiny certified\" title=\"Certified Fresh\"></span> <span class=\"tMeterScore\">82%</span></h2>\n",
      "<h2><a href=\"https://www.rottentomatoes.com/m/french_connection/\">The French Connection</a> <span class=\"subtle start-year\">(1971)</span> <span class=\"icon tiny certified\" title=\"Certified Fresh\"></span> <span class=\"tMeterScore\">98%</span></h2>\n",
      "<h2><a href=\"https://www.rottentomatoes.com/m/furious_7/\">Furious 7</a> <span class=\"subtle start-year\">(2015)</span> <span class=\"icon tiny certified\" title=\"Certified Fresh\"></span> <span class=\"tMeterScore\">82%</span></h2>\n",
      "<h2><a href=\"https://www.rottentomatoes.com/m/la_femme_nikita/\">La Femme Nikita (Nikita)</a> <span class=\"subtle start-year\">(1990)</span> <span class=\"icon tiny certified\" title=\"Certified Fresh\"></span> <span class=\"tMeterScore\">88%</span></h2>\n",
      "<h2><a href=\"https://www.rottentomatoes.com/m/supercop/\">Supercop</a> <span class=\"subtle start-year\">(1996)</span> <span class=\"icon tiny certified\" title=\"Certified Fresh\"></span> <span class=\"tMeterScore\">96%</span></h2>\n",
      "<h2><a href=\"https://www.rottentomatoes.com/m/dirty_harry/\">Dirty Harry</a> <span class=\"subtle start-year\">(1971)</span> <span class=\"icon tiny certified\" title=\"Certified Fresh\"></span> <span class=\"tMeterScore\">89%</span></h2>\n",
      "<h2><a href=\"https://www.rottentomatoes.com/m/live_die_repeat_edge_of_tomorrow/\">Live Die Repeat: Edge of Tomorrow</a> <span class=\"subtle start-year\">(2014)</span> <span class=\"icon tiny certified\" title=\"Certified Fresh\"></span> <span class=\"tMeterScore\">91%</span></h2>\n",
      "<h2><a href=\"https://www.rottentomatoes.com/m/x2_xmen_united/\">X2: X-Men United</a> <span class=\"subtle start-year\">(2003)</span> <span class=\"icon tiny certified\" title=\"Certified Fresh\"></span> <span class=\"tMeterScore\">85%</span></h2>\n",
      "<h2><a href=\"https://www.rottentomatoes.com/m/1046129-fugitive/\">The Fugitive</a> <span class=\"subtle start-year\">(1993)</span> <span class=\"icon tiny certified\" title=\"Certified Fresh\"></span> <span class=\"tMeterScore\">96%</span></h2>\n",
      "<h2><a href=\"https://www.rottentomatoes.com/m/black_panther_2018/\">Black Panther</a> <span class=\"subtle start-year\">(2018)</span> <span class=\"icon tiny certified\" title=\"Certified Fresh\"></span> <span class=\"tMeterScore\">96%</span></h2>\n",
      "<h2><a href=\"https://www.rottentomatoes.com/m/inception/\">Inception</a> <span class=\"subtle start-year\">(2010)</span> <span class=\"icon tiny certified\" title=\"Certified Fresh\"></span> <span class=\"tMeterScore\">87%</span></h2>\n",
      "<h2><a href=\"https://www.rottentomatoes.com/m/1065684-braveheart/\">Braveheart</a> <span class=\"subtle start-year\">(1995)</span> <span class=\"icon tiny certified\" title=\"Certified Fresh\"></span> <span class=\"tMeterScore\">78%</span></h2>\n",
      "<h2><a href=\"https://www.rottentomatoes.com/m/minority_report/\">Minority Report</a> <span class=\"subtle start-year\">(2002)</span> <span class=\"icon tiny certified\" title=\"Certified Fresh\"></span> <span class=\"tMeterScore\">90%</span></h2>\n",
      "<h2><a href=\"https://www.rottentomatoes.com/m/avengers_endgame/\">Avengers: Endgame</a> <span class=\"subtle start-year\">(2019)</span> <span class=\"icon tiny certified\" title=\"Certified Fresh\"></span> <span class=\"tMeterScore\">94%</span></h2>\n",
      "<h2><a href=\"https://www.rottentomatoes.com/m/dredd/\">Dredd</a> <span class=\"subtle start-year\">(2012)</span> <span class=\"icon tiny certified\" title=\"Certified Fresh\"></span> <span class=\"tMeterScore\">79%</span></h2>\n",
      "<h2><a href=\"https://www.rottentomatoes.com/m/bourne_identity/\">The Bourne Identity</a> <span class=\"subtle start-year\">(2002)</span> <span class=\"icon tiny certified\" title=\"Certified Fresh\"></span> <span class=\"tMeterScore\">83%</span></h2>\n",
      "<h2><a href=\"https://www.rottentomatoes.com/m/ip_man/\">Ip Man</a> <span class=\"subtle start-year\">(2010)</span> <span class=\"icon tiny fresh\" title=\"Fresh\"></span> <span class=\"tMeterScore\">85%</span></h2>\n",
      "<h2><a href=\"https://www.rottentomatoes.com/m/faceoff/\">Face/Off</a> <span class=\"subtle start-year\">(1997)</span> <span class=\"icon tiny certified\" title=\"Certified Fresh\"></span> <span class=\"tMeterScore\">92%</span></h2>\n",
      "<h2><a href=\"https://www.rottentomatoes.com/m/to_live_and_die_in_la/\">To Live and Die in L.A.</a> <span class=\"subtle start-year\">(1985)</span> <span class=\"icon tiny fresh\" title=\"Fresh\"></span> <span class=\"tMeterScore\">91%</span></h2>\n",
      "<h2><a href=\"https://www.rottentomatoes.com/m/the_dark_knight/\">The Dark Knight</a> <span class=\"subtle start-year\">(2008)</span> <span class=\"icon tiny certified\" title=\"Certified Fresh\"></span> <span class=\"tMeterScore\">94%</span></h2>\n",
      "<h2><a href=\"https://www.rottentomatoes.com/m/mission_impossible_ghost_protocol/\">Mission: Impossible Ghost Protocol</a> <span class=\"subtle start-year\">(2011)</span> <span class=\"icon tiny certified\" title=\"Certified Fresh\"></span> <span class=\"tMeterScore\">94%</span></h2>\n",
      "<h2><a href=\"https://www.rottentomatoes.com/m/fast_five/\">Fast Five</a> <span class=\"subtle start-year\">(2011)</span> <span class=\"icon tiny certified\" title=\"Certified Fresh\"></span> <span class=\"tMeterScore\">77%</span></h2>\n",
      "<h2><a href=\"https://www.rottentomatoes.com/m/lethal_weapon/\">Lethal Weapon</a> <span class=\"subtle start-year\">(1987)</span> <span class=\"icon tiny certified\" title=\"Certified Fresh\"></span> <span class=\"tMeterScore\">80%</span></h2>\n",
      "<h2><a href=\"https://www.rottentomatoes.com/m/1072011-rock/\">The Rock</a> <span class=\"subtle start-year\">(1996)</span> <span class=\"icon tiny fresh\" title=\"Fresh\"></span> <span class=\"tMeterScore\">66%</span></h2>\n",
      "<h2><a href=\"https://www.rottentomatoes.com/m/1017712-robocop/\">RoboCop</a> <span class=\"subtle start-year\">(1987)</span> <span class=\"icon tiny certified\" title=\"Certified Fresh\"></span> <span class=\"tMeterScore\">90%</span></h2>\n",
      "<h2><a href=\"https://www.rottentomatoes.com/m/john_wick_chapter_2/\">John Wick: Chapter 2</a> <span class=\"subtle start-year\">(2017)</span> <span class=\"icon tiny certified\" title=\"Certified Fresh\"></span> <span class=\"tMeterScore\">89%</span></h2>\n",
      "<h2><a href=\"https://www.rottentomatoes.com/m/casino_royale/\">Casino Royale</a> <span class=\"subtle start-year\">(2006)</span> <span class=\"icon tiny certified\" title=\"Certified Fresh\"></span> <span class=\"tMeterScore\">95%</span></h2>\n",
      "<h2><a href=\"https://www.rottentomatoes.com/m/baby_driver/\">Baby Driver</a> <span class=\"subtle start-year\">(2017)</span> <span class=\"icon tiny certified\" title=\"Certified Fresh\"></span> <span class=\"tMeterScore\">92%</span></h2>\n",
      "<h2><a href=\"https://www.rottentomatoes.com/m/fist_of_legend/\">Fist of Legend (Jing wu ying xiong)</a> <span class=\"subtle start-year\">(1994)</span> <span class=\"icon tiny fresh\" title=\"Fresh\"></span> <span class=\"tMeterScore\">100%</span></h2>\n",
      "<h2><a href=\"https://www.rottentomatoes.com/m/1032434-killer/\">The Killer</a> <span class=\"subtle start-year\">(1989)</span> <span class=\"icon tiny certified\" title=\"Certified Fresh\"></span> <span class=\"tMeterScore\">98%</span></h2>\n",
      "<h2><a href=\"https://www.rottentomatoes.com/m/the_raid_2/\">The Raid 2</a> <span class=\"subtle start-year\">(2014)</span> <span class=\"icon tiny certified\" title=\"Certified Fresh\"></span> <span class=\"tMeterScore\">81%</span></h2>\n",
      "<h2><a href=\"https://www.rottentomatoes.com/m/enter_the_dragon/\">Enter the Dragon</a> <span class=\"subtle start-year\">(1973)</span> <span class=\"icon tiny certified\" title=\"Certified Fresh\"></span> <span class=\"tMeterScore\">94%</span></h2>\n",
      "<h2><a href=\"https://www.rottentomatoes.com/m/1004567-commando/\">Commando</a> <span class=\"subtle start-year\">(1985)</span> <span class=\"icon tiny fresh\" title=\"Fresh\"></span> <span class=\"tMeterScore\">71%</span></h2>\n",
      "<h2><a href=\"https://www.rottentomatoes.com/m/first_blood/\">First Blood</a> <span class=\"subtle start-year\">(1982)</span> <span class=\"icon tiny certified\" title=\"Certified Fresh\"></span> <span class=\"tMeterScore\">85%</span></h2>\n",
      "<h2><a href=\"https://www.rottentomatoes.com/m/mission_impossible_rogue_nation/\">Mission: Impossible Rogue Nation</a> <span class=\"subtle start-year\">(2015)</span> <span class=\"icon tiny certified\" title=\"Certified Fresh\"></span> <span class=\"tMeterScore\">93%</span></h2>\n",
      "<h2><a href=\"https://www.rottentomatoes.com/m/terminator/\">The Terminator</a> <span class=\"subtle start-year\">(1984)</span> <span class=\"icon tiny certified\" title=\"Certified Fresh\"></span> <span class=\"tMeterScore\">100%</span></h2>\n",
      "<h2><a href=\"https://www.rottentomatoes.com/m/gladiator/\">Gladiator</a> <span class=\"subtle start-year\">(2000)</span> <span class=\"icon tiny certified\" title=\"Certified Fresh\"></span> <span class=\"tMeterScore\">77%</span></h2>\n",
      "<h2><a href=\"https://www.rottentomatoes.com/m/kill_bill_vol_1/\">Kill Bill: Volume 1</a> <span class=\"subtle start-year\">(2003)</span> <span class=\"icon tiny certified\" title=\"Certified Fresh\"></span> <span class=\"tMeterScore\">85%</span></h2>\n",
      "<h2><a href=\"https://www.rottentomatoes.com/m/leon_the_professional/\">Léon: The Professional</a> <span class=\"subtle start-year\">(1994)</span> <span class=\"icon tiny certified\" title=\"Certified Fresh\"></span> <span class=\"tMeterScore\">73%</span></h2>\n",
      "<h2><a href=\"https://www.rottentomatoes.com/m/speed_1994/\">Speed</a> <span class=\"subtle start-year\">(1994)</span> <span class=\"icon tiny certified\" title=\"Certified Fresh\"></span> <span class=\"tMeterScore\">94%</span></h2>\n",
      "<h2><a href=\"https://www.rottentomatoes.com/m/legend_of_drunken_master/\">The Legend of Drunken Master (Jui kuen II) (Drunken Fist II)</a> <span class=\"subtle start-year\">(1994)</span> <span class=\"icon tiny certified\" title=\"Certified Fresh\"></span> <span class=\"tMeterScore\">83%</span></h2>\n",
      "<h2><a href=\"https://www.rottentomatoes.com/m/john_wick/\">John Wick</a> <span class=\"subtle start-year\">(2014)</span> <span class=\"icon tiny certified\" title=\"Certified Fresh\"></span> <span class=\"tMeterScore\">87%</span></h2>\n",
      "<h2><a href=\"https://www.rottentomatoes.com/m/crouching_tiger_hidden_dragon/\">Crouching Tiger, Hidden Dragon</a> <span class=\"subtle start-year\">(2001)</span> <span class=\"icon tiny certified\" title=\"Certified Fresh\"></span> <span class=\"tMeterScore\">97%</span></h2>\n",
      "<h2><a href=\"https://www.rottentomatoes.com/m/predator/\">Predator</a> <span class=\"subtle start-year\">(1987)</span> <span class=\"icon tiny certified\" title=\"Certified Fresh\"></span> <span class=\"tMeterScore\">81%</span></h2>\n",
      "<h2><a href=\"https://www.rottentomatoes.com/m/bourne_ultimatum/\">The Bourne Ultimatum</a> <span class=\"subtle start-year\">(2007)</span> <span class=\"icon tiny certified\" title=\"Certified Fresh\"></span> <span class=\"tMeterScore\">92%</span></h2>\n",
      "<h2><a href=\"https://www.rottentomatoes.com/m/total_recall/\">Total Recall</a> <span class=\"subtle start-year\">(1990)</span> <span class=\"icon tiny certified\" title=\"Certified Fresh\"></span> <span class=\"tMeterScore\">81%</span></h2>\n",
      "<h2><a href=\"https://www.rottentomatoes.com/m/mad_max_2_the_road_warrior/\">Mad Max 2: The Road Warrior</a> <span class=\"subtle start-year\">(1982)</span> <span class=\"icon tiny certified\" title=\"Certified Fresh\"></span> <span class=\"tMeterScore\">93%</span></h2>\n",
      "<h2><a href=\"https://www.rottentomatoes.com/m/1068182-heat/\">Heat</a> <span class=\"subtle start-year\">(1995)</span> <span class=\"icon tiny certified\" title=\"Certified Fresh\"></span> <span class=\"tMeterScore\">87%</span></h2>\n",
      "<h2><a href=\"https://www.rottentomatoes.com/m/the_raid_redemption/\">The Raid: Redemption</a> <span class=\"subtle start-year\">(2012)</span> <span class=\"icon tiny certified\" title=\"Certified Fresh\"></span> <span class=\"tMeterScore\">86%</span></h2>\n",
      "<h2><a href=\"https://www.rottentomatoes.com/m/mission_impossible_fallout/\">Mission: Impossible - Fallout</a> <span class=\"subtle start-year\">(2018)</span> <span class=\"icon tiny certified\" title=\"Certified Fresh\"></span> <span class=\"tMeterScore\">97%</span></h2>\n",
      "<h2><a href=\"https://www.rottentomatoes.com/m/raiders_of_the_lost_ark/\">Raiders of the Lost Ark</a> <span class=\"subtle start-year\">(1981)</span> <span class=\"icon tiny certified\" title=\"Certified Fresh\"></span> <span class=\"tMeterScore\">95%</span></h2>\n",
      "<h2><a href=\"https://www.rottentomatoes.com/m/1000617-aliens/\">Aliens</a> <span class=\"subtle start-year\">(1986)</span> <span class=\"icon tiny certified\" title=\"Certified Fresh\"></span> <span class=\"tMeterScore\">97%</span></h2>\n",
      "<h2><a href=\"https://www.rottentomatoes.com/m/hard_boiled/\">Lat sau san taam (Hard-Boiled)</a> <span class=\"subtle start-year\">(1992)</span> <span class=\"icon tiny fresh\" title=\"Fresh\"></span> <span class=\"tMeterScore\">94%</span></h2>\n",
      "<h2><a href=\"https://www.rottentomatoes.com/m/matrix/\">The Matrix</a> <span class=\"subtle start-year\">(1999)</span> <span class=\"icon tiny certified\" title=\"Certified Fresh\"></span> <span class=\"tMeterScore\">88%</span></h2>\n",
      "<h2><a href=\"https://www.rottentomatoes.com/m/terminator_2_judgment_day/\">Terminator 2: Judgment Day</a> <span class=\"subtle start-year\">(1991)</span> <span class=\"icon tiny certified\" title=\"Certified Fresh\"></span> <span class=\"tMeterScore\">93%</span></h2>\n",
      "<h2><a href=\"https://www.rottentomatoes.com/m/die_hard/\">Die Hard</a> <span class=\"subtle start-year\">(1988)</span> <span class=\"icon tiny certified\" title=\"Certified Fresh\"></span> <span class=\"tMeterScore\">93%</span></h2>\n",
      "<h2><a href=\"https://www.rottentomatoes.com/m/mad_max_fury_road/\">Mad Max: Fury Road</a> <span class=\"subtle start-year\">(2015)</span> <span class=\"icon tiny certified\" title=\"Certified Fresh\"></span> <span class=\"tMeterScore\">97%</span></h2>\n"
     ]
    }
   ],
   "source": [
    "for i in range(len(title)):\n",
    "    print(title[i])"
   ]
  },
  {
   "cell_type": "markdown",
   "metadata": {},
   "source": [
    "#### Adjusted Scores"
   ]
  },
  {
   "cell_type": "code",
   "execution_count": 23,
   "metadata": {},
   "outputs": [],
   "source": [
    "adj_score = soup.find_all('div', {'class':'info countdown-adjusted-score'})"
   ]
  },
  {
   "cell_type": "code",
   "execution_count": 24,
   "metadata": {},
   "outputs": [
    {
     "data": {
      "text/plain": [
       "'61.158%'"
      ]
     },
     "execution_count": 24,
     "metadata": {},
     "output_type": "execute_result"
    }
   ],
   "source": [
    "adj_score[0].contents[1].strip() # does it work for all others?"
   ]
  },
  {
   "cell_type": "code",
   "execution_count": 25,
   "metadata": {
    "scrolled": true
   },
   "outputs": [],
   "source": [
    "adj_score_list = []\n",
    "for i in range(len(adj_score)):\n",
    "    try: \n",
    "        data = adj_score[i].contents[1].strip()\n",
    "    except:\n",
    "        data = adj_score[i]\n",
    "    #print(data) #ok\n",
    "    adj_score_list.append(data)"
   ]
  },
  {
   "cell_type": "markdown",
   "metadata": {},
   "source": [
    "#### Critic consensus"
   ]
  },
  {
   "cell_type": "code",
   "execution_count": 26,
   "metadata": {},
   "outputs": [],
   "source": [
    "critics = soup.find_all('div', {'class':'info critics-consensus'})"
   ]
  },
  {
   "cell_type": "code",
   "execution_count": 27,
   "metadata": {},
   "outputs": [
    {
     "data": {
      "text/plain": [
       "'Running Scared struggles to strike a consistent balance between violent action and humor, but the chemistry between its well-matched leads keeps things entertaining.'"
      ]
     },
     "execution_count": 27,
     "metadata": {},
     "output_type": "execute_result"
    }
   ],
   "source": [
    "critics[0].contents[1].strip()"
   ]
  },
  {
   "cell_type": "code",
   "execution_count": 28,
   "metadata": {},
   "outputs": [],
   "source": [
    "critics_consensus_list = []\n",
    "for i in range(len(critics)):\n",
    "    data = critics[i].contents[1].strip()\n",
    "    #print(data) #ok\n",
    "    critics_consensus_list.append(data)"
   ]
  },
  {
   "cell_type": "markdown",
   "metadata": {},
   "source": [
    "#### Synopsis"
   ]
  },
  {
   "cell_type": "code",
   "execution_count": 29,
   "metadata": {},
   "outputs": [],
   "source": [
    "synopsis = soup.find_all('div', {'class':'info synopsis'})"
   ]
  },
  {
   "cell_type": "code",
   "execution_count": 30,
   "metadata": {},
   "outputs": [
    {
     "name": "stdout",
     "output_type": "stream",
     "text": [
      "Distinguished by a sharp, witty dialogue between its two cop protagonists, Ray and Danny (Gregory Hines and Billy Crystal), this... [More] <class 'str'>\n"
     ]
    }
   ],
   "source": [
    "text = synopsis[0].get_text()\n",
    "header = 'Synopsis:'\n",
    "if text.startswith(header):\n",
    "    text = text[len(header):].strip()\n",
    "print(text, type(text))"
   ]
  },
  {
   "cell_type": "code",
   "execution_count": 31,
   "metadata": {},
   "outputs": [
    {
     "name": "stdout",
     "output_type": "stream",
     "text": [
      "['Distinguished by a sharp, witty dialogue between its two cop protagonists, Ray and Danny (Gregory Hines and Billy Crystal), this... [More]', 'In the nation of Libria, there is always peace among men. The rules of the Librian system are simple. If... [More]', \"Hero is two-time Academy Award nominee Zhang Yimou's directorial attempt at exploring the concept of a Chinese hero. During the... [More]\", 'Dalton (Swayze) is a true gentleman with a degree in philosophy from NYU. He also has a flip side -... [More]', 'In this action thriller from director Tony Scott, rookie train operator Will (Chris Pine) and grizzled veteran engineer Frank (Denzel... [More]', 'Shaft, a highly successful film, spawned an industry of sequels and imitations. The daughter (Sherri Brewer) of Bumpy Jones (Moses... [More]', 'Since she was a little girl, Sook-hee was raised to be a deadly assassin. She gladly accepts the chance to... [More]', 'Among humans for centuries, an immortal specie existed. Connor MacLeod is a member of this specie. Unaware of his powers,... [More]', '\"Another basement, another elevator...how can the same thing happen to the same guy twice?\" asks John McClane (Bruce Willis), in... [More]', 'Benjamin Franklin Gates is a third generation treasure hunter. All his life, Gates has been searching for a treasure no... [More]', \"Kham's life is turned upside down when an international mafia syndicate, based in Australia, captures his two beloved elephants and... [More]\", 'Jen (fearlessly embodied by Matilda Lutz, Rings) is enjoying a romantic getaway with her wealthy boyfriend which is suddenly disrupted... [More]', 'Filmed in two weeks on a budget of 7,000 dollars, El Mariachi was one of the singular pleasures of the... [More]', 'According to this drama, set in 14th-century China, a state-run secret police organization made life a living hell for anyone... [More]', 'Devil-may-care navy pilot Pete Mitchell (Tom Cruise) is sent to Miramar Naval Air Station for advanced training. Here he vies... [More]', 'Former war hero Cameron Poe (Nicolas Cage) is sentenced to eight years in prison when he accidentally kills a man... [More]', \"The Expendables are back and this time it's personal... Barney Ross (Sylvester Stallone), Lee Christmas (Jason Statham), Yin Yang (Jet... [More]\", 'Loosely adapted from the classic 1932 horror film starring Boris Karloff, The Mummy is set in Egypt, where over 3,000... [More]', 'John and Jane Smith are an ordinary suburban couple with an ordinary, lifeless suburban marriage. But each of them has... [More]', 'Brett Ratner directed this action-comedy that found box-office success by teaming Chris Tucker with Jackie Chan -- performing his own... [More]', 'In The Equalizer, Denzel Washington plays McCall, a man who believes he has put his mysterious past behind him and... [More]', 'Marvel\\'s \"Captain America: Civil War\" finds Steve Rogers leading the newly formed team of Avengers in their continued efforts to... [More]', 'In this action drama, Harrison Ford plays James Marshall, a onetime combat hero in the Vietnam War who is now... [More]', 'U.S. soldier Frank Dux (Jean-Claude Van Damme) has come to Hong Kong to be accepted into the Kumite, a highly... [More]', 'British director Stephen Norrington helmed this David S. Goyer adaptation of the Marvel Comics character created in 1973 by scripter... [More]', 'Former video director Michael Bay had his first big hit with this action comedy, which also returned producers Jerry Bruckheimer... [More]', 'Bruce Willis returns as misfit cop John McClane in the third film in the Die Hard series. McClane has fallen... [More]', 'An unjustly accused prisoner in 2019 is given a slim chance at freedom if he enters a battle-to-the-death on a... [More]', 'Not to be confused with the 1960 film of the same name, this fast-paced karate action flick stars Chuck Norris,... [More]', 'A mysterious man delivers a baby during a shootout and is entrusted with protecting the child from criminals out to... [More]', 'A one-time freelance hitman who was just attempting to turn his life around is forced to keep his heart pumping... [More]', 'A blade-wielding ex-federale hides out as a day laborer when he is double-crossed by a corrupt senator. ... [More]', 'Ryan Gosling stars as a Los Angeles wheelman for hire, stunt driving for movie productions by day and steering getaway... [More]', 'Jack Nicholson is the Joker, who emerged from a horrible accident as a maniacal criminal. Michael Keaton is the Caped... [More]', 'Andrew Davis directed this exciting thriller starring Steven Seagal, sans ponytail, and featuring electric, over-the-top performances by Gary Busey and... [More]', 'A group of intrepid humans attempts to save the Earth from vicious extraterrestrials in this extremely popular science-fiction adventure. Borrowing... [More]', \"Robert L. Pike's crime novel Mute Witness makes the transition to the big screen in this film from director Peter... [More]\", \"Wesley's (James McAvoy) life is over - his pathetic old one, anyway... Fortunately, it is all because of a girl.... [More]\", 'Christopher Reeve as the Man of Steel in a big-budget epic with Oscar-winning effects. Marlon Brando, Margot Kidder, Gene Hackman,... [More]', 'When an international team of former intelligence agents and Cold War warriors meet in a warehouse, their adventure of love,... [More]', 'A homeless drifter discovers a reason for the ever-widening gap between the rich and the poor: a conspiracy by non-human... [More]', \"A Rocky Mountain rescue expert (Sylvester Stallone) has retired because of his role in a woman's death, but the kidnapping... [More]\", \"Marvel Studios presents Marvel's The Avengers-the Super Hero team up of a lifetime, featuring iconic Marvel Super Heroes Iron Man,... [More]\", 'A top London cop who is so good at his job that he makes his fellow officers look like slackers... [More]', \"Walter Hill's hip, super-stylized action film unfurls in a dystopian near-future, when various gangs control New York City. Each gang... [More]\", 'Paul Verhoeven has fashioned a visually spectacular, morbidly funny comic book adventure that seems to merge the fresh-faced youths of... [More]', 'The sprawling slum that towers over Rio de Janeiro is one of the most dangerous places on Earth, and as... [More]', \"Kathryn Bigelow's fourth action film follows FBI agent Johnny Utah (Keanu Reeves) as he goes undercover to infiltrate a cache... [More]\", 'The comfortably drab life of a working mom becomes a nightmare when she finds herself pursued by an assassin who... [More]', 'From the director of YOU\\'RE NEXT and featuring a standout, badass performance from Dan Stevens (\"Downton Abbey\"), comes THE GUEST:... [More]', 'An ex-soldier (Liam Neeson) traveling through Europe embarks on a frantic quest to rescue his daughter (Maggie Grace) after the... [More]', \"Sin City author Frank Miller's sweeping take on the historic Battle of Thermopylae comes to the screen courtesy of Dawn... [More]\", 'Borrowing liberally from the French film La Totale, this is an action picture, domestic comedy, and political thriller rolled into... [More]', \"The plot of this action film begins in 1996, with Los Angeles in a violence-crazed conflagration. One of the LAPD's... [More]\", 'Strap in. Hardcore Henry is one of the most unflinchingly original wild-rides to hit the big screen in a long... [More]', \"This was internationally famous Jackie Chan's breakthrough action film, the work that got him past the ethnic boundaries of Hong... [More]\", 'French legend has it that a creature known as the Beast of Gevaudan -- a huge, wolf-like monster -- was... [More]', 'Based upon the acclaimed comic book and directed by Matthew Vaughn (Kick Ass, X-Men First Class), Kingsman: The Secret Service... [More]', 'Good and evil battle for the future of 23rd century Earth in this visually striking big-budget science fiction epic. In... [More]', 'Playing in a manner that can be conservatively described as larger than life, Kurt Russell plays a macho truck driver... [More]', \"A high-stakes, global action-thriller that takes place in the city of Berlin, on the eve of the Wall's collapse and... [More]\", 'After years as a major star in most of the rest of the world, Jackie Chan finally broke through to... [More]', \"A nuclear weapon has been stolen by the most powerful gang in Paris' treacherous, walled-in ghetto, and it's up to... [More]\", \"What's that wisecracking young black guy (Eddie Murphy) in that beat-up Chevy Nova doing in lily-white Beverly Hills? He's Axel... [More]\", 'Exhilarating fight sequences highlight this action-packed martial-arts adventure about an orphan (Tony Jaa) who embarks on a quest to recover... [More]', 'A taxi driver is unexpectedly taken on the ride of his life in this stylish thriller from acclaimed director Michael... [More]', 'This kung fu classic weaving fact and myth earned a theatrical release in the U.S. from Miramax eight years after... [More]', \"It's 1997 and Manhattan has been turned into a maximum security prison. When the United States president crash lands into... [More]\", \"A long-unavailable underground hit that anticipated The Hunger Games novels by eight years, veteran director Fukasaku's epically violent, still-controversial and... [More]\", \"Stan Lee's all-too-human superhero returns to the screen in this highly anticipated sequel to 2002's blockbuster hit Spider-Man. Peter Parker... [More]\", \"Cult director Takeshi Miike (Ichi the Killer, Audition) delivers a bravado period action film set at the end of Japan's... [More]\", 'Another entry into the \"cheer for the most likeable bad guy\" series of Hong Kong action flicks, Full Contact tells... [More]', 'The third installment in the Spielberg/Lucas Indiana Jones saga, Indiana Jones and the Last Crusade evokes many of the thrills... [More]', 'The work of international superstar Stephen Chow, Kung Fu Hustle is a humorous, special-effects-filled, action-packed martial arts epic set in... [More]', \"John Woo established himself as one of Hong Kong's premiere action directors with this ultra-hip, ultra-violent action classic. The film... [More]\", 'Billionaire industrialist and genius inventor Tony Stark is kidnapped and forced to build a devastating weapon. Instead, using his intelligence... [More]', 'The Night Comes For Us follows Ito (played by Joe Taslim), a former triad enforcer, and his mission to protect... [More]', \"It's 2029. Mutants are gone--or very nearly so. An isolated, despondent Logan is drinking his days away in a hideout... [More]\", 'To many, the quintessential Bond film and a brilliant third entry in the series. Here Bond gets his Aston Martin,... [More]', 'Cops, secretaries, and prisoners stuck in a soon-to-be-shuttered L.A. police station fight off a horde of murderous gang members in... [More]', 'An Amazon princess (Gal Gadot) finds her idyllic life on an island occupied only by female warriors interrupted when a... [More]', 'Bruce Lee stars as a martial arts expert who vows vengeance when his kung fu master is murdered. He discovers... [More]', 'After being deemed unfit for military service, Steve Rogers volunteers for a top secret research project that turns him into... [More]', 'South Korean filmmaker Park Chan-wook directed this violent and offbeat story of punishment and vengeance. Oh Dae-su (Choi Min-sik) is... [More]', 'This gritty, fast-paced, and innovative police drama earned five Academy Awards, including Best Picture, Best Adapted Screenplay (written by Ernest... [More]', 'Continuing the global exploits in the unstoppable franchise built on speed, Vin Diesel, Paul Walker and Dwayne Johnson lead the... [More]', \"The serpentine plotline of Luc Besson's La Femme Nikita begins its 117-minute slither when punkish, psychotic, and drug-ridden Nikita (Anne... [More]\", 'A Hong Kong detective fights to stop a Chinese drug czar.... [More]', '\"You\\'ve got to ask yourself a question: \\'do I feel lucky?\\' Well, do ya, punk?\" Dirty Harry provoked a critical... [More]', 'The epic action of \"Edge of Tomorrow\" unfolds in a near future in which an alien race has hit the... [More]', \"When a failed assassination attempt occurs on the President's (Cotter Smith) life by the teleporting mutant Nightcrawler (Alan Cumming), it's... [More]\", 'This 1993 box-office smash partly adheres to the 1960s TV series on which it is based and partly goes off... [More]', '\"Black Panther\" follows T\\'Challa who, after the events of \"Captain America: Civil War,\" returns home to the isolated, technologically advanced... [More]', 'Visionary filmmaker Christopher Nolan (Memento, The Dark Knight) writes and directs this psychological sci-fi action film about a thief who... [More]', 'Mel Gibson, long-time heartthrob of the silver screen, came into his own as a director with Braveheart, an account of... [More]', \"Based on a short story by the late Philip K. Dick, this science fiction-thriller reflects the writer's familiar preoccupation with... [More]\", 'The grave course of events set in motion by Thanos that wiped out half the universe and fractured the Avengers... [More]', 'The future America is an irradiated waste land. On its East Coast, running from Boston to Washington DC, lies Mega... [More]', 'The best-selling suspense novel by late author Robert Ludlum comes to the screen for a second time, following a 1988... [More]', 'Wing Chun grandmaster Ip has an amazing wife, plenty of money, the most beautiful house in town, and a blossoming... [More]', \"The third of John Woo's American-made feature films, Face/Off stars John Travolta as Sean Archer, an FBI agent obsessed with... [More]\", \"William Friedkin's crime thriller, based on a book by U.S. Secret Service agent Gerald Petievich, concerns an arrogant Secret Service... [More]\", \"Christopher Nolan steps back into the director's chair for this sequel to Batman Begins, which finds the titular superhero coming... [More]\", \"This is not just another mission. The IMF is shut down when it's implicated in a global terrorist bombing plot.... [More]\", \"Former cop Brian O'Conner (Paul Walker) partners with ex-con Dom Toretto (Vin Diesel) on the opposite side of the law.... [More]\", 'L.A. cop Martin Riggs (Mel Gibson), whose wife has recently died, is a loose cannon with a seeming death wish.... [More]', 'The sophomore film from former music video and commercial director Michael Bay, this fast-paced action yarn featured rapid-fire editing, a... [More]', 'In near-future Detroit, a murdered police officer is resurrected as an experimental crime-fighting cyborg named Robocop. Tormented by memories of... [More]', 'In this next chapter following the 2014 hit, legendary hitman John Wick (Keanu Reeves) is forced back out of retirement... [More]', \"James Bond's first 007 mission takes him to Madagascar, where he is to spy on a terrorist Mollaka. Not everything... [More]\", 'A talented, young getaway driver (Ansel Elgort) relies on the beat of his personal soundtrack to be the best in... [More]', 'Jet Li stars in this historical Hong Kong action film, as Chen Zhen, a Chinese student in Japan in the... [More]', \"Chow Yun-Fat, director John Woo's favorite actor, stars as a professional assassin. The moral outrages of his employers lead Yun-Fat,... [More]\", 'He thought it was over. After fighting his way out of a building filled with gangsters and madmen - a... [More]', \"One of the most popular kung fu films ever, and perhaps the peak of the famed Bruce Lee's career, Enter... [More]\", 'Colonel Matrix (Arnold Schwarzenegger) is retired and living peaceably with his 10-year-old daughter (Alyssa Milano) when she is kidnapped by... [More]', 'A former Green Beret must use all of the guerrilla tactics he learned in Vietnam to save himself after he... [More]', 'With the IMF disbanded, and Ethan (Tom Cruise) out in the cold, the team now faces off against a network... [More]', 'A Cyborg has been sent from the future on a deadly mission, it has been programmed to kill a young... [More]', 'A man robbed of his name and his dignity strives to win them back, and gain the freedom of his... [More]', 'An entire wedding party is slaughtered during a dress rehearsal in a rural chapel: the pregnant woman in the blood-splattered... [More]', 'As visually stylish as it is graphically violent, this thriller directed by Luc Besson concerns Mathilda (Natalie Portman), a 12-year-old... [More]', \"If you don't think Speed is the fastest-moving adventure film ever made, we challenge you to find a faster one.... [More]\", 'Jackie Chan returns in one of his greatest roles in this action-comedy sequel to his 1978 Hong Kong blockbuster Drunken... [More]', 'An ex-hitman comes out of retirement to track down the gangsters that took everything from him. With New York City... [More]', 'Taiwanese filmmaker Ang Lee took a break from making Western period dramas to fashion this wild and woolly martial arts... [More]', 'Dutch (Arnold Schwarzenegger) has a code of honor which he will not violate, even when his life depends on it.... [More]', 'Jason Bourne (Matt Damon) races to solve the mystery of his past while being hunted by members of the very... [More]', \"In Paul Verhoeven's wild sci-fi action movie Total Recall, Arnold Schwarzenegger plays a 21st-century construction worker who discovers that his... [More]\", \"Director George Miller's follow-up to his own 1979 hit Mad Max is proof that not all sequels are inferior to... [More]\", 'A successful career criminal considers getting out of the business after one last score, while an obsessive cop desperately tries... [More]', 'As a rookie member of an elite special-forces team, Rama (Iko Uwais) is instructed to hang back during a covert... [More]', 'The best intentions often come back to haunt you. MISSION: IMPOSSIBLE - FALLOUT finds Ethan Hunt (Tom Cruise) and his... [More]', 'Indiana Jones (Harrison Ford) is no ordinary archeologist. When we first see him, he is somewhere in the Peruvian jungle... [More]', 'Big-budget special effects, swiftly paced action, and a distinct feminist subtext from writer/director James Cameron turned what should have been... [More]', 'Yun-Fat portrays a maverick, clarinet-playing cop nicknamed \"Tequila\" whose partner is killed in the dizzying chaos of a restaurant gunfight... [More]', \"What if virtual reality wasn't just for fun, but was being used to imprison you? That's the dilemma that faces... [More]\", 'A sequel to the sci-fi action thriller that made him and star Arnold Schwarzenegger A-list Hollywood names, writer/director James Cameron... [More]', \"It's Christmas time in L.A., and there's an employee party in progress on the 30th floor of the Nakatomi Corporation... [More]\", 'Filmmaker George Miller gears up for another post-apocalyptic action adventure with Fury Road, the fourth outing in the Mad Max... [More]']\n"
     ]
    }
   ],
   "source": [
    "header = 'Synopsis:'\n",
    "synopsis_list = [line.get_text() for line in synopsis]\n",
    "synopsis_list = [synopsis[len(header):].strip() if synopsis.startswith(header) else synopsis for synopsis in synopsis_list]\n",
    "print(synopsis_list)"
   ]
  },
  {
   "cell_type": "markdown",
   "metadata": {},
   "source": [
    "#### Cast"
   ]
  },
  {
   "cell_type": "code",
   "execution_count": 32,
   "metadata": {},
   "outputs": [],
   "source": [
    "cast = soup.find_all('div', {'class':'info cast'})"
   ]
  },
  {
   "cell_type": "code",
   "execution_count": 33,
   "metadata": {
    "scrolled": true
   },
   "outputs": [
    {
     "name": "stdout",
     "output_type": "stream",
     "text": [
      "['Gregory Hines, Billy Crystal, Jimmy Smits, Steven Bauer', 'Christian Bale, Emily Watson, Taye Diggs, Angus Macfadyen', 'Jet Li, Tony Leung Chiu Wai, Maggie Cheung, Daoming Chen', 'Patrick Swayze, Kelly Lynch, Sam Elliott, Ben Gazzara', 'Denzel Washington, Chris Pine, Rosario Dawson, Ethan Suplee', 'Richard Roundtree, Moses Gunn, Gwen Mitchell, Christopher St. John', 'Ok-bin Kim, Kim Seo-hyeong, Shin Ha-kyun, Bang Sung-jun', 'Christopher Lambert, Sean Connery, Roxanne Hart, Clancy Brown', 'Bruce Willis, Bonnie Bedelia, William Atherton, Reginald VelJohnson', 'Nicolas Cage, Diane Kruger, Justin Bartha, Sean Bean', 'Tony Jaa, Petchtai Wongkamlao, Bongkoj Khongmalai, Bongkoo Kongmalai', 'Matilda Anna Ingrid Lutz, Kevin Janssens, Vincent Colombe, Guillaume Bouchède', 'Carlos Gallardo, Consuelo Gómez, Reinol Martinez, Peter Marquardt', 'Feng Hsu, Chun Shih, Pai Ying, Tien Peng', 'Tom Cruise, Kelly McGillis, Anthony Edwards, Val Kilmer', 'Nicolas Cage, John Cusack, John Malkovich, Steve Buscemi', 'Sylvester Stallone, Jason Statham, Jet Li, Dolph Lundgren', 'Brendan Fraser, Rachel Weisz, John Hannah, Arnold Vosloo', 'Brad Pitt, Angelina Jolie, Vince Vaughn, Adam Brody', 'Jackie Chan, Chris Tucker, Elizabeth Peña, Tom Wilkinson', 'Denzel Washington, Marton Csokas, Chloë Grace Moretz , David Harbour', 'Chris Evans, Robert Downey Jr., Scarlett Johansson, Sebastian Stan', 'Gary Oldman, Harrison Ford, Glenn Close, Wendy Crewson', 'Jean-Claude Van Damme, Leah Ayres, Donald Gibb, Norman Burton', \"Wesley Snipes, Stephen Dorff, Kris Kristofferson, N'Bushe Wright\", 'Martin Lawrence, Will Smith, Téa Leoni, Tcheky Karyo', 'Bruce Willis, Jeremy Irons, Samuel L. Jackson, Graham Greene (II)', 'Arnold Schwarzenegger, Maria Conchita Alonso, Yaphet Kotto, Richard Dawson', 'Chuck Norris, Henry Silva, Bert Remsen, Mike Genovese', 'Clive Owen, Paul Giamatti, Monica Bellucci, Stephen McHattie', 'Jason Statham, Amy Smart, Efren Ramirez, Jose Pablo Cantillo', 'Danny Trejo, Robert De Niro, Jessica Alba, Cheech Marin', 'Ryan Gosling, Carey Mulligan, Albert Brooks, Bryan Cranston', 'Michael Keaton, Jack Nicholson, Kim Basinger, Robert Wuhl', 'Steven Seagal, Tommy Lee Jones, Gary Busey, Erika Eleniak', 'Will Smith, Bill Pullman, Jeff Goldblum, Mary McDonnell', 'Steve McQueen, Robert Vaughn, Jacqueline Bisset, Don Gordon', 'James McAvoy, Morgan Freeman, Angelina Jolie, Terence Stamp', 'Marlon Brando, Christopher Reeve, Gene Hackman, Ned Beatty', 'Robert De Niro, Jean Reno, Natascha McElhone, Stellan Skarsgård', 'Roddy Piper, Keith David, Meg Foster, Peter Jason', 'Sylvester Stallone, John Lithgow, Michael Rooker, Janine Turner', '', 'Simon Pegg, Nick Frost, Jim Broadbent, Steve Coogan', 'Michael Beck, James Remar, Thomas G. Waites, Dorsey Wright', 'Casper Van Dien, Dina Meyer, Denise Richards, Jake Busey', 'Wagner Moura, André Mattos, Sandro Rocha, Maria Ribeiro', 'Keanu Reeves, Patrick Swayze, Gary Busey, Lori Petty', 'Geena Davis, Samuel L. Jackson, Patrick Malahide, Craig Bierko', 'Dan Stevens, Leland Orser, Lance Reddick, Sheila Kelley', 'Liam Neeson, Maggie Grace, Famke Janssen, Xander Berkeley', 'Gerard Butler, Lena Headey, David Wenham, Rodrigo Santoro', 'Arnold Schwarzenegger, Jamie Lee Curtis, Tom Arnold, Bill Paxton', 'Sylvester Stallone, Wesley Snipes, Sandra Bullock, Nigel Hawthorne', 'Sharlto Copley, Danila Kozlovsky, Haley Bennett, Tim Roth', 'Jackie Chan, Brigitte Lin, Maggie Cheung, Cho Yuen', 'Samuel Le Bihan, Vincent Cassel, Émilie Dequenne, Monica Bellucci', 'Taron Egerton, Colin Firth, Mark Hamill, Samuel L. Jackson', 'Bruce Willis, Ian Holm, Gary Oldman, Chris Tucker', 'Kurt Russell, Kim Cattrall, Dennis Dun, James Hong', 'Charlize Theron, James McAvoy, John Goodman, Til Schweiger', 'Jackie Chan, Anita Mui, Francoise Yip, Bill Tung', \"Cyril Raffaelli, David Belle, Tony D'Amario, Bibi Naceri\", 'Eddie Murphy, Judge Reinhold, John Ashton, Lisa Eilbacher', 'Tony Jaa, Petchtai Wongkamlao, Petchthai Wongkamlao, Pumwaree Yodkamol', 'Tom Cruise, Jamie Foxx, Mark Ruffalo, Jada Pinkett Smith', 'Rongguang Yu, Donnie Yen, Jean Wang, Tsang Sze-Man', 'Kurt Russell, Lee Van Cleef, Ernest Borgnine, Donald Pleasence', 'Aki Maeda, Ai Iwamura, Chiaki Kuriyama, Tatsuya Fujiwara', 'Tobey Maguire, Kirsten Dunst, James Franco, Alfred Molina', 'Koji Yakusho, Takayuki Yamada, Yusuke Iseya, Goro Inagaki', 'Yun-Fat Chow, Simon Yam, Ann Bridgewater, Anthony Wong', 'Harrison Ford, Sean Connery, Alison Doody, Denholm Elliott', 'Stephen Chow, Wah Yuen, Shengyi Huang, Kwok-Kwan Chan', 'Yun-Fat Chow, Leslie Cheung, Lung Ti, Young Pao I', 'Robert Downey Jr., Terrence Howard, Jeff Bridges, Gwyneth Paltrow', 'Joe Taslim, Iko Uwais, Julie Estelle, Sunny Pang', 'Hugh Jackman, Patrick Stewart, Boyd Holbrook, Stephen Merchant', 'Sean Connery, Gert Fröbe, Honor Blackman, Shirley Eaton', 'Austin Stoker, Darwin Joston, Gilbert De la Pena, Laurie Zimmer', 'Gal Gadot, Chris Pine, Connie Nielsen, Robin Wright', 'Bruce Lee, Miao Ker Hsiu, James Tien, Robert Baker', 'Chris Evans, Samuel L. Jackson, Scarlett Johansson, Anthony Mackie', 'Choi Min-sik, Gang Hye-jeong, Yoo Ji-tae, Gang Hye-jung', 'Gene Hackman, Fernando Rey, Roy Scheider, Marcel Bozzuffi', 'Vin Diesel, Paul Walker, Jason Statham, Dwayne Johnson', 'Tcheky Karyo, Anne Parillaud, Jeanne Moreau, Jean Reno', 'Jackie Chan, Maggie Cheung, Kenneth Tsang Kong, Wah Yuen', 'Clint Eastwood, Andrew Robinson, Harry Guardino, John Mitchum', 'Tom Cruise, Emily Blunt, Bill Paxton, Jonas Armstrong', 'Hugh Jackman, Ian McKellen, Halle Berry, Famke Janssen', 'Harrison Ford, Tommy Lee Jones, Sela Ward, Julianne Moore', \"Chadwick Boseman, Michael B. Jordan, Lupita Nyong'o, Danai Gurira\", 'Leonardo DiCaprio, Ken Watanabe, Joseph Gordon-Levitt, Marion Cotillard', 'Mel Gibson, Sophie Marceau, Patrick McGoohan, Catherine McCormack', 'Tom Cruise, Colin Farrell, Samantha Morton, Max von Sydow', 'Robert Downey Jr., Mark Ruffalo, Scarlett Johansson, Chris Evans', 'Karl Urban, Olivia Thirlby, Wood Harris, Lena Headey', 'Matt Damon, Franka Potente, Chris Cooper, Clive Owen', 'Donnie Yen, Hiroyuki Ikeuchi, Simon Yam, Xiong Dailin', 'John Travolta, Nicolas Cage, Joan Allen, Alessandro Nivola', 'William L. Petersen, Willem Dafoe, John Pankow, Debra Feuer', 'Christian Bale, Heath Ledger, Aaron Eckhart, Maggie Gyllenhaal', 'Tom Cruise, Jeremy Renner, Simon Pegg, Paula Patton', 'Vin Diesel, Paul Walker, Jordana Brewster, Dwayne Johnson', 'Mel Gibson, Danny Glover, Gary Busey, Darlene Love', 'Sean Connery, Nicolas Cage, Ed Harris, Michael Biehn', 'Peter Weller, Nancy Allen, Ronny Cox, Kurtwood Smith', 'Keanu Reeves, John Leguizamo, Bridget Moynahan, Thomas Sadoski', 'Daniel Craig, Eva Green, Mads Mikkelsen, Judi Dench', 'Ansel Elgort, Kevin Spacey, Lily James, Jon Bernthal', 'Jet Li, Paul Chiang, Yasuaki Kurata, Shinobu Nakayama (II)', 'Yun-Fat Chow, Sally Yeh, Danny Lee, Kenneth Tsang', 'Iko Uwais, Yahan Ruhian, Arifin Putra, Oka Antara', 'Bruce Lee, John Saxon, Jim Kelly, Shih Kien', 'Arnold Schwarzenegger, Alyssa Milano, Rae Dawn Chong, Dan Hedaya', 'Sylvester Stallone, Richard Crenna, Brian Dennehy, David Caruso', 'Tom Cruise, Jeremy Renner, Ving Rhames, Simon Pegg', 'Arnold Schwarzenegger, Linda Hamilton, Michael Biehn, Paul Winfield', 'Russell Crowe, Joaquin Phoenix, Connie Nielsen, Oliver Reed', 'Uma Thurman, Lucy Liu, Vivica A. Fox, David Carradine', 'Jean Reno, Gary Oldman, Natalie Portman, Danny Aiello', 'Keanu Reeves, Dennis Hopper, Sandra Bullock, Joe Morton', 'Jackie Chan, Siu Tin Yuen, Jang Lee Hwang, Kau Lam', 'Keanu Reeves, Michael Nyqvist, Alfie Allen, Adrianne Palicki', 'Yun-Fat Chow, Michelle Yeoh, Ziyi Zhang, Chen Chang', 'Arnold Schwarzenegger, Carl Weathers, Elpidia Carrillo, Bill Duke', 'Matt Damon, Julia Stiles, David Strathairn, Scott Glenn', 'Robert Picardo, Chuck Sloan, Dave Nicolson, Anne Lockhart', 'Mel Gibson, Bruce Spence, Vernon Wells, Emil Minty', 'Al Pacino, Robert De Niro, Val Kilmer, Jon Voight', 'Iko Uwais, Joe Taslim, Doni Alamsyah, Yahan Ruhian', 'Tom Cruise, Henry Cavill, Ving Rhames, Simon Pegg', 'Harrison Ford, Karen Allen, Paul Freeman, Wolf Kahler', 'Sigourney Weaver, Carrie Henn, Michael Biehn, Paul Reiser', 'Yun-Fat Chow, Tony Leung Chiu Wai, Anthony Wong, Teresa Mo', 'Keanu Reeves, Laurence Fishburne, Carrie-Anne Moss, Joe Pantoliano', 'Arnold Schwarzenegger, Linda Hamilton, Edward Furlong, Robert Patrick', 'Bruce Willis, Alan Rickman, Reginald VelJohnson, Bonnie Bedelia', 'Tom Hardy, Charlize Theron, Nicholas Hoult, Rosie Huntington-Whiteley']\n"
     ]
    }
   ],
   "source": [
    "text = cast[0].get_text().strip()\n",
    "#print(text)\n",
    "\n",
    "header = 'Starring:'\n",
    "cast_list = [line.get_text().strip() for line in cast]\n",
    "#print(cast_list)\n",
    "\n",
    "cast_list = [cast[len(header):].strip() if cast.startswith(header) else cast for cast in cast_list]\n",
    "print(cast_list)"
   ]
  },
  {
   "cell_type": "markdown",
   "metadata": {},
   "source": [
    "#### Director"
   ]
  },
  {
   "cell_type": "code",
   "execution_count": 34,
   "metadata": {},
   "outputs": [],
   "source": [
    "director = soup.find_all('div', {'class':'info director'})"
   ]
  },
  {
   "cell_type": "code",
   "execution_count": 35,
   "metadata": {},
   "outputs": [
    {
     "data": {
      "text/plain": [
       "'Kurt Wimmer'"
      ]
     },
     "execution_count": 35,
     "metadata": {},
     "output_type": "execute_result"
    }
   ],
   "source": [
    "director[1].find('a', {'class':''}).contents[0]"
   ]
  },
  {
   "cell_type": "code",
   "execution_count": 36,
   "metadata": {},
   "outputs": [
    {
     "data": {
      "text/plain": [
       "['Peter Hyams',\n",
       " 'Kurt Wimmer',\n",
       " 'Zhang Yimou',\n",
       " 'Rowdy Herrington',\n",
       " 'Tony Scott',\n",
       " 'Gordon Parks',\n",
       " 'Jung Byung-gil',\n",
       " 'Russell Mulcahy',\n",
       " 'Renny Harlin',\n",
       " 'Jon Turteltaub',\n",
       " 'Prachya Pinkaew',\n",
       " 'Coralie Fargeat',\n",
       " 'Robert Rodriguez',\n",
       " 'King Hu',\n",
       " 'Tony Scott',\n",
       " 'Simon West',\n",
       " 'Simon West',\n",
       " 'Stephen Sommers',\n",
       " 'Doug Liman',\n",
       " 'Brett Ratner',\n",
       " 'Antoine Fuqua',\n",
       " 'Anthony Russo',\n",
       " 'Wolfgang Petersen',\n",
       " 'Newt Arnold',\n",
       " 'Stephen Norrington',\n",
       " 'Michael Bay',\n",
       " 'John McTiernan',\n",
       " 'Paul Michael Glaser',\n",
       " 'Andrew Davis',\n",
       " 'Michael Davis',\n",
       " 'Mark Neveldine',\n",
       " 'Ethan Maniquis',\n",
       " 'Nicolas Winding Refn',\n",
       " 'Tim Burton',\n",
       " 'Andrew Davis',\n",
       " 'Roland Emmerich',\n",
       " 'Peter Yates',\n",
       " 'Timur Bekmambetov',\n",
       " 'Richard Donner',\n",
       " 'John Frankenheimer',\n",
       " 'John Carpenter',\n",
       " 'Renny Harlin',\n",
       " None,\n",
       " 'Edgar Wright',\n",
       " 'Walter Hill',\n",
       " 'Paul Verhoeven',\n",
       " 'José Padilha',\n",
       " 'Kathryn Bigelow',\n",
       " 'Renny Harlin',\n",
       " 'Adam Wingard',\n",
       " 'Pierre Morel',\n",
       " 'Zack Snyder',\n",
       " 'James Cameron',\n",
       " 'Marco Brambilla',\n",
       " 'Ilya Naishuller',\n",
       " 'Jackie Chan',\n",
       " 'Christophe Gans',\n",
       " 'Matthew Vaughn',\n",
       " 'Luc Besson',\n",
       " 'John Carpenter',\n",
       " 'David Leitch',\n",
       " 'Stanley Tong',\n",
       " 'Pierre Morel',\n",
       " 'Martin Brest',\n",
       " 'Prachya Pinkaew',\n",
       " 'Michael Mann',\n",
       " 'Woo-ping Yuen',\n",
       " 'John Carpenter',\n",
       " 'Kinji Fukasaku',\n",
       " 'Sam Raimi',\n",
       " 'Takashi Miike',\n",
       " 'Ringo Lam',\n",
       " 'Steven Spielberg',\n",
       " 'Stephen Chow',\n",
       " 'Hae-sung Song',\n",
       " None,\n",
       " 'Timo Tjahjanto',\n",
       " 'James Mangold',\n",
       " 'Guy Hamilton',\n",
       " 'John Carpenter',\n",
       " 'Patty Jenkins',\n",
       " None,\n",
       " 'Joe Russo',\n",
       " 'Park Chan-wook',\n",
       " 'William Friedkin',\n",
       " 'James Wan',\n",
       " 'Luc Besson',\n",
       " 'Stanley Tong',\n",
       " 'Don Siegel',\n",
       " 'Doug Liman',\n",
       " 'Bryan Singer',\n",
       " 'Andrew Davis',\n",
       " 'Ryan Coogler',\n",
       " 'Christopher Nolan',\n",
       " 'Mel Gibson',\n",
       " 'Steven Spielberg',\n",
       " 'Anthony Russo',\n",
       " 'Pete Travis',\n",
       " 'Doug Liman',\n",
       " 'Wilson Yip',\n",
       " 'John Woo',\n",
       " 'William Friedkin',\n",
       " 'Christopher Nolan',\n",
       " 'Brad Bird',\n",
       " 'Justin Lin',\n",
       " 'Richard Donner',\n",
       " 'Michael Bay',\n",
       " 'Paul Verhoeven',\n",
       " 'Chad Stahelski',\n",
       " 'Martin Campbell',\n",
       " 'Edgar Wright',\n",
       " 'Gordon Chan',\n",
       " 'John Woo',\n",
       " 'Gareth Evans',\n",
       " 'Robert Clouse',\n",
       " 'Mark L. Lester',\n",
       " 'Ted Kotcheff',\n",
       " 'Christopher McQuarrie',\n",
       " 'James Cameron',\n",
       " 'Ridley Scott',\n",
       " 'Quentin Tarantino',\n",
       " 'Luc Besson',\n",
       " 'Jan de Bont',\n",
       " 'Lau Kar-Leung',\n",
       " 'David Leitch',\n",
       " 'Ang Lee',\n",
       " 'John McTiernan',\n",
       " 'Paul Greengrass',\n",
       " None,\n",
       " 'George Miller',\n",
       " 'Michael Mann',\n",
       " 'Gareth Evans',\n",
       " 'Christopher McQuarrie',\n",
       " 'Steven Spielberg',\n",
       " 'James Cameron',\n",
       " 'John Woo',\n",
       " 'Lilly Wachowski',\n",
       " 'James Cameron',\n",
       " 'John McTiernan',\n",
       " 'George Miller']"
      ]
     },
     "execution_count": 36,
     "metadata": {},
     "output_type": "execute_result"
    }
   ],
   "source": [
    "temp_list = [line.find('a', {'class':''}) for line in director]\n",
    "director_list = [line.contents[0] if line !=None else line for line in temp_list]\n",
    "director_list # considering None type"
   ]
  },
  {
   "cell_type": "markdown",
   "metadata": {},
   "source": [
    "---\n",
    "### Combining the results"
   ]
  },
  {
   "cell_type": "code",
   "execution_count": 37,
   "metadata": {
    "scrolled": true
   },
   "outputs": [
    {
     "name": "stdout",
     "output_type": "stream",
     "text": [
      "140\n",
      "140\n",
      "140\n",
      "140\n",
      "140\n"
     ]
    }
   ],
   "source": [
    "print(len(title_list)) # hmm, 146 entries?\n",
    "print(len(adj_score_list))\n",
    "print(len(critics_consensus_list))\n",
    "print(len(synopsis_list))\n",
    "print(len(director_list))"
   ]
  },
  {
   "cell_type": "code",
   "execution_count": 38,
   "metadata": {},
   "outputs": [],
   "source": [
    "rest_info = []\n",
    "\n",
    "for i in range(len(title_list)):\n",
    "    title = title_list[i]\n",
    "    adj_score = adj_score_list[i]\n",
    "    critics_consensus = critics_consensus_list[i]\n",
    "    synopsis = synopsis_list[i]\n",
    "    director = director_list[i]\n",
    "    \n",
    "    rest_info.append({'title' : title, \n",
    "                      'adj_score' : adj_score, \n",
    "                      'critics_consensus' : critics_consensus,\n",
    "                      'synopsis' : synopsis, \n",
    "                      'director' : director})\n",
    "    "
   ]
  },
  {
   "cell_type": "code",
   "execution_count": 39,
   "metadata": {
    "scrolled": true
   },
   "outputs": [
    {
     "data": {
      "text/html": [
       "<div>\n",
       "<style scoped>\n",
       "    .dataframe tbody tr th:only-of-type {\n",
       "        vertical-align: middle;\n",
       "    }\n",
       "\n",
       "    .dataframe tbody tr th {\n",
       "        vertical-align: top;\n",
       "    }\n",
       "\n",
       "    .dataframe thead th {\n",
       "        text-align: right;\n",
       "    }\n",
       "</style>\n",
       "<table border=\"1\" class=\"dataframe\">\n",
       "  <thead>\n",
       "    <tr style=\"text-align: right;\">\n",
       "      <th></th>\n",
       "      <th>title</th>\n",
       "      <th>adj_score</th>\n",
       "      <th>critics_consensus</th>\n",
       "      <th>synopsis</th>\n",
       "      <th>director</th>\n",
       "    </tr>\n",
       "  </thead>\n",
       "  <tbody>\n",
       "    <tr>\n",
       "      <th>0</th>\n",
       "      <td>Running Scared</td>\n",
       "      <td>61.158%</td>\n",
       "      <td>Running Scared struggles to strike a consisten...</td>\n",
       "      <td>Distinguished by a sharp, witty dialogue betwe...</td>\n",
       "      <td>Peter Hyams</td>\n",
       "    </tr>\n",
       "    <tr>\n",
       "      <th>1</th>\n",
       "      <td>Equilibrium</td>\n",
       "      <td>41.991%</td>\n",
       "      <td>Equilibrium is a reheated mishmash of other sc...</td>\n",
       "      <td>In the nation of Libria, there is always peace...</td>\n",
       "      <td>Kurt Wimmer</td>\n",
       "    </tr>\n",
       "    <tr>\n",
       "      <th>2</th>\n",
       "      <td>Hero</td>\n",
       "      <td>100.828%</td>\n",
       "      <td>With death-defying action sequences and epic h...</td>\n",
       "      <td>Hero is two-time Academy Award nominee Zhang Y...</td>\n",
       "      <td>Zhang Yimou</td>\n",
       "    </tr>\n",
       "    <tr>\n",
       "      <th>3</th>\n",
       "      <td>Road House</td>\n",
       "      <td>41.991%</td>\n",
       "      <td>Whether Road House is simply bad or so bad it'...</td>\n",
       "      <td>Dalton (Swayze) is a true gentleman with a deg...</td>\n",
       "      <td>Rowdy Herrington</td>\n",
       "    </tr>\n",
       "    <tr>\n",
       "      <th>4</th>\n",
       "      <td>Unstoppable</td>\n",
       "      <td>91.513%</td>\n",
       "      <td>As fast, loud, and relentless as the train at ...</td>\n",
       "      <td>In this action thriller from director Tony Sco...</td>\n",
       "      <td>Tony Scott</td>\n",
       "    </tr>\n",
       "    <tr>\n",
       "      <th>...</th>\n",
       "      <td>...</td>\n",
       "      <td>...</td>\n",
       "      <td>...</td>\n",
       "      <td>...</td>\n",
       "      <td>...</td>\n",
       "    </tr>\n",
       "    <tr>\n",
       "      <th>135</th>\n",
       "      <td>Lat sau san taam (Hard-Boiled)</td>\n",
       "      <td>96.035%</td>\n",
       "      <td>Boasting impactful action as well as surprisin...</td>\n",
       "      <td>Yun-Fat portrays a maverick, clarinet-playing ...</td>\n",
       "      <td>John Woo</td>\n",
       "    </tr>\n",
       "    <tr>\n",
       "      <th>136</th>\n",
       "      <td>The Matrix</td>\n",
       "      <td>94.818%</td>\n",
       "      <td>Thanks to the Wachowskis' imaginative vision, ...</td>\n",
       "      <td>What if virtual reality wasn't just for fun, b...</td>\n",
       "      <td>Lilly Wachowski</td>\n",
       "    </tr>\n",
       "    <tr>\n",
       "      <th>137</th>\n",
       "      <td>Terminator 2: Judgment Day</td>\n",
       "      <td>99.097%</td>\n",
       "      <td>T2 features thrilling action sequences and eye...</td>\n",
       "      <td>A sequel to the sci-fi action thriller that ma...</td>\n",
       "      <td>James Cameron</td>\n",
       "    </tr>\n",
       "    <tr>\n",
       "      <th>138</th>\n",
       "      <td>Die Hard</td>\n",
       "      <td>98.72%</td>\n",
       "      <td>Its many imitators (and sequels) have never co...</td>\n",
       "      <td>It's Christmas time in L.A., and there's an em...</td>\n",
       "      <td>John McTiernan</td>\n",
       "    </tr>\n",
       "    <tr>\n",
       "      <th>139</th>\n",
       "      <td>Mad Max: Fury Road</td>\n",
       "      <td>113.591%</td>\n",
       "      <td>With exhilarating action and a surprising amou...</td>\n",
       "      <td>Filmmaker George Miller gears up for another p...</td>\n",
       "      <td>George Miller</td>\n",
       "    </tr>\n",
       "  </tbody>\n",
       "</table>\n",
       "<p>140 rows × 5 columns</p>\n",
       "</div>"
      ],
      "text/plain": [
       "                              title adj_score  \\\n",
       "0                    Running Scared   61.158%   \n",
       "1                       Equilibrium   41.991%   \n",
       "2                              Hero  100.828%   \n",
       "3                        Road House   41.991%   \n",
       "4                       Unstoppable   91.513%   \n",
       "..                              ...       ...   \n",
       "135  Lat sau san taam (Hard-Boiled)   96.035%   \n",
       "136                      The Matrix   94.818%   \n",
       "137      Terminator 2: Judgment Day   99.097%   \n",
       "138                        Die Hard    98.72%   \n",
       "139              Mad Max: Fury Road  113.591%   \n",
       "\n",
       "                                     critics_consensus  \\\n",
       "0    Running Scared struggles to strike a consisten...   \n",
       "1    Equilibrium is a reheated mishmash of other sc...   \n",
       "2    With death-defying action sequences and epic h...   \n",
       "3    Whether Road House is simply bad or so bad it'...   \n",
       "4    As fast, loud, and relentless as the train at ...   \n",
       "..                                                 ...   \n",
       "135  Boasting impactful action as well as surprisin...   \n",
       "136  Thanks to the Wachowskis' imaginative vision, ...   \n",
       "137  T2 features thrilling action sequences and eye...   \n",
       "138  Its many imitators (and sequels) have never co...   \n",
       "139  With exhilarating action and a surprising amou...   \n",
       "\n",
       "                                              synopsis          director  \n",
       "0    Distinguished by a sharp, witty dialogue betwe...       Peter Hyams  \n",
       "1    In the nation of Libria, there is always peace...       Kurt Wimmer  \n",
       "2    Hero is two-time Academy Award nominee Zhang Y...       Zhang Yimou  \n",
       "3    Dalton (Swayze) is a true gentleman with a deg...  Rowdy Herrington  \n",
       "4    In this action thriller from director Tony Sco...        Tony Scott  \n",
       "..                                                 ...               ...  \n",
       "135  Yun-Fat portrays a maverick, clarinet-playing ...          John Woo  \n",
       "136  What if virtual reality wasn't just for fun, b...   Lilly Wachowski  \n",
       "137  A sequel to the sci-fi action thriller that ma...     James Cameron  \n",
       "138  It's Christmas time in L.A., and there's an em...    John McTiernan  \n",
       "139  Filmmaker George Miller gears up for another p...     George Miller  \n",
       "\n",
       "[140 rows x 5 columns]"
      ]
     },
     "execution_count": 39,
     "metadata": {},
     "output_type": "execute_result"
    }
   ],
   "source": [
    "rest_info = pd.DataFrame(rest_info)\n",
    "rest_info"
   ]
  },
  {
   "cell_type": "markdown",
   "metadata": {},
   "source": [
    "---\n",
    "### Merging the two dataframes into one\n",
    "\n",
    "'movies' and 'rest_info'\n",
    "<br>title is an identifier for merging"
   ]
  },
  {
   "cell_type": "code",
   "execution_count": 41,
   "metadata": {
    "scrolled": true
   },
   "outputs": [
    {
     "data": {
      "text/html": [
       "<div>\n",
       "<style scoped>\n",
       "    .dataframe tbody tr th:only-of-type {\n",
       "        vertical-align: middle;\n",
       "    }\n",
       "\n",
       "    .dataframe tbody tr th {\n",
       "        vertical-align: top;\n",
       "    }\n",
       "\n",
       "    .dataframe thead th {\n",
       "        text-align: right;\n",
       "    }\n",
       "</style>\n",
       "<table border=\"1\" class=\"dataframe\">\n",
       "  <thead>\n",
       "    <tr style=\"text-align: right;\">\n",
       "      <th></th>\n",
       "      <th>title</th>\n",
       "      <th>year</th>\n",
       "      <th>rating</th>\n",
       "      <th>adj_score</th>\n",
       "      <th>critics_consensus</th>\n",
       "      <th>synopsis</th>\n",
       "      <th>director</th>\n",
       "    </tr>\n",
       "  </thead>\n",
       "  <tbody>\n",
       "    <tr>\n",
       "      <th>0</th>\n",
       "      <td>Running Scared</td>\n",
       "      <td>1986</td>\n",
       "      <td>60%</td>\n",
       "      <td>61.158%</td>\n",
       "      <td>Running Scared struggles to strike a consisten...</td>\n",
       "      <td>Distinguished by a sharp, witty dialogue betwe...</td>\n",
       "      <td>Peter Hyams</td>\n",
       "    </tr>\n",
       "    <tr>\n",
       "      <th>1</th>\n",
       "      <td>Equilibrium</td>\n",
       "      <td>2002</td>\n",
       "      <td>40%</td>\n",
       "      <td>41.991%</td>\n",
       "      <td>Equilibrium is a reheated mishmash of other sc...</td>\n",
       "      <td>In the nation of Libria, there is always peace...</td>\n",
       "      <td>Kurt Wimmer</td>\n",
       "    </tr>\n",
       "    <tr>\n",
       "      <th>2</th>\n",
       "      <td>Hero</td>\n",
       "      <td>2004</td>\n",
       "      <td>95%</td>\n",
       "      <td>100.828%</td>\n",
       "      <td>With death-defying action sequences and epic h...</td>\n",
       "      <td>Hero is two-time Academy Award nominee Zhang Y...</td>\n",
       "      <td>Zhang Yimou</td>\n",
       "    </tr>\n",
       "    <tr>\n",
       "      <th>3</th>\n",
       "      <td>Road House</td>\n",
       "      <td>1989</td>\n",
       "      <td>39%</td>\n",
       "      <td>41.991%</td>\n",
       "      <td>Whether Road House is simply bad or so bad it'...</td>\n",
       "      <td>Dalton (Swayze) is a true gentleman with a deg...</td>\n",
       "      <td>Rowdy Herrington</td>\n",
       "    </tr>\n",
       "    <tr>\n",
       "      <th>4</th>\n",
       "      <td>Unstoppable</td>\n",
       "      <td>2010</td>\n",
       "      <td>86%</td>\n",
       "      <td>91.513%</td>\n",
       "      <td>As fast, loud, and relentless as the train at ...</td>\n",
       "      <td>In this action thriller from director Tony Sco...</td>\n",
       "      <td>Tony Scott</td>\n",
       "    </tr>\n",
       "    <tr>\n",
       "      <th>...</th>\n",
       "      <td>...</td>\n",
       "      <td>...</td>\n",
       "      <td>...</td>\n",
       "      <td>...</td>\n",
       "      <td>...</td>\n",
       "      <td>...</td>\n",
       "      <td>...</td>\n",
       "    </tr>\n",
       "    <tr>\n",
       "      <th>135</th>\n",
       "      <td>Lat sau san taam (Hard-Boiled)</td>\n",
       "      <td>1992</td>\n",
       "      <td>94%</td>\n",
       "      <td>96.035%</td>\n",
       "      <td>Boasting impactful action as well as surprisin...</td>\n",
       "      <td>Yun-Fat portrays a maverick, clarinet-playing ...</td>\n",
       "      <td>John Woo</td>\n",
       "    </tr>\n",
       "    <tr>\n",
       "      <th>136</th>\n",
       "      <td>The Matrix</td>\n",
       "      <td>1999</td>\n",
       "      <td>88%</td>\n",
       "      <td>94.818%</td>\n",
       "      <td>Thanks to the Wachowskis' imaginative vision, ...</td>\n",
       "      <td>What if virtual reality wasn't just for fun, b...</td>\n",
       "      <td>Lilly Wachowski</td>\n",
       "    </tr>\n",
       "    <tr>\n",
       "      <th>137</th>\n",
       "      <td>Terminator 2: Judgment Day</td>\n",
       "      <td>1991</td>\n",
       "      <td>93%</td>\n",
       "      <td>99.097%</td>\n",
       "      <td>T2 features thrilling action sequences and eye...</td>\n",
       "      <td>A sequel to the sci-fi action thriller that ma...</td>\n",
       "      <td>James Cameron</td>\n",
       "    </tr>\n",
       "    <tr>\n",
       "      <th>138</th>\n",
       "      <td>Die Hard</td>\n",
       "      <td>1988</td>\n",
       "      <td>93%</td>\n",
       "      <td>98.72%</td>\n",
       "      <td>Its many imitators (and sequels) have never co...</td>\n",
       "      <td>It's Christmas time in L.A., and there's an em...</td>\n",
       "      <td>John McTiernan</td>\n",
       "    </tr>\n",
       "    <tr>\n",
       "      <th>139</th>\n",
       "      <td>Mad Max: Fury Road</td>\n",
       "      <td>2015</td>\n",
       "      <td>97%</td>\n",
       "      <td>113.591%</td>\n",
       "      <td>With exhilarating action and a surprising amou...</td>\n",
       "      <td>Filmmaker George Miller gears up for another p...</td>\n",
       "      <td>George Miller</td>\n",
       "    </tr>\n",
       "  </tbody>\n",
       "</table>\n",
       "<p>140 rows × 7 columns</p>\n",
       "</div>"
      ],
      "text/plain": [
       "                              title  year rating adj_score  \\\n",
       "0                    Running Scared  1986    60%   61.158%   \n",
       "1                       Equilibrium  2002    40%   41.991%   \n",
       "2                              Hero  2004    95%  100.828%   \n",
       "3                        Road House  1989    39%   41.991%   \n",
       "4                       Unstoppable  2010    86%   91.513%   \n",
       "..                              ...   ...    ...       ...   \n",
       "135  Lat sau san taam (Hard-Boiled)  1992    94%   96.035%   \n",
       "136                      The Matrix  1999    88%   94.818%   \n",
       "137      Terminator 2: Judgment Day  1991    93%   99.097%   \n",
       "138                        Die Hard  1988    93%    98.72%   \n",
       "139              Mad Max: Fury Road  2015    97%  113.591%   \n",
       "\n",
       "                                     critics_consensus  \\\n",
       "0    Running Scared struggles to strike a consisten...   \n",
       "1    Equilibrium is a reheated mishmash of other sc...   \n",
       "2    With death-defying action sequences and epic h...   \n",
       "3    Whether Road House is simply bad or so bad it'...   \n",
       "4    As fast, loud, and relentless as the train at ...   \n",
       "..                                                 ...   \n",
       "135  Boasting impactful action as well as surprisin...   \n",
       "136  Thanks to the Wachowskis' imaginative vision, ...   \n",
       "137  T2 features thrilling action sequences and eye...   \n",
       "138  Its many imitators (and sequels) have never co...   \n",
       "139  With exhilarating action and a surprising amou...   \n",
       "\n",
       "                                              synopsis          director  \n",
       "0    Distinguished by a sharp, witty dialogue betwe...       Peter Hyams  \n",
       "1    In the nation of Libria, there is always peace...       Kurt Wimmer  \n",
       "2    Hero is two-time Academy Award nominee Zhang Y...       Zhang Yimou  \n",
       "3    Dalton (Swayze) is a true gentleman with a deg...  Rowdy Herrington  \n",
       "4    In this action thriller from director Tony Sco...        Tony Scott  \n",
       "..                                                 ...               ...  \n",
       "135  Yun-Fat portrays a maverick, clarinet-playing ...          John Woo  \n",
       "136  What if virtual reality wasn't just for fun, b...   Lilly Wachowski  \n",
       "137  A sequel to the sci-fi action thriller that ma...     James Cameron  \n",
       "138  It's Christmas time in L.A., and there's an em...    John McTiernan  \n",
       "139  Filmmaker George Miller gears up for another p...     George Miller  \n",
       "\n",
       "[140 rows x 7 columns]"
      ]
     },
     "execution_count": 41,
     "metadata": {},
     "output_type": "execute_result"
    }
   ],
   "source": [
    "rt_essential_movies = pd.merge(left = movies, right = rest_info, on = 'title', how = 'outer')\n",
    "rt_essential_movies"
   ]
  },
  {
   "cell_type": "markdown",
   "metadata": {},
   "source": [
    "---\n",
    "### Storing the dataframe in .csv file\n"
   ]
  },
  {
   "cell_type": "code",
   "execution_count": 43,
   "metadata": {},
   "outputs": [],
   "source": [
    "rt_essential_movies.to_csv('rotten_tomatoes_essential_movies.csv', index = False)"
   ]
  }
 ],
 "metadata": {
  "kernelspec": {
   "display_name": "Python [conda env:my_env]",
   "language": "python",
   "name": "conda-env-my_env-py"
  },
  "language_info": {
   "codemirror_mode": {
    "name": "ipython",
    "version": 3
   },
   "file_extension": ".py",
   "mimetype": "text/x-python",
   "name": "python",
   "nbconvert_exporter": "python",
   "pygments_lexer": "ipython3",
   "version": "3.8.3"
  }
 },
 "nbformat": 4,
 "nbformat_minor": 4
}
