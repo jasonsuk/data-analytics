{
 "cells": [
  {
   "cell_type": "markdown",
   "metadata": {},
   "source": [
    "# Scrape a website using BeautifulSoup"
   ]
  },
  {
   "cell_type": "code",
   "execution_count": 2,
   "metadata": {},
   "outputs": [],
   "source": [
    "import requests\n",
    "from bs4 import BeautifulSoup"
   ]
  },
  {
   "cell_type": "markdown",
   "metadata": {},
   "source": [
    "`1` [Workflow](#1) \n",
    "<br>\n",
    "`2` [Searching and navigating HTML tree](#2)\n",
    "<br>\n",
    "`3` [Extracting data from the HTML tree](#3)\n",
    "<br>\n",
    "`4` [Applications](#4)"
   ]
  },
  {
   "cell_type": "markdown",
   "metadata": {},
   "source": [
    "<a id = '1'></a>\n",
    "## `1.` Workflow - 5 Steps\n",
    "\n",
    "1. Inspect the webpages (i.e. content, structure) on webpages.\n",
    "2. Request to the server to get the html content\n",
    "3. Select a parser\n",
    "    - splitting a string/text into syntectical components\n",
    "    - can help identify all the elements, relationships to one another, their attributes, contents\n",
    "    - is represented through a parse tree\n",
    "    - BeautifulSoup suppors three parsers (lxml > html5lib > html.parser(built_in)\n",
    "    \n",
    "\n",
    "4. Create a BeautifulSoup object\n",
    "5. Export the HTML to a file (optional, but recommended)"
   ]
  },
  {
   "cell_type": "markdown",
   "metadata": {},
   "source": [
    "Using a opensource 'wikipedia' website. Suppose we already got a good hang of the webpages through inspection."
   ]
  },
  {
   "cell_type": "code",
   "execution_count": 3,
   "metadata": {},
   "outputs": [],
   "source": [
    "base_url = 'https://en.wikipedia.org/wiki/Music'"
   ]
  },
  {
   "cell_type": "code",
   "execution_count": 4,
   "metadata": {},
   "outputs": [
    {
     "name": "stdout",
     "output_type": "stream",
     "text": [
      "200\n"
     ]
    }
   ],
   "source": [
    "response = requests.get(base_url)\n",
    "print(response.status_code) # 200 if scraping is a success"
   ]
  },
  {
   "cell_type": "code",
   "execution_count": 5,
   "metadata": {},
   "outputs": [
    {
     "name": "stdout",
     "output_type": "stream",
     "text": [
      "b'!DOCTYPE html>\\n<html class=\"client-nojs\" lang=\"en\" dir=\"ltr\">\\n<head>\\n<meta charset=\"UTF-8\"/>\\n<title'\n"
     ]
    }
   ],
   "source": [
    "html = response.content\n",
    "print(html[1:100]) # binary starting with b'"
   ]
  },
  {
   "cell_type": "code",
   "execution_count": 6,
   "metadata": {},
   "outputs": [
    {
     "name": "stdout",
     "output_type": "stream",
     "text": [
      "!DOCTYPE html>\n",
      "<html class=\"client-nojs\" dir=\"ltr\" lang=\"en\">\n",
      " <head>\n",
      "  <meta charset=\"utf-8\"/>\n",
      "  <title>\n",
      "   Music - Wikipedia\n",
      "  </title>\n",
      "  <script>\n",
      "   document.documentElement.className=\"client-js\";RLCONF={\"wgBreakFrames\":!1,\"wgSeparatorTransformTable\":[\"\",\"\"],\"wgDigitTransformTable\":[\"\",\"\"],\"wgDefaultDateFormat\":\"dmy\",\"wgMonthNames\":[\"\",\"January\",\"February\",\"March\",\"April\",\"May\",\"June\",\"July\",\"August\",\"September\",\"October\",\"November\",\"December\"],\"wgRequestId\":\"8d812247-752c-42c8-b404-90b86185\n"
     ]
    }
   ],
   "source": [
    "soup = BeautifulSoup(html, 'html.parser') # using built-in parser 'html-parser' \n",
    "print(soup.prettify()[1:500])"
   ]
  },
  {
   "cell_type": "markdown",
   "metadata": {},
   "source": [
    "#### `The prettify() method` will turn a Beautiful Soup parse tree into a nicely formatted Unicode string, with a separate line for each tag and each string:"
   ]
  },
  {
   "cell_type": "code",
   "execution_count": 20,
   "metadata": {},
   "outputs": [],
   "source": [
    "# optional | exporting the HTML as a file\n",
    "with open('wiki_response.html', 'wb') as file: \n",
    "    file.write(soup.prettify(encoding = 'utf-8')) # encoded to unicode string"
   ]
  },
  {
   "cell_type": "markdown",
   "metadata": {},
   "source": [
    "---\n",
    "<a id = '2'></a>\n",
    "## `2.` Searching and navigating HTML tree\n",
    "\n",
    "- soup.find( )\n",
    "- soup.findall( )"
   ]
  },
  {
   "cell_type": "code",
   "execution_count": 76,
   "metadata": {},
   "outputs": [
    {
     "data": {
      "text/plain": [
       "<div class=\"noprint\" id=\"mw-page-base\"></div>"
      ]
     },
     "execution_count": 76,
     "metadata": {},
     "output_type": "execute_result"
    }
   ],
   "source": [
    "soup.find('div') # finding one div tag"
   ]
  },
  {
   "cell_type": "code",
   "execution_count": 24,
   "metadata": {},
   "outputs": [
    {
     "name": "stdout",
     "output_type": "stream",
     "text": [
      "None\n"
     ]
    }
   ],
   "source": [
    "print(soup.find('movie')) # there is no 'movie' tag so it returns None"
   ]
  },
  {
   "cell_type": "code",
   "execution_count": 25,
   "metadata": {},
   "outputs": [
    {
     "data": {
      "text/plain": [
       "<a id=\"top\"></a>"
      ]
     },
     "execution_count": 25,
     "metadata": {},
     "output_type": "execute_result"
    }
   ],
   "source": [
    "soup.find('a') # want to explore 'a' tag with url, but it does not return what I want"
   ]
  },
  {
   "cell_type": "code",
   "execution_count": 74,
   "metadata": {
    "scrolled": false
   },
   "outputs": [
    {
     "data": {
      "text/plain": [
       "[<a href=\"/wiki/Wikipedia:Protection_policy#semi\" title=\"This article is semi-protected.\"><img alt=\"Page semi-protected\" data-file-height=\"512\" data-file-width=\"512\" decoding=\"async\" height=\"20\" src=\"//upload.wikimedia.org/wikipedia/en/thumb/1/1b/Semi-protection-shackle.svg/20px-Semi-protection-shackle.svg.png\" srcset=\"//upload.wikimedia.org/wikipedia/en/thumb/1/1b/Semi-protection-shackle.svg/30px-Semi-protection-shackle.svg.png 1.5x, //upload.wikimedia.org/wikipedia/en/thumb/1/1b/Semi-protection-shackle.svg/40px-Semi-protection-shackle.svg.png 2x\" width=\"20\"/></a>,\n",
       " <a class=\"mw-jump-link\" href=\"#mw-head\">Jump to navigation</a>,\n",
       " <a class=\"mw-jump-link\" href=\"#searchInput\">Jump to search</a>,\n",
       " <a class=\"mw-disambig\" href=\"/wiki/Music_(disambiguation)\" title=\"Music (disambiguation)\">Music (disambiguation)</a>,\n",
       " <a class=\"image\" href=\"/wiki/File:Fran%C3%A7ois_Boucher,_Allegory_of_Music,_1764,_NGA_32680.jpg\"><img alt=\"François Boucher, Allegory of Music, 1764, NGA 32680.jpg\" data-file-height=\"3189\" data-file-width=\"4000\" decoding=\"async\" height=\"175\" src=\"//upload.wikimedia.org/wikipedia/commons/thumb/d/dd/Fran%C3%A7ois_Boucher%2C_Allegory_of_Music%2C_1764%2C_NGA_32680.jpg/220px-Fran%C3%A7ois_Boucher%2C_Allegory_of_Music%2C_1764%2C_NGA_32680.jpg\" srcset=\"//upload.wikimedia.org/wikipedia/commons/thumb/d/dd/Fran%C3%A7ois_Boucher%2C_Allegory_of_Music%2C_1764%2C_NGA_32680.jpg/330px-Fran%C3%A7ois_Boucher%2C_Allegory_of_Music%2C_1764%2C_NGA_32680.jpg 1.5x, //upload.wikimedia.org/wikipedia/commons/thumb/d/dd/Fran%C3%A7ois_Boucher%2C_Allegory_of_Music%2C_1764%2C_NGA_32680.jpg/440px-Fran%C3%A7ois_Boucher%2C_Allegory_of_Music%2C_1764%2C_NGA_32680.jpg 2x\" width=\"220\"/></a>,\n",
       " <a href=\"/wiki/Fran%C3%A7ois_Boucher\" title=\"François Boucher\">François Boucher</a>,\n",
       " <a href=\"/wiki/Paleolithic\" title=\"Paleolithic\">Paleolithic</a>,\n",
       " <a href=\"/wiki/Performing_arts\" title=\"Performing arts\">Performing arts</a>,\n",
       " <a href=\"/wiki/Acrobatics\" title=\"Acrobatics\">Acrobatics</a>]"
      ]
     },
     "execution_count": 74,
     "metadata": {},
     "output_type": "execute_result"
    }
   ],
   "source": [
    "soup.find_all('a')[1:10] # volia, find_all() returns all 'a' tags"
   ]
  },
  {
   "cell_type": "markdown",
   "metadata": {},
   "source": [
    "---\n",
    "### Searching by attribute"
   ]
  },
  {
   "cell_type": "code",
   "execution_count": 10,
   "metadata": {
    "scrolled": true
   },
   "outputs": [
    {
     "data": {
      "text/plain": [
       "<a class=\"image\" href=\"/wiki/File:Fran%C3%A7ois_Boucher,_Allegory_of_Music,_1764,_NGA_32680.jpg\"><img alt=\"François Boucher, Allegory of Music, 1764, NGA 32680.jpg\" data-file-height=\"3189\" data-file-width=\"4000\" decoding=\"async\" height=\"175\" src=\"//upload.wikimedia.org/wikipedia/commons/thumb/d/dd/Fran%C3%A7ois_Boucher%2C_Allegory_of_Music%2C_1764%2C_NGA_32680.jpg/220px-Fran%C3%A7ois_Boucher%2C_Allegory_of_Music%2C_1764%2C_NGA_32680.jpg\" srcset=\"//upload.wikimedia.org/wikipedia/commons/thumb/d/dd/Fran%C3%A7ois_Boucher%2C_Allegory_of_Music%2C_1764%2C_NGA_32680.jpg/330px-Fran%C3%A7ois_Boucher%2C_Allegory_of_Music%2C_1764%2C_NGA_32680.jpg 1.5x, //upload.wikimedia.org/wikipedia/commons/thumb/d/dd/Fran%C3%A7ois_Boucher%2C_Allegory_of_Music%2C_1764%2C_NGA_32680.jpg/440px-Fran%C3%A7ois_Boucher%2C_Allegory_of_Music%2C_1764%2C_NGA_32680.jpg 2x\" width=\"220\"/></a>"
      ]
     },
     "execution_count": 10,
     "metadata": {},
     "output_type": "execute_result"
    }
   ],
   "source": [
    "soup.find_all('a', class_ = 'image')[0]"
   ]
  },
  {
   "cell_type": "markdown",
   "metadata": {},
   "source": [
    "#### Note underscore(_) attached to class, it is to distinguish from class as a built-in method of python. Alternatively we can perform the same operations passing attributes in dictionary."
   ]
  },
  {
   "cell_type": "code",
   "execution_count": 9,
   "metadata": {},
   "outputs": [
    {
     "data": {
      "text/plain": [
       "<a class=\"image\" href=\"/wiki/File:Fran%C3%A7ois_Boucher,_Allegory_of_Music,_1764,_NGA_32680.jpg\"><img alt=\"François Boucher, Allegory of Music, 1764, NGA 32680.jpg\" data-file-height=\"3189\" data-file-width=\"4000\" decoding=\"async\" height=\"175\" src=\"//upload.wikimedia.org/wikipedia/commons/thumb/d/dd/Fran%C3%A7ois_Boucher%2C_Allegory_of_Music%2C_1764%2C_NGA_32680.jpg/220px-Fran%C3%A7ois_Boucher%2C_Allegory_of_Music%2C_1764%2C_NGA_32680.jpg\" srcset=\"//upload.wikimedia.org/wikipedia/commons/thumb/d/dd/Fran%C3%A7ois_Boucher%2C_Allegory_of_Music%2C_1764%2C_NGA_32680.jpg/330px-Fran%C3%A7ois_Boucher%2C_Allegory_of_Music%2C_1764%2C_NGA_32680.jpg 1.5x, //upload.wikimedia.org/wikipedia/commons/thumb/d/dd/Fran%C3%A7ois_Boucher%2C_Allegory_of_Music%2C_1764%2C_NGA_32680.jpg/440px-Fran%C3%A7ois_Boucher%2C_Allegory_of_Music%2C_1764%2C_NGA_32680.jpg 2x\" width=\"220\"/></a>"
      ]
     },
     "execution_count": 9,
     "metadata": {},
     "output_type": "execute_result"
    }
   ],
   "source": [
    "soup.find_all('a', {'class':'image'})[0] "
   ]
  },
  {
   "cell_type": "code",
   "execution_count": 47,
   "metadata": {},
   "outputs": [
    {
     "data": {
      "text/plain": [
       "[<a class=\"image\" href=\"/wiki/File:Muses_sarcophagus_Louvre_MR880.jpg\"><img alt=\"\" class=\"thumbimage\" data-file-height=\"1140\" data-file-width=\"2670\" decoding=\"async\" height=\"167\" src=\"//upload.wikimedia.org/wikipedia/commons/thumb/0/0c/Muses_sarcophagus_Louvre_MR880.jpg/390px-Muses_sarcophagus_Louvre_MR880.jpg\" srcset=\"//upload.wikimedia.org/wikipedia/commons/thumb/0/0c/Muses_sarcophagus_Louvre_MR880.jpg/585px-Muses_sarcophagus_Louvre_MR880.jpg 1.5x, //upload.wikimedia.org/wikipedia/commons/thumb/0/0c/Muses_sarcophagus_Louvre_MR880.jpg/780px-Muses_sarcophagus_Louvre_MR880.jpg 2x\" width=\"390\"/></a>]"
      ]
     },
     "execution_count": 47,
     "metadata": {},
     "output_type": "execute_result"
    }
   ],
   "source": [
    "# extend to find a specific href \n",
    "soup.find_all('a', {'class':'image', \n",
    "                    'href':\"/wiki/File:Muses_sarcophagus_Louvre_MR880.jpg\"})"
   ]
  },
  {
   "cell_type": "markdown",
   "metadata": {},
   "source": [
    "---\n",
    "<a id = '3'></a>\n",
    "## `3` Extracting data from the HTML tree"
   ]
  },
  {
   "cell_type": "code",
   "execution_count": 81,
   "metadata": {},
   "outputs": [
    {
     "data": {
      "text/plain": [
       "<a href=\"/wiki/Wikipedia:Protection_policy#semi\" title=\"This article is semi-protected.\"><img alt=\"Page semi-protected\" data-file-height=\"512\" data-file-width=\"512\" decoding=\"async\" height=\"20\" src=\"//upload.wikimedia.org/wikipedia/en/thumb/1/1b/Semi-protection-shackle.svg/20px-Semi-protection-shackle.svg.png\" srcset=\"//upload.wikimedia.org/wikipedia/en/thumb/1/1b/Semi-protection-shackle.svg/30px-Semi-protection-shackle.svg.png 1.5x, //upload.wikimedia.org/wikipedia/en/thumb/1/1b/Semi-protection-shackle.svg/40px-Semi-protection-shackle.svg.png 2x\" width=\"20\"/></a>"
      ]
     },
     "execution_count": 81,
     "metadata": {},
     "output_type": "execute_result"
    }
   ],
   "source": [
    "# randomly picked for an example\n",
    "a = soup.find_all('a')[1]\n",
    "a"
   ]
  },
  {
   "cell_type": "markdown",
   "metadata": {},
   "source": [
    "### Getting the attribute value"
   ]
  },
  {
   "cell_type": "code",
   "execution_count": 82,
   "metadata": {},
   "outputs": [
    {
     "data": {
      "text/plain": [
       "{'href': '/wiki/Wikipedia:Protection_policy#semi',\n",
       " 'title': 'This article is semi-protected.'}"
      ]
     },
     "execution_count": 82,
     "metadata": {},
     "output_type": "execute_result"
    }
   ],
   "source": [
    "a.attrs"
   ]
  },
  {
   "cell_type": "code",
   "execution_count": 83,
   "metadata": {},
   "outputs": [
    {
     "data": {
      "text/plain": [
       "'This article is semi-protected.'"
      ]
     },
     "execution_count": 83,
     "metadata": {},
     "output_type": "execute_result"
    }
   ],
   "source": [
    "# can extract an attribute like a dictionary\n",
    "a['title']"
   ]
  },
  {
   "cell_type": "code",
   "execution_count": 84,
   "metadata": {},
   "outputs": [
    {
     "data": {
      "text/plain": [
       "'This article is semi-protected.'"
      ]
     },
     "execution_count": 84,
     "metadata": {},
     "output_type": "execute_result"
    }
   ],
   "source": [
    "a.get('title')"
   ]
  },
  {
   "cell_type": "code",
   "execution_count": 85,
   "metadata": {},
   "outputs": [
    {
     "ename": "KeyError",
     "evalue": "'id'",
     "output_type": "error",
     "traceback": [
      "\u001b[0;31m---------------------------------------------------------------------------\u001b[0m",
      "\u001b[0;31mKeyError\u001b[0m                                  Traceback (most recent call last)",
      "\u001b[0;32m<ipython-input-85-1c17885c757b>\u001b[0m in \u001b[0;36m<module>\u001b[0;34m\u001b[0m\n\u001b[0;32m----> 1\u001b[0;31m \u001b[0ma\u001b[0m\u001b[0;34m[\u001b[0m\u001b[0;34m'id'\u001b[0m\u001b[0;34m]\u001b[0m \u001b[0;31m# when passing an incorrect attribute, it returns an error\u001b[0m\u001b[0;34m\u001b[0m\u001b[0;34m\u001b[0m\u001b[0m\n\u001b[0m",
      "\u001b[0;32m~/opt/anaconda3/lib/python3.7/site-packages/bs4/element.py\u001b[0m in \u001b[0;36m__getitem__\u001b[0;34m(self, key)\u001b[0m\n\u001b[1;32m   1399\u001b[0m         \"\"\"tag[key] returns the value of the 'key' attribute for the Tag,\n\u001b[1;32m   1400\u001b[0m         and throws an exception if it's not there.\"\"\"\n\u001b[0;32m-> 1401\u001b[0;31m         \u001b[0;32mreturn\u001b[0m \u001b[0mself\u001b[0m\u001b[0;34m.\u001b[0m\u001b[0mattrs\u001b[0m\u001b[0;34m[\u001b[0m\u001b[0mkey\u001b[0m\u001b[0;34m]\u001b[0m\u001b[0;34m\u001b[0m\u001b[0;34m\u001b[0m\u001b[0m\n\u001b[0m\u001b[1;32m   1402\u001b[0m \u001b[0;34m\u001b[0m\u001b[0m\n\u001b[1;32m   1403\u001b[0m     \u001b[0;32mdef\u001b[0m \u001b[0m__iter__\u001b[0m\u001b[0;34m(\u001b[0m\u001b[0mself\u001b[0m\u001b[0;34m)\u001b[0m\u001b[0;34m:\u001b[0m\u001b[0;34m\u001b[0m\u001b[0;34m\u001b[0m\u001b[0m\n",
      "\u001b[0;31mKeyError\u001b[0m: 'id'"
     ]
    }
   ],
   "source": [
    "a['id'] # when passing an incorrect attribute, it returns an error"
   ]
  },
  {
   "cell_type": "code",
   "execution_count": 86,
   "metadata": {},
   "outputs": [
    {
     "name": "stdout",
     "output_type": "stream",
     "text": [
      "None\n"
     ]
    }
   ],
   "source": [
    "a.get('id') # or by using .get() method, we can return None\n",
    "print(a.get('id'))"
   ]
  },
  {
   "cell_type": "markdown",
   "metadata": {},
   "source": [
    "---\n",
    "### Extracing text from a tag"
   ]
  },
  {
   "cell_type": "code",
   "execution_count": 87,
   "metadata": {},
   "outputs": [],
   "source": [
    "p = soup.find_all('p')[1] # extracting a paragraph from the html"
   ]
  },
  {
   "cell_type": "code",
   "execution_count": 88,
   "metadata": {},
   "outputs": [],
   "source": [
    "p.string # hmm.. nothing returned"
   ]
  },
  {
   "cell_type": "code",
   "execution_count": 89,
   "metadata": {},
   "outputs": [
    {
     "data": {
      "text/plain": [
       "'None'"
      ]
     },
     "execution_count": 89,
     "metadata": {},
     "output_type": "execute_result"
    }
   ],
   "source": [
    "repr(p.string)"
   ]
  },
  {
   "cell_type": "code",
   "execution_count": 90,
   "metadata": {},
   "outputs": [
    {
     "data": {
      "text/plain": [
       "'Music is an art form, and cultural activity, whose medium is sound. General definitions of music include common elements such as pitch (which governs melody and harmony), rhythm (and its associated concepts tempo, meter, and articulation), dynamics (loudness and softness), and the sonic qualities of timbre and texture (which are sometimes termed the \"color\" of a musical sound). Different styles or types of music may emphasize, de-emphasize or omit some of these elements. Music is performed with a vast range of instruments and vocal techniques ranging from singing to rapping; there are solely instrumental pieces, solely vocal pieces (such as songs without instrumental accompaniment) and pieces that combine singing and instruments. The word derives from Greek μουσική (mousike; \"art of the Muses\").[1]\\nSee glossary of musical terminology.\\n'"
      ]
     },
     "execution_count": 90,
     "metadata": {},
     "output_type": "execute_result"
    }
   ],
   "source": [
    "p.text # text method is used and seems stronger"
   ]
  },
  {
   "cell_type": "code",
   "execution_count": 91,
   "metadata": {},
   "outputs": [
    {
     "data": {
      "text/plain": [
       "'Music is an art form, and cultural activity, whose medium is sound. General definitions of music include common elements such as pitch (which governs melody and harmony), rhythm (and its associated concepts tempo, meter, and articulation), dynamics (loudness and softness), and the sonic qualities of timbre and texture (which are sometimes termed the \"color\" of a musical sound). Different styles or types of music may emphasize, de-emphasize or omit some of these elements. Music is performed with a vast range of instruments and vocal techniques ranging from singing to rapping; there are solely instrumental pieces, solely vocal pieces (such as songs without instrumental accompaniment) and pieces that combine singing and instruments. The word derives from Greek μουσική (mousike; \"art of the Muses\").[1]\\nSee glossary of musical terminology.\\n'"
      ]
     },
     "execution_count": 91,
     "metadata": {},
     "output_type": "execute_result"
    }
   ],
   "source": [
    "p.get_text() # works the same"
   ]
  },
  {
   "cell_type": "markdown",
   "metadata": {},
   "source": [
    "#### When extracting text from an element containing `lots of nested elements,` the answers is obvious. When extracting text from inidividual content(child), string may be useful."
   ]
  },
  {
   "cell_type": "code",
   "execution_count": 84,
   "metadata": {},
   "outputs": [
    {
     "name": "stdout",
     "output_type": "stream",
     "text": [
      "<a href=\"/wiki/The_arts#Music\" title=\"The arts\">art form</a>\n",
      "art form\n",
      "art form\n",
      "art form\n"
     ]
    }
   ],
   "source": [
    "print(p.contents[2]) # one element inside p tag\n",
    "print(p.contents[2].string)\n",
    "print(p.contents[2].text)\n",
    "print(p.contents[2].get_text())"
   ]
  },
  {
   "cell_type": "markdown",
   "metadata": {},
   "source": [
    "---\n",
    "<a id = '4'></a>\n",
    "## `4` Applications\n",
    "\n",
    "Here we will apply the scraping methods to extract urls from the data.\n",
    "- [Extracting urls](#4.1)\n",
    "- [Extracting from nestaged tags](#4.2)\n",
    "- [Scraping multiple pages automatically](#4.3)"
   ]
  },
  {
   "cell_type": "code",
   "execution_count": 12,
   "metadata": {},
   "outputs": [],
   "source": [
    "import requests\n",
    "from bs4 import BeautifulSoup\n",
    "from urllib.parse import urljoin"
   ]
  },
  {
   "cell_type": "markdown",
   "metadata": {},
   "source": [
    "<a id = '4.1'></a>\n",
    "### Extracting urls\n",
    "Create a function to scrape a wikipedia page."
   ]
  },
  {
   "cell_type": "code",
   "execution_count": 13,
   "metadata": {},
   "outputs": [],
   "source": [
    "base_url = 'https://en.wikipedia.org/wiki/Music'"
   ]
  },
  {
   "cell_type": "code",
   "execution_count": 14,
   "metadata": {},
   "outputs": [],
   "source": [
    "def wiki_extract(url):\n",
    "    response = requests.get(url)\n",
    "    if response.status_code != 200:\n",
    "        print(\"We cannot extract data from the url. Please check again\")\n",
    "    else:\n",
    "        try:\n",
    "            html = response.content\n",
    "            soup = BeautifulSoup(html, 'lxml') #using 'lxml' parser this time\n",
    "        except:\n",
    "            None\n",
    "    return soup"
   ]
  },
  {
   "cell_type": "code",
   "execution_count": 15,
   "metadata": {},
   "outputs": [],
   "source": [
    "data = wiki_extract(base_url)"
   ]
  },
  {
   "cell_type": "markdown",
   "metadata": {},
   "source": [
    "Anchor tags (a) contain href attributes (for links)."
   ]
  },
  {
   "cell_type": "code",
   "execution_count": 92,
   "metadata": {
    "scrolled": false
   },
   "outputs": [
    {
     "data": {
      "text/plain": [
       "[<a href=\"/wiki/Wikipedia:Protection_policy#semi\" title=\"This article is semi-protected.\"><img alt=\"Page semi-protected\" data-file-height=\"512\" data-file-width=\"512\" decoding=\"async\" height=\"20\" src=\"//upload.wikimedia.org/wikipedia/en/thumb/1/1b/Semi-protection-shackle.svg/20px-Semi-protection-shackle.svg.png\" srcset=\"//upload.wikimedia.org/wikipedia/en/thumb/1/1b/Semi-protection-shackle.svg/30px-Semi-protection-shackle.svg.png 1.5x, //upload.wikimedia.org/wikipedia/en/thumb/1/1b/Semi-protection-shackle.svg/40px-Semi-protection-shackle.svg.png 2x\" width=\"20\"/></a>,\n",
       " <a class=\"mw-jump-link\" href=\"#mw-head\">Jump to navigation</a>,\n",
       " <a class=\"mw-jump-link\" href=\"#searchInput\">Jump to search</a>,\n",
       " <a class=\"mw-disambig\" href=\"/wiki/Music_(disambiguation)\" title=\"Music (disambiguation)\">Music (disambiguation)</a>]"
      ]
     },
     "execution_count": 92,
     "metadata": {},
     "output_type": "execute_result"
    }
   ],
   "source": [
    "links = data.find_all('a')\n",
    "links[1:5]"
   ]
  },
  {
   "cell_type": "code",
   "execution_count": 8,
   "metadata": {},
   "outputs": [
    {
     "data": {
      "text/plain": [
       "<a href=\"/wiki/Puppetry\" title=\"Puppetry\">Puppetry</a>"
      ]
     },
     "execution_count": 8,
     "metadata": {},
     "output_type": "execute_result"
    }
   ],
   "source": [
    "links[20] # how it looks within an anchor tag"
   ]
  },
  {
   "cell_type": "code",
   "execution_count": 9,
   "metadata": {},
   "outputs": [
    {
     "data": {
      "text/plain": [
       "'/wiki/Puppetry'"
      ]
     },
     "execution_count": 9,
     "metadata": {},
     "output_type": "execute_result"
    }
   ],
   "source": [
    "links[20].get('href')"
   ]
  },
  {
   "cell_type": "markdown",
   "metadata": {},
   "source": [
    "The above result '/wiki/Puppetry' is a relative url within a href attribute. We would like to extract this.\n",
    "<br>\n",
    "However this relative url is in form of 'absolute url' - for instance: http://en.wikipedia.org/wiki/Puppetry. \n",
    "\n",
    "Instead of creating it manually, there is a very handy module that can help: **`urllib.parse.urljoin( , )`**\n",
    "\n",
    "As we already import the sub-module .urljoin() we don't need urllib.parse."
   ]
  },
  {
   "cell_type": "code",
   "execution_count": 10,
   "metadata": {},
   "outputs": [
    {
     "name": "stdout",
     "output_type": "stream",
     "text": [
      "https://en.wikipedia.org/wiki/Puppetry\n"
     ]
    }
   ],
   "source": [
    "relative_url = links[20].get('href')\n",
    "absolute_url = urljoin(base_url, relative_url)\n",
    "print(absolute_url)"
   ]
  },
  {
   "cell_type": "markdown",
   "metadata": {},
   "source": [
    "---\n",
    "### Processing multile links at all once\n",
    "\n",
    "Using list comprehension"
   ]
  },
  {
   "cell_type": "code",
   "execution_count": 26,
   "metadata": {},
   "outputs": [],
   "source": [
    "links = [l.get('href') for l in links] # for loop prints <a> tags line by line by order"
   ]
  },
  {
   "cell_type": "markdown",
   "metadata": {},
   "source": [
    "Some cleaning needed for \n",
    "- None\n",
    "- there are some external relative urls (i.e. #Etymology)"
   ]
  },
  {
   "cell_type": "code",
   "execution_count": 27,
   "metadata": {},
   "outputs": [
    {
     "data": {
      "text/plain": [
       "['#mw-head',\n",
       " '#searchInput',\n",
       " '/wiki/Music_(disambiguation)',\n",
       " '/wiki/File:Fran%C3%A7ois_Boucher,_Allegory_of_Music,_1764,_NGA_32680.jpg',\n",
       " '/wiki/Fran%C3%A7ois_Boucher',\n",
       " '/wiki/Paleolithic',\n",
       " '/wiki/Performing_arts',\n",
       " '/wiki/Acrobatics',\n",
       " '/wiki/Ballet',\n",
       " '/wiki/List_of_circus_skills',\n",
       " '/wiki/Clown',\n",
       " '/wiki/Dance',\n",
       " '/wiki/Gymnastics',\n",
       " '/wiki/Magic_(illusion)',\n",
       " '/wiki/Mime_artist',\n",
       " '/wiki/Opera',\n",
       " '/wiki/Professional_wrestling',\n",
       " '/wiki/Puppetry',\n",
       " '/wiki/Public_speaking']"
      ]
     },
     "execution_count": 27,
     "metadata": {},
     "output_type": "execute_result"
    }
   ],
   "source": [
    "clean_links = [l for l in links if l != None]\n",
    "clean_links[1:20]"
   ]
  },
  {
   "cell_type": "code",
   "execution_count": 28,
   "metadata": {
    "scrolled": true
   },
   "outputs": [
    {
     "data": {
      "text/plain": [
       "['/wiki/Music_(disambiguation)',\n",
       " '/wiki/File:Fran%C3%A7ois_Boucher,_Allegory_of_Music,_1764,_NGA_32680.jpg',\n",
       " '/wiki/Fran%C3%A7ois_Boucher',\n",
       " '/wiki/Paleolithic',\n",
       " '/wiki/Performing_arts',\n",
       " '/wiki/Acrobatics',\n",
       " '/wiki/Ballet',\n",
       " '/wiki/List_of_circus_skills',\n",
       " '/wiki/Clown',\n",
       " '/wiki/Dance',\n",
       " '/wiki/Gymnastics',\n",
       " '/wiki/Magic_(illusion)',\n",
       " '/wiki/Mime_artist',\n",
       " '/wiki/Opera',\n",
       " '/wiki/Professional_wrestling',\n",
       " '/wiki/Puppetry',\n",
       " '/wiki/Public_speaking',\n",
       " '/wiki/Theatre',\n",
       " '/wiki/Ventriloquism']"
      ]
     },
     "execution_count": 28,
     "metadata": {},
     "output_type": "execute_result"
    }
   ],
   "source": [
    "relative_urls = [link for link in clean_links if '/wiki/' in link]\n",
    "relative_urls[1:20]"
   ]
  },
  {
   "cell_type": "code",
   "execution_count": 30,
   "metadata": {
    "scrolled": true
   },
   "outputs": [
    {
     "data": {
      "text/plain": [
       "['https://en.wikipedia.org/wiki/Music_(disambiguation)',\n",
       " 'https://en.wikipedia.org/wiki/File:Fran%C3%A7ois_Boucher,_Allegory_of_Music,_1764,_NGA_32680.jpg',\n",
       " 'https://en.wikipedia.org/wiki/Fran%C3%A7ois_Boucher',\n",
       " 'https://en.wikipedia.org/wiki/Paleolithic',\n",
       " 'https://en.wikipedia.org/wiki/Performing_arts',\n",
       " 'https://en.wikipedia.org/wiki/Acrobatics',\n",
       " 'https://en.wikipedia.org/wiki/Ballet',\n",
       " 'https://en.wikipedia.org/wiki/List_of_circus_skills',\n",
       " 'https://en.wikipedia.org/wiki/Clown',\n",
       " 'https://en.wikipedia.org/wiki/Dance',\n",
       " 'https://en.wikipedia.org/wiki/Gymnastics',\n",
       " 'https://en.wikipedia.org/wiki/Magic_(illusion)',\n",
       " 'https://en.wikipedia.org/wiki/Mime_artist',\n",
       " 'https://en.wikipedia.org/wiki/Opera',\n",
       " 'https://en.wikipedia.org/wiki/Professional_wrestling',\n",
       " 'https://en.wikipedia.org/wiki/Puppetry',\n",
       " 'https://en.wikipedia.org/wiki/Public_speaking',\n",
       " 'https://en.wikipedia.org/wiki/Theatre',\n",
       " 'https://en.wikipedia.org/wiki/Ventriloquism']"
      ]
     },
     "execution_count": 30,
     "metadata": {},
     "output_type": "execute_result"
    }
   ],
   "source": [
    "full_urls = [urljoin(base_url, link) for link in relative_urls]\n",
    "full_urls[1:20]"
   ]
  },
  {
   "cell_type": "markdown",
   "metadata": {},
   "source": [
    "---\n",
    "<a id = '4.2'></a>\n",
    "### Extractng from nested tags\n",
    "Firstly on the website, inspect the element and find a unique identifier(tag). Then validate the tag, by inspecting other similar elements.\n",
    "\n",
    "After inspection on the webpage (try it!), I assumed the link that I want to scrape sits in <'a'> tag, which is located inside <'div'> tag with an attribute 'role = note'. By inspecting the rest, it is validated to be true."
   ]
  },
  {
   "cell_type": "code",
   "execution_count": 32,
   "metadata": {
    "scrolled": false
   },
   "outputs": [
    {
     "data": {
      "text/plain": [
       "[<div class=\"hatnote navigation-not-searchable\" role=\"note\">Main article: <a href=\"/wiki/Musical_composition\" title=\"Musical composition\">Musical composition</a></div>,\n",
       " <div class=\"hatnote navigation-not-searchable\" role=\"note\">Main article: <a href=\"/wiki/Musical_notation\" title=\"Musical notation\">Musical notation</a></div>,\n",
       " <div class=\"hatnote navigation-not-searchable\" role=\"note\">Main article: <a href=\"/wiki/Musical_improvisation\" title=\"Musical improvisation\">Musical improvisation</a></div>,\n",
       " <div class=\"hatnote navigation-not-searchable\" role=\"note\">Main article: <a href=\"/wiki/Music_theory\" title=\"Music theory\">Music theory</a></div>]"
      ]
     },
     "execution_count": 32,
     "metadata": {},
     "output_type": "execute_result"
    }
   ],
   "source": [
    "div_notes = data.find_all('div', {'role':'note'})\n",
    "div_notes[1:5]"
   ]
  },
  {
   "cell_type": "markdown",
   "metadata": {},
   "source": [
    "#### Inspect"
   ]
  },
  {
   "cell_type": "code",
   "execution_count": 39,
   "metadata": {},
   "outputs": [
    {
     "data": {
      "text/plain": [
       "[<a href=\"/wiki/Music_education\" title=\"Music education\">Music education</a>]"
      ]
     },
     "execution_count": 39,
     "metadata": {},
     "output_type": "execute_result"
    }
   ],
   "source": [
    "div_notes[20].find_all('a')"
   ]
  },
  {
   "cell_type": "code",
   "execution_count": 93,
   "metadata": {},
   "outputs": [
    {
     "data": {
      "text/plain": [
       "[[<a href=\"/wiki/Musical_composition\" title=\"Musical composition\">Musical composition</a>],\n",
       " [<a href=\"/wiki/Musical_notation\" title=\"Musical notation\">Musical notation</a>],\n",
       " [<a href=\"/wiki/Musical_improvisation\" title=\"Musical improvisation\">Musical improvisation</a>],\n",
       " [<a href=\"/wiki/Music_theory\" title=\"Music theory\">Music theory</a>],\n",
       " [<a href=\"/wiki/Elements_of_music\" title=\"Elements of music\">Elements of music</a>],\n",
       " [<a href=\"/wiki/Strophic_form\" title=\"Strophic form\">Strophic form</a>,\n",
       "  <a href=\"/wiki/Binary_form\" title=\"Binary form\">Binary form</a>,\n",
       "  <a href=\"/wiki/Ternary_form\" title=\"Ternary form\">Ternary form</a>,\n",
       "  <a class=\"mw-redirect\" href=\"/wiki/Rondo_form\" title=\"Rondo form\">Rondo form</a>,\n",
       "  <a href=\"/wiki/Variation_(music)\" title=\"Variation (music)\">Variation (music)</a>,\n",
       "  <a href=\"/wiki/Musical_development\" title=\"Musical development\">Musical development</a>],\n",
       " [<a href=\"/wiki/History_of_music\" title=\"History of music\">History of music</a>],\n",
       " [<a href=\"/wiki/Music_of_Egypt\" title=\"Music of Egypt\">Music of Egypt</a>],\n",
       " [<a href=\"/wiki/History_of_music_in_the_biblical_period\" title=\"History of music in the biblical period\">History of music in the biblical period</a>]]"
      ]
     },
     "execution_count": 93,
     "metadata": {},
     "output_type": "execute_result"
    }
   ],
   "source": [
    "div_links = [div.find_all('a') for div in div_notes]\n",
    "div_links[1:10]# some div tags contain more than one link "
   ]
  },
  {
   "cell_type": "markdown",
   "metadata": {},
   "source": [
    "As some div tags contain more than one link, we iterate again from div_notes to obtain link line by line."
   ]
  },
  {
   "cell_type": "code",
   "execution_count": 41,
   "metadata": {},
   "outputs": [],
   "source": [
    "div_links = []\n",
    "\n",
    "for div in div_notes:\n",
    "    links = div.find_all('a')\n",
    "    \n",
    "    for link in links:\n",
    "        div_links.append(link)"
   ]
  },
  {
   "cell_type": "code",
   "execution_count": 43,
   "metadata": {},
   "outputs": [
    {
     "data": {
      "text/plain": [
       "[<a href=\"/wiki/Musical_composition\" title=\"Musical composition\">Musical composition</a>,\n",
       " <a href=\"/wiki/Musical_notation\" title=\"Musical notation\">Musical notation</a>,\n",
       " <a href=\"/wiki/Musical_improvisation\" title=\"Musical improvisation\">Musical improvisation</a>,\n",
       " <a href=\"/wiki/Music_theory\" title=\"Music theory\">Music theory</a>,\n",
       " <a href=\"/wiki/Elements_of_music\" title=\"Elements of music\">Elements of music</a>,\n",
       " <a href=\"/wiki/Strophic_form\" title=\"Strophic form\">Strophic form</a>,\n",
       " <a href=\"/wiki/Binary_form\" title=\"Binary form\">Binary form</a>,\n",
       " <a href=\"/wiki/Ternary_form\" title=\"Ternary form\">Ternary form</a>,\n",
       " <a class=\"mw-redirect\" href=\"/wiki/Rondo_form\" title=\"Rondo form\">Rondo form</a>]"
      ]
     },
     "execution_count": 43,
     "metadata": {},
     "output_type": "execute_result"
    }
   ],
   "source": [
    "div_links[1:10]"
   ]
  },
  {
   "cell_type": "markdown",
   "metadata": {},
   "source": [
    "Combine the link (inside href attribute) with base_url, and get absolute_urls."
   ]
  },
  {
   "cell_type": "code",
   "execution_count": 44,
   "metadata": {},
   "outputs": [],
   "source": [
    "abs_urls = [urljoin(base_url, link.get('href')) for link in div_links]"
   ]
  },
  {
   "cell_type": "code",
   "execution_count": 46,
   "metadata": {},
   "outputs": [
    {
     "data": {
      "text/plain": [
       "['https://en.wikipedia.org/wiki/Musical_composition',\n",
       " 'https://en.wikipedia.org/wiki/Musical_notation',\n",
       " 'https://en.wikipedia.org/wiki/Musical_improvisation',\n",
       " 'https://en.wikipedia.org/wiki/Music_theory',\n",
       " 'https://en.wikipedia.org/wiki/Elements_of_music',\n",
       " 'https://en.wikipedia.org/wiki/Strophic_form',\n",
       " 'https://en.wikipedia.org/wiki/Binary_form',\n",
       " 'https://en.wikipedia.org/wiki/Ternary_form',\n",
       " 'https://en.wikipedia.org/wiki/Rondo_form']"
      ]
     },
     "execution_count": 46,
     "metadata": {},
     "output_type": "execute_result"
    }
   ],
   "source": [
    "abs_urls[1:10]"
   ]
  },
  {
   "cell_type": "markdown",
   "metadata": {},
   "source": [
    "<a id = '4.3'></a>\n",
    "### Scraping multiple pages automatically\n",
    "\n",
    "We'll try to get main texts from links that we scraped above. So we need understanding how to connect to multiple pages in small amount of time and efforts."
   ]
  },
  {
   "cell_type": "code",
   "execution_count": 51,
   "metadata": {},
   "outputs": [],
   "source": [
    "url_list = abs_urls"
   ]
  },
  {
   "cell_type": "code",
   "execution_count": 52,
   "metadata": {},
   "outputs": [],
   "source": [
    "import requests\n",
    "from bs4 import BeautifulSoup\n",
    "\n",
    "def wiki_contents_extract(url_list):    \n",
    "    texts = []\n",
    "    i = 0 # counter to check or debug this function\n",
    "    for url in url_list:\n",
    "        response = requests.get(url)\n",
    "        if response.status_code != 200:\n",
    "            print(\"We cannot access the url. Check again.\")\n",
    "        else:\n",
    "            print('Url #{}, {}'.format(i, url))\n",
    "            try:\n",
    "                html = response.content\n",
    "                data = BeautifulSoup(html, 'lxml')\n",
    "        \n",
    "            except:\n",
    "                print(\"We cannot parse the url. Check the code.\")\n",
    "        \n",
    "        paragraphs = data.find_all('p')\n",
    "        contents = [p.text for p in paragraphs]\n",
    "        \n",
    "        texts.append(contents)\n",
    "\n",
    "        i = i + 1\n",
    "        \n",
    "    return texts"
   ]
  },
  {
   "cell_type": "code",
   "execution_count": 53,
   "metadata": {},
   "outputs": [
    {
     "name": "stdout",
     "output_type": "stream",
     "text": [
      "Url #0, https://en.wikipedia.org/wiki/Music_(disambiguation)\n",
      "Url #1, https://en.wikipedia.org/wiki/Musical_composition\n",
      "Url #2, https://en.wikipedia.org/wiki/Musical_notation\n",
      "Url #3, https://en.wikipedia.org/wiki/Musical_improvisation\n",
      "Url #4, https://en.wikipedia.org/wiki/Music_theory\n",
      "Url #5, https://en.wikipedia.org/wiki/Elements_of_music\n",
      "Url #6, https://en.wikipedia.org/wiki/Strophic_form\n",
      "Url #7, https://en.wikipedia.org/wiki/Binary_form\n",
      "Url #8, https://en.wikipedia.org/wiki/Ternary_form\n",
      "Url #9, https://en.wikipedia.org/wiki/Rondo_form\n",
      "Url #10, https://en.wikipedia.org/wiki/Variation_(music)\n",
      "Url #11, https://en.wikipedia.org/wiki/Musical_development\n",
      "Url #12, https://en.wikipedia.org/wiki/History_of_music\n",
      "Url #13, https://en.wikipedia.org/wiki/Music_of_Egypt\n",
      "Url #14, https://en.wikipedia.org/wiki/History_of_music_in_the_biblical_period\n",
      "Url #15, https://en.wikipedia.org/wiki/20th-century_music\n",
      "Url #16, https://en.wikipedia.org/wiki/Aesthetics_of_music\n",
      "Url #17, https://en.wikipedia.org/wiki/Neuroscience_of_music\n",
      "Url #18, https://en.wikipedia.org/wiki/Hearing\n",
      "Url #19, https://en.wikipedia.org/wiki/Culture_in_music_cognition\n",
      "Url #20, https://en.wikipedia.org/wiki/Ethnomusicology\n",
      "Url #21, https://en.wikipedia.org/wiki/Sociomusicology\n",
      "Url #22, https://en.wikipedia.org/wiki/Women_in_music\n",
      "Url #23, https://en.wikipedia.org/wiki/Computer_music\n",
      "Url #24, https://en.wikipedia.org/wiki/Music_technology\n",
      "Url #25, https://en.wikipedia.org/wiki/Royalty_payment#Music_royalties\n",
      "Url #26, https://en.wikipedia.org/wiki/Music_education\n",
      "Url #27, https://en.wikipedia.org/wiki/Ethnomusicology\n",
      "Url #28, https://en.wikipedia.org/wiki/Outline_of_music\n",
      "Url #29, https://en.wikipedia.org/wiki/Index_of_music_articles\n"
     ]
    }
   ],
   "source": [
    "texts = wiki_contents_extract(url_list)"
   ]
  },
  {
   "cell_type": "markdown",
   "metadata": {},
   "source": [
    "Using .join method to combine all texts."
   ]
  },
  {
   "cell_type": "code",
   "execution_count": 94,
   "metadata": {},
   "outputs": [
    {
     "name": "stdout",
     "output_type": "stream",
     "text": [
      "['Music is an art form consisting of sound and silence, expressed through time.\\n', 'Music may also refer to:\\n']\n",
      "Music is an art form consisting of sound and silence, expressed through time.\n",
      "Music may also refer to:\n",
      "\n"
     ]
    }
   ],
   "source": [
    "print(texts[0])\n",
    "print(''.join(texts[0]))"
   ]
  },
  {
   "cell_type": "code",
   "execution_count": 60,
   "metadata": {
    "scrolled": false
   },
   "outputs": [],
   "source": [
    "page_text = [''.join(text) for text in texts]"
   ]
  },
  {
   "cell_type": "markdown",
   "metadata": {},
   "source": [
    "#### For easier look up, we make a dictionary. Urls will be used as keys."
   ]
  },
  {
   "cell_type": "code",
   "execution_count": 61,
   "metadata": {},
   "outputs": [],
   "source": [
    "text_dictionary = dict(zip(url_list, page_text))"
   ]
  }
 ],
 "metadata": {
  "kernelspec": {
   "display_name": "Python 3",
   "language": "python",
   "name": "python3"
  },
  "language_info": {
   "codemirror_mode": {
    "name": "ipython",
    "version": 3
   },
   "file_extension": ".py",
   "mimetype": "text/x-python",
   "name": "python",
   "nbconvert_exporter": "python",
   "pygments_lexer": "ipython3",
   "version": "3.7.6"
  }
 },
 "nbformat": 4,
 "nbformat_minor": 4
}
