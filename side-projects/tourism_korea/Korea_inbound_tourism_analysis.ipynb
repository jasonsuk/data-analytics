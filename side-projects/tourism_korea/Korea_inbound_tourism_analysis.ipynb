{
 "cells": [
  {
   "cell_type": "markdown",
   "metadata": {},
   "source": [
    "Data Source : https://www.kaggle.com/bappekim/south-korea-visitors\n",
    "\n",
    "Description by author : This dataset deals with the visitors of foreigners into South Korea.\n",
    "It includes foreigners(not Korean), overseas Koreans and crew members, except for some of the foreign arrivals who are not considered tourists (diplomats, soldiers, permanent residents, visiting cohabitation and residence. (...) I created this dataset by rebuilding the data provided by KTO (Korea Tourim Organization) for easy analysis."
   ]
  },
  {
   "cell_type": "code",
   "execution_count": 1,
   "metadata": {},
   "outputs": [],
   "source": [
    "import pandas as pd\n",
    "import numpy as np\n",
    "import matplotlib.pyplot as plt\n",
    "import seaborn as sns\n",
    "import os"
   ]
  },
  {
   "cell_type": "markdown",
   "metadata": {},
   "source": [
    "### Importing data"
   ]
  },
  {
   "cell_type": "code",
   "execution_count": 2,
   "metadata": {},
   "outputs": [],
   "source": [
    "base_path = os.getcwd()\n",
    "csv_by_age = os.path.join(base_path, 'tourism-data', 'inbound_korea_by_age.csv')\n",
    "csv_by_gender = os.path.join(base_path, 'tourism-data', 'inbound_korea_by_gender.csv')\n",
    "csv_by_purpose = os.path.join(base_path, 'tourism-data', 'inbound_korea_by_purpose.csv')"
   ]
  },
  {
   "cell_type": "code",
   "execution_count": 3,
   "metadata": {},
   "outputs": [],
   "source": [
    "df_age = pd.read_csv(csv_by_age)\n",
    "df_gender = pd.read_csv(csv_by_gender)\n",
    "df_purpose = pd.read_csv(csv_by_purpose)"
   ]
  },
  {
   "cell_type": "markdown",
   "metadata": {},
   "source": [
    "### Data Assessment and Cleaning\n",
    "\n",
    "No null data and dataset are well documented and clean. Extra wrangling on data type only."
   ]
  },
  {
   "cell_type": "markdown",
   "metadata": {},
   "source": [
    "Convert to datetime and percent term in preparation of any calculation later."
   ]
  },
  {
   "cell_type": "code",
   "execution_count": 4,
   "metadata": {},
   "outputs": [],
   "source": [
    "dfs = [df_age, df_gender, df_purpose]"
   ]
  },
  {
   "cell_type": "code",
   "execution_count": 5,
   "metadata": {},
   "outputs": [],
   "source": [
    "def toDatetime(df, col) :\n",
    "    df[col] = pd.to_datetime(df[col])"
   ]
  },
  {
   "cell_type": "code",
   "execution_count": 6,
   "metadata": {},
   "outputs": [],
   "source": [
    "def convertToPercent(df, col) :\n",
    "    df[col] = df[col].apply(lambda x : x/100)"
   ]
  },
  {
   "cell_type": "code",
   "execution_count": 7,
   "metadata": {
    "scrolled": true
   },
   "outputs": [],
   "source": [
    "for df in dfs :\n",
    "    toDatetime(df, 'date')\n",
    "    convertToPercent(df, 'growth')\n",
    "    convertToPercent(df, 'share')"
   ]
  },
  {
   "cell_type": "markdown",
   "metadata": {},
   "source": [
    "Visitor by age total does not perfectly match with visitor total. So I create a column for this statistical error."
   ]
  },
  {
   "cell_type": "code",
   "execution_count": 8,
   "metadata": {},
   "outputs": [],
   "source": [
    "age_cols = ['age0-20', 'age21-30', 'age31-40', 'age41-50', 'age51-60', 'age61']"
   ]
  },
  {
   "cell_type": "code",
   "execution_count": 9,
   "metadata": {
    "scrolled": true
   },
   "outputs": [
    {
     "data": {
      "text/plain": [
       "0      False\n",
       "1      False\n",
       "2      False\n",
       "3      False\n",
       "4      False\n",
       "       ...  \n",
       "955    False\n",
       "956    False\n",
       "957    False\n",
       "958    False\n",
       "959     True\n",
       "Length: 960, dtype: bool"
      ]
     },
     "execution_count": 9,
     "metadata": {},
     "output_type": "execute_result"
    }
   ],
   "source": [
    "df_age.loc[:, age_cols].sum(axis=1) == df_age.visitor"
   ]
  },
  {
   "cell_type": "code",
   "execution_count": 10,
   "metadata": {},
   "outputs": [],
   "source": [
    "df_age['error_count'] = df_age.visitor - df_age.loc[:, age_cols].sum(axis=1)"
   ]
  },
  {
   "cell_type": "markdown",
   "metadata": {},
   "source": [
    "---\n",
    "`df_gender`, `df_purpose` : the sum of the sub-category matches with the total visitor"
   ]
  },
  {
   "cell_type": "code",
   "execution_count": 11,
   "metadata": {
    "scrolled": false
   },
   "outputs": [
    {
     "data": {
      "text/plain": [
       "True"
      ]
     },
     "execution_count": 11,
     "metadata": {},
     "output_type": "execute_result"
    }
   ],
   "source": [
    "( df_gender[['male', 'female', 'crewman']].sum(axis=1) == df_gender['visitor'] ).all()"
   ]
  },
  {
   "cell_type": "code",
   "execution_count": 12,
   "metadata": {},
   "outputs": [
    {
     "data": {
      "text/plain": [
       "True"
      ]
     },
     "execution_count": 12,
     "metadata": {},
     "output_type": "execute_result"
    }
   ],
   "source": [
    "( df_purpose[['tourism', 'business','official affairs', 'studying', 'others']]\n",
    "     .sum(axis=1) == df_gender['visitor'] ).all()"
   ]
  },
  {
   "cell_type": "markdown",
   "metadata": {},
   "source": [
    "---\n",
    "### Merging and storing the dataset "
   ]
  },
  {
   "cell_type": "code",
   "execution_count": 13,
   "metadata": {},
   "outputs": [
    {
     "data": {
      "text/plain": [
       "True"
      ]
     },
     "execution_count": 13,
     "metadata": {},
     "output_type": "execute_result"
    }
   ],
   "source": [
    "df_age.shape[0] == df_gender.shape[0] == df_purpose.shape[0]"
   ]
  },
  {
   "cell_type": "code",
   "execution_count": 14,
   "metadata": {},
   "outputs": [
    {
     "data": {
      "text/html": [
       "<div>\n",
       "<style scoped>\n",
       "    .dataframe tbody tr th:only-of-type {\n",
       "        vertical-align: middle;\n",
       "    }\n",
       "\n",
       "    .dataframe tbody tr th {\n",
       "        vertical-align: top;\n",
       "    }\n",
       "\n",
       "    .dataframe thead th {\n",
       "        text-align: right;\n",
       "    }\n",
       "</style>\n",
       "<table border=\"1\" class=\"dataframe\">\n",
       "  <thead>\n",
       "    <tr style=\"text-align: right;\">\n",
       "      <th></th>\n",
       "      <th>date</th>\n",
       "      <th>nation</th>\n",
       "      <th>visitor_x</th>\n",
       "      <th>growth_x</th>\n",
       "      <th>share_x</th>\n",
       "      <th>age0-20</th>\n",
       "      <th>age21-30</th>\n",
       "      <th>age31-40</th>\n",
       "      <th>age41-50</th>\n",
       "      <th>age51-60</th>\n",
       "      <th>age61</th>\n",
       "      <th>error_count</th>\n",
       "      <th>visitor_y</th>\n",
       "      <th>growth_y</th>\n",
       "      <th>share_y</th>\n",
       "      <th>male</th>\n",
       "      <th>female</th>\n",
       "      <th>crewman</th>\n",
       "    </tr>\n",
       "  </thead>\n",
       "  <tbody>\n",
       "    <tr>\n",
       "      <th>0</th>\n",
       "      <td>2019-01-01</td>\n",
       "      <td>China</td>\n",
       "      <td>392814</td>\n",
       "      <td>0.287379</td>\n",
       "      <td>0.355551</td>\n",
       "      <td>36520</td>\n",
       "      <td>108591</td>\n",
       "      <td>103657</td>\n",
       "      <td>48574</td>\n",
       "      <td>40893</td>\n",
       "      <td>40998</td>\n",
       "      <td>13581</td>\n",
       "      <td>392814</td>\n",
       "      <td>0.287379</td>\n",
       "      <td>0.355551</td>\n",
       "      <td>147511</td>\n",
       "      <td>231722</td>\n",
       "      <td>13581</td>\n",
       "    </tr>\n",
       "    <tr>\n",
       "      <th>1</th>\n",
       "      <td>2019-01-01</td>\n",
       "      <td>Japan</td>\n",
       "      <td>206526</td>\n",
       "      <td>0.236068</td>\n",
       "      <td>0.186935</td>\n",
       "      <td>18015</td>\n",
       "      <td>57921</td>\n",
       "      <td>34165</td>\n",
       "      <td>39811</td>\n",
       "      <td>33857</td>\n",
       "      <td>20330</td>\n",
       "      <td>2427</td>\n",
       "      <td>206526</td>\n",
       "      <td>0.236068</td>\n",
       "      <td>0.186935</td>\n",
       "      <td>75070</td>\n",
       "      <td>129029</td>\n",
       "      <td>2427</td>\n",
       "    </tr>\n",
       "    <tr>\n",
       "      <th>2</th>\n",
       "      <td>2019-01-01</td>\n",
       "      <td>Taiwan</td>\n",
       "      <td>87954</td>\n",
       "      <td>0.160037</td>\n",
       "      <td>0.079611</td>\n",
       "      <td>18888</td>\n",
       "      <td>17927</td>\n",
       "      <td>18595</td>\n",
       "      <td>18862</td>\n",
       "      <td>8169</td>\n",
       "      <td>4566</td>\n",
       "      <td>947</td>\n",
       "      <td>87954</td>\n",
       "      <td>0.160037</td>\n",
       "      <td>0.079611</td>\n",
       "      <td>30805</td>\n",
       "      <td>56202</td>\n",
       "      <td>947</td>\n",
       "    </tr>\n",
       "  </tbody>\n",
       "</table>\n",
       "</div>"
      ],
      "text/plain": [
       "        date  nation  visitor_x  growth_x   share_x  age0-20  age21-30  \\\n",
       "0 2019-01-01   China     392814  0.287379  0.355551    36520    108591   \n",
       "1 2019-01-01   Japan     206526  0.236068  0.186935    18015     57921   \n",
       "2 2019-01-01  Taiwan      87954  0.160037  0.079611    18888     17927   \n",
       "\n",
       "   age31-40  age41-50  age51-60  age61  error_count  visitor_y  growth_y  \\\n",
       "0    103657     48574     40893  40998        13581     392814  0.287379   \n",
       "1     34165     39811     33857  20330         2427     206526  0.236068   \n",
       "2     18595     18862      8169   4566          947      87954  0.160037   \n",
       "\n",
       "    share_y    male  female  crewman  \n",
       "0  0.355551  147511  231722    13581  \n",
       "1  0.186935   75070  129029     2427  \n",
       "2  0.079611   30805   56202      947  "
      ]
     },
     "execution_count": 14,
     "metadata": {},
     "output_type": "execute_result"
    }
   ],
   "source": [
    "temp1 = pd.merge(left=df_age, right=df_gender, how='outer', on = ['date', 'nation'])\n",
    "temp1.head(3)"
   ]
  },
  {
   "cell_type": "markdown",
   "metadata": {},
   "source": [
    "Clean duplicates"
   ]
  },
  {
   "cell_type": "code",
   "execution_count": 15,
   "metadata": {},
   "outputs": [],
   "source": [
    "def cleanDuplicates(df, col1, col2) : \n",
    "    if (df[col1] == df[col2]).all() :\n",
    "        df.drop(columns = [col2], inplace = True)"
   ]
  },
  {
   "cell_type": "code",
   "execution_count": 16,
   "metadata": {},
   "outputs": [],
   "source": [
    "cleanDuplicates(temp1, 'visitor_x', 'visitor_y')\n",
    "cleanDuplicates(temp1, 'growth_x', 'growth_y')\n",
    "cleanDuplicates(temp1, 'share_x', 'share_y')"
   ]
  },
  {
   "cell_type": "code",
   "execution_count": 17,
   "metadata": {},
   "outputs": [
    {
     "data": {
      "text/html": [
       "<div>\n",
       "<style scoped>\n",
       "    .dataframe tbody tr th:only-of-type {\n",
       "        vertical-align: middle;\n",
       "    }\n",
       "\n",
       "    .dataframe tbody tr th {\n",
       "        vertical-align: top;\n",
       "    }\n",
       "\n",
       "    .dataframe thead th {\n",
       "        text-align: right;\n",
       "    }\n",
       "</style>\n",
       "<table border=\"1\" class=\"dataframe\">\n",
       "  <thead>\n",
       "    <tr style=\"text-align: right;\">\n",
       "      <th></th>\n",
       "      <th>date</th>\n",
       "      <th>nation</th>\n",
       "      <th>visitor_x</th>\n",
       "      <th>growth_x</th>\n",
       "      <th>share_x</th>\n",
       "      <th>age0-20</th>\n",
       "      <th>age21-30</th>\n",
       "      <th>age31-40</th>\n",
       "      <th>age41-50</th>\n",
       "      <th>age51-60</th>\n",
       "      <th>...</th>\n",
       "      <th>female</th>\n",
       "      <th>crewman</th>\n",
       "      <th>visitor</th>\n",
       "      <th>growth</th>\n",
       "      <th>share</th>\n",
       "      <th>tourism</th>\n",
       "      <th>business</th>\n",
       "      <th>official affairs</th>\n",
       "      <th>studying</th>\n",
       "      <th>others</th>\n",
       "    </tr>\n",
       "  </thead>\n",
       "  <tbody>\n",
       "    <tr>\n",
       "      <th>0</th>\n",
       "      <td>2019-01-01</td>\n",
       "      <td>China</td>\n",
       "      <td>392814</td>\n",
       "      <td>0.287379</td>\n",
       "      <td>0.355551</td>\n",
       "      <td>36520</td>\n",
       "      <td>108591</td>\n",
       "      <td>103657</td>\n",
       "      <td>48574</td>\n",
       "      <td>40893</td>\n",
       "      <td>...</td>\n",
       "      <td>231722</td>\n",
       "      <td>13581</td>\n",
       "      <td>392814</td>\n",
       "      <td>0.287379</td>\n",
       "      <td>0.355551</td>\n",
       "      <td>320113</td>\n",
       "      <td>2993</td>\n",
       "      <td>138</td>\n",
       "      <td>8793</td>\n",
       "      <td>60777</td>\n",
       "    </tr>\n",
       "    <tr>\n",
       "      <th>1</th>\n",
       "      <td>2019-01-01</td>\n",
       "      <td>Japan</td>\n",
       "      <td>206526</td>\n",
       "      <td>0.236068</td>\n",
       "      <td>0.186935</td>\n",
       "      <td>18015</td>\n",
       "      <td>57921</td>\n",
       "      <td>34165</td>\n",
       "      <td>39811</td>\n",
       "      <td>33857</td>\n",
       "      <td>...</td>\n",
       "      <td>129029</td>\n",
       "      <td>2427</td>\n",
       "      <td>206526</td>\n",
       "      <td>0.236068</td>\n",
       "      <td>0.186935</td>\n",
       "      <td>198805</td>\n",
       "      <td>2233</td>\n",
       "      <td>127</td>\n",
       "      <td>785</td>\n",
       "      <td>4576</td>\n",
       "    </tr>\n",
       "    <tr>\n",
       "      <th>2</th>\n",
       "      <td>2019-01-01</td>\n",
       "      <td>Taiwan</td>\n",
       "      <td>87954</td>\n",
       "      <td>0.160037</td>\n",
       "      <td>0.079611</td>\n",
       "      <td>18888</td>\n",
       "      <td>17927</td>\n",
       "      <td>18595</td>\n",
       "      <td>18862</td>\n",
       "      <td>8169</td>\n",
       "      <td>...</td>\n",
       "      <td>56202</td>\n",
       "      <td>947</td>\n",
       "      <td>87954</td>\n",
       "      <td>0.160037</td>\n",
       "      <td>0.079611</td>\n",
       "      <td>86393</td>\n",
       "      <td>74</td>\n",
       "      <td>22</td>\n",
       "      <td>180</td>\n",
       "      <td>1285</td>\n",
       "    </tr>\n",
       "  </tbody>\n",
       "</table>\n",
       "<p>3 rows × 23 columns</p>\n",
       "</div>"
      ],
      "text/plain": [
       "        date  nation  visitor_x  growth_x   share_x  age0-20  age21-30  \\\n",
       "0 2019-01-01   China     392814  0.287379  0.355551    36520    108591   \n",
       "1 2019-01-01   Japan     206526  0.236068  0.186935    18015     57921   \n",
       "2 2019-01-01  Taiwan      87954  0.160037  0.079611    18888     17927   \n",
       "\n",
       "   age31-40  age41-50  age51-60  ...  female  crewman  visitor    growth  \\\n",
       "0    103657     48574     40893  ...  231722    13581   392814  0.287379   \n",
       "1     34165     39811     33857  ...  129029     2427   206526  0.236068   \n",
       "2     18595     18862      8169  ...   56202      947    87954  0.160037   \n",
       "\n",
       "      share  tourism  business  official affairs  studying  others  \n",
       "0  0.355551   320113      2993               138      8793   60777  \n",
       "1  0.186935   198805      2233               127       785    4576  \n",
       "2  0.079611    86393        74                22       180    1285  \n",
       "\n",
       "[3 rows x 23 columns]"
      ]
     },
     "execution_count": 17,
     "metadata": {},
     "output_type": "execute_result"
    }
   ],
   "source": [
    "temp2 = pd.merge(left = temp1, right = df_purpose, how = 'outer', on = ['date','nation'])\n",
    "temp2.head(3)"
   ]
  },
  {
   "cell_type": "code",
   "execution_count": 18,
   "metadata": {},
   "outputs": [],
   "source": [
    "cleanDuplicates(temp2, 'visitor_x', 'visitor')\n",
    "cleanDuplicates(temp2, 'growth_x', 'growth')\n",
    "cleanDuplicates(temp2, 'share_x', 'share')"
   ]
  },
  {
   "cell_type": "markdown",
   "metadata": {},
   "source": [
    "Edit column names"
   ]
  },
  {
   "cell_type": "code",
   "execution_count": 19,
   "metadata": {
    "scrolled": true
   },
   "outputs": [],
   "source": [
    "temp2.columns = temp2.columns.str.replace(' ','_')"
   ]
  },
  {
   "cell_type": "code",
   "execution_count": 20,
   "metadata": {},
   "outputs": [],
   "source": [
    "temp2.columns = temp2.columns.str.replace('_x', '')"
   ]
  },
  {
   "cell_type": "markdown",
   "metadata": {},
   "source": [
    "Store the clean data"
   ]
  },
  {
   "cell_type": "code",
   "execution_count": 21,
   "metadata": {},
   "outputs": [],
   "source": [
    "temp2.to_csv('tourism-data/korea_tourism_inbound_clean_v1.csv', index = False)"
   ]
  },
  {
   "cell_type": "markdown",
   "metadata": {},
   "source": [
    "---"
   ]
  },
  {
   "cell_type": "code",
   "execution_count": 22,
   "metadata": {},
   "outputs": [],
   "source": [
    "df = pd.read_csv('tourism-data/korea_tourism_inbound_clean_v1.csv')"
   ]
  },
  {
   "cell_type": "code",
   "execution_count": 23,
   "metadata": {},
   "outputs": [
    {
     "data": {
      "text/html": [
       "<div>\n",
       "<style scoped>\n",
       "    .dataframe tbody tr th:only-of-type {\n",
       "        vertical-align: middle;\n",
       "    }\n",
       "\n",
       "    .dataframe tbody tr th {\n",
       "        vertical-align: top;\n",
       "    }\n",
       "\n",
       "    .dataframe thead th {\n",
       "        text-align: right;\n",
       "    }\n",
       "</style>\n",
       "<table border=\"1\" class=\"dataframe\">\n",
       "  <thead>\n",
       "    <tr style=\"text-align: right;\">\n",
       "      <th></th>\n",
       "      <th>date</th>\n",
       "      <th>nation</th>\n",
       "      <th>visitor</th>\n",
       "      <th>growth</th>\n",
       "      <th>share</th>\n",
       "      <th>age0-20</th>\n",
       "      <th>age21-30</th>\n",
       "      <th>age31-40</th>\n",
       "      <th>age41-50</th>\n",
       "      <th>age51-60</th>\n",
       "      <th>age61</th>\n",
       "      <th>error_count</th>\n",
       "      <th>male</th>\n",
       "      <th>female</th>\n",
       "      <th>crewman</th>\n",
       "      <th>tourism</th>\n",
       "      <th>business</th>\n",
       "      <th>official_affairs</th>\n",
       "      <th>studying</th>\n",
       "      <th>others</th>\n",
       "    </tr>\n",
       "  </thead>\n",
       "  <tbody>\n",
       "    <tr>\n",
       "      <th>0</th>\n",
       "      <td>2019-01-01</td>\n",
       "      <td>China</td>\n",
       "      <td>392814</td>\n",
       "      <td>0.287379</td>\n",
       "      <td>0.355551</td>\n",
       "      <td>36520</td>\n",
       "      <td>108591</td>\n",
       "      <td>103657</td>\n",
       "      <td>48574</td>\n",
       "      <td>40893</td>\n",
       "      <td>40998</td>\n",
       "      <td>13581</td>\n",
       "      <td>147511</td>\n",
       "      <td>231722</td>\n",
       "      <td>13581</td>\n",
       "      <td>320113</td>\n",
       "      <td>2993</td>\n",
       "      <td>138</td>\n",
       "      <td>8793</td>\n",
       "      <td>60777</td>\n",
       "    </tr>\n",
       "    <tr>\n",
       "      <th>1</th>\n",
       "      <td>2019-01-01</td>\n",
       "      <td>Japan</td>\n",
       "      <td>206526</td>\n",
       "      <td>0.236068</td>\n",
       "      <td>0.186935</td>\n",
       "      <td>18015</td>\n",
       "      <td>57921</td>\n",
       "      <td>34165</td>\n",
       "      <td>39811</td>\n",
       "      <td>33857</td>\n",
       "      <td>20330</td>\n",
       "      <td>2427</td>\n",
       "      <td>75070</td>\n",
       "      <td>129029</td>\n",
       "      <td>2427</td>\n",
       "      <td>198805</td>\n",
       "      <td>2233</td>\n",
       "      <td>127</td>\n",
       "      <td>785</td>\n",
       "      <td>4576</td>\n",
       "    </tr>\n",
       "    <tr>\n",
       "      <th>2</th>\n",
       "      <td>2019-01-01</td>\n",
       "      <td>Taiwan</td>\n",
       "      <td>87954</td>\n",
       "      <td>0.160037</td>\n",
       "      <td>0.079611</td>\n",
       "      <td>18888</td>\n",
       "      <td>17927</td>\n",
       "      <td>18595</td>\n",
       "      <td>18862</td>\n",
       "      <td>8169</td>\n",
       "      <td>4566</td>\n",
       "      <td>947</td>\n",
       "      <td>30805</td>\n",
       "      <td>56202</td>\n",
       "      <td>947</td>\n",
       "      <td>86393</td>\n",
       "      <td>74</td>\n",
       "      <td>22</td>\n",
       "      <td>180</td>\n",
       "      <td>1285</td>\n",
       "    </tr>\n",
       "    <tr>\n",
       "      <th>3</th>\n",
       "      <td>2019-01-01</td>\n",
       "      <td>Hong Kong</td>\n",
       "      <td>35896</td>\n",
       "      <td>0.035332</td>\n",
       "      <td>0.032491</td>\n",
       "      <td>3890</td>\n",
       "      <td>11384</td>\n",
       "      <td>7400</td>\n",
       "      <td>5461</td>\n",
       "      <td>4629</td>\n",
       "      <td>2137</td>\n",
       "      <td>995</td>\n",
       "      <td>12172</td>\n",
       "      <td>22729</td>\n",
       "      <td>995</td>\n",
       "      <td>34653</td>\n",
       "      <td>59</td>\n",
       "      <td>2</td>\n",
       "      <td>90</td>\n",
       "      <td>1092</td>\n",
       "    </tr>\n",
       "    <tr>\n",
       "      <th>4</th>\n",
       "      <td>2019-01-01</td>\n",
       "      <td>Macao</td>\n",
       "      <td>2570</td>\n",
       "      <td>-0.123764</td>\n",
       "      <td>0.002326</td>\n",
       "      <td>223</td>\n",
       "      <td>1013</td>\n",
       "      <td>762</td>\n",
       "      <td>264</td>\n",
       "      <td>181</td>\n",
       "      <td>92</td>\n",
       "      <td>35</td>\n",
       "      <td>748</td>\n",
       "      <td>1787</td>\n",
       "      <td>35</td>\n",
       "      <td>2506</td>\n",
       "      <td>2</td>\n",
       "      <td>0</td>\n",
       "      <td>17</td>\n",
       "      <td>45</td>\n",
       "    </tr>\n",
       "  </tbody>\n",
       "</table>\n",
       "</div>"
      ],
      "text/plain": [
       "         date     nation  visitor    growth     share  age0-20  age21-30  \\\n",
       "0  2019-01-01      China   392814  0.287379  0.355551    36520    108591   \n",
       "1  2019-01-01      Japan   206526  0.236068  0.186935    18015     57921   \n",
       "2  2019-01-01     Taiwan    87954  0.160037  0.079611    18888     17927   \n",
       "3  2019-01-01  Hong Kong    35896  0.035332  0.032491     3890     11384   \n",
       "4  2019-01-01      Macao     2570 -0.123764  0.002326      223      1013   \n",
       "\n",
       "   age31-40  age41-50  age51-60  age61  error_count    male  female  crewman  \\\n",
       "0    103657     48574     40893  40998        13581  147511  231722    13581   \n",
       "1     34165     39811     33857  20330         2427   75070  129029     2427   \n",
       "2     18595     18862      8169   4566          947   30805   56202      947   \n",
       "3      7400      5461      4629   2137          995   12172   22729      995   \n",
       "4       762       264       181     92           35     748    1787       35   \n",
       "\n",
       "   tourism  business  official_affairs  studying  others  \n",
       "0   320113      2993               138      8793   60777  \n",
       "1   198805      2233               127       785    4576  \n",
       "2    86393        74                22       180    1285  \n",
       "3    34653        59                 2        90    1092  \n",
       "4     2506         2                 0        17      45  "
      ]
     },
     "execution_count": 23,
     "metadata": {},
     "output_type": "execute_result"
    }
   ],
   "source": [
    "df.head()"
   ]
  },
  {
   "cell_type": "markdown",
   "metadata": {},
   "source": [
    "---\n",
    "### `1` Which country visited Korea the most?"
   ]
  },
  {
   "cell_type": "code",
   "execution_count": 24,
   "metadata": {},
   "outputs": [],
   "source": [
    "useCols = df.columns.difference(['growth','share'], sort=False)\n",
    "df_country = df[useCols]\n",
    "\n",
    "stats_by_country = df_country.groupby('nation').sum().sort_values('visitor', ascending=False)"
   ]
  },
  {
   "cell_type": "code",
   "execution_count": 25,
   "metadata": {},
   "outputs": [],
   "source": [
    "visitorTotal = stats_by_country.visitor.sum()\n",
    "visitorPerc = stats_by_country.visitor / visitorTotal"
   ]
  },
  {
   "cell_type": "code",
   "execution_count": 26,
   "metadata": {
    "scrolled": false
   },
   "outputs": [],
   "source": [
    "stats_by_country.insert(loc=1, column='visitor_perc', value = visitorPerc)\n",
    "stats_by_country.insert(loc=2, column='visitor_perc_accum', value = visitorPerc.cumsum())"
   ]
  },
  {
   "cell_type": "code",
   "execution_count": 27,
   "metadata": {
    "scrolled": false
   },
   "outputs": [],
   "source": [
    "# Narrow down to top 90% countries\n",
    "top90Perc = stats_by_country.query('visitor_perc_accum <= 0.90')  "
   ]
  },
  {
   "cell_type": "code",
   "execution_count": 28,
   "metadata": {},
   "outputs": [
    {
     "data": {
      "image/png": "[encoded data removed]",
      "text/plain": [
       "<Figure size 576x432 with 1 Axes>"
      ]
     },
     "metadata": {
      "needs_background": "light"
     },
     "output_type": "display_data"
    }
   ],
   "source": [
    "base_color = sns.color_palette()[0]\n",
    "plt.figure(figsize = [8,6])\n",
    "\n",
    "sns.barplot(data=top90Perc, y=top90Perc.index, x='visitor', color=base_color);\n",
    "\n",
    "perc_values = top90Perc.visitor_perc\n",
    "num_values = top90Perc.visitor\n",
    "\n",
    "for i in range(len(num_values)):\n",
    "    x_value = num_values[i]\n",
    "    string = '{:.2f}%'.format(perc_values[i] * 100)\n",
    "    if i == 0:\n",
    "        plt.text(x = x_value * 0.90, y = i+0.1, s = string, color='white');\n",
    "    else: \n",
    "        plt.text(x = x_value * 1.015, y = i+0.14, s = string, color='darkgrey');"
   ]
  },
  {
   "cell_type": "markdown",
   "metadata": {},
   "source": [
    "Mainland China is the most visited country to Korea in the given period, with a large porportion upto 33.87%.\n",
    "Followed by Japan (18.88%), Taiwan (7.28%) with relatively lower percentage of total visitor volume."
   ]
  },
  {
   "cell_type": "markdown",
   "metadata": {},
   "source": [
    "---\n",
    "### `2` How has the vistor volumn evolved over time from the top 90% countries?\n",
    "\n",
    "COVID-19 started around Dec 2019 from Mainland China, and spread over to Asian countries starting January 2020. I expect an obvious drop in visitation from 2020 onwards.\n",
    "\n",
    "Additionally, there was a political tension between Korea and Japan starting starting from early 2019. The tension was grown amid the Japanese government's trade restrictions which was officialized since July 2019. I would like to see how much impact this poticial tension has put on inbound tourism from Japanest market."
   ]
  },
  {
   "cell_type": "code",
   "execution_count": 29,
   "metadata": {},
   "outputs": [],
   "source": [
    "visitor_trend = df[['date','nation','visitor']]"
   ]
  },
  {
   "cell_type": "code",
   "execution_count": 30,
   "metadata": {},
   "outputs": [],
   "source": [
    "trendByCountry = visitor_trend.pivot(index='date',columns='nation',values='visitor')"
   ]
  },
  {
   "cell_type": "code",
   "execution_count": 31,
   "metadata": {},
   "outputs": [],
   "source": [
    "top90PercCountries = top90Perc.index # narrow down to top 90% countries by visitation\n",
    "trendByTop90Perc = trendByCountry.loc[:,top90PercCountries]"
   ]
  },
  {
   "cell_type": "code",
   "execution_count": 32,
   "metadata": {},
   "outputs": [],
   "source": [
    "total = trendByTop90Perc.sum(axis=1)\n",
    "trendByTop90Perc.insert(loc=0, column='total', value=total)"
   ]
  },
  {
   "cell_type": "code",
   "execution_count": 33,
   "metadata": {},
   "outputs": [],
   "source": [
    "# Remove the unnecessary day ('-01')\n",
    "tempIdx = trendByTop90Perc.index.str.split('-').str[0:-1]\n",
    "new_index = ['-'.join(idx) for idx in tempIdx]\n",
    "trendByTop90Perc.index = new_index"
   ]
  },
  {
   "cell_type": "code",
   "execution_count": 34,
   "metadata": {
    "scrolled": true
   },
   "outputs": [],
   "source": [
    "loc = [tick for tick in range(0, len(trendByTop90Perc.index) ,3)]"
   ]
  },
  {
   "cell_type": "code",
   "execution_count": 40,
   "metadata": {},
   "outputs": [],
   "source": [
    "value = [trendByTop90Perc.index[i] for i in range(0, len(trendByTop90Perc.index) ,3)]"
   ]
  },
  {
   "cell_type": "code",
   "execution_count": 41,
   "metadata": {},
   "outputs": [
    {
     "data": {
      "image/png": "[encoded data removed]",
      "text/plain": [
       "<Figure size 720x288 with 2 Axes>"
      ]
     },
     "metadata": {
      "needs_background": "light"
     },
     "output_type": "display_data"
    }
   ],
   "source": [
    "fig, (ax1, ax2) = plt.subplots(nrows=1, ncols=2, figsize=[10,4])\n",
    "fig.tight_layout(pad=3.0)\n",
    "\n",
    "ax1.plot(trendByTop90Perc.total, label='Total');\n",
    "ax1.axvline(x = '2020-01', c = 'red', alpha = 0.7, ls='--');\n",
    "ax1.set_title('Total Inbound Visitor Volume to Korea');\n",
    "ax1.set_xticks(loc);\n",
    "\n",
    "visitByCountry_2019 = trendByTop90Perc[trendByTop90Perc.index < '2020-01-01']\n",
    "ax2.plot(visitByCountry_2019.total)\n",
    "ax2.set_title('Total Inbound Visitor Volume to Korea\\nBefore Covid-19');\n",
    "ax2.set_xticks(loc[0:-1])\n",
    "\n",
    "fig.text(0.5, 0, 'Period By Month', ha='center')\n",
    "fig.text(0.98, 0.5, 'Visitor by Volume', va='center', rotation='270');"
   ]
  },
  {
   "cell_type": "markdown",
   "metadata": {},
   "source": [
    "It is obvious that the impact of COVID-19 is awfully big on inbound tourism to Korea in 2020 onwards, possibly starting from December 2019. The spread of COVID-19 was drastic in Mainland China early 2020, which resulted in the huge drop of visitor in January 2020 as shown in the below figure.\n",
    "\n",
    "Putting apart the effect of COVID-19, the total visitor volume topped in April and September, throughout 2019. \n",
    "\n",
    "More time series data is needed for a thorough trend analysis. However, observations tell that the visitation is likely higher as the two months have the best weather to hang outside in Korea. August visitation was relatively high as well, which I assumed is the effect of summer holiday in Asia. "
   ]
  },
  {
   "cell_type": "code",
   "execution_count": 42,
   "metadata": {},
   "outputs": [
    {
     "data": {
      "image/png": "[encoded data removed]",
      "text/plain": [
       "<Figure size 432x288 with 1 Axes>"
      ]
     },
     "metadata": {
      "needs_background": "light"
     },
     "output_type": "display_data"
    }
   ],
   "source": [
    "base_color = sns.color_palette()[0]\n",
    "\n",
    "for col in visitByCountry_2019.columns[1:6] :\n",
    "    if col == 'Japan' : \n",
    "        plt.plot(visitByCountry_2019[col], label=col.capitalize(), color = 'orange')\n",
    "    else :\n",
    "        plt.plot(visitByCountry_2019[col], label=col.capitalize(), color = base_color)\n",
    "\n",
    "plt.xticks(ticks = loc[0:-1], labels = value[0:-1]);\n",
    "plt.legend(loc='best', bbox_to_anchor = [1,1]);"
   ]
  },
  {
   "cell_type": "markdown",
   "metadata": {},
   "source": [
    "However, although the overall trend is decreasing from quater 2, there is not much of dramatic change in Japanese inbound visitation throughout 2019. Therefore, it is yet too early to say there was a relationship between the adverse political environment and the tourism.\n",
    "\n",
    "Still, this leaves a further study year on year trend for Japanest inbound tourism."
   ]
  },
  {
   "cell_type": "code",
   "execution_count": 50,
   "metadata": {
    "scrolled": false
   },
   "outputs": [
    {
     "data": {
      "image/png": "[encoded data removed]",
      "text/plain": [
       "<Figure size 864x576 with 1 Axes>"
      ]
     },
     "metadata": {
      "needs_background": "light"
     },
     "output_type": "display_data"
    }
   ],
   "source": [
    "plt.figure(figsize = [12,8])\n",
    "\n",
    "base_color = sns.color_palette()[0]\n",
    "country_interested = ['Malaysia', 'Singapore'];\n",
    "\n",
    "for col in visitByCountry_2019.columns[6:] :\n",
    "    if col in country_interested : \n",
    "        plt.plot(visitByCountry_2019[col], label=col.capitalize(), color='orange')\n",
    "    else :\n",
    "        plt.plot(visitByCountry_2019[col], label=col.capitalize(),\n",
    "                 color=base_color, alpha=0.2)\n",
    "\n",
    "plt.xticks(ticks = loc[0:-1], labels = value[0:-1]);\n",
    "plt.legend(loc='best', bbox_to_anchor=[1,1]);"
   ]
  },
  {
   "cell_type": "markdown",
   "metadata": {},
   "source": [
    "The other top 90 percent countries in visitation : the simmilar trend is identified in 2019 that the visitation is higher around April and September.\n",
    "\n",
    "On the other hand, there is noticeable variance in seasonality trend particularly for two South East Asian countries; Malaysia and Singapore. Starting from early-July, we can see continous increase in visitation from both countries, which tops near early-winter. Assuming all other factors constant, my experiences tell that the weather impact played a role : the visitors of the two countries prefer to enjoy cold weathers in Korea as they only have summer season througout the year. This insight may need a further quantitative validation."
   ]
  },
  {
   "cell_type": "markdown",
   "metadata": {},
   "source": [
    "---\n",
    "### `3` What is the general purpose of visit to Korea from the top 90% countries?"
   ]
  },
  {
   "cell_type": "code",
   "execution_count": 51,
   "metadata": {},
   "outputs": [],
   "source": [
    "colsPurpose = ['visitor', 'tourism', 'business', 'official_affairs', 'studying', 'others']"
   ]
  },
  {
   "cell_type": "code",
   "execution_count": 52,
   "metadata": {
    "scrolled": false
   },
   "outputs": [],
   "source": [
    "purposeByTop90Perc = top90Perc[colsPurpose]"
   ]
  },
  {
   "cell_type": "code",
   "execution_count": 53,
   "metadata": {},
   "outputs": [
    {
     "data": {
      "text/plain": [
       "True"
      ]
     },
     "execution_count": 53,
     "metadata": {},
     "output_type": "execute_result"
    }
   ],
   "source": [
    "# data validation\n",
    "( purposeByTop90Perc.visitor == purposeByTop90Perc.iloc[:,1:].sum(axis=1) ).all()"
   ]
  },
  {
   "cell_type": "code",
   "execution_count": 54,
   "metadata": {},
   "outputs": [
    {
     "data": {
      "text/html": [
       "<div>\n",
       "<style scoped>\n",
       "    .dataframe tbody tr th:only-of-type {\n",
       "        vertical-align: middle;\n",
       "    }\n",
       "\n",
       "    .dataframe tbody tr th {\n",
       "        vertical-align: top;\n",
       "    }\n",
       "\n",
       "    .dataframe thead th {\n",
       "        text-align: right;\n",
       "    }\n",
       "</style>\n",
       "<table border=\"1\" class=\"dataframe\">\n",
       "  <thead>\n",
       "    <tr style=\"text-align: right;\">\n",
       "      <th></th>\n",
       "      <th>total_visitor_mil</th>\n",
       "      <th>perc_total</th>\n",
       "    </tr>\n",
       "  </thead>\n",
       "  <tbody>\n",
       "    <tr>\n",
       "      <th>visitor</th>\n",
       "      <td>17.609572</td>\n",
       "      <td>100.000000</td>\n",
       "    </tr>\n",
       "    <tr>\n",
       "      <th>tourism</th>\n",
       "      <td>14.762904</td>\n",
       "      <td>83.834542</td>\n",
       "    </tr>\n",
       "    <tr>\n",
       "      <th>others</th>\n",
       "      <td>2.280024</td>\n",
       "      <td>12.947640</td>\n",
       "    </tr>\n",
       "    <tr>\n",
       "      <th>studying</th>\n",
       "      <td>0.391890</td>\n",
       "      <td>2.225437</td>\n",
       "    </tr>\n",
       "    <tr>\n",
       "      <th>business</th>\n",
       "      <td>0.110366</td>\n",
       "      <td>0.626739</td>\n",
       "    </tr>\n",
       "    <tr>\n",
       "      <th>official_affairs</th>\n",
       "      <td>0.064388</td>\n",
       "      <td>0.365642</td>\n",
       "    </tr>\n",
       "  </tbody>\n",
       "</table>\n",
       "</div>"
      ],
      "text/plain": [
       "                  total_visitor_mil  perc_total\n",
       "visitor                   17.609572  100.000000\n",
       "tourism                   14.762904   83.834542\n",
       "others                     2.280024   12.947640\n",
       "studying                   0.391890    2.225437\n",
       "business                   0.110366    0.626739\n",
       "official_affairs           0.064388    0.365642"
      ]
     },
     "execution_count": 54,
     "metadata": {},
     "output_type": "execute_result"
    }
   ],
   "source": [
    "totalVisitors = purposeByTop90Perc.visitor.sum()\n",
    "totalByPurpose = purposeByTop90Perc.sum(axis=0)\n",
    "\n",
    "stats_purpose = pd.DataFrame({'total_visitor_mil' : totalByPurpose / 1000000, \n",
    "                              'perc_total' : totalByPurpose / totalVisitors * 100})\n",
    "stats_purpose = stats_purpose.sort_values(by = 'total_visitor_mil', \n",
    "                                          ascending=False)\n",
    "stats_purpose"
   ]
  },
  {
   "cell_type": "code",
   "execution_count": 61,
   "metadata": {},
   "outputs": [
    {
     "data": {
      "image/png": "[encoded data removed]",
      "text/plain": [
       "<Figure size 720x432 with 1 Axes>"
      ]
     },
     "metadata": {
      "needs_background": "light"
     },
     "output_type": "display_data"
    }
   ],
   "source": [
    "plt.figure(figsize = [10,6])\n",
    "plt.bar(height = stats_purpose.iloc[1:, 0], x = stats_purpose.index[1:]);\n",
    "\n",
    "plt.title('Inbound Visitation by Purpose');\n",
    "plt.xlabel('Purpose of Visit');\n",
    "plt.ylabel('Visitor Volume (in Million)');"
   ]
  },
  {
   "cell_type": "markdown",
   "metadata": {},
   "source": [
    "A majority of tourists from the top 90% countries visit Korea for the pure Tourism purpose (83.8%), for the given period (Jan 2019 - Apr 2020)."
   ]
  },
  {
   "cell_type": "markdown",
   "metadata": {},
   "source": [
    "---\n",
    "### `4` Does age have an impact on inbound tourism to Korea?"
   ]
  },
  {
   "cell_type": "code",
   "execution_count": 69,
   "metadata": {},
   "outputs": [
    {
     "data": {
      "text/html": [
       "<div>\n",
       "<style scoped>\n",
       "    .dataframe tbody tr th:only-of-type {\n",
       "        vertical-align: middle;\n",
       "    }\n",
       "\n",
       "    .dataframe tbody tr th {\n",
       "        vertical-align: top;\n",
       "    }\n",
       "\n",
       "    .dataframe thead th {\n",
       "        text-align: right;\n",
       "    }\n",
       "</style>\n",
       "<table border=\"1\" class=\"dataframe\">\n",
       "  <thead>\n",
       "    <tr style=\"text-align: right;\">\n",
       "      <th></th>\n",
       "      <th>visitor</th>\n",
       "      <th>visitor_perc</th>\n",
       "      <th>visitor_perc_accum</th>\n",
       "      <th>age0-20</th>\n",
       "      <th>age21-30</th>\n",
       "      <th>age31-40</th>\n",
       "      <th>age41-50</th>\n",
       "      <th>age51-60</th>\n",
       "      <th>age61</th>\n",
       "      <th>error_count</th>\n",
       "      <th>male</th>\n",
       "      <th>female</th>\n",
       "      <th>crewman</th>\n",
       "      <th>tourism</th>\n",
       "      <th>business</th>\n",
       "      <th>official_affairs</th>\n",
       "      <th>studying</th>\n",
       "      <th>others</th>\n",
       "    </tr>\n",
       "    <tr>\n",
       "      <th>nation</th>\n",
       "      <th></th>\n",
       "      <th></th>\n",
       "      <th></th>\n",
       "      <th></th>\n",
       "      <th></th>\n",
       "      <th></th>\n",
       "      <th></th>\n",
       "      <th></th>\n",
       "      <th></th>\n",
       "      <th></th>\n",
       "      <th></th>\n",
       "      <th></th>\n",
       "      <th></th>\n",
       "      <th></th>\n",
       "      <th></th>\n",
       "      <th></th>\n",
       "      <th></th>\n",
       "      <th></th>\n",
       "    </tr>\n",
       "  </thead>\n",
       "  <tbody>\n",
       "    <tr>\n",
       "      <th>China</th>\n",
       "      <td>6629318</td>\n",
       "      <td>0.338687</td>\n",
       "      <td>0.338687</td>\n",
       "      <td>423696</td>\n",
       "      <td>1894302</td>\n",
       "      <td>1835184</td>\n",
       "      <td>864272</td>\n",
       "      <td>760557</td>\n",
       "      <td>675872</td>\n",
       "      <td>175435</td>\n",
       "      <td>2478590</td>\n",
       "      <td>3975293</td>\n",
       "      <td>175435</td>\n",
       "      <td>5341847</td>\n",
       "      <td>47709</td>\n",
       "      <td>5067</td>\n",
       "      <td>277895</td>\n",
       "      <td>956800</td>\n",
       "    </tr>\n",
       "    <tr>\n",
       "      <th>Japan</th>\n",
       "      <td>3695581</td>\n",
       "      <td>0.188804</td>\n",
       "      <td>0.527491</td>\n",
       "      <td>426179</td>\n",
       "      <td>1079631</td>\n",
       "      <td>571123</td>\n",
       "      <td>638839</td>\n",
       "      <td>550992</td>\n",
       "      <td>393140</td>\n",
       "      <td>35677</td>\n",
       "      <td>1268356</td>\n",
       "      <td>2391548</td>\n",
       "      <td>35677</td>\n",
       "      <td>3585819</td>\n",
       "      <td>28194</td>\n",
       "      <td>2264</td>\n",
       "      <td>16333</td>\n",
       "      <td>62971</td>\n",
       "    </tr>\n",
       "    <tr>\n",
       "      <th>Taiwan</th>\n",
       "      <td>1424629</td>\n",
       "      <td>0.072783</td>\n",
       "      <td>0.600275</td>\n",
       "      <td>205193</td>\n",
       "      <td>310609</td>\n",
       "      <td>324283</td>\n",
       "      <td>275737</td>\n",
       "      <td>173153</td>\n",
       "      <td>123098</td>\n",
       "      <td>12556</td>\n",
       "      <td>469668</td>\n",
       "      <td>942405</td>\n",
       "      <td>12556</td>\n",
       "      <td>1399668</td>\n",
       "      <td>1154</td>\n",
       "      <td>221</td>\n",
       "      <td>5662</td>\n",
       "      <td>17924</td>\n",
       "    </tr>\n",
       "    <tr>\n",
       "      <th>USA</th>\n",
       "      <td>1170719</td>\n",
       "      <td>0.059811</td>\n",
       "      <td>0.660086</td>\n",
       "      <td>142704</td>\n",
       "      <td>189609</td>\n",
       "      <td>189678</td>\n",
       "      <td>180639</td>\n",
       "      <td>197195</td>\n",
       "      <td>187620</td>\n",
       "      <td>83274</td>\n",
       "      <td>587328</td>\n",
       "      <td>500117</td>\n",
       "      <td>83274</td>\n",
       "      <td>885065</td>\n",
       "      <td>5449</td>\n",
       "      <td>41533</td>\n",
       "      <td>6396</td>\n",
       "      <td>232276</td>\n",
       "    </tr>\n",
       "    <tr>\n",
       "      <th>Hong Kong</th>\n",
       "      <td>783159</td>\n",
       "      <td>0.040011</td>\n",
       "      <td>0.700097</td>\n",
       "      <td>108546</td>\n",
       "      <td>164546</td>\n",
       "      <td>143710</td>\n",
       "      <td>145289</td>\n",
       "      <td>129163</td>\n",
       "      <td>80922</td>\n",
       "      <td>10983</td>\n",
       "      <td>267098</td>\n",
       "      <td>505078</td>\n",
       "      <td>10983</td>\n",
       "      <td>766312</td>\n",
       "      <td>765</td>\n",
       "      <td>52</td>\n",
       "      <td>3286</td>\n",
       "      <td>12744</td>\n",
       "    </tr>\n",
       "  </tbody>\n",
       "</table>\n",
       "</div>"
      ],
      "text/plain": [
       "           visitor  visitor_perc  visitor_perc_accum  age0-20  age21-30  \\\n",
       "nation                                                                    \n",
       "China      6629318      0.338687            0.338687   423696   1894302   \n",
       "Japan      3695581      0.188804            0.527491   426179   1079631   \n",
       "Taiwan     1424629      0.072783            0.600275   205193    310609   \n",
       "USA        1170719      0.059811            0.660086   142704    189609   \n",
       "Hong Kong   783159      0.040011            0.700097   108546    164546   \n",
       "\n",
       "           age31-40  age41-50  age51-60   age61  error_count     male  \\\n",
       "nation                                                                  \n",
       "China       1835184    864272    760557  675872       175435  2478590   \n",
       "Japan        571123    638839    550992  393140        35677  1268356   \n",
       "Taiwan       324283    275737    173153  123098        12556   469668   \n",
       "USA          189678    180639    197195  187620        83274   587328   \n",
       "Hong Kong    143710    145289    129163   80922        10983   267098   \n",
       "\n",
       "            female  crewman  tourism  business  official_affairs  studying  \\\n",
       "nation                                                                       \n",
       "China      3975293   175435  5341847     47709              5067    277895   \n",
       "Japan      2391548    35677  3585819     28194              2264     16333   \n",
       "Taiwan      942405    12556  1399668      1154               221      5662   \n",
       "USA         500117    83274   885065      5449             41533      6396   \n",
       "Hong Kong   505078    10983   766312       765                52      3286   \n",
       "\n",
       "           others  \n",
       "nation             \n",
       "China      956800  \n",
       "Japan       62971  \n",
       "Taiwan      17924  \n",
       "USA        232276  \n",
       "Hong Kong   12744  "
      ]
     },
     "execution_count": 69,
     "metadata": {},
     "output_type": "execute_result"
    }
   ],
   "source": [
    "top90Perc.head()"
   ]
  },
  {
   "cell_type": "code",
   "execution_count": 119,
   "metadata": {},
   "outputs": [],
   "source": [
    "colAge = ['visitor', 'age0-20', 'age21-30', 'age31-40', 'age41-50', 'age51-60', 'age61', 'error_count']"
   ]
  },
  {
   "cell_type": "code",
   "execution_count": 120,
   "metadata": {
    "scrolled": false
   },
   "outputs": [],
   "source": [
    "# Converted to Million\n",
    "ageByTop90Perctop90_mil = round(top90Perc[colAge] / 1000000, 4)"
   ]
  },
  {
   "cell_type": "code",
   "execution_count": 121,
   "metadata": {},
   "outputs": [],
   "source": [
    "# Making a summary stats table\n",
    "ageStats = ageByTop90Perctop90_mil.sum()\n",
    "\n",
    "ageStatstotal = ageStats.visitor\n",
    "ageStatsPerc = (ageStats / total).iloc[1:,]\n",
    "ageStatsindex = ageStatsPerc.index"
   ]
  },
  {
   "cell_type": "code",
   "execution_count": 122,
   "metadata": {
    "scrolled": false
   },
   "outputs": [
    {
     "data": {
      "image/png": "[encoded data removed]",
      "text/plain": [
       "<Figure size 432x288 with 1 Axes>"
      ]
     },
     "metadata": {
      "needs_background": "light"
     },
     "output_type": "display_data"
    }
   ],
   "source": [
    "plt.bar(height = ageStatsPerc * 100 , x = ageStatsindex);\n",
    "\n",
    "plt.title('Inbound Tourism to Korea by Age\\n(from Top 90% Countries, 2019 - 2020 Apr)')\n",
    "plt.xlabel('Age Group')\n",
    "plt.ylabel('Visitor Volume (% Total)');"
   ]
  },
  {
   "cell_type": "markdown",
   "metadata": {},
   "source": [
    "In the given period of interest (2019 - 2020 Apr), 25% of the total visitors age between 21 - 30, which presumably are university students & employeed in their early career.\n",
    "Not much difference is seen for vistor between age 31 - 40 (around 22%), whereas the vistiation is following the decrasing line as age becomes higher. \n",
    "\n",
    "Note the graph accounts for around 5% of survey error, represented by error_count."
   ]
  },
  {
   "cell_type": "markdown",
   "metadata": {},
   "source": [
    "---\n",
    "### `5` Is there any significant difference in vistiation among genders?"
   ]
  },
  {
   "cell_type": "code",
   "execution_count": 123,
   "metadata": {},
   "outputs": [],
   "source": [
    "colGender = ['visitor', 'male', 'female', 'crewman']"
   ]
  },
  {
   "cell_type": "code",
   "execution_count": 130,
   "metadata": {},
   "outputs": [],
   "source": [
    "genderByTop90Perctop90_mil = round(top90Perc[colGender] / 1000000, 4)"
   ]
  },
  {
   "cell_type": "code",
   "execution_count": 140,
   "metadata": {},
   "outputs": [],
   "source": [
    "# Visitation from crew members (crewman) is not relavent -> substract\n",
    "totalVisitor = genderByTop90Perctop90_mil.visitor\n",
    "crewman = genderByTop90Perctop90_mil.crewman\n",
    "totalVisitor_adj = totalVisitor - crewman"
   ]
  },
  {
   "cell_type": "code",
   "execution_count": 144,
   "metadata": {
    "scrolled": false
   },
   "outputs": [],
   "source": [
    "genderByTop90Perctop90_mil.drop(columns = ['visitor', 'crewman'], inplace = True)"
   ]
  },
  {
   "cell_type": "code",
   "execution_count": 150,
   "metadata": {},
   "outputs": [],
   "source": [
    "# Making a summary stats table\n",
    "genderStats = genderByTop90Perctop90_mil.sum()\n",
    "\n",
    "genderStatsPerc = genderStats / totalVisitor_adj.sum()\n",
    "genderStatsindex = genderStatsPerc.index"
   ]
  },
  {
   "cell_type": "code",
   "execution_count": 154,
   "metadata": {},
   "outputs": [
    {
     "data": {
      "image/png": "[encoded data removed]",
      "text/plain": [
       "<Figure size 432x288 with 1 Axes>"
      ]
     },
     "metadata": {
      "needs_background": "light"
     },
     "output_type": "display_data"
    }
   ],
   "source": [
    "plt.bar(height = genderStatsPerc * 100 , x = genderStatsindex);\n",
    "\n",
    "plt.title('Inbound Tourism to Korea by Gender\\n(from Top 90% Countries, 2019 - 2020 Apr)')\n",
    "plt.xlabel('Gender')\n",
    "plt.ylabel('Visitor Volume (% Total)');"
   ]
  },
  {
   "cell_type": "markdown",
   "metadata": {},
   "source": [
    "It is 60 : 40 porportion that inbound tourism consists of more female than male visitors. "
   ]
  }
 ],
 "metadata": {
  "kernelspec": {
   "display_name": "Python [conda env:my_env]",
   "language": "python",
   "name": "conda-env-my_env-py"
  },
  "language_info": {
   "codemirror_mode": {
    "name": "ipython",
    "version": 3
   },
   "file_extension": ".py",
   "mimetype": "text/x-python",
   "name": "python",
   "nbconvert_exporter": "python",
   "pygments_lexer": "ipython3",
   "version": "3.8.3"
  }
 },
 "nbformat": 4,
 "nbformat_minor": 4
}
