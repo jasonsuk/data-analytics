{
 "cells": [
  {
   "cell_type": "markdown",
   "metadata": {},
   "source": [
    "## Predictive Customer Analysis - 2"
   ]
  },
  {
   "cell_type": "markdown",
   "metadata": {},
   "source": [
    "Following the descriptive analysis of the customer purchase on `Positioning_descriptive.ipynb` notebook, here logistic regression and linear regression will be applied will be performed to deepdive into purchase analysis and forecast.\n",
    "\n",
    "This notebook continues the content of `Positioning_preditive.ipynb`, as it gets longer."
   ]
  },
  {
   "cell_type": "markdown",
   "metadata": {},
   "source": [
    "## Libraries"
   ]
  },
  {
   "cell_type": "code",
   "execution_count": 1,
   "metadata": {},
   "outputs": [],
   "source": [
    "import numpy as np\n",
    "import pandas as pd\n",
    "import matplotlib.pyplot as plt\n",
    "import seaborn as sns\n",
    "%matplotlib inline\n",
    "\n",
    "from sklearn.preprocessing import StandardScaler\n",
    "from sklearn.decomposition import PCA\n",
    "from sklearn.cluster import KMeans\n",
    "\n",
    "from sklearn.linear_model import LogisticRegression\n",
    "\n",
    "import os \n",
    "import pickle"
   ]
  },
  {
   "cell_type": "markdown",
   "metadata": {},
   "source": [
    "## Import the Data"
   ]
  },
  {
   "cell_type": "code",
   "execution_count": 2,
   "metadata": {},
   "outputs": [],
   "source": [
    "def import_pickle_data(filename) :\n",
    "    path = os.path.join(os.getcwd(), 'obj_data', filename)\n",
    "    return pickle.load(open(path, 'rb')) #rb = read as byte datatype\n",
    "\n",
    "def import_csv(filePath) :\n",
    "    return pd.read_csv(filePath)"
   ]
  },
  {
   "cell_type": "code",
   "execution_count": 3,
   "metadata": {},
   "outputs": [],
   "source": [
    "# loading the data file\n",
    "filePath_purchase = os.path.join(os.getcwd(), 'data', 'purchase data.csv')\n",
    "df_purchase = import_csv(filePath_purchase)\n",
    "\n",
    "# importing classes\n",
    "scaler = import_pickle_data('scaler.pickle')\n",
    "pca = import_pickle_data('pca.pickle')\n",
    "kmeans_pca = import_pickle_data('kmeans_pca.pickle')\n",
    "\n",
    "# standardization\n",
    "df_purchase.columns.values[-7:] # the 7 features standized \n",
    "features_to_include = df_purchase.columns.values[-7:]\n",
    "df_purchase_std = scaler.transform(df_purchase[features_to_include])\n",
    "\n",
    "# dimentionality reduction of the standardized data\n",
    "df_purchase_pca = pca.transform(df_purchase_std)\n",
    "\n",
    "# segmentation from the preprocessed data\n",
    "segment_kmeans_pca = kmeans_pca.predict(df_purchase_pca)\n",
    "df_purchase_analysis = df_purchase.copy()\n",
    "df_purchase_analysis['Segment'] = segment_kmeans_pca\n",
    "\n",
    "# binary encoding segment\n",
    "segment_dummies = pd.get_dummies(df_purchase_analysis['Segment'], \n",
    "                                 prefix='Segment', prefix_sep='_')\n",
    "df_purchase_analysis = pd.concat([df_purchase_analysis, segment_dummies], axis=1)"
   ]
  },
  {
   "cell_type": "code",
   "execution_count": 4,
   "metadata": {},
   "outputs": [],
   "source": [
    "# Differentiate the dataframe for convenience\n",
    "df_pa = df_purchase_analysis.copy()"
   ]
  },
  {
   "cell_type": "code",
   "execution_count": 5,
   "metadata": {
    "scrolled": true
   },
   "outputs": [
    {
     "data": {
      "text/html": [
       "<div>\n",
       "<style scoped>\n",
       "    .dataframe tbody tr th:only-of-type {\n",
       "        vertical-align: middle;\n",
       "    }\n",
       "\n",
       "    .dataframe tbody tr th {\n",
       "        vertical-align: top;\n",
       "    }\n",
       "\n",
       "    .dataframe thead th {\n",
       "        text-align: right;\n",
       "    }\n",
       "</style>\n",
       "<table border=\"1\" class=\"dataframe\">\n",
       "  <thead>\n",
       "    <tr style=\"text-align: right;\">\n",
       "      <th></th>\n",
       "      <th>ID</th>\n",
       "      <th>Day</th>\n",
       "      <th>Incidence</th>\n",
       "      <th>Brand</th>\n",
       "      <th>Quantity</th>\n",
       "      <th>Last_Inc_Brand</th>\n",
       "      <th>Last_Inc_Quantity</th>\n",
       "      <th>Price_1</th>\n",
       "      <th>Price_2</th>\n",
       "      <th>Price_3</th>\n",
       "      <th>...</th>\n",
       "      <th>Age</th>\n",
       "      <th>Education</th>\n",
       "      <th>Income</th>\n",
       "      <th>Occupation</th>\n",
       "      <th>Settlement size</th>\n",
       "      <th>Segment</th>\n",
       "      <th>Segment_0</th>\n",
       "      <th>Segment_1</th>\n",
       "      <th>Segment_2</th>\n",
       "      <th>Segment_3</th>\n",
       "    </tr>\n",
       "  </thead>\n",
       "  <tbody>\n",
       "    <tr>\n",
       "      <th>0</th>\n",
       "      <td>200000001</td>\n",
       "      <td>1</td>\n",
       "      <td>0</td>\n",
       "      <td>0</td>\n",
       "      <td>0</td>\n",
       "      <td>0</td>\n",
       "      <td>0</td>\n",
       "      <td>1.59</td>\n",
       "      <td>1.87</td>\n",
       "      <td>2.01</td>\n",
       "      <td>...</td>\n",
       "      <td>47</td>\n",
       "      <td>1</td>\n",
       "      <td>110866</td>\n",
       "      <td>1</td>\n",
       "      <td>0</td>\n",
       "      <td>0</td>\n",
       "      <td>1</td>\n",
       "      <td>0</td>\n",
       "      <td>0</td>\n",
       "      <td>0</td>\n",
       "    </tr>\n",
       "    <tr>\n",
       "      <th>1</th>\n",
       "      <td>200000001</td>\n",
       "      <td>11</td>\n",
       "      <td>0</td>\n",
       "      <td>0</td>\n",
       "      <td>0</td>\n",
       "      <td>0</td>\n",
       "      <td>0</td>\n",
       "      <td>1.51</td>\n",
       "      <td>1.89</td>\n",
       "      <td>1.99</td>\n",
       "      <td>...</td>\n",
       "      <td>47</td>\n",
       "      <td>1</td>\n",
       "      <td>110866</td>\n",
       "      <td>1</td>\n",
       "      <td>0</td>\n",
       "      <td>0</td>\n",
       "      <td>1</td>\n",
       "      <td>0</td>\n",
       "      <td>0</td>\n",
       "      <td>0</td>\n",
       "    </tr>\n",
       "    <tr>\n",
       "      <th>2</th>\n",
       "      <td>200000001</td>\n",
       "      <td>12</td>\n",
       "      <td>0</td>\n",
       "      <td>0</td>\n",
       "      <td>0</td>\n",
       "      <td>0</td>\n",
       "      <td>0</td>\n",
       "      <td>1.51</td>\n",
       "      <td>1.89</td>\n",
       "      <td>1.99</td>\n",
       "      <td>...</td>\n",
       "      <td>47</td>\n",
       "      <td>1</td>\n",
       "      <td>110866</td>\n",
       "      <td>1</td>\n",
       "      <td>0</td>\n",
       "      <td>0</td>\n",
       "      <td>1</td>\n",
       "      <td>0</td>\n",
       "      <td>0</td>\n",
       "      <td>0</td>\n",
       "    </tr>\n",
       "  </tbody>\n",
       "</table>\n",
       "<p>3 rows × 29 columns</p>\n",
       "</div>"
      ],
      "text/plain": [
       "          ID  Day  Incidence  Brand  Quantity  Last_Inc_Brand  \\\n",
       "0  200000001    1          0      0         0               0   \n",
       "1  200000001   11          0      0         0               0   \n",
       "2  200000001   12          0      0         0               0   \n",
       "\n",
       "   Last_Inc_Quantity  Price_1  Price_2  Price_3  ...  Age  Education  Income  \\\n",
       "0                  0     1.59     1.87     2.01  ...   47          1  110866   \n",
       "1                  0     1.51     1.89     1.99  ...   47          1  110866   \n",
       "2                  0     1.51     1.89     1.99  ...   47          1  110866   \n",
       "\n",
       "   Occupation  Settlement size  Segment  Segment_0  Segment_1  Segment_2  \\\n",
       "0           1                0        0          1          0          0   \n",
       "1           1                0        0          1          0          0   \n",
       "2           1                0        0          1          0          0   \n",
       "\n",
       "   Segment_3  \n",
       "0          0  \n",
       "1          0  \n",
       "2          0  \n",
       "\n",
       "[3 rows x 29 columns]"
      ]
     },
     "execution_count": 5,
     "metadata": {},
     "output_type": "execute_result"
    }
   ],
   "source": [
    "df_pa.head(3)"
   ]
  },
  {
   "cell_type": "markdown",
   "metadata": {},
   "source": [
    "---\n",
    "## `4.` Brand choice\n",
    "Earlier, price elasticity was modeled and also when there is a promotion or not. The model had (purchase) `Incidence` as the only dependent variable against the `mean price` as X (predictor variable). \n",
    "\n",
    "In the study of brand choice, the logitic regression will also be used  to multiclass problems, i.e. with more than two possible **discrete** outcomes. [Wikipedia](https://en.wikipedia.org/wiki/Multinomial_logistic_regression) explains  that it is a model that is used to predict the probabilities of the different possible outcomes of a categorically(equivalently nominally) distributed dependent variable with **more than two categories**, given **a set of independent variables** (which may be real-valued, binary-valued, categorical-valued, etc.)."
   ]
  },
  {
   "cell_type": "code",
   "execution_count": 6,
   "metadata": {},
   "outputs": [
    {
     "data": {
      "text/plain": [
       "array([0, 2, 5, 1, 4, 3])"
      ]
     },
     "execution_count": 6,
     "metadata": {},
     "output_type": "execute_result"
    }
   ],
   "source": [
    "df_pa['Brand'].unique() # be careful of 0  = no Incidence to rule out"
   ]
  },
  {
   "cell_type": "code",
   "execution_count": 7,
   "metadata": {},
   "outputs": [],
   "source": [
    "brand_choice = df_pa.query('Incidence == 1').copy()\n",
    "# brand_choice['Brand'].unique()"
   ]
  },
  {
   "cell_type": "code",
   "execution_count": 8,
   "metadata": {},
   "outputs": [],
   "source": [
    "# Dependent variable (more than two categories) = Brand\n",
    "Y = brand_choice['Brand']"
   ]
  },
  {
   "cell_type": "code",
   "execution_count": 9,
   "metadata": {},
   "outputs": [],
   "source": [
    "# A set of indepent variables = Prices (real-valued)\n",
    "X = brand_choice.loc[:, brand_choice.columns.str.contains('Price_')]"
   ]
  },
  {
   "cell_type": "code",
   "execution_count": 10,
   "metadata": {},
   "outputs": [],
   "source": [
    "logit_brand_choice = LogisticRegression(solver='sag', multi_class='multinomial')"
   ]
  },
  {
   "cell_type": "code",
   "execution_count": 11,
   "metadata": {},
   "outputs": [
    {
     "data": {
      "text/plain": [
       "LogisticRegression(multi_class='multinomial', solver='sag')"
      ]
     },
     "execution_count": 11,
     "metadata": {},
     "output_type": "execute_result"
    }
   ],
   "source": [
    "logit_brand_choice.fit(X, Y)"
   ]
  },
  {
   "cell_type": "code",
   "execution_count": 12,
   "metadata": {
    "scrolled": false
   },
   "outputs": [
    {
     "data": {
      "text/plain": [
       "array([[-3.91594745,  0.65846412,  2.41774644,  0.70409098, -0.20210299],\n",
       "       [ 1.27461724, -1.87985355, -0.21262945, -0.20633717,  0.58787564],\n",
       "       [ 1.6241627 ,  0.56209878,  0.50080715,  1.03948958,  0.45276467],\n",
       "       [ 0.57454294,  0.39559039, -1.4005883 , -1.24623956,  0.24935701],\n",
       "       [ 0.44262457,  0.26370026, -1.30533584, -0.29100383, -1.08789433]])"
      ]
     },
     "execution_count": 12,
     "metadata": {},
     "output_type": "execute_result"
    }
   ],
   "source": [
    "logit_brand_choice.coef_"
   ]
  },
  {
   "cell_type": "markdown",
   "metadata": {},
   "source": [
    "[Scikit Learn document](https://scikit-learn.org/stable/modules/generated/sklearn.linear_model.LogisticRegression.html) explains that `coef_` returns ndarray of (n_classes, n_features) where it corresponds to outcome 1 (True) and -coef_ corresponds to outcome 0 (False) for when `multi_class=multinomial`.\n",
    "\n",
    "So rows represent Brands and columns represent Prices here, which will be transposed in the following :"
   ]
  },
  {
   "cell_type": "code",
   "execution_count": 13,
   "metadata": {},
   "outputs": [],
   "source": [
    "coef_brand_choice = pd.DataFrame(logit_brand_choice.coef_.T)\n",
    "coef_brand_choice.columns = ['Brand_' + str(i) for i in range(1, 6)]\n",
    "coef_brand_choice.index = ['Price_' + str(i) for i in range(1, 6)]"
   ]
  },
  {
   "cell_type": "code",
   "execution_count": 14,
   "metadata": {},
   "outputs": [
    {
     "data": {
      "text/html": [
       "<div>\n",
       "<style scoped>\n",
       "    .dataframe tbody tr th:only-of-type {\n",
       "        vertical-align: middle;\n",
       "    }\n",
       "\n",
       "    .dataframe tbody tr th {\n",
       "        vertical-align: top;\n",
       "    }\n",
       "\n",
       "    .dataframe thead th {\n",
       "        text-align: right;\n",
       "    }\n",
       "</style>\n",
       "<table border=\"1\" class=\"dataframe\">\n",
       "  <thead>\n",
       "    <tr style=\"text-align: right;\">\n",
       "      <th></th>\n",
       "      <th>Brand_1</th>\n",
       "      <th>Brand_2</th>\n",
       "      <th>Brand_3</th>\n",
       "      <th>Brand_4</th>\n",
       "      <th>Brand_5</th>\n",
       "    </tr>\n",
       "  </thead>\n",
       "  <tbody>\n",
       "    <tr>\n",
       "      <th>Price_1</th>\n",
       "      <td>-3.915947</td>\n",
       "      <td>1.274617</td>\n",
       "      <td>1.624163</td>\n",
       "      <td>0.574543</td>\n",
       "      <td>0.442625</td>\n",
       "    </tr>\n",
       "    <tr>\n",
       "      <th>Price_2</th>\n",
       "      <td>0.658464</td>\n",
       "      <td>-1.879854</td>\n",
       "      <td>0.562099</td>\n",
       "      <td>0.395590</td>\n",
       "      <td>0.263700</td>\n",
       "    </tr>\n",
       "    <tr>\n",
       "      <th>Price_3</th>\n",
       "      <td>2.417746</td>\n",
       "      <td>-0.212629</td>\n",
       "      <td>0.500807</td>\n",
       "      <td>-1.400588</td>\n",
       "      <td>-1.305336</td>\n",
       "    </tr>\n",
       "    <tr>\n",
       "      <th>Price_4</th>\n",
       "      <td>0.704091</td>\n",
       "      <td>-0.206337</td>\n",
       "      <td>1.039490</td>\n",
       "      <td>-1.246240</td>\n",
       "      <td>-0.291004</td>\n",
       "    </tr>\n",
       "    <tr>\n",
       "      <th>Price_5</th>\n",
       "      <td>-0.202103</td>\n",
       "      <td>0.587876</td>\n",
       "      <td>0.452765</td>\n",
       "      <td>0.249357</td>\n",
       "      <td>-1.087894</td>\n",
       "    </tr>\n",
       "  </tbody>\n",
       "</table>\n",
       "</div>"
      ],
      "text/plain": [
       "          Brand_1   Brand_2   Brand_3   Brand_4   Brand_5\n",
       "Price_1 -3.915947  1.274617  1.624163  0.574543  0.442625\n",
       "Price_2  0.658464 -1.879854  0.562099  0.395590  0.263700\n",
       "Price_3  2.417746 -0.212629  0.500807 -1.400588 -1.305336\n",
       "Price_4  0.704091 -0.206337  1.039490 -1.246240 -0.291004\n",
       "Price_5 -0.202103  0.587876  0.452765  0.249357 -1.087894"
      ]
     },
     "execution_count": 14,
     "metadata": {},
     "output_type": "execute_result"
    }
   ],
   "source": [
    "coef_brand_choice"
   ]
  },
  {
   "cell_type": "markdown",
   "metadata": {},
   "source": [
    "### Insights\n",
    "It is obvious that Price 1 has a negative coefficient vs choice of Brand 1 but the same relationship does not apply to Brand 3 (in which Price increases does not decrease the choice of Brand 3 - interesting!). \n",
    "\n",
    "For better insights, own price brand choice elasticity and cross price brand choice elasticity will be studied in the following sections."
   ]
  },
  {
   "cell_type": "markdown",
   "metadata": {},
   "source": [
    "### `4.1.` Own price elasticity - Brand 5"
   ]
  },
  {
   "cell_type": "code",
   "execution_count": 15,
   "metadata": {},
   "outputs": [],
   "source": [
    "# Create a new range of price to predict PE (price elasticity)\n",
    "price_range = np.arange(0.5, 3.5, 0.01)"
   ]
  },
  {
   "cell_type": "code",
   "execution_count": 16,
   "metadata": {},
   "outputs": [],
   "source": [
    "# Creating a empty dataframe with the num_row equal to size of price range\n",
    "df_own_brand_5 = pd.DataFrame(index=np.arange(price_range.size))"
   ]
  },
  {
   "cell_type": "code",
   "execution_count": 17,
   "metadata": {},
   "outputs": [],
   "source": [
    "# Having other prices constant than price of Brand 5\n",
    "df_own_brand_5['Price_1'] = brand_choice['Price_1'].mean()\n",
    "df_own_brand_5['Price_2'] = brand_choice['Price_2'].mean()\n",
    "df_own_brand_5['Price_3'] = brand_choice['Price_3'].mean()\n",
    "df_own_brand_5['Price_4'] = brand_choice['Price_4'].mean()\n",
    "df_own_brand_5['Price_5'] = price_range"
   ]
  },
  {
   "cell_type": "code",
   "execution_count": 18,
   "metadata": {},
   "outputs": [
    {
     "data": {
      "text/plain": [
       "(300, 5)"
      ]
     },
     "execution_count": 18,
     "metadata": {},
     "output_type": "execute_result"
    }
   ],
   "source": [
    "# Brand choice in response to price range of Brand 5\n",
    "predict_bc = logit_brand_choice.predict_proba(df_own_brand_5)\n",
    "predict_bc.shape"
   ]
  },
  {
   "cell_type": "code",
   "execution_count": 19,
   "metadata": {},
   "outputs": [
    {
     "data": {
      "text/html": [
       "<div>\n",
       "<style scoped>\n",
       "    .dataframe tbody tr th:only-of-type {\n",
       "        vertical-align: middle;\n",
       "    }\n",
       "\n",
       "    .dataframe tbody tr th {\n",
       "        vertical-align: top;\n",
       "    }\n",
       "\n",
       "    .dataframe thead th {\n",
       "        text-align: right;\n",
       "    }\n",
       "</style>\n",
       "<table border=\"1\" class=\"dataframe\">\n",
       "  <thead>\n",
       "    <tr style=\"text-align: right;\">\n",
       "      <th></th>\n",
       "      <th>Brand_1</th>\n",
       "      <th>Brand_2</th>\n",
       "      <th>Brand_3</th>\n",
       "      <th>Brand_4</th>\n",
       "      <th>Brand_5</th>\n",
       "    </tr>\n",
       "  </thead>\n",
       "  <tbody>\n",
       "    <tr>\n",
       "      <th>Price_1</th>\n",
       "      <td>-3.915947</td>\n",
       "      <td>1.274617</td>\n",
       "      <td>1.624163</td>\n",
       "      <td>0.574543</td>\n",
       "      <td>0.442625</td>\n",
       "    </tr>\n",
       "    <tr>\n",
       "      <th>Price_2</th>\n",
       "      <td>0.658464</td>\n",
       "      <td>-1.879854</td>\n",
       "      <td>0.562099</td>\n",
       "      <td>0.395590</td>\n",
       "      <td>0.263700</td>\n",
       "    </tr>\n",
       "    <tr>\n",
       "      <th>Price_3</th>\n",
       "      <td>2.417746</td>\n",
       "      <td>-0.212629</td>\n",
       "      <td>0.500807</td>\n",
       "      <td>-1.400588</td>\n",
       "      <td>-1.305336</td>\n",
       "    </tr>\n",
       "    <tr>\n",
       "      <th>Price_4</th>\n",
       "      <td>0.704091</td>\n",
       "      <td>-0.206337</td>\n",
       "      <td>1.039490</td>\n",
       "      <td>-1.246240</td>\n",
       "      <td>-0.291004</td>\n",
       "    </tr>\n",
       "    <tr>\n",
       "      <th>Price_5</th>\n",
       "      <td>-0.202103</td>\n",
       "      <td>0.587876</td>\n",
       "      <td>0.452765</td>\n",
       "      <td>0.249357</td>\n",
       "      <td>-1.087894</td>\n",
       "    </tr>\n",
       "  </tbody>\n",
       "</table>\n",
       "</div>"
      ],
      "text/plain": [
       "          Brand_1   Brand_2   Brand_3   Brand_4   Brand_5\n",
       "Price_1 -3.915947  1.274617  1.624163  0.574543  0.442625\n",
       "Price_2  0.658464 -1.879854  0.562099  0.395590  0.263700\n",
       "Price_3  2.417746 -0.212629  0.500807 -1.400588 -1.305336\n",
       "Price_4  0.704091 -0.206337  1.039490 -1.246240 -0.291004\n",
       "Price_5 -0.202103  0.587876  0.452765  0.249357 -1.087894"
      ]
     },
     "execution_count": 19,
     "metadata": {},
     "output_type": "execute_result"
    }
   ],
   "source": [
    "coef_brand_choice"
   ]
  },
  {
   "cell_type": "code",
   "execution_count": 20,
   "metadata": {},
   "outputs": [
    {
     "data": {
      "text/plain": [
       "(300,)"
      ]
     },
     "execution_count": 20,
     "metadata": {},
     "output_type": "execute_result"
    }
   ],
   "source": [
    "# Calculate own price elasticity \n",
    "beta_5 = coef_brand_choice.iloc[4,4]\n",
    "PE_own_price_brand_5 = beta_5 * price_range * (1 - predict_bc[:,4])\n",
    "PE_own_price_brand_5.shape"
   ]
  },
  {
   "cell_type": "code",
   "execution_count": 21,
   "metadata": {},
   "outputs": [],
   "source": [
    "brand_choice_elasticities = pd.DataFrame({'Price_point': price_range, \n",
    "                                          'Own_brand_5' : PE_own_price_brand_5})"
   ]
  },
  {
   "cell_type": "code",
   "execution_count": 22,
   "metadata": {},
   "outputs": [
    {
     "data": {
      "image/png": "[encoded data removed]",
      "text/plain": [
       "<Figure size 432x288 with 1 Axes>"
      ]
     },
     "metadata": {
      "needs_background": "light"
     },
     "output_type": "display_data"
    }
   ],
   "source": [
    "brand_choice_elasticities.plot(x='Price_point', y='Own_brand_5')\n",
    "\n",
    "plt.title('Own price elasticity for Brand 5')\n",
    "plt.ylabel('Elasticity')\n",
    "plt.xlabel('Price')\n",
    "plt.legend().remove() \n",
    "plt.axvline(x=2.07, ls='--', c='orange') # point of inelasticity \n",
    "plt.show()"
   ]
  },
  {
   "cell_type": "code",
   "execution_count": 23,
   "metadata": {
    "scrolled": false
   },
   "outputs": [
    {
     "data": {
      "text/html": [
       "<div>\n",
       "<style scoped>\n",
       "    .dataframe tbody tr th:only-of-type {\n",
       "        vertical-align: middle;\n",
       "    }\n",
       "\n",
       "    .dataframe tbody tr th {\n",
       "        vertical-align: top;\n",
       "    }\n",
       "\n",
       "    .dataframe thead th {\n",
       "        text-align: right;\n",
       "    }\n",
       "</style>\n",
       "<table border=\"1\" class=\"dataframe\">\n",
       "  <thead>\n",
       "    <tr style=\"text-align: right;\">\n",
       "      <th></th>\n",
       "      <th>Price_point</th>\n",
       "      <th>Own_brand_5</th>\n",
       "    </tr>\n",
       "  </thead>\n",
       "  <tbody>\n",
       "    <tr>\n",
       "      <th>150</th>\n",
       "      <td>2.00</td>\n",
       "      <td>-0.922799</td>\n",
       "    </tr>\n",
       "    <tr>\n",
       "      <th>151</th>\n",
       "      <td>2.01</td>\n",
       "      <td>-0.934933</td>\n",
       "    </tr>\n",
       "    <tr>\n",
       "      <th>152</th>\n",
       "      <td>2.02</td>\n",
       "      <td>-0.947161</td>\n",
       "    </tr>\n",
       "    <tr>\n",
       "      <th>153</th>\n",
       "      <td>2.03</td>\n",
       "      <td>-0.959483</td>\n",
       "    </tr>\n",
       "    <tr>\n",
       "      <th>154</th>\n",
       "      <td>2.04</td>\n",
       "      <td>-0.971899</td>\n",
       "    </tr>\n",
       "    <tr>\n",
       "      <th>155</th>\n",
       "      <td>2.05</td>\n",
       "      <td>-0.984409</td>\n",
       "    </tr>\n",
       "    <tr>\n",
       "      <th>156</th>\n",
       "      <td>2.06</td>\n",
       "      <td>-0.997012</td>\n",
       "    </tr>\n",
       "    <tr>\n",
       "      <th>157</th>\n",
       "      <td>2.07</td>\n",
       "      <td>-1.009707</td>\n",
       "    </tr>\n",
       "    <tr>\n",
       "      <th>158</th>\n",
       "      <td>2.08</td>\n",
       "      <td>-1.022493</td>\n",
       "    </tr>\n",
       "    <tr>\n",
       "      <th>159</th>\n",
       "      <td>2.09</td>\n",
       "      <td>-1.035372</td>\n",
       "    </tr>\n",
       "  </tbody>\n",
       "</table>\n",
       "</div>"
      ],
      "text/plain": [
       "     Price_point  Own_brand_5\n",
       "150         2.00    -0.922799\n",
       "151         2.01    -0.934933\n",
       "152         2.02    -0.947161\n",
       "153         2.03    -0.959483\n",
       "154         2.04    -0.971899\n",
       "155         2.05    -0.984409\n",
       "156         2.06    -0.997012\n",
       "157         2.07    -1.009707\n",
       "158         2.08    -1.022493\n",
       "159         2.09    -1.035372"
      ]
     },
     "execution_count": 23,
     "metadata": {},
     "output_type": "execute_result"
    }
   ],
   "source": [
    "#pd.options.display.max_rows = None\n",
    "brand_choice_elasticities.iloc[150:160]"
   ]
  },
  {
   "cell_type": "markdown",
   "metadata": {},
   "source": [
    "As price of own price increase, the choice for Brand 5 gradually gets more elastic. Brand 5 becomes elastic after the price point of 2.07, as the graph gets lightly steeper."
   ]
  },
  {
   "cell_type": "markdown",
   "metadata": {},
   "source": [
    "### `4.2.` Cross price elasticity - Brand 5, Cross Brand 4\n",
    "How does the choice for Brand 5 changes as the price of Brand 4 changes, having all other brand prices constant at their means?"
   ]
  },
  {
   "cell_type": "code",
   "execution_count": 24,
   "metadata": {},
   "outputs": [],
   "source": [
    "# Create a new range of price to predict PE (price elasticity)\n",
    "price_range = np.arange(0.5, 3.5, 0.01) # 300 x 1 vector\n",
    "df_cross_brand_4 = pd.DataFrame(index=np.arange(price_range.size))"
   ]
  },
  {
   "cell_type": "code",
   "execution_count": 25,
   "metadata": {},
   "outputs": [],
   "source": [
    "df_cross_brand_4['Price_1'] = brand_choice['Price_1'].mean()\n",
    "df_cross_brand_4['Price_2'] = brand_choice['Price_2'].mean()\n",
    "df_cross_brand_4['Price_3'] = brand_choice['Price_3'].mean()\n",
    "df_cross_brand_4['Price_4'] = price_range # only Brand 4 price changes within given range\n",
    "df_cross_brand_4['Price_5'] = brand_choice['Price_5'].mean()"
   ]
  },
  {
   "cell_type": "code",
   "execution_count": 26,
   "metadata": {},
   "outputs": [
    {
     "data": {
      "text/plain": [
       "(300, 5)"
      ]
     },
     "execution_count": 26,
     "metadata": {},
     "output_type": "execute_result"
    }
   ],
   "source": [
    "predict_bc_cross = logit_brand_choice.predict_proba(df_cross_brand_4)\n",
    "predict_bc_cross.shape"
   ]
  },
  {
   "cell_type": "markdown",
   "metadata": {},
   "source": [
    "### Formula for Cross price elasticity :\n",
    "$$𝐸𝑐𝑟𝑜𝑠𝑠 = −Beta(own product) ∗ Price(cross product) ∗ Purchase(cross product)$$"
   ]
  },
  {
   "cell_type": "code",
   "execution_count": 27,
   "metadata": {
    "scrolled": true
   },
   "outputs": [],
   "source": [
    "beta_brand_5 = coef_brand_choice.iloc[4,4] # beta of own product (Brand 5)\n",
    "purchase_cross_4 = predict_bc_cross[:,3]\n",
    "\n",
    "# Calculate PE \n",
    "PE_brand_5_cross_4 = -beta_brand_5 * price_range * purchase_cross_4"
   ]
  },
  {
   "cell_type": "code",
   "execution_count": 28,
   "metadata": {},
   "outputs": [],
   "source": [
    "brand_choice_elasticities['Cross_4_brand_5'] = PE_brand_5_cross_4"
   ]
  },
  {
   "cell_type": "code",
   "execution_count": 29,
   "metadata": {},
   "outputs": [
    {
     "data": {
      "image/png": "[encoded data removed]",
      "text/plain": [
       "<Figure size 432x288 with 1 Axes>"
      ]
     },
     "metadata": {
      "needs_background": "light"
     },
     "output_type": "display_data"
    }
   ],
   "source": [
    "brand_choice_elasticities.plot(x='Price_point', y='Cross_4_brand_5')\n",
    "\n",
    "plt.title('Cross price elasticity for Brand 4\\n(in response to Brand 4 price)')\n",
    "plt.xlabel('Price - Brand 4')\n",
    "plt.ylabel('Cross price elasticity - Brand 5')\n",
    "plt.legend().remove()\n",
    "plt.show()"
   ]
  },
  {
   "cell_type": "markdown",
   "metadata": {},
   "source": [
    "Cross price elasticity stays positive across the price range of Brand 4. When elasticity of cross brand > 0, it indicates that the cross brand is a **substitute**.\n",
    "\n",
    "Although price elasiticty gets descreating after the price point of 1.5, but it still stays positive, meaning the purchase probability of Brand 5 still increases as Price of Brand 5 increases.\n",
    "\n",
    "So when setting up a marketing strategy for Brand 5, targeting customers choosing Brand 4 to switch to Brand 5 makes sense. **But, it is a laborsome task to target all - therefore it is better off to perform a granular analysis of elasticity by segments.**"
   ]
  },
  {
   "cell_type": "markdown",
   "metadata": {},
   "source": [
    "---\n",
    "### `4.3.` Create a logit model function\n",
    "\n",
    "The below functions may require refactoring when in production. However, here the code quality is not my primary focus so no refactoring is considered yet."
   ]
  },
  {
   "cell_type": "markdown",
   "metadata": {},
   "source": [
    "### Create helper functions"
   ]
  },
  {
   "cell_type": "code",
   "execution_count": 37,
   "metadata": {},
   "outputs": [],
   "source": [
    "def df_purchase_by_segment(segment_num, data=df_pa) :\n",
    "    # Input : default to df_pa and well-off segment\n",
    "    # Output : dataframe for a specific segment\n",
    "    df = data.query('Incidence==1').copy()\n",
    "    return df.query(f'Segment=={segment_num}')\n",
    "\n",
    "def multi_logit_brand_choice(df) :\n",
    "    # Output: fitted multinominal logit model\n",
    "    # @columns : target variables(Y),  @rows : predictor variables(X)\n",
    "    \n",
    "    # Fit logit model     \n",
    "    Y = df['Brand'] # Target variable\n",
    "    X = df.loc[:, df.columns.str.contains('Price_')] # Predictors\n",
    "    logit_brand_choice = LogisticRegression(solver='sag', \n",
    "                                            multi_class='multinomial',\n",
    "                                            max_iter=300)\n",
    "    return logit_brand_choice.fit(X, Y) # returns ndarray[classes Y, features X] \n",
    "\n",
    "def logit_coef_table(logit_model) :\n",
    "    # Output : coef_ matrix transposed to generate\n",
    "    coef_tbl = pd.DataFrame(np.transpose(logit_model.coef_), \n",
    "                            index=['Price_' + str(i) for i in range(1, 6)],\n",
    "                            columns=['Brand_' + str(i) for i in range(1, 6)])\n",
    "    return coef_tbl"
   ]
  },
  {
   "cell_type": "markdown",
   "metadata": {},
   "source": [
    "### `4.3.1` Well-off segment"
   ]
  },
  {
   "cell_type": "code",
   "execution_count": 38,
   "metadata": {},
   "outputs": [],
   "source": [
    "# Fit logit model for Segment 3 (Well off)\n",
    "df_s3 = df_purchase_by_segment(segment_num=3, data=df_pa) # well-off\n",
    "model_s3 = multi_logit_brand_choice(df_s3)\n",
    "coef_s3 = logit_coef_table(model_s3)"
   ]
  },
  {
   "cell_type": "markdown",
   "metadata": {},
   "source": [
    "### Own brand price elasticity"
   ]
  },
  {
   "cell_type": "code",
   "execution_count": 39,
   "metadata": {},
   "outputs": [],
   "source": [
    "def own_price_elasticity(model, coef_tbl, df, brand_num) : \n",
    "    # Output: own price brand choice elasticity    \n",
    "    price_range = np.arange(0.5, 3.5, 0.01)\n",
    "    price_tbl = pd.DataFrame(index=np.arange(price_range.size))\n",
    "\n",
    "    price_tbl['Price_1'] = df['Price_1'].mean()\n",
    "    price_tbl['Price_2'] = df['Price_2'].mean()\n",
    "    price_tbl['Price_3'] = df['Price_3'].mean()\n",
    "    price_tbl['Price_4'] = df['Price_4'].mean()\n",
    "    price_tbl['Price_5'] = df['Price_5'].mean()\n",
    "    \n",
    "    if brand_num in [1,2,3,4,5]:\n",
    "        price_tbl[f'Price_{brand_num}'] = price_range\n",
    "    else: \n",
    "        print('brand_num must be either of [1,2,3,4,5]')\n",
    "    \n",
    "    purchase_pred = model.predict_proba(price_tbl)\n",
    "        \n",
    "    idx = brand_num - 1\n",
    "    beta = coef_tbl.iloc[idx, idx]\n",
    "    \n",
    "    PE = beta * price_range * (1 - purchase_pred[:, idx])\n",
    "    \n",
    "    return pd.Series(PE, name=f'Own_brand_{brand_num}')"
   ]
  },
  {
   "cell_type": "markdown",
   "metadata": {},
   "source": [
    "### Cross brand price elasticity "
   ]
  },
  {
   "cell_type": "code",
   "execution_count": 42,
   "metadata": {},
   "outputs": [],
   "source": [
    "def cross_price_elasticity(model, coef_tbl, df, own_brand_num, cross_brand_num) : \n",
    "    # Output: cross price brand choice elasticity \n",
    "        \n",
    "    price_range = np.arange(0.5, 3.5, 0.01)\n",
    "    price_tbl = pd.DataFrame(index=np.arange(price_range.size))\n",
    "\n",
    "    price_tbl['Price_1'] = df['Price_1'].mean()\n",
    "    price_tbl['Price_2'] = df['Price_2'].mean()\n",
    "    price_tbl['Price_3'] = df['Price_3'].mean()\n",
    "    price_tbl['Price_4'] = df['Price_4'].mean()\n",
    "    price_tbl['Price_5'] = df['Price_5'].mean()\n",
    "    \n",
    "    if cross_brand_num in [1,2,3,4,5]:\n",
    "        price_tbl[f'Price_{cross_brand_num}'] = price_range\n",
    "    else: \n",
    "        print('cross_brand_num must be one of [1,2,3,4,5]')\n",
    "    \n",
    "    purchase_pred = model.predict_proba(price_tbl)\n",
    "    idx_own = own_brand_num - 1\n",
    "    idx_cross = cross_brand_num - 1\n",
    "    beta_own = coef_tbl.iloc[idx_own, idx_own]\n",
    "    \n",
    "    PE_cross = - beta_own * price_range * purchase_pred[:, idx_cross]\n",
    "    \n",
    "    return pd.Series(PE_cross, name=f'Cross_{cross_brand_num}_brand_{own_brand_num}')"
   ]
  },
  {
   "cell_type": "code",
   "execution_count": 43,
   "metadata": {},
   "outputs": [],
   "source": [
    "def brand_choice_price_elasticity_tbl(model, coef_tbl, df, own_brand_num, cross_brand_num) :\n",
    "    \n",
    "    price_range = np.arange(0.5, 3.5, 0.01)\n",
    "    price_series = pd.Series(price_range, name='Price_range')\n",
    "    own_series = own_price_elasticity(model, coef_tbl, df, own_brand_num)\n",
    "    cross_series = cross_price_elasticity(model, coef_tbl, df, \n",
    "                                          own_brand_num, cross_brand_num)\n",
    "    \n",
    "    print('The table represents own and cross price brand choice elasticity')\n",
    "    print(f'Own brand: Brand_{own_brand_num}')\n",
    "    print(f'Cross brand: Brand_{cross_brand_num}')\n",
    "    return pd.concat([price_series, own_series, cross_series], axis=1)"
   ]
  },
  {
   "cell_type": "code",
   "execution_count": 44,
   "metadata": {
    "scrolled": false
   },
   "outputs": [
    {
     "name": "stdout",
     "output_type": "stream",
     "text": [
      "The table represents own and cross price brand choice elasticity\n",
      "Own brand: Brand_5\n",
      "Cross brand: Brand_4\n"
     ]
    },
    {
     "data": {
      "text/html": [
       "<div>\n",
       "<style scoped>\n",
       "    .dataframe tbody tr th:only-of-type {\n",
       "        vertical-align: middle;\n",
       "    }\n",
       "\n",
       "    .dataframe tbody tr th {\n",
       "        vertical-align: top;\n",
       "    }\n",
       "\n",
       "    .dataframe thead th {\n",
       "        text-align: right;\n",
       "    }\n",
       "</style>\n",
       "<table border=\"1\" class=\"dataframe\">\n",
       "  <thead>\n",
       "    <tr style=\"text-align: right;\">\n",
       "      <th></th>\n",
       "      <th>Price_range</th>\n",
       "      <th>Own_brand_5</th>\n",
       "      <th>Cross_4_brand_5</th>\n",
       "    </tr>\n",
       "  </thead>\n",
       "  <tbody>\n",
       "    <tr>\n",
       "      <th>0</th>\n",
       "      <td>0.50</td>\n",
       "      <td>-0.120789</td>\n",
       "      <td>0.195444</td>\n",
       "    </tr>\n",
       "    <tr>\n",
       "      <th>1</th>\n",
       "      <td>0.51</td>\n",
       "      <td>-0.123241</td>\n",
       "      <td>0.199213</td>\n",
       "    </tr>\n",
       "    <tr>\n",
       "      <th>2</th>\n",
       "      <td>0.52</td>\n",
       "      <td>-0.125698</td>\n",
       "      <td>0.202976</td>\n",
       "    </tr>\n",
       "    <tr>\n",
       "      <th>3</th>\n",
       "      <td>0.53</td>\n",
       "      <td>-0.128158</td>\n",
       "      <td>0.206733</td>\n",
       "    </tr>\n",
       "    <tr>\n",
       "      <th>4</th>\n",
       "      <td>0.54</td>\n",
       "      <td>-0.130623</td>\n",
       "      <td>0.210482</td>\n",
       "    </tr>\n",
       "    <tr>\n",
       "      <th>...</th>\n",
       "      <td>...</td>\n",
       "      <td>...</td>\n",
       "      <td>...</td>\n",
       "    </tr>\n",
       "    <tr>\n",
       "      <th>295</th>\n",
       "      <td>3.45</td>\n",
       "      <td>-1.348616</td>\n",
       "      <td>0.062139</td>\n",
       "    </tr>\n",
       "    <tr>\n",
       "      <th>296</th>\n",
       "      <td>3.46</td>\n",
       "      <td>-1.354011</td>\n",
       "      <td>0.059990</td>\n",
       "    </tr>\n",
       "    <tr>\n",
       "      <th>297</th>\n",
       "      <td>3.47</td>\n",
       "      <td>-1.359404</td>\n",
       "      <td>0.057906</td>\n",
       "    </tr>\n",
       "    <tr>\n",
       "      <th>298</th>\n",
       "      <td>3.48</td>\n",
       "      <td>-1.364797</td>\n",
       "      <td>0.055887</td>\n",
       "    </tr>\n",
       "    <tr>\n",
       "      <th>299</th>\n",
       "      <td>3.49</td>\n",
       "      <td>-1.370188</td>\n",
       "      <td>0.053931</td>\n",
       "    </tr>\n",
       "  </tbody>\n",
       "</table>\n",
       "<p>300 rows × 3 columns</p>\n",
       "</div>"
      ],
      "text/plain": [
       "     Price_range  Own_brand_5  Cross_4_brand_5\n",
       "0           0.50    -0.120789         0.195444\n",
       "1           0.51    -0.123241         0.199213\n",
       "2           0.52    -0.125698         0.202976\n",
       "3           0.53    -0.128158         0.206733\n",
       "4           0.54    -0.130623         0.210482\n",
       "..           ...          ...              ...\n",
       "295         3.45    -1.348616         0.062139\n",
       "296         3.46    -1.354011         0.059990\n",
       "297         3.47    -1.359404         0.057906\n",
       "298         3.48    -1.364797         0.055887\n",
       "299         3.49    -1.370188         0.053931\n",
       "\n",
       "[300 rows x 3 columns]"
      ]
     },
     "execution_count": 44,
     "metadata": {},
     "output_type": "execute_result"
    }
   ],
   "source": [
    "elasticity_tbl_s3 = brand_choice_price_elasticity_tbl(model_s3, coef_s3, df_s3, 5, 4)\n",
    "elasticity_tbl_s3 # well_off, own Brand 5, cross Brand 4"
   ]
  },
  {
   "cell_type": "code",
   "execution_count": 45,
   "metadata": {},
   "outputs": [],
   "source": [
    "def display_elasticities(matrix, title1, title2) :\n",
    "    fig, (ax1, ax2) = plt.subplots(1, 2, sharex=True, figsize=(10,4))\n",
    "    \n",
    "    ax1.plot(matrix.iloc[:,0], matrix.iloc[:,1])    \n",
    "    ax2.plot(matrix.iloc[:,0], matrix.iloc[:,2])\n",
    "    \n",
    "    ax1.set_title(title1)\n",
    "    ax1.set_xlabel('Price 5')\n",
    "    \n",
    "    ax2.set_title(title2)\n",
    "    ax2.set_xlabel('Price 4')\n",
    "    \n",
    "    for ax in [ax1, ax2]:\n",
    "        ax.set(ylabel = 'Elasticity')\n",
    "    \n",
    "    plt.show()"
   ]
  },
  {
   "cell_type": "code",
   "execution_count": 46,
   "metadata": {},
   "outputs": [
    {
     "data": {
      "image/png": "[encoded data removed]",
      "text/plain": [
       "<Figure size 720x288 with 2 Axes>"
      ]
     },
     "metadata": {
      "needs_background": "light"
     },
     "output_type": "display_data"
    }
   ],
   "source": [
    "display_elasticities(elasticity_tbl_s3,\n",
    "                     'Own-Brand Price Elasticity\\nBrand 5',\n",
    "                     'Cross-Brand Price Elasticity\\nBrand 5 with regard to Brand 4')"
   ]
  },
  {
   "cell_type": "markdown",
   "metadata": {},
   "source": [
    "---\n",
    "### `4.3.2` Standard segment"
   ]
  },
  {
   "cell_type": "code",
   "execution_count": 51,
   "metadata": {},
   "outputs": [],
   "source": [
    "# Fit logit model for Segment 1 (Standard)\n",
    "df_s1 = df_purchase_by_segment(segment_num=1, data=df_pa) # well-off\n",
    "model_s1 = multi_logit_brand_choice(df_s1)\n",
    "coef_s1 = logit_coef_table(model_s1)"
   ]
  },
  {
   "cell_type": "code",
   "execution_count": 52,
   "metadata": {},
   "outputs": [
    {
     "name": "stdout",
     "output_type": "stream",
     "text": [
      "The table represents own and cross price brand choice elasticity\n",
      "Own brand: Brand_5\n",
      "Cross brand: Brand_4\n"
     ]
    }
   ],
   "source": [
    "elasticity_tbl_s1 = brand_choice_price_elasticity_tbl(model_s1, coef_s1, df_s1, \n",
    "                                                      own_brand_num=5, cross_brand_num=4)"
   ]
  },
  {
   "cell_type": "code",
   "execution_count": 53,
   "metadata": {},
   "outputs": [
    {
     "data": {
      "image/png": "[encoded data removed]",
      "text/plain": [
       "<Figure size 720x288 with 2 Axes>"
      ]
     },
     "metadata": {
      "needs_background": "light"
     },
     "output_type": "display_data"
    }
   ],
   "source": [
    "display_elasticities(elasticity_tbl_s1,\n",
    "                     'Own-Brand Price Elasticity\\nBrand 5',\n",
    "                     'Cross-Brand Price Elasticity\\nBrand 5 with regard to Brand 4')"
   ]
  }
 ],
 "metadata": {
  "kernelspec": {
   "display_name": "Python [conda env:my_env]",
   "language": "python",
   "name": "conda-env-my_env-py"
  },
  "language_info": {
   "codemirror_mode": {
    "name": "ipython",
    "version": 3
   },
   "file_extension": ".py",
   "mimetype": "text/x-python",
   "name": "python",
   "nbconvert_exporter": "python",
   "pygments_lexer": "ipython3",
   "version": "3.8.3"
  }
 },
 "nbformat": 4,
 "nbformat_minor": 4
}
