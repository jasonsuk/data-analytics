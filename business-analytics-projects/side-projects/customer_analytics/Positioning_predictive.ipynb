{
 "cells": [
  {
   "cell_type": "markdown",
   "metadata": {},
   "source": [
    "## Predictive Customer Analysis "
   ]
  },
  {
   "cell_type": "markdown",
   "metadata": {},
   "source": [
    "Following the descriptive analysis of the customer purchase on `Positioning_descriptive,ipynb` notebook, here logistic regression and linear regression will be applied will be performed to deepdive into purchase analysis and forecast."
   ]
  },
  {
   "cell_type": "markdown",
   "metadata": {},
   "source": [
    "## Libraries"
   ]
  },
  {
   "cell_type": "code",
   "execution_count": 1,
   "metadata": {},
   "outputs": [],
   "source": [
    "import numpy as np\n",
    "import pandas as pd\n",
    "import matplotlib.pyplot as plt\n",
    "import seaborn as sns\n",
    "\n",
    "from sklearn.preprocessing import StandardScaler\n",
    "from sklearn.decomposition import PCA\n",
    "from sklearn.cluster import KMeans\n",
    "from sklearn.preprocessing import OneHotEncoder\n",
    "\n",
    "from sklearn.linear_model import LogisticRegression\n",
    "\n",
    "import os \n",
    "import pickle"
   ]
  },
  {
   "cell_type": "markdown",
   "metadata": {},
   "source": [
    "## Import the Data"
   ]
  },
  {
   "cell_type": "code",
   "execution_count": 2,
   "metadata": {},
   "outputs": [],
   "source": [
    "def import_pickle_data(filename) :\n",
    "    path = os.path.join(os.getcwd(), 'obj_data', filename)\n",
    "    return pickle.load(open(path, 'rb')) #rb = read as byte datatype"
   ]
  },
  {
   "cell_type": "code",
   "execution_count": 3,
   "metadata": {},
   "outputs": [],
   "source": [
    "def import_csv(filePath) :\n",
    "    return pd.read_csv(filePath)"
   ]
  },
  {
   "cell_type": "code",
   "execution_count": 4,
   "metadata": {
    "scrolled": true
   },
   "outputs": [],
   "source": [
    "# loading the data file\n",
    "filePath_purchase = os.path.join(os.getcwd(), 'data', 'purchase data.csv')\n",
    "df_purchase = import_csv(filePath_purchase)\n",
    "\n",
    "# importing classes\n",
    "scaler = import_pickle_data('scaler.pickle')\n",
    "pca = import_pickle_data('pca.pickle')\n",
    "kmeans_pca = import_pickle_data('kmeans_pca.pickle')\n",
    "\n",
    "# standardization\n",
    "df_purchase.columns.values[-7:] # the 7 features standized \n",
    "features_to_include = df_purchase.columns.values[-7:]\n",
    "df_purchase_std = scaler.transform(df_purchase[features_to_include])\n",
    "\n",
    "# dimentionality reduction of the standardized data\n",
    "df_purchase_pca = pca.transform(df_purchase_std)\n",
    "\n",
    "# segmentation from the preprocessed data\n",
    "segment_kmeans_pca = kmeans_pca.predict(df_purchase_pca)\n",
    "df_purchase_analysis = df_purchase.copy()\n",
    "df_purchase_analysis['Segment'] = segment_kmeans_pca\n",
    "\n",
    "# binary encoding segment\n",
    "segment_dummies = pd.get_dummies(df_purchase_analysis['Segment'], \n",
    "                                 prefix='Segment', prefix_sep='_')\n",
    "df_purchase_analysis = pd.concat([df_purchase_analysis, segment_dummies], axis=1)"
   ]
  },
  {
   "cell_type": "code",
   "execution_count": 5,
   "metadata": {},
   "outputs": [],
   "source": [
    "# Differentiate the dataframe for convenience\n",
    "df_pa = df_purchase_analysis.copy()"
   ]
  },
  {
   "cell_type": "markdown",
   "metadata": {},
   "source": [
    "---\n",
    "## `1.` Purchase probability model\n",
    "\n",
    "Using logistic regression : \n",
    "- Target variable (Y) : Incidence (purchased - 0: no, 1: yes)\n",
    "- Independent variable (X) : Price, using mean / ~~median~~ in this case"
   ]
  },
  {
   "cell_type": "code",
   "execution_count": 6,
   "metadata": {},
   "outputs": [],
   "source": [
    "Y = df_pa['Incidence']"
   ]
  },
  {
   "cell_type": "code",
   "execution_count": 7,
   "metadata": {},
   "outputs": [],
   "source": [
    "brand_prices = df_pa.loc[:, df_pa.columns.str.contains('Price_')]\n",
    "X = pd.DataFrame({'Mean_price' : brand_prices.mean(axis=1)})"
   ]
  },
  {
   "cell_type": "code",
   "execution_count": 8,
   "metadata": {},
   "outputs": [],
   "source": [
    "logit_purchase = LogisticRegression(solver='sag')"
   ]
  },
  {
   "cell_type": "code",
   "execution_count": 9,
   "metadata": {},
   "outputs": [
    {
     "data": {
      "text/plain": [
       "LogisticRegression(solver='sag')"
      ]
     },
     "execution_count": 9,
     "metadata": {},
     "output_type": "execute_result"
    }
   ],
   "source": [
    "logit_purchase.fit(X, Y)"
   ]
  },
  {
   "cell_type": "code",
   "execution_count": 10,
   "metadata": {
    "scrolled": true
   },
   "outputs": [
    {
     "data": {
      "text/plain": [
       "array([[-2.34823571]])"
      ]
     },
     "execution_count": 10,
     "metadata": {},
     "output_type": "execute_result"
    }
   ],
   "source": [
    "logit_purchase.coef_"
   ]
  },
  {
   "cell_type": "markdown",
   "metadata": {},
   "source": [
    "---\n",
    "### Price elasticity of purchase probability\n",
    "\n",
    "**Quick overview of elasticity**\n",
    "\n",
    "Price elasticity of purchase probability : % change in purchase probability in response to a 1% change in price\n",
    "\n",
    "- Rearranged formula :\n",
    "\n",
    "$$ E = beta * price * (1-Pr(purchase) $$\n",
    "\n",
    "- Interpretation : \n",
    "\n",
    "$$ |E| < 1 : inelastic, or : elastic $$"
   ]
  },
  {
   "cell_type": "markdown",
   "metadata": {},
   "source": [
    "### Forecast price elasticity in response to price change"
   ]
  },
  {
   "cell_type": "code",
   "execution_count": 11,
   "metadata": {},
   "outputs": [
    {
     "data": {
      "text/html": [
       "<div>\n",
       "<style scoped>\n",
       "    .dataframe tbody tr th:only-of-type {\n",
       "        vertical-align: middle;\n",
       "    }\n",
       "\n",
       "    .dataframe tbody tr th {\n",
       "        vertical-align: top;\n",
       "    }\n",
       "\n",
       "    .dataframe thead th {\n",
       "        text-align: right;\n",
       "    }\n",
       "</style>\n",
       "<table border=\"1\" class=\"dataframe\">\n",
       "  <thead>\n",
       "    <tr style=\"text-align: right;\">\n",
       "      <th></th>\n",
       "      <th>Price_1</th>\n",
       "      <th>Price_2</th>\n",
       "      <th>Price_3</th>\n",
       "      <th>Price_4</th>\n",
       "      <th>Price_5</th>\n",
       "    </tr>\n",
       "  </thead>\n",
       "  <tbody>\n",
       "    <tr>\n",
       "      <th>count</th>\n",
       "      <td>58693.000000</td>\n",
       "      <td>58693.000000</td>\n",
       "      <td>58693.000000</td>\n",
       "      <td>58693.000000</td>\n",
       "      <td>58693.000000</td>\n",
       "    </tr>\n",
       "    <tr>\n",
       "      <th>mean</th>\n",
       "      <td>1.392074</td>\n",
       "      <td>1.780999</td>\n",
       "      <td>2.006789</td>\n",
       "      <td>2.159945</td>\n",
       "      <td>2.654798</td>\n",
       "    </tr>\n",
       "    <tr>\n",
       "      <th>std</th>\n",
       "      <td>0.091139</td>\n",
       "      <td>0.170868</td>\n",
       "      <td>0.046867</td>\n",
       "      <td>0.089825</td>\n",
       "      <td>0.098272</td>\n",
       "    </tr>\n",
       "    <tr>\n",
       "      <th>min</th>\n",
       "      <td>1.100000</td>\n",
       "      <td>1.260000</td>\n",
       "      <td>1.870000</td>\n",
       "      <td>1.760000</td>\n",
       "      <td>2.110000</td>\n",
       "    </tr>\n",
       "    <tr>\n",
       "      <th>25%</th>\n",
       "      <td>1.340000</td>\n",
       "      <td>1.580000</td>\n",
       "      <td>1.970000</td>\n",
       "      <td>2.120000</td>\n",
       "      <td>2.630000</td>\n",
       "    </tr>\n",
       "    <tr>\n",
       "      <th>50%</th>\n",
       "      <td>1.390000</td>\n",
       "      <td>1.880000</td>\n",
       "      <td>2.010000</td>\n",
       "      <td>2.170000</td>\n",
       "      <td>2.670000</td>\n",
       "    </tr>\n",
       "    <tr>\n",
       "      <th>75%</th>\n",
       "      <td>1.470000</td>\n",
       "      <td>1.890000</td>\n",
       "      <td>2.060000</td>\n",
       "      <td>2.240000</td>\n",
       "      <td>2.700000</td>\n",
       "    </tr>\n",
       "    <tr>\n",
       "      <th>max</th>\n",
       "      <td>1.590000</td>\n",
       "      <td>1.900000</td>\n",
       "      <td>2.140000</td>\n",
       "      <td>2.260000</td>\n",
       "      <td>2.800000</td>\n",
       "    </tr>\n",
       "  </tbody>\n",
       "</table>\n",
       "</div>"
      ],
      "text/plain": [
       "            Price_1       Price_2       Price_3       Price_4       Price_5\n",
       "count  58693.000000  58693.000000  58693.000000  58693.000000  58693.000000\n",
       "mean       1.392074      1.780999      2.006789      2.159945      2.654798\n",
       "std        0.091139      0.170868      0.046867      0.089825      0.098272\n",
       "min        1.100000      1.260000      1.870000      1.760000      2.110000\n",
       "25%        1.340000      1.580000      1.970000      2.120000      2.630000\n",
       "50%        1.390000      1.880000      2.010000      2.170000      2.670000\n",
       "75%        1.470000      1.890000      2.060000      2.240000      2.700000\n",
       "max        1.590000      1.900000      2.140000      2.260000      2.800000"
      ]
     },
     "execution_count": 11,
     "metadata": {},
     "output_type": "execute_result"
    }
   ],
   "source": [
    "brand_prices.describe() # prices ranged bewteen 1.1 to 2.8"
   ]
  },
  {
   "cell_type": "code",
   "execution_count": 12,
   "metadata": {},
   "outputs": [],
   "source": [
    "# Create a new range of price to predict PE (price elasticity)\n",
    "price_range = np.arange(0.5, 3.5, 0.01)\n",
    "\n",
    "# sklearn requires 2D array of X to predict y\n",
    "df_price_range = pd.DataFrame(price_range)"
   ]
  },
  {
   "cell_type": "code",
   "execution_count": 13,
   "metadata": {
    "scrolled": false
   },
   "outputs": [],
   "source": [
    "# purchase probability matrix\n",
    "purchase_pr_mat = logit_purchase.predict_proba(df_price_range)\n",
    "purchase_pr = purchase_pr_mat[:,1]"
   ]
  },
  {
   "cell_type": "code",
   "execution_count": 14,
   "metadata": {},
   "outputs": [],
   "source": [
    "# calculating price elatisticity for purchase probability\n",
    "PE = logit_purchase.coef_[0] * price_range * (1 - purchase_pr)"
   ]
  },
  {
   "cell_type": "code",
   "execution_count": 15,
   "metadata": {},
   "outputs": [],
   "source": [
    "df_price_elast = pd.DataFrame({'Price_point' : price_range, \n",
    "                               'Elasticity' : PE})"
   ]
  },
  {
   "cell_type": "code",
   "execution_count": 16,
   "metadata": {},
   "outputs": [
    {
     "data": {
      "text/html": [
       "<div>\n",
       "<style scoped>\n",
       "    .dataframe tbody tr th:only-of-type {\n",
       "        vertical-align: middle;\n",
       "    }\n",
       "\n",
       "    .dataframe tbody tr th {\n",
       "        vertical-align: top;\n",
       "    }\n",
       "\n",
       "    .dataframe thead th {\n",
       "        text-align: right;\n",
       "    }\n",
       "</style>\n",
       "<table border=\"1\" class=\"dataframe\">\n",
       "  <thead>\n",
       "    <tr style=\"text-align: right;\">\n",
       "      <th></th>\n",
       "      <th>Price_point</th>\n",
       "      <th>Elasticity</th>\n",
       "    </tr>\n",
       "  </thead>\n",
       "  <tbody>\n",
       "    <tr>\n",
       "      <th>72</th>\n",
       "      <td>1.22</td>\n",
       "      <td>-0.937253</td>\n",
       "    </tr>\n",
       "    <tr>\n",
       "      <th>73</th>\n",
       "      <td>1.23</td>\n",
       "      <td>-0.959925</td>\n",
       "    </tr>\n",
       "    <tr>\n",
       "      <th>74</th>\n",
       "      <td>1.24</td>\n",
       "      <td>-0.982961</td>\n",
       "    </tr>\n",
       "    <tr>\n",
       "      <th>75</th>\n",
       "      <td>1.25</td>\n",
       "      <td>-1.006360</td>\n",
       "    </tr>\n",
       "    <tr>\n",
       "      <th>76</th>\n",
       "      <td>1.26</td>\n",
       "      <td>-1.030122</td>\n",
       "    </tr>\n",
       "    <tr>\n",
       "      <th>77</th>\n",
       "      <td>1.27</td>\n",
       "      <td>-1.054247</td>\n",
       "    </tr>\n",
       "  </tbody>\n",
       "</table>\n",
       "</div>"
      ],
      "text/plain": [
       "    Price_point  Elasticity\n",
       "72         1.22   -0.937253\n",
       "73         1.23   -0.959925\n",
       "74         1.24   -0.982961\n",
       "75         1.25   -1.006360\n",
       "76         1.26   -1.030122\n",
       "77         1.27   -1.054247"
      ]
     },
     "execution_count": 16,
     "metadata": {},
     "output_type": "execute_result"
    }
   ],
   "source": [
    "elastic_breakpoint = np.argmax(df_price_elast['Elasticity'] <= -1.0) # index = 75\n",
    "df_price_elast.iloc[72:78,:] # below 75 : inelastic"
   ]
  },
  {
   "cell_type": "code",
   "execution_count": 17,
   "metadata": {
    "scrolled": false
   },
   "outputs": [
    {
     "data": {
      "image/png": "[encoded data removed]",
      "text/plain": [
       "<Figure size 576x432 with 1 Axes>"
      ]
     },
     "metadata": {
      "needs_background": "light"
     },
     "output_type": "display_data"
    }
   ],
   "source": [
    "df_price_elast.plot(x='Price_point', y='Elasticity', figsize=(8,6))\n",
    "\n",
    "price_breakpoint = df_price_elast.loc[elastic_breakpoint, 'Price_point']\n",
    "plt.axvline(x= price_breakpoint, \n",
    "            color='orange', ls='--')\n",
    "plt.text(x=price_breakpoint-0.1, y=-9, s='{0:.2f}'.format(price_breakpoint), color='orange')\n",
    "plt.show()"
   ]
  },
  {
   "cell_type": "markdown",
   "metadata": {},
   "source": [
    "Up to price point of 1.25, the purchase probability is inelastic in respone to price. The curve gets stepper above the price level, suggesting the increase in price will cause a greater impact (negatively) on purchase."
   ]
  },
  {
   "cell_type": "markdown",
   "metadata": {},
   "source": [
    "---\n",
    "## `2.` Purchase probability by segment\n",
    "\n",
    "Earlier in the descriptive analysis, each segment shows different preference for brand i.e. Fewer Opportunity favoring the relatively lower-priced Brand 2, as opposed to Career Focused & Well off segments going for more premium Brands. \n",
    "\n",
    "Let's see if logistic regression model can also tell this tendency by observing price elasticity."
   ]
  },
  {
   "cell_type": "markdown",
   "metadata": {},
   "source": [
    "segment_index = {\n",
    "    0 : 'Fewer Opportunity',\n",
    "    1 : 'Career Focused',\n",
    "    2 : 'Standard',\n",
    "    3 : 'Well off'\n",
    "}"
   ]
  },
  {
   "cell_type": "code",
   "execution_count": 18,
   "metadata": {},
   "outputs": [
    {
     "data": {
      "text/plain": [
       "0    21526\n",
       "1    13677\n",
       "2    12123\n",
       "3    11367\n",
       "Name: Segment, dtype: int64"
      ]
     },
     "execution_count": 18,
     "metadata": {},
     "output_type": "execute_result"
    }
   ],
   "source": [
    "# data is more abundant for Fewer Opporunity segment \n",
    "# which 'may' help the data to better fit \n",
    "df_pa.Segment.value_counts() "
   ]
  },
  {
   "cell_type": "markdown",
   "metadata": {},
   "source": [
    "### `2-1.` Fewer Opportunity\n",
    "\n",
    "The below code tested fine!"
   ]
  },
  {
   "cell_type": "code",
   "execution_count": 19,
   "metadata": {},
   "outputs": [],
   "source": [
    "# df_pa_seg0 = df_pa.query('Segment == 0')\n",
    "# Y_seg0 = df_pa_seg0['Incidence']\n",
    "# brand_prices_seg0 = df_pa_seg0.loc[:, df_pa_seg0.columns.str.contains('Price_')]\n",
    "# X_seg0 = pd.DataFrame({'Mean_price' : brand_prices_seg0.mean(axis=1)})\n",
    "\n",
    "# logit_seg0 = LogisticRegression(solver='sag')\n",
    "# logit_seg0.fit(X_seg0, Y_seg0)\n",
    "# beta_seg0 = logit_seg0.coef_ # the degree is larger than total : array([[-2.34834598]])\n",
    "# beta_seg0\n",
    "\n",
    "# # using the price range earlier defined\n",
    "# purchase_pr_seg0 = logit_seg0.predict_proba(df_price_range)[:,1] \n",
    "\n",
    "# PE_seg0 = beta_seg0 * price_range * (1-purchase_pr_seg0)\n",
    "\n",
    "# df_price_elast.insert(2, column='PE_Segment_0', value=PE_seg0[0])\n",
    "\n",
    "# df_price_elast.plot(x='Price_point', y=['Elasticity','PE_Segment_0'])\n",
    "# plt.show()"
   ]
  },
  {
   "cell_type": "markdown",
   "metadata": {},
   "source": [
    "Construct a function to create a consolidated **`df_price_elast`** dataframe"
   ]
  },
  {
   "cell_type": "code",
   "execution_count": 20,
   "metadata": {},
   "outputs": [],
   "source": [
    "def construct_elast_by_segment(list_segment_index) :\n",
    "    # will return a consolidated dataframe\n",
    "    for idx in list_segment_index :\n",
    "        \n",
    "        # SET UP : EXTRACT VARIABLES           \n",
    "        df_seg = df_pa.query(f'Segment == {idx}') #df_pa: a copy of imported df_purchase_analysis\n",
    "        Y = df_seg['Incidence']\n",
    "        brand_prices = df_seg.loc[:, df_seg.columns.str.contains('Price_')]\n",
    "        X = pd.DataFrame(brand_prices.mean(axis=1))\n",
    "        \n",
    "        # FITTING LOGISTIC REGRESSION MODEL\n",
    "        logit = LogisticRegression(solver='sag')\n",
    "        logit.fit(X, Y)\n",
    "        beta = logit.coef_\n",
    "        \n",
    "        # FORECASTING WITH NEW PRICE RANGE\n",
    "        price_range = np.arange(0.5, 3.5, 0.01)    \n",
    "        df_price_range = pd.DataFrame(price_range)        \n",
    "        purchase_prob = logit.predict_proba(df_price_range)[:, 1]\n",
    "        PE = beta * price_range * (1-purchase_prob)\n",
    "        \n",
    "        # CONSTRUCT A NEW DATAFRAME ADDED TO df_price_elast\n",
    "        df_price_elast.insert(idx+2, column= f'PE_Segment_{idx}', value=PE[0])\n",
    "        \n",
    "    return df_price_elast"
   ]
  },
  {
   "cell_type": "code",
   "execution_count": 21,
   "metadata": {},
   "outputs": [],
   "source": [
    "list_segment_index = list(set(df_pa.Segment))\n",
    "df_price_elast_seg = construct_elast_by_segment(list_segment_index)"
   ]
  },
  {
   "cell_type": "code",
   "execution_count": 22,
   "metadata": {},
   "outputs": [
    {
     "data": {
      "text/html": [
       "<div>\n",
       "<style scoped>\n",
       "    .dataframe tbody tr th:only-of-type {\n",
       "        vertical-align: middle;\n",
       "    }\n",
       "\n",
       "    .dataframe tbody tr th {\n",
       "        vertical-align: top;\n",
       "    }\n",
       "\n",
       "    .dataframe thead th {\n",
       "        text-align: right;\n",
       "    }\n",
       "</style>\n",
       "<table border=\"1\" class=\"dataframe\">\n",
       "  <thead>\n",
       "    <tr style=\"text-align: right;\">\n",
       "      <th></th>\n",
       "      <th>Price_point</th>\n",
       "      <th>Elasticity</th>\n",
       "      <th>PE_Segment_0</th>\n",
       "      <th>PE_Segment_1</th>\n",
       "      <th>PE_Segment_2</th>\n",
       "      <th>PE_Segment_3</th>\n",
       "    </tr>\n",
       "  </thead>\n",
       "  <tbody>\n",
       "    <tr>\n",
       "      <th>0</th>\n",
       "      <td>0.50</td>\n",
       "      <td>-0.096603</td>\n",
       "      <td>-0.032300</td>\n",
       "      <td>-0.118762</td>\n",
       "      <td>-0.211144</td>\n",
       "      <td>-0.165210</td>\n",
       "    </tr>\n",
       "    <tr>\n",
       "      <th>1</th>\n",
       "      <td>0.51</td>\n",
       "      <td>-0.100679</td>\n",
       "      <td>-0.034133</td>\n",
       "      <td>-0.122948</td>\n",
       "      <td>-0.217713</td>\n",
       "      <td>-0.170129</td>\n",
       "    </tr>\n",
       "    <tr>\n",
       "      <th>2</th>\n",
       "      <td>0.52</td>\n",
       "      <td>-0.104883</td>\n",
       "      <td>-0.036055</td>\n",
       "      <td>-0.127228</td>\n",
       "      <td>-0.224390</td>\n",
       "      <td>-0.175121</td>\n",
       "    </tr>\n",
       "    <tr>\n",
       "      <th>3</th>\n",
       "      <td>0.53</td>\n",
       "      <td>-0.109217</td>\n",
       "      <td>-0.038071</td>\n",
       "      <td>-0.131604</td>\n",
       "      <td>-0.231176</td>\n",
       "      <td>-0.180188</td>\n",
       "    </tr>\n",
       "    <tr>\n",
       "      <th>4</th>\n",
       "      <td>0.54</td>\n",
       "      <td>-0.113685</td>\n",
       "      <td>-0.040184</td>\n",
       "      <td>-0.136077</td>\n",
       "      <td>-0.238071</td>\n",
       "      <td>-0.185328</td>\n",
       "    </tr>\n",
       "    <tr>\n",
       "      <th>...</th>\n",
       "      <td>...</td>\n",
       "      <td>...</td>\n",
       "      <td>...</td>\n",
       "      <td>...</td>\n",
       "      <td>...</td>\n",
       "      <td>...</td>\n",
       "    </tr>\n",
       "    <tr>\n",
       "      <th>295</th>\n",
       "      <td>3.45</td>\n",
       "      <td>-8.013757</td>\n",
       "      <td>-12.421768</td>\n",
       "      <td>-5.723130</td>\n",
       "      <td>-5.051823</td>\n",
       "      <td>-4.163666</td>\n",
       "    </tr>\n",
       "    <tr>\n",
       "      <th>296</th>\n",
       "      <td>3.46</td>\n",
       "      <td>-8.039004</td>\n",
       "      <td>-12.458354</td>\n",
       "      <td>-5.743381</td>\n",
       "      <td>-5.068679</td>\n",
       "      <td>-4.179001</td>\n",
       "    </tr>\n",
       "    <tr>\n",
       "      <th>297</th>\n",
       "      <td>3.47</td>\n",
       "      <td>-8.064216</td>\n",
       "      <td>-12.494923</td>\n",
       "      <td>-5.763595</td>\n",
       "      <td>-5.085517</td>\n",
       "      <td>-4.194317</td>\n",
       "    </tr>\n",
       "    <tr>\n",
       "      <th>298</th>\n",
       "      <td>3.48</td>\n",
       "      <td>-8.089395</td>\n",
       "      <td>-12.531475</td>\n",
       "      <td>-5.783773</td>\n",
       "      <td>-5.102337</td>\n",
       "      <td>-4.209615</td>\n",
       "    </tr>\n",
       "    <tr>\n",
       "      <th>299</th>\n",
       "      <td>3.49</td>\n",
       "      <td>-8.114541</td>\n",
       "      <td>-12.568010</td>\n",
       "      <td>-5.803914</td>\n",
       "      <td>-5.119138</td>\n",
       "      <td>-4.224896</td>\n",
       "    </tr>\n",
       "  </tbody>\n",
       "</table>\n",
       "<p>300 rows × 6 columns</p>\n",
       "</div>"
      ],
      "text/plain": [
       "     Price_point  Elasticity  PE_Segment_0  PE_Segment_1  PE_Segment_2  \\\n",
       "0           0.50   -0.096603     -0.032300     -0.118762     -0.211144   \n",
       "1           0.51   -0.100679     -0.034133     -0.122948     -0.217713   \n",
       "2           0.52   -0.104883     -0.036055     -0.127228     -0.224390   \n",
       "3           0.53   -0.109217     -0.038071     -0.131604     -0.231176   \n",
       "4           0.54   -0.113685     -0.040184     -0.136077     -0.238071   \n",
       "..           ...         ...           ...           ...           ...   \n",
       "295         3.45   -8.013757    -12.421768     -5.723130     -5.051823   \n",
       "296         3.46   -8.039004    -12.458354     -5.743381     -5.068679   \n",
       "297         3.47   -8.064216    -12.494923     -5.763595     -5.085517   \n",
       "298         3.48   -8.089395    -12.531475     -5.783773     -5.102337   \n",
       "299         3.49   -8.114541    -12.568010     -5.803914     -5.119138   \n",
       "\n",
       "     PE_Segment_3  \n",
       "0       -0.165210  \n",
       "1       -0.170129  \n",
       "2       -0.175121  \n",
       "3       -0.180188  \n",
       "4       -0.185328  \n",
       "..            ...  \n",
       "295     -4.163666  \n",
       "296     -4.179001  \n",
       "297     -4.194317  \n",
       "298     -4.209615  \n",
       "299     -4.224896  \n",
       "\n",
       "[300 rows x 6 columns]"
      ]
     },
     "execution_count": 22,
     "metadata": {},
     "output_type": "execute_result"
    }
   ],
   "source": [
    "# pd.set_option('display.max_rows', None)\n",
    "# df_price_elast_seg"
   ]
  },
  {
   "cell_type": "code",
   "execution_count": 23,
   "metadata": {},
   "outputs": [
    {
     "data": {
      "image/png": "[encoded data removed]",
      "text/plain": [
       "<Figure size 576x432 with 1 Axes>"
      ]
     },
     "metadata": {
      "needs_background": "light"
     },
     "output_type": "display_data"
    }
   ],
   "source": [
    "y_cols = df_price_elast_seg.columns.values[1:]\n",
    "y_labels = ['Average', 'Fewer Opporunity', 'Standard', 'Career focused', 'Well off']\n",
    "\n",
    "plt.figure(figsize=(8,6))\n",
    "\n",
    "for i in range(len(y_cols)) :\n",
    "    plt.plot(df_price_elast_seg['Price_point'],\n",
    "             df_price_elast_seg[y_cols[i]], \n",
    "             label=y_labels[i], linewidth=2, alpha=0.7)\n",
    "    \n",
    "plt.title('Price Elasticity by Segment', fontsize=12)\n",
    "plt.xlabel('Price ($)')\n",
    "plt.ylabel('Price Elasticity')\n",
    "plt.legend(loc='lower left')\n",
    "    \n",
    "plt.show()"
   ]
  },
  {
   "cell_type": "markdown",
   "metadata": {},
   "source": [
    "The plot for `Fewer Opportuntiy` segment starts to get steeper to the large extent at the price point of $ 1.38, above which price elasticity for the segment > 1. \n",
    "\n",
    "`Career focused` segment gets elastic at price point of $1.24, which is the lower price point than Fewer Opporunity. However, the overall steepness is not as great as Fewer Opporunity segment, which suggests the segment is less price sensitive in the purchase of the product as expected from the descriptive analysis. \n",
    "\n",
    "`Well off` segment shows the least elastic to price change, which is rather self-explanatory. \n",
    "\n",
    "Overall price elasticity got greater with Few Opportunity Segment, seeing the other three segments trend well above the averge line as price rises.\n",
    "\n",
    "**_Annecdote_** : sample size differs across each segment, and the model accuracy is likely to vary."
   ]
  },
  {
   "cell_type": "markdown",
   "metadata": {},
   "source": [
    "---\n",
    "## `3.` Purchase model and elasticity with promotion"
   ]
  },
  {
   "cell_type": "code",
   "execution_count": null,
   "metadata": {},
   "outputs": [],
   "source": []
  }
 ],
 "metadata": {
  "kernelspec": {
   "display_name": "Python [conda env:my_env]",
   "language": "python",
   "name": "conda-env-my_env-py"
  },
  "language_info": {
   "codemirror_mode": {
    "name": "ipython",
    "version": 3
   },
   "file_extension": ".py",
   "mimetype": "text/x-python",
   "name": "python",
   "nbconvert_exporter": "python",
   "pygments_lexer": "ipython3",
   "version": "3.8.3"
  }
 },
 "nbformat": 4,
 "nbformat_minor": 4
}
