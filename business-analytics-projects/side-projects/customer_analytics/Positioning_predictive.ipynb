{
 "cells": [
  {
   "cell_type": "markdown",
   "metadata": {},
   "source": [
    "## Predictive Customer Analysis "
   ]
  },
  {
   "cell_type": "markdown",
   "metadata": {},
   "source": [
    "Following the descriptive analysis of the customer purchase on `Positioning_descriptive.ipynb` notebook, here logistic regression and linear regression will be applied will be performed to deepdive into purchase analysis and forecast."
   ]
  },
  {
   "cell_type": "markdown",
   "metadata": {},
   "source": [
    "## Libraries"
   ]
  },
  {
   "cell_type": "code",
   "execution_count": 1,
   "metadata": {},
   "outputs": [],
   "source": [
    "import numpy as np\n",
    "import pandas as pd\n",
    "import matplotlib.pyplot as plt\n",
    "import seaborn as sns\n",
    "\n",
    "from sklearn.preprocessing import StandardScaler\n",
    "from sklearn.decomposition import PCA\n",
    "from sklearn.cluster import KMeans\n",
    "from sklearn.preprocessing import OneHotEncoder\n",
    "\n",
    "from sklearn.linear_model import LogisticRegression\n",
    "\n",
    "import os \n",
    "import pickle"
   ]
  },
  {
   "cell_type": "markdown",
   "metadata": {},
   "source": [
    "## Import the Data"
   ]
  },
  {
   "cell_type": "code",
   "execution_count": 2,
   "metadata": {},
   "outputs": [],
   "source": [
    "def import_pickle_data(filename) :\n",
    "    path = os.path.join(os.getcwd(), 'obj_data', filename)\n",
    "    return pickle.load(open(path, 'rb')) #rb = read as byte datatype"
   ]
  },
  {
   "cell_type": "code",
   "execution_count": 3,
   "metadata": {},
   "outputs": [],
   "source": [
    "def import_csv(filePath) :\n",
    "    return pd.read_csv(filePath)"
   ]
  },
  {
   "cell_type": "code",
   "execution_count": 4,
   "metadata": {
    "scrolled": true
   },
   "outputs": [],
   "source": [
    "# loading the data file\n",
    "filePath_purchase = os.path.join(os.getcwd(), 'data', 'purchase data.csv')\n",
    "df_purchase = import_csv(filePath_purchase)\n",
    "\n",
    "# importing classes\n",
    "scaler = import_pickle_data('scaler.pickle')\n",
    "pca = import_pickle_data('pca.pickle')\n",
    "kmeans_pca = import_pickle_data('kmeans_pca.pickle')\n",
    "\n",
    "# standardization\n",
    "df_purchase.columns.values[-7:] # the 7 features standized \n",
    "features_to_include = df_purchase.columns.values[-7:]\n",
    "df_purchase_std = scaler.transform(df_purchase[features_to_include])\n",
    "\n",
    "# dimentionality reduction of the standardized data\n",
    "df_purchase_pca = pca.transform(df_purchase_std)\n",
    "\n",
    "# segmentation from the preprocessed data\n",
    "segment_kmeans_pca = kmeans_pca.predict(df_purchase_pca)\n",
    "df_purchase_analysis = df_purchase.copy()\n",
    "df_purchase_analysis['Segment'] = segment_kmeans_pca\n",
    "\n",
    "# binary encoding segment\n",
    "segment_dummies = pd.get_dummies(df_purchase_analysis['Segment'], \n",
    "                                 prefix='Segment', prefix_sep='_')\n",
    "df_purchase_analysis = pd.concat([df_purchase_analysis, segment_dummies], axis=1)"
   ]
  },
  {
   "cell_type": "code",
   "execution_count": 5,
   "metadata": {},
   "outputs": [],
   "source": [
    "# Differentiate the dataframe for convenience\n",
    "df_pa = df_purchase_analysis.copy()"
   ]
  },
  {
   "cell_type": "markdown",
   "metadata": {},
   "source": [
    "---\n",
    "## `1.` Purchase probability model\n",
    "\n",
    "Using logistic regression : \n",
    "- Target variable (Y) : Incidence (purchased - 0: no, 1: yes)\n",
    "- Independent variable (X) : Price, using mean / ~~median~~ in this case"
   ]
  },
  {
   "cell_type": "code",
   "execution_count": 6,
   "metadata": {},
   "outputs": [],
   "source": [
    "Y = df_pa['Incidence']"
   ]
  },
  {
   "cell_type": "code",
   "execution_count": 7,
   "metadata": {},
   "outputs": [],
   "source": [
    "brand_prices = df_pa.loc[:, df_pa.columns.str.contains('Price_')]\n",
    "X = pd.DataFrame({'Mean_price' : brand_prices.mean(axis=1)})"
   ]
  },
  {
   "cell_type": "code",
   "execution_count": 8,
   "metadata": {},
   "outputs": [],
   "source": [
    "logit_purchase = LogisticRegression(solver='sag')"
   ]
  },
  {
   "cell_type": "code",
   "execution_count": 9,
   "metadata": {},
   "outputs": [
    {
     "data": {
      "text/plain": [
       "LogisticRegression(solver='sag')"
      ]
     },
     "execution_count": 9,
     "metadata": {},
     "output_type": "execute_result"
    }
   ],
   "source": [
    "logit_purchase.fit(X, Y)"
   ]
  },
  {
   "cell_type": "code",
   "execution_count": 10,
   "metadata": {
    "scrolled": true
   },
   "outputs": [
    {
     "data": {
      "text/plain": [
       "array([[-2.34771307]])"
      ]
     },
     "execution_count": 10,
     "metadata": {},
     "output_type": "execute_result"
    }
   ],
   "source": [
    "logit_purchase.coef_"
   ]
  },
  {
   "cell_type": "markdown",
   "metadata": {},
   "source": [
    "---\n",
    "### Price elasticity of purchase probability\n",
    "\n",
    "**Quick overview of elasticity**\n",
    "\n",
    "Price elasticity of purchase probability : % change in purchase probability in response to a 1% change in price\n",
    "\n",
    "- Rearranged formula :\n",
    "\n",
    "$$ E = beta * price * (1-Pr(purchase) $$\n",
    "\n",
    "- Interpretation : \n",
    "\n",
    "$$ |E| < 1 : inelastic, or : elastic $$"
   ]
  },
  {
   "cell_type": "markdown",
   "metadata": {},
   "source": [
    "### Forecast price elasticity in response to price change"
   ]
  },
  {
   "cell_type": "code",
   "execution_count": 11,
   "metadata": {},
   "outputs": [
    {
     "data": {
      "text/html": [
       "<div>\n",
       "<style scoped>\n",
       "    .dataframe tbody tr th:only-of-type {\n",
       "        vertical-align: middle;\n",
       "    }\n",
       "\n",
       "    .dataframe tbody tr th {\n",
       "        vertical-align: top;\n",
       "    }\n",
       "\n",
       "    .dataframe thead th {\n",
       "        text-align: right;\n",
       "    }\n",
       "</style>\n",
       "<table border=\"1\" class=\"dataframe\">\n",
       "  <thead>\n",
       "    <tr style=\"text-align: right;\">\n",
       "      <th></th>\n",
       "      <th>Price_1</th>\n",
       "      <th>Price_2</th>\n",
       "      <th>Price_3</th>\n",
       "      <th>Price_4</th>\n",
       "      <th>Price_5</th>\n",
       "    </tr>\n",
       "  </thead>\n",
       "  <tbody>\n",
       "    <tr>\n",
       "      <th>count</th>\n",
       "      <td>58693.000000</td>\n",
       "      <td>58693.000000</td>\n",
       "      <td>58693.000000</td>\n",
       "      <td>58693.000000</td>\n",
       "      <td>58693.000000</td>\n",
       "    </tr>\n",
       "    <tr>\n",
       "      <th>mean</th>\n",
       "      <td>1.392074</td>\n",
       "      <td>1.780999</td>\n",
       "      <td>2.006789</td>\n",
       "      <td>2.159945</td>\n",
       "      <td>2.654798</td>\n",
       "    </tr>\n",
       "    <tr>\n",
       "      <th>std</th>\n",
       "      <td>0.091139</td>\n",
       "      <td>0.170868</td>\n",
       "      <td>0.046867</td>\n",
       "      <td>0.089825</td>\n",
       "      <td>0.098272</td>\n",
       "    </tr>\n",
       "    <tr>\n",
       "      <th>min</th>\n",
       "      <td>1.100000</td>\n",
       "      <td>1.260000</td>\n",
       "      <td>1.870000</td>\n",
       "      <td>1.760000</td>\n",
       "      <td>2.110000</td>\n",
       "    </tr>\n",
       "    <tr>\n",
       "      <th>25%</th>\n",
       "      <td>1.340000</td>\n",
       "      <td>1.580000</td>\n",
       "      <td>1.970000</td>\n",
       "      <td>2.120000</td>\n",
       "      <td>2.630000</td>\n",
       "    </tr>\n",
       "    <tr>\n",
       "      <th>50%</th>\n",
       "      <td>1.390000</td>\n",
       "      <td>1.880000</td>\n",
       "      <td>2.010000</td>\n",
       "      <td>2.170000</td>\n",
       "      <td>2.670000</td>\n",
       "    </tr>\n",
       "    <tr>\n",
       "      <th>75%</th>\n",
       "      <td>1.470000</td>\n",
       "      <td>1.890000</td>\n",
       "      <td>2.060000</td>\n",
       "      <td>2.240000</td>\n",
       "      <td>2.700000</td>\n",
       "    </tr>\n",
       "    <tr>\n",
       "      <th>max</th>\n",
       "      <td>1.590000</td>\n",
       "      <td>1.900000</td>\n",
       "      <td>2.140000</td>\n",
       "      <td>2.260000</td>\n",
       "      <td>2.800000</td>\n",
       "    </tr>\n",
       "  </tbody>\n",
       "</table>\n",
       "</div>"
      ],
      "text/plain": [
       "            Price_1       Price_2       Price_3       Price_4       Price_5\n",
       "count  58693.000000  58693.000000  58693.000000  58693.000000  58693.000000\n",
       "mean       1.392074      1.780999      2.006789      2.159945      2.654798\n",
       "std        0.091139      0.170868      0.046867      0.089825      0.098272\n",
       "min        1.100000      1.260000      1.870000      1.760000      2.110000\n",
       "25%        1.340000      1.580000      1.970000      2.120000      2.630000\n",
       "50%        1.390000      1.880000      2.010000      2.170000      2.670000\n",
       "75%        1.470000      1.890000      2.060000      2.240000      2.700000\n",
       "max        1.590000      1.900000      2.140000      2.260000      2.800000"
      ]
     },
     "execution_count": 11,
     "metadata": {},
     "output_type": "execute_result"
    }
   ],
   "source": [
    "brand_prices.describe() # prices ranged bewteen 1.1 to 2.8"
   ]
  },
  {
   "cell_type": "code",
   "execution_count": 12,
   "metadata": {},
   "outputs": [],
   "source": [
    "# Create a new range of price to predict PE (price elasticity)\n",
    "price_range = np.arange(0.5, 3.5, 0.01)\n",
    "\n",
    "# sklearn requires 2D array of X to predict y\n",
    "df_price_range = pd.DataFrame(price_range)"
   ]
  },
  {
   "cell_type": "code",
   "execution_count": 13,
   "metadata": {
    "scrolled": false
   },
   "outputs": [],
   "source": [
    "# purchase probability matrix\n",
    "purchase_pr_mat = logit_purchase.predict_proba(df_price_range)\n",
    "purchase_pr = purchase_pr_mat[:,1]"
   ]
  },
  {
   "cell_type": "code",
   "execution_count": 14,
   "metadata": {},
   "outputs": [],
   "source": [
    "# calculating price elatisticity for purchase probability\n",
    "PE = logit_purchase.coef_[0] * price_range * (1 - purchase_pr)"
   ]
  },
  {
   "cell_type": "code",
   "execution_count": 15,
   "metadata": {},
   "outputs": [],
   "source": [
    "df_price_elast = pd.DataFrame({'Price_point' : price_range, \n",
    "                               'Elasticity' : PE})"
   ]
  },
  {
   "cell_type": "code",
   "execution_count": 16,
   "metadata": {},
   "outputs": [
    {
     "data": {
      "text/html": [
       "<div>\n",
       "<style scoped>\n",
       "    .dataframe tbody tr th:only-of-type {\n",
       "        vertical-align: middle;\n",
       "    }\n",
       "\n",
       "    .dataframe tbody tr th {\n",
       "        vertical-align: top;\n",
       "    }\n",
       "\n",
       "    .dataframe thead th {\n",
       "        text-align: right;\n",
       "    }\n",
       "</style>\n",
       "<table border=\"1\" class=\"dataframe\">\n",
       "  <thead>\n",
       "    <tr style=\"text-align: right;\">\n",
       "      <th></th>\n",
       "      <th>Price_point</th>\n",
       "      <th>Elasticity</th>\n",
       "    </tr>\n",
       "  </thead>\n",
       "  <tbody>\n",
       "    <tr>\n",
       "      <th>72</th>\n",
       "      <td>1.22</td>\n",
       "      <td>-0.935287</td>\n",
       "    </tr>\n",
       "    <tr>\n",
       "      <th>73</th>\n",
       "      <td>1.23</td>\n",
       "      <td>-0.957922</td>\n",
       "    </tr>\n",
       "    <tr>\n",
       "      <th>74</th>\n",
       "      <td>1.24</td>\n",
       "      <td>-0.980921</td>\n",
       "    </tr>\n",
       "    <tr>\n",
       "      <th>75</th>\n",
       "      <td>1.25</td>\n",
       "      <td>-1.004283</td>\n",
       "    </tr>\n",
       "    <tr>\n",
       "      <th>76</th>\n",
       "      <td>1.26</td>\n",
       "      <td>-1.028007</td>\n",
       "    </tr>\n",
       "    <tr>\n",
       "      <th>77</th>\n",
       "      <td>1.27</td>\n",
       "      <td>-1.052095</td>\n",
       "    </tr>\n",
       "  </tbody>\n",
       "</table>\n",
       "</div>"
      ],
      "text/plain": [
       "    Price_point  Elasticity\n",
       "72         1.22   -0.935287\n",
       "73         1.23   -0.957922\n",
       "74         1.24   -0.980921\n",
       "75         1.25   -1.004283\n",
       "76         1.26   -1.028007\n",
       "77         1.27   -1.052095"
      ]
     },
     "execution_count": 16,
     "metadata": {},
     "output_type": "execute_result"
    }
   ],
   "source": [
    "elastic_breakpoint = np.argmax(df_price_elast['Elasticity'] <= -1.0) # index = 75\n",
    "df_price_elast.iloc[72:78,:] # below 75 : inelastic"
   ]
  },
  {
   "cell_type": "code",
   "execution_count": 17,
   "metadata": {
    "scrolled": false
   },
   "outputs": [
    {
     "data": {
      "image/png": "[encoded data removed]",
      "text/plain": [
       "<Figure size 576x432 with 1 Axes>"
      ]
     },
     "metadata": {
      "needs_background": "light"
     },
     "output_type": "display_data"
    }
   ],
   "source": [
    "df_price_elast.plot(x='Price_point', y='Elasticity', figsize=(8,6))\n",
    "\n",
    "price_breakpoint = df_price_elast.loc[elastic_breakpoint, 'Price_point']\n",
    "plt.axvline(x= price_breakpoint, \n",
    "            color='orange', ls='--')\n",
    "plt.text(x=price_breakpoint-0.1, y=-9, s='{0:.2f}'.format(price_breakpoint), color='orange')\n",
    "plt.show()"
   ]
  },
  {
   "cell_type": "markdown",
   "metadata": {},
   "source": [
    "Up to price point of 1.25, the purchase probability is inelastic in respone to price. The curve gets stepper above the price level, suggesting the increase in price will cause a greater impact (negatively) on purchase."
   ]
  },
  {
   "cell_type": "markdown",
   "metadata": {},
   "source": [
    "---\n",
    "## `2.` Purchase probability by segment\n",
    "\n",
    "Earlier in the descriptive analysis, each segment shows different preference for brand i.e. Fewer Opportunity favoring the relatively lower-priced Brand 2, as opposed to Career Focused & Well off segments going for more premium Brands. \n",
    "\n",
    "Let's see if logistic regression model can also tell this tendency by observing price elasticity."
   ]
  },
  {
   "cell_type": "markdown",
   "metadata": {},
   "source": [
    "segment_index = {\n",
    "    0 : 'Fewer Opportunity',\n",
    "    1 : 'Career Focused',\n",
    "    2 : 'Standard',\n",
    "    3 : 'Well off'\n",
    "}"
   ]
  },
  {
   "cell_type": "code",
   "execution_count": 18,
   "metadata": {},
   "outputs": [
    {
     "data": {
      "text/plain": [
       "0    21526\n",
       "1    13677\n",
       "2    12123\n",
       "3    11367\n",
       "Name: Segment, dtype: int64"
      ]
     },
     "execution_count": 18,
     "metadata": {},
     "output_type": "execute_result"
    }
   ],
   "source": [
    "# data is more abundant for Fewer Opporunity segment \n",
    "# which 'may' help the data to better fit \n",
    "df_pa.Segment.value_counts() "
   ]
  },
  {
   "cell_type": "markdown",
   "metadata": {},
   "source": [
    "### `2-1.` Fewer Opportunity\n",
    "\n",
    "The below code tested fine!"
   ]
  },
  {
   "cell_type": "code",
   "execution_count": 19,
   "metadata": {},
   "outputs": [],
   "source": [
    "# df_pa_seg0 = df_pa.query('Segment == 0')\n",
    "# Y_seg0 = df_pa_seg0['Incidence']\n",
    "# brand_prices_seg0 = df_pa_seg0.loc[:, df_pa_seg0.columns.str.contains('Price_')]\n",
    "# X_seg0 = pd.DataFrame({'Mean_price' : brand_prices_seg0.mean(axis=1)})\n",
    "\n",
    "# logit_seg0 = LogisticRegression(solver='sag')\n",
    "# logit_seg0.fit(X_seg0, Y_seg0)\n",
    "# beta_seg0 = logit_seg0.coef_ # the degree is larger than total : array([[-2.34834598]])\n",
    "# beta_seg0\n",
    "\n",
    "# # using the price range earlier defined\n",
    "# purchase_pr_seg0 = logit_seg0.predict_proba(df_price_range)[:,1] \n",
    "\n",
    "# PE_seg0 = beta_seg0 * price_range * (1-purchase_pr_seg0)\n",
    "\n",
    "# df_price_elast.insert(2, column='PE_Segment_0', value=PE_seg0[0])\n",
    "\n",
    "# df_price_elast.plot(x='Price_point', y=['Elasticity','PE_Segment_0'])\n",
    "# plt.show()"
   ]
  },
  {
   "cell_type": "markdown",
   "metadata": {},
   "source": [
    "Construct a function to create a consolidated **`df_price_elast`** dataframe"
   ]
  },
  {
   "cell_type": "code",
   "execution_count": 20,
   "metadata": {},
   "outputs": [],
   "source": [
    "def construct_elast_by_segment(list_segment_index) :\n",
    "    # will return a consolidated dataframe\n",
    "    for idx in list_segment_index :\n",
    "        \n",
    "        # SET UP : EXTRACT VARIABLES           \n",
    "        df_seg = df_pa.query(f'Segment == {idx}') #df_pa: a copy of imported df_purchase_analysis\n",
    "        Y = df_seg['Incidence']\n",
    "        brand_prices = df_seg.loc[:, df_seg.columns.str.contains('Price_')]\n",
    "        X = pd.DataFrame(brand_prices.mean(axis=1))\n",
    "        \n",
    "        # FITTING LOGISTIC REGRESSION MODEL\n",
    "        logit = LogisticRegression(solver='sag')\n",
    "        logit.fit(X, Y)\n",
    "        beta = logit.coef_\n",
    "        \n",
    "        # FORECASTING WITH NEW PRICE RANGE\n",
    "        price_range = np.arange(0.5, 3.5, 0.01)    \n",
    "        df_price_range = pd.DataFrame(price_range)        \n",
    "        purchase_prob = logit.predict_proba(df_price_range)[:, 1]\n",
    "        PE = beta * price_range * (1-purchase_prob)\n",
    "        \n",
    "        # CONSTRUCT A NEW DATAFRAME ADDED TO df_price_elast\n",
    "        df_price_elast.insert(idx+2, column= f'PE_Segment_{idx}', value=PE[0])\n",
    "        \n",
    "    return df_price_elast"
   ]
  },
  {
   "cell_type": "code",
   "execution_count": 21,
   "metadata": {},
   "outputs": [],
   "source": [
    "list_segment_index = list(set(df_pa.Segment))\n",
    "df_price_elast_seg = construct_elast_by_segment(list_segment_index)"
   ]
  },
  {
   "cell_type": "code",
   "execution_count": 22,
   "metadata": {},
   "outputs": [],
   "source": [
    "# pd.set_option('display.max_rows', None)\n",
    "# df_price_elast_seg"
   ]
  },
  {
   "cell_type": "code",
   "execution_count": 23,
   "metadata": {},
   "outputs": [
    {
     "data": {
      "image/png": "[encoded data removed]",
      "text/plain": [
       "<Figure size 576x432 with 1 Axes>"
      ]
     },
     "metadata": {
      "needs_background": "light"
     },
     "output_type": "display_data"
    }
   ],
   "source": [
    "y_cols = df_price_elast_seg.columns.values[1:]\n",
    "y_labels = ['Average', 'Fewer Opporunity', 'Standard', 'Career focused', 'Well off']\n",
    "\n",
    "plt.figure(figsize=(8,6))\n",
    "\n",
    "for i in range(len(y_cols)) :\n",
    "    plt.plot(df_price_elast_seg['Price_point'],\n",
    "             df_price_elast_seg[y_cols[i]], \n",
    "             label=y_labels[i], linewidth=2, alpha=0.7)\n",
    "    \n",
    "plt.title('Price Elasticity by Segment', fontsize=12)\n",
    "plt.xlabel('Price ($)')\n",
    "plt.ylabel('Price Elasticity')\n",
    "plt.legend(loc='lower left')\n",
    "    \n",
    "plt.show()"
   ]
  },
  {
   "cell_type": "markdown",
   "metadata": {},
   "source": [
    "The plot for `Fewer Opportuntiy` segment starts to get steeper to the large extent at the price point of $ 1.38, above which price elasticity for the segment > 1. \n",
    "\n",
    "`Career focused` segment gets elastic at price point of $1.24, which is the lower price point than Fewer Opporunity. However, the overall steepness is not as great as Fewer Opporunity segment, which suggests the segment is less price sensitive in the purchase of the product as expected from the descriptive analysis. \n",
    "\n",
    "`Well off` segment shows the least elastic to price change, which is rather self-explanatory. \n",
    "\n",
    "Overall price elasticity got greater with Few Opportunity Segment, seeing the other three segments trend well above the averge line as price rises.\n",
    "\n",
    "**_Annecdote_** : sample size differs across each segment, and the model accuracy is likely to vary."
   ]
  },
  {
   "cell_type": "markdown",
   "metadata": {},
   "source": [
    "---\n",
    "## `3.` Purchase model with promotion\n",
    "Evaluate price elasticity when there is promotion or not"
   ]
  },
  {
   "cell_type": "code",
   "execution_count": 26,
   "metadata": {},
   "outputs": [],
   "source": [
    "Y = df_pa['Incidence']"
   ]
  },
  {
   "cell_type": "code",
   "execution_count": 39,
   "metadata": {
    "scrolled": false
   },
   "outputs": [],
   "source": [
    "X = pd.DataFrame( ( df_pa['Price_1'] +\n",
    "                    df_pa['Price_2'] +\n",
    "                    df_pa['Price_3'] +\n",
    "                    df_pa['Price_4'] +\n",
    "                    df_pa['Price_5'] ) / 5 ) \n",
    "X.rename(columns={0: 'Mean_price'}, inplace=True)"
   ]
  },
  {
   "cell_type": "code",
   "execution_count": 43,
   "metadata": {},
   "outputs": [],
   "source": [
    "X['Mean_promo'] = ( df_pa['Promotion_1'] +\n",
    "                    df_pa['Promotion_2'] +\n",
    "                    df_pa['Promotion_3'] +\n",
    "                    df_pa['Promotion_4'] +\n",
    "                    df_pa['Promotion_5'] ) / 5 "
   ]
  },
  {
   "cell_type": "code",
   "execution_count": 48,
   "metadata": {},
   "outputs": [
    {
     "data": {
      "text/html": [
       "<div>\n",
       "<style scoped>\n",
       "    .dataframe tbody tr th:only-of-type {\n",
       "        vertical-align: middle;\n",
       "    }\n",
       "\n",
       "    .dataframe tbody tr th {\n",
       "        vertical-align: top;\n",
       "    }\n",
       "\n",
       "    .dataframe thead th {\n",
       "        text-align: right;\n",
       "    }\n",
       "</style>\n",
       "<table border=\"1\" class=\"dataframe\">\n",
       "  <thead>\n",
       "    <tr style=\"text-align: right;\">\n",
       "      <th></th>\n",
       "      <th>Mean_price</th>\n",
       "      <th>Mean_promo</th>\n",
       "    </tr>\n",
       "  </thead>\n",
       "  <tbody>\n",
       "    <tr>\n",
       "      <th>0</th>\n",
       "      <td>2.044</td>\n",
       "      <td>0.2</td>\n",
       "    </tr>\n",
       "    <tr>\n",
       "      <th>1</th>\n",
       "      <td>2.028</td>\n",
       "      <td>0.0</td>\n",
       "    </tr>\n",
       "    <tr>\n",
       "      <th>2</th>\n",
       "      <td>2.028</td>\n",
       "      <td>0.0</td>\n",
       "    </tr>\n",
       "  </tbody>\n",
       "</table>\n",
       "</div>"
      ],
      "text/plain": [
       "   Mean_price  Mean_promo\n",
       "0       2.044         0.2\n",
       "1       2.028         0.0\n",
       "2       2.028         0.0"
      ]
     },
     "execution_count": 48,
     "metadata": {},
     "output_type": "execute_result"
    }
   ],
   "source": [
    "X.head(3)"
   ]
  },
  {
   "cell_type": "code",
   "execution_count": 49,
   "metadata": {
    "scrolled": true
   },
   "outputs": [
    {
     "data": {
      "text/plain": [
       "0.2    24040\n",
       "0.0    22748\n",
       "0.4     9516\n",
       "0.6     2389\n",
       "Name: Mean_promo, dtype: int64"
      ]
     },
     "execution_count": 49,
     "metadata": {},
     "output_type": "execute_result"
    }
   ],
   "source": [
    "X.Mean_promo.value_counts()"
   ]
  },
  {
   "cell_type": "code",
   "execution_count": 50,
   "metadata": {},
   "outputs": [],
   "source": [
    "logit_promo = LogisticRegression(solver='sag')"
   ]
  },
  {
   "cell_type": "code",
   "execution_count": 51,
   "metadata": {},
   "outputs": [
    {
     "data": {
      "text/plain": [
       "LogisticRegression(solver='sag')"
      ]
     },
     "execution_count": 51,
     "metadata": {},
     "output_type": "execute_result"
    }
   ],
   "source": [
    "logit_promo.fit(X, Y)"
   ]
  },
  {
   "cell_type": "code",
   "execution_count": 52,
   "metadata": {
    "scrolled": true
   },
   "outputs": [
    {
     "data": {
      "text/plain": [
       "array([[-1.49395553,  0.56148704]])"
      ]
     },
     "execution_count": 52,
     "metadata": {},
     "output_type": "execute_result"
    }
   ],
   "source": [
    "logit_promo.coef_ "
   ]
  },
  {
   "cell_type": "markdown",
   "metadata": {},
   "source": [
    "---\n",
    "### Price elasticity with promotion"
   ]
  },
  {
   "cell_type": "code",
   "execution_count": 66,
   "metadata": {},
   "outputs": [],
   "source": [
    "#price_range"
   ]
  },
  {
   "cell_type": "code",
   "execution_count": 55,
   "metadata": {},
   "outputs": [],
   "source": [
    "df_price_range.rename(columns={0:'Price_range'},\n",
    "                      inplace=True)"
   ]
  },
  {
   "cell_type": "code",
   "execution_count": 57,
   "metadata": {},
   "outputs": [],
   "source": [
    "# When promotion = 1\n",
    "df_price_range_promo = df_price_range.copy()\n",
    "df_price_range_promo['Promotion'] = 1"
   ]
  },
  {
   "cell_type": "code",
   "execution_count": 60,
   "metadata": {
    "scrolled": false
   },
   "outputs": [],
   "source": [
    "purchase_prob_promo = logit_promo.predict_proba(df_price_range_promo)"
   ]
  },
  {
   "cell_type": "code",
   "execution_count": 68,
   "metadata": {
    "scrolled": false
   },
   "outputs": [],
   "source": [
    "PE_promo_1 = logit_promo.coef_[:,0] * price_range * ( 1- purchase_prob_promo[:,1])"
   ]
  },
  {
   "cell_type": "code",
   "execution_count": 70,
   "metadata": {},
   "outputs": [
    {
     "data": {
      "text/plain": [
       "(300,)"
      ]
     },
     "execution_count": 70,
     "metadata": {},
     "output_type": "execute_result"
    }
   ],
   "source": [
    "PE_promo_1.shape"
   ]
  },
  {
   "cell_type": "markdown",
   "metadata": {},
   "source": [
    "---\n",
    "### Price elasticity without promotion"
   ]
  },
  {
   "cell_type": "code",
   "execution_count": 73,
   "metadata": {},
   "outputs": [
    {
     "data": {
      "text/plain": [
       "(300,)"
      ]
     },
     "execution_count": 73,
     "metadata": {},
     "output_type": "execute_result"
    }
   ],
   "source": [
    "# When promotion = 0\n",
    "df_price_range_promo = df_price_range.copy()\n",
    "df_price_range_promo['Promotion'] = 0\n",
    "purchase_prob_promo = logit_promo.predict_proba(df_price_range_promo)\n",
    "PE_promo_0 = logit_promo.coef_[:,0] * price_range * ( 1- purchase_prob_promo[:,1])\n",
    "PE_promo_0.shape"
   ]
  },
  {
   "cell_type": "markdown",
   "metadata": {},
   "source": [
    "---\n",
    "### Combining all the results "
   ]
  },
  {
   "cell_type": "code",
   "execution_count": 75,
   "metadata": {},
   "outputs": [],
   "source": [
    "df_price_elast_combined = df_price_elast_seg.copy()\n",
    "df_price_elast_combined['PE_promo_1'] = PE_promo_1\n",
    "df_price_elast_combined['PE_promo_0'] = PE_promo_0"
   ]
  },
  {
   "cell_type": "code",
   "execution_count": 82,
   "metadata": {},
   "outputs": [
    {
     "data": {
      "text/html": [
       "<div>\n",
       "<style scoped>\n",
       "    .dataframe tbody tr th:only-of-type {\n",
       "        vertical-align: middle;\n",
       "    }\n",
       "\n",
       "    .dataframe tbody tr th {\n",
       "        vertical-align: top;\n",
       "    }\n",
       "\n",
       "    .dataframe thead th {\n",
       "        text-align: right;\n",
       "    }\n",
       "</style>\n",
       "<table border=\"1\" class=\"dataframe\">\n",
       "  <thead>\n",
       "    <tr style=\"text-align: right;\">\n",
       "      <th></th>\n",
       "      <th>Price_point</th>\n",
       "      <th>PE_promo_1</th>\n",
       "      <th>PE_promo_0</th>\n",
       "    </tr>\n",
       "  </thead>\n",
       "  <tbody>\n",
       "    <tr>\n",
       "      <th>0</th>\n",
       "      <td>0.50</td>\n",
       "      <td>-0.125735</td>\n",
       "      <td>-0.195642</td>\n",
       "    </tr>\n",
       "    <tr>\n",
       "      <th>1</th>\n",
       "      <td>0.51</td>\n",
       "      <td>-0.129851</td>\n",
       "      <td>-0.201763</td>\n",
       "    </tr>\n",
       "    <tr>\n",
       "      <th>2</th>\n",
       "      <td>0.52</td>\n",
       "      <td>-0.134046</td>\n",
       "      <td>-0.207987</td>\n",
       "    </tr>\n",
       "  </tbody>\n",
       "</table>\n",
       "</div>"
      ],
      "text/plain": [
       "   Price_point  PE_promo_1  PE_promo_0\n",
       "0         0.50   -0.125735   -0.195642\n",
       "1         0.51   -0.129851   -0.201763\n",
       "2         0.52   -0.134046   -0.207987"
      ]
     },
     "execution_count": 82,
     "metadata": {},
     "output_type": "execute_result"
    }
   ],
   "source": [
    "df_price_elast_promo = df_price_elast_combined[['Price_point', 'PE_promo_1', 'PE_promo_0']]\n",
    "df_price_elast_promo.head(3)"
   ]
  },
  {
   "cell_type": "code",
   "execution_count": 99,
   "metadata": {
    "scrolled": false
   },
   "outputs": [
    {
     "data": {
      "image/png": "[encoded data removed]",
      "text/plain": [
       "<Figure size 432x288 with 1 Axes>"
      ]
     },
     "metadata": {
      "needs_background": "light"
     },
     "output_type": "display_data"
    }
   ],
   "source": [
    "df_price_elast_promo.plot(x='Price_point', y=['PE_promo_1', 'PE_promo_0'], \n",
    "                          figsize=(6,4), label=['Promotion', 'No promotion'])\n",
    "\n",
    "plt.title('Price elasticity with promotion')\n",
    "plt.xlabel('Price in $')\n",
    "plt.ylabel('Price elasticity')\n",
    "plt.show()"
   ]
  },
  {
   "cell_type": "code",
   "execution_count": 95,
   "metadata": {},
   "outputs": [
    {
     "data": {
      "text/plain": [
       "(    Price_point  PE_promo_1  PE_promo_0\n",
       " 75         1.25   -0.715125   -0.973107\n",
       " 76         1.26   -0.727502   -0.987908\n",
       " 77         1.27   -0.740008   -1.002814\n",
       " 78         1.28   -0.752643   -1.017826\n",
       " 79         1.29   -0.765406   -1.032942\n",
       " 80         1.30   -0.778296   -1.048162,\n",
       "      Price_point  PE_promo_1  PE_promo_0\n",
       " 95          1.45   -0.986821   -1.288142\n",
       " 96          1.46   -1.001714   -1.304869\n",
       " 97          1.47   -1.016728   -1.321680\n",
       " 98          1.48   -1.031861   -1.338575\n",
       " 99          1.49   -1.047114   -1.355551\n",
       " 100         1.50   -1.062486   -1.372607)"
      ]
     },
     "execution_count": 95,
     "metadata": {},
     "output_type": "execute_result"
    }
   ],
   "source": [
    "#pd.set_option('display.max_rows', None)\n",
    "df_price_elast_promo.loc[75:80], df_price_elast_promo.loc[95:100]"
   ]
  },
  {
   "cell_type": "markdown",
   "metadata": {},
   "source": [
    "**Annecdote** Promotion here includes not only price discount but marketing campaign, etc.\n",
    "\n",
    "Across all price points, price elasticity is lower (less steeper) with promotion than without promotion. \n",
    "\n",
    "Inelasticity for no promotion ends at \\\\$1.27 as opposed to \\\\$1.46 with promotion. The difference may sound trivial but it actually is not especially when high volume of sales involved. For the same price change, customers react less sensitive when promtional activities are implemented."
   ]
  },
  {
   "cell_type": "markdown",
   "metadata": {},
   "source": [
    "---\n",
    "#### Brand choice analysis will be conducted in a seperate notebook `Positioning_predictive_2`"
   ]
  }
 ],
 "metadata": {
  "kernelspec": {
   "display_name": "Python [conda env:my_env]",
   "language": "python",
   "name": "conda-env-my_env-py"
  },
  "language_info": {
   "codemirror_mode": {
    "name": "ipython",
    "version": 3
   },
   "file_extension": ".py",
   "mimetype": "text/x-python",
   "name": "python",
   "nbconvert_exporter": "python",
   "pygments_lexer": "ipython3",
   "version": "3.8.3"
  }
 },
 "nbformat": 4,
 "nbformat_minor": 4
}
