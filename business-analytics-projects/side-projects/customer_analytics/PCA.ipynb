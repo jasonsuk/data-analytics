{
 "cells": [
  {
   "cell_type": "markdown",
   "metadata": {},
   "source": [
    "Suggested use in order:\n",
    "\n",
    "1. The thoeretical review on PCA (Principle Component Analysis).\n",
    "2. Use this notebook to apply PCA on python environment.\n",
    "3. Apply the PCA analysis onto Customer Analytics (Segmentation with KMeans)."
   ]
  },
  {
   "cell_type": "markdown",
   "metadata": {},
   "source": [
    "The notebook covers the contents on Hands-On Machine Learning with Scikit-Learn Keras & TensorFlow (page 213 - 224 before Randomized PCA). The below is just to comprehend the concept and methods in Python only, and the quality of the test is not of concern here."
   ]
  },
  {
   "cell_type": "code",
   "execution_count": 17,
   "metadata": {},
   "outputs": [],
   "source": [
    "import numpy as np\n",
    "from sklearn.preprocessing import StandardScaler\n",
    "from sklearn.decomposition import PCA"
   ]
  },
  {
   "cell_type": "code",
   "execution_count": 18,
   "metadata": {},
   "outputs": [],
   "source": [
    "X = np.random.random((20,10)) * 10"
   ]
  },
  {
   "cell_type": "markdown",
   "metadata": {},
   "source": [
    "### 1. Preprocessing \n",
    "PCA assumes that the dataset is centered around the origin. Therefore, it is crucial to process the data so that they are centered. For different features on different scales, normalization should be performanced ( ( x - x.mean( ) ) / x.std( ) )"
   ]
  },
  {
   "cell_type": "code",
   "execution_count": 19,
   "metadata": {},
   "outputs": [],
   "source": [
    "X_centered = X - X.mean(axis=0) # as X is random, the process in this case may be too much..?"
   ]
  },
  {
   "cell_type": "code",
   "execution_count": 83,
   "metadata": {},
   "outputs": [],
   "source": [
    "scaler = StandardScaler()\n",
    "X_centered = scaler.fit_transform(X)"
   ]
  },
  {
   "cell_type": "markdown",
   "metadata": {},
   "source": [
    "### 2. Singular Value Decomposition (SVD)\n",
    "Using numpy"
   ]
  },
  {
   "cell_type": "code",
   "execution_count": 84,
   "metadata": {
    "scrolled": false
   },
   "outputs": [],
   "source": [
    "U, S, V = np.linalg.svd(X_centered)"
   ]
  },
  {
   "cell_type": "code",
   "execution_count": 85,
   "metadata": {},
   "outputs": [],
   "source": [
    "c1 = V.T[:,0] # unit vector that defines principle component, same result as V[0] \n",
    "c2 = V.T[:,1]"
   ]
  },
  {
   "cell_type": "code",
   "execution_count": 86,
   "metadata": {},
   "outputs": [],
   "source": [
    "W2 = V.T[:, :2] # set down to 2 dimensions\n",
    "X2D = X_centered.dot(W2) # project X_centered into 2D dimension defined by W2"
   ]
  },
  {
   "cell_type": "code",
   "execution_count": 87,
   "metadata": {},
   "outputs": [
    {
     "data": {
      "text/plain": [
       "((20, 2),\n",
       " array([[-2.3965023 ,  0.18066819],\n",
       "        [ 0.06207904,  0.65892585],\n",
       "        [-0.0714091 , -0.81968094],\n",
       "        [ 2.72532889,  0.33760876],\n",
       "        [-0.98795342,  0.89464246],\n",
       "        [-0.38030095, -0.06896783],\n",
       "        [-1.92818995,  0.93635026],\n",
       "        [ 1.66616118,  2.56742312],\n",
       "        [-0.11485834, -0.13997117],\n",
       "        [-1.62908634, -0.34160591],\n",
       "        [-2.03710146, -2.15219237],\n",
       "        [ 2.11586979, -2.38246788],\n",
       "        [ 0.2484445 , -0.0405181 ],\n",
       "        [ 2.03512913, -1.29778913],\n",
       "        [ 0.12148528, -0.14124142],\n",
       "        [ 2.30872033,  0.58622783],\n",
       "        [-1.81766101,  0.08551069],\n",
       "        [ 0.1692068 ,  1.28464506],\n",
       "        [-0.24044141,  2.14986928],\n",
       "        [ 0.15107933, -2.29743676]]))"
      ]
     },
     "execution_count": 87,
     "metadata": {},
     "output_type": "execute_result"
    }
   ],
   "source": [
    "X2D.shape, X2D"
   ]
  },
  {
   "cell_type": "markdown",
   "metadata": {},
   "source": [
    "### 3. Principal Component Analysis (PCA)\n",
    "Scikit-Learn's PCA Class uses SVD decomposition to implement PCA, just like the above."
   ]
  },
  {
   "cell_type": "code",
   "execution_count": 88,
   "metadata": {},
   "outputs": [],
   "source": [
    "pca = PCA(n_components=2, random_state=42)"
   ]
  },
  {
   "cell_type": "code",
   "execution_count": 89,
   "metadata": {},
   "outputs": [],
   "source": [
    "X2D = pca.fit_transform(X_centered)"
   ]
  },
  {
   "cell_type": "code",
   "execution_count": 90,
   "metadata": {},
   "outputs": [
    {
     "data": {
      "text/plain": [
       "array([[-2.3965023 ,  0.18066819],\n",
       "       [ 0.06207904,  0.65892585],\n",
       "       [-0.0714091 , -0.81968094],\n",
       "       [ 2.72532889,  0.33760876],\n",
       "       [-0.98795342,  0.89464246],\n",
       "       [-0.38030095, -0.06896783],\n",
       "       [-1.92818995,  0.93635026],\n",
       "       [ 1.66616118,  2.56742312],\n",
       "       [-0.11485834, -0.13997117],\n",
       "       [-1.62908634, -0.34160591],\n",
       "       [-2.03710146, -2.15219237],\n",
       "       [ 2.11586979, -2.38246788],\n",
       "       [ 0.2484445 , -0.0405181 ],\n",
       "       [ 2.03512913, -1.29778913],\n",
       "       [ 0.12148528, -0.14124142],\n",
       "       [ 2.30872033,  0.58622783],\n",
       "       [-1.81766101,  0.08551069],\n",
       "       [ 0.1692068 ,  1.28464506],\n",
       "       [-0.24044141,  2.14986928],\n",
       "       [ 0.15107933, -2.29743676]])"
      ]
     },
     "execution_count": 90,
     "metadata": {},
     "output_type": "execute_result"
    }
   ],
   "source": [
    "X2D # same result as X_centered.dot(W2), where W2 = V.T[:, :2]"
   ]
  },
  {
   "cell_type": "markdown",
   "metadata": {},
   "source": [
    "### 4. Choosing right number of dimensions \n",
    "Choosing k that retains a parameter of variances (e.g., 95% ~ a sufficiently large poprotion of the variance). "
   ]
  },
  {
   "cell_type": "code",
   "execution_count": 91,
   "metadata": {},
   "outputs": [
    {
     "data": {
      "text/plain": [
       "0.39313782935364255"
      ]
     },
     "execution_count": 91,
     "metadata": {},
     "output_type": "execute_result"
    }
   ],
   "source": [
    "pca.explained_variance_ratio_.sum() # the 2D is not sufficient to explain X_centered..."
   ]
  },
  {
   "cell_type": "code",
   "execution_count": 92,
   "metadata": {},
   "outputs": [],
   "source": [
    "pca = PCA()"
   ]
  },
  {
   "cell_type": "code",
   "execution_count": 93,
   "metadata": {},
   "outputs": [],
   "source": [
    "pca.fit(X_centered)\n",
    "cumsum = np.cumsum(pca.explained_variance_ratio_)\n",
    "d = np.argmax(cumsum >= 0.95) + 1"
   ]
  },
  {
   "cell_type": "code",
   "execution_count": 94,
   "metadata": {},
   "outputs": [
    {
     "data": {
      "text/plain": [
       "9"
      ]
     },
     "execution_count": 94,
     "metadata": {},
     "output_type": "execute_result"
    }
   ],
   "source": [
    "d # the dataset needs at least 9 dimensions, PCA not really helps"
   ]
  }
 ],
 "metadata": {
  "kernelspec": {
   "display_name": "Python [conda env:my_env]",
   "language": "python",
   "name": "conda-env-my_env-py"
  },
  "language_info": {
   "codemirror_mode": {
    "name": "ipython",
    "version": 3
   },
   "file_extension": ".py",
   "mimetype": "text/x-python",
   "name": "python",
   "nbconvert_exporter": "python",
   "pygments_lexer": "ipython3",
   "version": "3.8.3"
  }
 },
 "nbformat": 4,
 "nbformat_minor": 4
}
