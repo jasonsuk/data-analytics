{
 "cells": [
  {
   "cell_type": "markdown",
   "metadata": {
    "slideshow": {
     "slide_type": "slide"
    }
   },
   "source": [
    "# Exploration on Ford GoBike System Data\n",
    "## by Junghoon Suk"
   ]
  },
  {
   "cell_type": "markdown",
   "metadata": {
    "slideshow": {
     "slide_type": "-"
    }
   },
   "source": [
    "## Investigation Overview\n",
    "\n",
    "> The goal of this presentation is to explore trip duration of a bike rental service (Bay Wheels) and share findings for discussion.\n",
    "\n",
    "## Dataset Overview\n",
    "\n",
    "> Ford GoBike System Data is used to discover individual trip information of a bike-sharing system. The dataset is limited to the Greater Sanfrancisco Bay Area for the period of June 2020 only."
   ]
  },
  {
   "cell_type": "code",
   "execution_count": 1,
   "metadata": {
    "slideshow": {
     "slide_type": "skip"
    }
   },
   "outputs": [],
   "source": [
    "# import all packages and set plots to be embedded inline\n",
    "import numpy as np\n",
    "import pandas as pd\n",
    "import matplotlib.pyplot as plt\n",
    "import seaborn as sns\n",
    "\n",
    "%matplotlib inline\n",
    "\n",
    "# suppress warnings from final output\n",
    "import warnings\n",
    "warnings.simplefilter(\"ignore\")"
   ]
  },
  {
   "cell_type": "code",
   "execution_count": 2,
   "metadata": {
    "scrolled": true,
    "slideshow": {
     "slide_type": "skip"
    }
   },
   "outputs": [
    {
     "name": "stdout",
     "output_type": "stream",
     "text": [
      "<class 'pandas.core.frame.DataFrame'>\n",
      "RangeIndex: 153319 entries, 0 to 153318\n",
      "Data columns (total 9 columns):\n",
      " #   Column         Non-Null Count   Dtype  \n",
      "---  ------         --------------   -----  \n",
      " 0   ride_id        153319 non-null  object \n",
      " 1   rideable_type  153319 non-null  object \n",
      " 2   started_at     153319 non-null  object \n",
      " 3   ended_at       153319 non-null  object \n",
      " 4   member_casual  153319 non-null  object \n",
      " 5   duration_min   153319 non-null  float64\n",
      " 6   date_rented    153319 non-null  int64  \n",
      " 7   day_rented     153319 non-null  object \n",
      " 8   time_rented    153319 non-null  int64  \n",
      "dtypes: float64(1), int64(2), object(6)\n",
      "memory usage: 10.5+ MB\n",
      "None\n"
     ]
    },
    {
     "data": {
      "text/html": [
       "<div>\n",
       "<style scoped>\n",
       "    .dataframe tbody tr th:only-of-type {\n",
       "        vertical-align: middle;\n",
       "    }\n",
       "\n",
       "    .dataframe tbody tr th {\n",
       "        vertical-align: top;\n",
       "    }\n",
       "\n",
       "    .dataframe thead th {\n",
       "        text-align: right;\n",
       "    }\n",
       "</style>\n",
       "<table border=\"1\" class=\"dataframe\">\n",
       "  <thead>\n",
       "    <tr style=\"text-align: right;\">\n",
       "      <th></th>\n",
       "      <th>ride_id</th>\n",
       "      <th>rideable_type</th>\n",
       "      <th>started_at</th>\n",
       "      <th>ended_at</th>\n",
       "      <th>member_casual</th>\n",
       "      <th>duration_min</th>\n",
       "      <th>date_rented</th>\n",
       "      <th>day_rented</th>\n",
       "      <th>time_rented</th>\n",
       "    </tr>\n",
       "  </thead>\n",
       "  <tbody>\n",
       "    <tr>\n",
       "      <th>0</th>\n",
       "      <td>08A4A9F7315901F3</td>\n",
       "      <td>electric_bike</td>\n",
       "      <td>2020-06-03 16:37:10</td>\n",
       "      <td>2020-06-03 16:48:28</td>\n",
       "      <td>casual</td>\n",
       "      <td>11.300000</td>\n",
       "      <td>3</td>\n",
       "      <td>Wednesday</td>\n",
       "      <td>16</td>\n",
       "    </tr>\n",
       "    <tr>\n",
       "      <th>1</th>\n",
       "      <td>844F9D906468C441</td>\n",
       "      <td>electric_bike</td>\n",
       "      <td>2020-06-03 12:22:47</td>\n",
       "      <td>2020-06-03 12:44:02</td>\n",
       "      <td>casual</td>\n",
       "      <td>21.250000</td>\n",
       "      <td>3</td>\n",
       "      <td>Wednesday</td>\n",
       "      <td>12</td>\n",
       "    </tr>\n",
       "    <tr>\n",
       "      <th>2</th>\n",
       "      <td>0E441BF8A86C544E</td>\n",
       "      <td>electric_bike</td>\n",
       "      <td>2020-06-02 17:37:43</td>\n",
       "      <td>2020-06-02 17:52:21</td>\n",
       "      <td>casual</td>\n",
       "      <td>14.633333</td>\n",
       "      <td>2</td>\n",
       "      <td>Tuesday</td>\n",
       "      <td>17</td>\n",
       "    </tr>\n",
       "    <tr>\n",
       "      <th>3</th>\n",
       "      <td>CAFE64864422F475</td>\n",
       "      <td>electric_bike</td>\n",
       "      <td>2020-06-02 18:13:01</td>\n",
       "      <td>2020-06-02 18:48:30</td>\n",
       "      <td>casual</td>\n",
       "      <td>35.483333</td>\n",
       "      <td>2</td>\n",
       "      <td>Tuesday</td>\n",
       "      <td>18</td>\n",
       "    </tr>\n",
       "    <tr>\n",
       "      <th>4</th>\n",
       "      <td>172957A20160D568</td>\n",
       "      <td>electric_bike</td>\n",
       "      <td>2020-06-03 15:16:06</td>\n",
       "      <td>2020-06-03 16:06:10</td>\n",
       "      <td>casual</td>\n",
       "      <td>50.066667</td>\n",
       "      <td>3</td>\n",
       "      <td>Wednesday</td>\n",
       "      <td>15</td>\n",
       "    </tr>\n",
       "  </tbody>\n",
       "</table>\n",
       "</div>"
      ],
      "text/plain": [
       "            ride_id  rideable_type           started_at             ended_at  \\\n",
       "0  08A4A9F7315901F3  electric_bike  2020-06-03 16:37:10  2020-06-03 16:48:28   \n",
       "1  844F9D906468C441  electric_bike  2020-06-03 12:22:47  2020-06-03 12:44:02   \n",
       "2  0E441BF8A86C544E  electric_bike  2020-06-02 17:37:43  2020-06-02 17:52:21   \n",
       "3  CAFE64864422F475  electric_bike  2020-06-02 18:13:01  2020-06-02 18:48:30   \n",
       "4  172957A20160D568  electric_bike  2020-06-03 15:16:06  2020-06-03 16:06:10   \n",
       "\n",
       "  member_casual  duration_min  date_rented day_rented  time_rented  \n",
       "0        casual     11.300000            3  Wednesday           16  \n",
       "1        casual     21.250000            3  Wednesday           12  \n",
       "2        casual     14.633333            2    Tuesday           17  \n",
       "3        casual     35.483333            2    Tuesday           18  \n",
       "4        casual     50.066667            3  Wednesday           15  "
      ]
     },
     "execution_count": 2,
     "metadata": {},
     "output_type": "execute_result"
    }
   ],
   "source": [
    "# load in the dataset into a pandas dataframe\n",
    "bike_cleaned = pd.read_csv('bike_cleaned.csv')\n",
    "print(bike_cleaned.info())\n",
    "bike_cleaned.head()"
   ]
  },
  {
   "cell_type": "code",
   "execution_count": 5,
   "metadata": {
    "slideshow": {
     "slide_type": "skip"
    }
   },
   "outputs": [],
   "source": [
    "# transforming dtypes of some features\n",
    "bike_cleaned['rideable_type'] = bike_cleaned['rideable_type'].astype('category')\n",
    "bike_cleaned['member_casual'] = bike_cleaned['member_casual'].astype('category')\n",
    "bike_cleaned['time_rented'] = bike_cleaned['time_rented'].astype('category')\n",
    "\n",
    "# transforming 'day_rented' into category datatype\n",
    "day_order = ['Monday', 'Tuesday', 'Wednesday', 'Thursday', 'Friday', 'Saturday', 'Sunday']\n",
    "day_category = pd.api.types.CategoricalDtype(categories = day_order)\n",
    "bike_cleaned['day_rented'] = bike_cleaned['day_rented'].astype(day_category)"
   ]
  },
  {
   "cell_type": "code",
   "execution_count": 4,
   "metadata": {
    "slideshow": {
     "slide_type": "skip"
    }
   },
   "outputs": [
    {
     "data": {
      "text/html": [
       "<div>\n",
       "<style scoped>\n",
       "    .dataframe tbody tr th:only-of-type {\n",
       "        vertical-align: middle;\n",
       "    }\n",
       "\n",
       "    .dataframe tbody tr th {\n",
       "        vertical-align: top;\n",
       "    }\n",
       "\n",
       "    .dataframe thead th {\n",
       "        text-align: right;\n",
       "    }\n",
       "</style>\n",
       "<table border=\"1\" class=\"dataframe\">\n",
       "  <thead>\n",
       "    <tr style=\"text-align: right;\">\n",
       "      <th></th>\n",
       "      <th>ride_id</th>\n",
       "      <th>rideable_type</th>\n",
       "      <th>started_at</th>\n",
       "      <th>ended_at</th>\n",
       "      <th>member_casual</th>\n",
       "      <th>duration_min</th>\n",
       "      <th>date_rented</th>\n",
       "      <th>day_rented</th>\n",
       "      <th>time_rented</th>\n",
       "    </tr>\n",
       "  </thead>\n",
       "  <tbody>\n",
       "    <tr>\n",
       "      <th>0</th>\n",
       "      <td>08A4A9F7315901F3</td>\n",
       "      <td>electric_bike</td>\n",
       "      <td>2020-06-03 16:37:10</td>\n",
       "      <td>2020-06-03 16:48:28</td>\n",
       "      <td>casual</td>\n",
       "      <td>11.300000</td>\n",
       "      <td>3</td>\n",
       "      <td>Wednesday</td>\n",
       "      <td>16</td>\n",
       "    </tr>\n",
       "    <tr>\n",
       "      <th>1</th>\n",
       "      <td>844F9D906468C441</td>\n",
       "      <td>electric_bike</td>\n",
       "      <td>2020-06-03 12:22:47</td>\n",
       "      <td>2020-06-03 12:44:02</td>\n",
       "      <td>casual</td>\n",
       "      <td>21.250000</td>\n",
       "      <td>3</td>\n",
       "      <td>Wednesday</td>\n",
       "      <td>12</td>\n",
       "    </tr>\n",
       "    <tr>\n",
       "      <th>2</th>\n",
       "      <td>0E441BF8A86C544E</td>\n",
       "      <td>electric_bike</td>\n",
       "      <td>2020-06-02 17:37:43</td>\n",
       "      <td>2020-06-02 17:52:21</td>\n",
       "      <td>casual</td>\n",
       "      <td>14.633333</td>\n",
       "      <td>2</td>\n",
       "      <td>Tuesday</td>\n",
       "      <td>17</td>\n",
       "    </tr>\n",
       "    <tr>\n",
       "      <th>3</th>\n",
       "      <td>CAFE64864422F475</td>\n",
       "      <td>electric_bike</td>\n",
       "      <td>2020-06-02 18:13:01</td>\n",
       "      <td>2020-06-02 18:48:30</td>\n",
       "      <td>casual</td>\n",
       "      <td>35.483333</td>\n",
       "      <td>2</td>\n",
       "      <td>Tuesday</td>\n",
       "      <td>18</td>\n",
       "    </tr>\n",
       "    <tr>\n",
       "      <th>4</th>\n",
       "      <td>172957A20160D568</td>\n",
       "      <td>electric_bike</td>\n",
       "      <td>2020-06-03 15:16:06</td>\n",
       "      <td>2020-06-03 16:06:10</td>\n",
       "      <td>casual</td>\n",
       "      <td>50.066667</td>\n",
       "      <td>3</td>\n",
       "      <td>Wednesday</td>\n",
       "      <td>15</td>\n",
       "    </tr>\n",
       "  </tbody>\n",
       "</table>\n",
       "</div>"
      ],
      "text/plain": [
       "            ride_id  rideable_type           started_at             ended_at  \\\n",
       "0  08A4A9F7315901F3  electric_bike  2020-06-03 16:37:10  2020-06-03 16:48:28   \n",
       "1  844F9D906468C441  electric_bike  2020-06-03 12:22:47  2020-06-03 12:44:02   \n",
       "2  0E441BF8A86C544E  electric_bike  2020-06-02 17:37:43  2020-06-02 17:52:21   \n",
       "3  CAFE64864422F475  electric_bike  2020-06-02 18:13:01  2020-06-02 18:48:30   \n",
       "4  172957A20160D568  electric_bike  2020-06-03 15:16:06  2020-06-03 16:06:10   \n",
       "\n",
       "  member_casual  duration_min  date_rented day_rented time_rented  \n",
       "0        casual     11.300000            3  Wednesday          16  \n",
       "1        casual     21.250000            3  Wednesday          12  \n",
       "2        casual     14.633333            2    Tuesday          17  \n",
       "3        casual     35.483333            2    Tuesday          18  \n",
       "4        casual     50.066667            3  Wednesday          15  "
      ]
     },
     "execution_count": 4,
     "metadata": {},
     "output_type": "execute_result"
    }
   ],
   "source": [
    "# final check on the dataframe 'bike_cleaned'\n",
    "bike_cleaned.head()"
   ]
  },
  {
   "cell_type": "markdown",
   "metadata": {
    "slideshow": {
     "slide_type": "slide"
    }
   },
   "source": [
    "## `1.` How long does bike rental last?\n",
    "\n",
    "Bike rental duration is measured by minute. \n",
    "\n",
    "Log scale is applied as the distribution of trip duration is extremely skewed to right."
   ]
  },
  {
   "cell_type": "code",
   "execution_count": 11,
   "metadata": {
    "scrolled": false,
    "slideshow": {
     "slide_type": "subslide"
    }
   },
   "outputs": [
    {
     "data": {
      "image/png": "[encoded data removed]",
      "text/plain": [
       "<Figure size 720x432 with 1 Axes>"
      ]
     },
     "metadata": {
      "needs_background": "light"
     },
     "output_type": "display_data"
    }
   ],
   "source": [
    "log_data = np.log10(bike_cleaned['duration_min'])\n",
    "bin_edges = 10 ** np.arange(0, log_data.max() + 0.1, 0.1)\n",
    "\n",
    "plt.figure(figsize = [10,6])\n",
    "\n",
    "plt.hist(bike_cleaned['duration_min'], bins = bin_edges);\n",
    "plt.xscale('log');\n",
    "tick_prop = [1, 3, 10, 30, 100, 300, 1000, 3e3]\n",
    "tick_label = ['1', '3', '10', '30', '100', '300', '1k', '3k']\n",
    "plt.xticks(tick_prop, tick_label);\n",
    "\n",
    "plt.title('Baywheels Trip Duration\\nSanfrancisco Bay Area, June 2020', fontsize = 16)\n",
    "plt.xlabel('Trip duration (min)', fontsize = 12)\n",
    "plt.ylabel('Frequency', fontsize = 12);"
   ]
  },
  {
   "cell_type": "markdown",
   "metadata": {
    "slideshow": {
     "slide_type": "notes"
    }
   },
   "source": [
    "The median trip duration is around 14 minutes, with over 75% of the rentals last 24 minutes.\n",
    "\n",
    "The recent pricing policy says  \n",
    "> single rides start at USD 2 for the first 30 minutes, then USD 2 per additional 15 minutes\n",
    "  (source from the company's website [here]( https://www.lyft.com/bikes/bay-wheels/pricing)\n",
    "  \n",
    "It suggests that users prefer renting bikes from Bay Wheels for a quick ride only."
   ]
  },
  {
   "cell_type": "markdown",
   "metadata": {
    "collapsed": true,
    "slideshow": {
     "slide_type": "slide"
    }
   },
   "source": [
    "## `2.` Which type of bike is rented more frequently by users?\n",
    "\n"
   ]
  },
  {
   "cell_type": "code",
   "execution_count": 25,
   "metadata": {
    "slideshow": {
     "slide_type": "subslide"
    }
   },
   "outputs": [
    {
     "data": {
      "image/png": "[encoded data removed]",
      "text/plain": [
       "<Figure size 720x432 with 1 Axes>"
      ]
     },
     "metadata": {
      "needs_background": "light"
     },
     "output_type": "display_data"
    }
   ],
   "source": [
    "n_total = bike_cleaned.shape[0]\n",
    "btype_counts = bike_cleaned['rideable_type'].value_counts()\n",
    "btype_order = btype_counts.index\n",
    "\n",
    "plt.figure(figsize = [10, 6])\n",
    "base_color = sns.color_palette()[0]\n",
    "\n",
    "sns.countplot(bike_cleaned['rideable_type'], color = base_color, order = btype_order); \n",
    "plt.xlabel('')\n",
    "plt.ylabel('Number of Rentals', fontsize = 12)\n",
    "plt.title('Rental by Bike Type', fontsize = 16);\n",
    "\n",
    "for i in range(btype_counts.shape[0]):\n",
    "    count = btype_counts.values[i]\n",
    "    pct_string = '{:0.2f}%'.format(100 * count / n_total)\n",
    "    plt.text(i, count - 10000, pct_string, va = 'center', ha = 'center',\n",
    "             bbox = dict(facecolor='white', alpha=0.5)) "
   ]
  },
  {
   "cell_type": "markdown",
   "metadata": {
    "slideshow": {
     "slide_type": "notes"
    }
   },
   "source": [
    "Of the two available bike types, electric bikes were rented more than docked bikes. "
   ]
  },
  {
   "cell_type": "markdown",
   "metadata": {
    "slideshow": {
     "slide_type": "slide"
    }
   },
   "source": [
    "## `3.` How long is trip duration per bike type, across days of week?\n"
   ]
  },
  {
   "cell_type": "code",
   "execution_count": 26,
   "metadata": {
    "scrolled": false,
    "slideshow": {
     "slide_type": "subslide"
    }
   },
   "outputs": [
    {
     "data": {
      "image/png": "[encoded data removed]",
      "text/plain": [
       "<Figure size 720x432 with 1 Axes>"
      ]
     },
     "metadata": {
      "needs_background": "light"
     },
     "output_type": "display_data"
    }
   ],
   "source": [
    "plt.figure(figsize = [10, 6])\n",
    "\n",
    "sns.barplot(data = bike_cleaned, x = 'day_rented', y = 'duration_min', \n",
    "            hue = 'rideable_type', palette = 'muted')\n",
    "plt.legend(loc = 8, ncol = 3, framealpha = 0.8, title = 'bike type')\n",
    "plt.xlabel('')\n",
    "plt.ylabel('Trip Duration (minute)', fontsize = 12)\n",
    "plt.title('Trip Duration by Bike Type across Days', fontsize = 16);"
   ]
  },
  {
   "cell_type": "markdown",
   "metadata": {
    "slideshow": {
     "slide_type": "notes"
    }
   },
   "source": [
    "In the previous finding, we understood that electric bikes are rented more frequently than docked bikes.\n",
    "\n",
    "However, it is apparent that docked bike has longer trip duration than electric bikes, and the trend is consistent across days. \n",
    "\n",
    "Side note | Both docked and electric bike have slightly longer duration on weekends than weekdays."
   ]
  },
  {
   "cell_type": "markdown",
   "metadata": {
    "slideshow": {
     "slide_type": "notes"
    }
   },
   "source": [
    "> Once you're ready to finish your presentation, check your output by using\n",
    "nbconvert to export the notebook and set up a server for the slides. From the\n",
    "terminal or command line, use the following expression:\n",
    "> > `jupyter nbconvert <file_name>.ipynb --to slides --post serve --template output_toggle`\n",
    "\n",
    "> This should open a tab in your web browser where you can scroll through your\n",
    "presentation. Sub-slides can be accessed by pressing 'down' when viewing its parent\n",
    "slide. Make sure you remove all of the quote-formatted guide notes like this one\n",
    "before you finish your presentation!"
   ]
  },
  {
   "cell_type": "code",
   "execution_count": null,
   "metadata": {},
   "outputs": [],
   "source": []
  }
 ],
 "metadata": {
  "celltoolbar": "Slideshow",
  "kernelspec": {
   "display_name": "Python 3",
   "language": "python",
   "name": "python3"
  },
  "language_info": {
   "codemirror_mode": {
    "name": "ipython",
    "version": 3
   },
   "file_extension": ".py",
   "mimetype": "text/x-python",
   "name": "python",
   "nbconvert_exporter": "python",
   "pygments_lexer": "ipython3",
   "version": "3.7.6"
  }
 },
 "nbformat": 4,
 "nbformat_minor": 2
}
