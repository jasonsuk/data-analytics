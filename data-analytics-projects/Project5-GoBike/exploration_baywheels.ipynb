{
 "cells": [
  {
   "cell_type": "markdown",
   "metadata": {},
   "source": [
    "# Exploration on Ford GoBike System Data\n",
    "## by Junghoon Suk\n",
    "\n",
    "<a id = 'start'></a>\n",
    "#### Table of Contents (workflow)\n",
    "\n",
    "1. [Preliminary Wrangling](#wrangling)\n",
    "    - [Assessment](#assess)\n",
    "    - [Cleaning](#clean)\n",
    "    - [Feature engineering](#feature)\n",
    "    \n",
    "    \n",
    "2. [Visualization and Exploratory Analysis](#exploratory)\n",
    "    - [Univariate Exploration](#univariate)\n",
    "    - [Bivariate Exploration](#bivariate)\n",
    "    - [Multivariate Exploration](#multivariate)\n"
   ]
  },
  {
   "cell_type": "markdown",
   "metadata": {},
   "source": [
    "<a id = 'wrangling'></a>\n",
    "## `1.` Preliminary Wrangling\n",
    "\n",
    "> Ford GoBike System Data discovers individual trip information of a bike-sharing system in the Greater Sanfranciso Bay Area. The period discussed for this analysis is June 2020. \n",
    "\n",
    "> The data is publicly available on https://www.lyft.com/bikes/bay-wheels/system-data and obtained as part of Udacity's Data Analysis Nano Degree course."
   ]
  },
  {
   "cell_type": "code",
   "execution_count": 1,
   "metadata": {},
   "outputs": [],
   "source": [
    "# import all packages and set plots to be embedded inline\n",
    "import numpy as np\n",
    "import pandas as pd\n",
    "import matplotlib.pyplot as plt\n",
    "import seaborn as sns\n",
    "import datetime \n",
    "\n",
    "%matplotlib inline"
   ]
  },
  {
   "cell_type": "markdown",
   "metadata": {},
   "source": [
    "> Load in your dataset and describe its properties through the questions below.\n",
    "Try and motivate your exploration goals through this section."
   ]
  },
  {
   "cell_type": "code",
   "execution_count": 2,
   "metadata": {},
   "outputs": [],
   "source": [
    "df = pd.read_csv('202006-baywheels-tripdata.csv');"
   ]
  },
  {
   "cell_type": "markdown",
   "metadata": {},
   "source": [
    "<a id = 'assess'></a>\n",
    "### `1.1` Assessment"
   ]
  },
  {
   "cell_type": "code",
   "execution_count": 3,
   "metadata": {
    "scrolled": false
   },
   "outputs": [
    {
     "name": "stdout",
     "output_type": "stream",
     "text": [
      "(158168, 13)\n",
      "<class 'pandas.core.frame.DataFrame'>\n",
      "RangeIndex: 158168 entries, 0 to 158167\n",
      "Data columns (total 13 columns):\n",
      " #   Column              Non-Null Count   Dtype  \n",
      "---  ------              --------------   -----  \n",
      " 0   ride_id             158168 non-null  object \n",
      " 1   rideable_type       158168 non-null  object \n",
      " 2   started_at          158168 non-null  object \n",
      " 3   ended_at            158168 non-null  object \n",
      " 4   start_station_name  99220 non-null   object \n",
      " 5   start_station_id    99220 non-null   float64\n",
      " 6   end_station_name    97151 non-null   object \n",
      " 7   end_station_id      97151 non-null   float64\n",
      " 8   start_lat           158168 non-null  float64\n",
      " 9   start_lng           158168 non-null  float64\n",
      " 10  end_lat             157892 non-null  float64\n",
      " 11  end_lng             157892 non-null  float64\n",
      " 12  member_casual       158168 non-null  object \n",
      "dtypes: float64(6), object(7)\n",
      "memory usage: 15.7+ MB\n"
     ]
    }
   ],
   "source": [
    "print(df.shape)\n",
    "df.info() "
   ]
  },
  {
   "cell_type": "code",
   "execution_count": 4,
   "metadata": {
    "scrolled": false
   },
   "outputs": [],
   "source": [
    "# df"
   ]
  },
  {
   "cell_type": "code",
   "execution_count": 5,
   "metadata": {
    "scrolled": true
   },
   "outputs": [
    {
     "name": "stdout",
     "output_type": "stream",
     "text": [
      "electric_bike    109176\n",
      "docked_bike       48992\n",
      "Name: rideable_type, dtype: int64\n",
      "casual    95549\n",
      "member    62619\n",
      "Name: member_casual, dtype: int64\n"
     ]
    }
   ],
   "source": [
    "print(df.rideable_type.value_counts())\n",
    "print(df.member_casual.value_counts()) "
   ]
  },
  {
   "cell_type": "code",
   "execution_count": 6,
   "metadata": {
    "scrolled": false
   },
   "outputs": [
    {
     "name": "stdout",
     "output_type": "stream",
     "text": [
      "Market St at 10th St                            1555\n",
      "Hyde St at Post St                              1265\n",
      "Fell St at Stanyan St                           1225\n",
      "Powell St BART Station (Market St at 4th St)    1136\n",
      "Mission Dolores Park                            1042\n",
      "                                                ... \n",
      "Raymond Kimbell Playground                         9\n",
      "Stanyan St at Geary Blvd                           7\n",
      "Foothill Blvd at Harrington Ave                    6\n",
      "7th St at Brannan St                               1\n",
      "38th Ave at Balboa St                              1\n",
      "Name: start_station_name, Length: 426, dtype: int64\n",
      "Market St at 10th St                            1506\n",
      "Powell St BART Station (Market St at 4th St)    1202\n",
      "Fell St at Stanyan St                           1182\n",
      "Mission Dolores Park                            1176\n",
      "Hyde St at Post St                              1087\n",
      "                                                ... \n",
      "16th Depot Bike Fleet Station                      5\n",
      "Stanyan St at Geary Blvd                           4\n",
      "38th Ave at Balboa St                              3\n",
      "San Jose Depot                                     3\n",
      "14th St at Mission St                              1\n",
      "Name: end_station_name, Length: 431, dtype: int64\n"
     ]
    }
   ],
   "source": [
    "print(df.start_station_name.value_counts())\n",
    "print(df.end_station_name.value_counts()) "
   ]
  },
  {
   "cell_type": "code",
   "execution_count": 7,
   "metadata": {},
   "outputs": [
    {
     "name": "stdout",
     "output_type": "stream",
     "text": [
      "<class 'float'>\n",
      "<class 'float'>\n"
     ]
    }
   ],
   "source": [
    "print(type(df.start_station_name[1]))\n",
    "print(type(df.end_station_name[1])) # datatypes are incorrectly float"
   ]
  },
  {
   "cell_type": "markdown",
   "metadata": {},
   "source": [
    "#### Checking for any duplication by 'ride_id' feature"
   ]
  },
  {
   "cell_type": "code",
   "execution_count": 8,
   "metadata": {},
   "outputs": [
    {
     "name": "stdout",
     "output_type": "stream",
     "text": [
      "158168\n",
      "5AFDEF931CCBEE2D    1\n",
      "45AFCAB9CE427AC3    1\n",
      "567BB1A7D273B24F    1\n",
      "202BB0F148302AFA    1\n",
      "52DDEDE0D6DD912A    1\n",
      "                   ..\n",
      "F29FA8B8D6E9BE41    1\n",
      "8C376524AF05B769    1\n",
      "DC21ED689FDC72F1    1\n",
      "AC89F17C49C9E398    1\n",
      "141B7153DAEF0F35    1\n",
      "Name: ride_id, Length: 158168, dtype: int64\n"
     ]
    },
    {
     "data": {
      "text/plain": [
       "0"
      ]
     },
     "execution_count": 8,
     "metadata": {},
     "output_type": "execute_result"
    }
   ],
   "source": [
    "print(df.shape[0]) # total number of data\n",
    "print(df.ride_id.value_counts()) # 158168 ids, equals the total number of data\n",
    "df.duplicated(subset = 'ride_id').sum()  # no duplication of data by 'ride_id'"
   ]
  },
  {
   "cell_type": "markdown",
   "metadata": {},
   "source": [
    "---\n",
    "<a id = 'clean'></a>\n",
    "### `1.2` Cleaning \n",
    "\n",
    "2 major quality issues identified\n",
    "\n",
    "#### Issue 1. Several missing datas can be observed \n",
    "#### Issue 2. Incorrect datatype\n",
    "- 'started_at' and 'end_at are string\n",
    "- 'start_station_id', 'end_station_id' are float"
   ]
  },
  {
   "cell_type": "markdown",
   "metadata": {},
   "source": [
    "---\n",
    "#### Issue 1. Several Missing data are observed\n",
    "\n",
    "Three major types of missing data are identified as following:\n",
    "\n",
    "- issue 1: missing station name and id only \n",
    "    - missing start_station_id and start_station_name \n",
    "    - missing end_station_id and end_station_name \n",
    "\n",
    "- issue 2: completely missing latitutde, longitude \n",
    "\n",
    "\n",
    "##### Assumption\n",
    "\n",
    "- issue 1. may be able to be solved by referring to latitude and longitude data (i.e. start_lat, start_lng, end_lat, end_lng columns) available within the given dataset.    \n",
    "\n",
    "- issue 2. may indicate docking issues and stolen bikes, which need further investigation over time. \n",
    "\n",
    "Ideas from the links below:\n",
    "- [an article on 'docking issues'](https://abc7news.com/abc7-seven-on-your-side-7-michael-finney/5320540/)\n",
    "- [an article on a 'stolen bike'](https://abc7news.com/stolen-rented-bike-returned-but-cyclist-still-fined/5707580/)\n",
    "\n",
    "##### Action on the missing data\n",
    "\n",
    "For this analysis, we will ignore the missing data as filling up the above missing 'location' data is not main focus, and the number of the complete data is enough to get the findings.\n"
   ]
  },
  {
   "cell_type": "code",
   "execution_count": 1,
   "metadata": {},
   "outputs": [],
   "source": [
    "# missing start_station_id and start_station_name only, total 58948 rows\n",
    "# df[df.start_station_id.isnull() & df.start_lat.notnull()]"
   ]
  },
  {
   "cell_type": "code",
   "execution_count": 2,
   "metadata": {},
   "outputs": [],
   "source": [
    "# missing end_station_id and end_station_name only, total 60741 rows\n",
    "# df[df.end_station_id.isnull() & df.end_lat.notnull()]"
   ]
  },
  {
   "cell_type": "code",
   "execution_count": 3,
   "metadata": {},
   "outputs": [],
   "source": [
    "# completely missing latitutde, longitude, total 276 rows\n",
    "# df[df.end_station_id.isnull() & df.end_lat.isnull()]"
   ]
  },
  {
   "cell_type": "markdown",
   "metadata": {},
   "source": [
    "---\n",
    "#### Issue 2. Incorrect datatype\n",
    "- 'started_at' and 'end_at' are string\n",
    "- 'rideable_type', 'member_casual' are object\n",
    "- 'start_station_id', 'end_station_id' are float\n"
   ]
  },
  {
   "cell_type": "code",
   "execution_count": 12,
   "metadata": {},
   "outputs": [
    {
     "name": "stdout",
     "output_type": "stream",
     "text": [
      "<class 'pandas.core.frame.DataFrame'>\n",
      "RangeIndex: 158168 entries, 0 to 158167\n",
      "Data columns (total 13 columns):\n",
      " #   Column              Non-Null Count   Dtype  \n",
      "---  ------              --------------   -----  \n",
      " 0   ride_id             158168 non-null  object \n",
      " 1   rideable_type       158168 non-null  object \n",
      " 2   started_at          158168 non-null  object \n",
      " 3   ended_at            158168 non-null  object \n",
      " 4   start_station_name  99220 non-null   object \n",
      " 5   start_station_id    99220 non-null   float64\n",
      " 6   end_station_name    97151 non-null   object \n",
      " 7   end_station_id      97151 non-null   float64\n",
      " 8   start_lat           158168 non-null  float64\n",
      " 9   start_lng           158168 non-null  float64\n",
      " 10  end_lat             157892 non-null  float64\n",
      " 11  end_lng             157892 non-null  float64\n",
      " 12  member_casual       158168 non-null  object \n",
      "dtypes: float64(6), object(7)\n",
      "memory usage: 15.7+ MB\n"
     ]
    }
   ],
   "source": [
    "df.info()"
   ]
  },
  {
   "cell_type": "markdown",
   "metadata": {},
   "source": [
    "##### define\n",
    "\n",
    "Copy the dataframe df and save it as 'gobike'(to be cleaned)\n",
    "\n",
    "Change tye type type of the below columns:\n",
    "\n",
    "- **'started_at' and 'end_at':** use pd.to_datatime to transform into datetime object\n",
    "- **'rideable_type' and 'member_casual':**: use astype to transform into categorical object\n",
    "- **'start_station_id' and 'end_station_id':** as they are float with some NaN values, firstly use .fillna( ) method to handle NAN values and .astype(int) to remove decimals. When using .fillna( ), assign -1 as values need to be none-NaN value for .astype(int). Then use again .astype(str) to transform into string, and replace -1 with np.nan.\n"
   ]
  },
  {
   "cell_type": "markdown",
   "metadata": {},
   "source": [
    "##### code"
   ]
  },
  {
   "cell_type": "code",
   "execution_count": 13,
   "metadata": {},
   "outputs": [],
   "source": [
    "gobike = df.copy()"
   ]
  },
  {
   "cell_type": "code",
   "execution_count": 14,
   "metadata": {
    "scrolled": true
   },
   "outputs": [],
   "source": [
    "# to datetime object\n",
    "gobike['started_at'] = pd.to_datetime(gobike['started_at'])\n",
    "gobike['ended_at'] = pd.to_datetime(gobike['ended_at'])\n",
    "\n",
    "# to categorical object\n",
    "gobike['rideable_type'] = gobike['rideable_type'].astype('category')\n",
    "gobike['member_casual'] = gobike['member_casual'].astype('category')"
   ]
  },
  {
   "cell_type": "code",
   "execution_count": 15,
   "metadata": {},
   "outputs": [],
   "source": [
    "gobike['start_station_id'] = gobike['start_station_id'].fillna(-1).astype(int).astype(str).replace('-1', np.nan)\n",
    "gobike['end_station_id'] = gobike['end_station_id'].fillna(-1).astype(int).astype(str).replace('-1', np.nan)"
   ]
  },
  {
   "cell_type": "markdown",
   "metadata": {},
   "source": [
    "##### Inspired by a stack overflow post: https://stackoverflow.com/questions/21287624/convert-pandas-column-containing-nans-to-dtype-int"
   ]
  },
  {
   "cell_type": "markdown",
   "metadata": {},
   "source": [
    "##### test"
   ]
  },
  {
   "cell_type": "code",
   "execution_count": 16,
   "metadata": {},
   "outputs": [
    {
     "name": "stdout",
     "output_type": "stream",
     "text": [
      "<class 'pandas.core.frame.DataFrame'>\n",
      "RangeIndex: 158168 entries, 0 to 158167\n",
      "Data columns (total 13 columns):\n",
      " #   Column              Non-Null Count   Dtype         \n",
      "---  ------              --------------   -----         \n",
      " 0   ride_id             158168 non-null  object        \n",
      " 1   rideable_type       158168 non-null  category      \n",
      " 2   started_at          158168 non-null  datetime64[ns]\n",
      " 3   ended_at            158168 non-null  datetime64[ns]\n",
      " 4   start_station_name  99220 non-null   object        \n",
      " 5   start_station_id    99220 non-null   object        \n",
      " 6   end_station_name    97151 non-null   object        \n",
      " 7   end_station_id      97151 non-null   object        \n",
      " 8   start_lat           158168 non-null  float64       \n",
      " 9   start_lng           158168 non-null  float64       \n",
      " 10  end_lat             157892 non-null  float64       \n",
      " 11  end_lng             157892 non-null  float64       \n",
      " 12  member_casual       158168 non-null  category      \n",
      "dtypes: category(2), datetime64[ns](2), float64(4), object(5)\n",
      "memory usage: 13.6+ MB\n"
     ]
    }
   ],
   "source": [
    "gobike.info()"
   ]
  },
  {
   "cell_type": "code",
   "execution_count": 17,
   "metadata": {
    "scrolled": true
   },
   "outputs": [
    {
     "data": {
      "text/html": [
       "<div>\n",
       "<style scoped>\n",
       "    .dataframe tbody tr th:only-of-type {\n",
       "        vertical-align: middle;\n",
       "    }\n",
       "\n",
       "    .dataframe tbody tr th {\n",
       "        vertical-align: top;\n",
       "    }\n",
       "\n",
       "    .dataframe thead th {\n",
       "        text-align: right;\n",
       "    }\n",
       "</style>\n",
       "<table border=\"1\" class=\"dataframe\">\n",
       "  <thead>\n",
       "    <tr style=\"text-align: right;\">\n",
       "      <th></th>\n",
       "      <th>ride_id</th>\n",
       "      <th>rideable_type</th>\n",
       "      <th>started_at</th>\n",
       "      <th>ended_at</th>\n",
       "      <th>start_station_name</th>\n",
       "      <th>start_station_id</th>\n",
       "      <th>end_station_name</th>\n",
       "      <th>end_station_id</th>\n",
       "      <th>start_lat</th>\n",
       "      <th>start_lng</th>\n",
       "      <th>end_lat</th>\n",
       "      <th>end_lng</th>\n",
       "      <th>member_casual</th>\n",
       "    </tr>\n",
       "  </thead>\n",
       "  <tbody>\n",
       "    <tr>\n",
       "      <th>48423</th>\n",
       "      <td>6E5C6AF61DFABEA0</td>\n",
       "      <td>electric_bike</td>\n",
       "      <td>2020-06-27 12:35:34</td>\n",
       "      <td>2020-06-27 12:47:40</td>\n",
       "      <td>Market St at 10th St</td>\n",
       "      <td>58</td>\n",
       "      <td>Market St at Steuart St</td>\n",
       "      <td>16</td>\n",
       "      <td>37.776971</td>\n",
       "      <td>-122.417506</td>\n",
       "      <td>37.794450</td>\n",
       "      <td>-122.394772</td>\n",
       "      <td>casual</td>\n",
       "    </tr>\n",
       "    <tr>\n",
       "      <th>141092</th>\n",
       "      <td>95B8A52A996DD594</td>\n",
       "      <td>docked_bike</td>\n",
       "      <td>2020-06-06 12:28:09</td>\n",
       "      <td>2020-06-06 12:47:14</td>\n",
       "      <td>65th St at Hollis St</td>\n",
       "      <td>157</td>\n",
       "      <td>North Berkeley BART Station</td>\n",
       "      <td>250</td>\n",
       "      <td>37.846784</td>\n",
       "      <td>-122.291376</td>\n",
       "      <td>37.873558</td>\n",
       "      <td>-122.283093</td>\n",
       "      <td>member</td>\n",
       "    </tr>\n",
       "    <tr>\n",
       "      <th>52788</th>\n",
       "      <td>802639A82C81BB9C</td>\n",
       "      <td>electric_bike</td>\n",
       "      <td>2020-06-30 21:06:48</td>\n",
       "      <td>2020-06-30 21:28:00</td>\n",
       "      <td>Eureka Valley Recreation Center</td>\n",
       "      <td>118</td>\n",
       "      <td>NaN</td>\n",
       "      <td>NaN</td>\n",
       "      <td>37.759203</td>\n",
       "      <td>-122.436862</td>\n",
       "      <td>37.760000</td>\n",
       "      <td>-122.390000</td>\n",
       "      <td>casual</td>\n",
       "    </tr>\n",
       "    <tr>\n",
       "      <th>8654</th>\n",
       "      <td>A8063069AAA49A9C</td>\n",
       "      <td>electric_bike</td>\n",
       "      <td>2020-06-20 13:31:23</td>\n",
       "      <td>2020-06-20 13:51:53</td>\n",
       "      <td>Berry St at 4th St</td>\n",
       "      <td>81</td>\n",
       "      <td>Sanchez St at 15th St</td>\n",
       "      <td>95</td>\n",
       "      <td>37.775910</td>\n",
       "      <td>-122.393128</td>\n",
       "      <td>37.766193</td>\n",
       "      <td>-122.431098</td>\n",
       "      <td>casual</td>\n",
       "    </tr>\n",
       "    <tr>\n",
       "      <th>149873</th>\n",
       "      <td>7DA32A9257B1F797</td>\n",
       "      <td>docked_bike</td>\n",
       "      <td>2020-06-08 20:31:43</td>\n",
       "      <td>2020-06-08 20:40:04</td>\n",
       "      <td>20th St at Dolores St</td>\n",
       "      <td>381</td>\n",
       "      <td>29th St at Tiffany Ave</td>\n",
       "      <td>147</td>\n",
       "      <td>37.758238</td>\n",
       "      <td>-122.426093</td>\n",
       "      <td>37.744067</td>\n",
       "      <td>-122.421472</td>\n",
       "      <td>member</td>\n",
       "    </tr>\n",
       "  </tbody>\n",
       "</table>\n",
       "</div>"
      ],
      "text/plain": [
       "                 ride_id  rideable_type          started_at  \\\n",
       "48423   6E5C6AF61DFABEA0  electric_bike 2020-06-27 12:35:34   \n",
       "141092  95B8A52A996DD594    docked_bike 2020-06-06 12:28:09   \n",
       "52788   802639A82C81BB9C  electric_bike 2020-06-30 21:06:48   \n",
       "8654    A8063069AAA49A9C  electric_bike 2020-06-20 13:31:23   \n",
       "149873  7DA32A9257B1F797    docked_bike 2020-06-08 20:31:43   \n",
       "\n",
       "                  ended_at               start_station_name start_station_id  \\\n",
       "48423  2020-06-27 12:47:40             Market St at 10th St               58   \n",
       "141092 2020-06-06 12:47:14             65th St at Hollis St              157   \n",
       "52788  2020-06-30 21:28:00  Eureka Valley Recreation Center              118   \n",
       "8654   2020-06-20 13:51:53               Berry St at 4th St               81   \n",
       "149873 2020-06-08 20:40:04            20th St at Dolores St              381   \n",
       "\n",
       "                   end_station_name end_station_id  start_lat   start_lng  \\\n",
       "48423       Market St at Steuart St             16  37.776971 -122.417506   \n",
       "141092  North Berkeley BART Station            250  37.846784 -122.291376   \n",
       "52788                           NaN            NaN  37.759203 -122.436862   \n",
       "8654          Sanchez St at 15th St             95  37.775910 -122.393128   \n",
       "149873       29th St at Tiffany Ave            147  37.758238 -122.426093   \n",
       "\n",
       "          end_lat     end_lng member_casual  \n",
       "48423   37.794450 -122.394772        casual  \n",
       "141092  37.873558 -122.283093        member  \n",
       "52788   37.760000 -122.390000        casual  \n",
       "8654    37.766193 -122.431098        casual  \n",
       "149873  37.744067 -122.421472        member  "
      ]
     },
     "execution_count": 17,
     "metadata": {},
     "output_type": "execute_result"
    }
   ],
   "source": [
    "gobike.sample(5)"
   ]
  },
  {
   "cell_type": "markdown",
   "metadata": {},
   "source": [
    "---\n",
    "<a id = 'feature'></a>\n",
    "### `1.3` Feature engineering\n",
    "\n",
    "Adding some newfeatures using datetime object as following:\n",
    "\n",
    "- 'duration' feature: difference between 'ended_at' and 'started_at'\n",
    "- 'date_rented' (also by '-day') and 'time_rented' "
   ]
  },
  {
   "cell_type": "markdown",
   "metadata": {},
   "source": [
    "### To create 'trip_time'  feature (unit: minute)\n",
    "\n",
    "Create a 'trip-time' variable for difference between 'ended_at' and 'start_at', and the dataype of trip_time is timedelta. \n",
    "\n",
    "The timedelta variable can be transformed into minutes as unit for trip time."
   ]
  },
  {
   "cell_type": "code",
   "execution_count": 18,
   "metadata": {},
   "outputs": [
    {
     "data": {
      "text/plain": [
       "pandas._libs.tslibs.timedeltas.Timedelta"
      ]
     },
     "execution_count": 18,
     "metadata": {},
     "output_type": "execute_result"
    }
   ],
   "source": [
    "duration = gobike['ended_at'] - gobike['started_at']\n",
    "type(duration[0]) "
   ]
  },
  {
   "cell_type": "code",
   "execution_count": 19,
   "metadata": {},
   "outputs": [],
   "source": [
    "duration_by_minute = []\n",
    "\n",
    "for time in duration:\n",
    "    duration_by_minute.append(time.total_seconds()/60) # transforming seconds to minutes"
   ]
  },
  {
   "cell_type": "code",
   "execution_count": 20,
   "metadata": {},
   "outputs": [],
   "source": [
    "gobike['duration_min'] = duration_by_minute"
   ]
  },
  {
   "cell_type": "markdown",
   "metadata": {},
   "source": [
    "The calculated duration by minute has negative values, which are possibly resulted from incorrect inputs. (i.e. 'started_at', 'ended_at' data mixed up). \n",
    "\n",
    "Applyting this logic, use numpy.abs() to make all values absolute (>= 0)."
   ]
  },
  {
   "cell_type": "code",
   "execution_count": 21,
   "metadata": {},
   "outputs": [
    {
     "data": {
      "text/plain": [
       "count    158168.000000\n",
       "mean         26.949850\n",
       "std         308.304418\n",
       "min         -14.050000\n",
       "25%           7.366667\n",
       "50%          13.250000\n",
       "75%          23.350000\n",
       "max       37233.100000\n",
       "Name: duration_min, dtype: float64"
      ]
     },
     "execution_count": 21,
     "metadata": {},
     "output_type": "execute_result"
    }
   ],
   "source": [
    "gobike['duration_min'].describe()"
   ]
  },
  {
   "cell_type": "code",
   "execution_count": 22,
   "metadata": {},
   "outputs": [],
   "source": [
    "gobike['duration_min'] = gobike['duration_min'].apply(lambda x: np.abs(x))"
   ]
  },
  {
   "cell_type": "markdown",
   "metadata": {},
   "source": [
    "Negative values from 'trip_time_minute' feature are removed but there are 42 rows with 0 trip time, which is not correct. Inspect and remove the entry.\n"
   ]
  },
  {
   "cell_type": "code",
   "execution_count": 23,
   "metadata": {
    "scrolled": true
   },
   "outputs": [
    {
     "data": {
      "text/plain": [
       "count    158168.000000\n",
       "mean         26.950323\n",
       "std         308.304377\n",
       "min           0.000000\n",
       "25%           7.366667\n",
       "50%          13.250000\n",
       "75%          23.350000\n",
       "max       37233.100000\n",
       "Name: duration_min, dtype: float64"
      ]
     },
     "execution_count": 23,
     "metadata": {},
     "output_type": "execute_result"
    }
   ],
   "source": [
    "gobike['duration_min'].describe() # zero trip time is not ideal "
   ]
  },
  {
   "cell_type": "code",
   "execution_count": 5,
   "metadata": {
    "scrolled": false
   },
   "outputs": [
    {
     "ename": "NameError",
     "evalue": "name 'gobike' is not defined",
     "output_type": "error",
     "traceback": [
      "\u001b[0;31m---------------------------------------------------------------------------\u001b[0m",
      "\u001b[0;31mNameError\u001b[0m                                 Traceback (most recent call last)",
      "\u001b[0;32m<ipython-input-5-e8a7ae71d089>\u001b[0m in \u001b[0;36m<module>\u001b[0;34m\u001b[0m\n\u001b[0;32m----> 1\u001b[0;31m \u001b[0mprint\u001b[0m\u001b[0;34m(\u001b[0m\u001b[0mgobike\u001b[0m\u001b[0;34m[\u001b[0m\u001b[0mgobike\u001b[0m\u001b[0;34m[\u001b[0m\u001b[0;34m'duration_min'\u001b[0m\u001b[0;34m]\u001b[0m \u001b[0;34m==\u001b[0m \u001b[0;36m0\u001b[0m\u001b[0;34m]\u001b[0m\u001b[0;34m.\u001b[0m\u001b[0mshape\u001b[0m\u001b[0;34m)\u001b[0m \u001b[0;31m# 42 rows with zero trip time\u001b[0m\u001b[0;34m\u001b[0m\u001b[0;34m\u001b[0m\u001b[0m\n\u001b[0m\u001b[1;32m      2\u001b[0m \u001b[0;31m# gobike[gobike['duration_min'] == 0]\u001b[0m\u001b[0;34m\u001b[0m\u001b[0;34m\u001b[0m\u001b[0;34m\u001b[0m\u001b[0m\n",
      "\u001b[0;31mNameError\u001b[0m: name 'gobike' is not defined"
     ]
    }
   ],
   "source": [
    "print(gobike[gobike['duration_min'] == 0].shape) # 42 rows with zero trip time\n",
    "# gobike[gobike['duration_min'] == 0]"
   ]
  },
  {
   "cell_type": "code",
   "execution_count": 25,
   "metadata": {},
   "outputs": [],
   "source": [
    "#excluding trip time with 'zero' values\n",
    "gobike = gobike[gobike['duration_min'] != 0]"
   ]
  },
  {
   "cell_type": "markdown",
   "metadata": {},
   "source": [
    "### To create 'date_rented', 'day_rented', and 'time_rented' features\n",
    "\n",
    "'day_rented' feature to study ridership information by dayname (i.e. sunday, monday, ...), and to be cateogory datatype"
   ]
  },
  {
   "cell_type": "code",
   "execution_count": 26,
   "metadata": {
    "scrolled": false
   },
   "outputs": [],
   "source": [
    "gobike['date_rented'] = gobike['started_at'].apply(lambda x: x.day)\n",
    "gobike['day_rented'] = gobike['started_at'].apply(lambda x: x.day_name())\n",
    "gobike['time_rented'] = gobike['started_at'].apply(lambda x: x.hour)"
   ]
  },
  {
   "cell_type": "markdown",
   "metadata": {},
   "source": [
    "##### Inspired by a stack overflow post: https://stackoverflow.com/questions/39662149/pandas-extract-date-and-time-from-timestamp"
   ]
  },
  {
   "cell_type": "code",
   "execution_count": 27,
   "metadata": {},
   "outputs": [],
   "source": [
    "# transforming 'day_rented' into category datatype\n",
    "day_order = ['Monday', 'Tuesday', 'Wednesday', 'Thursday', 'Friday', 'Saturday', 'Sunday']\n",
    "day_category = pd.api.types.CategoricalDtype(categories = day_order)"
   ]
  },
  {
   "cell_type": "code",
   "execution_count": 28,
   "metadata": {},
   "outputs": [],
   "source": [
    "gobike['day_rented'] = gobike['day_rented'].astype(day_category)"
   ]
  },
  {
   "cell_type": "code",
   "execution_count": 29,
   "metadata": {
    "scrolled": false
   },
   "outputs": [
    {
     "name": "stdout",
     "output_type": "stream",
     "text": [
      "ride_id                       object\n",
      "rideable_type               category\n",
      "started_at            datetime64[ns]\n",
      "ended_at              datetime64[ns]\n",
      "start_station_name            object\n",
      "start_station_id              object\n",
      "end_station_name              object\n",
      "end_station_id                object\n",
      "start_lat                    float64\n",
      "start_lng                    float64\n",
      "end_lat                      float64\n",
      "end_lng                      float64\n",
      "member_casual               category\n",
      "duration_min                 float64\n",
      "date_rented                    int64\n",
      "day_rented                  category\n",
      "time_rented                    int64\n",
      "dtype: object\n"
     ]
    }
   ],
   "source": [
    "# checking for all added features and datatypes\n",
    "print(gobike.dtypes)"
   ]
  },
  {
   "cell_type": "code",
   "execution_count": 30,
   "metadata": {},
   "outputs": [],
   "source": [
    "gobike['date_rented'] = gobike['date_rented'].astype(str)\n",
    "gobike['time_rented'] = gobike['time_rented'].astype(str)"
   ]
  },
  {
   "cell_type": "markdown",
   "metadata": {},
   "source": [
    "Keeping features of interest only, and saving the new reorganized dataset as **`'bike_cleaned'`** dataframe."
   ]
  },
  {
   "cell_type": "code",
   "execution_count": 31,
   "metadata": {},
   "outputs": [
    {
     "name": "stdout",
     "output_type": "stream",
     "text": [
      "0 ride_id\n",
      "1 rideable_type\n",
      "2 started_at\n",
      "3 ended_at\n",
      "4 start_station_name\n",
      "5 start_station_id\n",
      "6 end_station_name\n",
      "7 end_station_id\n",
      "8 start_lat\n",
      "9 start_lng\n",
      "10 end_lat\n",
      "11 end_lng\n",
      "12 member_casual\n",
      "13 duration_min\n",
      "14 date_rented\n",
      "15 day_rented\n",
      "16 time_rented\n"
     ]
    }
   ],
   "source": [
    "for i, v in enumerate(gobike.columns):\n",
    "    print(i, v)"
   ]
  },
  {
   "cell_type": "code",
   "execution_count": 32,
   "metadata": {},
   "outputs": [],
   "source": [
    "columns_to_drop = gobike.columns[4:12]\n",
    "bike_cleaned = gobike.drop(columns = columns_to_drop)"
   ]
  },
  {
   "cell_type": "code",
   "execution_count": 6,
   "metadata": {},
   "outputs": [],
   "source": [
    "# bike_cleaned"
   ]
  },
  {
   "cell_type": "code",
   "execution_count": 34,
   "metadata": {},
   "outputs": [
    {
     "name": "stdout",
     "output_type": "stream",
     "text": [
      "<class 'pandas.core.frame.DataFrame'>\n",
      "Int64Index: 158126 entries, 0 to 158167\n",
      "Data columns (total 9 columns):\n",
      " #   Column         Non-Null Count   Dtype         \n",
      "---  ------         --------------   -----         \n",
      " 0   ride_id        158126 non-null  object        \n",
      " 1   rideable_type  158126 non-null  category      \n",
      " 2   started_at     158126 non-null  datetime64[ns]\n",
      " 3   ended_at       158126 non-null  datetime64[ns]\n",
      " 4   member_casual  158126 non-null  category      \n",
      " 5   duration_min   158126 non-null  float64       \n",
      " 6   date_rented    158126 non-null  object        \n",
      " 7   day_rented     158126 non-null  category      \n",
      " 8   time_rented    158126 non-null  object        \n",
      "dtypes: category(3), datetime64[ns](2), float64(1), object(3)\n",
      "memory usage: 8.9+ MB\n"
     ]
    }
   ],
   "source": [
    "bike_cleaned.info()"
   ]
  },
  {
   "cell_type": "code",
   "execution_count": 63,
   "metadata": {},
   "outputs": [],
   "source": [
    "bike_cleaned.to_csv('bike_cleaned.csv', index = False)"
   ]
  },
  {
   "cell_type": "markdown",
   "metadata": {},
   "source": [
    "##### Click [here](#start) to go back to the table of contents."
   ]
  },
  {
   "cell_type": "markdown",
   "metadata": {},
   "source": [
    "---\n",
    "<a id = 'exploratory'></a>\n",
    "## `2.` Visualization and Exploratory Analaysis \n",
    "\n",
    "\n",
    "### What is the structure of your dataset?\n",
    "\n",
    "> The new dataset created as **`bike_cleaned`** contains 158126 rows and 8 columns. Each row has a unique, non-duplicated identifier, represented as **ride_id** column. It includes 2 datetime, 3 category, 3 objects (string) and 1 float datatype. \n",
    "\n",
    "### What is/are the main feature(s) of interest in your dataset?\n",
    "\n",
    "> **_duration_min_** feature is the key to understand trip time for the given period (June 2020). **_rideable_type_** and **_member_casual_** variables will help comprehend bike uses by product and customer type.  \n",
    "\n",
    "### What features in the dataset do you think will help support your investigation into your feature(s) of interest?\n",
    "\n",
    "> **_date_rented_**, **_day_rented_**, **_time_rented_** will support some simple time series analysis, and refine understandings through multivariate exploration. **_started_at_** and **_ended_at_** variable remain to support finding some anomaly in dataset."
   ]
  },
  {
   "cell_type": "markdown",
   "metadata": {},
   "source": [
    "---\n",
    "<a id = 'univariate'></a>\n",
    "## `2.1` Univariate Exploration\n",
    "\n",
    "> In this section, investigate distributions of individual variables. If\n",
    "you see unusual points or outliers, take a deeper look to clean things up\n",
    "and prepare yourself to look at relationships between variables."
   ]
  },
  {
   "cell_type": "markdown",
   "metadata": {},
   "source": [
    "### Distribution of the key variable: 'duration_min' \n",
    "\n",
    "#### Some outliers are identified and to be cleaned before visualization\n",
    "The below boxplot summaries some key statistics, and some outliers make it difficult to clearly understand the trip duration. \n",
    "\n",
    "- The minimum trip duration show 0.0167 minute which is odd.\n",
    "- The boxplot shows the range range from 0 near to 600 hours, whereas 75% of the data falls under 23.35 of trip. The maximum trip duration is 37233 minutes (nearly 25 days), which may be possible but is clearly an outlier."
   ]
  },
  {
   "cell_type": "code",
   "execution_count": 36,
   "metadata": {
    "scrolled": false
   },
   "outputs": [
    {
     "name": "stdout",
     "output_type": "stream",
     "text": [
      "count    158126.000000\n",
      "mean         26.957482\n",
      "std         308.345006\n",
      "min           0.016667\n",
      "25%           7.366667\n",
      "50%          13.250000\n",
      "75%          23.350000\n",
      "max       37233.100000\n",
      "Name: duration_min, dtype: float64\n"
     ]
    },
    {
     "data": {
      "image/png": "[encoded data removed]",
      "text/plain": [
       "<Figure size 432x288 with 1 Axes>"
      ]
     },
     "metadata": {
      "needs_background": "light"
     },
     "output_type": "display_data"
    }
   ],
   "source": [
    "print(bike_cleaned['duration_min'].describe())\n",
    "sns.boxplot(bike_cleaned['duration_min']);\n",
    "plt.xlabel('Trip duration (minute)');"
   ]
  },
  {
   "cell_type": "markdown",
   "metadata": {},
   "source": [
    "#### Inspecting lower bound outeliers\n",
    "\n",
    "There are cases where trip duration is 0.016667 minute, which does not logically make sense. It may possibly due to the earlier addressed docking issues but is not pretty sure yet without more of internal information."
   ]
  },
  {
   "cell_type": "code",
   "execution_count": 37,
   "metadata": {
    "scrolled": true
   },
   "outputs": [
    {
     "data": {
      "text/plain": [
       "139238    0.016667\n",
       "136176    0.016667\n",
       "147908    0.016667\n",
       "126608    0.016667\n",
       "124285    0.016667\n",
       "            ...   \n",
       "135553    7.366667\n",
       "51887     7.366667\n",
       "101121    7.366667\n",
       "135317    7.366667\n",
       "110287    7.366667\n",
       "Name: duration_min, Length: 39557, dtype: float64"
      ]
     },
     "execution_count": 37,
     "metadata": {},
     "output_type": "execute_result"
    }
   ],
   "source": [
    "first_quantile = bike_cleaned[bike_cleaned['duration_min'] < 7.366667]\n",
    "first_quantile['duration_min'].sort_values()"
   ]
  },
  {
   "cell_type": "markdown",
   "metadata": {},
   "source": [
    "For better understanding, here duration_min less than 1 minute is odd to be investigated. Note that 1 minute is arbitarily selected, and specific parameter may require deeper internal investigation.\n",
    "\n",
    "There are 4514 entries (2.85% of the total dataset) with less than or equal to 1 minute trip duration. Some of the cases show start_stataion and end_station same within less than 1 minute trip time, which is likely due to some operational issues (i.e. docking problem)."
   ]
  },
  {
   "cell_type": "code",
   "execution_count": 7,
   "metadata": {
    "scrolled": false
   },
   "outputs": [
    {
     "ename": "NameError",
     "evalue": "name 'bike_cleaned' is not defined",
     "output_type": "error",
     "traceback": [
      "\u001b[0;31m---------------------------------------------------------------------------\u001b[0m",
      "\u001b[0;31mNameError\u001b[0m                                 Traceback (most recent call last)",
      "\u001b[0;32m<ipython-input-7-694480ba00e0>\u001b[0m in \u001b[0;36m<module>\u001b[0;34m\u001b[0m\n\u001b[0;32m----> 1\u001b[0;31m \u001b[0mless_than_1min\u001b[0m \u001b[0;34m=\u001b[0m \u001b[0mbike_cleaned\u001b[0m\u001b[0;34m[\u001b[0m\u001b[0mbike_cleaned\u001b[0m\u001b[0;34m[\u001b[0m\u001b[0;34m'duration_min'\u001b[0m\u001b[0;34m]\u001b[0m \u001b[0;34m<=\u001b[0m \u001b[0;36m1\u001b[0m\u001b[0;34m]\u001b[0m\u001b[0;34m\u001b[0m\u001b[0;34m\u001b[0m\u001b[0m\n\u001b[0m\u001b[1;32m      2\u001b[0m \u001b[0mprint\u001b[0m\u001b[0;34m(\u001b[0m\u001b[0mless_than_1min\u001b[0m\u001b[0;34m.\u001b[0m\u001b[0mshape\u001b[0m\u001b[0;34m[\u001b[0m\u001b[0;36m0\u001b[0m\u001b[0;34m]\u001b[0m\u001b[0;34m)\u001b[0m\u001b[0;34m\u001b[0m\u001b[0;34m\u001b[0m\u001b[0m\n\u001b[1;32m      3\u001b[0m \u001b[0mprint\u001b[0m\u001b[0;34m(\u001b[0m\u001b[0mless_than_1min\u001b[0m\u001b[0;34m.\u001b[0m\u001b[0mshape\u001b[0m\u001b[0;34m[\u001b[0m\u001b[0;36m0\u001b[0m\u001b[0;34m]\u001b[0m \u001b[0;34m/\u001b[0m \u001b[0mbike_cleaned\u001b[0m\u001b[0;34m.\u001b[0m\u001b[0mshape\u001b[0m\u001b[0;34m[\u001b[0m\u001b[0;36m0\u001b[0m\u001b[0;34m]\u001b[0m\u001b[0;34m)\u001b[0m\u001b[0;34m\u001b[0m\u001b[0;34m\u001b[0m\u001b[0m\n\u001b[1;32m      4\u001b[0m \u001b[0;31m# less_than_1min\u001b[0m\u001b[0;34m\u001b[0m\u001b[0;34m\u001b[0m\u001b[0;34m\u001b[0m\u001b[0m\n",
      "\u001b[0;31mNameError\u001b[0m: name 'bike_cleaned' is not defined"
     ]
    }
   ],
   "source": [
    "less_than_1min = bike_cleaned[bike_cleaned['duration_min'] <= 1]\n",
    "print(less_than_1min.shape[0])\n",
    "print(less_than_1min.shape[0] / bike_cleaned.shape[0])\n",
    "# less_than_1min "
   ]
  },
  {
   "cell_type": "markdown",
   "metadata": {},
   "source": [
    "For this analysis, the data with trip duration below 1 min (including) will be dropped."
   ]
  },
  {
   "cell_type": "code",
   "execution_count": 39,
   "metadata": {},
   "outputs": [
    {
     "name": "stdout",
     "output_type": "stream",
     "text": [
      "<class 'pandas.core.frame.DataFrame'>\n",
      "Int64Index: 153612 entries, 0 to 158167\n",
      "Data columns (total 9 columns):\n",
      " #   Column         Non-Null Count   Dtype         \n",
      "---  ------         --------------   -----         \n",
      " 0   ride_id        153612 non-null  object        \n",
      " 1   rideable_type  153612 non-null  category      \n",
      " 2   started_at     153612 non-null  datetime64[ns]\n",
      " 3   ended_at       153612 non-null  datetime64[ns]\n",
      " 4   member_casual  153612 non-null  category      \n",
      " 5   duration_min   153612 non-null  float64       \n",
      " 6   date_rented    153612 non-null  object        \n",
      " 7   day_rented     153612 non-null  category      \n",
      " 8   time_rented    153612 non-null  object        \n",
      "dtypes: category(3), datetime64[ns](2), float64(1), object(3)\n",
      "memory usage: 8.6+ MB\n"
     ]
    }
   ],
   "source": [
    "bike_cleaned = bike_cleaned[bike_cleaned['duration_min'] > 1]\n",
    "bike_cleaned.info()"
   ]
  },
  {
   "cell_type": "markdown",
   "metadata": {},
   "source": [
    "#### Inspecting upper bound outliers\n",
    "\n",
    "There are 293 multiple-day (more than 24 hours = 1440 minutes) cases. Although it is possible to rent more than one day, here these are arbitarily considered as outliers and to be removed.\n",
    "\n",
    "**<span style=\"color:red\">Therefore, only single day use case will be discussed for this analysis.</span>**"
   ]
  },
  {
   "cell_type": "code",
   "execution_count": 8,
   "metadata": {
    "scrolled": true
   },
   "outputs": [
    {
     "ename": "NameError",
     "evalue": "name 'bike_cleaned' is not defined",
     "output_type": "error",
     "traceback": [
      "\u001b[0;31m---------------------------------------------------------------------------\u001b[0m",
      "\u001b[0;31mNameError\u001b[0m                                 Traceback (most recent call last)",
      "\u001b[0;32m<ipython-input-8-51860bae47de>\u001b[0m in \u001b[0;36m<module>\u001b[0;34m\u001b[0m\n\u001b[0;32m----> 1\u001b[0;31m \u001b[0mprint\u001b[0m\u001b[0;34m(\u001b[0m\u001b[0mbike_cleaned\u001b[0m\u001b[0;34m[\u001b[0m\u001b[0;34m'duration_min'\u001b[0m\u001b[0;34m]\u001b[0m\u001b[0;34m.\u001b[0m\u001b[0msort_values\u001b[0m\u001b[0;34m(\u001b[0m\u001b[0mascending\u001b[0m \u001b[0;34m=\u001b[0m \u001b[0;32mFalse\u001b[0m\u001b[0;34m)\u001b[0m\u001b[0;34m)\u001b[0m\u001b[0;34m\u001b[0m\u001b[0;34m\u001b[0m\u001b[0m\n\u001b[0m\u001b[1;32m      2\u001b[0m \u001b[0;31m# bike_cleaned[bike_cleaned['duration_min'] > 60 * 24] # more than one day use\u001b[0m\u001b[0;34m\u001b[0m\u001b[0;34m\u001b[0m\u001b[0;34m\u001b[0m\u001b[0m\n",
      "\u001b[0;31mNameError\u001b[0m: name 'bike_cleaned' is not defined"
     ]
    }
   ],
   "source": [
    "print(bike_cleaned['duration_min'].sort_values(ascending = False))\n",
    "# bike_cleaned[bike_cleaned['duration_min'] > 60 * 24] # more than one day use"
   ]
  },
  {
   "cell_type": "code",
   "execution_count": 41,
   "metadata": {},
   "outputs": [],
   "source": [
    "bike_cleaned = bike_cleaned[bike_cleaned['duration_min'] <= 60 * 24]"
   ]
  },
  {
   "cell_type": "code",
   "execution_count": 42,
   "metadata": {},
   "outputs": [
    {
     "name": "stdout",
     "output_type": "stream",
     "text": [
      "count    153319.000000\n",
      "mean         20.890795\n",
      "std          36.030339\n",
      "min           1.016667\n",
      "25%           7.833333\n",
      "50%          13.616667\n",
      "75%          23.716667\n",
      "max        1437.833333\n",
      "Name: duration_min, dtype: float64\n",
      "<class 'pandas.core.frame.DataFrame'>\n",
      "Int64Index: 153319 entries, 0 to 158167\n",
      "Data columns (total 9 columns):\n",
      " #   Column         Non-Null Count   Dtype         \n",
      "---  ------         --------------   -----         \n",
      " 0   ride_id        153319 non-null  object        \n",
      " 1   rideable_type  153319 non-null  category      \n",
      " 2   started_at     153319 non-null  datetime64[ns]\n",
      " 3   ended_at       153319 non-null  datetime64[ns]\n",
      " 4   member_casual  153319 non-null  category      \n",
      " 5   duration_min   153319 non-null  float64       \n",
      " 6   date_rented    153319 non-null  object        \n",
      " 7   day_rented     153319 non-null  category      \n",
      " 8   time_rented    153319 non-null  object        \n",
      "dtypes: category(3), datetime64[ns](2), float64(1), object(3)\n",
      "memory usage: 8.6+ MB\n"
     ]
    }
   ],
   "source": [
    "print(bike_cleaned['duration_min'].describe()) # only day use to be discussed \n",
    "bike_cleaned.info()"
   ]
  },
  {
   "cell_type": "markdown",
   "metadata": {},
   "source": [
    "--- \n",
    "### Distribution of Trip Duration (min)\n",
    "\n",
    "Only single day bike use is included."
   ]
  },
  {
   "cell_type": "code",
   "execution_count": 43,
   "metadata": {
    "scrolled": false
   },
   "outputs": [
    {
     "data": {
      "image/png": "[encoded data removed]",
      "text/plain": [
       "<Figure size 432x288 with 1 Axes>"
      ]
     },
     "metadata": {
      "needs_background": "light"
     },
     "output_type": "display_data"
    }
   ],
   "source": [
    "bin_edges = np.arange(0, bike_cleaned['duration_min'].max() + 1, 1)\n",
    "plt.hist(bike_cleaned['duration_min'], bins = bin_edges);"
   ]
  },
  {
   "cell_type": "markdown",
   "metadata": {},
   "source": [
    "However, as seen above the distribution of trip duration (min) is extremely skewed to right even after removing outliers.\n",
    "Therefore, **log scale** is applied as below. "
   ]
  },
  {
   "cell_type": "code",
   "execution_count": 44,
   "metadata": {
    "scrolled": false
   },
   "outputs": [
    {
     "data": {
      "image/png": "[encoded data removed]",
      "text/plain": [
       "<Figure size 576x288 with 1 Axes>"
      ]
     },
     "metadata": {
      "needs_background": "light"
     },
     "output_type": "display_data"
    }
   ],
   "source": [
    "log_data = np.log10(bike_cleaned['duration_min'])\n",
    "bin_edges = 10 ** np.arange(0, log_data.max() + 0.1, 0.1)\n",
    "\n",
    "plt.figure(figsize = [8,4])\n",
    "\n",
    "plt.hist(bike_cleaned['duration_min'], bins = bin_edges);\n",
    "plt.xscale('log');\n",
    "tick_prop = [1, 3, 10, 30, 100, 300, 1000, 3e3]\n",
    "tick_label = ['1', '3', '10', '30', '100', '300', '1k', '3k']\n",
    "plt.xticks(tick_prop, tick_label);\n",
    "\n",
    "plt.title('Baywheels Trip Duration\\nSanfrancisco Bay Area, June 2020')\n",
    "plt.xlabel('Trip duration (min)')\n",
    "plt.ylabel('Frequency');"
   ]
  },
  {
   "cell_type": "code",
   "execution_count": 45,
   "metadata": {},
   "outputs": [
    {
     "data": {
      "text/plain": [
       "count    153319.000000\n",
       "mean         20.890795\n",
       "std          36.030339\n",
       "min           1.016667\n",
       "25%           7.833333\n",
       "50%          13.616667\n",
       "75%          23.716667\n",
       "max        1437.833333\n",
       "Name: duration_min, dtype: float64"
      ]
     },
     "execution_count": 45,
     "metadata": {},
     "output_type": "execute_result"
    }
   ],
   "source": [
    "bike_cleaned['duration_min'].describe()"
   ]
  },
  {
   "cell_type": "markdown",
   "metadata": {},
   "source": [
    "The above log scaled histgram shows unimodal distribution, slightly skewed to right. \n",
    "\n",
    "For a single trip, the median trip duration is close to 14 minutes, with over 75% of the users rent bike for 24 minutes."
   ]
  },
  {
   "cell_type": "markdown",
   "metadata": {},
   "source": [
    "### Exploring into bike rentals by date, days and time"
   ]
  },
  {
   "cell_type": "markdown",
   "metadata": {},
   "source": [
    "Firstly rearrange the order of date for 'date_rented' and 'time_rented' column and draw a bar chart to see number of rentals per date in June 2020."
   ]
  },
  {
   "cell_type": "code",
   "execution_count": 46,
   "metadata": {},
   "outputs": [],
   "source": [
    "date_order = [str(i) for i in np.arange(1, 31, 1)]\n",
    "date_category = pd.api.types.CategoricalDtype(categories = date_order)\n",
    "bike_cleaned['date_rented'] = bike_cleaned['date_rented'].astype(date_category)"
   ]
  },
  {
   "cell_type": "code",
   "execution_count": 47,
   "metadata": {},
   "outputs": [],
   "source": [
    "time_order = [str(i) for i in np.arange(0, 25, 1)]\n",
    "time_category = pd.api.types.CategoricalDtype(categories = time_order)\n",
    "bike_cleaned['time_rented'] = bike_cleaned['time_rented'].astype(time_category)"
   ]
  },
  {
   "cell_type": "code",
   "execution_count": 48,
   "metadata": {
    "scrolled": true
   },
   "outputs": [
    {
     "data": {
      "image/png": "[encoded data removed]",
      "text/plain": [
       "<Figure size 720x288 with 1 Axes>"
      ]
     },
     "metadata": {
      "needs_background": "light"
     },
     "output_type": "display_data"
    }
   ],
   "source": [
    "base_color = sns.color_palette()[0]\n",
    "\n",
    "plt.figure(figsize = [10, 4])\n",
    "\n",
    "sns.countplot(bike_cleaned['date_rented'], color = base_color);\n",
    "plt.xlabel('')\n",
    "plt.ylabel('')\n",
    "plt.title('Number of Rentals by Date\\nJune 2020');"
   ]
  },
  {
   "cell_type": "code",
   "execution_count": 49,
   "metadata": {},
   "outputs": [
    {
     "data": {
      "image/png": "[encoded data removed]",
      "text/plain": [
       "<Figure size 720x288 with 1 Axes>"
      ]
     },
     "metadata": {
      "needs_background": "light"
     },
     "output_type": "display_data"
    }
   ],
   "source": [
    "base_color = sns.color_palette()[0]\n",
    "\n",
    "plt.figure(figsize = [10, 4])\n",
    "\n",
    "sns.countplot(bike_cleaned['day_rented'], color = base_color);\n",
    "plt.xlabel('')\n",
    "plt.ylabel('')\n",
    "plt.title('Number of Rentals by Day\\nJune 2020');"
   ]
  },
  {
   "cell_type": "markdown",
   "metadata": {},
   "source": [
    "Axis labels are exlcuded as the title and graph is straightforward.\n",
    "\n",
    "The number of rentals in June 2018 is quite consistent above 4000 / day, with the hightest ridership recorded on 3, 6, 13 June, reaching nearly 7000 / day. \n",
    "\n",
    "Ridership is the highest on Saturdays, and the lowest on Thursdays."
   ]
  },
  {
   "cell_type": "code",
   "execution_count": 50,
   "metadata": {},
   "outputs": [
    {
     "data": {
      "image/png": "[encoded data removed]",
      "text/plain": [
       "<Figure size 720x288 with 1 Axes>"
      ]
     },
     "metadata": {
      "needs_background": "light"
     },
     "output_type": "display_data"
    }
   ],
   "source": [
    "base_color = sns.color_palette()[0]\n",
    "plt.figure(figsize = [10, 4])\n",
    "\n",
    "sns.countplot(bike_cleaned['time_rented'], color = base_color);\n",
    "plt.xlabel('Time of rental')\n",
    "plt.ylabel('')\n",
    "plt.title('Number of Bike Rentals by time');"
   ]
  },
  {
   "cell_type": "markdown",
   "metadata": {},
   "source": [
    "During the day, the ridership shows a constant increase from 6am till it peaks at 17-18pm. Still there is demand for bike rentals from 18 - 21pm, after which becomes the least throughout the night time until 6am.  "
   ]
  },
  {
   "cell_type": "markdown",
   "metadata": {},
   "source": [
    "### Exploring supporting variables 'rideable_type' and 'member_casual'\n",
    "\n",
    "These two features are key to understand performance by product (rideable_type) and customer (member or not) later with bivariate exploaration."
   ]
  },
  {
   "cell_type": "code",
   "execution_count": 51,
   "metadata": {},
   "outputs": [],
   "source": [
    "n_total = bike_cleaned.shape[0]\n",
    "btype_counts = bike_cleaned['rideable_type'].value_counts()\n",
    "btype_order = btype_counts.index"
   ]
  },
  {
   "cell_type": "code",
   "execution_count": 64,
   "metadata": {},
   "outputs": [
    {
     "data": {
      "image/png": "[encoded data removed]",
      "text/plain": [
       "<Figure size 576x288 with 1 Axes>"
      ]
     },
     "metadata": {
      "needs_background": "light"
     },
     "output_type": "display_data"
    }
   ],
   "source": [
    "plt.figure(figsize = [8, 4])\n",
    "base_color = sns.color_palette()[0]\n",
    "\n",
    "sns.countplot(bike_cleaned['rideable_type'], color = base_color, order = btype_order); \n",
    "plt.xlabel('')\n",
    "plt.ylabel('')\n",
    "plt.title('Number of Rental by Bike Type');\n",
    "\n",
    "for i in range(btype_counts.shape[0]):\n",
    "    count = btype_counts.values[i]\n",
    "    pct_string = '{:0.2f}%'.format(100 * count / n_total)\n",
    "    plt.text(i, count - 10000, pct_string, va = 'center', ha = 'center',\n",
    "             bbox = dict(facecolor='white', alpha=0.5)) \n",
    "    "
   ]
  },
  {
   "cell_type": "markdown",
   "metadata": {},
   "source": [
    "Around 69% of the rentals were electric bikes as opposed to 31% of docked bikes.\n",
    "\n"
   ]
  },
  {
   "cell_type": "code",
   "execution_count": 53,
   "metadata": {},
   "outputs": [],
   "source": [
    "n_total = bike_cleaned.shape[0]\n",
    "ctype_counts = bike_cleaned['member_casual'].value_counts()\n",
    "ctype_order = ctype_counts.index"
   ]
  },
  {
   "cell_type": "code",
   "execution_count": 54,
   "metadata": {},
   "outputs": [
    {
     "data": {
      "image/png": "[encoded data removed]",
      "text/plain": [
       "<Figure size 576x288 with 1 Axes>"
      ]
     },
     "metadata": {
      "needs_background": "light"
     },
     "output_type": "display_data"
    }
   ],
   "source": [
    "plt.figure(figsize = [8, 4])\n",
    "base_color = sns.color_palette()[0]\n",
    "\n",
    "sns.countplot(bike_cleaned['member_casual'], color = base_color, order = ctype_order); \n",
    "plt.xlabel('')\n",
    "plt.ylabel('')\n",
    "plt.title('Number of Rental by Cutomer Type');\n",
    "\n",
    "for i in range(ctype_counts.shape[0]):\n",
    "    count = ctype_counts.values[i]\n",
    "    pct_string = '{:0.2f}%'.format(100 * count / n_total)\n",
    "    plt.text(i, count - 10000, pct_string, va = 'center', ha = 'center', \n",
    "             bbox = dict(facecolor='white', alpha=0.5))   "
   ]
  },
  {
   "cell_type": "markdown",
   "metadata": {},
   "source": [
    "When it comes to customer type, members account for 40% of users and the rest 60% are casual users."
   ]
  },
  {
   "cell_type": "markdown",
   "metadata": {},
   "source": [
    "### Discuss the distribution(s) of your variable(s) of interest. Were there any unusual points? Did you need to perform any transformations?\n",
    "\n",
    "> **`'Duration_min'`** variable is created by difference between the existing 'started_at' and 'ended_at' features indicating trip time, and is the key variable of interest. The distribution is extremely skewed to right even after removing outliers so log scale was used to improve representation.\n",
    "\n",
    "### Of the features you investigated, were there any unusual distributions? Did you perform any operations on the data to tidy, adjust, or change the form of the data? If so, why did you do this?\n",
    "\n",
    "> Roughly 2.8% of dataset showed trip duration less than 1 minute, which is odd. Although exact parameters are unknowned, all the entries with less than 1minute trip duration was therefore removed. In addition, 293 dataset had trip duration more than 1 day, which is likely but treated as outliers to be excluded. In conclusion, only single day trip more than 1 minute of use case will be discussed for this analysis."
   ]
  },
  {
   "cell_type": "markdown",
   "metadata": {},
   "source": [
    "---\n",
    "<a id = 'bivariate'></a>\n",
    "## `2.2` Bivariate Exploration\n",
    "\n",
    "> In this section, investigate relationships between pairs of variables in your\n",
    "data. Make sure the variables that you cover here have been introduced in some\n",
    "fashion in the previous section (univariate exploration)."
   ]
  },
  {
   "cell_type": "markdown",
   "metadata": {},
   "source": [
    "### Exploring relationship between bike type and trip duration"
   ]
  },
  {
   "cell_type": "code",
   "execution_count": 55,
   "metadata": {},
   "outputs": [
    {
     "data": {
      "image/png": "[encoded data removed]",
      "text/plain": [
       "<Figure size 576x288 with 1 Axes>"
      ]
     },
     "metadata": {
      "needs_background": "light"
     },
     "output_type": "display_data"
    }
   ],
   "source": [
    "plt.figure(figsize = [8, 4])\n",
    "\n",
    "sns.violinplot(data = bike_cleaned, x = 'rideable_type', y = 'duration_min', \n",
    "               inner = 'quartile');\n",
    "\n",
    "plt.ylim([-20, 100]);\n",
    "plt.xlabel('')\n",
    "plt.ylabel('')\n",
    "plt.title('Is there any difference in trip duration per product type?');\n",
    "plt.ylabel('Minute');"
   ]
  },
  {
   "cell_type": "markdown",
   "metadata": {},
   "source": [
    "More than 75% reported the trip duration below 40 minutes for both docked bike and electric bike, with the trip duration for lowest 25% is roughly bleow 10 minutes. There is no much of noticeable difference bewteen the two bike types in terms of trip duration."
   ]
  },
  {
   "cell_type": "markdown",
   "metadata": {},
   "source": [
    "### Exploring relationship between customer type and trip duration"
   ]
  },
  {
   "cell_type": "code",
   "execution_count": 56,
   "metadata": {
    "scrolled": true
   },
   "outputs": [
    {
     "data": {
      "image/png": "[encoded data removed]",
      "text/plain": [
       "<Figure size 576x288 with 1 Axes>"
      ]
     },
     "metadata": {
      "needs_background": "light"
     },
     "output_type": "display_data"
    }
   ],
   "source": [
    "plt.figure(figsize = [8, 4])\n",
    "\n",
    "sns.violinplot(data = bike_cleaned, x = 'member_casual', y = 'duration_min', \n",
    "               inner = 'quartile');\n",
    "\n",
    "plt.ylim([-20, 100]);\n",
    "plt.xlabel('')\n",
    "plt.ylabel('')\n",
    "plt.title('Is there any difference in trip duration per customer type?');\n",
    "plt.ylabel('Minute');"
   ]
  },
  {
   "cell_type": "markdown",
   "metadata": {},
   "source": [
    "The median (50%) trip duration is below 20 minues for both casual user and member. \n",
    "\n",
    "There is no noticeable difference between casual and member in terms of trip duration either. \n",
    "\n",
    "Third quantitle (75% of the observation) lie higher in casual than member, suggesting casual user may ride longer than member."
   ]
  },
  {
   "cell_type": "markdown",
   "metadata": {},
   "source": [
    "### Exploring trip duration on weekends vs weekdays"
   ]
  },
  {
   "cell_type": "code",
   "execution_count": 57,
   "metadata": {
    "scrolled": true
   },
   "outputs": [
    {
     "data": {
      "image/png": "[encoded data removed]",
      "text/plain": [
       "<Figure size 720x288 with 1 Axes>"
      ]
     },
     "metadata": {
      "needs_background": "light"
     },
     "output_type": "display_data"
    }
   ],
   "source": [
    "base_color = sns.color_palette()[0]\n",
    "plt.figure(figsize = [10, 4])\n",
    "\n",
    "sns.boxplot(data = bike_cleaned, x = 'day_rented', y = 'duration_min', color = base_color)\n",
    "\n",
    "plt.ylim([0, 50])\n",
    "plt.xlabel('')\n",
    "plt.ylabel('')\n",
    "plt.title('Is there any difference in trip duration bewteen weekends and weekdays?');\n",
    "plt.ylabel('Minute');"
   ]
  },
  {
   "cell_type": "markdown",
   "metadata": {},
   "source": [
    "It is weekends that trip duration slightly increases compared to weekdays."
   ]
  },
  {
   "cell_type": "markdown",
   "metadata": {},
   "source": [
    "### Exploring relationship between bike type and customer type"
   ]
  },
  {
   "cell_type": "code",
   "execution_count": 58,
   "metadata": {},
   "outputs": [],
   "source": [
    "categorical_variables = bike_cleaned.groupby(['member_casual', 'rideable_type']).size()\n",
    "categorical_variables = categorical_variables.reset_index(name = 'count')\n",
    "categorical_variables = categorical_variables.pivot(index = 'member_casual', columns = 'rideable_type', values = 'count')"
   ]
  },
  {
   "cell_type": "code",
   "execution_count": 71,
   "metadata": {
    "scrolled": false
   },
   "outputs": [
    {
     "data": {
      "image/png": "[encoded data removed]",
      "text/plain": [
       "<Figure size 432x288 with 2 Axes>"
      ]
     },
     "metadata": {
      "needs_background": "light"
     },
     "output_type": "display_data"
    }
   ],
   "source": [
    "plt.figure(figsize = [6, 4])\n",
    "\n",
    "sns.heatmap(categorical_variables, annot = True, fmt = 'd', cmap = 'rocket_r');\n",
    "plt.title('Bike Rentals per Bike Type\\n and Customer');"
   ]
  },
  {
   "cell_type": "code",
   "execution_count": 75,
   "metadata": {},
   "outputs": [
    {
     "data": {
      "image/png": "[encoded data removed]",
      "text/plain": [
       "<Figure size 720x432 with 1 Axes>"
      ]
     },
     "metadata": {
      "needs_background": "light"
     },
     "output_type": "display_data"
    }
   ],
   "source": [
    "plt.figure(figsize = [10, 6])\n",
    "\n",
    "sns.countplot(data = bike_cleaned, x = 'rideable_type', hue = 'member_casual');\n",
    "plt.legend(loc = 8, ncol = 3, framealpha = 0.8, title = 'bike type');\n",
    "plt.title('Docked and Electric Bike Rentals per Customer Type')\n",
    "plt.ylabel('Number of Rentals');"
   ]
  },
  {
   "cell_type": "markdown",
   "metadata": {},
   "source": [
    "In a relationship bewteen bike and customer type, the most bike rentals was made for electric bike by casual users. Casual users are more likely to ride electric bikes than members. For docked bikes, there is no big difference in use between casual and members.\n",
    "\n",
    "Both casual users and members rode more electric bikes than docked bikes. The question now is if customers ride longer trip duration with electric bikes, which is to be explored with multivariate charts. "
   ]
  },
  {
   "cell_type": "markdown",
   "metadata": {},
   "source": [
    "### Talk about some of the relationships you observed in this part of the investigation. How did the feature(s) of interest vary with other features in the dataset?\n",
    "\n",
    "> It is not obvious to tell the difference bewteen docked bike and electric bike in terms of trip duration. Plus, trip duration does not vary between member and casual users. On the other hand, there was a slight difference in trip duration between weekends and weekday; where users on weekends are a bit more likely to rent bikes longer.\n",
    "\n",
    "### Did you observe any interesting relationships between the other features (not the main feature(s) of interest)?\n",
    "\n",
    "> The relationship bewteen bike and custome type was explored. Casual users are more likely to ride electric bikes than members, whilst there is no difference in use between the two customer type for docked bikes. Electric bikes are rented more than docked bikes. Whether users on electric bikes rent longer or not will be discussed in the following multivariate exploration."
   ]
  },
  {
   "cell_type": "markdown",
   "metadata": {},
   "source": [
    "---\n",
    "<a id = 'multivariate'></a>\n",
    "## `2.3` Multivariate Exploration\n",
    "\n",
    "> Create plots of three or more variables to investigate your data even\n",
    "further. Make sure that your investigations are justified, and follow from\n",
    "your work in the previous sections."
   ]
  },
  {
   "cell_type": "markdown",
   "metadata": {},
   "source": [
    "### How long do electric bike users rent?"
   ]
  },
  {
   "cell_type": "code",
   "execution_count": 60,
   "metadata": {},
   "outputs": [
    {
     "data": {
      "image/png": "[encoded data removed]",
      "text/plain": [
       "<Figure size 576x576 with 4 Axes>"
      ]
     },
     "metadata": {
      "needs_background": "light"
     },
     "output_type": "display_data"
    }
   ],
   "source": [
    "log_data = np.log10(bike_cleaned['duration_min'])\n",
    "bins_edges = 10 ** np.arange(0, log_data.max() + 0.1, 0.1)\n",
    "\n",
    "g = sns.FacetGrid(data = bike_cleaned, col = 'rideable_type', row = 'member_casual',\n",
    "                  height = 4, aspect = 1, margin_titles = True)\n",
    "\n",
    "g.map(plt.hist, 'duration_min', bins = bins_edges).set(yscale = 'log');\n",
    "g.fig.subplots_adjust(top=0.9)\n",
    "g.fig.suptitle('Trip Duration Per Bike Type and Customer Type ', fontsize=12);"
   ]
  },
  {
   "cell_type": "markdown",
   "metadata": {},
   "source": [
    "From the earlier finding, we know that users rode more electric bikes than docked bikes. \n",
    "\n",
    "However, trip duration seems less for electric bikes. There is no case that eletric bikes are rented longer than 500 minutes (over 8 hours), whereas docked bikes are rented longer than 500 minutes in many cases."
   ]
  },
  {
   "cell_type": "markdown",
   "metadata": {},
   "source": [
    "### How long is trip duration per bike or user type, across days?"
   ]
  },
  {
   "cell_type": "code",
   "execution_count": 67,
   "metadata": {
    "scrolled": true
   },
   "outputs": [
    {
     "data": {
      "image/png": "[encoded data removed]",
      "text/plain": [
       "<Figure size 720x288 with 1 Axes>"
      ]
     },
     "metadata": {
      "needs_background": "light"
     },
     "output_type": "display_data"
    }
   ],
   "source": [
    "plt.figure(figsize = [10, 4])\n",
    "\n",
    "sns.barplot(data = bike_cleaned, x = 'day_rented', y = 'duration_min', \n",
    "            hue = 'rideable_type', palette = 'muted')\n",
    "plt.legend(loc = 8, ncol = 3, framealpha = 0.8, title = 'bike type')\n",
    "plt.title('Trip Duration by Bike Type across days of week')\n",
    "plt.xticks(rotation = 30);"
   ]
  },
  {
   "cell_type": "markdown",
   "metadata": {},
   "source": [
    "It is apparent that docked bike has longer trip duration than electric bikes, and the trend is consistent across days. Both docked and electric bike have slightly longer duration on weekends than weekdays."
   ]
  },
  {
   "cell_type": "code",
   "execution_count": 66,
   "metadata": {},
   "outputs": [
    {
     "data": {
      "image/png": "[encoded data removed]",
      "text/plain": [
       "<Figure size 720x288 with 1 Axes>"
      ]
     },
     "metadata": {
      "needs_background": "light"
     },
     "output_type": "display_data"
    }
   ],
   "source": [
    "plt.figure(figsize = [10, 4])\n",
    "\n",
    "sns.barplot(data = bike_cleaned, x = 'day_rented', y = 'duration_min', \n",
    "              hue = 'member_casual', palette = 'colorblind')\n",
    "plt.legend(loc = 8, ncol = 3, framealpha = 0.8, title = 'user type')\n",
    "plt.title('Trip Duration by Customer Type across days of week')\n",
    "plt.xticks(rotation = 30);"
   ]
  },
  {
   "cell_type": "markdown",
   "metadata": {},
   "source": [
    "Both casual and member are litekly to rent bikes longer on weekends than on weekdays, whereas the degree of difference is more noticeable for casual users. "
   ]
  },
  {
   "cell_type": "markdown",
   "metadata": {},
   "source": [
    "### Talk about some of the relationships you observed in this part of the investigation. Were there features that strengthened each other in terms of looking at your feature(s) of interest?\n",
    "\n",
    "> When duration time is considered, users on electric bikes have shorter trip time than those on docked bikes. This relationship was more apparent on the cluster bar chart across days. \n",
    "\n",
    "### Were there any interesting or surprising interactions between features?\n",
    "\n",
    "> It draws attention that electric bikes have shorter duration when users are more likely to rent the kind. It will also be interesting to find the reason that the trip duration of electric bikes always fall under 500 minutes (approximately 8 hour level)."
   ]
  },
  {
   "cell_type": "markdown",
   "metadata": {},
   "source": [
    "> At the end of your report, make sure that you export the notebook as an\n",
    "html file from the `File > Download as... > HTML` menu. Make sure you keep\n",
    "track of where the exported file goes, so you can put it in the same folder\n",
    "as this notebook for project submission. Also, make sure you remove all of\n",
    "the quote-formatted guide notes like this one before you finish your report!"
   ]
  },
  {
   "cell_type": "markdown",
   "metadata": {},
   "source": [
    "##### Click [here](#start) to go back to the table of contents."
   ]
  }
 ],
 "metadata": {
  "kernelspec": {
   "display_name": "Python 3",
   "language": "python",
   "name": "python3"
  },
  "language_info": {
   "codemirror_mode": {
    "name": "ipython",
    "version": 3
   },
   "file_extension": ".py",
   "mimetype": "text/x-python",
   "name": "python",
   "nbconvert_exporter": "python",
   "pygments_lexer": "ipython3",
   "version": "3.7.6"
  }
 },
 "nbformat": 4,
 "nbformat_minor": 2
}
