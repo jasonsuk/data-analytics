{
 "cells": [
  {
   "cell_type": "markdown",
   "metadata": {},
   "source": [
    "## Project Objective: \n",
    "Analyze and compare local and global temperature trend. \n",
    "\n",
    "Seoul, the capital city of South Korea, is chosen as the local city of interest.\n",
    "\n",
    "by Junghoon Suk\n"
   ]
  },
  {
   "cell_type": "markdown",
   "metadata": {},
   "source": [
    "---\n",
    "### Overview\n",
    "- Method used: Python Pandas library to calculate moving average and Matplotlib to plot a line chart for time series data.\n",
    "- Data sourced: A csv file obtained from a Postgre SQL e-database, provided on Udacity platform."
   ]
  },
  {
   "cell_type": "code",
   "execution_count": 11,
   "metadata": {},
   "outputs": [],
   "source": [
    "import pandas as pd\n",
    "import numpy as np\n",
    "import matplotlib.pyplot as plt"
   ]
  },
  {
   "cell_type": "code",
   "execution_count": 2,
   "metadata": {
    "scrolled": false
   },
   "outputs": [
    {
     "name": "stdout",
     "output_type": "stream",
     "text": [
      "<class 'pandas.core.frame.DataFrame'>\n",
      "RangeIndex: 175 entries, 0 to 174\n",
      "Data columns (total 5 columns):\n",
      " #   Column           Non-Null Count  Dtype  \n",
      "---  ------           --------------  -----  \n",
      " 0   year             175 non-null    int64  \n",
      " 1   city             175 non-null    object \n",
      " 2   country          175 non-null    object \n",
      " 3   avg_local_temp   175 non-null    float64\n",
      " 4   avg_global_temp  175 non-null    float64\n",
      "dtypes: float64(2), int64(1), object(2)\n",
      "memory usage: 7.0+ KB\n",
      "None\n"
     ]
    },
    {
     "data": {
      "text/html": [
       "<div>\n",
       "<style scoped>\n",
       "    .dataframe tbody tr th:only-of-type {\n",
       "        vertical-align: middle;\n",
       "    }\n",
       "\n",
       "    .dataframe tbody tr th {\n",
       "        vertical-align: top;\n",
       "    }\n",
       "\n",
       "    .dataframe thead th {\n",
       "        text-align: right;\n",
       "    }\n",
       "</style>\n",
       "<table border=\"1\" class=\"dataframe\">\n",
       "  <thead>\n",
       "    <tr style=\"text-align: right;\">\n",
       "      <th></th>\n",
       "      <th>year</th>\n",
       "      <th>city</th>\n",
       "      <th>country</th>\n",
       "      <th>avg_local_temp</th>\n",
       "      <th>avg_global_temp</th>\n",
       "    </tr>\n",
       "  </thead>\n",
       "  <tbody>\n",
       "    <tr>\n",
       "      <th>0</th>\n",
       "      <td>1839</td>\n",
       "      <td>Seoul</td>\n",
       "      <td>South Korea</td>\n",
       "      <td>9.47</td>\n",
       "      <td>7.63</td>\n",
       "    </tr>\n",
       "    <tr>\n",
       "      <th>1</th>\n",
       "      <td>1840</td>\n",
       "      <td>Seoul</td>\n",
       "      <td>South Korea</td>\n",
       "      <td>10.21</td>\n",
       "      <td>7.80</td>\n",
       "    </tr>\n",
       "    <tr>\n",
       "      <th>2</th>\n",
       "      <td>1841</td>\n",
       "      <td>Seoul</td>\n",
       "      <td>South Korea</td>\n",
       "      <td>9.44</td>\n",
       "      <td>7.69</td>\n",
       "    </tr>\n",
       "    <tr>\n",
       "      <th>3</th>\n",
       "      <td>1842</td>\n",
       "      <td>Seoul</td>\n",
       "      <td>South Korea</td>\n",
       "      <td>10.13</td>\n",
       "      <td>8.02</td>\n",
       "    </tr>\n",
       "    <tr>\n",
       "      <th>4</th>\n",
       "      <td>1843</td>\n",
       "      <td>Seoul</td>\n",
       "      <td>South Korea</td>\n",
       "      <td>10.33</td>\n",
       "      <td>8.17</td>\n",
       "    </tr>\n",
       "  </tbody>\n",
       "</table>\n",
       "</div>"
      ],
      "text/plain": [
       "   year   city      country  avg_local_temp  avg_global_temp\n",
       "0  1839  Seoul  South Korea            9.47             7.63\n",
       "1  1840  Seoul  South Korea           10.21             7.80\n",
       "2  1841  Seoul  South Korea            9.44             7.69\n",
       "3  1842  Seoul  South Korea           10.13             8.02\n",
       "4  1843  Seoul  South Korea           10.33             8.17"
      ]
     },
     "execution_count": 2,
     "metadata": {},
     "output_type": "execute_result"
    }
   ],
   "source": [
    "weather = pd.read_csv('weather_seoul.csv')\n",
    "print(weather.info())\n",
    "weather.head()"
   ]
  },
  {
   "cell_type": "markdown",
   "metadata": {},
   "source": [
    "#### Content\n",
    "\n",
    "SQL LEFT JOIN was used to combine local and global temperature.\n",
    "A cleaning is required to ensure data quality and tidiness issues.\n",
    "\n",
    "- year: year that tempearture is measured\n",
    "- city: local city of interest\n",
    "- country: local country of interest\n",
    "- avg_temp: average local temperature in a given year\n",
    "- avg_temp.1: average global temperature in a given year\n"
   ]
  },
  {
   "cell_type": "markdown",
   "metadata": {},
   "source": [
    "### Assessment and Cleaning"
   ]
  },
  {
   "cell_type": "markdown",
   "metadata": {},
   "source": [
    "There is no big quality and tidiness issue found, other than datatype of 'year' feature. I will keep the dataset as it is for now."
   ]
  },
  {
   "cell_type": "markdown",
   "metadata": {},
   "source": [
    "### Calculating the moving average"
   ]
  },
  {
   "cell_type": "code",
   "execution_count": 3,
   "metadata": {},
   "outputs": [
    {
     "data": {
      "text/plain": [
       "175"
      ]
     },
     "execution_count": 3,
     "metadata": {},
     "output_type": "execute_result"
    }
   ],
   "source": [
    "len(weather)"
   ]
  },
  {
   "cell_type": "code",
   "execution_count": 4,
   "metadata": {},
   "outputs": [],
   "source": [
    "weather['10yrMA_local_temp'] = weather['avg_local_temp'].rolling(10).mean()\n",
    "weather['10yrMA_global_temp'] = weather['avg_global_temp'].rolling(10).mean()"
   ]
  },
  {
   "cell_type": "code",
   "execution_count": 5,
   "metadata": {},
   "outputs": [
    {
     "data": {
      "text/html": [
       "<div>\n",
       "<style scoped>\n",
       "    .dataframe tbody tr th:only-of-type {\n",
       "        vertical-align: middle;\n",
       "    }\n",
       "\n",
       "    .dataframe tbody tr th {\n",
       "        vertical-align: top;\n",
       "    }\n",
       "\n",
       "    .dataframe thead th {\n",
       "        text-align: right;\n",
       "    }\n",
       "</style>\n",
       "<table border=\"1\" class=\"dataframe\">\n",
       "  <thead>\n",
       "    <tr style=\"text-align: right;\">\n",
       "      <th></th>\n",
       "      <th>year</th>\n",
       "      <th>city</th>\n",
       "      <th>country</th>\n",
       "      <th>avg_local_temp</th>\n",
       "      <th>avg_global_temp</th>\n",
       "      <th>10yrMA_local_temp</th>\n",
       "      <th>10yrMA_global_temp</th>\n",
       "    </tr>\n",
       "  </thead>\n",
       "  <tbody>\n",
       "    <tr>\n",
       "      <th>0</th>\n",
       "      <td>1848</td>\n",
       "      <td>Seoul</td>\n",
       "      <td>South Korea</td>\n",
       "      <td>10.36</td>\n",
       "      <td>7.98</td>\n",
       "      <td>10.150</td>\n",
       "      <td>7.943</td>\n",
       "    </tr>\n",
       "    <tr>\n",
       "      <th>1</th>\n",
       "      <td>1849</td>\n",
       "      <td>Seoul</td>\n",
       "      <td>South Korea</td>\n",
       "      <td>10.39</td>\n",
       "      <td>7.98</td>\n",
       "      <td>10.242</td>\n",
       "      <td>7.978</td>\n",
       "    </tr>\n",
       "    <tr>\n",
       "      <th>2</th>\n",
       "      <td>1850</td>\n",
       "      <td>Seoul</td>\n",
       "      <td>South Korea</td>\n",
       "      <td>9.69</td>\n",
       "      <td>7.90</td>\n",
       "      <td>10.190</td>\n",
       "      <td>7.988</td>\n",
       "    </tr>\n",
       "    <tr>\n",
       "      <th>3</th>\n",
       "      <td>1851</td>\n",
       "      <td>Seoul</td>\n",
       "      <td>South Korea</td>\n",
       "      <td>9.33</td>\n",
       "      <td>8.18</td>\n",
       "      <td>10.179</td>\n",
       "      <td>8.037</td>\n",
       "    </tr>\n",
       "    <tr>\n",
       "      <th>4</th>\n",
       "      <td>1852</td>\n",
       "      <td>Seoul</td>\n",
       "      <td>South Korea</td>\n",
       "      <td>9.52</td>\n",
       "      <td>8.10</td>\n",
       "      <td>10.118</td>\n",
       "      <td>8.045</td>\n",
       "    </tr>\n",
       "    <tr>\n",
       "      <th>...</th>\n",
       "      <td>...</td>\n",
       "      <td>...</td>\n",
       "      <td>...</td>\n",
       "      <td>...</td>\n",
       "      <td>...</td>\n",
       "      <td>...</td>\n",
       "      <td>...</td>\n",
       "    </tr>\n",
       "    <tr>\n",
       "      <th>161</th>\n",
       "      <td>2009</td>\n",
       "      <td>Seoul</td>\n",
       "      <td>South Korea</td>\n",
       "      <td>11.84</td>\n",
       "      <td>9.51</td>\n",
       "      <td>11.809</td>\n",
       "      <td>9.493</td>\n",
       "    </tr>\n",
       "    <tr>\n",
       "      <th>162</th>\n",
       "      <td>2010</td>\n",
       "      <td>Seoul</td>\n",
       "      <td>South Korea</td>\n",
       "      <td>11.30</td>\n",
       "      <td>9.70</td>\n",
       "      <td>11.797</td>\n",
       "      <td>9.543</td>\n",
       "    </tr>\n",
       "    <tr>\n",
       "      <th>163</th>\n",
       "      <td>2011</td>\n",
       "      <td>Seoul</td>\n",
       "      <td>South Korea</td>\n",
       "      <td>11.12</td>\n",
       "      <td>9.52</td>\n",
       "      <td>11.749</td>\n",
       "      <td>9.554</td>\n",
       "    </tr>\n",
       "    <tr>\n",
       "      <th>164</th>\n",
       "      <td>2012</td>\n",
       "      <td>Seoul</td>\n",
       "      <td>South Korea</td>\n",
       "      <td>11.23</td>\n",
       "      <td>9.51</td>\n",
       "      <td>11.692</td>\n",
       "      <td>9.548</td>\n",
       "    </tr>\n",
       "    <tr>\n",
       "      <th>165</th>\n",
       "      <td>2013</td>\n",
       "      <td>Seoul</td>\n",
       "      <td>South Korea</td>\n",
       "      <td>12.12</td>\n",
       "      <td>9.61</td>\n",
       "      <td>11.724</td>\n",
       "      <td>9.556</td>\n",
       "    </tr>\n",
       "  </tbody>\n",
       "</table>\n",
       "<p>166 rows × 7 columns</p>\n",
       "</div>"
      ],
      "text/plain": [
       "     year   city      country  avg_local_temp  avg_global_temp  \\\n",
       "0    1848  Seoul  South Korea           10.36             7.98   \n",
       "1    1849  Seoul  South Korea           10.39             7.98   \n",
       "2    1850  Seoul  South Korea            9.69             7.90   \n",
       "3    1851  Seoul  South Korea            9.33             8.18   \n",
       "4    1852  Seoul  South Korea            9.52             8.10   \n",
       "..    ...    ...          ...             ...              ...   \n",
       "161  2009  Seoul  South Korea           11.84             9.51   \n",
       "162  2010  Seoul  South Korea           11.30             9.70   \n",
       "163  2011  Seoul  South Korea           11.12             9.52   \n",
       "164  2012  Seoul  South Korea           11.23             9.51   \n",
       "165  2013  Seoul  South Korea           12.12             9.61   \n",
       "\n",
       "     10yrMA_local_temp  10yrMA_global_temp  \n",
       "0               10.150               7.943  \n",
       "1               10.242               7.978  \n",
       "2               10.190               7.988  \n",
       "3               10.179               8.037  \n",
       "4               10.118               8.045  \n",
       "..                 ...                 ...  \n",
       "161             11.809               9.493  \n",
       "162             11.797               9.543  \n",
       "163             11.749               9.554  \n",
       "164             11.692               9.548  \n",
       "165             11.724               9.556  \n",
       "\n",
       "[166 rows x 7 columns]"
      ]
     },
     "execution_count": 5,
     "metadata": {},
     "output_type": "execute_result"
    }
   ],
   "source": [
    "weather_ma10 = weather.dropna().reset_index(drop = True)\n",
    "weather_ma10"
   ]
  },
  {
   "cell_type": "code",
   "execution_count": 6,
   "metadata": {},
   "outputs": [
    {
     "name": "stdout",
     "output_type": "stream",
     "text": [
      "1848 2013 165 33.0\n"
     ]
    }
   ],
   "source": [
    "start = min(weather_ma10.year)\n",
    "end = max(weather_ma10.year)\n",
    "range = end-start\n",
    "frequency = range / 5\n",
    "print(start, end, range, frequency)"
   ]
  },
  {
   "cell_type": "markdown",
   "metadata": {},
   "source": [
    "### Ploting moving average line charts"
   ]
  },
  {
   "cell_type": "code",
   "execution_count": 13,
   "metadata": {
    "scrolled": false
   },
   "outputs": [
    {
     "data": {
      "image/png": "[encoded data removed]",
      "text/plain": [
       "<Figure size 720x432 with 1 Axes>"
      ]
     },
     "metadata": {
      "needs_background": "light"
     },
     "output_type": "display_data"
    }
   ],
   "source": [
    "plt.figure(figsize = [10,6])\n",
    "\n",
    "plt.plot(weather_ma10['10yrMA_local_temp'], \n",
    "         c = 'orange', marker = 'o', ms = 2, ls = '--', label = 'Seoul')\n",
    "plt.plot(weather_ma10['10yrMA_global_temp'], \n",
    "         c = 'blue', marker = 'x', ms = 2, ls = ':', label = 'Global' )\n",
    "\n",
    "plt.title('Temperature Trend: Seoul, South Korea vs Global', fontsize = 16)\n",
    "plt.ylabel('Average Temperature (°C)\\n10-Year Moving Average', fontsize = 12)\n",
    "plt.xlabel('Period (Year 1839 - 2013)',fontsize = 12)\n",
    "plt.xticks(np.arange(0, 200, 25))\n",
    "plt.legend(prop={'size':12}, frameon = True, shadow = True, fancybox = True, framealpha = 1,\n",
    "           loc='best');"
   ]
  },
  {
   "cell_type": "markdown",
   "metadata": {},
   "source": [
    "For the past 175 years, the average temperature in Seoul shows a constant increase, which is same for the global temperature.\n",
    "\n",
    "The average temperature of Seoul in 2013 reached above 11.5°C as opposed to the near 10.0°C level in the starting year of 1839. The increase is around 1.5°C and is similar to the degree of rise observed in the global temperature trend (8.0°C to 9.5°°C).\n",
    "\n",
    "It is also noticeable the the graph looks steeper in recent 25 years for Seoul."
   ]
  },
  {
   "cell_type": "markdown",
   "metadata": {},
   "source": [
    "### Using scatterplot to visualize the relationship"
   ]
  },
  {
   "cell_type": "code",
   "execution_count": 14,
   "metadata": {},
   "outputs": [
    {
     "data": {
      "text/plain": [
       "0.696847570060853"
      ]
     },
     "execution_count": 14,
     "metadata": {},
     "output_type": "execute_result"
    }
   ],
   "source": [
    "corr = weather_ma10.corr().loc['avg_local_temp', 'avg_global_temp']\n",
    "corr"
   ]
  },
  {
   "cell_type": "code",
   "execution_count": 9,
   "metadata": {
    "scrolled": false
   },
   "outputs": [
    {
     "data": {
      "image/png": "[encoded data removed]",
      "text/plain": [
       "<Figure size 720x432 with 1 Axes>"
      ]
     },
     "metadata": {
      "needs_background": "light"
     },
     "output_type": "display_data"
    }
   ],
   "source": [
    "plt.figure(figsize = [10, 6])\n",
    "\n",
    "plt.scatter(data = weather_ma10, x = 'avg_local_temp', y = 'avg_global_temp');\n",
    "\n",
    "plt.title('Does Temperature in Seoul Follow Similar Trend \\nas The Gloal Temperature?', fontsize = 16)\n",
    "plt.ylabel('Average Global Temperature (°C)', fontsize = 12)\n",
    "plt.xlabel('Average Temperature in Seoul (°C)', fontsize = 12);\n",
    "plt.text(x = 9.1, y = 9.7, s = 'Correlation Coefficient = {:0.2f}'.format(corr));"
   ]
  },
  {
   "cell_type": "markdown",
   "metadata": {},
   "source": [
    "The average temperature in Seoul has a moderately, positive relationship with the global temperature. \n",
    "\n",
    "From the earlier time series chart, it is understood that temperatures in both Seoul and the global have a constant increasing trend, with the similar level of rise by 1.5 °C for the past 175 years. It is the degree of the rise or fall that seemingly differ every year."
   ]
  }
 ],
 "metadata": {
  "kernelspec": {
   "display_name": "Python 3",
   "language": "python",
   "name": "python3"
  },
  "language_info": {
   "codemirror_mode": {
    "name": "ipython",
    "version": 3
   },
   "file_extension": ".py",
   "mimetype": "text/x-python",
   "name": "python",
   "nbconvert_exporter": "python",
   "pygments_lexer": "ipython3",
   "version": "3.7.6"
  }
 },
 "nbformat": 4,
 "nbformat_minor": 4
}
