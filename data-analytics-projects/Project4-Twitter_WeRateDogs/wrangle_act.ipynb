{
 "cells": [
  {
   "cell_type": "markdown",
   "metadata": {},
   "source": [
    "## Context\n",
    "Your goal: wrangle WeRateDogs Twitter data to create interesting and trustworthy analyses and visualizations. The Twitter archive is great, but it only contains very basic tweet information. Additional gathering, then assessing and cleaning is required for \"Wow!\"-worthy analyses and visualizations."
   ]
  },
  {
   "cell_type": "markdown",
   "metadata": {},
   "source": [
    "## Key Points\n",
    "Key points to keep in mind when data wrangling for this project:\n",
    "\n",
    "- You only want original ratings (no retweets) that have images. Though there are 5000+ tweets in the dataset, not all are dog ratings and some are retweets.\n",
    "- Assessing and cleaning the entire dataset completely would require a lot of time, and is not necessary to practice and demonstrate your skills in data wrangling. Therefore, the requirements of this project are **only to assess and clean at least 8 quality issues and at least 2 tidiness issues** in this dataset.\n",
    "- Cleaning includes merging individual pieces of data according to the rules of tidy data.\n",
    "- The fact that the rating numerators are greater than the denominators does not need to be cleaned. This unique rating system is a big part of the popularity of WeRateDogs.\n",
    "- You do **not** need to gather the tweets **beyond August 1st, 2017**. You can, but note that you won't be able to gather the image predictions for these tweets since you don't have access to the algorithm used.\n"
   ]
  },
  {
   "cell_type": "markdown",
   "metadata": {},
   "source": [
    "## Project Details\n",
    "Your tasks in this project are as follows:\n",
    "\n",
    "Data wrangling, which consists of:\n",
    "\n",
    "- Gathering data (downloadable file in the Resources tab in the left most panel of your classroom and linked in step 1 below).\n",
    "- Assessing data\n",
    "- Cleaning data\n",
    "- Storing, analyzing, and visualizing your wrangled data\n",
    "\n",
    "Reporting on 1) your data wrangling efforts and 2) your data analyses and visualizations"
   ]
  },
  {
   "cell_type": "markdown",
   "metadata": {},
   "source": [
    "---\n",
    "## Project Works from here\n",
    "\n",
    "<a id = 'workflow'></a>\n",
    "### Table of Contents (Workflow):\n",
    "\n",
    "- [Gathering data](#gather)\n",
    "- [Assessing data](#assess)\n",
    "    - [Summary after assessment](#summary)\n",
    "- [Cleaning data](#cleaning)\n",
    "    - [Tidiness Issues](#tidy)\n",
    "    - [Quality Issues](#quality)\n",
    "- [Storing data](#store)\n",
    "- [Analyzing and visualizing data](#analysis)"
   ]
  },
  {
   "cell_type": "markdown",
   "metadata": {},
   "source": [
    "<a id = 'gather'></a>\n",
    "## Gathering Data for this Project\n",
    "\n",
    "Gather each of the three pieces of data as described below in a Jupyter Notebook titled **wrangle_act.ipynb**:\n",
    "\n",
    "`1.` The WeRateDogs Twitter archive. I am giving this file to you, so imagine it as a file on hand. Download this file manually by clicking the following link: **twitter_archive_enhanced.csv**\n",
    "\n",
    "`2.` The tweet image predictions, i.e., what breed of dog (or other object, animal, etc.) is present in each tweet according to a neural network. This file (image_predictions.tsv) is hosted on Udacity's servers and should be downloaded programmatically using the Requests library and the following URL: https://d17h27t6h515a5.cloudfront.net/topher/2017/August/599fd2ad_image-predictions/image-predictions.tsv\n",
    "\n",
    "`3.` Each tweet's retweet count and favorite (\"like\") count at minimum, and any additional data you find interesting. Using the tweet IDs in the WeRateDogs Twitter archive, query the Twitter API for each tweet's JSON data using Python's **Tweepy** library and store each tweet's entire set of JSON data in a file called **tweet_json.txt** file. Each tweet's JSON data should be written to its own line. Then read this .txt file line by line into a pandas DataFrame with (at minimum) tweet ID, retweet count, and favorite count. Note: do not include your Twitter API keys, secrets, and tokens in your project submission."
   ]
  },
  {
   "cell_type": "code",
   "execution_count": 1,
   "metadata": {},
   "outputs": [],
   "source": [
    "import pandas as pd\n",
    "import numpy as np\n",
    "import requests\n",
    "import json\n",
    "import tweepy\n",
    "import re\n",
    "import matplotlib.pyplot as plt\n",
    "import seaborn as sns\n",
    "\n",
    "%matplotlib inline"
   ]
  },
  {
   "cell_type": "code",
   "execution_count": 2,
   "metadata": {},
   "outputs": [],
   "source": [
    "pd.options.display.min_rows = 999\n",
    "pd.options.display.max_columns = 999"
   ]
  },
  {
   "cell_type": "markdown",
   "metadata": {},
   "source": [
    "### `1.` gather a file on hand"
   ]
  },
  {
   "cell_type": "code",
   "execution_count": 3,
   "metadata": {},
   "outputs": [],
   "source": [
    "tweet_archive = pd.read_csv('data/twitter-archive-enhanced.csv')"
   ]
  },
  {
   "cell_type": "code",
   "execution_count": 4,
   "metadata": {
    "scrolled": true
   },
   "outputs": [
    {
     "data": {
      "text/html": [
       "<div>\n",
       "<style scoped>\n",
       "    .dataframe tbody tr th:only-of-type {\n",
       "        vertical-align: middle;\n",
       "    }\n",
       "\n",
       "    .dataframe tbody tr th {\n",
       "        vertical-align: top;\n",
       "    }\n",
       "\n",
       "    .dataframe thead th {\n",
       "        text-align: right;\n",
       "    }\n",
       "</style>\n",
       "<table border=\"1\" class=\"dataframe\">\n",
       "  <thead>\n",
       "    <tr style=\"text-align: right;\">\n",
       "      <th></th>\n",
       "      <th>tweet_id</th>\n",
       "      <th>in_reply_to_status_id</th>\n",
       "      <th>in_reply_to_user_id</th>\n",
       "      <th>timestamp</th>\n",
       "      <th>source</th>\n",
       "      <th>text</th>\n",
       "      <th>retweeted_status_id</th>\n",
       "      <th>retweeted_status_user_id</th>\n",
       "      <th>retweeted_status_timestamp</th>\n",
       "      <th>expanded_urls</th>\n",
       "      <th>rating_numerator</th>\n",
       "      <th>rating_denominator</th>\n",
       "      <th>name</th>\n",
       "      <th>doggo</th>\n",
       "      <th>floofer</th>\n",
       "      <th>pupper</th>\n",
       "      <th>puppo</th>\n",
       "    </tr>\n",
       "  </thead>\n",
       "  <tbody>\n",
       "    <tr>\n",
       "      <th>0</th>\n",
       "      <td>892420643555336193</td>\n",
       "      <td>NaN</td>\n",
       "      <td>NaN</td>\n",
       "      <td>2017-08-01 16:23:56 +0000</td>\n",
       "      <td>&lt;a href=\"http://twitter.com/download/iphone\" r...</td>\n",
       "      <td>This is Phineas. He's a mystical boy. Only eve...</td>\n",
       "      <td>NaN</td>\n",
       "      <td>NaN</td>\n",
       "      <td>NaN</td>\n",
       "      <td>https://twitter.com/dog_rates/status/892420643...</td>\n",
       "      <td>13</td>\n",
       "      <td>10</td>\n",
       "      <td>Phineas</td>\n",
       "      <td>None</td>\n",
       "      <td>None</td>\n",
       "      <td>None</td>\n",
       "      <td>None</td>\n",
       "    </tr>\n",
       "    <tr>\n",
       "      <th>1</th>\n",
       "      <td>892177421306343426</td>\n",
       "      <td>NaN</td>\n",
       "      <td>NaN</td>\n",
       "      <td>2017-08-01 00:17:27 +0000</td>\n",
       "      <td>&lt;a href=\"http://twitter.com/download/iphone\" r...</td>\n",
       "      <td>This is Tilly. She's just checking pup on you....</td>\n",
       "      <td>NaN</td>\n",
       "      <td>NaN</td>\n",
       "      <td>NaN</td>\n",
       "      <td>https://twitter.com/dog_rates/status/892177421...</td>\n",
       "      <td>13</td>\n",
       "      <td>10</td>\n",
       "      <td>Tilly</td>\n",
       "      <td>None</td>\n",
       "      <td>None</td>\n",
       "      <td>None</td>\n",
       "      <td>None</td>\n",
       "    </tr>\n",
       "    <tr>\n",
       "      <th>2</th>\n",
       "      <td>891815181378084864</td>\n",
       "      <td>NaN</td>\n",
       "      <td>NaN</td>\n",
       "      <td>2017-07-31 00:18:03 +0000</td>\n",
       "      <td>&lt;a href=\"http://twitter.com/download/iphone\" r...</td>\n",
       "      <td>This is Archie. He is a rare Norwegian Pouncin...</td>\n",
       "      <td>NaN</td>\n",
       "      <td>NaN</td>\n",
       "      <td>NaN</td>\n",
       "      <td>https://twitter.com/dog_rates/status/891815181...</td>\n",
       "      <td>12</td>\n",
       "      <td>10</td>\n",
       "      <td>Archie</td>\n",
       "      <td>None</td>\n",
       "      <td>None</td>\n",
       "      <td>None</td>\n",
       "      <td>None</td>\n",
       "    </tr>\n",
       "  </tbody>\n",
       "</table>\n",
       "</div>"
      ],
      "text/plain": [
       "             tweet_id  in_reply_to_status_id  in_reply_to_user_id  \\\n",
       "0  892420643555336193                    NaN                  NaN   \n",
       "1  892177421306343426                    NaN                  NaN   \n",
       "2  891815181378084864                    NaN                  NaN   \n",
       "\n",
       "                   timestamp  \\\n",
       "0  2017-08-01 16:23:56 +0000   \n",
       "1  2017-08-01 00:17:27 +0000   \n",
       "2  2017-07-31 00:18:03 +0000   \n",
       "\n",
       "                                              source  \\\n",
       "0  <a href=\"http://twitter.com/download/iphone\" r...   \n",
       "1  <a href=\"http://twitter.com/download/iphone\" r...   \n",
       "2  <a href=\"http://twitter.com/download/iphone\" r...   \n",
       "\n",
       "                                                text  retweeted_status_id  \\\n",
       "0  This is Phineas. He's a mystical boy. Only eve...                  NaN   \n",
       "1  This is Tilly. She's just checking pup on you....                  NaN   \n",
       "2  This is Archie. He is a rare Norwegian Pouncin...                  NaN   \n",
       "\n",
       "   retweeted_status_user_id retweeted_status_timestamp  \\\n",
       "0                       NaN                        NaN   \n",
       "1                       NaN                        NaN   \n",
       "2                       NaN                        NaN   \n",
       "\n",
       "                                       expanded_urls  rating_numerator  \\\n",
       "0  https://twitter.com/dog_rates/status/892420643...                13   \n",
       "1  https://twitter.com/dog_rates/status/892177421...                13   \n",
       "2  https://twitter.com/dog_rates/status/891815181...                12   \n",
       "\n",
       "   rating_denominator     name doggo floofer pupper puppo  \n",
       "0                  10  Phineas  None    None   None  None  \n",
       "1                  10    Tilly  None    None   None  None  \n",
       "2                  10   Archie  None    None   None  None  "
      ]
     },
     "execution_count": 4,
     "metadata": {},
     "output_type": "execute_result"
    }
   ],
   "source": [
    "tweet_archive.head(3)"
   ]
  },
  {
   "cell_type": "code",
   "execution_count": 5,
   "metadata": {},
   "outputs": [
    {
     "name": "stdout",
     "output_type": "stream",
     "text": [
      "<class 'pandas.core.frame.DataFrame'>\n",
      "RangeIndex: 2356 entries, 0 to 2355\n",
      "Data columns (total 17 columns):\n",
      " #   Column                      Non-Null Count  Dtype  \n",
      "---  ------                      --------------  -----  \n",
      " 0   tweet_id                    2356 non-null   int64  \n",
      " 1   in_reply_to_status_id       78 non-null     float64\n",
      " 2   in_reply_to_user_id         78 non-null     float64\n",
      " 3   timestamp                   2356 non-null   object \n",
      " 4   source                      2356 non-null   object \n",
      " 5   text                        2356 non-null   object \n",
      " 6   retweeted_status_id         181 non-null    float64\n",
      " 7   retweeted_status_user_id    181 non-null    float64\n",
      " 8   retweeted_status_timestamp  181 non-null    object \n",
      " 9   expanded_urls               2297 non-null   object \n",
      " 10  rating_numerator            2356 non-null   int64  \n",
      " 11  rating_denominator          2356 non-null   int64  \n",
      " 12  name                        2356 non-null   object \n",
      " 13  doggo                       2356 non-null   object \n",
      " 14  floofer                     2356 non-null   object \n",
      " 15  pupper                      2356 non-null   object \n",
      " 16  puppo                       2356 non-null   object \n",
      "dtypes: float64(4), int64(3), object(10)\n",
      "memory usage: 313.0+ KB\n"
     ]
    }
   ],
   "source": [
    "tweet_archive.info()"
   ]
  },
  {
   "cell_type": "markdown",
   "metadata": {},
   "source": [
    "### `2` image_predctions.tsv on a web server"
   ]
  },
  {
   "cell_type": "code",
   "execution_count": 6,
   "metadata": {},
   "outputs": [],
   "source": [
    "url = 'https://d17h27t6h515a5.cloudfront.net/topher/2017/August/599fd2ad_image-predictions/image-predictions.tsv'"
   ]
  },
  {
   "cell_type": "code",
   "execution_count": 7,
   "metadata": {},
   "outputs": [
    {
     "data": {
      "text/plain": [
       "200"
      ]
     },
     "execution_count": 7,
     "metadata": {},
     "output_type": "execute_result"
    }
   ],
   "source": [
    "response = requests.get(url)\n",
    "response.status_code"
   ]
  },
  {
   "cell_type": "code",
   "execution_count": 8,
   "metadata": {},
   "outputs": [],
   "source": [
    "with open('image_predictions.tsv', 'wb') as file:\n",
    "    file.write(response.content)"
   ]
  },
  {
   "cell_type": "code",
   "execution_count": 9,
   "metadata": {},
   "outputs": [],
   "source": [
    "image_prediction = pd.read_csv('data/image_predictions.tsv', sep = '\\t')"
   ]
  },
  {
   "cell_type": "code",
   "execution_count": 10,
   "metadata": {},
   "outputs": [
    {
     "data": {
      "text/html": [
       "<div>\n",
       "<style scoped>\n",
       "    .dataframe tbody tr th:only-of-type {\n",
       "        vertical-align: middle;\n",
       "    }\n",
       "\n",
       "    .dataframe tbody tr th {\n",
       "        vertical-align: top;\n",
       "    }\n",
       "\n",
       "    .dataframe thead th {\n",
       "        text-align: right;\n",
       "    }\n",
       "</style>\n",
       "<table border=\"1\" class=\"dataframe\">\n",
       "  <thead>\n",
       "    <tr style=\"text-align: right;\">\n",
       "      <th></th>\n",
       "      <th>tweet_id</th>\n",
       "      <th>jpg_url</th>\n",
       "      <th>img_num</th>\n",
       "      <th>p1</th>\n",
       "      <th>p1_conf</th>\n",
       "      <th>p1_dog</th>\n",
       "      <th>p2</th>\n",
       "      <th>p2_conf</th>\n",
       "      <th>p2_dog</th>\n",
       "      <th>p3</th>\n",
       "      <th>p3_conf</th>\n",
       "      <th>p3_dog</th>\n",
       "    </tr>\n",
       "  </thead>\n",
       "  <tbody>\n",
       "    <tr>\n",
       "      <th>0</th>\n",
       "      <td>666020888022790149</td>\n",
       "      <td>https://pbs.twimg.com/media/CT4udn0WwAA0aMy.jpg</td>\n",
       "      <td>1</td>\n",
       "      <td>Welsh_springer_spaniel</td>\n",
       "      <td>0.465074</td>\n",
       "      <td>True</td>\n",
       "      <td>collie</td>\n",
       "      <td>0.156665</td>\n",
       "      <td>True</td>\n",
       "      <td>Shetland_sheepdog</td>\n",
       "      <td>0.061428</td>\n",
       "      <td>True</td>\n",
       "    </tr>\n",
       "    <tr>\n",
       "      <th>1</th>\n",
       "      <td>666029285002620928</td>\n",
       "      <td>https://pbs.twimg.com/media/CT42GRgUYAA5iDo.jpg</td>\n",
       "      <td>1</td>\n",
       "      <td>redbone</td>\n",
       "      <td>0.506826</td>\n",
       "      <td>True</td>\n",
       "      <td>miniature_pinscher</td>\n",
       "      <td>0.074192</td>\n",
       "      <td>True</td>\n",
       "      <td>Rhodesian_ridgeback</td>\n",
       "      <td>0.072010</td>\n",
       "      <td>True</td>\n",
       "    </tr>\n",
       "    <tr>\n",
       "      <th>2</th>\n",
       "      <td>666033412701032449</td>\n",
       "      <td>https://pbs.twimg.com/media/CT4521TWwAEvMyu.jpg</td>\n",
       "      <td>1</td>\n",
       "      <td>German_shepherd</td>\n",
       "      <td>0.596461</td>\n",
       "      <td>True</td>\n",
       "      <td>malinois</td>\n",
       "      <td>0.138584</td>\n",
       "      <td>True</td>\n",
       "      <td>bloodhound</td>\n",
       "      <td>0.116197</td>\n",
       "      <td>True</td>\n",
       "    </tr>\n",
       "  </tbody>\n",
       "</table>\n",
       "</div>"
      ],
      "text/plain": [
       "             tweet_id                                          jpg_url  \\\n",
       "0  666020888022790149  https://pbs.twimg.com/media/CT4udn0WwAA0aMy.jpg   \n",
       "1  666029285002620928  https://pbs.twimg.com/media/CT42GRgUYAA5iDo.jpg   \n",
       "2  666033412701032449  https://pbs.twimg.com/media/CT4521TWwAEvMyu.jpg   \n",
       "\n",
       "   img_num                      p1   p1_conf  p1_dog                  p2  \\\n",
       "0        1  Welsh_springer_spaniel  0.465074    True              collie   \n",
       "1        1                 redbone  0.506826    True  miniature_pinscher   \n",
       "2        1         German_shepherd  0.596461    True            malinois   \n",
       "\n",
       "    p2_conf  p2_dog                   p3   p3_conf  p3_dog  \n",
       "0  0.156665    True    Shetland_sheepdog  0.061428    True  \n",
       "1  0.074192    True  Rhodesian_ridgeback  0.072010    True  \n",
       "2  0.138584    True           bloodhound  0.116197    True  "
      ]
     },
     "execution_count": 10,
     "metadata": {},
     "output_type": "execute_result"
    }
   ],
   "source": [
    "image_prediction.head(3)"
   ]
  },
  {
   "cell_type": "code",
   "execution_count": 11,
   "metadata": {},
   "outputs": [
    {
     "name": "stdout",
     "output_type": "stream",
     "text": [
      "<class 'pandas.core.frame.DataFrame'>\n",
      "RangeIndex: 2075 entries, 0 to 2074\n",
      "Data columns (total 12 columns):\n",
      " #   Column    Non-Null Count  Dtype  \n",
      "---  ------    --------------  -----  \n",
      " 0   tweet_id  2075 non-null   int64  \n",
      " 1   jpg_url   2075 non-null   object \n",
      " 2   img_num   2075 non-null   int64  \n",
      " 3   p1        2075 non-null   object \n",
      " 4   p1_conf   2075 non-null   float64\n",
      " 5   p1_dog    2075 non-null   bool   \n",
      " 6   p2        2075 non-null   object \n",
      " 7   p2_conf   2075 non-null   float64\n",
      " 8   p2_dog    2075 non-null   bool   \n",
      " 9   p3        2075 non-null   object \n",
      " 10  p3_conf   2075 non-null   float64\n",
      " 11  p3_dog    2075 non-null   bool   \n",
      "dtypes: bool(3), float64(3), int64(2), object(4)\n",
      "memory usage: 152.1+ KB\n"
     ]
    }
   ],
   "source": [
    "image_prediction.info()"
   ]
  },
  {
   "cell_type": "markdown",
   "metadata": {},
   "source": [
    "### `3` tweepy api"
   ]
  },
  {
   "cell_type": "code",
   "execution_count": 12,
   "metadata": {
    "scrolled": true
   },
   "outputs": [],
   "source": [
    "tweet_count = []\n",
    "\n",
    "with open('tweet-json.txt','r') as file:\n",
    "    for data in file:\n",
    "        data = json.loads(data)\n",
    "        \n",
    "        tweet_count.append({'tweet_id': data['id'],\n",
    "                           'retweet_count': data['retweet_count'],\n",
    "                           'favorite_count': data['favorite_count']})"
   ]
  },
  {
   "cell_type": "code",
   "execution_count": 13,
   "metadata": {
    "scrolled": true
   },
   "outputs": [
    {
     "data": {
      "text/plain": [
       "[{'tweet_id': 892420643555336193,\n",
       "  'retweet_count': 8853,\n",
       "  'favorite_count': 39467},\n",
       " {'tweet_id': 892177421306343426,\n",
       "  'retweet_count': 6514,\n",
       "  'favorite_count': 33819},\n",
       " {'tweet_id': 891815181378084864,\n",
       "  'retweet_count': 4328,\n",
       "  'favorite_count': 25461},\n",
       " {'tweet_id': 891689557279858688,\n",
       "  'retweet_count': 8964,\n",
       "  'favorite_count': 42908},\n",
       " {'tweet_id': 891327558926688256,\n",
       "  'retweet_count': 9774,\n",
       "  'favorite_count': 41048}]"
      ]
     },
     "execution_count": 13,
     "metadata": {},
     "output_type": "execute_result"
    }
   ],
   "source": [
    "tweet_count[:5]"
   ]
  },
  {
   "cell_type": "code",
   "execution_count": 14,
   "metadata": {},
   "outputs": [
    {
     "data": {
      "text/html": [
       "<div>\n",
       "<style scoped>\n",
       "    .dataframe tbody tr th:only-of-type {\n",
       "        vertical-align: middle;\n",
       "    }\n",
       "\n",
       "    .dataframe tbody tr th {\n",
       "        vertical-align: top;\n",
       "    }\n",
       "\n",
       "    .dataframe thead th {\n",
       "        text-align: right;\n",
       "    }\n",
       "</style>\n",
       "<table border=\"1\" class=\"dataframe\">\n",
       "  <thead>\n",
       "    <tr style=\"text-align: right;\">\n",
       "      <th></th>\n",
       "      <th>tweet_id</th>\n",
       "      <th>retweet_count</th>\n",
       "      <th>favorite_count</th>\n",
       "    </tr>\n",
       "  </thead>\n",
       "  <tbody>\n",
       "    <tr>\n",
       "      <th>0</th>\n",
       "      <td>892420643555336193</td>\n",
       "      <td>8853</td>\n",
       "      <td>39467</td>\n",
       "    </tr>\n",
       "    <tr>\n",
       "      <th>1</th>\n",
       "      <td>892177421306343426</td>\n",
       "      <td>6514</td>\n",
       "      <td>33819</td>\n",
       "    </tr>\n",
       "    <tr>\n",
       "      <th>2</th>\n",
       "      <td>891815181378084864</td>\n",
       "      <td>4328</td>\n",
       "      <td>25461</td>\n",
       "    </tr>\n",
       "    <tr>\n",
       "      <th>3</th>\n",
       "      <td>891689557279858688</td>\n",
       "      <td>8964</td>\n",
       "      <td>42908</td>\n",
       "    </tr>\n",
       "    <tr>\n",
       "      <th>4</th>\n",
       "      <td>891327558926688256</td>\n",
       "      <td>9774</td>\n",
       "      <td>41048</td>\n",
       "    </tr>\n",
       "  </tbody>\n",
       "</table>\n",
       "</div>"
      ],
      "text/plain": [
       "             tweet_id  retweet_count  favorite_count\n",
       "0  892420643555336193           8853           39467\n",
       "1  892177421306343426           6514           33819\n",
       "2  891815181378084864           4328           25461\n",
       "3  891689557279858688           8964           42908\n",
       "4  891327558926688256           9774           41048"
      ]
     },
     "execution_count": 14,
     "metadata": {},
     "output_type": "execute_result"
    }
   ],
   "source": [
    "tweet_count = pd.DataFrame(tweet_count)\n",
    "tweet_count.head(5)"
   ]
  },
  {
   "cell_type": "markdown",
   "metadata": {},
   "source": [
    "---\n",
    "<a id = 'assess'></a>\n",
    "## Assessing Data for this Project\n",
    "After gathering each of the above pieces of data, assess them visually and programmatically for quality and tidiness issues. Detect and document **at least eight (8) quality issues and two (2) tidiness issues** in your wrangle_act.ipynb Jupyter Notebook. To meet specifications, the issues that satisfy the Project Motivation (see the Key Points header on the previous page) must be assessed.\n"
   ]
  },
  {
   "cell_type": "code",
   "execution_count": 15,
   "metadata": {},
   "outputs": [
    {
     "data": {
      "text/html": [
       "<div>\n",
       "<style scoped>\n",
       "    .dataframe tbody tr th:only-of-type {\n",
       "        vertical-align: middle;\n",
       "    }\n",
       "\n",
       "    .dataframe tbody tr th {\n",
       "        vertical-align: top;\n",
       "    }\n",
       "\n",
       "    .dataframe thead th {\n",
       "        text-align: right;\n",
       "    }\n",
       "</style>\n",
       "<table border=\"1\" class=\"dataframe\">\n",
       "  <thead>\n",
       "    <tr style=\"text-align: right;\">\n",
       "      <th></th>\n",
       "      <th>tweet_id</th>\n",
       "      <th>in_reply_to_status_id</th>\n",
       "      <th>in_reply_to_user_id</th>\n",
       "      <th>timestamp</th>\n",
       "      <th>source</th>\n",
       "      <th>text</th>\n",
       "      <th>retweeted_status_id</th>\n",
       "      <th>retweeted_status_user_id</th>\n",
       "      <th>retweeted_status_timestamp</th>\n",
       "      <th>expanded_urls</th>\n",
       "      <th>rating_numerator</th>\n",
       "      <th>rating_denominator</th>\n",
       "      <th>name</th>\n",
       "      <th>doggo</th>\n",
       "      <th>floofer</th>\n",
       "      <th>pupper</th>\n",
       "      <th>puppo</th>\n",
       "    </tr>\n",
       "  </thead>\n",
       "  <tbody>\n",
       "    <tr>\n",
       "      <th>1537</th>\n",
       "      <td>689877686181715968</td>\n",
       "      <td>NaN</td>\n",
       "      <td>NaN</td>\n",
       "      <td>2016-01-20 18:30:32 +0000</td>\n",
       "      <td>&lt;a href=\"http://twitter.com/download/iphone\" r...</td>\n",
       "      <td>This is Durg. He's trying to conquer his fear ...</td>\n",
       "      <td>NaN</td>\n",
       "      <td>NaN</td>\n",
       "      <td>NaN</td>\n",
       "      <td>https://twitter.com/dog_rates/status/689877686...</td>\n",
       "      <td>9</td>\n",
       "      <td>10</td>\n",
       "      <td>Durg</td>\n",
       "      <td>None</td>\n",
       "      <td>None</td>\n",
       "      <td>None</td>\n",
       "      <td>None</td>\n",
       "    </tr>\n",
       "    <tr>\n",
       "      <th>1547</th>\n",
       "      <td>689280876073582592</td>\n",
       "      <td>NaN</td>\n",
       "      <td>NaN</td>\n",
       "      <td>2016-01-19 02:59:01 +0000</td>\n",
       "      <td>&lt;a href=\"http://twitter.com/download/iphone\" r...</td>\n",
       "      <td>This is Herald. He wants you to know he could ...</td>\n",
       "      <td>NaN</td>\n",
       "      <td>NaN</td>\n",
       "      <td>NaN</td>\n",
       "      <td>https://twitter.com/dog_rates/status/689280876...</td>\n",
       "      <td>10</td>\n",
       "      <td>10</td>\n",
       "      <td>Herald</td>\n",
       "      <td>None</td>\n",
       "      <td>None</td>\n",
       "      <td>None</td>\n",
       "      <td>None</td>\n",
       "    </tr>\n",
       "    <tr>\n",
       "      <th>1886</th>\n",
       "      <td>674790488185167872</td>\n",
       "      <td>NaN</td>\n",
       "      <td>NaN</td>\n",
       "      <td>2015-12-10 03:19:24 +0000</td>\n",
       "      <td>&lt;a href=\"http://twitter.com/download/iphone\" r...</td>\n",
       "      <td>ER... MER... GERD 13/10 https://t.co/L1puJISV1a</td>\n",
       "      <td>NaN</td>\n",
       "      <td>NaN</td>\n",
       "      <td>NaN</td>\n",
       "      <td>https://twitter.com/dog_rates/status/674790488...</td>\n",
       "      <td>13</td>\n",
       "      <td>10</td>\n",
       "      <td>None</td>\n",
       "      <td>None</td>\n",
       "      <td>None</td>\n",
       "      <td>None</td>\n",
       "      <td>None</td>\n",
       "    </tr>\n",
       "    <tr>\n",
       "      <th>1771</th>\n",
       "      <td>678334497360859136</td>\n",
       "      <td>NaN</td>\n",
       "      <td>NaN</td>\n",
       "      <td>2015-12-19 22:02:01 +0000</td>\n",
       "      <td>&lt;a href=\"http://twitter.com/download/iphone\" r...</td>\n",
       "      <td>This is Rosie. She has a snazzy bow tie and a ...</td>\n",
       "      <td>NaN</td>\n",
       "      <td>NaN</td>\n",
       "      <td>NaN</td>\n",
       "      <td>https://twitter.com/dog_rates/status/678334497...</td>\n",
       "      <td>10</td>\n",
       "      <td>10</td>\n",
       "      <td>Rosie</td>\n",
       "      <td>None</td>\n",
       "      <td>None</td>\n",
       "      <td>None</td>\n",
       "      <td>None</td>\n",
       "    </tr>\n",
       "    <tr>\n",
       "      <th>1825</th>\n",
       "      <td>676470639084101634</td>\n",
       "      <td>NaN</td>\n",
       "      <td>NaN</td>\n",
       "      <td>2015-12-14 18:35:43 +0000</td>\n",
       "      <td>&lt;a href=\"http://twitter.com/download/iphone\" r...</td>\n",
       "      <td>Three generations of pupper. 11/10 for all htt...</td>\n",
       "      <td>NaN</td>\n",
       "      <td>NaN</td>\n",
       "      <td>NaN</td>\n",
       "      <td>https://twitter.com/dog_rates/status/676470639...</td>\n",
       "      <td>11</td>\n",
       "      <td>10</td>\n",
       "      <td>None</td>\n",
       "      <td>None</td>\n",
       "      <td>None</td>\n",
       "      <td>pupper</td>\n",
       "      <td>None</td>\n",
       "    </tr>\n",
       "    <tr>\n",
       "      <th>11</th>\n",
       "      <td>889880896479866881</td>\n",
       "      <td>NaN</td>\n",
       "      <td>NaN</td>\n",
       "      <td>2017-07-25 16:11:53 +0000</td>\n",
       "      <td>&lt;a href=\"http://twitter.com/download/iphone\" r...</td>\n",
       "      <td>This is Bruno. He is a service shark. Only get...</td>\n",
       "      <td>NaN</td>\n",
       "      <td>NaN</td>\n",
       "      <td>NaN</td>\n",
       "      <td>https://twitter.com/dog_rates/status/889880896...</td>\n",
       "      <td>13</td>\n",
       "      <td>10</td>\n",
       "      <td>Bruno</td>\n",
       "      <td>None</td>\n",
       "      <td>None</td>\n",
       "      <td>None</td>\n",
       "      <td>None</td>\n",
       "    </tr>\n",
       "    <tr>\n",
       "      <th>2026</th>\n",
       "      <td>671879137494245376</td>\n",
       "      <td>NaN</td>\n",
       "      <td>NaN</td>\n",
       "      <td>2015-12-02 02:30:43 +0000</td>\n",
       "      <td>&lt;a href=\"http://twitter.com/download/iphone\" r...</td>\n",
       "      <td>This is Brad. He's a chubby lil pup. Doesn't r...</td>\n",
       "      <td>NaN</td>\n",
       "      <td>NaN</td>\n",
       "      <td>NaN</td>\n",
       "      <td>https://twitter.com/dog_rates/status/671879137...</td>\n",
       "      <td>5</td>\n",
       "      <td>10</td>\n",
       "      <td>Brad</td>\n",
       "      <td>None</td>\n",
       "      <td>None</td>\n",
       "      <td>None</td>\n",
       "      <td>None</td>\n",
       "    </tr>\n",
       "    <tr>\n",
       "      <th>1715</th>\n",
       "      <td>680221482581123072</td>\n",
       "      <td>NaN</td>\n",
       "      <td>NaN</td>\n",
       "      <td>2015-12-25 03:00:14 +0000</td>\n",
       "      <td>&lt;a href=\"http://twitter.com/download/iphone\" r...</td>\n",
       "      <td>This is CeCe. She's patiently waiting for Sant...</td>\n",
       "      <td>NaN</td>\n",
       "      <td>NaN</td>\n",
       "      <td>NaN</td>\n",
       "      <td>https://twitter.com/dog_rates/status/680221482...</td>\n",
       "      <td>10</td>\n",
       "      <td>10</td>\n",
       "      <td>CeCe</td>\n",
       "      <td>None</td>\n",
       "      <td>None</td>\n",
       "      <td>None</td>\n",
       "      <td>None</td>\n",
       "    </tr>\n",
       "    <tr>\n",
       "      <th>99</th>\n",
       "      <td>872967104147763200</td>\n",
       "      <td>NaN</td>\n",
       "      <td>NaN</td>\n",
       "      <td>2017-06-09 00:02:31 +0000</td>\n",
       "      <td>&lt;a href=\"http://twitter.com/download/iphone\" r...</td>\n",
       "      <td>Here's a very large dog. He has a date later. ...</td>\n",
       "      <td>NaN</td>\n",
       "      <td>NaN</td>\n",
       "      <td>NaN</td>\n",
       "      <td>https://twitter.com/dog_rates/status/872967104...</td>\n",
       "      <td>12</td>\n",
       "      <td>10</td>\n",
       "      <td>None</td>\n",
       "      <td>doggo</td>\n",
       "      <td>None</td>\n",
       "      <td>None</td>\n",
       "      <td>None</td>\n",
       "    </tr>\n",
       "    <tr>\n",
       "      <th>387</th>\n",
       "      <td>826598799820865537</td>\n",
       "      <td>8.265984e+17</td>\n",
       "      <td>4.196984e+09</td>\n",
       "      <td>2017-02-01 01:11:25 +0000</td>\n",
       "      <td>&lt;a href=\"http://twitter.com/download/iphone\" r...</td>\n",
       "      <td>I was going to do 007/10, but the joke wasn't ...</td>\n",
       "      <td>NaN</td>\n",
       "      <td>NaN</td>\n",
       "      <td>NaN</td>\n",
       "      <td>NaN</td>\n",
       "      <td>7</td>\n",
       "      <td>10</td>\n",
       "      <td>None</td>\n",
       "      <td>None</td>\n",
       "      <td>None</td>\n",
       "      <td>None</td>\n",
       "      <td>None</td>\n",
       "    </tr>\n",
       "  </tbody>\n",
       "</table>\n",
       "</div>"
      ],
      "text/plain": [
       "                tweet_id  in_reply_to_status_id  in_reply_to_user_id  \\\n",
       "1537  689877686181715968                    NaN                  NaN   \n",
       "1547  689280876073582592                    NaN                  NaN   \n",
       "1886  674790488185167872                    NaN                  NaN   \n",
       "1771  678334497360859136                    NaN                  NaN   \n",
       "1825  676470639084101634                    NaN                  NaN   \n",
       "11    889880896479866881                    NaN                  NaN   \n",
       "2026  671879137494245376                    NaN                  NaN   \n",
       "1715  680221482581123072                    NaN                  NaN   \n",
       "99    872967104147763200                    NaN                  NaN   \n",
       "387   826598799820865537           8.265984e+17         4.196984e+09   \n",
       "\n",
       "                      timestamp  \\\n",
       "1537  2016-01-20 18:30:32 +0000   \n",
       "1547  2016-01-19 02:59:01 +0000   \n",
       "1886  2015-12-10 03:19:24 +0000   \n",
       "1771  2015-12-19 22:02:01 +0000   \n",
       "1825  2015-12-14 18:35:43 +0000   \n",
       "11    2017-07-25 16:11:53 +0000   \n",
       "2026  2015-12-02 02:30:43 +0000   \n",
       "1715  2015-12-25 03:00:14 +0000   \n",
       "99    2017-06-09 00:02:31 +0000   \n",
       "387   2017-02-01 01:11:25 +0000   \n",
       "\n",
       "                                                 source  \\\n",
       "1537  <a href=\"http://twitter.com/download/iphone\" r...   \n",
       "1547  <a href=\"http://twitter.com/download/iphone\" r...   \n",
       "1886  <a href=\"http://twitter.com/download/iphone\" r...   \n",
       "1771  <a href=\"http://twitter.com/download/iphone\" r...   \n",
       "1825  <a href=\"http://twitter.com/download/iphone\" r...   \n",
       "11    <a href=\"http://twitter.com/download/iphone\" r...   \n",
       "2026  <a href=\"http://twitter.com/download/iphone\" r...   \n",
       "1715  <a href=\"http://twitter.com/download/iphone\" r...   \n",
       "99    <a href=\"http://twitter.com/download/iphone\" r...   \n",
       "387   <a href=\"http://twitter.com/download/iphone\" r...   \n",
       "\n",
       "                                                   text  retweeted_status_id  \\\n",
       "1537  This is Durg. He's trying to conquer his fear ...                  NaN   \n",
       "1547  This is Herald. He wants you to know he could ...                  NaN   \n",
       "1886    ER... MER... GERD 13/10 https://t.co/L1puJISV1a                  NaN   \n",
       "1771  This is Rosie. She has a snazzy bow tie and a ...                  NaN   \n",
       "1825  Three generations of pupper. 11/10 for all htt...                  NaN   \n",
       "11    This is Bruno. He is a service shark. Only get...                  NaN   \n",
       "2026  This is Brad. He's a chubby lil pup. Doesn't r...                  NaN   \n",
       "1715  This is CeCe. She's patiently waiting for Sant...                  NaN   \n",
       "99    Here's a very large dog. He has a date later. ...                  NaN   \n",
       "387   I was going to do 007/10, but the joke wasn't ...                  NaN   \n",
       "\n",
       "      retweeted_status_user_id retweeted_status_timestamp  \\\n",
       "1537                       NaN                        NaN   \n",
       "1547                       NaN                        NaN   \n",
       "1886                       NaN                        NaN   \n",
       "1771                       NaN                        NaN   \n",
       "1825                       NaN                        NaN   \n",
       "11                         NaN                        NaN   \n",
       "2026                       NaN                        NaN   \n",
       "1715                       NaN                        NaN   \n",
       "99                         NaN                        NaN   \n",
       "387                        NaN                        NaN   \n",
       "\n",
       "                                          expanded_urls  rating_numerator  \\\n",
       "1537  https://twitter.com/dog_rates/status/689877686...                 9   \n",
       "1547  https://twitter.com/dog_rates/status/689280876...                10   \n",
       "1886  https://twitter.com/dog_rates/status/674790488...                13   \n",
       "1771  https://twitter.com/dog_rates/status/678334497...                10   \n",
       "1825  https://twitter.com/dog_rates/status/676470639...                11   \n",
       "11    https://twitter.com/dog_rates/status/889880896...                13   \n",
       "2026  https://twitter.com/dog_rates/status/671879137...                 5   \n",
       "1715  https://twitter.com/dog_rates/status/680221482...                10   \n",
       "99    https://twitter.com/dog_rates/status/872967104...                12   \n",
       "387                                                 NaN                 7   \n",
       "\n",
       "      rating_denominator    name  doggo floofer  pupper puppo  \n",
       "1537                  10    Durg   None    None    None  None  \n",
       "1547                  10  Herald   None    None    None  None  \n",
       "1886                  10    None   None    None    None  None  \n",
       "1771                  10   Rosie   None    None    None  None  \n",
       "1825                  10    None   None    None  pupper  None  \n",
       "11                    10   Bruno   None    None    None  None  \n",
       "2026                  10    Brad   None    None    None  None  \n",
       "1715                  10    CeCe   None    None    None  None  \n",
       "99                    10    None  doggo    None    None  None  \n",
       "387                   10    None   None    None    None  None  "
      ]
     },
     "execution_count": 15,
     "metadata": {},
     "output_type": "execute_result"
    }
   ],
   "source": [
    "tweet_archive.sample(10)"
   ]
  },
  {
   "cell_type": "code",
   "execution_count": 16,
   "metadata": {
    "scrolled": false
   },
   "outputs": [
    {
     "name": "stdout",
     "output_type": "stream",
     "text": [
      "<class 'pandas.core.frame.DataFrame'>\n",
      "RangeIndex: 2356 entries, 0 to 2355\n",
      "Data columns (total 17 columns):\n",
      " #   Column                      Non-Null Count  Dtype  \n",
      "---  ------                      --------------  -----  \n",
      " 0   tweet_id                    2356 non-null   int64  \n",
      " 1   in_reply_to_status_id       78 non-null     float64\n",
      " 2   in_reply_to_user_id         78 non-null     float64\n",
      " 3   timestamp                   2356 non-null   object \n",
      " 4   source                      2356 non-null   object \n",
      " 5   text                        2356 non-null   object \n",
      " 6   retweeted_status_id         181 non-null    float64\n",
      " 7   retweeted_status_user_id    181 non-null    float64\n",
      " 8   retweeted_status_timestamp  181 non-null    object \n",
      " 9   expanded_urls               2297 non-null   object \n",
      " 10  rating_numerator            2356 non-null   int64  \n",
      " 11  rating_denominator          2356 non-null   int64  \n",
      " 12  name                        2356 non-null   object \n",
      " 13  doggo                       2356 non-null   object \n",
      " 14  floofer                     2356 non-null   object \n",
      " 15  pupper                      2356 non-null   object \n",
      " 16  puppo                       2356 non-null   object \n",
      "dtypes: float64(4), int64(3), object(10)\n",
      "memory usage: 313.0+ KB\n"
     ]
    }
   ],
   "source": [
    "tweet_archive.info()"
   ]
  },
  {
   "cell_type": "code",
   "execution_count": 1,
   "metadata": {
    "scrolled": false
   },
   "outputs": [],
   "source": [
    "# tweet_archive.rating_numerator.value_counts()"
   ]
  },
  {
   "cell_type": "code",
   "execution_count": 2,
   "metadata": {
    "scrolled": true
   },
   "outputs": [],
   "source": [
    "# tweet_archive.tweet_id.sort_values()"
   ]
  },
  {
   "cell_type": "code",
   "execution_count": 19,
   "metadata": {},
   "outputs": [
    {
     "data": {
      "text/html": [
       "<div>\n",
       "<style scoped>\n",
       "    .dataframe tbody tr th:only-of-type {\n",
       "        vertical-align: middle;\n",
       "    }\n",
       "\n",
       "    .dataframe tbody tr th {\n",
       "        vertical-align: top;\n",
       "    }\n",
       "\n",
       "    .dataframe thead th {\n",
       "        text-align: right;\n",
       "    }\n",
       "</style>\n",
       "<table border=\"1\" class=\"dataframe\">\n",
       "  <thead>\n",
       "    <tr style=\"text-align: right;\">\n",
       "      <th></th>\n",
       "      <th>tweet_id</th>\n",
       "      <th>in_reply_to_status_id</th>\n",
       "      <th>in_reply_to_user_id</th>\n",
       "      <th>retweeted_status_id</th>\n",
       "      <th>retweeted_status_user_id</th>\n",
       "      <th>rating_numerator</th>\n",
       "      <th>rating_denominator</th>\n",
       "    </tr>\n",
       "  </thead>\n",
       "  <tbody>\n",
       "    <tr>\n",
       "      <th>count</th>\n",
       "      <td>2.356000e+03</td>\n",
       "      <td>7.800000e+01</td>\n",
       "      <td>7.800000e+01</td>\n",
       "      <td>1.810000e+02</td>\n",
       "      <td>1.810000e+02</td>\n",
       "      <td>2356.000000</td>\n",
       "      <td>2356.000000</td>\n",
       "    </tr>\n",
       "    <tr>\n",
       "      <th>mean</th>\n",
       "      <td>7.427716e+17</td>\n",
       "      <td>7.455079e+17</td>\n",
       "      <td>2.014171e+16</td>\n",
       "      <td>7.720400e+17</td>\n",
       "      <td>1.241698e+16</td>\n",
       "      <td>13.126486</td>\n",
       "      <td>10.455433</td>\n",
       "    </tr>\n",
       "    <tr>\n",
       "      <th>std</th>\n",
       "      <td>6.856705e+16</td>\n",
       "      <td>7.582492e+16</td>\n",
       "      <td>1.252797e+17</td>\n",
       "      <td>6.236928e+16</td>\n",
       "      <td>9.599254e+16</td>\n",
       "      <td>45.876648</td>\n",
       "      <td>6.745237</td>\n",
       "    </tr>\n",
       "    <tr>\n",
       "      <th>min</th>\n",
       "      <td>6.660209e+17</td>\n",
       "      <td>6.658147e+17</td>\n",
       "      <td>1.185634e+07</td>\n",
       "      <td>6.661041e+17</td>\n",
       "      <td>7.832140e+05</td>\n",
       "      <td>0.000000</td>\n",
       "      <td>0.000000</td>\n",
       "    </tr>\n",
       "    <tr>\n",
       "      <th>25%</th>\n",
       "      <td>6.783989e+17</td>\n",
       "      <td>6.757419e+17</td>\n",
       "      <td>3.086374e+08</td>\n",
       "      <td>7.186315e+17</td>\n",
       "      <td>4.196984e+09</td>\n",
       "      <td>10.000000</td>\n",
       "      <td>10.000000</td>\n",
       "    </tr>\n",
       "    <tr>\n",
       "      <th>50%</th>\n",
       "      <td>7.196279e+17</td>\n",
       "      <td>7.038708e+17</td>\n",
       "      <td>4.196984e+09</td>\n",
       "      <td>7.804657e+17</td>\n",
       "      <td>4.196984e+09</td>\n",
       "      <td>11.000000</td>\n",
       "      <td>10.000000</td>\n",
       "    </tr>\n",
       "    <tr>\n",
       "      <th>75%</th>\n",
       "      <td>7.993373e+17</td>\n",
       "      <td>8.257804e+17</td>\n",
       "      <td>4.196984e+09</td>\n",
       "      <td>8.203146e+17</td>\n",
       "      <td>4.196984e+09</td>\n",
       "      <td>12.000000</td>\n",
       "      <td>10.000000</td>\n",
       "    </tr>\n",
       "    <tr>\n",
       "      <th>max</th>\n",
       "      <td>8.924206e+17</td>\n",
       "      <td>8.862664e+17</td>\n",
       "      <td>8.405479e+17</td>\n",
       "      <td>8.874740e+17</td>\n",
       "      <td>7.874618e+17</td>\n",
       "      <td>1776.000000</td>\n",
       "      <td>170.000000</td>\n",
       "    </tr>\n",
       "  </tbody>\n",
       "</table>\n",
       "</div>"
      ],
      "text/plain": [
       "           tweet_id  in_reply_to_status_id  in_reply_to_user_id  \\\n",
       "count  2.356000e+03           7.800000e+01         7.800000e+01   \n",
       "mean   7.427716e+17           7.455079e+17         2.014171e+16   \n",
       "std    6.856705e+16           7.582492e+16         1.252797e+17   \n",
       "min    6.660209e+17           6.658147e+17         1.185634e+07   \n",
       "25%    6.783989e+17           6.757419e+17         3.086374e+08   \n",
       "50%    7.196279e+17           7.038708e+17         4.196984e+09   \n",
       "75%    7.993373e+17           8.257804e+17         4.196984e+09   \n",
       "max    8.924206e+17           8.862664e+17         8.405479e+17   \n",
       "\n",
       "       retweeted_status_id  retweeted_status_user_id  rating_numerator  \\\n",
       "count         1.810000e+02              1.810000e+02       2356.000000   \n",
       "mean          7.720400e+17              1.241698e+16         13.126486   \n",
       "std           6.236928e+16              9.599254e+16         45.876648   \n",
       "min           6.661041e+17              7.832140e+05          0.000000   \n",
       "25%           7.186315e+17              4.196984e+09         10.000000   \n",
       "50%           7.804657e+17              4.196984e+09         11.000000   \n",
       "75%           8.203146e+17              4.196984e+09         12.000000   \n",
       "max           8.874740e+17              7.874618e+17       1776.000000   \n",
       "\n",
       "       rating_denominator  \n",
       "count         2356.000000  \n",
       "mean            10.455433  \n",
       "std              6.745237  \n",
       "min              0.000000  \n",
       "25%             10.000000  \n",
       "50%             10.000000  \n",
       "75%             10.000000  \n",
       "max            170.000000  "
      ]
     },
     "execution_count": 19,
     "metadata": {},
     "output_type": "execute_result"
    }
   ],
   "source": [
    "tweet_archive.describe()"
   ]
  },
  {
   "cell_type": "code",
   "execution_count": 3,
   "metadata": {
    "scrolled": false
   },
   "outputs": [],
   "source": [
    "# tweet_archive[tweet_archive.rating_denominator != 10]"
   ]
  },
  {
   "cell_type": "code",
   "execution_count": 21,
   "metadata": {
    "scrolled": false
   },
   "outputs": [
    {
     "data": {
      "text/html": [
       "<div>\n",
       "<style scoped>\n",
       "    .dataframe tbody tr th:only-of-type {\n",
       "        vertical-align: middle;\n",
       "    }\n",
       "\n",
       "    .dataframe tbody tr th {\n",
       "        vertical-align: top;\n",
       "    }\n",
       "\n",
       "    .dataframe thead th {\n",
       "        text-align: right;\n",
       "    }\n",
       "</style>\n",
       "<table border=\"1\" class=\"dataframe\">\n",
       "  <thead>\n",
       "    <tr style=\"text-align: right;\">\n",
       "      <th></th>\n",
       "      <th>tweet_id</th>\n",
       "      <th>jpg_url</th>\n",
       "      <th>img_num</th>\n",
       "      <th>p1</th>\n",
       "      <th>p1_conf</th>\n",
       "      <th>p1_dog</th>\n",
       "      <th>p2</th>\n",
       "      <th>p2_conf</th>\n",
       "      <th>p2_dog</th>\n",
       "      <th>p3</th>\n",
       "      <th>p3_conf</th>\n",
       "      <th>p3_dog</th>\n",
       "    </tr>\n",
       "  </thead>\n",
       "  <tbody>\n",
       "    <tr>\n",
       "      <th>933</th>\n",
       "      <td>703356393781329922</td>\n",
       "      <td>https://pbs.twimg.com/media/CcLS6QKUcAAUuPa.jpg</td>\n",
       "      <td>1</td>\n",
       "      <td>Border_collie</td>\n",
       "      <td>0.894842</td>\n",
       "      <td>True</td>\n",
       "      <td>collie</td>\n",
       "      <td>0.097364</td>\n",
       "      <td>True</td>\n",
       "      <td>English_springer</td>\n",
       "      <td>0.003037</td>\n",
       "      <td>True</td>\n",
       "    </tr>\n",
       "    <tr>\n",
       "      <th>1972</th>\n",
       "      <td>869596645499047938</td>\n",
       "      <td>https://pbs.twimg.com/media/DBFtiYqWAAAsjj1.jpg</td>\n",
       "      <td>1</td>\n",
       "      <td>Chihuahua</td>\n",
       "      <td>0.955156</td>\n",
       "      <td>True</td>\n",
       "      <td>toy_terrier</td>\n",
       "      <td>0.008054</td>\n",
       "      <td>True</td>\n",
       "      <td>muzzle</td>\n",
       "      <td>0.006296</td>\n",
       "      <td>False</td>\n",
       "    </tr>\n",
       "    <tr>\n",
       "      <th>1050</th>\n",
       "      <td>713900603437621249</td>\n",
       "      <td>https://pbs.twimg.com/media/CehIzzZWQAEyHH5.jpg</td>\n",
       "      <td>1</td>\n",
       "      <td>golden_retriever</td>\n",
       "      <td>0.371816</td>\n",
       "      <td>True</td>\n",
       "      <td>cocker_spaniel</td>\n",
       "      <td>0.177413</td>\n",
       "      <td>True</td>\n",
       "      <td>Irish_setter</td>\n",
       "      <td>0.092725</td>\n",
       "      <td>True</td>\n",
       "    </tr>\n",
       "    <tr>\n",
       "      <th>415</th>\n",
       "      <td>674014384960745472</td>\n",
       "      <td>https://pbs.twimg.com/media/CVqUgTIUAAUA8Jr.jpg</td>\n",
       "      <td>1</td>\n",
       "      <td>Pembroke</td>\n",
       "      <td>0.742320</td>\n",
       "      <td>True</td>\n",
       "      <td>Cardigan</td>\n",
       "      <td>0.084937</td>\n",
       "      <td>True</td>\n",
       "      <td>Eskimo_dog</td>\n",
       "      <td>0.068321</td>\n",
       "      <td>True</td>\n",
       "    </tr>\n",
       "    <tr>\n",
       "      <th>1758</th>\n",
       "      <td>825535076884762624</td>\n",
       "      <td>https://pbs.twimg.com/media/C3TjvitXAAAI-QH.jpg</td>\n",
       "      <td>1</td>\n",
       "      <td>Rottweiler</td>\n",
       "      <td>0.681495</td>\n",
       "      <td>True</td>\n",
       "      <td>Tibetan_mastiff</td>\n",
       "      <td>0.147940</td>\n",
       "      <td>True</td>\n",
       "      <td>black-and-tan_coonhound</td>\n",
       "      <td>0.024525</td>\n",
       "      <td>True</td>\n",
       "    </tr>\n",
       "    <tr>\n",
       "      <th>326</th>\n",
       "      <td>671891728106971137</td>\n",
       "      <td>https://pbs.twimg.com/media/CVMJ9guXAAAhAiK.jpg</td>\n",
       "      <td>1</td>\n",
       "      <td>Labrador_retriever</td>\n",
       "      <td>0.567933</td>\n",
       "      <td>True</td>\n",
       "      <td>golden_retriever</td>\n",
       "      <td>0.349401</td>\n",
       "      <td>True</td>\n",
       "      <td>seat_belt</td>\n",
       "      <td>0.069396</td>\n",
       "      <td>False</td>\n",
       "    </tr>\n",
       "    <tr>\n",
       "      <th>416</th>\n",
       "      <td>674019345211760640</td>\n",
       "      <td>https://pbs.twimg.com/media/CVqZBO8WUAAd931.jpg</td>\n",
       "      <td>1</td>\n",
       "      <td>collie</td>\n",
       "      <td>0.992732</td>\n",
       "      <td>True</td>\n",
       "      <td>borzoi</td>\n",
       "      <td>0.005043</td>\n",
       "      <td>True</td>\n",
       "      <td>Shetland_sheepdog</td>\n",
       "      <td>0.001725</td>\n",
       "      <td>True</td>\n",
       "    </tr>\n",
       "    <tr>\n",
       "      <th>1614</th>\n",
       "      <td>802239329049477120</td>\n",
       "      <td>https://pbs.twimg.com/media/CyIgaTEVEAA-9zS.jpg</td>\n",
       "      <td>2</td>\n",
       "      <td>Eskimo_dog</td>\n",
       "      <td>0.482498</td>\n",
       "      <td>True</td>\n",
       "      <td>Siberian_husky</td>\n",
       "      <td>0.335774</td>\n",
       "      <td>True</td>\n",
       "      <td>malamute</td>\n",
       "      <td>0.134589</td>\n",
       "      <td>True</td>\n",
       "    </tr>\n",
       "    <tr>\n",
       "      <th>29</th>\n",
       "      <td>666411507551481857</td>\n",
       "      <td>https://pbs.twimg.com/media/CT-RugiWIAELEaq.jpg</td>\n",
       "      <td>1</td>\n",
       "      <td>coho</td>\n",
       "      <td>0.404640</td>\n",
       "      <td>False</td>\n",
       "      <td>barracouta</td>\n",
       "      <td>0.271485</td>\n",
       "      <td>False</td>\n",
       "      <td>gar</td>\n",
       "      <td>0.189945</td>\n",
       "      <td>False</td>\n",
       "    </tr>\n",
       "    <tr>\n",
       "      <th>399</th>\n",
       "      <td>673686845050527744</td>\n",
       "      <td>https://pbs.twimg.com/media/CVlqi_AXIAASlcD.jpg</td>\n",
       "      <td>1</td>\n",
       "      <td>Pekinese</td>\n",
       "      <td>0.185903</td>\n",
       "      <td>True</td>\n",
       "      <td>guinea_pig</td>\n",
       "      <td>0.172951</td>\n",
       "      <td>False</td>\n",
       "      <td>pug</td>\n",
       "      <td>0.166183</td>\n",
       "      <td>True</td>\n",
       "    </tr>\n",
       "  </tbody>\n",
       "</table>\n",
       "</div>"
      ],
      "text/plain": [
       "                tweet_id                                          jpg_url  \\\n",
       "933   703356393781329922  https://pbs.twimg.com/media/CcLS6QKUcAAUuPa.jpg   \n",
       "1972  869596645499047938  https://pbs.twimg.com/media/DBFtiYqWAAAsjj1.jpg   \n",
       "1050  713900603437621249  https://pbs.twimg.com/media/CehIzzZWQAEyHH5.jpg   \n",
       "415   674014384960745472  https://pbs.twimg.com/media/CVqUgTIUAAUA8Jr.jpg   \n",
       "1758  825535076884762624  https://pbs.twimg.com/media/C3TjvitXAAAI-QH.jpg   \n",
       "326   671891728106971137  https://pbs.twimg.com/media/CVMJ9guXAAAhAiK.jpg   \n",
       "416   674019345211760640  https://pbs.twimg.com/media/CVqZBO8WUAAd931.jpg   \n",
       "1614  802239329049477120  https://pbs.twimg.com/media/CyIgaTEVEAA-9zS.jpg   \n",
       "29    666411507551481857  https://pbs.twimg.com/media/CT-RugiWIAELEaq.jpg   \n",
       "399   673686845050527744  https://pbs.twimg.com/media/CVlqi_AXIAASlcD.jpg   \n",
       "\n",
       "      img_num                  p1   p1_conf  p1_dog                p2  \\\n",
       "933         1       Border_collie  0.894842    True            collie   \n",
       "1972        1           Chihuahua  0.955156    True       toy_terrier   \n",
       "1050        1    golden_retriever  0.371816    True    cocker_spaniel   \n",
       "415         1            Pembroke  0.742320    True          Cardigan   \n",
       "1758        1          Rottweiler  0.681495    True   Tibetan_mastiff   \n",
       "326         1  Labrador_retriever  0.567933    True  golden_retriever   \n",
       "416         1              collie  0.992732    True            borzoi   \n",
       "1614        2          Eskimo_dog  0.482498    True    Siberian_husky   \n",
       "29          1                coho  0.404640   False        barracouta   \n",
       "399         1            Pekinese  0.185903    True        guinea_pig   \n",
       "\n",
       "       p2_conf  p2_dog                       p3   p3_conf  p3_dog  \n",
       "933   0.097364    True         English_springer  0.003037    True  \n",
       "1972  0.008054    True                   muzzle  0.006296   False  \n",
       "1050  0.177413    True             Irish_setter  0.092725    True  \n",
       "415   0.084937    True               Eskimo_dog  0.068321    True  \n",
       "1758  0.147940    True  black-and-tan_coonhound  0.024525    True  \n",
       "326   0.349401    True                seat_belt  0.069396   False  \n",
       "416   0.005043    True        Shetland_sheepdog  0.001725    True  \n",
       "1614  0.335774    True                 malamute  0.134589    True  \n",
       "29    0.271485   False                      gar  0.189945   False  \n",
       "399   0.172951   False                      pug  0.166183    True  "
      ]
     },
     "execution_count": 21,
     "metadata": {},
     "output_type": "execute_result"
    }
   ],
   "source": [
    "image_prediction.sample(10)"
   ]
  },
  {
   "cell_type": "markdown",
   "metadata": {},
   "source": [
    "<a id = 'summary'></a>\n",
    "### Summary After Assessment\n",
    "\n",
    "### Quality\n",
    "\n",
    "1. missing data in 'expanded_urls' column (2297 vs 2356) \n",
    "2. NaN in in_reply_to_status_id, in_reply_to_user_id columns (78 rows with non_null: replys)\n",
    "3. NaN in retweeted_status_id, retweet4ed_status_user_id, retweeted_status_timestamp (181 rows with non-null: retweets)\n",
    "4. erroneous data types: \n",
    "    - tweet_id, in_reply_to_status_id, in_reply_to_user_id,retweeted_status_id, retweet4ed_status_user_id   \n",
    "    - 'timestamp'(for inspecting tweets beyond August 1st, 2017)\n",
    "5. source column with '<a href= >' tag\n",
    "6. some values in 'rating_denominator' are not equal to 10 \n",
    "7. incorrect dog names\n",
    "8. multiple / incorrect urls in 'expanded_urls' column\n",
    "\n",
    "#### `tweet_archive` table\n",
    "9. some rows contains images that are not dogs\n",
    " \n",
    "### Tidiness\n",
    "- `tweet_archive` table: doggo, floofer, pupper, puppo are 'dog_stage': one variable\n",
    "- `tweet_count` table: same observational unit as `tweet_archive` table\n",
    "- we need tweet_id with images: `image_prediction` table has all the necessary images"
   ]
  },
  {
   "cell_type": "markdown",
   "metadata": {},
   "source": [
    "[Go back to Table of Contents](#workflow)"
   ]
  },
  {
   "cell_type": "markdown",
   "metadata": {},
   "source": [
    "---\n",
    "<a id = 'cleaning'></a>\n",
    "## Cleaning Data for this Project\n",
    "Clean each of the issues you documented while assessing. Perform this cleaning in wrangle_act.ipynb as well. The result should be a high quality and tidy master pandas DataFrame (or DataFrames, if appropriate). Again, the issues that satisfy the Project Motivation must be cleaned."
   ]
  },
  {
   "cell_type": "code",
   "execution_count": 22,
   "metadata": {},
   "outputs": [],
   "source": [
    "tweet_archive_clean = tweet_archive.copy()\n",
    "image_prediction_clean = image_prediction.copy()\n",
    "tweet_count_clean = tweet_count.copy()"
   ]
  },
  {
   "cell_type": "markdown",
   "metadata": {},
   "source": [
    "<font color='red'> table name for cleaning is changed to '_clean'</font>"
   ]
  },
  {
   "cell_type": "markdown",
   "metadata": {},
   "source": [
    "<a id = 'tidy'></a>\n",
    "### Tidiness Issues\n",
    "- `tweet_archive_clean` table: doggo, floofer, pupper, puppo are 'dog_stage': one variable\n",
    "- `tweet_count_clean` table: same observational unit as `tweet_archive_clean` table\n",
    "- we need tweet_id with images: `image_prediction_clean` table has all the necessary images"
   ]
  },
  {
   "cell_type": "markdown",
   "metadata": {},
   "source": [
    "### `T1.` `tweet_archive_clean` table: doggo, floofer, pupper, puppo are 'dog_stage': one variable"
   ]
  },
  {
   "cell_type": "markdown",
   "metadata": {},
   "source": [
    "##### define\n",
    "- change 'None' to ''(blank) and concatenate the 4 columns into a new column 'stage'.\n",
    "- drop the 4 columns after creating 'stage' column"
   ]
  },
  {
   "cell_type": "code",
   "execution_count": 23,
   "metadata": {},
   "outputs": [],
   "source": [
    "stage_name = ['doggo','floofer','pupper','puppo']"
   ]
  },
  {
   "cell_type": "code",
   "execution_count": 24,
   "metadata": {},
   "outputs": [
    {
     "name": "stdout",
     "output_type": "stream",
     "text": [
      "None     2259\n",
      "doggo      97\n",
      "Name: doggo, dtype: int64\n",
      "None       2346\n",
      "floofer      10\n",
      "Name: floofer, dtype: int64\n",
      "None      2099\n",
      "pupper     257\n",
      "Name: pupper, dtype: int64\n",
      "None     2326\n",
      "puppo      30\n",
      "Name: puppo, dtype: int64\n"
     ]
    }
   ],
   "source": [
    "for stage in stage_name:\n",
    "    print(tweet_archive_clean[stage].value_counts())"
   ]
  },
  {
   "cell_type": "markdown",
   "metadata": {},
   "source": [
    "##### code: \n",
    "to replace str 'None' to blank ('')"
   ]
  },
  {
   "cell_type": "code",
   "execution_count": 25,
   "metadata": {},
   "outputs": [],
   "source": [
    "for stage in stage_name:\n",
    "        tweet_archive_clean[stage] = tweet_archive_clean[stage].replace(to_replace = 'None',\\\n",
    "                                                                        value = '')"
   ]
  },
  {
   "cell_type": "markdown",
   "metadata": {},
   "source": [
    "##### test\n",
    "'None' changed to blank "
   ]
  },
  {
   "cell_type": "code",
   "execution_count": 26,
   "metadata": {
    "scrolled": true
   },
   "outputs": [
    {
     "name": "stdout",
     "output_type": "stream",
     "text": [
      "         2259\n",
      "doggo      97\n",
      "Name: doggo, dtype: int64\n",
      "           2346\n",
      "floofer      10\n",
      "Name: floofer, dtype: int64\n",
      "          2099\n",
      "pupper     257\n",
      "Name: pupper, dtype: int64\n",
      "         2326\n",
      "puppo      30\n",
      "Name: puppo, dtype: int64\n"
     ]
    }
   ],
   "source": [
    "for stage in stage_name:\n",
    "    print(tweet_archive_clean[stage].value_counts(dropna = False))"
   ]
  },
  {
   "cell_type": "markdown",
   "metadata": {},
   "source": [
    "##### code: \n",
    "to concatenate the 4 columns"
   ]
  },
  {
   "cell_type": "code",
   "execution_count": 27,
   "metadata": {},
   "outputs": [],
   "source": [
    "tweet_archive_clean['stage'] = (tweet_archive_clean['doggo'] \n",
    "                                + tweet_archive_clean['floofer'] \n",
    "                                + tweet_archive_clean['pupper'] \n",
    "                                + tweet_archive_clean['puppo'])"
   ]
  },
  {
   "cell_type": "markdown",
   "metadata": {},
   "source": [
    "##### test\n",
    "all 4 columns concatenated into 'stage' column\n",
    "\n",
    "##### re-assess\n",
    "- double entries (like doggopupper)\n",
    "- 1976 'blank' is not helpful for further data use"
   ]
  },
  {
   "cell_type": "code",
   "execution_count": 28,
   "metadata": {
    "scrolled": true
   },
   "outputs": [
    {
     "data": {
      "text/plain": [
       "                1976\n",
       "pupper           245\n",
       "doggo             83\n",
       "puppo             29\n",
       "doggopupper       12\n",
       "floofer            9\n",
       "doggofloofer       1\n",
       "doggopuppo         1\n",
       "Name: stage, dtype: int64"
      ]
     },
     "execution_count": 28,
     "metadata": {},
     "output_type": "execute_result"
    }
   ],
   "source": [
    "tweet_archive_clean['stage'].value_counts()"
   ]
  },
  {
   "cell_type": "markdown",
   "metadata": {},
   "source": [
    "##### code: \n",
    "to seperate double entry (i.e. doggopupper) with ','"
   ]
  },
  {
   "cell_type": "code",
   "execution_count": 29,
   "metadata": {},
   "outputs": [],
   "source": [
    "tweet_archive_clean['stage'] = tweet_archive_clean['stage'].str.replace('doggopupper','doggo, pupper')\n",
    "tweet_archive_clean['stage'] = tweet_archive_clean['stage'].str.replace('doggofloofer','doggo, floofer')\n",
    "tweet_archive_clean['stage'] = tweet_archive_clean['stage'].str.replace('doggopuppo','doggo, puppo')"
   ]
  },
  {
   "cell_type": "code",
   "execution_count": 30,
   "metadata": {},
   "outputs": [
    {
     "data": {
      "text/plain": [
       "                  1976\n",
       "pupper             245\n",
       "doggo               83\n",
       "puppo               29\n",
       "doggo, pupper       12\n",
       "floofer              9\n",
       "doggo, floofer       1\n",
       "doggo, puppo         1\n",
       "Name: stage, dtype: int64"
      ]
     },
     "execution_count": 30,
     "metadata": {},
     "output_type": "execute_result"
    }
   ],
   "source": [
    "tweet_archive_clean['stage'].value_counts()"
   ]
  },
  {
   "cell_type": "markdown",
   "metadata": {},
   "source": [
    "##### code: \n",
    "to replace ''(blank) with np.nan for later use"
   ]
  },
  {
   "cell_type": "code",
   "execution_count": 31,
   "metadata": {},
   "outputs": [],
   "source": [
    "tweet_archive_clean.loc[tweet_archive_clean['stage'] == '','stage'] = np.nan"
   ]
  },
  {
   "cell_type": "code",
   "execution_count": 32,
   "metadata": {},
   "outputs": [
    {
     "data": {
      "text/plain": [
       "NaN               1976\n",
       "pupper             245\n",
       "doggo               83\n",
       "puppo               29\n",
       "doggo, pupper       12\n",
       "floofer              9\n",
       "doggo, floofer       1\n",
       "doggo, puppo         1\n",
       "Name: stage, dtype: int64"
      ]
     },
     "execution_count": 32,
     "metadata": {},
     "output_type": "execute_result"
    }
   ],
   "source": [
    "tweet_archive_clean['stage'].value_counts(dropna = False)"
   ]
  },
  {
   "cell_type": "markdown",
   "metadata": {},
   "source": [
    "##### code: \n",
    "to drop the 4 columns ('stage_name' as below)"
   ]
  },
  {
   "cell_type": "code",
   "execution_count": 33,
   "metadata": {},
   "outputs": [
    {
     "data": {
      "text/plain": [
       "['doggo', 'floofer', 'pupper', 'puppo']"
      ]
     },
     "execution_count": 33,
     "metadata": {},
     "output_type": "execute_result"
    }
   ],
   "source": [
    "stage_name"
   ]
  },
  {
   "cell_type": "code",
   "execution_count": 34,
   "metadata": {},
   "outputs": [],
   "source": [
    "tweet_archive_clean.drop(columns = stage_name, inplace = True)"
   ]
  },
  {
   "cell_type": "markdown",
   "metadata": {},
   "source": [
    "##### test\n",
    "`T1.` `tweet_archive_clean` table: doggo, floofer, pupper, puppo are 'dog_stage': one variable"
   ]
  },
  {
   "cell_type": "code",
   "execution_count": 35,
   "metadata": {},
   "outputs": [
    {
     "name": "stdout",
     "output_type": "stream",
     "text": [
      "<class 'pandas.core.frame.DataFrame'>\n",
      "RangeIndex: 2356 entries, 0 to 2355\n",
      "Data columns (total 14 columns):\n",
      " #   Column                      Non-Null Count  Dtype  \n",
      "---  ------                      --------------  -----  \n",
      " 0   tweet_id                    2356 non-null   int64  \n",
      " 1   in_reply_to_status_id       78 non-null     float64\n",
      " 2   in_reply_to_user_id         78 non-null     float64\n",
      " 3   timestamp                   2356 non-null   object \n",
      " 4   source                      2356 non-null   object \n",
      " 5   text                        2356 non-null   object \n",
      " 6   retweeted_status_id         181 non-null    float64\n",
      " 7   retweeted_status_user_id    181 non-null    float64\n",
      " 8   retweeted_status_timestamp  181 non-null    object \n",
      " 9   expanded_urls               2297 non-null   object \n",
      " 10  rating_numerator            2356 non-null   int64  \n",
      " 11  rating_denominator          2356 non-null   int64  \n",
      " 12  name                        2356 non-null   object \n",
      " 13  stage                       380 non-null    object \n",
      "dtypes: float64(4), int64(3), object(7)\n",
      "memory usage: 257.8+ KB\n"
     ]
    }
   ],
   "source": [
    "# stage columns - initially 394 entries from 4 columns, now to 380 (14 double entries into account)\n",
    "tweet_archive_clean.info() "
   ]
  },
  {
   "cell_type": "markdown",
   "metadata": {},
   "source": [
    "### `T2.` `tweet_count` table: same observational unit as `tweet_archive` table"
   ]
  },
  {
   "cell_type": "code",
   "execution_count": 36,
   "metadata": {
    "scrolled": true
   },
   "outputs": [
    {
     "data": {
      "text/plain": [
       "(2356, 14)"
      ]
     },
     "execution_count": 36,
     "metadata": {},
     "output_type": "execute_result"
    }
   ],
   "source": [
    "tweet_archive_clean.shape"
   ]
  },
  {
   "cell_type": "code",
   "execution_count": 37,
   "metadata": {
    "scrolled": true
   },
   "outputs": [
    {
     "data": {
      "text/plain": [
       "(2354, 3)"
      ]
     },
     "execution_count": 37,
     "metadata": {},
     "output_type": "execute_result"
    }
   ],
   "source": [
    "tweet_count_clean.shape"
   ]
  },
  {
   "cell_type": "code",
   "execution_count": 38,
   "metadata": {},
   "outputs": [
    {
     "name": "stdout",
     "output_type": "stream",
     "text": [
      "<class 'pandas.core.frame.DataFrame'>\n",
      "RangeIndex: 2354 entries, 0 to 2353\n",
      "Data columns (total 3 columns):\n",
      " #   Column          Non-Null Count  Dtype\n",
      "---  ------          --------------  -----\n",
      " 0   tweet_id        2354 non-null   int64\n",
      " 1   retweet_count   2354 non-null   int64\n",
      " 2   favorite_count  2354 non-null   int64\n",
      "dtypes: int64(3)\n",
      "memory usage: 55.3 KB\n"
     ]
    }
   ],
   "source": [
    "tweet_count_clean.info()"
   ]
  },
  {
   "cell_type": "markdown",
   "metadata": {},
   "source": [
    "##### define: \n",
    "inner merge `tweet_archive_clean` and `tweet_count_clean` on 'tweet_id' and shorten the table name `tweet_archive_clean` as `tweet_clean` for convenience\n",
    "\n",
    "inner marge to drop as tweet_ids that do not contain the two key variables (retweet_count, favorite_count), but still check if the result is significant after the merge"
   ]
  },
  {
   "cell_type": "markdown",
   "metadata": {},
   "source": [
    "##### code"
   ]
  },
  {
   "cell_type": "code",
   "execution_count": 39,
   "metadata": {},
   "outputs": [],
   "source": [
    "tweet_clean = pd.merge(left = tweet_archive_clean, right = tweet_count_clean, \n",
    "                       left_on= 'tweet_id', right_on= 'tweet_id')"
   ]
  },
  {
   "cell_type": "markdown",
   "metadata": {},
   "source": [
    "##### text\n",
    "non_null tweet_id, retweet_count, favorite_count -> 2354, okay "
   ]
  },
  {
   "cell_type": "code",
   "execution_count": 40,
   "metadata": {
    "scrolled": false
   },
   "outputs": [
    {
     "name": "stdout",
     "output_type": "stream",
     "text": [
      "<class 'pandas.core.frame.DataFrame'>\n",
      "Int64Index: 2354 entries, 0 to 2353\n",
      "Data columns (total 16 columns):\n",
      " #   Column                      Non-Null Count  Dtype  \n",
      "---  ------                      --------------  -----  \n",
      " 0   tweet_id                    2354 non-null   int64  \n",
      " 1   in_reply_to_status_id       78 non-null     float64\n",
      " 2   in_reply_to_user_id         78 non-null     float64\n",
      " 3   timestamp                   2354 non-null   object \n",
      " 4   source                      2354 non-null   object \n",
      " 5   text                        2354 non-null   object \n",
      " 6   retweeted_status_id         179 non-null    float64\n",
      " 7   retweeted_status_user_id    179 non-null    float64\n",
      " 8   retweeted_status_timestamp  179 non-null    object \n",
      " 9   expanded_urls               2295 non-null   object \n",
      " 10  rating_numerator            2354 non-null   int64  \n",
      " 11  rating_denominator          2354 non-null   int64  \n",
      " 12  name                        2354 non-null   object \n",
      " 13  stage                       379 non-null    object \n",
      " 14  retweet_count               2354 non-null   int64  \n",
      " 15  favorite_count              2354 non-null   int64  \n",
      "dtypes: float64(4), int64(5), object(7)\n",
      "memory usage: 312.6+ KB\n"
     ]
    }
   ],
   "source": [
    "tweet_clean.info() "
   ]
  },
  {
   "cell_type": "markdown",
   "metadata": {},
   "source": [
    "### `T3.` we need tweet_id with images: `image_prediction` table has all the necessary images"
   ]
  },
  {
   "cell_type": "code",
   "execution_count": 41,
   "metadata": {},
   "outputs": [
    {
     "name": "stdout",
     "output_type": "stream",
     "text": [
      "<class 'pandas.core.frame.DataFrame'>\n",
      "RangeIndex: 2075 entries, 0 to 2074\n",
      "Data columns (total 12 columns):\n",
      " #   Column    Non-Null Count  Dtype  \n",
      "---  ------    --------------  -----  \n",
      " 0   tweet_id  2075 non-null   int64  \n",
      " 1   jpg_url   2075 non-null   object \n",
      " 2   img_num   2075 non-null   int64  \n",
      " 3   p1        2075 non-null   object \n",
      " 4   p1_conf   2075 non-null   float64\n",
      " 5   p1_dog    2075 non-null   bool   \n",
      " 6   p2        2075 non-null   object \n",
      " 7   p2_conf   2075 non-null   float64\n",
      " 8   p2_dog    2075 non-null   bool   \n",
      " 9   p3        2075 non-null   object \n",
      " 10  p3_conf   2075 non-null   float64\n",
      " 11  p3_dog    2075 non-null   bool   \n",
      "dtypes: bool(3), float64(3), int64(2), object(4)\n",
      "memory usage: 152.1+ KB\n"
     ]
    }
   ],
   "source": [
    "image_prediction_clean.info()"
   ]
  },
  {
   "cell_type": "markdown",
   "metadata": {},
   "source": [
    "##### define: \n",
    "left merge `tweet_clean` to `image_prediction_clean`  on 'tweet_id'. row data that do not have image_predictions information would be dropped as a result"
   ]
  },
  {
   "cell_type": "markdown",
   "metadata": {},
   "source": [
    "##### code: "
   ]
  },
  {
   "cell_type": "code",
   "execution_count": 42,
   "metadata": {},
   "outputs": [],
   "source": [
    "tweet_clean = pd.merge(left = image_prediction_clean, right = tweet_clean, how = 'left', \n",
    "                       left_on = 'tweet_id', right_on = 'tweet_id')"
   ]
  },
  {
   "cell_type": "markdown",
   "metadata": {},
   "source": [
    "##### test:"
   ]
  },
  {
   "cell_type": "code",
   "execution_count": 43,
   "metadata": {
    "scrolled": false
   },
   "outputs": [
    {
     "data": {
      "text/html": [
       "<div>\n",
       "<style scoped>\n",
       "    .dataframe tbody tr th:only-of-type {\n",
       "        vertical-align: middle;\n",
       "    }\n",
       "\n",
       "    .dataframe tbody tr th {\n",
       "        vertical-align: top;\n",
       "    }\n",
       "\n",
       "    .dataframe thead th {\n",
       "        text-align: right;\n",
       "    }\n",
       "</style>\n",
       "<table border=\"1\" class=\"dataframe\">\n",
       "  <thead>\n",
       "    <tr style=\"text-align: right;\">\n",
       "      <th></th>\n",
       "      <th>tweet_id</th>\n",
       "      <th>jpg_url</th>\n",
       "      <th>img_num</th>\n",
       "      <th>p1</th>\n",
       "      <th>p1_conf</th>\n",
       "      <th>p1_dog</th>\n",
       "      <th>p2</th>\n",
       "      <th>p2_conf</th>\n",
       "      <th>p2_dog</th>\n",
       "      <th>p3</th>\n",
       "      <th>p3_conf</th>\n",
       "      <th>p3_dog</th>\n",
       "      <th>in_reply_to_status_id</th>\n",
       "      <th>in_reply_to_user_id</th>\n",
       "      <th>timestamp</th>\n",
       "      <th>source</th>\n",
       "      <th>text</th>\n",
       "      <th>retweeted_status_id</th>\n",
       "      <th>retweeted_status_user_id</th>\n",
       "      <th>retweeted_status_timestamp</th>\n",
       "      <th>expanded_urls</th>\n",
       "      <th>rating_numerator</th>\n",
       "      <th>rating_denominator</th>\n",
       "      <th>name</th>\n",
       "      <th>stage</th>\n",
       "      <th>retweet_count</th>\n",
       "      <th>favorite_count</th>\n",
       "    </tr>\n",
       "  </thead>\n",
       "  <tbody>\n",
       "    <tr>\n",
       "      <th>0</th>\n",
       "      <td>666020888022790149</td>\n",
       "      <td>https://pbs.twimg.com/media/CT4udn0WwAA0aMy.jpg</td>\n",
       "      <td>1</td>\n",
       "      <td>Welsh_springer_spaniel</td>\n",
       "      <td>0.465074</td>\n",
       "      <td>True</td>\n",
       "      <td>collie</td>\n",
       "      <td>0.156665</td>\n",
       "      <td>True</td>\n",
       "      <td>Shetland_sheepdog</td>\n",
       "      <td>0.061428</td>\n",
       "      <td>True</td>\n",
       "      <td>NaN</td>\n",
       "      <td>NaN</td>\n",
       "      <td>2015-11-15 22:32:08 +0000</td>\n",
       "      <td>&lt;a href=\"http://twitter.com/download/iphone\" r...</td>\n",
       "      <td>Here we have a Japanese Irish Setter. Lost eye...</td>\n",
       "      <td>NaN</td>\n",
       "      <td>NaN</td>\n",
       "      <td>NaN</td>\n",
       "      <td>https://twitter.com/dog_rates/status/666020888...</td>\n",
       "      <td>8.0</td>\n",
       "      <td>10.0</td>\n",
       "      <td>None</td>\n",
       "      <td>NaN</td>\n",
       "      <td>532.0</td>\n",
       "      <td>2535.0</td>\n",
       "    </tr>\n",
       "    <tr>\n",
       "      <th>1</th>\n",
       "      <td>666029285002620928</td>\n",
       "      <td>https://pbs.twimg.com/media/CT42GRgUYAA5iDo.jpg</td>\n",
       "      <td>1</td>\n",
       "      <td>redbone</td>\n",
       "      <td>0.506826</td>\n",
       "      <td>True</td>\n",
       "      <td>miniature_pinscher</td>\n",
       "      <td>0.074192</td>\n",
       "      <td>True</td>\n",
       "      <td>Rhodesian_ridgeback</td>\n",
       "      <td>0.072010</td>\n",
       "      <td>True</td>\n",
       "      <td>NaN</td>\n",
       "      <td>NaN</td>\n",
       "      <td>2015-11-15 23:05:30 +0000</td>\n",
       "      <td>&lt;a href=\"http://twitter.com/download/iphone\" r...</td>\n",
       "      <td>This is a western brown Mitsubishi terrier. Up...</td>\n",
       "      <td>NaN</td>\n",
       "      <td>NaN</td>\n",
       "      <td>NaN</td>\n",
       "      <td>https://twitter.com/dog_rates/status/666029285...</td>\n",
       "      <td>7.0</td>\n",
       "      <td>10.0</td>\n",
       "      <td>a</td>\n",
       "      <td>NaN</td>\n",
       "      <td>48.0</td>\n",
       "      <td>132.0</td>\n",
       "    </tr>\n",
       "    <tr>\n",
       "      <th>2</th>\n",
       "      <td>666033412701032449</td>\n",
       "      <td>https://pbs.twimg.com/media/CT4521TWwAEvMyu.jpg</td>\n",
       "      <td>1</td>\n",
       "      <td>German_shepherd</td>\n",
       "      <td>0.596461</td>\n",
       "      <td>True</td>\n",
       "      <td>malinois</td>\n",
       "      <td>0.138584</td>\n",
       "      <td>True</td>\n",
       "      <td>bloodhound</td>\n",
       "      <td>0.116197</td>\n",
       "      <td>True</td>\n",
       "      <td>NaN</td>\n",
       "      <td>NaN</td>\n",
       "      <td>2015-11-15 23:21:54 +0000</td>\n",
       "      <td>&lt;a href=\"http://twitter.com/download/iphone\" r...</td>\n",
       "      <td>Here is a very happy pup. Big fan of well-main...</td>\n",
       "      <td>NaN</td>\n",
       "      <td>NaN</td>\n",
       "      <td>NaN</td>\n",
       "      <td>https://twitter.com/dog_rates/status/666033412...</td>\n",
       "      <td>9.0</td>\n",
       "      <td>10.0</td>\n",
       "      <td>a</td>\n",
       "      <td>NaN</td>\n",
       "      <td>47.0</td>\n",
       "      <td>128.0</td>\n",
       "    </tr>\n",
       "    <tr>\n",
       "      <th>3</th>\n",
       "      <td>666044226329800704</td>\n",
       "      <td>https://pbs.twimg.com/media/CT5Dr8HUEAA-lEu.jpg</td>\n",
       "      <td>1</td>\n",
       "      <td>Rhodesian_ridgeback</td>\n",
       "      <td>0.408143</td>\n",
       "      <td>True</td>\n",
       "      <td>redbone</td>\n",
       "      <td>0.360687</td>\n",
       "      <td>True</td>\n",
       "      <td>miniature_pinscher</td>\n",
       "      <td>0.222752</td>\n",
       "      <td>True</td>\n",
       "      <td>NaN</td>\n",
       "      <td>NaN</td>\n",
       "      <td>2015-11-16 00:04:52 +0000</td>\n",
       "      <td>&lt;a href=\"http://twitter.com/download/iphone\" r...</td>\n",
       "      <td>This is a purebred Piers Morgan. Loves to Netf...</td>\n",
       "      <td>NaN</td>\n",
       "      <td>NaN</td>\n",
       "      <td>NaN</td>\n",
       "      <td>https://twitter.com/dog_rates/status/666044226...</td>\n",
       "      <td>6.0</td>\n",
       "      <td>10.0</td>\n",
       "      <td>a</td>\n",
       "      <td>NaN</td>\n",
       "      <td>147.0</td>\n",
       "      <td>311.0</td>\n",
       "    </tr>\n",
       "    <tr>\n",
       "      <th>4</th>\n",
       "      <td>666049248165822465</td>\n",
       "      <td>https://pbs.twimg.com/media/CT5IQmsXIAAKY4A.jpg</td>\n",
       "      <td>1</td>\n",
       "      <td>miniature_pinscher</td>\n",
       "      <td>0.560311</td>\n",
       "      <td>True</td>\n",
       "      <td>Rottweiler</td>\n",
       "      <td>0.243682</td>\n",
       "      <td>True</td>\n",
       "      <td>Doberman</td>\n",
       "      <td>0.154629</td>\n",
       "      <td>True</td>\n",
       "      <td>NaN</td>\n",
       "      <td>NaN</td>\n",
       "      <td>2015-11-16 00:24:50 +0000</td>\n",
       "      <td>&lt;a href=\"http://twitter.com/download/iphone\" r...</td>\n",
       "      <td>Here we have a 1949 1st generation vulpix. Enj...</td>\n",
       "      <td>NaN</td>\n",
       "      <td>NaN</td>\n",
       "      <td>NaN</td>\n",
       "      <td>https://twitter.com/dog_rates/status/666049248...</td>\n",
       "      <td>5.0</td>\n",
       "      <td>10.0</td>\n",
       "      <td>None</td>\n",
       "      <td>NaN</td>\n",
       "      <td>41.0</td>\n",
       "      <td>111.0</td>\n",
       "    </tr>\n",
       "  </tbody>\n",
       "</table>\n",
       "</div>"
      ],
      "text/plain": [
       "             tweet_id                                          jpg_url  \\\n",
       "0  666020888022790149  https://pbs.twimg.com/media/CT4udn0WwAA0aMy.jpg   \n",
       "1  666029285002620928  https://pbs.twimg.com/media/CT42GRgUYAA5iDo.jpg   \n",
       "2  666033412701032449  https://pbs.twimg.com/media/CT4521TWwAEvMyu.jpg   \n",
       "3  666044226329800704  https://pbs.twimg.com/media/CT5Dr8HUEAA-lEu.jpg   \n",
       "4  666049248165822465  https://pbs.twimg.com/media/CT5IQmsXIAAKY4A.jpg   \n",
       "\n",
       "   img_num                      p1   p1_conf  p1_dog                  p2  \\\n",
       "0        1  Welsh_springer_spaniel  0.465074    True              collie   \n",
       "1        1                 redbone  0.506826    True  miniature_pinscher   \n",
       "2        1         German_shepherd  0.596461    True            malinois   \n",
       "3        1     Rhodesian_ridgeback  0.408143    True             redbone   \n",
       "4        1      miniature_pinscher  0.560311    True          Rottweiler   \n",
       "\n",
       "    p2_conf  p2_dog                   p3   p3_conf  p3_dog  \\\n",
       "0  0.156665    True    Shetland_sheepdog  0.061428    True   \n",
       "1  0.074192    True  Rhodesian_ridgeback  0.072010    True   \n",
       "2  0.138584    True           bloodhound  0.116197    True   \n",
       "3  0.360687    True   miniature_pinscher  0.222752    True   \n",
       "4  0.243682    True             Doberman  0.154629    True   \n",
       "\n",
       "   in_reply_to_status_id  in_reply_to_user_id                  timestamp  \\\n",
       "0                    NaN                  NaN  2015-11-15 22:32:08 +0000   \n",
       "1                    NaN                  NaN  2015-11-15 23:05:30 +0000   \n",
       "2                    NaN                  NaN  2015-11-15 23:21:54 +0000   \n",
       "3                    NaN                  NaN  2015-11-16 00:04:52 +0000   \n",
       "4                    NaN                  NaN  2015-11-16 00:24:50 +0000   \n",
       "\n",
       "                                              source  \\\n",
       "0  <a href=\"http://twitter.com/download/iphone\" r...   \n",
       "1  <a href=\"http://twitter.com/download/iphone\" r...   \n",
       "2  <a href=\"http://twitter.com/download/iphone\" r...   \n",
       "3  <a href=\"http://twitter.com/download/iphone\" r...   \n",
       "4  <a href=\"http://twitter.com/download/iphone\" r...   \n",
       "\n",
       "                                                text  retweeted_status_id  \\\n",
       "0  Here we have a Japanese Irish Setter. Lost eye...                  NaN   \n",
       "1  This is a western brown Mitsubishi terrier. Up...                  NaN   \n",
       "2  Here is a very happy pup. Big fan of well-main...                  NaN   \n",
       "3  This is a purebred Piers Morgan. Loves to Netf...                  NaN   \n",
       "4  Here we have a 1949 1st generation vulpix. Enj...                  NaN   \n",
       "\n",
       "   retweeted_status_user_id retweeted_status_timestamp  \\\n",
       "0                       NaN                        NaN   \n",
       "1                       NaN                        NaN   \n",
       "2                       NaN                        NaN   \n",
       "3                       NaN                        NaN   \n",
       "4                       NaN                        NaN   \n",
       "\n",
       "                                       expanded_urls  rating_numerator  \\\n",
       "0  https://twitter.com/dog_rates/status/666020888...               8.0   \n",
       "1  https://twitter.com/dog_rates/status/666029285...               7.0   \n",
       "2  https://twitter.com/dog_rates/status/666033412...               9.0   \n",
       "3  https://twitter.com/dog_rates/status/666044226...               6.0   \n",
       "4  https://twitter.com/dog_rates/status/666049248...               5.0   \n",
       "\n",
       "   rating_denominator  name stage  retweet_count  favorite_count  \n",
       "0                10.0  None   NaN          532.0          2535.0  \n",
       "1                10.0     a   NaN           48.0           132.0  \n",
       "2                10.0     a   NaN           47.0           128.0  \n",
       "3                10.0     a   NaN          147.0           311.0  \n",
       "4                10.0  None   NaN           41.0           111.0  "
      ]
     },
     "execution_count": 43,
     "metadata": {},
     "output_type": "execute_result"
    }
   ],
   "source": [
    "tweet_clean.head()"
   ]
  },
  {
   "cell_type": "code",
   "execution_count": 4,
   "metadata": {
    "scrolled": false
   },
   "outputs": [],
   "source": [
    "# tweet_clean.info()"
   ]
  },
  {
   "cell_type": "markdown",
   "metadata": {},
   "source": [
    "[Go back to Table of Contents](#workflow)"
   ]
  },
  {
   "cell_type": "markdown",
   "metadata": {},
   "source": [
    "<a id = 'quality'></a>\n",
    "### Quality\n",
    "\n",
    "1. missing data in 'expanded_urls' column (2297 vs 2356) \n",
    "2. NaN in in_reply_to_status_id, in_reply_to_user_id columns (78 rows with non_null: replys)\n",
    "3. NaN in retweeted_status_id, retweet4ed_status_user_id, retweeted_status_timestamp (181 rows with non-null: retweets)\n",
    "4. erroneous data types: \n",
    "    - tweet_id, in_reply_to_status_id, in_reply_to_user_id,retweeted_status_id, retweet4ed_status_user_id   \n",
    "    - 'timestamp'(for inspecting tweets beyond August 1st, 2017)\n",
    "    - 'retweet count' and favorite count -> int\n",
    "5. source column with '<a href= >' tag\n",
    "6. some values in 'rating_denominator' are not equal to 10 \n",
    "7. missing / incorrect dog names\n",
    "8. inconsistent 'expanded_urls' column\n",
    "9. some rows contains images that are not dogs"
   ]
  },
  {
   "cell_type": "markdown",
   "metadata": {},
   "source": [
    "### `Q1.` missing data in 'expanded_urls' column (2297 vs 2356) "
   ]
  },
  {
   "cell_type": "code",
   "execution_count": 45,
   "metadata": {},
   "outputs": [
    {
     "data": {
      "text/html": [
       "<div>\n",
       "<style scoped>\n",
       "    .dataframe tbody tr th:only-of-type {\n",
       "        vertical-align: middle;\n",
       "    }\n",
       "\n",
       "    .dataframe tbody tr th {\n",
       "        vertical-align: top;\n",
       "    }\n",
       "\n",
       "    .dataframe thead th {\n",
       "        text-align: right;\n",
       "    }\n",
       "</style>\n",
       "<table border=\"1\" class=\"dataframe\">\n",
       "  <thead>\n",
       "    <tr style=\"text-align: right;\">\n",
       "      <th></th>\n",
       "      <th>tweet_id</th>\n",
       "      <th>jpg_url</th>\n",
       "      <th>img_num</th>\n",
       "      <th>p1</th>\n",
       "      <th>p1_conf</th>\n",
       "      <th>p1_dog</th>\n",
       "      <th>p2</th>\n",
       "      <th>p2_conf</th>\n",
       "      <th>p2_dog</th>\n",
       "      <th>p3</th>\n",
       "      <th>p3_conf</th>\n",
       "      <th>p3_dog</th>\n",
       "      <th>in_reply_to_status_id</th>\n",
       "      <th>in_reply_to_user_id</th>\n",
       "      <th>timestamp</th>\n",
       "      <th>source</th>\n",
       "      <th>text</th>\n",
       "      <th>retweeted_status_id</th>\n",
       "      <th>retweeted_status_user_id</th>\n",
       "      <th>retweeted_status_timestamp</th>\n",
       "      <th>expanded_urls</th>\n",
       "      <th>rating_numerator</th>\n",
       "      <th>rating_denominator</th>\n",
       "      <th>name</th>\n",
       "      <th>stage</th>\n",
       "      <th>retweet_count</th>\n",
       "      <th>favorite_count</th>\n",
       "    </tr>\n",
       "  </thead>\n",
       "  <tbody>\n",
       "    <tr>\n",
       "      <th>1413</th>\n",
       "      <td>771004394259247104</td>\n",
       "      <td>https://pbs.twimg.com/media/CrMmVqyWcAIDCHI.jpg</td>\n",
       "      <td>1</td>\n",
       "      <td>home_theater</td>\n",
       "      <td>0.414338</td>\n",
       "      <td>False</td>\n",
       "      <td>iPod</td>\n",
       "      <td>0.052741</td>\n",
       "      <td>False</td>\n",
       "      <td>pop_bottle</td>\n",
       "      <td>0.048821</td>\n",
       "      <td>False</td>\n",
       "      <td>NaN</td>\n",
       "      <td>NaN</td>\n",
       "      <td>NaN</td>\n",
       "      <td>NaN</td>\n",
       "      <td>NaN</td>\n",
       "      <td>NaN</td>\n",
       "      <td>NaN</td>\n",
       "      <td>NaN</td>\n",
       "      <td>NaN</td>\n",
       "      <td>NaN</td>\n",
       "      <td>NaN</td>\n",
       "      <td>NaN</td>\n",
       "      <td>NaN</td>\n",
       "      <td>NaN</td>\n",
       "      <td>NaN</td>\n",
       "    </tr>\n",
       "    <tr>\n",
       "      <th>2055</th>\n",
       "      <td>888202515573088257</td>\n",
       "      <td>https://pbs.twimg.com/media/DFDw2tyUQAAAFke.jpg</td>\n",
       "      <td>2</td>\n",
       "      <td>Pembroke</td>\n",
       "      <td>0.809197</td>\n",
       "      <td>True</td>\n",
       "      <td>Rhodesian_ridgeback</td>\n",
       "      <td>0.054950</td>\n",
       "      <td>True</td>\n",
       "      <td>beagle</td>\n",
       "      <td>0.038915</td>\n",
       "      <td>True</td>\n",
       "      <td>NaN</td>\n",
       "      <td>NaN</td>\n",
       "      <td>NaN</td>\n",
       "      <td>NaN</td>\n",
       "      <td>NaN</td>\n",
       "      <td>NaN</td>\n",
       "      <td>NaN</td>\n",
       "      <td>NaN</td>\n",
       "      <td>NaN</td>\n",
       "      <td>NaN</td>\n",
       "      <td>NaN</td>\n",
       "      <td>NaN</td>\n",
       "      <td>NaN</td>\n",
       "      <td>NaN</td>\n",
       "      <td>NaN</td>\n",
       "    </tr>\n",
       "  </tbody>\n",
       "</table>\n",
       "</div>"
      ],
      "text/plain": [
       "                tweet_id                                          jpg_url  \\\n",
       "1413  771004394259247104  https://pbs.twimg.com/media/CrMmVqyWcAIDCHI.jpg   \n",
       "2055  888202515573088257  https://pbs.twimg.com/media/DFDw2tyUQAAAFke.jpg   \n",
       "\n",
       "      img_num            p1   p1_conf  p1_dog                   p2   p2_conf  \\\n",
       "1413        1  home_theater  0.414338   False                 iPod  0.052741   \n",
       "2055        2      Pembroke  0.809197    True  Rhodesian_ridgeback  0.054950   \n",
       "\n",
       "      p2_dog          p3   p3_conf  p3_dog  in_reply_to_status_id  \\\n",
       "1413   False  pop_bottle  0.048821   False                    NaN   \n",
       "2055    True      beagle  0.038915    True                    NaN   \n",
       "\n",
       "      in_reply_to_user_id timestamp source text  retweeted_status_id  \\\n",
       "1413                  NaN       NaN    NaN  NaN                  NaN   \n",
       "2055                  NaN       NaN    NaN  NaN                  NaN   \n",
       "\n",
       "      retweeted_status_user_id retweeted_status_timestamp expanded_urls  \\\n",
       "1413                       NaN                        NaN           NaN   \n",
       "2055                       NaN                        NaN           NaN   \n",
       "\n",
       "      rating_numerator  rating_denominator name stage  retweet_count  \\\n",
       "1413               NaN                 NaN  NaN   NaN            NaN   \n",
       "2055               NaN                 NaN  NaN   NaN            NaN   \n",
       "\n",
       "      favorite_count  \n",
       "1413             NaN  \n",
       "2055             NaN  "
      ]
     },
     "execution_count": 45,
     "metadata": {},
     "output_type": "execute_result"
    }
   ],
   "source": [
    "tweet_clean[tweet_clean.expanded_urls.isnull()] "
   ]
  },
  {
   "cell_type": "markdown",
   "metadata": {},
   "source": [
    "##### define\n",
    "After merging, there are two rows that have null values. As they don't have information about 'retweet_count' and 'favorite_count' (our key data). Drop the 2 rows."
   ]
  },
  {
   "cell_type": "markdown",
   "metadata": {},
   "source": [
    "##### code"
   ]
  },
  {
   "cell_type": "code",
   "execution_count": 46,
   "metadata": {},
   "outputs": [],
   "source": [
    "tweet_clean = tweet_clean[tweet_clean.expanded_urls.notnull()] "
   ]
  },
  {
   "cell_type": "markdown",
   "metadata": {},
   "source": [
    "##### test"
   ]
  },
  {
   "cell_type": "code",
   "execution_count": 9,
   "metadata": {},
   "outputs": [],
   "source": [
    "# tweet_clean.info() # 2073 after removing the 2 rows"
   ]
  },
  {
   "cell_type": "markdown",
   "metadata": {},
   "source": [
    "### `Q2.` in_reply_to_status_id, in_reply_to_user_id columns: 78 rows with non_null data indicates the tweets are actually ‘replies’"
   ]
  },
  {
   "cell_type": "markdown",
   "metadata": {},
   "source": [
    "##### Inspired by a Udacity Knowledge thread https://knowledge.udacity.com/questions/79100\n",
    "\n",
    "##### define\n",
    "Inspect the rows with non_null values first. Drop them for the sake of quality data with original tweets"
   ]
  },
  {
   "cell_type": "code",
   "execution_count": 48,
   "metadata": {},
   "outputs": [
    {
     "data": {
      "text/plain": [
       "23"
      ]
     },
     "execution_count": 48,
     "metadata": {},
     "output_type": "execute_result"
    }
   ],
   "source": [
    "len(tweet_clean[tweet_clean['in_reply_to_status_id'].notnull()]) # 23 entries "
   ]
  },
  {
   "cell_type": "code",
   "execution_count": 49,
   "metadata": {},
   "outputs": [
    {
     "data": {
      "text/plain": [
       "2073"
      ]
     },
     "execution_count": 49,
     "metadata": {},
     "output_type": "execute_result"
    }
   ],
   "source": [
    "len(tweet_clean)"
   ]
  },
  {
   "cell_type": "markdown",
   "metadata": {},
   "source": [
    "##### code \n",
    "to drop the rows that contain replys (23 rows)"
   ]
  },
  {
   "cell_type": "code",
   "execution_count": 50,
   "metadata": {},
   "outputs": [],
   "source": [
    "tweet_clean = tweet_clean[tweet_clean['in_reply_to_status_id'].isnull()]"
   ]
  },
  {
   "cell_type": "markdown",
   "metadata": {},
   "source": [
    "##### test"
   ]
  },
  {
   "cell_type": "code",
   "execution_count": 8,
   "metadata": {},
   "outputs": [],
   "source": [
    "# tweet_clean.info() "
   ]
  },
  {
   "cell_type": "markdown",
   "metadata": {},
   "source": [
    "##### code\n",
    "then to remove 'in_reply_to_status_id', 'in_reply_to_user_id' columns with no data entries"
   ]
  },
  {
   "cell_type": "code",
   "execution_count": 52,
   "metadata": {},
   "outputs": [],
   "source": [
    "tweet_clean = tweet_clean.drop(columns = ['in_reply_to_status_id', 'in_reply_to_user_id'])"
   ]
  },
  {
   "cell_type": "markdown",
   "metadata": {},
   "source": [
    "##### test"
   ]
  },
  {
   "cell_type": "code",
   "execution_count": 7,
   "metadata": {},
   "outputs": [],
   "source": [
    "# tweet_clean.info()"
   ]
  },
  {
   "cell_type": "markdown",
   "metadata": {},
   "source": [
    "### `Q3.` retweeted_status_id, retweet4ed_status_user_id, retweeted_status_timestamp : 181 rows with non-null data are ‘retweets’"
   ]
  },
  {
   "cell_type": "markdown",
   "metadata": {},
   "source": [
    "##### define\n",
    "\n",
    "We are interested in getting original tweets (no retweets) so remove the 79 rows with non-null values in retweeted_status_id (retweeted_status_user_id, retweeted_status_timestamp) column. Then, drop the three columns as they should be filled with unnecessary 0 non-null values - check before removing them"
   ]
  },
  {
   "cell_type": "code",
   "execution_count": 5,
   "metadata": {
    "scrolled": false
   },
   "outputs": [],
   "source": [
    "# tweet_clean[tweet_clean['retweeted_status_id'].notnull()] # text column all starts with RT @"
   ]
  },
  {
   "cell_type": "markdown",
   "metadata": {},
   "source": [
    "##### code"
   ]
  },
  {
   "cell_type": "code",
   "execution_count": 55,
   "metadata": {},
   "outputs": [],
   "source": [
    "tweet_clean = tweet_clean[tweet_clean['retweeted_status_id'].isnull()]"
   ]
  },
  {
   "cell_type": "markdown",
   "metadata": {},
   "source": [
    "##### test"
   ]
  },
  {
   "cell_type": "code",
   "execution_count": 6,
   "metadata": {
    "scrolled": false
   },
   "outputs": [],
   "source": [
    "# tweet_clean.info() # 0 non-null values for the three columns"
   ]
  },
  {
   "cell_type": "markdown",
   "metadata": {},
   "source": [
    "##### code"
   ]
  },
  {
   "cell_type": "code",
   "execution_count": 57,
   "metadata": {},
   "outputs": [],
   "source": [
    "tweet_clean = tweet_clean.drop(columns = ['retweeted_status_id', \n",
    "                                          'retweeted_status_user_id', \n",
    "                                          'retweeted_status_timestamp'])"
   ]
  },
  {
   "cell_type": "markdown",
   "metadata": {},
   "source": [
    "##### test"
   ]
  },
  {
   "cell_type": "code",
   "execution_count": 10,
   "metadata": {},
   "outputs": [],
   "source": [
    "# tweet_clean.info()"
   ]
  },
  {
   "cell_type": "markdown",
   "metadata": {},
   "source": [
    "### `Q4.` erroneous data types: "
   ]
  },
  {
   "cell_type": "markdown",
   "metadata": {},
   "source": [
    "##### define\n",
    "- tweet_id -> use astype to transform into string\n",
    "- retweet_count, favorite count -> use astype to transform into int\n",
    "- timestamp -> use to_datetime to transform into datetime object.\n",
    "- timetstamp -> inspect if all date are not beyond August 1st, 2017 (< '2017-08-01')\n"
   ]
  },
  {
   "cell_type": "markdown",
   "metadata": {},
   "source": [
    "##### code"
   ]
  },
  {
   "cell_type": "code",
   "execution_count": 59,
   "metadata": {},
   "outputs": [],
   "source": [
    "tweet_clean.tweet_id = tweet_clean.tweet_id.astype(str)"
   ]
  },
  {
   "cell_type": "code",
   "execution_count": 60,
   "metadata": {},
   "outputs": [],
   "source": [
    "tweet_clean.retweet_count = tweet_clean.retweet_count.astype(int)\n",
    "tweet_clean.favorite_count = tweet_clean.favorite_count.astype(int)"
   ]
  },
  {
   "cell_type": "code",
   "execution_count": 61,
   "metadata": {},
   "outputs": [],
   "source": [
    "tweet_clean['timestamp'] = pd.to_datetime(tweet_clean['timestamp'])"
   ]
  },
  {
   "cell_type": "code",
   "execution_count": 62,
   "metadata": {
    "scrolled": true
   },
   "outputs": [
    {
     "data": {
      "text/html": [
       "<div>\n",
       "<style scoped>\n",
       "    .dataframe tbody tr th:only-of-type {\n",
       "        vertical-align: middle;\n",
       "    }\n",
       "\n",
       "    .dataframe tbody tr th {\n",
       "        vertical-align: top;\n",
       "    }\n",
       "\n",
       "    .dataframe thead th {\n",
       "        text-align: right;\n",
       "    }\n",
       "</style>\n",
       "<table border=\"1\" class=\"dataframe\">\n",
       "  <thead>\n",
       "    <tr style=\"text-align: right;\">\n",
       "      <th></th>\n",
       "      <th>tweet_id</th>\n",
       "      <th>jpg_url</th>\n",
       "      <th>img_num</th>\n",
       "      <th>p1</th>\n",
       "      <th>p1_conf</th>\n",
       "      <th>p1_dog</th>\n",
       "      <th>p2</th>\n",
       "      <th>p2_conf</th>\n",
       "      <th>p2_dog</th>\n",
       "      <th>p3</th>\n",
       "      <th>p3_conf</th>\n",
       "      <th>p3_dog</th>\n",
       "      <th>timestamp</th>\n",
       "      <th>source</th>\n",
       "      <th>text</th>\n",
       "      <th>expanded_urls</th>\n",
       "      <th>rating_numerator</th>\n",
       "      <th>rating_denominator</th>\n",
       "      <th>name</th>\n",
       "      <th>stage</th>\n",
       "      <th>retweet_count</th>\n",
       "      <th>favorite_count</th>\n",
       "    </tr>\n",
       "  </thead>\n",
       "  <tbody>\n",
       "  </tbody>\n",
       "</table>\n",
       "</div>"
      ],
      "text/plain": [
       "Empty DataFrame\n",
       "Columns: [tweet_id, jpg_url, img_num, p1, p1_conf, p1_dog, p2, p2_conf, p2_dog, p3, p3_conf, p3_dog, timestamp, source, text, expanded_urls, rating_numerator, rating_denominator, name, stage, retweet_count, favorite_count]\n",
       "Index: []"
      ]
     },
     "execution_count": 62,
     "metadata": {},
     "output_type": "execute_result"
    }
   ],
   "source": [
    "tweet_clean[tweet_clean['timestamp'] > '2017-08-02'] # checking dates beyond Aug 1 2017"
   ]
  },
  {
   "cell_type": "markdown",
   "metadata": {},
   "source": [
    "##### test"
   ]
  },
  {
   "cell_type": "code",
   "execution_count": 11,
   "metadata": {
    "scrolled": true
   },
   "outputs": [],
   "source": [
    "# tweet_clean.info()"
   ]
  },
  {
   "cell_type": "markdown",
   "metadata": {},
   "source": [
    "\n"
   ]
  },
  {
   "cell_type": "markdown",
   "metadata": {},
   "source": [
    "### `Q5.` source column with '<a href= ></a>' tag"
   ]
  },
  {
   "cell_type": "markdown",
   "metadata": {},
   "source": [
    "##### reassess\n",
    "before applying the regex to all, test it with a few text first. Also, compare before and after counts by using value_counts() method to check if all entries are still correctly placed\n",
    "\n",
    "##### define\n",
    "\n",
    "create a regex to pull <a href></a> tag out of the text, and replace them with blank(' ')."
   ]
  },
  {
   "cell_type": "code",
   "execution_count": 64,
   "metadata": {},
   "outputs": [
    {
     "data": {
      "text/plain": [
       "'<a href=\"http://twitter.com/download/iphone\" rel=\"nofollow\">Twitter for iPhone</a>'"
      ]
     },
     "execution_count": 64,
     "metadata": {},
     "output_type": "execute_result"
    }
   ],
   "source": [
    "#format\n",
    "tweet_clean.source[1]"
   ]
  },
  {
   "cell_type": "code",
   "execution_count": 65,
   "metadata": {},
   "outputs": [
    {
     "data": {
      "text/plain": [
       "1    Twitter for iPhone\n",
       "2    Twitter for iPhone\n",
       "3    Twitter for iPhone\n",
       "4    Twitter for iPhone\n",
       "5    Twitter for iPhone\n",
       "6    Twitter for iPhone\n",
       "7    Twitter for iPhone\n",
       "8    Twitter for iPhone\n",
       "9    Twitter for iPhone\n",
       "Name: source, dtype: object"
      ]
     },
     "execution_count": 65,
     "metadata": {},
     "output_type": "execute_result"
    }
   ],
   "source": [
    "#test - regex\n",
    "tweet_clean.source[1:10].str.replace(r'(?:^<a[\\s\\w=\":/\".]+>)|(?:[</a]+>)','', regex = True)"
   ]
  },
  {
   "cell_type": "code",
   "execution_count": 66,
   "metadata": {},
   "outputs": [
    {
     "data": {
      "text/plain": [
       "<a href=\"http://twitter.com/download/iphone\" rel=\"nofollow\">Twitter for iPhone</a>     1932\n",
       "<a href=\"http://twitter.com\" rel=\"nofollow\">Twitter Web Client</a>                       28\n",
       "<a href=\"https://about.twitter.com/products/tweetdeck\" rel=\"nofollow\">TweetDeck</a>      11\n",
       "Name: source, dtype: int64"
      ]
     },
     "execution_count": 66,
     "metadata": {},
     "output_type": "execute_result"
    }
   ],
   "source": [
    "# for the test purpose: value_counts() - before applying the regrex\n",
    "# 1932 Twitter for iPhone, 28 Twitter Web Client # 11 TweetDeck\n",
    "tweet_clean.source.value_counts()"
   ]
  },
  {
   "cell_type": "markdown",
   "metadata": {},
   "source": [
    "##### code"
   ]
  },
  {
   "cell_type": "code",
   "execution_count": 67,
   "metadata": {
    "scrolled": true
   },
   "outputs": [],
   "source": [
    "tweet_clean.source = tweet_clean.source.str.replace(r'(?:^<a[\\s\\w=\":/\".]+>)|(?:[</a]+>)','', \n",
    "                                                    regex = True)"
   ]
  },
  {
   "cell_type": "markdown",
   "metadata": {},
   "source": [
    "##### test\n",
    "value_counts - after the regex replacement, correct!"
   ]
  },
  {
   "cell_type": "code",
   "execution_count": 68,
   "metadata": {
    "scrolled": true
   },
   "outputs": [
    {
     "data": {
      "text/plain": [
       "Twitter for iPhone    1932\n",
       "Twitter Web Client      28\n",
       "TweetDeck               11\n",
       "Name: source, dtype: int64"
      ]
     },
     "execution_count": 68,
     "metadata": {},
     "output_type": "execute_result"
    }
   ],
   "source": [
    "tweet_clean.source.value_counts() "
   ]
  },
  {
   "cell_type": "markdown",
   "metadata": {},
   "source": [
    "### `Q6.` some values in 'rating_denominator' are not equal to 10 \n"
   ]
  },
  {
   "cell_type": "markdown",
   "metadata": {},
   "source": [
    "##### reassess\n",
    "inspect again all the rows with 'rating_denominator' != 10, and 'text' column. \n",
    "\n",
    "##### define\n",
    "use a regex expression to pull more than one rating values ([\\d]+/[\\d+]) from the text, then replace.\n",
    "\n",
    "##### Inspired by a Udacity Knowledge thread: https://knowledge.udacity.com/questions/110847"
   ]
  },
  {
   "cell_type": "code",
   "execution_count": 69,
   "metadata": {},
   "outputs": [],
   "source": [
    "suspect_denom = tweet_clean[tweet_clean['rating_denominator'] != 10]"
   ]
  },
  {
   "cell_type": "code",
   "execution_count": 70,
   "metadata": {},
   "outputs": [
    {
     "data": {
      "text/plain": [
       "'This is an Albanian 3 1/2 legged  Episcopalian. Loves well-polished hardwood flooring. Penis on the collar. 9/10 https://t.co/d9NcXFKwLv'"
      ]
     },
     "execution_count": 70,
     "metadata": {},
     "output_type": "execute_result"
    }
   ],
   "source": [
    "suspect_denom['text'].iloc[0]"
   ]
  },
  {
   "cell_type": "markdown",
   "metadata": {},
   "source": [
    "##### code"
   ]
  },
  {
   "cell_type": "code",
   "execution_count": 71,
   "metadata": {
    "scrolled": true
   },
   "outputs": [],
   "source": [
    "# rows that the rating format repeats twice\n",
    "# second columns should be the correc rating\n",
    "correct_denom = suspect_denom['text'].str.extract(r'([\\d]+/[\\d]+){1}.*?([\\d]+/[\\d]+)', expand = True).iloc[:,1].str.split('/')\n",
    "correct_denom = correct_denom[correct_denom.notnull()]"
   ]
  },
  {
   "cell_type": "code",
   "execution_count": 72,
   "metadata": {},
   "outputs": [],
   "source": [
    "for index in list(correct_denom.index):\n",
    "    tweet_clean.loc[index, 'rating_numerator'] = float(correct_denom.loc[index][0])\n",
    "    tweet_clean.loc[index, 'rating_denominator'] = float(correct_denom.loc[index][1])"
   ]
  },
  {
   "cell_type": "markdown",
   "metadata": {},
   "source": [
    "##### test"
   ]
  },
  {
   "cell_type": "code",
   "execution_count": 73,
   "metadata": {
    "scrolled": true
   },
   "outputs": [
    {
     "data": {
      "text/html": [
       "<div>\n",
       "<style scoped>\n",
       "    .dataframe tbody tr th:only-of-type {\n",
       "        vertical-align: middle;\n",
       "    }\n",
       "\n",
       "    .dataframe tbody tr th {\n",
       "        vertical-align: top;\n",
       "    }\n",
       "\n",
       "    .dataframe thead th {\n",
       "        text-align: right;\n",
       "    }\n",
       "</style>\n",
       "<table border=\"1\" class=\"dataframe\">\n",
       "  <thead>\n",
       "    <tr style=\"text-align: right;\">\n",
       "      <th></th>\n",
       "      <th>rating_numerator</th>\n",
       "      <th>rating_denominator</th>\n",
       "    </tr>\n",
       "  </thead>\n",
       "  <tbody>\n",
       "    <tr>\n",
       "      <th>20</th>\n",
       "      <td>9.0</td>\n",
       "      <td>10.0</td>\n",
       "    </tr>\n",
       "    <tr>\n",
       "      <th>667</th>\n",
       "      <td>10.0</td>\n",
       "      <td>10.0</td>\n",
       "    </tr>\n",
       "    <tr>\n",
       "      <th>1071</th>\n",
       "      <td>11.0</td>\n",
       "      <td>10.0</td>\n",
       "    </tr>\n",
       "    <tr>\n",
       "      <th>1105</th>\n",
       "      <td>13.0</td>\n",
       "      <td>10.0</td>\n",
       "    </tr>\n",
       "    <tr>\n",
       "      <th>1196</th>\n",
       "      <td>14.0</td>\n",
       "      <td>10.0</td>\n",
       "    </tr>\n",
       "  </tbody>\n",
       "</table>\n",
       "</div>"
      ],
      "text/plain": [
       "      rating_numerator  rating_denominator\n",
       "20                 9.0                10.0\n",
       "667               10.0                10.0\n",
       "1071              11.0                10.0\n",
       "1105              13.0                10.0\n",
       "1196              14.0                10.0"
      ]
     },
     "execution_count": 73,
     "metadata": {},
     "output_type": "execute_result"
    }
   ],
   "source": [
    "tweet_clean.loc[list(correct_denom.index)][['rating_numerator','rating_denominator']]"
   ]
  },
  {
   "cell_type": "markdown",
   "metadata": {},
   "source": [
    "##### reassess\n",
    "Create a new column with the calculated rating (rating_numerator / rating_denominator) and name it as 'rating_cal'. Compare a rating shown in the 'text' column. \n",
    "\n",
    "index 1658: ratings are wrongly pulled (24/7 to indicate time object instead of rating). No rating data available so remove the row."
   ]
  },
  {
   "cell_type": "code",
   "execution_count": 74,
   "metadata": {},
   "outputs": [],
   "source": [
    "tweet_clean['rating_cal'] = tweet_clean['rating_numerator'] / tweet_clean['rating_denominator']"
   ]
  },
  {
   "cell_type": "code",
   "execution_count": 12,
   "metadata": {
    "scrolled": true
   },
   "outputs": [],
   "source": [
    "# tweet_clean['rating_cal'].value_counts().sort_index(ascending = False)"
   ]
  },
  {
   "cell_type": "code",
   "execution_count": 13,
   "metadata": {},
   "outputs": [],
   "source": [
    "# tweet_clean[tweet_clean['rating_cal'] > 1.4].sort_values(by = 'rating_cal', ascending = False)"
   ]
  },
  {
   "cell_type": "markdown",
   "metadata": {},
   "source": [
    "##### code\n",
    "to remove index 1658"
   ]
  },
  {
   "cell_type": "code",
   "execution_count": 77,
   "metadata": {},
   "outputs": [],
   "source": [
    "tweet_clean = tweet_clean.drop(index = 1658)"
   ]
  },
  {
   "cell_type": "code",
   "execution_count": 14,
   "metadata": {},
   "outputs": [],
   "source": [
    "# tweet_clean[tweet_clean['rating_cal'] > 1.4]"
   ]
  },
  {
   "cell_type": "markdown",
   "metadata": {},
   "source": [
    "#### code\n",
    "remove 'rating_cal' column that was used for cleaning purpose"
   ]
  },
  {
   "cell_type": "code",
   "execution_count": 79,
   "metadata": {},
   "outputs": [],
   "source": [
    "tweet_clean = tweet_clean.drop(columns = 'rating_cal')"
   ]
  },
  {
   "cell_type": "markdown",
   "metadata": {},
   "source": [
    "##### test"
   ]
  },
  {
   "cell_type": "code",
   "execution_count": 80,
   "metadata": {},
   "outputs": [
    {
     "data": {
      "text/plain": [
       "False"
      ]
     },
     "execution_count": 80,
     "metadata": {},
     "output_type": "execute_result"
    }
   ],
   "source": [
    "('rating_cal') in tweet_clean.columns"
   ]
  },
  {
   "cell_type": "markdown",
   "metadata": {},
   "source": [
    "### `Q7` incorrect dog names\n",
    "\n",
    "##### reassess \n",
    "Some names are 'None', 'a', 'an', 'the'. "
   ]
  },
  {
   "cell_type": "code",
   "execution_count": 81,
   "metadata": {},
   "outputs": [],
   "source": [
    "pd.set_option('display.max_colwidth', 100)"
   ]
  },
  {
   "cell_type": "code",
   "execution_count": 15,
   "metadata": {},
   "outputs": [],
   "source": [
    "# tweet_clean.name.value_counts()"
   ]
  },
  {
   "cell_type": "code",
   "execution_count": 83,
   "metadata": {},
   "outputs": [],
   "source": [
    "# sorting by incorrect names\n",
    "name_none = tweet_clean[tweet_clean['name'] == 'None'][['text','name']]\n",
    "name_a = tweet_clean[tweet_clean['name'] == 'a'][['text','name']]\n",
    "name_an = tweet_clean[tweet_clean['name'] == 'an'][['text','name']]\n",
    "name_the = tweet_clean[tweet_clean['name'] == 'the'][['text','name']]"
   ]
  },
  {
   "cell_type": "code",
   "execution_count": 16,
   "metadata": {},
   "outputs": [
    {
     "ename": "NameError",
     "evalue": "name 'name_none' is not defined",
     "output_type": "error",
     "traceback": [
      "\u001b[0;31m---------------------------------------------------------------------------\u001b[0m",
      "\u001b[0;31mNameError\u001b[0m                                 Traceback (most recent call last)",
      "\u001b[0;32m<ipython-input-16-b00915bff0f2>\u001b[0m in \u001b[0;36m<module>\u001b[0;34m\u001b[0m\n\u001b[0;32m----> 1\u001b[0;31m \u001b[0mname_none\u001b[0m\u001b[0;34m[\u001b[0m\u001b[0;36m1\u001b[0m\u001b[0;34m:\u001b[0m\u001b[0;36m10\u001b[0m\u001b[0;34m]\u001b[0m \u001b[0;31m#contains'We only rate dogs', postings that are not related to dog\u001b[0m\u001b[0;34m\u001b[0m\u001b[0;34m\u001b[0m\u001b[0m\n\u001b[0m",
      "\u001b[0;31mNameError\u001b[0m: name 'name_none' is not defined"
     ]
    }
   ],
   "source": [
    "name_none[1:10] #contains'We only rate dogs', postings that are not related to dog"
   ]
  },
  {
   "cell_type": "markdown",
   "metadata": {},
   "source": [
    "##### define\n",
    "Some names that contain 'None' are not related to dogs: 'We only rate dogs', 'don't send' in text indicate that they are just _jokes_ so drop them first."
   ]
  },
  {
   "cell_type": "code",
   "execution_count": 85,
   "metadata": {
    "scrolled": true
   },
   "outputs": [
    {
     "data": {
      "text/plain": [
       "1970"
      ]
     },
     "execution_count": 85,
     "metadata": {},
     "output_type": "execute_result"
    }
   ],
   "source": [
    "tweet_clean.shape[0]"
   ]
  },
  {
   "cell_type": "code",
   "execution_count": 86,
   "metadata": {},
   "outputs": [
    {
     "data": {
      "text/plain": [
       "48"
      ]
     },
     "execution_count": 86,
     "metadata": {},
     "output_type": "execute_result"
    }
   ],
   "source": [
    "# contains 'we only rate dogs' (including 'don't send' text)\n",
    "tweet_clean[(tweet_clean.text.str.contains('We only rate dogs'))].shape[0] # 48 entries"
   ]
  },
  {
   "cell_type": "code",
   "execution_count": 87,
   "metadata": {},
   "outputs": [],
   "source": [
    "# drop the rows that contain 'we only rate dogs' \n",
    "tweet_clean = tweet_clean[~(tweet_clean.text.str.contains('We only rate dogs'))]"
   ]
  },
  {
   "cell_type": "code",
   "execution_count": 88,
   "metadata": {},
   "outputs": [
    {
     "data": {
      "text/plain": [
       "3"
      ]
     },
     "execution_count": 88,
     "metadata": {},
     "output_type": "execute_result"
    }
   ],
   "source": [
    "tweet_clean[tweet_clean.text.str.contains('don\\'t send')].shape[0] # 3 entries elft"
   ]
  },
  {
   "cell_type": "code",
   "execution_count": 89,
   "metadata": {
    "scrolled": true
   },
   "outputs": [],
   "source": [
    "tweet_clean = tweet_clean[~(tweet_clean.text.str.contains('don\\'t send'))]"
   ]
  },
  {
   "cell_type": "code",
   "execution_count": 90,
   "metadata": {},
   "outputs": [
    {
     "data": {
      "text/plain": [
       "1919"
      ]
     },
     "execution_count": 90,
     "metadata": {},
     "output_type": "execute_result"
    }
   ],
   "source": [
    "tweet_clean.shape[0]"
   ]
  },
  {
   "cell_type": "markdown",
   "metadata": {},
   "source": [
    "##### re-assess  \n",
    "name_a, name_an, name_the"
   ]
  },
  {
   "cell_type": "code",
   "execution_count": 17,
   "metadata": {},
   "outputs": [
    {
     "ename": "NameError",
     "evalue": "name 'name_a' is not defined",
     "output_type": "error",
     "traceback": [
      "\u001b[0;31m---------------------------------------------------------------------------\u001b[0m",
      "\u001b[0;31mNameError\u001b[0m                                 Traceback (most recent call last)",
      "\u001b[0;32m<ipython-input-17-e976a4121149>\u001b[0m in \u001b[0;36m<module>\u001b[0;34m\u001b[0m\n\u001b[0;32m----> 1\u001b[0;31m \u001b[0mname_a\u001b[0m\u001b[0;34m[\u001b[0m\u001b[0;36m1\u001b[0m\u001b[0;34m:\u001b[0m\u001b[0;36m10\u001b[0m\u001b[0;34m]\u001b[0m \u001b[0;31m# some texts that have real names after 'named '\u001b[0m\u001b[0;34m\u001b[0m\u001b[0;34m\u001b[0m\u001b[0m\n\u001b[0m",
      "\u001b[0;31mNameError\u001b[0m: name 'name_a' is not defined"
     ]
    }
   ],
   "source": [
    "name_a[1:10] # some texts that have real names after 'named '"
   ]
  },
  {
   "cell_type": "code",
   "execution_count": 92,
   "metadata": {
    "scrolled": true
   },
   "outputs": [
    {
     "data": {
      "text/html": [
       "<div>\n",
       "<style scoped>\n",
       "    .dataframe tbody tr th:only-of-type {\n",
       "        vertical-align: middle;\n",
       "    }\n",
       "\n",
       "    .dataframe tbody tr th {\n",
       "        vertical-align: top;\n",
       "    }\n",
       "\n",
       "    .dataframe thead th {\n",
       "        text-align: right;\n",
       "    }\n",
       "</style>\n",
       "<table border=\"1\" class=\"dataframe\">\n",
       "  <thead>\n",
       "    <tr style=\"text-align: right;\">\n",
       "      <th></th>\n",
       "      <th>text</th>\n",
       "      <th>name</th>\n",
       "    </tr>\n",
       "  </thead>\n",
       "  <tbody>\n",
       "    <tr>\n",
       "      <th>6</th>\n",
       "      <td>This is an odd dog. Hard on the outside but loving on the inside. Petting still fun. Doesn't pla...</td>\n",
       "      <td>an</td>\n",
       "    </tr>\n",
       "    <tr>\n",
       "      <th>20</th>\n",
       "      <td>This is an Albanian 3 1/2 legged  Episcopalian. Loves well-polished hardwood flooring. Penis on ...</td>\n",
       "      <td>an</td>\n",
       "    </tr>\n",
       "    <tr>\n",
       "      <th>22</th>\n",
       "      <td>This is an extremely rare horned Parthenon. Not amused. Wears shoes. Overall very nice. 9/10 wou...</td>\n",
       "      <td>an</td>\n",
       "    </tr>\n",
       "    <tr>\n",
       "      <th>149</th>\n",
       "      <td>This is an Irish Rigatoni terrier named Berta. Completely made of rope. No eyes. Quite large. Lo...</td>\n",
       "      <td>an</td>\n",
       "    </tr>\n",
       "    <tr>\n",
       "      <th>930</th>\n",
       "      <td>This is an East African Chalupa Seal. We only rate dogs. Please only send in dogs. Thank you... ...</td>\n",
       "      <td>an</td>\n",
       "    </tr>\n",
       "    <tr>\n",
       "      <th>1234</th>\n",
       "      <td>This is an Iraqi Speed Kangaroo. It is not a dog. Please only send in dogs. I'm very angry with ...</td>\n",
       "      <td>an</td>\n",
       "    </tr>\n",
       "  </tbody>\n",
       "</table>\n",
       "</div>"
      ],
      "text/plain": [
       "                                                                                                     text  \\\n",
       "6     This is an odd dog. Hard on the outside but loving on the inside. Petting still fun. Doesn't pla...   \n",
       "20    This is an Albanian 3 1/2 legged  Episcopalian. Loves well-polished hardwood flooring. Penis on ...   \n",
       "22    This is an extremely rare horned Parthenon. Not amused. Wears shoes. Overall very nice. 9/10 wou...   \n",
       "149   This is an Irish Rigatoni terrier named Berta. Completely made of rope. No eyes. Quite large. Lo...   \n",
       "930   This is an East African Chalupa Seal. We only rate dogs. Please only send in dogs. Thank you... ...   \n",
       "1234  This is an Iraqi Speed Kangaroo. It is not a dog. Please only send in dogs. I'm very angry with ...   \n",
       "\n",
       "     name  \n",
       "6      an  \n",
       "20     an  \n",
       "22     an  \n",
       "149    an  \n",
       "930    an  \n",
       "1234   an  "
      ]
     },
     "execution_count": 92,
     "metadata": {},
     "output_type": "execute_result"
    }
   ],
   "source": [
    "name_an # not a dog post again (#1234)"
   ]
  },
  {
   "cell_type": "code",
   "execution_count": 93,
   "metadata": {},
   "outputs": [
    {
     "data": {
      "text/html": [
       "<div>\n",
       "<style scoped>\n",
       "    .dataframe tbody tr th:only-of-type {\n",
       "        vertical-align: middle;\n",
       "    }\n",
       "\n",
       "    .dataframe tbody tr th {\n",
       "        vertical-align: top;\n",
       "    }\n",
       "\n",
       "    .dataframe thead th {\n",
       "        text-align: right;\n",
       "    }\n",
       "</style>\n",
       "<table border=\"1\" class=\"dataframe\">\n",
       "  <thead>\n",
       "    <tr style=\"text-align: right;\">\n",
       "      <th></th>\n",
       "      <th>tweet_id</th>\n",
       "      <th>jpg_url</th>\n",
       "      <th>img_num</th>\n",
       "      <th>p1</th>\n",
       "      <th>p1_conf</th>\n",
       "      <th>p1_dog</th>\n",
       "      <th>p2</th>\n",
       "      <th>p2_conf</th>\n",
       "      <th>p2_dog</th>\n",
       "      <th>p3</th>\n",
       "      <th>p3_conf</th>\n",
       "      <th>p3_dog</th>\n",
       "      <th>timestamp</th>\n",
       "      <th>source</th>\n",
       "      <th>text</th>\n",
       "      <th>expanded_urls</th>\n",
       "      <th>rating_numerator</th>\n",
       "      <th>rating_denominator</th>\n",
       "      <th>name</th>\n",
       "      <th>stage</th>\n",
       "      <th>retweet_count</th>\n",
       "      <th>favorite_count</th>\n",
       "    </tr>\n",
       "  </thead>\n",
       "  <tbody>\n",
       "    <tr>\n",
       "      <th>1234</th>\n",
       "      <td>746369468511756288</td>\n",
       "      <td>https://pbs.twimg.com/media/ClujESVXEAA4uH8.jpg</td>\n",
       "      <td>1</td>\n",
       "      <td>German_shepherd</td>\n",
       "      <td>0.622957</td>\n",
       "      <td>True</td>\n",
       "      <td>malinois</td>\n",
       "      <td>0.338884</td>\n",
       "      <td>True</td>\n",
       "      <td>wallaby</td>\n",
       "      <td>0.024161</td>\n",
       "      <td>False</td>\n",
       "      <td>2016-06-24 15:48:42+00:00</td>\n",
       "      <td>Twitter for iPhone</td>\n",
       "      <td>This is an Iraqi Speed Kangaroo. It is not a dog. Please only send in dogs. I'm very angry with ...</td>\n",
       "      <td>https://twitter.com/dog_rates/status/746369468511756288/photo/1</td>\n",
       "      <td>9.0</td>\n",
       "      <td>10.0</td>\n",
       "      <td>an</td>\n",
       "      <td>NaN</td>\n",
       "      <td>1854</td>\n",
       "      <td>6637</td>\n",
       "    </tr>\n",
       "  </tbody>\n",
       "</table>\n",
       "</div>"
      ],
      "text/plain": [
       "                tweet_id                                          jpg_url  \\\n",
       "1234  746369468511756288  https://pbs.twimg.com/media/ClujESVXEAA4uH8.jpg   \n",
       "\n",
       "      img_num               p1   p1_conf  p1_dog        p2   p2_conf  p2_dog  \\\n",
       "1234        1  German_shepherd  0.622957    True  malinois  0.338884    True   \n",
       "\n",
       "           p3   p3_conf  p3_dog                 timestamp              source  \\\n",
       "1234  wallaby  0.024161   False 2016-06-24 15:48:42+00:00  Twitter for iPhone   \n",
       "\n",
       "                                                                                                     text  \\\n",
       "1234  This is an Iraqi Speed Kangaroo. It is not a dog. Please only send in dogs. I'm very angry with ...   \n",
       "\n",
       "                                                        expanded_urls  \\\n",
       "1234  https://twitter.com/dog_rates/status/746369468511756288/photo/1   \n",
       "\n",
       "      rating_numerator  rating_denominator name stage  retweet_count  \\\n",
       "1234               9.0                10.0   an   NaN           1854   \n",
       "\n",
       "      favorite_count  \n",
       "1234            6637  "
      ]
     },
     "execution_count": 93,
     "metadata": {},
     "output_type": "execute_result"
    }
   ],
   "source": [
    "tweet_clean[tweet_clean.text.str.contains('not a dog')]"
   ]
  },
  {
   "cell_type": "code",
   "execution_count": 94,
   "metadata": {
    "scrolled": true
   },
   "outputs": [
    {
     "data": {
      "text/html": [
       "<div>\n",
       "<style scoped>\n",
       "    .dataframe tbody tr th:only-of-type {\n",
       "        vertical-align: middle;\n",
       "    }\n",
       "\n",
       "    .dataframe tbody tr th {\n",
       "        vertical-align: top;\n",
       "    }\n",
       "\n",
       "    .dataframe thead th {\n",
       "        text-align: right;\n",
       "    }\n",
       "</style>\n",
       "<table border=\"1\" class=\"dataframe\">\n",
       "  <thead>\n",
       "    <tr style=\"text-align: right;\">\n",
       "      <th></th>\n",
       "      <th>text</th>\n",
       "      <th>name</th>\n",
       "    </tr>\n",
       "  </thead>\n",
       "  <tbody>\n",
       "    <tr>\n",
       "      <th>9</th>\n",
       "      <td>Here is the Rand Paul of retrievers folks! He's probably good at poker. Can drink beer (lol rad)...</td>\n",
       "      <td>the</td>\n",
       "    </tr>\n",
       "    <tr>\n",
       "      <th>10</th>\n",
       "      <td>This is the happiest dog you will ever see. Very committed owner. Nice couch. 10/10 https://t.co...</td>\n",
       "      <td>the</td>\n",
       "    </tr>\n",
       "    <tr>\n",
       "      <th>313</th>\n",
       "      <td>This is the best thing I've ever seen so spread it like wildfire &amp;amp; maybe we'll find the geni...</td>\n",
       "      <td>the</td>\n",
       "    </tr>\n",
       "    <tr>\n",
       "      <th>526</th>\n",
       "      <td>This is the saddest/sweetest/best picture I've been sent. 12/10 😢🐶 https://t.co/vQ2Lw1BLBF</td>\n",
       "      <td>the</td>\n",
       "    </tr>\n",
       "    <tr>\n",
       "      <th>543</th>\n",
       "      <td>This is the happiest pupper I've ever seen. 10/10 would trade lives with https://t.co/ep8ATEJwRb</td>\n",
       "      <td>the</td>\n",
       "    </tr>\n",
       "    <tr>\n",
       "      <th>720</th>\n",
       "      <td>This is the newly formed pupper a capella group. They're just starting out but I see tons of pot...</td>\n",
       "      <td>the</td>\n",
       "    </tr>\n",
       "    <tr>\n",
       "      <th>786</th>\n",
       "      <td>Stop sending in lobsters. This is the final warning. We only rate dogs. Thank you... 9/10 https:...</td>\n",
       "      <td>the</td>\n",
       "    </tr>\n",
       "  </tbody>\n",
       "</table>\n",
       "</div>"
      ],
      "text/plain": [
       "                                                                                                    text  \\\n",
       "9    Here is the Rand Paul of retrievers folks! He's probably good at poker. Can drink beer (lol rad)...   \n",
       "10   This is the happiest dog you will ever see. Very committed owner. Nice couch. 10/10 https://t.co...   \n",
       "313  This is the best thing I've ever seen so spread it like wildfire &amp; maybe we'll find the geni...   \n",
       "526           This is the saddest/sweetest/best picture I've been sent. 12/10 😢🐶 https://t.co/vQ2Lw1BLBF   \n",
       "543     This is the happiest pupper I've ever seen. 10/10 would trade lives with https://t.co/ep8ATEJwRb   \n",
       "720  This is the newly formed pupper a capella group. They're just starting out but I see tons of pot...   \n",
       "786  Stop sending in lobsters. This is the final warning. We only rate dogs. Thank you... 9/10 https:...   \n",
       "\n",
       "    name  \n",
       "9    the  \n",
       "10   the  \n",
       "313  the  \n",
       "526  the  \n",
       "543  the  \n",
       "720  the  \n",
       "786  the  "
      ]
     },
     "execution_count": 94,
     "metadata": {},
     "output_type": "execute_result"
    }
   ],
   "source": [
    "name_the # none particular"
   ]
  },
  {
   "cell_type": "markdown",
   "metadata": {},
   "source": [
    "##### define\n",
    "- replace 'None' in `name` column with np.nan\n",
    "- replace 'a', 'an', 'the' in `name` column names with np.nan: they are retrieved from the text that starts as \"This is a/an/the ...\". \n",
    "- drop rows that contains 'not a dog' \n",
    "\n",
    "##### [note] no further replacement of the names as I am not interested yet to use 'name' for the analysis purpose."
   ]
  },
  {
   "cell_type": "markdown",
   "metadata": {},
   "source": [
    "##### code"
   ]
  },
  {
   "cell_type": "code",
   "execution_count": 95,
   "metadata": {},
   "outputs": [],
   "source": [
    "tweet_clean.name = tweet_clean.name.replace('None', np.nan)"
   ]
  },
  {
   "cell_type": "code",
   "execution_count": 96,
   "metadata": {},
   "outputs": [
    {
     "data": {
      "text/plain": [
       "0"
      ]
     },
     "execution_count": 96,
     "metadata": {},
     "output_type": "execute_result"
    }
   ],
   "source": [
    "tweet_clean.name.str.contains('None').sum()"
   ]
  },
  {
   "cell_type": "code",
   "execution_count": 97,
   "metadata": {},
   "outputs": [
    {
     "data": {
      "text/plain": [
       "6"
      ]
     },
     "execution_count": 97,
     "metadata": {},
     "output_type": "execute_result"
    }
   ],
   "source": [
    "len(tweet_clean[tweet_clean.name == 'the'])"
   ]
  },
  {
   "cell_type": "code",
   "execution_count": 98,
   "metadata": {
    "scrolled": true
   },
   "outputs": [],
   "source": [
    "tweet_clean.name = tweet_clean.name.replace(r'(^a{1}n?$)', np.NaN, regex = True)\n",
    "tweet_clean.name = tweet_clean.name.replace(r'(^the$)', np.NaN, regex = True)"
   ]
  },
  {
   "cell_type": "code",
   "execution_count": 99,
   "metadata": {},
   "outputs": [],
   "source": [
    "# drop a row that contains 'not a dog'\n",
    "tweet_clean = tweet_clean[~(tweet_clean.text.str.contains('not a dog'))]"
   ]
  },
  {
   "cell_type": "markdown",
   "metadata": {},
   "source": [
    "##### test"
   ]
  },
  {
   "cell_type": "code",
   "execution_count": 18,
   "metadata": {
    "scrolled": true
   },
   "outputs": [],
   "source": [
    "# tweet_clean.name.value_counts(dropna = False) # 551 NaN entries with no name information"
   ]
  },
  {
   "cell_type": "markdown",
   "metadata": {},
   "source": [
    "### `Q8` inconsistent 'expanded_urls' column"
   ]
  },
  {
   "cell_type": "markdown",
   "metadata": {},
   "source": [
    "##### reassess\n",
    "exploring 'expanded_urls' columns, it is found that:\n",
    "\n",
    "- some data in expanded_urls column contain urls that are not 'twitter.com' (i.e.'gofundme.com','https://www.petfinder.com'), and all data contain more than two urls\n",
    "- all of non-twitter url comes first before 'http://www.twitter.com'\n",
    "- those with more than 1 url in one entry has duplicated twitter url"
   ]
  },
  {
   "cell_type": "code",
   "execution_count": 101,
   "metadata": {},
   "outputs": [],
   "source": [
    "exp_urls = tweet_clean.expanded_urls.str.split(',')"
   ]
  },
  {
   "cell_type": "code",
   "execution_count": 102,
   "metadata": {},
   "outputs": [],
   "source": [
    "url_test = []\n",
    "\n",
    "for url in exp_urls:\n",
    "    if len(url) != 1:\n",
    "        url_test.append(url)"
   ]
  },
  {
   "cell_type": "code",
   "execution_count": 19,
   "metadata": {},
   "outputs": [],
   "source": [
    "url_test[0:10]"
   ]
  },
  {
   "cell_type": "markdown",
   "metadata": {},
   "source": [
    "##### define\n",
    "- create a new list to include only one url that contains 'https://twitter.com' (and all those entries with more than one url are to be dumped)\n",
    "- create a new column 'twitter_url' and drop the 'expanded_url'"
   ]
  },
  {
   "cell_type": "markdown",
   "metadata": {},
   "source": [
    "##### code"
   ]
  },
  {
   "cell_type": "code",
   "execution_count": 104,
   "metadata": {},
   "outputs": [],
   "source": [
    "url_list = []\n",
    "\n",
    "for url in exp_urls:\n",
    "    if len(url) == 1:\n",
    "        url_list.append(url[0])\n",
    "    else:\n",
    "        url_list.append(url[1])\n"
   ]
  },
  {
   "cell_type": "code",
   "execution_count": 20,
   "metadata": {},
   "outputs": [],
   "source": [
    "url_list[1:10]"
   ]
  },
  {
   "cell_type": "code",
   "execution_count": 106,
   "metadata": {},
   "outputs": [],
   "source": [
    "tweet_clean['twitter_url'] = url_list"
   ]
  },
  {
   "cell_type": "code",
   "execution_count": 107,
   "metadata": {
    "scrolled": true
   },
   "outputs": [
    {
     "data": {
      "text/html": [
       "<div>\n",
       "<style scoped>\n",
       "    .dataframe tbody tr th:only-of-type {\n",
       "        vertical-align: middle;\n",
       "    }\n",
       "\n",
       "    .dataframe tbody tr th {\n",
       "        vertical-align: top;\n",
       "    }\n",
       "\n",
       "    .dataframe thead th {\n",
       "        text-align: right;\n",
       "    }\n",
       "</style>\n",
       "<table border=\"1\" class=\"dataframe\">\n",
       "  <thead>\n",
       "    <tr style=\"text-align: right;\">\n",
       "      <th></th>\n",
       "      <th>tweet_id</th>\n",
       "      <th>jpg_url</th>\n",
       "      <th>img_num</th>\n",
       "      <th>p1</th>\n",
       "      <th>p1_conf</th>\n",
       "      <th>p1_dog</th>\n",
       "      <th>p2</th>\n",
       "      <th>p2_conf</th>\n",
       "      <th>p2_dog</th>\n",
       "      <th>p3</th>\n",
       "      <th>p3_conf</th>\n",
       "      <th>p3_dog</th>\n",
       "      <th>timestamp</th>\n",
       "      <th>source</th>\n",
       "      <th>text</th>\n",
       "      <th>expanded_urls</th>\n",
       "      <th>rating_numerator</th>\n",
       "      <th>rating_denominator</th>\n",
       "      <th>name</th>\n",
       "      <th>stage</th>\n",
       "      <th>retweet_count</th>\n",
       "      <th>favorite_count</th>\n",
       "      <th>twitter_url</th>\n",
       "    </tr>\n",
       "  </thead>\n",
       "  <tbody>\n",
       "    <tr>\n",
       "      <th>1430</th>\n",
       "      <td>773191612633579521</td>\n",
       "      <td>https://pbs.twimg.com/media/CrrtqjdXEAINleR.jpg</td>\n",
       "      <td>1</td>\n",
       "      <td>Blenheim_spaniel</td>\n",
       "      <td>0.427766</td>\n",
       "      <td>True</td>\n",
       "      <td>Shih-Tzu</td>\n",
       "      <td>0.219256</td>\n",
       "      <td>True</td>\n",
       "      <td>Welsh_springer_spaniel</td>\n",
       "      <td>0.144614</td>\n",
       "      <td>True</td>\n",
       "      <td>2016-09-06 16:10:20+00:00</td>\n",
       "      <td>Twitter for iPhone</td>\n",
       "      <td>This is Grey. He's the dogtor in charge of your checkpup today. 12/10 I'd never miss an appointm...</td>\n",
       "      <td>https://twitter.com/dog_rates/status/773191612633579521/photo/1,https://twitter.com/dog_rates/st...</td>\n",
       "      <td>12.0</td>\n",
       "      <td>10.0</td>\n",
       "      <td>Grey</td>\n",
       "      <td>NaN</td>\n",
       "      <td>4736</td>\n",
       "      <td>11117</td>\n",
       "      <td>https://twitter.com/dog_rates/status/773191612633579521/photo/1</td>\n",
       "    </tr>\n",
       "    <tr>\n",
       "      <th>1083</th>\n",
       "      <td>718460005985447936</td>\n",
       "      <td>https://pbs.twimg.com/media/Cfh7j6CWQAAndTd.jpg</td>\n",
       "      <td>1</td>\n",
       "      <td>badger</td>\n",
       "      <td>0.356946</td>\n",
       "      <td>False</td>\n",
       "      <td>Boston_bull</td>\n",
       "      <td>0.252781</td>\n",
       "      <td>True</td>\n",
       "      <td>kelpie</td>\n",
       "      <td>0.113433</td>\n",
       "      <td>True</td>\n",
       "      <td>2016-04-08 15:26:28+00:00</td>\n",
       "      <td>Twitter for iPhone</td>\n",
       "      <td>Meet Bowie. He's listening for underground squirrels. Smart af. Left eye is considerably magical...</td>\n",
       "      <td>https://twitter.com/dog_rates/status/718460005985447936/photo/1</td>\n",
       "      <td>9.0</td>\n",
       "      <td>10.0</td>\n",
       "      <td>Bowie</td>\n",
       "      <td>NaN</td>\n",
       "      <td>602</td>\n",
       "      <td>2846</td>\n",
       "      <td>https://twitter.com/dog_rates/status/718460005985447936/photo/1</td>\n",
       "    </tr>\n",
       "    <tr>\n",
       "      <th>1108</th>\n",
       "      <td>723688335806480385</td>\n",
       "      <td>https://pbs.twimg.com/media/CgsOszGW0AAruKp.jpg</td>\n",
       "      <td>2</td>\n",
       "      <td>teddy</td>\n",
       "      <td>0.263256</td>\n",
       "      <td>False</td>\n",
       "      <td>chow</td>\n",
       "      <td>0.089010</td>\n",
       "      <td>True</td>\n",
       "      <td>Irish_terrier</td>\n",
       "      <td>0.065306</td>\n",
       "      <td>True</td>\n",
       "      <td>2016-04-23 01:41:59+00:00</td>\n",
       "      <td>Twitter for iPhone</td>\n",
       "      <td>This is Reginald. He starts screaming at random. 12/10 cuddly af https://t.co/YgNuDQbv89</td>\n",
       "      <td>https://twitter.com/dog_rates/status/723688335806480385/photo/1,https://twitter.com/dog_rates/st...</td>\n",
       "      <td>12.0</td>\n",
       "      <td>10.0</td>\n",
       "      <td>Reginald</td>\n",
       "      <td>NaN</td>\n",
       "      <td>3347</td>\n",
       "      <td>8435</td>\n",
       "      <td>https://twitter.com/dog_rates/status/723688335806480385/photo/1</td>\n",
       "    </tr>\n",
       "    <tr>\n",
       "      <th>2016</th>\n",
       "      <td>879862464715927552</td>\n",
       "      <td>https://pbs.twimg.com/media/DDXmPrbWAAEKMvy.jpg</td>\n",
       "      <td>3</td>\n",
       "      <td>basset</td>\n",
       "      <td>0.813507</td>\n",
       "      <td>True</td>\n",
       "      <td>beagle</td>\n",
       "      <td>0.146654</td>\n",
       "      <td>True</td>\n",
       "      <td>cocker_spaniel</td>\n",
       "      <td>0.009485</td>\n",
       "      <td>True</td>\n",
       "      <td>2017-06-28 00:42:13+00:00</td>\n",
       "      <td>Twitter for iPhone</td>\n",
       "      <td>This is Romeo. He would like to do an entrance. Requesting your immediate assistance. 13/10 http...</td>\n",
       "      <td>https://twitter.com/dog_rates/status/879862464715927552/photo/1,https://twitter.com/dog_rates/st...</td>\n",
       "      <td>13.0</td>\n",
       "      <td>10.0</td>\n",
       "      <td>Romeo</td>\n",
       "      <td>NaN</td>\n",
       "      <td>3642</td>\n",
       "      <td>22667</td>\n",
       "      <td>https://twitter.com/dog_rates/status/879862464715927552/photo/1</td>\n",
       "    </tr>\n",
       "    <tr>\n",
       "      <th>2056</th>\n",
       "      <td>888554962724278272</td>\n",
       "      <td>https://pbs.twimg.com/media/DFTH_O-UQAACu20.jpg</td>\n",
       "      <td>3</td>\n",
       "      <td>Siberian_husky</td>\n",
       "      <td>0.700377</td>\n",
       "      <td>True</td>\n",
       "      <td>Eskimo_dog</td>\n",
       "      <td>0.166511</td>\n",
       "      <td>True</td>\n",
       "      <td>malamute</td>\n",
       "      <td>0.111411</td>\n",
       "      <td>True</td>\n",
       "      <td>2017-07-22 00:23:06+00:00</td>\n",
       "      <td>Twitter for iPhone</td>\n",
       "      <td>This is Ralphus. He's powering up. Attempting maximum borkdrive. 13/10 inspirational af https://...</td>\n",
       "      <td>https://twitter.com/dog_rates/status/888554962724278272/photo/1,https://twitter.com/dog_rates/st...</td>\n",
       "      <td>13.0</td>\n",
       "      <td>10.0</td>\n",
       "      <td>Ralphus</td>\n",
       "      <td>NaN</td>\n",
       "      <td>3732</td>\n",
       "      <td>20290</td>\n",
       "      <td>https://twitter.com/dog_rates/status/888554962724278272/photo/1</td>\n",
       "    </tr>\n",
       "  </tbody>\n",
       "</table>\n",
       "</div>"
      ],
      "text/plain": [
       "                tweet_id                                          jpg_url  \\\n",
       "1430  773191612633579521  https://pbs.twimg.com/media/CrrtqjdXEAINleR.jpg   \n",
       "1083  718460005985447936  https://pbs.twimg.com/media/Cfh7j6CWQAAndTd.jpg   \n",
       "1108  723688335806480385  https://pbs.twimg.com/media/CgsOszGW0AAruKp.jpg   \n",
       "2016  879862464715927552  https://pbs.twimg.com/media/DDXmPrbWAAEKMvy.jpg   \n",
       "2056  888554962724278272  https://pbs.twimg.com/media/DFTH_O-UQAACu20.jpg   \n",
       "\n",
       "      img_num                p1   p1_conf  p1_dog           p2   p2_conf  \\\n",
       "1430        1  Blenheim_spaniel  0.427766    True     Shih-Tzu  0.219256   \n",
       "1083        1            badger  0.356946   False  Boston_bull  0.252781   \n",
       "1108        2             teddy  0.263256   False         chow  0.089010   \n",
       "2016        3            basset  0.813507    True       beagle  0.146654   \n",
       "2056        3    Siberian_husky  0.700377    True   Eskimo_dog  0.166511   \n",
       "\n",
       "      p2_dog                      p3   p3_conf  p3_dog  \\\n",
       "1430    True  Welsh_springer_spaniel  0.144614    True   \n",
       "1083    True                  kelpie  0.113433    True   \n",
       "1108    True           Irish_terrier  0.065306    True   \n",
       "2016    True          cocker_spaniel  0.009485    True   \n",
       "2056    True                malamute  0.111411    True   \n",
       "\n",
       "                     timestamp              source  \\\n",
       "1430 2016-09-06 16:10:20+00:00  Twitter for iPhone   \n",
       "1083 2016-04-08 15:26:28+00:00  Twitter for iPhone   \n",
       "1108 2016-04-23 01:41:59+00:00  Twitter for iPhone   \n",
       "2016 2017-06-28 00:42:13+00:00  Twitter for iPhone   \n",
       "2056 2017-07-22 00:23:06+00:00  Twitter for iPhone   \n",
       "\n",
       "                                                                                                     text  \\\n",
       "1430  This is Grey. He's the dogtor in charge of your checkpup today. 12/10 I'd never miss an appointm...   \n",
       "1083  Meet Bowie. He's listening for underground squirrels. Smart af. Left eye is considerably magical...   \n",
       "1108             This is Reginald. He starts screaming at random. 12/10 cuddly af https://t.co/YgNuDQbv89   \n",
       "2016  This is Romeo. He would like to do an entrance. Requesting your immediate assistance. 13/10 http...   \n",
       "2056  This is Ralphus. He's powering up. Attempting maximum borkdrive. 13/10 inspirational af https://...   \n",
       "\n",
       "                                                                                            expanded_urls  \\\n",
       "1430  https://twitter.com/dog_rates/status/773191612633579521/photo/1,https://twitter.com/dog_rates/st...   \n",
       "1083                                      https://twitter.com/dog_rates/status/718460005985447936/photo/1   \n",
       "1108  https://twitter.com/dog_rates/status/723688335806480385/photo/1,https://twitter.com/dog_rates/st...   \n",
       "2016  https://twitter.com/dog_rates/status/879862464715927552/photo/1,https://twitter.com/dog_rates/st...   \n",
       "2056  https://twitter.com/dog_rates/status/888554962724278272/photo/1,https://twitter.com/dog_rates/st...   \n",
       "\n",
       "      rating_numerator  rating_denominator      name stage  retweet_count  \\\n",
       "1430              12.0                10.0      Grey   NaN           4736   \n",
       "1083               9.0                10.0     Bowie   NaN            602   \n",
       "1108              12.0                10.0  Reginald   NaN           3347   \n",
       "2016              13.0                10.0     Romeo   NaN           3642   \n",
       "2056              13.0                10.0   Ralphus   NaN           3732   \n",
       "\n",
       "      favorite_count  \\\n",
       "1430           11117   \n",
       "1083            2846   \n",
       "1108            8435   \n",
       "2016           22667   \n",
       "2056           20290   \n",
       "\n",
       "                                                          twitter_url  \n",
       "1430  https://twitter.com/dog_rates/status/773191612633579521/photo/1  \n",
       "1083  https://twitter.com/dog_rates/status/718460005985447936/photo/1  \n",
       "1108  https://twitter.com/dog_rates/status/723688335806480385/photo/1  \n",
       "2016  https://twitter.com/dog_rates/status/879862464715927552/photo/1  \n",
       "2056  https://twitter.com/dog_rates/status/888554962724278272/photo/1  "
      ]
     },
     "execution_count": 107,
     "metadata": {},
     "output_type": "execute_result"
    }
   ],
   "source": [
    "tweet_clean.sample(5)"
   ]
  },
  {
   "cell_type": "code",
   "execution_count": 108,
   "metadata": {},
   "outputs": [],
   "source": [
    "tweet_clean = tweet_clean.drop(columns = 'expanded_urls')"
   ]
  },
  {
   "cell_type": "code",
   "execution_count": 21,
   "metadata": {
    "scrolled": true
   },
   "outputs": [],
   "source": [
    "# tweet_clean.info()"
   ]
  },
  {
   "cell_type": "markdown",
   "metadata": {},
   "source": [
    "### `Q9.` some rows contains images that are not dogs"
   ]
  },
  {
   "cell_type": "markdown",
   "metadata": {},
   "source": [
    "##### reassess"
   ]
  },
  {
   "cell_type": "markdown",
   "metadata": {},
   "source": [
    "- when 'p1_dog', 'P2_dog', 'p3_dog' are all false -> not a dog"
   ]
  },
  {
   "cell_type": "code",
   "execution_count": 110,
   "metadata": {
    "scrolled": true
   },
   "outputs": [
    {
     "data": {
      "text/plain": [
       "1    1644\n",
       "2     186\n",
       "3      58\n",
       "4      30\n",
       "Name: img_num, dtype: int64"
      ]
     },
     "execution_count": 110,
     "metadata": {},
     "output_type": "execute_result"
    }
   ],
   "source": [
    "tweet_clean.img_num.value_counts()"
   ]
  },
  {
   "cell_type": "code",
   "execution_count": 111,
   "metadata": {},
   "outputs": [],
   "source": [
    "img_dog = tweet_clean.iloc[:,3:12]"
   ]
  },
  {
   "cell_type": "code",
   "execution_count": 22,
   "metadata": {
    "scrolled": true
   },
   "outputs": [
    {
     "ename": "NameError",
     "evalue": "name 'img_dog' is not defined",
     "output_type": "error",
     "traceback": [
      "\u001b[0;31m---------------------------------------------------------------------------\u001b[0m",
      "\u001b[0;31mNameError\u001b[0m                                 Traceback (most recent call last)",
      "\u001b[0;32m<ipython-input-22-659556ab91a6>\u001b[0m in \u001b[0;36m<module>\u001b[0;34m\u001b[0m\n\u001b[0;32m----> 1\u001b[0;31m \u001b[0mimg_dog\u001b[0m\u001b[0;34m[\u001b[0m\u001b[0;36m0\u001b[0m\u001b[0;34m:\u001b[0m\u001b[0;36m10\u001b[0m\u001b[0;34m]\u001b[0m\u001b[0;34m\u001b[0m\u001b[0;34m\u001b[0m\u001b[0m\n\u001b[0m",
      "\u001b[0;31mNameError\u001b[0m: name 'img_dog' is not defined"
     ]
    }
   ],
   "source": [
    "img_dog[0:10]"
   ]
  },
  {
   "cell_type": "markdown",
   "metadata": {},
   "source": [
    "##### Inspired by a Udacity Knowledge blog: https://knowledge.udacity.com/questions/219635"
   ]
  },
  {
   "cell_type": "markdown",
   "metadata": {},
   "source": [
    "##### define\n",
    "- Create two lists (breed, conf)\n",
    "- Use for loop to iterate p1 -> p2 -> p3, if it is a dog (i.e. p1_dog == True), append the breed of the dog in 'breed' list and its confidence rate in 'conf' list\n",
    "- We need using .loc to slice the data through the iteration but the index is messy now. So use .reset_index to re-oragnize it first for both 'img_dog' and 'tweet_clean' dataframe"
   ]
  },
  {
   "cell_type": "markdown",
   "metadata": {},
   "source": [
    "##### code\n",
    "to reorganize the two dataframe"
   ]
  },
  {
   "cell_type": "code",
   "execution_count": 113,
   "metadata": {},
   "outputs": [],
   "source": [
    "tweet_clean.reset_index(drop = True, inplace = True)\n",
    "img_dog.reset_index(drop = True, inplace = True)"
   ]
  },
  {
   "cell_type": "code",
   "execution_count": 114,
   "metadata": {
    "scrolled": true
   },
   "outputs": [
    {
     "data": {
      "text/plain": [
       "0"
      ]
     },
     "execution_count": 114,
     "metadata": {},
     "output_type": "execute_result"
    }
   ],
   "source": [
    "(tweet_clean.loc[:,'p1'] != img_dog.loc[:,'p1']).sum() # all matching"
   ]
  },
  {
   "cell_type": "markdown",
   "metadata": {},
   "source": [
    "##### code\n",
    "to iterate to extract all 'dog' information "
   ]
  },
  {
   "cell_type": "code",
   "execution_count": 115,
   "metadata": {},
   "outputs": [],
   "source": [
    "breed = []\n",
    "conf = []\n",
    "\n",
    "for i in range(len(img_dog)):\n",
    "    if img_dog.loc[i,'p1_dog'] == True:\n",
    "        breed.append(img_dog.loc[i,'p1'])\n",
    "        conf.append(img_dog.loc[i,'p1_conf'])\n",
    "    elif img_dog.loc[i,'p2_dog'] == True:\n",
    "        breed.append(img_dog.loc[i,'p2'])\n",
    "        conf.append(img_dog.loc[i,'p2_conf'])\n",
    "    elif img_dog.loc[i,'p3_dog'] == True:\n",
    "        breed.append(img_dog.loc[i,'p3'])\n",
    "        conf.append(img_dog.loc[i,'p3_conf'])\n",
    "    else:\n",
    "        breed.append(np.nan)\n",
    "        conf.append(np.nan)"
   ]
  },
  {
   "cell_type": "code",
   "execution_count": 116,
   "metadata": {
    "scrolled": false
   },
   "outputs": [
    {
     "data": {
      "text/plain": [
       "['Welsh_springer_spaniel',\n",
       " 'redbone',\n",
       " 'German_shepherd',\n",
       " 'Rhodesian_ridgeback',\n",
       " 'miniature_pinscher',\n",
       " 'Bernese_mountain_dog',\n",
       " nan,\n",
       " 'chow',\n",
       " 'golden_retriever',\n",
       " 'miniature_poodle',\n",
       " 'golden_retriever',\n",
       " 'Gordon_setter',\n",
       " 'Walker_hound',\n",
       " 'pug',\n",
       " 'bloodhound',\n",
       " 'Lhasa',\n",
       " 'English_setter',\n",
       " nan,\n",
       " nan,\n",
       " 'Italian_greyhound']"
      ]
     },
     "execution_count": 116,
     "metadata": {},
     "output_type": "execute_result"
    }
   ],
   "source": [
    "breed[0:20]"
   ]
  },
  {
   "cell_type": "code",
   "execution_count": 117,
   "metadata": {
    "scrolled": true
   },
   "outputs": [
    {
     "data": {
      "text/plain": [
       "[0.465074,\n",
       " 0.506826,\n",
       " 0.596461,\n",
       " 0.408143,\n",
       " 0.560311,\n",
       " 0.651137,\n",
       " nan,\n",
       " 0.692517,\n",
       " 0.00795896,\n",
       " 0.201493,\n",
       " 0.77593,\n",
       " 0.503672,\n",
       " 0.260857,\n",
       " 0.489814,\n",
       " 0.195217,\n",
       " 0.58233,\n",
       " 0.298617,\n",
       " nan,\n",
       " nan,\n",
       " 0.176053]"
      ]
     },
     "execution_count": 117,
     "metadata": {},
     "output_type": "execute_result"
    }
   ],
   "source": [
    "conf[0:20]"
   ]
  },
  {
   "cell_type": "code",
   "execution_count": 118,
   "metadata": {},
   "outputs": [],
   "source": [
    "tweet_clean['breed'] = breed\n",
    "tweet_clean['breed_conf'] = conf"
   ]
  },
  {
   "cell_type": "markdown",
   "metadata": {},
   "source": [
    "##### test \n",
    "visual inspection"
   ]
  },
  {
   "cell_type": "code",
   "execution_count": 23,
   "metadata": {},
   "outputs": [
    {
     "ename": "NameError",
     "evalue": "name 'tweet_clean' is not defined",
     "output_type": "error",
     "traceback": [
      "\u001b[0;31m---------------------------------------------------------------------------\u001b[0m",
      "\u001b[0;31mNameError\u001b[0m                                 Traceback (most recent call last)",
      "\u001b[0;32m<ipython-input-23-8dbd8c38da81>\u001b[0m in \u001b[0;36m<module>\u001b[0;34m\u001b[0m\n\u001b[0;32m----> 1\u001b[0;31m \u001b[0mtweet_clean\u001b[0m\u001b[0;34m[\u001b[0m\u001b[0;36m0\u001b[0m\u001b[0;34m:\u001b[0m\u001b[0;36m10\u001b[0m\u001b[0;34m]\u001b[0m\u001b[0;34m\u001b[0m\u001b[0;34m\u001b[0m\u001b[0m\n\u001b[0m",
      "\u001b[0;31mNameError\u001b[0m: name 'tweet_clean' is not defined"
     ]
    }
   ],
   "source": [
    "tweet_clean[0:10]"
   ]
  },
  {
   "cell_type": "markdown",
   "metadata": {},
   "source": [
    "#### code\n",
    "- to remove 'non-dogs' (when 'breed' column == np.nan)\n",
    "- to remove 'p1','p1_conf','p1_dog' ... 'p3_dog' columns "
   ]
  },
  {
   "cell_type": "code",
   "execution_count": 120,
   "metadata": {},
   "outputs": [],
   "source": [
    "tweet_clean = tweet_clean[tweet_clean['breed'].notnull()]"
   ]
  },
  {
   "cell_type": "code",
   "execution_count": 24,
   "metadata": {
    "scrolled": true
   },
   "outputs": [],
   "source": [
    "# tweet_clean.info()"
   ]
  },
  {
   "cell_type": "code",
   "execution_count": 122,
   "metadata": {},
   "outputs": [],
   "source": [
    "img_pred_to_remove = tweet_clean.iloc[:,2:12]"
   ]
  },
  {
   "cell_type": "code",
   "execution_count": 123,
   "metadata": {},
   "outputs": [],
   "source": [
    "tweet_clean = tweet_clean.drop(columns = img_pred_to_remove)"
   ]
  },
  {
   "cell_type": "code",
   "execution_count": 25,
   "metadata": {
    "scrolled": true
   },
   "outputs": [],
   "source": [
    "# tweet_clean.tail()"
   ]
  },
  {
   "cell_type": "markdown",
   "metadata": {},
   "source": [
    "##### code\n",
    "use str.title() method to make the style of breed name more consistent and representable"
   ]
  },
  {
   "cell_type": "code",
   "execution_count": 125,
   "metadata": {},
   "outputs": [],
   "source": [
    "tweet_clean.breed = tweet_clean.breed.str.title()"
   ]
  },
  {
   "cell_type": "markdown",
   "metadata": {},
   "source": [
    "##### Re-orgnize the 'tweet_clean' dataframe before storing\n",
    "Probably not necessary but for the sake of better representation\n",
    "- index\n",
    "- column order "
   ]
  },
  {
   "cell_type": "code",
   "execution_count": 126,
   "metadata": {},
   "outputs": [],
   "source": [
    "pd.options.display.max_colwidth = 40"
   ]
  },
  {
   "cell_type": "code",
   "execution_count": 127,
   "metadata": {},
   "outputs": [
    {
     "data": {
      "text/plain": [
       "(1618, 14)"
      ]
     },
     "execution_count": 127,
     "metadata": {},
     "output_type": "execute_result"
    }
   ],
   "source": [
    "tweet_clean.shape"
   ]
  },
  {
   "cell_type": "code",
   "execution_count": 128,
   "metadata": {
    "scrolled": true
   },
   "outputs": [
    {
     "data": {
      "text/html": [
       "<div>\n",
       "<style scoped>\n",
       "    .dataframe tbody tr th:only-of-type {\n",
       "        vertical-align: middle;\n",
       "    }\n",
       "\n",
       "    .dataframe tbody tr th {\n",
       "        vertical-align: top;\n",
       "    }\n",
       "\n",
       "    .dataframe thead th {\n",
       "        text-align: right;\n",
       "    }\n",
       "</style>\n",
       "<table border=\"1\" class=\"dataframe\">\n",
       "  <thead>\n",
       "    <tr style=\"text-align: right;\">\n",
       "      <th></th>\n",
       "      <th>tweet_id</th>\n",
       "      <th>jpg_url</th>\n",
       "      <th>timestamp</th>\n",
       "      <th>source</th>\n",
       "      <th>text</th>\n",
       "      <th>rating_numerator</th>\n",
       "      <th>rating_denominator</th>\n",
       "      <th>name</th>\n",
       "      <th>stage</th>\n",
       "      <th>retweet_count</th>\n",
       "      <th>favorite_count</th>\n",
       "      <th>twitter_url</th>\n",
       "      <th>breed</th>\n",
       "      <th>breed_conf</th>\n",
       "    </tr>\n",
       "  </thead>\n",
       "  <tbody>\n",
       "    <tr>\n",
       "      <th>1615</th>\n",
       "      <td>891689557279858688</td>\n",
       "      <td>https://pbs.twimg.com/media/DF_q7IAW...</td>\n",
       "      <td>2017-07-30 15:58:51+00:00</td>\n",
       "      <td>Twitter for iPhone</td>\n",
       "      <td>This is Darla. She commenced a snooz...</td>\n",
       "      <td>13.0</td>\n",
       "      <td>10.0</td>\n",
       "      <td>Darla</td>\n",
       "      <td>NaN</td>\n",
       "      <td>8964</td>\n",
       "      <td>42908</td>\n",
       "      <td>https://twitter.com/dog_rates/status...</td>\n",
       "      <td>Labrador_Retriever</td>\n",
       "      <td>0.168086</td>\n",
       "    </tr>\n",
       "    <tr>\n",
       "      <th>1616</th>\n",
       "      <td>891815181378084864</td>\n",
       "      <td>https://pbs.twimg.com/media/DGBdLU1W...</td>\n",
       "      <td>2017-07-31 00:18:03+00:00</td>\n",
       "      <td>Twitter for iPhone</td>\n",
       "      <td>This is Archie. He is a rare Norwegi...</td>\n",
       "      <td>12.0</td>\n",
       "      <td>10.0</td>\n",
       "      <td>Archie</td>\n",
       "      <td>NaN</td>\n",
       "      <td>4328</td>\n",
       "      <td>25461</td>\n",
       "      <td>https://twitter.com/dog_rates/status...</td>\n",
       "      <td>Chihuahua</td>\n",
       "      <td>0.716012</td>\n",
       "    </tr>\n",
       "    <tr>\n",
       "      <th>1617</th>\n",
       "      <td>892177421306343426</td>\n",
       "      <td>https://pbs.twimg.com/media/DGGmoV4X...</td>\n",
       "      <td>2017-08-01 00:17:27+00:00</td>\n",
       "      <td>Twitter for iPhone</td>\n",
       "      <td>This is Tilly. She's just checking p...</td>\n",
       "      <td>13.0</td>\n",
       "      <td>10.0</td>\n",
       "      <td>Tilly</td>\n",
       "      <td>NaN</td>\n",
       "      <td>6514</td>\n",
       "      <td>33819</td>\n",
       "      <td>https://twitter.com/dog_rates/status...</td>\n",
       "      <td>Chihuahua</td>\n",
       "      <td>0.323581</td>\n",
       "    </tr>\n",
       "  </tbody>\n",
       "</table>\n",
       "</div>"
      ],
      "text/plain": [
       "                tweet_id                                  jpg_url  \\\n",
       "1615  891689557279858688  https://pbs.twimg.com/media/DF_q7IAW...   \n",
       "1616  891815181378084864  https://pbs.twimg.com/media/DGBdLU1W...   \n",
       "1617  892177421306343426  https://pbs.twimg.com/media/DGGmoV4X...   \n",
       "\n",
       "                     timestamp              source  \\\n",
       "1615 2017-07-30 15:58:51+00:00  Twitter for iPhone   \n",
       "1616 2017-07-31 00:18:03+00:00  Twitter for iPhone   \n",
       "1617 2017-08-01 00:17:27+00:00  Twitter for iPhone   \n",
       "\n",
       "                                         text  rating_numerator  \\\n",
       "1615  This is Darla. She commenced a snooz...              13.0   \n",
       "1616  This is Archie. He is a rare Norwegi...              12.0   \n",
       "1617  This is Tilly. She's just checking p...              13.0   \n",
       "\n",
       "      rating_denominator    name stage  retweet_count  favorite_count  \\\n",
       "1615                10.0   Darla   NaN           8964           42908   \n",
       "1616                10.0  Archie   NaN           4328           25461   \n",
       "1617                10.0   Tilly   NaN           6514           33819   \n",
       "\n",
       "                                  twitter_url               breed  breed_conf  \n",
       "1615  https://twitter.com/dog_rates/status...  Labrador_Retriever    0.168086  \n",
       "1616  https://twitter.com/dog_rates/status...           Chihuahua    0.716012  \n",
       "1617  https://twitter.com/dog_rates/status...           Chihuahua    0.323581  "
      ]
     },
     "execution_count": 128,
     "metadata": {},
     "output_type": "execute_result"
    }
   ],
   "source": [
    "tweet_clean = tweet_clean.reset_index(drop = True)\n",
    "tweet_clean.tail(3)"
   ]
  },
  {
   "cell_type": "code",
   "execution_count": 129,
   "metadata": {},
   "outputs": [
    {
     "data": {
      "text/plain": [
       "Index(['tweet_id', 'jpg_url', 'timestamp', 'source', 'text',\n",
       "       'rating_numerator', 'rating_denominator', 'name', 'stage',\n",
       "       'retweet_count', 'favorite_count', 'twitter_url', 'breed',\n",
       "       'breed_conf'],\n",
       "      dtype='object')"
      ]
     },
     "execution_count": 129,
     "metadata": {},
     "output_type": "execute_result"
    }
   ],
   "source": [
    "tweet_clean.columns"
   ]
  },
  {
   "cell_type": "code",
   "execution_count": 130,
   "metadata": {},
   "outputs": [],
   "source": [
    "tweet_clean = tweet_clean[['breed', 'breed_conf', 'jpg_url', 'name', 'stage', \\\n",
    "                           'rating_numerator', 'rating_denominator', \\\n",
    "                           'retweet_count', 'favorite_count', \n",
    "                           'tweet_id', 'text', 'twitter_url', 'timestamp', 'source']]"
   ]
  },
  {
   "cell_type": "code",
   "execution_count": 131,
   "metadata": {
    "scrolled": false
   },
   "outputs": [
    {
     "data": {
      "text/html": [
       "<div>\n",
       "<style scoped>\n",
       "    .dataframe tbody tr th:only-of-type {\n",
       "        vertical-align: middle;\n",
       "    }\n",
       "\n",
       "    .dataframe tbody tr th {\n",
       "        vertical-align: top;\n",
       "    }\n",
       "\n",
       "    .dataframe thead th {\n",
       "        text-align: right;\n",
       "    }\n",
       "</style>\n",
       "<table border=\"1\" class=\"dataframe\">\n",
       "  <thead>\n",
       "    <tr style=\"text-align: right;\">\n",
       "      <th></th>\n",
       "      <th>breed</th>\n",
       "      <th>breed_conf</th>\n",
       "      <th>jpg_url</th>\n",
       "      <th>name</th>\n",
       "      <th>stage</th>\n",
       "      <th>rating_numerator</th>\n",
       "      <th>rating_denominator</th>\n",
       "      <th>retweet_count</th>\n",
       "      <th>favorite_count</th>\n",
       "      <th>tweet_id</th>\n",
       "      <th>text</th>\n",
       "      <th>twitter_url</th>\n",
       "      <th>timestamp</th>\n",
       "      <th>source</th>\n",
       "    </tr>\n",
       "  </thead>\n",
       "  <tbody>\n",
       "    <tr>\n",
       "      <th>0</th>\n",
       "      <td>Welsh_Springer_Spaniel</td>\n",
       "      <td>0.465074</td>\n",
       "      <td>https://pbs.twimg.com/media/CT4udn0W...</td>\n",
       "      <td>NaN</td>\n",
       "      <td>NaN</td>\n",
       "      <td>8.0</td>\n",
       "      <td>10.0</td>\n",
       "      <td>532</td>\n",
       "      <td>2535</td>\n",
       "      <td>666020888022790149</td>\n",
       "      <td>Here we have a Japanese Irish Setter...</td>\n",
       "      <td>https://twitter.com/dog_rates/status...</td>\n",
       "      <td>2015-11-15 22:32:08+00:00</td>\n",
       "      <td>Twitter for iPhone</td>\n",
       "    </tr>\n",
       "    <tr>\n",
       "      <th>1</th>\n",
       "      <td>Redbone</td>\n",
       "      <td>0.506826</td>\n",
       "      <td>https://pbs.twimg.com/media/CT42GRgU...</td>\n",
       "      <td>NaN</td>\n",
       "      <td>NaN</td>\n",
       "      <td>7.0</td>\n",
       "      <td>10.0</td>\n",
       "      <td>48</td>\n",
       "      <td>132</td>\n",
       "      <td>666029285002620928</td>\n",
       "      <td>This is a western brown Mitsubishi t...</td>\n",
       "      <td>https://twitter.com/dog_rates/status...</td>\n",
       "      <td>2015-11-15 23:05:30+00:00</td>\n",
       "      <td>Twitter for iPhone</td>\n",
       "    </tr>\n",
       "    <tr>\n",
       "      <th>2</th>\n",
       "      <td>German_Shepherd</td>\n",
       "      <td>0.596461</td>\n",
       "      <td>https://pbs.twimg.com/media/CT4521TW...</td>\n",
       "      <td>NaN</td>\n",
       "      <td>NaN</td>\n",
       "      <td>9.0</td>\n",
       "      <td>10.0</td>\n",
       "      <td>47</td>\n",
       "      <td>128</td>\n",
       "      <td>666033412701032449</td>\n",
       "      <td>Here is a very happy pup. Big fan of...</td>\n",
       "      <td>https://twitter.com/dog_rates/status...</td>\n",
       "      <td>2015-11-15 23:21:54+00:00</td>\n",
       "      <td>Twitter for iPhone</td>\n",
       "    </tr>\n",
       "  </tbody>\n",
       "</table>\n",
       "</div>"
      ],
      "text/plain": [
       "                    breed  breed_conf  \\\n",
       "0  Welsh_Springer_Spaniel    0.465074   \n",
       "1                 Redbone    0.506826   \n",
       "2         German_Shepherd    0.596461   \n",
       "\n",
       "                                   jpg_url name stage  rating_numerator  \\\n",
       "0  https://pbs.twimg.com/media/CT4udn0W...  NaN   NaN               8.0   \n",
       "1  https://pbs.twimg.com/media/CT42GRgU...  NaN   NaN               7.0   \n",
       "2  https://pbs.twimg.com/media/CT4521TW...  NaN   NaN               9.0   \n",
       "\n",
       "   rating_denominator  retweet_count  favorite_count            tweet_id  \\\n",
       "0                10.0            532            2535  666020888022790149   \n",
       "1                10.0             48             132  666029285002620928   \n",
       "2                10.0             47             128  666033412701032449   \n",
       "\n",
       "                                      text  \\\n",
       "0  Here we have a Japanese Irish Setter...   \n",
       "1  This is a western brown Mitsubishi t...   \n",
       "2  Here is a very happy pup. Big fan of...   \n",
       "\n",
       "                               twitter_url                 timestamp  \\\n",
       "0  https://twitter.com/dog_rates/status... 2015-11-15 22:32:08+00:00   \n",
       "1  https://twitter.com/dog_rates/status... 2015-11-15 23:05:30+00:00   \n",
       "2  https://twitter.com/dog_rates/status... 2015-11-15 23:21:54+00:00   \n",
       "\n",
       "               source  \n",
       "0  Twitter for iPhone  \n",
       "1  Twitter for iPhone  \n",
       "2  Twitter for iPhone  "
      ]
     },
     "execution_count": 131,
     "metadata": {},
     "output_type": "execute_result"
    }
   ],
   "source": [
    "tweet_clean.head(3)"
   ]
  },
  {
   "cell_type": "code",
   "execution_count": 26,
   "metadata": {
    "scrolled": true
   },
   "outputs": [],
   "source": [
    "# tweet_clean.info()"
   ]
  },
  {
   "cell_type": "markdown",
   "metadata": {},
   "source": [
    "[Go back to Table of Contents](#workflow)"
   ]
  },
  {
   "cell_type": "markdown",
   "metadata": {},
   "source": [
    "---\n",
    "<a id = 'store'></a>\n",
    "### Storing data\n",
    "Store the clean DataFrame(s) in a CSV file with the main one named **twitter_archive_master.csv**. If additional files exist because multiple tables are required for tidiness, name these files appropriately. Additionally, you may store the cleaned data in a SQLite database (which is to be submitted as well if you do)."
   ]
  },
  {
   "cell_type": "code",
   "execution_count": 133,
   "metadata": {},
   "outputs": [],
   "source": [
    "tweet_clean.to_csv('data/twitter_archive_master.csv', index = False)"
   ]
  },
  {
   "cell_type": "markdown",
   "metadata": {},
   "source": [
    "---\n",
    "<a id = 'analysis'></a>\n",
    "### Analyzing, and Visualizing Data for this Project"
   ]
  },
  {
   "cell_type": "markdown",
   "metadata": {},
   "source": [
    "Analyze and visualize your wrangled data in your wrangle_act.ipynb Jupyter Notebook. At least three (3) insights and one (1) visualization must be produced."
   ]
  },
  {
   "cell_type": "code",
   "execution_count": 134,
   "metadata": {},
   "outputs": [],
   "source": [
    "tweets = pd.read_csv('data/twitter_archive_master.csv')"
   ]
  },
  {
   "cell_type": "code",
   "execution_count": 135,
   "metadata": {},
   "outputs": [
    {
     "name": "stdout",
     "output_type": "stream",
     "text": [
      "0 breed\n",
      "1 breed_conf\n",
      "2 jpg_url\n",
      "3 name\n",
      "4 stage\n",
      "5 rating_numerator\n",
      "6 rating_denominator\n",
      "7 retweet_count\n",
      "8 favorite_count\n",
      "9 tweet_id\n",
      "10 text\n",
      "11 twitter_url\n",
      "12 timestamp\n",
      "13 source\n"
     ]
    }
   ],
   "source": [
    "for i, v in enumerate(tweets.columns):\n",
    "    print(i, v)"
   ]
  },
  {
   "cell_type": "code",
   "execution_count": 136,
   "metadata": {
    "scrolled": true
   },
   "outputs": [],
   "source": [
    "rating = tweets.rating_numerator / tweets.rating_denominator\n",
    "rating = np.array(rating)\n",
    "tweets.insert(loc = 5, column = 'rating', value = rating)"
   ]
  },
  {
   "cell_type": "code",
   "execution_count": 27,
   "metadata": {},
   "outputs": [],
   "source": [
    "# tweets"
   ]
  },
  {
   "cell_type": "code",
   "execution_count": 138,
   "metadata": {},
   "outputs": [
    {
     "name": "stdout",
     "output_type": "stream",
     "text": [
      "<class 'pandas.core.frame.DataFrame'>\n",
      "RangeIndex: 1618 entries, 0 to 1617\n",
      "Data columns (total 15 columns):\n",
      " #   Column              Non-Null Count  Dtype  \n",
      "---  ------              --------------  -----  \n",
      " 0   breed               1618 non-null   object \n",
      " 1   breed_conf          1618 non-null   float64\n",
      " 2   jpg_url             1618 non-null   object \n",
      " 3   name                1199 non-null   object \n",
      " 4   stage               257 non-null    object \n",
      " 5   rating              1618 non-null   float64\n",
      " 6   rating_numerator    1618 non-null   float64\n",
      " 7   rating_denominator  1618 non-null   float64\n",
      " 8   retweet_count       1618 non-null   int64  \n",
      " 9   favorite_count      1618 non-null   int64  \n",
      " 10  tweet_id            1618 non-null   int64  \n",
      " 11  text                1618 non-null   object \n",
      " 12  twitter_url         1618 non-null   object \n",
      " 13  timestamp           1618 non-null   object \n",
      " 14  source              1618 non-null   object \n",
      "dtypes: float64(4), int64(3), object(8)\n",
      "memory usage: 189.7+ KB\n"
     ]
    }
   ],
   "source": [
    "tweets.info()"
   ]
  },
  {
   "cell_type": "code",
   "execution_count": 139,
   "metadata": {
    "scrolled": false
   },
   "outputs": [
    {
     "data": {
      "text/html": [
       "<div>\n",
       "<style scoped>\n",
       "    .dataframe tbody tr th:only-of-type {\n",
       "        vertical-align: middle;\n",
       "    }\n",
       "\n",
       "    .dataframe tbody tr th {\n",
       "        vertical-align: top;\n",
       "    }\n",
       "\n",
       "    .dataframe thead th {\n",
       "        text-align: right;\n",
       "    }\n",
       "</style>\n",
       "<table border=\"1\" class=\"dataframe\">\n",
       "  <thead>\n",
       "    <tr style=\"text-align: right;\">\n",
       "      <th></th>\n",
       "      <th>breed_conf</th>\n",
       "      <th>rating</th>\n",
       "      <th>rating_numerator</th>\n",
       "      <th>rating_denominator</th>\n",
       "      <th>retweet_count</th>\n",
       "      <th>favorite_count</th>\n",
       "      <th>tweet_id</th>\n",
       "    </tr>\n",
       "  </thead>\n",
       "  <tbody>\n",
       "    <tr>\n",
       "      <th>count</th>\n",
       "      <td>1618.000000</td>\n",
       "      <td>1618.000000</td>\n",
       "      <td>1618.000000</td>\n",
       "      <td>1618.000000</td>\n",
       "      <td>1618.000000</td>\n",
       "      <td>1618.000000</td>\n",
       "      <td>1.618000e+03</td>\n",
       "    </tr>\n",
       "    <tr>\n",
       "      <th>mean</th>\n",
       "      <td>0.550202</td>\n",
       "      <td>1.089184</td>\n",
       "      <td>11.398640</td>\n",
       "      <td>10.457355</td>\n",
       "      <td>2775.831891</td>\n",
       "      <td>9074.125464</td>\n",
       "      <td>7.386078e+17</td>\n",
       "    </tr>\n",
       "    <tr>\n",
       "      <th>std</th>\n",
       "      <td>0.299341</td>\n",
       "      <td>0.245000</td>\n",
       "      <td>7.517198</td>\n",
       "      <td>6.352925</td>\n",
       "      <td>4796.384046</td>\n",
       "      <td>12470.987438</td>\n",
       "      <td>6.779567e+16</td>\n",
       "    </tr>\n",
       "    <tr>\n",
       "      <th>min</th>\n",
       "      <td>0.000010</td>\n",
       "      <td>0.000000</td>\n",
       "      <td>0.000000</td>\n",
       "      <td>10.000000</td>\n",
       "      <td>16.000000</td>\n",
       "      <td>81.000000</td>\n",
       "      <td>6.660209e+17</td>\n",
       "    </tr>\n",
       "    <tr>\n",
       "      <th>25%</th>\n",
       "      <td>0.305025</td>\n",
       "      <td>1.000000</td>\n",
       "      <td>10.000000</td>\n",
       "      <td>10.000000</td>\n",
       "      <td>629.500000</td>\n",
       "      <td>2105.000000</td>\n",
       "      <td>6.769623e+17</td>\n",
       "    </tr>\n",
       "    <tr>\n",
       "      <th>50%</th>\n",
       "      <td>0.547977</td>\n",
       "      <td>1.100000</td>\n",
       "      <td>11.000000</td>\n",
       "      <td>10.000000</td>\n",
       "      <td>1404.000000</td>\n",
       "      <td>4243.500000</td>\n",
       "      <td>7.120915e+17</td>\n",
       "    </tr>\n",
       "    <tr>\n",
       "      <th>75%</th>\n",
       "      <td>0.822939</td>\n",
       "      <td>1.200000</td>\n",
       "      <td>12.000000</td>\n",
       "      <td>10.000000</td>\n",
       "      <td>3224.750000</td>\n",
       "      <td>11500.250000</td>\n",
       "      <td>7.923084e+17</td>\n",
       "    </tr>\n",
       "    <tr>\n",
       "      <th>max</th>\n",
       "      <td>0.999956</td>\n",
       "      <td>7.500000</td>\n",
       "      <td>165.000000</td>\n",
       "      <td>150.000000</td>\n",
       "      <td>79515.000000</td>\n",
       "      <td>132810.000000</td>\n",
       "      <td>8.921774e+17</td>\n",
       "    </tr>\n",
       "  </tbody>\n",
       "</table>\n",
       "</div>"
      ],
      "text/plain": [
       "        breed_conf       rating  rating_numerator  rating_denominator  \\\n",
       "count  1618.000000  1618.000000       1618.000000         1618.000000   \n",
       "mean      0.550202     1.089184         11.398640           10.457355   \n",
       "std       0.299341     0.245000          7.517198            6.352925   \n",
       "min       0.000010     0.000000          0.000000           10.000000   \n",
       "25%       0.305025     1.000000         10.000000           10.000000   \n",
       "50%       0.547977     1.100000         11.000000           10.000000   \n",
       "75%       0.822939     1.200000         12.000000           10.000000   \n",
       "max       0.999956     7.500000        165.000000          150.000000   \n",
       "\n",
       "       retweet_count  favorite_count      tweet_id  \n",
       "count    1618.000000     1618.000000  1.618000e+03  \n",
       "mean     2775.831891     9074.125464  7.386078e+17  \n",
       "std      4796.384046    12470.987438  6.779567e+16  \n",
       "min        16.000000       81.000000  6.660209e+17  \n",
       "25%       629.500000     2105.000000  6.769623e+17  \n",
       "50%      1404.000000     4243.500000  7.120915e+17  \n",
       "75%      3224.750000    11500.250000  7.923084e+17  \n",
       "max     79515.000000   132810.000000  8.921774e+17  "
      ]
     },
     "execution_count": 139,
     "metadata": {},
     "output_type": "execute_result"
    }
   ],
   "source": [
    "tweets.describe()"
   ]
  },
  {
   "cell_type": "markdown",
   "metadata": {},
   "source": [
    "### `1.` Does favorites have impact on retweets? "
   ]
  },
  {
   "cell_type": "code",
   "execution_count": 140,
   "metadata": {
    "scrolled": true
   },
   "outputs": [
    {
     "data": {
      "image/png": "[encoded data removed]",
      "text/plain": [
       "<Figure size 432x288 with 1 Axes>"
      ]
     },
     "metadata": {
      "needs_background": "light"
     },
     "output_type": "display_data"
    }
   ],
   "source": [
    "plt.scatter(x = tweets['favorite_count'], y = tweets['retweet_count']); \n",
    "\n",
    "plt.title('Relationship between favorites and retweets', fontsize = 14)\n",
    "plt.xlabel('Number of Favorites', fontsize = 12)\n",
    "plt.ylabel('Number of Re-tweets', fontsize = 12);"
   ]
  },
  {
   "cell_type": "markdown",
   "metadata": {},
   "source": [
    "#### Finding\n",
    "Given the scatter plot, the number of favorites has a fairly strong positive relationship with the number of retweets. Therefore, it is likely that dog tweets that gain popularity are likely to be shared (retweeted)."
   ]
  },
  {
   "cell_type": "markdown",
   "metadata": {},
   "source": [
    "### `2.` Which breed is the most retweeted?"
   ]
  },
  {
   "cell_type": "code",
   "execution_count": 141,
   "metadata": {},
   "outputs": [],
   "source": [
    "breed = tweets.groupby(by = ['breed']).mean()\n",
    "breed_retweeted = breed['retweet_count'].sort_values()"
   ]
  },
  {
   "cell_type": "code",
   "execution_count": 142,
   "metadata": {},
   "outputs": [
    {
     "data": {
      "text/plain": [
       "breed\n",
       "Groenendael                     276.500000\n",
       "Brabancon_Griffon               287.666667\n",
       "Japanese_Spaniel                471.000000\n",
       "Tibetan_Terrier                 557.750000\n",
       "Entlebucher                     706.000000\n",
       "Lhasa                           759.750000\n",
       "Rhodesian_Ridgeback             769.000000\n",
       "Irish_Wolfhound                 819.000000\n",
       "Toy_Terrier                     834.333333\n",
       "Dandie_Dinmont                  856.833333\n",
       "Scottish_Deerhound              872.750000\n",
       "Basenji                         890.111111\n",
       "Standard_Schnauzer              928.000000\n",
       "Miniature_Schnauzer             936.600000\n",
       "Miniature_Poodle                975.250000\n",
       "Soft-Coated_Wheaten_Terrier    1005.076923\n",
       "Welsh_Springer_Spaniel         1106.000000\n",
       "Redbone                        1113.000000\n",
       "Cairn                          1130.333333\n",
       "Curly-Coated_Retriever         1208.333333\n",
       "Maltese_Dog                    1238.263158\n",
       "Sussex_Spaniel                 1239.000000\n",
       "Scotch_Terrier                 1250.000000\n",
       "Papillon                       1298.142857\n",
       "Irish_Terrier                  1309.666667\n",
       "Beagle                         1352.500000\n",
       "Yorkshire_Terrier              1356.000000\n",
       "Brittany_Spaniel               1358.750000\n",
       "German_Short-Haired_Pointer    1369.875000\n",
       "Airedale                       1393.750000\n",
       "                                  ...     \n",
       "Wire-Haired_Fox_Terrier        2923.500000\n",
       "Briard                         2966.666667\n",
       "Australian_Terrier             3078.500000\n",
       "Pembroke                       3119.164835\n",
       "Irish_Setter                   3374.000000\n",
       "Border_Terrier                 3377.142857\n",
       "Giant_Schnauzer                3481.666667\n",
       "Norwegian_Elkhound             3555.000000\n",
       "Labrador_Retriever             3606.356436\n",
       "Golden_Retriever               3776.712418\n",
       "Cardigan                       3798.333333\n",
       "Leonberg                       3863.666667\n",
       "Great_Pyrenees                 3978.384615\n",
       "Black-And-Tan_Coonhound        4164.500000\n",
       "Tibetan_Mastiff                4193.000000\n",
       "Eskimo_Dog                     4235.590909\n",
       "Lakeland_Terrier               4252.529412\n",
       "Mexican_Hairless               4254.857143\n",
       "Bouvier_Des_Flandres           4479.000000\n",
       "Irish_Water_Spaniel            4500.666667\n",
       "Flat-Coated_Retriever          4535.166667\n",
       "Samoyed                        4593.131579\n",
       "Whippet                        4840.272727\n",
       "Cocker_Spaniel                 4907.586207\n",
       "Saluki                         5133.750000\n",
       "French_Bulldog                 5252.482759\n",
       "English_Springer               5401.600000\n",
       "Standard_Poodle                5929.600000\n",
       "Afghan_Hound                   5976.000000\n",
       "Bedlington_Terrier             7510.166667\n",
       "Name: retweet_count, Length: 113, dtype: float64"
      ]
     },
     "execution_count": 142,
     "metadata": {},
     "output_type": "execute_result"
    }
   ],
   "source": [
    "breed_retweeted[1:10]"
   ]
  },
  {
   "cell_type": "code",
   "execution_count": 143,
   "metadata": {
    "scrolled": false
   },
   "outputs": [
    {
     "data": {
      "image/png": "[encoded data removed]",
      "text/plain": [
       "<Figure size 864x2160 with 1 Axes>"
      ]
     },
     "metadata": {
      "needs_background": "light"
     },
     "output_type": "display_data"
    }
   ],
   "source": [
    "plt.figure(figsize = [12, 30])\n",
    "breed_retweeted.plot(kind = 'barh');\n",
    "\n",
    "plt.title('Number of Retweets by Breed', fontsize = 16)\n",
    "plt.xlabel('Average Number of Retweets', fontsize = 12)\n",
    "plt.ylabel('Breeds', fontsize = 12);"
   ]
  },
  {
   "cell_type": "markdown",
   "metadata": {},
   "source": [
    "#### Simplify to Top 20 only "
   ]
  },
  {
   "cell_type": "code",
   "execution_count": 144,
   "metadata": {},
   "outputs": [],
   "source": [
    "top20_retweeted = breed_retweeted.nlargest(20).sort_values()"
   ]
  },
  {
   "cell_type": "code",
   "execution_count": 145,
   "metadata": {},
   "outputs": [
    {
     "data": {
      "text/plain": [
       "0.35605526397699294"
      ]
     },
     "execution_count": 145,
     "metadata": {},
     "output_type": "execute_result"
    }
   ],
   "source": [
    "top20_retweeted.sum() / breed_retweeted.sum() # 36% of the total"
   ]
  },
  {
   "cell_type": "code",
   "execution_count": 146,
   "metadata": {},
   "outputs": [
    {
     "data": {
      "image/png": "[encoded data removed]",
      "text/plain": [
       "<Figure size 576x432 with 1 Axes>"
      ]
     },
     "metadata": {
      "needs_background": "light"
     },
     "output_type": "display_data"
    }
   ],
   "source": [
    "plt.figure(figsize = [8,6])\n",
    "top20_retweeted.plot(kind = 'barh');\n",
    "\n",
    "plt.title('Top 20 Retweeted Breed (36% of Total Retweets)', fontsize = 14)\n",
    "plt.xlabel('Average Number of Tweets', fontsize = 12)\n",
    "plt.ylabel('Breeds', fontsize = 12);"
   ]
  },
  {
   "cell_type": "markdown",
   "metadata": {},
   "source": [
    "#### Finding"
   ]
  },
  {
   "cell_type": "markdown",
   "metadata": {},
   "source": [
    "The most retweeted dog breeds is Bedlington Terrier (7510 retweets on average). Afghan Hound, Standard Poodle, English Springer and French Bulldogs follow the next in retweets. \n",
    "\n",
    "Given the strong, positive relationship between retweets and favorites (likes), posts related to Bedlington Terrier is likely to be favored on Twitter."
   ]
  },
  {
   "cell_type": "markdown",
   "metadata": {},
   "source": [
    "### `3.` Does the most retweeted breeds have high ratings as well?"
   ]
  },
  {
   "cell_type": "code",
   "execution_count": 147,
   "metadata": {},
   "outputs": [
    {
     "data": {
      "image/png": "[encoded data removed]",
      "text/plain": [
       "<Figure size 432x288 with 1 Axes>"
      ]
     },
     "metadata": {
      "needs_background": "light"
     },
     "output_type": "display_data"
    }
   ],
   "source": [
    "plt.scatter(data = tweets, x = 'retweet_count', y = 'rating');\n",
    "plt.ylim(0, 2); # removing outliers "
   ]
  },
  {
   "cell_type": "code",
   "execution_count": 156,
   "metadata": {},
   "outputs": [
    {
     "data": {
      "text/plain": [
       "{'count': 113.0,\n",
       " 'mean': 1.0767455768509495,\n",
       " 'std': 0.1821772400665678,\n",
       " 'min': 0.5,\n",
       " '25%': 1.0,\n",
       " '50%': 1.0705882352941176,\n",
       " '75%': 1.1272727272727272,\n",
       " 'max': 2.7}"
      ]
     },
     "execution_count": 156,
     "metadata": {},
     "output_type": "execute_result"
    }
   ],
   "source": [
    "rating_summary = dict(breed.rating.describe())\n",
    "rating_summary"
   ]
  },
  {
   "cell_type": "code",
   "execution_count": 176,
   "metadata": {},
   "outputs": [
    {
     "data": {
      "image/png": "[encoded data removed]",
      "text/plain": [
       "<Figure size 576x144 with 1 Axes>"
      ]
     },
     "metadata": {
      "needs_background": "light"
     },
     "output_type": "display_data"
    }
   ],
   "source": [
    "plt.figure(figsize = [8,2])\n",
    "\n",
    "sns.boxplot(breed.rating);\n",
    "plt.title('Summary Statistics: Rating by Breed', fontsize = 14)\n",
    "plt.xlabel('Rating', fontsize = 12);\n"
   ]
  },
  {
   "cell_type": "code",
   "execution_count": 149,
   "metadata": {
    "scrolled": true
   },
   "outputs": [],
   "source": [
    "top20_retweet = breed.nlargest(n = 20, columns = 'retweet_count')\n",
    "top20_retweet = top20_retweet.sort_values(by = 'retweet_count')"
   ]
  },
  {
   "cell_type": "code",
   "execution_count": 150,
   "metadata": {},
   "outputs": [],
   "source": [
    "top20_retweet_rating = top20_retweet['rating']"
   ]
  },
  {
   "cell_type": "code",
   "execution_count": 151,
   "metadata": {},
   "outputs": [
    {
     "data": {
      "image/png": "[encoded data removed]",
      "text/plain": [
       "<Figure size 576x432 with 1 Axes>"
      ]
     },
     "metadata": {
      "needs_background": "light"
     },
     "output_type": "display_data"
    }
   ],
   "source": [
    "plt.figure(figsize = [8,6])\n",
    "top20_retweet_rating.plot(kind = 'barh')\n",
    "\n",
    "plt.title('WeRateDogs Rating for Top 20 Retweeted Breed', fontsize = 14)\n",
    "plt.xlabel('Rating', fontsize = 12)\n",
    "plt.ylabel('Breed', fontsize = 12)\n",
    "\n",
    "plt.xlim(0,1.5);\n",
    "plt.axvline(x = rating_summary['75%'], color = 'red', linestyle = '-')\n",
    "plt.axvline(x = rating_summary['50%'], color = 'red', linestyle = ':')\n",
    "plt.text(rating_summary['75%'] + 0.01, 1, 'Top25%_rating', rotation = 45)\n",
    "plt.text(rating_summary['50%'] + 0.01, 3, 'Median_rating', rotation = 45);"
   ]
  },
  {
   "cell_type": "markdown",
   "metadata": {},
   "source": [
    "#### Finding\n",
    "\n",
    "The most retweeted is Bedlington Terrior. However, the breed has received lower than median rating on average. Afghan Hound and English Springer are also below median rating. The rest of the Top 5 most retweeted breeds (Standard Poodle and French Bulldogs) are above the median rating but not even within Top 20% in terms of WeRateDogs rating."
   ]
  },
  {
   "cell_type": "code",
   "execution_count": 152,
   "metadata": {
    "scrolled": true
   },
   "outputs": [
    {
     "data": {
      "text/plain": [
       "['Cardigan',\n",
       " 'Leonberg',\n",
       " 'Great_Pyrenees',\n",
       " 'Black-And-Tan_Coonhound',\n",
       " 'Tibetan_Mastiff',\n",
       " 'Eskimo_Dog',\n",
       " 'Lakeland_Terrier',\n",
       " 'Mexican_Hairless',\n",
       " 'Bouvier_Des_Flandres',\n",
       " 'Irish_Water_Spaniel',\n",
       " 'Flat-Coated_Retriever',\n",
       " 'Samoyed',\n",
       " 'Whippet',\n",
       " 'Cocker_Spaniel',\n",
       " 'Saluki',\n",
       " 'French_Bulldog',\n",
       " 'English_Springer',\n",
       " 'Standard_Poodle',\n",
       " 'Afghan_Hound',\n",
       " 'Bedlington_Terrier']"
      ]
     },
     "execution_count": 152,
     "metadata": {},
     "output_type": "execute_result"
    }
   ],
   "source": [
    "top20_index = list(top20_retweet.index)\n",
    "top20_index"
   ]
  },
  {
   "cell_type": "markdown",
   "metadata": {},
   "source": [
    "---\n",
    "This is the end of the notebook. If you want to return to Table of Contents, please click [here](#workflow)."
   ]
  }
 ],
 "metadata": {
  "kernelspec": {
   "display_name": "Python 3",
   "language": "python",
   "name": "python3"
  },
  "language_info": {
   "codemirror_mode": {
    "name": "ipython",
    "version": 3
   },
   "file_extension": ".py",
   "mimetype": "text/x-python",
   "name": "python",
   "nbconvert_exporter": "python",
   "pygments_lexer": "ipython3",
   "version": "3.7.6"
  }
 },
 "nbformat": 4,
 "nbformat_minor": 4
}
