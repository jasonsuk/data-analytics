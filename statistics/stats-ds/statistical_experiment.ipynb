{
 "cells": [
  {
   "cell_type": "markdown",
   "metadata": {},
   "source": [
    "Along **`Practical Statistics for Data Scientists`** book \n",
    "\n",
    "Chapter 3 : Statistical Experiments and Significance Testing"
   ]
  },
  {
   "cell_type": "markdown",
   "metadata": {},
   "source": [
    "<a id=top></a>\n",
    "[Go to bottom](#bottom)"
   ]
  },
  {
   "cell_type": "code",
   "execution_count": 23,
   "metadata": {},
   "outputs": [],
   "source": [
    "import numpy as np\n",
    "import pandas as pd\n",
    "import matplotlib.pyplot as plt\n",
    "import seaborn as sns\n",
    "\n",
    "from sklearn.utils import resample\n",
    "from scipy.stats import stats\n",
    "\n",
    "import os\n",
    "import random"
   ]
  },
  {
   "cell_type": "code",
   "execution_count": 2,
   "metadata": {},
   "outputs": [],
   "source": [
    "def populate_data(filename) :\n",
    "    data_path = os.path.join(os.getcwd(), 'data') + '/' + filename\n",
    "    df = pd.read_csv(data_path)\n",
    "    print(df.info())\n",
    "    print(df.head())\n",
    "    return df"
   ]
  },
  {
   "cell_type": "markdown",
   "metadata": {},
   "source": [
    "## Resampling\n",
    "Boostrapping and Permutation test\n",
    "\n",
    "- Bootstrapping : estimate the sampling distribution of a statistic or parameters by replicating samples with replacement n repeating times - not compensate for a small sample size nor create a new data but powerful tool for assessing the variability of a sample statistic \n",
    "- Permutation test : multiple samples are combined and the sampling may be done without replacement"
   ]
  },
  {
   "cell_type": "code",
   "execution_count": 3,
   "metadata": {},
   "outputs": [
    {
     "name": "stdout",
     "output_type": "stream",
     "text": [
      "<class 'pandas.core.frame.DataFrame'>\n",
      "RangeIndex: 50000 entries, 0 to 49999\n",
      "Data columns (total 1 columns):\n",
      " #   Column  Non-Null Count  Dtype\n",
      "---  ------  --------------  -----\n",
      " 0   x       50000 non-null  int64\n",
      "dtypes: int64(1)\n",
      "memory usage: 390.8 KB\n",
      "None\n",
      "        x\n",
      "0   67000\n",
      "1   52000\n",
      "2  100000\n",
      "3   78762\n",
      "4   37041\n"
     ]
    }
   ],
   "source": [
    "loans_income = populate_data('loans_income.csv')"
   ]
  },
  {
   "cell_type": "markdown",
   "metadata": {},
   "source": [
    "### Bootstrapping"
   ]
  },
  {
   "cell_type": "code",
   "execution_count": 4,
   "metadata": {},
   "outputs": [],
   "source": [
    "results = []\n",
    "for nrepeats in range(1000) :\n",
    "    boot_sample = resample(loans_income, replace=True)\n",
    "    results.append(boot_sample.median())"
   ]
  },
  {
   "cell_type": "code",
   "execution_count": 5,
   "metadata": {},
   "outputs": [
    {
     "data": {
      "text/plain": [
       "(1000,)"
      ]
     },
     "execution_count": 5,
     "metadata": {},
     "output_type": "execute_result"
    }
   ],
   "source": [
    "results = pd.Series(results)\n",
    "results.shape"
   ]
  },
  {
   "cell_type": "code",
   "execution_count": 6,
   "metadata": {},
   "outputs": [
    {
     "name": "stdout",
     "output_type": "stream",
     "text": [
      "Bootstrap statistics : \n",
      "Original: 62000.0\n",
      "bias: -70.57200000000012\n",
      "std err: 205.11418684636527\n"
     ]
    }
   ],
   "source": [
    "print('Bootstrap statistics : ')\n",
    "print(f'Original: {loans_income.iloc[:,0].median()}')\n",
    "print(f'bias: {results.mean() - loans_income.iloc[:,0].median()}')\n",
    "print(f'std err: {results.std()}')"
   ]
  },
  {
   "cell_type": "markdown",
   "metadata": {},
   "source": [
    "The original estimate of the median is \\\\$62000. The boostrap distribution incidates that the estimate has a bias of about -\\\\$64 and a standard error of \\\\$209."
   ]
  },
  {
   "cell_type": "markdown",
   "metadata": {},
   "source": [
    "### Permutation Test\n",
    "Practice with **Web Stickiness** example \n",
    "\n",
    "_A company wants to test which of two web presentations creates a better sales. Due to high value of the server being sold, sales are infrequent and the sales cycle is long; so the company will go with the results with a proxy variable. A selected metric is average session time, comparing page A to page B. The result is a total of 36 sessions for the two different presentations : 21 for page A and 15 for page B._"
   ]
  },
  {
   "cell_type": "code",
   "execution_count": 7,
   "metadata": {},
   "outputs": [
    {
     "name": "stdout",
     "output_type": "stream",
     "text": [
      "<class 'pandas.core.frame.DataFrame'>\n",
      "RangeIndex: 36 entries, 0 to 35\n",
      "Data columns (total 2 columns):\n",
      " #   Column  Non-Null Count  Dtype  \n",
      "---  ------  --------------  -----  \n",
      " 0   Page    36 non-null     object \n",
      " 1   Time    36 non-null     float64\n",
      "dtypes: float64(1), object(1)\n",
      "memory usage: 704.0+ bytes\n",
      "None\n",
      "     Page  Time\n",
      "0  Page A  0.21\n",
      "1  Page B  2.53\n",
      "2  Page A  0.35\n",
      "3  Page B  0.71\n",
      "4  Page A  0.67\n"
     ]
    }
   ],
   "source": [
    "sessions_pages = populate_data('web_page_data.csv')"
   ]
  },
  {
   "cell_type": "code",
   "execution_count": 8,
   "metadata": {},
   "outputs": [
    {
     "data": {
      "image/png": "[encoded data removed]",
      "text/plain": [
       "<Figure size 432x288 with 1 Axes>"
      ]
     },
     "metadata": {
      "needs_background": "light"
     },
     "output_type": "display_data"
    }
   ],
   "source": [
    "ax=sns.boxplot(data=sessions_pages, x='Page', y='Time')\n",
    "ax.set_xlabel('')\n",
    "ax.set_ylabel('Session Time in second')\n",
    "plt.show()"
   ]
  },
  {
   "cell_type": "code",
   "execution_count": 9,
   "metadata": {},
   "outputs": [],
   "source": [
    "mean_page_a = sessions_pages.query('Page==\"Page A\"').mean()\n",
    "mean_page_b = sessions_pages.query('Page==\"Page B\"').mean()"
   ]
  },
  {
   "cell_type": "code",
   "execution_count": 10,
   "metadata": {},
   "outputs": [
    {
     "data": {
      "text/plain": [
       "0.3566666666666669"
      ]
     },
     "execution_count": 10,
     "metadata": {},
     "output_type": "execute_result"
    }
   ],
   "source": [
    "obs_diff = (mean_page_b - mean_page_a)[0]\n",
    "obs_diff"
   ]
  },
  {
   "cell_type": "markdown",
   "metadata": {},
   "source": [
    "The boxplot shows that page B held long sessions than page A. 0.35 more seconds on average.\n",
    "So next is to confirm is the difference is statistically significant - by doing a permutation test.\n",
    "\n",
    "how : combine all the session times together and then repeatedly shuffle. Divide them into a group of 21 (page A) and a group of 15 (page B)."
   ]
  },
  {
   "cell_type": "code",
   "execution_count": 11,
   "metadata": {},
   "outputs": [],
   "source": [
    "def perm_test_two(x, nA, nB) :\n",
    "    n = nA + nB\n",
    "    idx_A = set(random.sample(range(n), nA))\n",
    "    idx_B = set(range(n)) - idx_A\n",
    "    return x.loc[idx_B].mean() - x.loc[idx_A].mean()"
   ]
  },
  {
   "cell_type": "code",
   "execution_count": 12,
   "metadata": {},
   "outputs": [],
   "source": [
    "perm_diff = [perm_test_two(sessions_pages.Time, 21, 15) for _ in range(1000)]"
   ]
  },
  {
   "cell_type": "code",
   "execution_count": 13,
   "metadata": {
    "scrolled": false
   },
   "outputs": [
    {
     "data": {
      "image/png": "[encoded data removed]",
      "text/plain": [
       "<Figure size 432x288 with 1 Axes>"
      ]
     },
     "metadata": {
      "needs_background": "light"
     },
     "output_type": "display_data"
    }
   ],
   "source": [
    "plt.hist(perm_diff, bins=11, rwidth=0.95)\n",
    "plt.axvline(x=obs_diff, color='orange', ls='--')\n",
    "plt.text(x=obs_diff+0.05, y=150, s='Observed\\nDifference', \n",
    "         bbox={'facecolor':'white', 'edgecolor': 'orange'})\n",
    "plt.show()"
   ]
  },
  {
   "cell_type": "code",
   "execution_count": 14,
   "metadata": {},
   "outputs": [
    {
     "data": {
      "text/plain": [
       "0.133"
      ]
     },
     "execution_count": 14,
     "metadata": {},
     "output_type": "execute_result"
    }
   ],
   "source": [
    "np.mean(perm_diff > obs_diff)  #p-value"
   ]
  },
  {
   "cell_type": "markdown",
   "metadata": {},
   "source": [
    "11.5% chance that the mean difference of random permutations exceeds the observed difference in session time. This suggests that the observed difference between page A and B is within the range of chance variation and is not statistically significant."
   ]
  },
  {
   "cell_type": "markdown",
   "metadata": {},
   "source": [
    "---\n",
    "## Statistical significance\n",
    "Whether an experiment produces an outcome that is more extreme than random chance might do : the result is statistically significant if it is beyond the range of chance variation.\n",
    "\n",
    "...and then p-value, alpha comes out! (with caution of Type 1 and 2 error)"
   ]
  },
  {
   "cell_type": "code",
   "execution_count": 15,
   "metadata": {},
   "outputs": [],
   "source": [
    "ecommerce_experiment = pd.DataFrame({'Converted':[200, 182], \n",
    "                                     'Not Converted':[23539, 22406]}, \n",
    "                                    index=['Price A', 'Price B'])"
   ]
  },
  {
   "cell_type": "code",
   "execution_count": 16,
   "metadata": {},
   "outputs": [
    {
     "data": {
      "text/html": [
       "<div>\n",
       "<style scoped>\n",
       "    .dataframe tbody tr th:only-of-type {\n",
       "        vertical-align: middle;\n",
       "    }\n",
       "\n",
       "    .dataframe tbody tr th {\n",
       "        vertical-align: top;\n",
       "    }\n",
       "\n",
       "    .dataframe thead th {\n",
       "        text-align: right;\n",
       "    }\n",
       "</style>\n",
       "<table border=\"1\" class=\"dataframe\">\n",
       "  <thead>\n",
       "    <tr style=\"text-align: right;\">\n",
       "      <th></th>\n",
       "      <th>Price A</th>\n",
       "      <th>Price B</th>\n",
       "    </tr>\n",
       "  </thead>\n",
       "  <tbody>\n",
       "    <tr>\n",
       "      <th>Converted</th>\n",
       "      <td>200</td>\n",
       "      <td>182</td>\n",
       "    </tr>\n",
       "    <tr>\n",
       "      <th>Not Converted</th>\n",
       "      <td>23539</td>\n",
       "      <td>22406</td>\n",
       "    </tr>\n",
       "  </tbody>\n",
       "</table>\n",
       "</div>"
      ],
      "text/plain": [
       "               Price A  Price B\n",
       "Converted          200      182\n",
       "Not Converted    23539    22406"
      ]
     },
     "execution_count": 16,
     "metadata": {},
     "output_type": "execute_result"
    }
   ],
   "source": [
    "ecommerce_experiment = ecommerce_experiment.T\n",
    "ecommerce_experiment"
   ]
  },
  {
   "cell_type": "code",
   "execution_count": 17,
   "metadata": {},
   "outputs": [
    {
     "data": {
      "text/plain": [
       "Price A    0.008425\n",
       "Price B    0.008057\n",
       "dtype: float64"
      ]
     },
     "execution_count": 17,
     "metadata": {},
     "output_type": "execute_result"
    }
   ],
   "source": [
    "conv_rate = ecommerce_experiment.loc['Converted'] / ecommerce_experiment.sum(axis=0)\n",
    "conv_rate"
   ]
  },
  {
   "cell_type": "code",
   "execution_count": 18,
   "metadata": {},
   "outputs": [
    {
     "data": {
      "text/plain": [
       "0.0003675791182059275"
      ]
     },
     "execution_count": 18,
     "metadata": {},
     "output_type": "execute_result"
    }
   ],
   "source": [
    "obs_diff_conv = conv_rate[0] - conv_rate[1]\n",
    "obs_diff_conv"
   ]
  },
  {
   "cell_type": "markdown",
   "metadata": {},
   "source": [
    "Difference in conversion rate is by 0.03678, which may be big in a high-volumn buiness, but how significant is this result?\n",
    "\n",
    "It looks that sample size is enough but it actually is not, as the actual meaningful values (converted) are not big enough : test the difference by using resampling method.\n",
    "\n",
    "Previously defined permutation test is useful for this case."
   ]
  },
  {
   "cell_type": "code",
   "execution_count": 19,
   "metadata": {},
   "outputs": [],
   "source": [
    "def full_perm_test(X, nA, nB, num_iter, obs_val) :\n",
    "    perm_diff = [perm_test_two(X, nA, nB) for _ in range(num_iter)]\n",
    "    print(f'Observed Difference : {obs_val:.4f}%')\n",
    "    print('P-value: ', np.mean(perm_diff > obs_val))\n",
    "\n",
    "    plt.hist(perm_diff, bins=11, rwidth=0.95)\n",
    "    plt.axvline(x=obs_val, color='orange', ls='--')\n",
    "    plt.show()"
   ]
  },
  {
   "cell_type": "code",
   "execution_count": 20,
   "metadata": {
    "scrolled": false
   },
   "outputs": [],
   "source": [
    "# re-create samples that replicates the dataset\n",
    "conversion = [0] * ecommerce_experiment.iloc[1].sum()\n",
    "conversion.extend([1] * ecommerce_experiment.iloc[0].sum())"
   ]
  },
  {
   "cell_type": "code",
   "execution_count": 21,
   "metadata": {},
   "outputs": [],
   "source": [
    "conversion = pd.Series(conversion)"
   ]
  },
  {
   "cell_type": "code",
   "execution_count": 22,
   "metadata": {},
   "outputs": [
    {
     "name": "stdout",
     "output_type": "stream",
     "text": [
      "Observed Difference : 0.0004%\n",
      "P-value:  0.318\n"
     ]
    },
    {
     "data": {
      "image/png": "[encoded data removed]",
      "text/plain": [
       "<Figure size 432x288 with 1 Axes>"
      ]
     },
     "metadata": {
      "needs_background": "light"
     },
     "output_type": "display_data"
    }
   ],
   "source": [
    "count_priceA = ecommerce_experiment['Price A'].sum()\n",
    "count_priceB = ecommerce_experiment['Price B'].sum()\n",
    "\n",
    "full_perm_test(conversion, count_priceA, count_priceB, 1000, obs_diff_conv)"
   ]
  },
  {
   "cell_type": "markdown",
   "metadata": {},
   "source": [
    "P-value is 0.324, which means that we would expect to achieve a result as extreme as this, or a more extreme result, by random chance over 32% of the time. Conventionally alpha threshold is set at 1% or 5% level, and p-value above which indicates the outcome is not statistically significant. \n",
    "\n",
    "However, many argue (especially from academic side) p-value does not concretely prove as it seems to promise, and it is stressed that scientific conclusions or business/policy decisions should not be based only on a result drawn from p-value.\n",
    "\n",
    "Also, practical significance must be considered. A small diference that has no practical meaning can be statistifcally significant for example."
   ]
  },
  {
   "cell_type": "markdown",
   "metadata": {},
   "source": [
    "---\n",
    "## Significance tests"
   ]
  },
  {
   "cell_type": "markdown",
   "metadata": {},
   "source": [
    "### t-tests\n",
    "\n",
    "Before the computing power grew, it was not feasible to do resampling (shuffling thousand+ times), so t-test provided a good approximation to the permutation distribution.\n",
    "\n",
    "Unlike resampling where the scale of the data does not really matter, t-test requires a standardized form of the test statistics. **`scipy.stats.ttest_ind`** can be used : two-sided test for the null hypothesis that 2 independent samples have identical average values."
   ]
  },
  {
   "cell_type": "markdown",
   "metadata": {},
   "source": [
    "**Web Stickiness** example continues where the null hypothesis is the session time for Page A > Page B (one-sided test)"
   ]
  },
  {
   "cell_type": "code",
   "execution_count": 35,
   "metadata": {},
   "outputs": [],
   "source": [
    "# assuming the population of the two samples have different variances\n",
    "results = stats.ttest_ind(sessions_pages.query('Page == \"Page A\"').Time,\n",
    "                          sessions_pages.query('Page == \"Page B\"').Time,\n",
    "                          equal_var=False, nan_policy='raise')"
   ]
  },
  {
   "cell_type": "code",
   "execution_count": 37,
   "metadata": {
    "scrolled": true
   },
   "outputs": [
    {
     "data": {
      "text/plain": [
       "0.140762186228503"
      ]
     },
     "execution_count": 37,
     "metadata": {},
     "output_type": "execute_result"
    }
   ],
   "source": [
    "results.pvalue / 2  # p-value for one-sided test"
   ]
  },
  {
   "cell_type": "markdown",
   "metadata": {},
   "source": [
    "The earlier permutation test returned the p-value of 0.133, which is fairly close to the p-value from the t-test."
   ]
  },
  {
   "cell_type": "markdown",
   "metadata": {},
   "source": [
    "<a id=bottom></a>\n",
    "[Go to top](#top)"
   ]
  }
 ],
 "metadata": {
  "kernelspec": {
   "display_name": "Python [conda env:my_env]",
   "language": "python",
   "name": "conda-env-my_env-py"
  },
  "language_info": {
   "codemirror_mode": {
    "name": "ipython",
    "version": 3
   },
   "file_extension": ".py",
   "mimetype": "text/x-python",
   "name": "python",
   "nbconvert_exporter": "python",
   "pygments_lexer": "ipython3",
   "version": "3.8.3"
  }
 },
 "nbformat": 4,
 "nbformat_minor": 4
}
