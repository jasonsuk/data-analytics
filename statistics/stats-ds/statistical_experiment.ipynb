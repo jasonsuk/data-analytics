{
 "cells": [
  {
   "cell_type": "markdown",
   "metadata": {},
   "source": [
    "Along **`Practical Statistics for Data Scientists`** book \n",
    "\n",
    "Chapter 3 : Statistical Experiments and Significance Testing"
   ]
  },
  {
   "cell_type": "markdown",
   "metadata": {},
   "source": [
    "<a id=top></a>\n",
    "[Go to bottom](#bottom)"
   ]
  },
  {
   "cell_type": "code",
   "execution_count": 1,
   "metadata": {},
   "outputs": [],
   "source": [
    "import numpy as np\n",
    "import pandas as pd\n",
    "import matplotlib.pyplot as plt\n",
    "import seaborn as sns\n",
    "\n",
    "from sklearn.utils import resample\n",
    "from scipy.stats import stats\n",
    "\n",
    "import statsmodels.api as sm\n",
    "import statsmodels.formula.api as smf\n",
    "from statsmodels.stats import power\n",
    "\n",
    "import os\n",
    "import random"
   ]
  },
  {
   "cell_type": "code",
   "execution_count": 2,
   "metadata": {},
   "outputs": [],
   "source": [
    "def populate_data(filename) :\n",
    "    data_path = os.path.join(os.getcwd(), 'data') + '/' + filename\n",
    "    df = pd.read_csv(data_path)\n",
    "    print(df.info())\n",
    "    print(df.head())\n",
    "    return df"
   ]
  },
  {
   "cell_type": "markdown",
   "metadata": {},
   "source": [
    "## Resampling\n",
    "Boostrapping and Permutation test\n",
    "\n",
    "- Bootstrapping : estimate the sampling distribution of a statistic or parameters by replicating samples with replacement n repeating times - not compensate for a small sample size nor create a new data but powerful tool for assessing the variability of a sample statistic \n",
    "- Permutation test : multiple samples are combined and the sampling may be done without replacement"
   ]
  },
  {
   "cell_type": "code",
   "execution_count": 3,
   "metadata": {},
   "outputs": [
    {
     "name": "stdout",
     "output_type": "stream",
     "text": [
      "<class 'pandas.core.frame.DataFrame'>\n",
      "RangeIndex: 50000 entries, 0 to 49999\n",
      "Data columns (total 1 columns):\n",
      " #   Column  Non-Null Count  Dtype\n",
      "---  ------  --------------  -----\n",
      " 0   x       50000 non-null  int64\n",
      "dtypes: int64(1)\n",
      "memory usage: 390.8 KB\n",
      "None\n",
      "        x\n",
      "0   67000\n",
      "1   52000\n",
      "2  100000\n",
      "3   78762\n",
      "4   37041\n"
     ]
    }
   ],
   "source": [
    "loans_income = populate_data('loans_income.csv')"
   ]
  },
  {
   "cell_type": "markdown",
   "metadata": {},
   "source": [
    "### Bootstrapping"
   ]
  },
  {
   "cell_type": "code",
   "execution_count": 4,
   "metadata": {},
   "outputs": [],
   "source": [
    "results = []\n",
    "for nrepeats in range(1000) :\n",
    "    boot_sample = resample(loans_income, replace=True)\n",
    "    results.append(boot_sample.median())"
   ]
  },
  {
   "cell_type": "code",
   "execution_count": 5,
   "metadata": {},
   "outputs": [
    {
     "data": {
      "text/plain": [
       "(1000,)"
      ]
     },
     "execution_count": 5,
     "metadata": {},
     "output_type": "execute_result"
    }
   ],
   "source": [
    "results = pd.Series(results)\n",
    "results.shape"
   ]
  },
  {
   "cell_type": "code",
   "execution_count": 6,
   "metadata": {},
   "outputs": [
    {
     "name": "stdout",
     "output_type": "stream",
     "text": [
      "Bootstrap statistics : \n",
      "Original: 62000.0\n",
      "bias: -84.59150000000227\n",
      "std err: 233.51835731040708\n"
     ]
    }
   ],
   "source": [
    "print('Bootstrap statistics : ')\n",
    "print(f'Original: {loans_income.iloc[:,0].median()}')\n",
    "print(f'bias: {results.mean() - loans_income.iloc[:,0].median()}')\n",
    "print(f'std err: {results.std()}')"
   ]
  },
  {
   "cell_type": "markdown",
   "metadata": {},
   "source": [
    "The original estimate of the median is \\\\$62000. The boostrap distribution incidates that the estimate has a bias of about -\\\\$64 and a standard error of \\\\$209."
   ]
  },
  {
   "cell_type": "markdown",
   "metadata": {},
   "source": [
    "### Permutation Test\n",
    "Practice with **Web Stickiness** example \n",
    "\n",
    "_A company wants to test which of two web presentations creates a better sales. Due to high value of the server being sold, sales are infrequent and the sales cycle is long; so the company will go with the results with a proxy variable. A selected metric is average session time, comparing page A to page B. The result is a total of 36 sessions for the two different presentations : 21 for page A and 15 for page B._"
   ]
  },
  {
   "cell_type": "code",
   "execution_count": 7,
   "metadata": {},
   "outputs": [
    {
     "name": "stdout",
     "output_type": "stream",
     "text": [
      "<class 'pandas.core.frame.DataFrame'>\n",
      "RangeIndex: 36 entries, 0 to 35\n",
      "Data columns (total 2 columns):\n",
      " #   Column  Non-Null Count  Dtype  \n",
      "---  ------  --------------  -----  \n",
      " 0   Page    36 non-null     object \n",
      " 1   Time    36 non-null     float64\n",
      "dtypes: float64(1), object(1)\n",
      "memory usage: 704.0+ bytes\n",
      "None\n",
      "     Page  Time\n",
      "0  Page A  0.21\n",
      "1  Page B  2.53\n",
      "2  Page A  0.35\n",
      "3  Page B  0.71\n",
      "4  Page A  0.67\n"
     ]
    }
   ],
   "source": [
    "sessions_pages = populate_data('web_page_data.csv')"
   ]
  },
  {
   "cell_type": "code",
   "execution_count": 8,
   "metadata": {},
   "outputs": [
    {
     "data": {
      "image/png": "[encoded data removed]",
      "text/plain": [
       "<Figure size 432x288 with 1 Axes>"
      ]
     },
     "metadata": {
      "needs_background": "light"
     },
     "output_type": "display_data"
    }
   ],
   "source": [
    "ax=sns.boxplot(data=sessions_pages, x='Page', y='Time')\n",
    "ax.set_xlabel('')\n",
    "ax.set_ylabel('Session Time in second')\n",
    "plt.show()"
   ]
  },
  {
   "cell_type": "code",
   "execution_count": 9,
   "metadata": {},
   "outputs": [],
   "source": [
    "mean_page_a = sessions_pages.query('Page==\"Page A\"').mean()\n",
    "mean_page_b = sessions_pages.query('Page==\"Page B\"').mean()"
   ]
  },
  {
   "cell_type": "code",
   "execution_count": 10,
   "metadata": {},
   "outputs": [
    {
     "data": {
      "text/plain": [
       "0.3566666666666669"
      ]
     },
     "execution_count": 10,
     "metadata": {},
     "output_type": "execute_result"
    }
   ],
   "source": [
    "obs_diff = (mean_page_b - mean_page_a)[0]\n",
    "obs_diff"
   ]
  },
  {
   "cell_type": "markdown",
   "metadata": {},
   "source": [
    "The boxplot shows that page B held long sessions than page A. 0.35 more seconds on average.\n",
    "So next is to confirm is the difference is statistically significant - by doing a permutation test.\n",
    "\n",
    "how : combine all the session times together and then repeatedly shuffle. Divide them into a group of 21 (page A) and a group of 15 (page B)."
   ]
  },
  {
   "cell_type": "code",
   "execution_count": 11,
   "metadata": {},
   "outputs": [],
   "source": [
    "def perm_test_two(x, nA, nB) :\n",
    "    n = nA + nB\n",
    "    idx_A = set(random.sample(range(n), nA))\n",
    "    idx_B = set(range(n)) - idx_A\n",
    "    return x.loc[idx_B].mean() - x.loc[idx_A].mean()"
   ]
  },
  {
   "cell_type": "code",
   "execution_count": 12,
   "metadata": {},
   "outputs": [],
   "source": [
    "perm_diff = [perm_test_two(sessions_pages.Time, 21, 15) for _ in range(1000)]"
   ]
  },
  {
   "cell_type": "code",
   "execution_count": 13,
   "metadata": {
    "scrolled": false
   },
   "outputs": [
    {
     "data": {
      "image/png": "[encoded data removed]",
      "text/plain": [
       "<Figure size 432x288 with 1 Axes>"
      ]
     },
     "metadata": {
      "needs_background": "light"
     },
     "output_type": "display_data"
    }
   ],
   "source": [
    "plt.hist(perm_diff, bins=11, rwidth=0.95)\n",
    "plt.axvline(x=obs_diff, color='orange', ls='--')\n",
    "plt.text(x=obs_diff+0.05, y=150, s='Observed\\nDifference', \n",
    "         bbox={'facecolor':'white', 'edgecolor': 'orange'})\n",
    "plt.show()"
   ]
  },
  {
   "cell_type": "code",
   "execution_count": 14,
   "metadata": {},
   "outputs": [
    {
     "data": {
      "text/plain": [
       "0.134"
      ]
     },
     "execution_count": 14,
     "metadata": {},
     "output_type": "execute_result"
    }
   ],
   "source": [
    "np.mean(perm_diff > obs_diff)  #p-value"
   ]
  },
  {
   "cell_type": "markdown",
   "metadata": {},
   "source": [
    "11.5% chance that the mean difference of random permutations exceeds the observed difference in session time. This suggests that the observed difference between page A and B is within the range of chance variation and is not statistically significant."
   ]
  },
  {
   "cell_type": "markdown",
   "metadata": {},
   "source": [
    "---\n",
    "## Statistical significance\n",
    "Whether an experiment produces an outcome that is more extreme than random chance might do : the result is statistically significant if it is beyond the range of chance variation.\n",
    "\n",
    "...and then p-value, alpha comes out! (with caution of Type 1 and 2 error)"
   ]
  },
  {
   "cell_type": "markdown",
   "metadata": {},
   "source": [
    "### Pair-wise significance test"
   ]
  },
  {
   "cell_type": "code",
   "execution_count": 15,
   "metadata": {},
   "outputs": [],
   "source": [
    "ecommerce_experiment = pd.DataFrame({'Converted':[200, 182], \n",
    "                                     'Not Converted':[23539, 22406]}, \n",
    "                                    index=['Price A', 'Price B'])"
   ]
  },
  {
   "cell_type": "code",
   "execution_count": 16,
   "metadata": {},
   "outputs": [
    {
     "data": {
      "text/html": [
       "<div>\n",
       "<style scoped>\n",
       "    .dataframe tbody tr th:only-of-type {\n",
       "        vertical-align: middle;\n",
       "    }\n",
       "\n",
       "    .dataframe tbody tr th {\n",
       "        vertical-align: top;\n",
       "    }\n",
       "\n",
       "    .dataframe thead th {\n",
       "        text-align: right;\n",
       "    }\n",
       "</style>\n",
       "<table border=\"1\" class=\"dataframe\">\n",
       "  <thead>\n",
       "    <tr style=\"text-align: right;\">\n",
       "      <th></th>\n",
       "      <th>Price A</th>\n",
       "      <th>Price B</th>\n",
       "    </tr>\n",
       "  </thead>\n",
       "  <tbody>\n",
       "    <tr>\n",
       "      <th>Converted</th>\n",
       "      <td>200</td>\n",
       "      <td>182</td>\n",
       "    </tr>\n",
       "    <tr>\n",
       "      <th>Not Converted</th>\n",
       "      <td>23539</td>\n",
       "      <td>22406</td>\n",
       "    </tr>\n",
       "  </tbody>\n",
       "</table>\n",
       "</div>"
      ],
      "text/plain": [
       "               Price A  Price B\n",
       "Converted          200      182\n",
       "Not Converted    23539    22406"
      ]
     },
     "execution_count": 16,
     "metadata": {},
     "output_type": "execute_result"
    }
   ],
   "source": [
    "ecommerce_experiment = ecommerce_experiment.T\n",
    "ecommerce_experiment"
   ]
  },
  {
   "cell_type": "code",
   "execution_count": 17,
   "metadata": {},
   "outputs": [
    {
     "data": {
      "text/plain": [
       "Price A    0.008425\n",
       "Price B    0.008057\n",
       "dtype: float64"
      ]
     },
     "execution_count": 17,
     "metadata": {},
     "output_type": "execute_result"
    }
   ],
   "source": [
    "conv_rate = ecommerce_experiment.loc['Converted'] / ecommerce_experiment.sum(axis=0)\n",
    "conv_rate"
   ]
  },
  {
   "cell_type": "code",
   "execution_count": 18,
   "metadata": {},
   "outputs": [
    {
     "data": {
      "text/plain": [
       "0.0003675791182059275"
      ]
     },
     "execution_count": 18,
     "metadata": {},
     "output_type": "execute_result"
    }
   ],
   "source": [
    "obs_diff_conv = conv_rate[0] - conv_rate[1]\n",
    "obs_diff_conv"
   ]
  },
  {
   "cell_type": "markdown",
   "metadata": {},
   "source": [
    "Difference in conversion rate is by 0.03678, which may be big in a high-volumn buiness, but how significant is this result?\n",
    "\n",
    "It looks that sample size is enough but it actually is not, as the actual meaningful values (converted) are not big enough : test the difference by using resampling method.\n",
    "\n",
    "Previously defined permutation test is useful for this case."
   ]
  },
  {
   "cell_type": "code",
   "execution_count": 19,
   "metadata": {},
   "outputs": [],
   "source": [
    "def full_perm_test(X, nA, nB, num_iter, obs_val) :\n",
    "    perm_diff = [perm_test_two(X, nA, nB) for _ in range(num_iter)]\n",
    "    print(f'Observed Difference : {obs_val:.4f}%')\n",
    "    print('P-value: ', np.mean(perm_diff > obs_val))\n",
    "\n",
    "    plt.hist(perm_diff, bins=11, rwidth=0.95)\n",
    "    plt.axvline(x=obs_val, color='orange', ls='--')\n",
    "    plt.show()"
   ]
  },
  {
   "cell_type": "code",
   "execution_count": 20,
   "metadata": {
    "scrolled": false
   },
   "outputs": [],
   "source": [
    "# re-create samples that replicates the dataset\n",
    "conversion = [0] * ecommerce_experiment.iloc[1].sum()\n",
    "conversion.extend([1] * ecommerce_experiment.iloc[0].sum())"
   ]
  },
  {
   "cell_type": "code",
   "execution_count": 21,
   "metadata": {},
   "outputs": [],
   "source": [
    "conversion = pd.Series(conversion)"
   ]
  },
  {
   "cell_type": "code",
   "execution_count": 22,
   "metadata": {},
   "outputs": [
    {
     "name": "stdout",
     "output_type": "stream",
     "text": [
      "Observed Difference : 0.0004%\n",
      "P-value:  0.329\n"
     ]
    },
    {
     "data": {
      "image/png": "[encoded data removed]",
      "text/plain": [
       "<Figure size 432x288 with 1 Axes>"
      ]
     },
     "metadata": {
      "needs_background": "light"
     },
     "output_type": "display_data"
    }
   ],
   "source": [
    "count_priceA = ecommerce_experiment['Price A'].sum()\n",
    "count_priceB = ecommerce_experiment['Price B'].sum()\n",
    "\n",
    "full_perm_test(conversion, count_priceA, count_priceB, 1000, obs_diff_conv)"
   ]
  },
  {
   "cell_type": "markdown",
   "metadata": {},
   "source": [
    "P-value is 0.324, which means that we would expect to achieve a result as extreme as this, or a more extreme result, by random chance over 32% of the time. Conventionally alpha threshold is set at 1% or 5% level, and p-value above which indicates the outcome is not statistically significant. \n",
    "\n",
    "However, many argue (especially from academic side) p-value does not concretely prove as it seems to promise, and it is stressed that scientific conclusions or business/policy decisions should not be based only on a result drawn from p-value.\n",
    "\n",
    "Also, practical significance must be considered. A small diference that has no practical meaning can be statistifcally significant for example."
   ]
  },
  {
   "cell_type": "markdown",
   "metadata": {},
   "source": [
    "### t-tests\n",
    "\n",
    "Before the computing power grew, it was not feasible to do resampling (shuffling thousand+ times), so t-test provided a good approximation to the permutation distribution.\n",
    "\n",
    "Unlike resampling where the scale of the data does not really matter, t-test requires a standardized form of the test statistics. **`scipy.stats.ttest_ind`** can be used : two-sided test for the null hypothesis that 2 independent samples have identical average values."
   ]
  },
  {
   "cell_type": "markdown",
   "metadata": {},
   "source": [
    "**Web Stickiness** example continues where the null hypothesis is the session time for Page A > Page B (one-sided test)"
   ]
  },
  {
   "cell_type": "code",
   "execution_count": 23,
   "metadata": {},
   "outputs": [],
   "source": [
    "# assuming the population of the two samples have different variances\n",
    "results = stats.ttest_ind(sessions_pages.query('Page == \"Page A\"').Time,\n",
    "                          sessions_pages.query('Page == \"Page B\"').Time,\n",
    "                          equal_var=False, nan_policy='raise')"
   ]
  },
  {
   "cell_type": "code",
   "execution_count": 24,
   "metadata": {
    "scrolled": true
   },
   "outputs": [
    {
     "data": {
      "text/plain": [
       "0.140762186228503"
      ]
     },
     "execution_count": 24,
     "metadata": {},
     "output_type": "execute_result"
    }
   ],
   "source": [
    "results.pvalue / 2  # p-value for one-sided test"
   ]
  },
  {
   "cell_type": "markdown",
   "metadata": {},
   "source": [
    "The earlier permutation test returned the p-value of 0.133, which is fairly close to the p-value from the t-test."
   ]
  },
  {
   "cell_type": "markdown",
   "metadata": {},
   "source": [
    "---\n",
    "### Statistical testing among multiple groups\n",
    "Not only A vs B. But A, B, C, D, ... : \n",
    "\n",
    "Doing multiple pair-wise testing will inflate alpha and make it more likely to be fooled by random chance. **ANOVA(Analysis of Variance)** is the procedure that tests for a statistically significant differencea among the groups. (pp120)"
   ]
  },
  {
   "cell_type": "code",
   "execution_count": 25,
   "metadata": {},
   "outputs": [
    {
     "name": "stdout",
     "output_type": "stream",
     "text": [
      "<class 'pandas.core.frame.DataFrame'>\n",
      "RangeIndex: 20 entries, 0 to 19\n",
      "Data columns (total 2 columns):\n",
      " #   Column  Non-Null Count  Dtype \n",
      "---  ------  --------------  ----- \n",
      " 0   Page    20 non-null     object\n",
      " 1   Time    20 non-null     int64 \n",
      "dtypes: int64(1), object(1)\n",
      "memory usage: 448.0+ bytes\n",
      "None\n",
      "     Page  Time\n",
      "0  Page 1   164\n",
      "1  Page 2   178\n",
      "2  Page 3   175\n",
      "3  Page 4   155\n",
      "4  Page 1   172\n"
     ]
    }
   ],
   "source": [
    "four_sessions = populate_data('four_sessions.csv')"
   ]
  },
  {
   "cell_type": "code",
   "execution_count": 26,
   "metadata": {},
   "outputs": [
    {
     "data": {
      "image/png": "[encoded data removed]",
      "text/plain": [
       "<Figure size 576x432 with 1 Axes>"
      ]
     },
     "metadata": {
      "needs_background": "light"
     },
     "output_type": "display_data"
    }
   ],
   "source": [
    "# Descriptive stats \n",
    "plt.figure(figsize=(8,6))\n",
    "sns.boxplot(data=four_sessions, x='Page', y='Time')\n",
    "\n",
    "plt.title('Descriptive Statistics for Session Time by Page')\n",
    "plt.show()"
   ]
  },
  {
   "cell_type": "markdown",
   "metadata": {},
   "source": [
    "Next, the question follows if the above result is statistically significant? In this case, [`np.random.permutation`](https://numpy.org/doc/stable/reference/random/generated/numpy.random.permutation.html) method can help. Examples as below:"
   ]
  },
  {
   "cell_type": "code",
   "execution_count": 27,
   "metadata": {},
   "outputs": [
    {
     "data": {
      "text/plain": [
       "(array([9, 4, 7, 1, 8, 2, 5, 3, 6, 0]),\n",
       " array([85, 27, 58, 10, 12, 19, 98, 75, 36, 39]))"
      ]
     },
     "execution_count": 27,
     "metadata": {},
     "output_type": "execute_result"
    }
   ],
   "source": [
    "# Randomly permute a sequence, or return a permuted range\n",
    "perm_a = np.random.permutation(10) # int\n",
    "perm_b = np.random.permutation([12,58,39,10,27,98,75,36,85,19])\n",
    "perm_a, perm_b"
   ]
  },
  {
   "cell_type": "code",
   "execution_count": 28,
   "metadata": {},
   "outputs": [],
   "source": [
    "# Statistical testing \n",
    "obs_var = four_sessions.groupby('Page').mean().var()[0]"
   ]
  },
  {
   "cell_type": "code",
   "execution_count": 29,
   "metadata": {},
   "outputs": [],
   "source": [
    "def perm_test_anova(df) :\n",
    "    temp = df.copy()\n",
    "    temp['Time'] = np.random.permutation(temp['Time'].values)\n",
    "    return temp.groupby('Page').mean().var()[0]"
   ]
  },
  {
   "cell_type": "code",
   "execution_count": 30,
   "metadata": {},
   "outputs": [],
   "source": [
    "# Iterate lots of times (i.e. 1000 iterations)\n",
    "perm_var = [perm_test_anova(four_sessions) for _ in range(1000)]"
   ]
  },
  {
   "cell_type": "code",
   "execution_count": 31,
   "metadata": {},
   "outputs": [],
   "source": [
    "# perm_var"
   ]
  },
  {
   "cell_type": "code",
   "execution_count": 32,
   "metadata": {
    "scrolled": false
   },
   "outputs": [
    {
     "name": "stdout",
     "output_type": "stream",
     "text": [
      "Observed means:  [172.8 182.6 175.6 164.6]\n",
      "Observed variance of means:  55.426666666666655\n",
      "P-value:  0.087\n"
     ]
    },
    {
     "data": {
      "image/png": "[encoded data removed]",
      "text/plain": [
       "<Figure size 576x432 with 1 Axes>"
      ]
     },
     "metadata": {
      "needs_background": "light"
     },
     "output_type": "display_data"
    }
   ],
   "source": [
    "print('Observed means: ', four_sessions.groupby('Page').mean().values.ravel())\n",
    "print('Observed variance of means: ', obs_var)\n",
    "print('P-value: ', np.mean(perm_var > obs_var)) # note one-sided (variance)\n",
    "\n",
    "plt.figure(figsize=(8,6))\n",
    "plt.hist(perm_var, bins=11, rwidth=0.95)\n",
    "plt.axvline(obs_var, ls='--', c='orange')\n",
    "plt.text(x=obs_var+2, y=100, s='Observed\\nvariance', \n",
    "         bbox={'facecolor':'white', 'edgecolor': 'orange'})\n",
    "\n",
    "plt.show()"
   ]
  },
  {
   "cell_type": "markdown",
   "metadata": {},
   "source": [
    "### F-statistic\n",
    "Just like t-test used instead of a permutation test, there is a statistical test for ANOVA based on F-statistic : the ratio of the variance across group means to the variance due to the residual error. The higher the ratio, the more statistically significant.\n",
    "\n",
    "**`Method 1`** The Statsmodel package provides ANOVA implementation as following, using R language style formulas. [Document](https://www.statsmodels.org/dev/example_formulas.html)"
   ]
  },
  {
   "cell_type": "code",
   "execution_count": 33,
   "metadata": {},
   "outputs": [],
   "source": [
    "model = smf.ols('Time ~ Page', data=four_sessions).fit()"
   ]
  },
  {
   "cell_type": "code",
   "execution_count": 34,
   "metadata": {},
   "outputs": [],
   "source": [
    "#print(model.summary())"
   ]
  },
  {
   "cell_type": "code",
   "execution_count": 35,
   "metadata": {},
   "outputs": [
    {
     "data": {
      "text/html": [
       "<div>\n",
       "<style scoped>\n",
       "    .dataframe tbody tr th:only-of-type {\n",
       "        vertical-align: middle;\n",
       "    }\n",
       "\n",
       "    .dataframe tbody tr th {\n",
       "        vertical-align: top;\n",
       "    }\n",
       "\n",
       "    .dataframe thead th {\n",
       "        text-align: right;\n",
       "    }\n",
       "</style>\n",
       "<table border=\"1\" class=\"dataframe\">\n",
       "  <thead>\n",
       "    <tr style=\"text-align: right;\">\n",
       "      <th></th>\n",
       "      <th>df</th>\n",
       "      <th>sum_sq</th>\n",
       "      <th>mean_sq</th>\n",
       "      <th>F</th>\n",
       "      <th>PR(&gt;F)</th>\n",
       "    </tr>\n",
       "  </thead>\n",
       "  <tbody>\n",
       "    <tr>\n",
       "      <th>Page</th>\n",
       "      <td>3.0</td>\n",
       "      <td>831.4</td>\n",
       "      <td>277.133333</td>\n",
       "      <td>2.739825</td>\n",
       "      <td>0.077586</td>\n",
       "    </tr>\n",
       "    <tr>\n",
       "      <th>Residual</th>\n",
       "      <td>16.0</td>\n",
       "      <td>1618.4</td>\n",
       "      <td>101.150000</td>\n",
       "      <td>NaN</td>\n",
       "      <td>NaN</td>\n",
       "    </tr>\n",
       "  </tbody>\n",
       "</table>\n",
       "</div>"
      ],
      "text/plain": [
       "            df  sum_sq     mean_sq         F    PR(>F)\n",
       "Page       3.0   831.4  277.133333  2.739825  0.077586\n",
       "Residual  16.0  1618.4  101.150000       NaN       NaN"
      ]
     },
     "execution_count": 35,
     "metadata": {},
     "output_type": "execute_result"
    }
   ],
   "source": [
    "anova_table = sm.stats.anova_lm(model, typ=1) # one-way anova\n",
    "anova_table"
   ]
  },
  {
   "cell_type": "markdown",
   "metadata": {},
   "source": [
    "- df : degree of freedom\n",
    "- sum_sq : sum of squares\n",
    "- mean_sq : mean-squared deviations\n",
    "- F : F-statistic"
   ]
  },
  {
   "cell_type": "markdown",
   "metadata": {},
   "source": [
    "- Sum of squares \n",
    "    - for treatment (Page) : the sum of squared departures between the treatment means and the grand average.\n",
    "    - for residuals : sum of squared difference between the individual observations and the treament means\n",
    "    \n",
    "- Mean squares (MS) is the sum of squares(SS) divided by degrees of freedom (df)\n",
    "- F-statistic : MS(treatment) / MS (error)"
   ]
  },
  {
   "cell_type": "markdown",
   "metadata": {},
   "source": [
    "**`Method 2`** scipy.stats.f_oneway\n",
    "\n",
    "Assumption of the method for a valid p-value\n",
    "1. The samples are independent.\n",
    "2. Each sample is from a normally distributed population.\n",
    "3. The population standard deviations of the groups are all equal.  This\n",
    "   property is known as homoscedasticity.\n",
    "  \n",
    "**For Reference only** : Two-way ANOVA - when a second factor involved i.e. session time on weekend vs weekday \n",
    "\n",
    "#### Two-way anova only available with statsmodels\n",
    "``` \n",
    "formula = 'len ~ C(supp) + C(dose) + C(supp):C(dose)'\n",
    "model = ols(formula, data).fit()\n",
    "aov_table = anova_lm(model, typ=2)\n",
    "```"
   ]
  },
  {
   "cell_type": "code",
   "execution_count": 36,
   "metadata": {},
   "outputs": [],
   "source": [
    "result_anova = stats.f_oneway(four_sessions.query('Page == \"Page 1\"').Time,\n",
    "                              four_sessions.query('Page == \"Page 2\"').Time, \n",
    "                              four_sessions.query('Page == \"Page 3\"').Time,\n",
    "                              four_sessions.query('Page == \"Page 4\"').Time)"
   ]
  },
  {
   "cell_type": "code",
   "execution_count": 37,
   "metadata": {
    "scrolled": true
   },
   "outputs": [
    {
     "data": {
      "text/plain": [
       "F_onewayResult(statistic=2.739825341901467, pvalue=0.0775862152580146)"
      ]
     },
     "execution_count": 37,
     "metadata": {},
     "output_type": "execute_result"
    }
   ],
   "source": [
    "result_anova # returns F-statistic and p-value"
   ]
  },
  {
   "cell_type": "markdown",
   "metadata": {},
   "source": [
    "---\n",
    "### Chi-squre test\n",
    "Similar to the test in F-statistic in that they both test multiple treaments(features) at once but Chi-square deals with **`counts`** rather than continous values.\n",
    "\n",
    "$$R\\ Squared = \\chi^2 = \\sum \\frac {(O - E)^2}{E}$$\n",
    "\n",
    "<center>, where O : Observed, E : Expected</center>"
   ]
  },
  {
   "cell_type": "code",
   "execution_count": 38,
   "metadata": {
    "scrolled": false
   },
   "outputs": [
    {
     "name": "stdout",
     "output_type": "stream",
     "text": [
      "<class 'pandas.core.frame.DataFrame'>\n",
      "RangeIndex: 6 entries, 0 to 5\n",
      "Data columns (total 3 columns):\n",
      " #   Column    Non-Null Count  Dtype \n",
      "---  ------    --------------  ----- \n",
      " 0   Headline  6 non-null      object\n",
      " 1   Click     6 non-null      object\n",
      " 2   Rate      6 non-null      int64 \n",
      "dtypes: int64(1), object(2)\n",
      "memory usage: 272.0+ bytes\n",
      "None\n",
      "     Headline     Click  Rate\n",
      "0  Headline A     Click    14\n",
      "1  Headline A  No-click   986\n",
      "2  Headline B     Click     8\n",
      "3  Headline B  No-click   992\n",
      "4  Headline C     Click    12\n"
     ]
    }
   ],
   "source": [
    "click_rates = populate_data('click_rates.csv')"
   ]
  },
  {
   "cell_type": "code",
   "execution_count": 39,
   "metadata": {},
   "outputs": [
    {
     "data": {
      "image/png": "[encoded data removed]",
      "text/plain": [
       "<Figure size 432x288 with 1 Axes>"
      ]
     },
     "metadata": {
      "needs_background": "light"
     },
     "output_type": "display_data"
    }
   ],
   "source": [
    "plt.figure(figsize=(6,4))\n",
    "sns.barplot(x='Headline', y='Rate', hue='Click', data=click_rates)\n",
    "\n",
    "plt.title('Click counts Per Headline')\n",
    "plt.legend(loc='upper center', ncol=2)\n",
    "plt.ylim((0,1200))\n",
    "plt.show()"
   ]
  },
  {
   "cell_type": "markdown",
   "metadata": {},
   "source": [
    "Chi square is to test how well it fits some **expected** distribution."
   ]
  },
  {
   "cell_type": "code",
   "execution_count": 40,
   "metadata": {},
   "outputs": [
    {
     "data": {
      "text/plain": [
       "{'Click': 11.333333333333334, 'No-click': 988.6666666666667}"
      ]
     },
     "execution_count": 40,
     "metadata": {},
     "output_type": "execute_result"
    }
   ],
   "source": [
    "# Calculating expected click values \n",
    "# when null is true (all Headline share the same click counts)\n",
    "expected_rate = ( click_rates.groupby('Click').sum() \n",
    "                 / click_rates.groupby('Click').sum().sum() * 1000 )\n",
    "expected_rate_dict = expected_rate['Rate'].to_dict()\n",
    "expected_rate_dict"
   ]
  },
  {
   "cell_type": "code",
   "execution_count": 41,
   "metadata": {},
   "outputs": [],
   "source": [
    "click_rates['Expected'] = click_rates['Click'].map(expected_rate_dict)\n",
    "click_rates.rename(columns={'Rate':'Observed'}, inplace=True)"
   ]
  },
  {
   "cell_type": "markdown",
   "metadata": {},
   "source": [
    "Calculating R sqaured"
   ]
  },
  {
   "cell_type": "code",
   "execution_count": 42,
   "metadata": {},
   "outputs": [],
   "source": [
    "observed = click_rates['Observed']\n",
    "expected = click_rates['Expected']  # percentage\n",
    "\n",
    "click_rates['R_Squared'] = np.power((observed - expected), 2) / expected"
   ]
  },
  {
   "cell_type": "code",
   "execution_count": 43,
   "metadata": {},
   "outputs": [
    {
     "data": {
      "text/html": [
       "<div>\n",
       "<style scoped>\n",
       "    .dataframe tbody tr th:only-of-type {\n",
       "        vertical-align: middle;\n",
       "    }\n",
       "\n",
       "    .dataframe tbody tr th {\n",
       "        vertical-align: top;\n",
       "    }\n",
       "\n",
       "    .dataframe thead th {\n",
       "        text-align: right;\n",
       "    }\n",
       "</style>\n",
       "<table border=\"1\" class=\"dataframe\">\n",
       "  <thead>\n",
       "    <tr style=\"text-align: right;\">\n",
       "      <th></th>\n",
       "      <th>Headline</th>\n",
       "      <th>Click</th>\n",
       "      <th>Observed</th>\n",
       "      <th>Expected</th>\n",
       "      <th>R_Squared</th>\n",
       "    </tr>\n",
       "  </thead>\n",
       "  <tbody>\n",
       "    <tr>\n",
       "      <th>0</th>\n",
       "      <td>Headline A</td>\n",
       "      <td>Click</td>\n",
       "      <td>14</td>\n",
       "      <td>11.333333</td>\n",
       "      <td>0.627451</td>\n",
       "    </tr>\n",
       "    <tr>\n",
       "      <th>1</th>\n",
       "      <td>Headline A</td>\n",
       "      <td>No-click</td>\n",
       "      <td>986</td>\n",
       "      <td>988.666667</td>\n",
       "      <td>0.007193</td>\n",
       "    </tr>\n",
       "    <tr>\n",
       "      <th>2</th>\n",
       "      <td>Headline B</td>\n",
       "      <td>Click</td>\n",
       "      <td>8</td>\n",
       "      <td>11.333333</td>\n",
       "      <td>0.980392</td>\n",
       "    </tr>\n",
       "    <tr>\n",
       "      <th>3</th>\n",
       "      <td>Headline B</td>\n",
       "      <td>No-click</td>\n",
       "      <td>992</td>\n",
       "      <td>988.666667</td>\n",
       "      <td>0.011238</td>\n",
       "    </tr>\n",
       "    <tr>\n",
       "      <th>4</th>\n",
       "      <td>Headline C</td>\n",
       "      <td>Click</td>\n",
       "      <td>12</td>\n",
       "      <td>11.333333</td>\n",
       "      <td>0.039216</td>\n",
       "    </tr>\n",
       "    <tr>\n",
       "      <th>5</th>\n",
       "      <td>Headline C</td>\n",
       "      <td>No-click</td>\n",
       "      <td>988</td>\n",
       "      <td>988.666667</td>\n",
       "      <td>0.000450</td>\n",
       "    </tr>\n",
       "  </tbody>\n",
       "</table>\n",
       "</div>"
      ],
      "text/plain": [
       "     Headline     Click  Observed    Expected  R_Squared\n",
       "0  Headline A     Click        14   11.333333   0.627451\n",
       "1  Headline A  No-click       986  988.666667   0.007193\n",
       "2  Headline B     Click         8   11.333333   0.980392\n",
       "3  Headline B  No-click       992  988.666667   0.011238\n",
       "4  Headline C     Click        12   11.333333   0.039216\n",
       "5  Headline C  No-click       988  988.666667   0.000450"
      ]
     },
     "execution_count": 43,
     "metadata": {},
     "output_type": "execute_result"
    }
   ],
   "source": [
    "click_rates"
   ]
  },
  {
   "cell_type": "markdown",
   "metadata": {},
   "source": [
    "The chi-square statistic is defined as the sume of the R_squared across all values in the matrix.\n",
    "\n",
    "\n",
    "$$ X = \\sum_{i}^{r}\\sum_{j}^{c} R^2$$\n",
    "<center>where r and c are the number of rows and columns repectively</center>"
   ]
  },
  {
   "cell_type": "code",
   "execution_count": 44,
   "metadata": {},
   "outputs": [
    {
     "data": {
      "text/plain": [
       "(1.6659394708658914, 2)"
      ]
     },
     "execution_count": 44,
     "metadata": {},
     "output_type": "execute_result"
    }
   ],
   "source": [
    "chi_square_statistic = click_rates.R_Squared.sum() # chi-square statistic \n",
    "df = ( click_rates['Headline'].nunique() - 1 ) * ( click_rates['Click'].nunique() - 1 )\n",
    "\n",
    "chi_square_statistic, df"
   ]
  },
  {
   "cell_type": "markdown",
   "metadata": {},
   "source": [
    "Easier way with a scipy package"
   ]
  },
  {
   "cell_type": "code",
   "execution_count": 45,
   "metadata": {
    "scrolled": false
   },
   "outputs": [
    {
     "data": {
      "text/plain": [
       "Power_divergenceResult(statistic=1.6659394708658914, pvalue=0.8931625552280715)"
      ]
     },
     "execution_count": 45,
     "metadata": {},
     "output_type": "execute_result"
    }
   ],
   "source": [
    "stats.chisquare(observed, expected)"
   ]
  },
  {
   "cell_type": "markdown",
   "metadata": {},
   "source": [
    "---\n",
    "### Chi-square test with resampling algorithm"
   ]
  },
  {
   "cell_type": "code",
   "execution_count": 46,
   "metadata": {},
   "outputs": [],
   "source": [
    "def chi2_test(observed, expected) :\n",
    "    # return sum of squares (chi-statistic)\n",
    "    statistic, pvalue = stats.chisquare(observed, expected)\n",
    "    return statistic"
   ]
  },
  {
   "cell_type": "code",
   "execution_count": 47,
   "metadata": {},
   "outputs": [
    {
     "data": {
      "text/plain": [
       "Click\n",
       "Click         34\n",
       "No-click    2966\n",
       "Name: Observed, dtype: int64"
      ]
     },
     "execution_count": 47,
     "metadata": {},
     "output_type": "execute_result"
    }
   ],
   "source": [
    "click_rates.groupby('Click').sum().Observed"
   ]
  },
  {
   "cell_type": "code",
   "execution_count": 48,
   "metadata": {},
   "outputs": [],
   "source": [
    "# click : 1, no-click : 0\n",
    "# Populate random click vs no-click\n",
    "rand_click = [1] * 34\n",
    "rand_click.extend([0] * 2966)\n",
    "random.shuffle(rand_click)"
   ]
  },
  {
   "cell_type": "code",
   "execution_count": 49,
   "metadata": {},
   "outputs": [],
   "source": [
    "# observed \n",
    "observed = click_rates['Observed']\n",
    "\n",
    "# expected\n",
    "expected = [34/3, 2966/3] * 3\n",
    "\n",
    "# observed chi2\n",
    "obs_chi2 = chi2_test(observed, expected)"
   ]
  },
  {
   "cell_type": "code",
   "execution_count": 50,
   "metadata": {
    "scrolled": true
   },
   "outputs": [
    {
     "data": {
      "text/plain": [
       "1.6659394708658917"
      ]
     },
     "execution_count": 50,
     "metadata": {},
     "output_type": "execute_result"
    }
   ],
   "source": [
    "obs_chi2"
   ]
  },
  {
   "cell_type": "code",
   "execution_count": 51,
   "metadata": {},
   "outputs": [],
   "source": [
    "def perm_test_chi2(values=rand_click) :\n",
    "    \n",
    "    # observed - 3 headlines x 1000  \n",
    "    # observed clicks\n",
    "    observed = [sum(random.sample(rand_click, 1000)),\n",
    "                sum(random.sample(rand_click, 1000)),\n",
    "                sum(random.sample(rand_click, 1000))]\n",
    "    # adding observed no-clicks\n",
    "    observed.extend([1000 - count for count in observed])\n",
    "    \n",
    "    expected = [34/3] * 3\n",
    "    expected.extend([2966/3] * 3)\n",
    "    \n",
    "    return chi2_test(observed, expected)"
   ]
  },
  {
   "cell_type": "code",
   "execution_count": 52,
   "metadata": {},
   "outputs": [],
   "source": [
    "perm_chi2_click = [perm_test_chi2() for _ in range(1000)] # calculate sum of squares"
   ]
  },
  {
   "cell_type": "code",
   "execution_count": 53,
   "metadata": {},
   "outputs": [],
   "source": [
    "perm_pval = np.mean(perm_chi2_click > obs_chi2)"
   ]
  },
  {
   "cell_type": "code",
   "execution_count": 54,
   "metadata": {
    "scrolled": true
   },
   "outputs": [
    {
     "data": {
      "text/plain": [
       "0.477"
      ]
     },
     "execution_count": 54,
     "metadata": {},
     "output_type": "execute_result"
    }
   ],
   "source": [
    "perm_pval # p-value"
   ]
  },
  {
   "cell_type": "code",
   "execution_count": 55,
   "metadata": {},
   "outputs": [
    {
     "data": {
      "text/html": [
       "<div>\n",
       "<style scoped>\n",
       "    .dataframe tbody tr th:only-of-type {\n",
       "        vertical-align: middle;\n",
       "    }\n",
       "\n",
       "    .dataframe tbody tr th {\n",
       "        vertical-align: top;\n",
       "    }\n",
       "\n",
       "    .dataframe thead th {\n",
       "        text-align: right;\n",
       "    }\n",
       "</style>\n",
       "<table border=\"1\" class=\"dataframe\">\n",
       "  <thead>\n",
       "    <tr style=\"text-align: right;\">\n",
       "      <th></th>\n",
       "      <th>Headline</th>\n",
       "      <th>Click</th>\n",
       "      <th>Observed</th>\n",
       "      <th>Expected</th>\n",
       "      <th>R_Squared</th>\n",
       "    </tr>\n",
       "  </thead>\n",
       "  <tbody>\n",
       "    <tr>\n",
       "      <th>0</th>\n",
       "      <td>Headline A</td>\n",
       "      <td>Click</td>\n",
       "      <td>14</td>\n",
       "      <td>11.333333</td>\n",
       "      <td>0.627451</td>\n",
       "    </tr>\n",
       "    <tr>\n",
       "      <th>1</th>\n",
       "      <td>Headline A</td>\n",
       "      <td>No-click</td>\n",
       "      <td>986</td>\n",
       "      <td>988.666667</td>\n",
       "      <td>0.007193</td>\n",
       "    </tr>\n",
       "    <tr>\n",
       "      <th>2</th>\n",
       "      <td>Headline B</td>\n",
       "      <td>Click</td>\n",
       "      <td>8</td>\n",
       "      <td>11.333333</td>\n",
       "      <td>0.980392</td>\n",
       "    </tr>\n",
       "    <tr>\n",
       "      <th>3</th>\n",
       "      <td>Headline B</td>\n",
       "      <td>No-click</td>\n",
       "      <td>992</td>\n",
       "      <td>988.666667</td>\n",
       "      <td>0.011238</td>\n",
       "    </tr>\n",
       "    <tr>\n",
       "      <th>4</th>\n",
       "      <td>Headline C</td>\n",
       "      <td>Click</td>\n",
       "      <td>12</td>\n",
       "      <td>11.333333</td>\n",
       "      <td>0.039216</td>\n",
       "    </tr>\n",
       "    <tr>\n",
       "      <th>5</th>\n",
       "      <td>Headline C</td>\n",
       "      <td>No-click</td>\n",
       "      <td>988</td>\n",
       "      <td>988.666667</td>\n",
       "      <td>0.000450</td>\n",
       "    </tr>\n",
       "  </tbody>\n",
       "</table>\n",
       "</div>"
      ],
      "text/plain": [
       "     Headline     Click  Observed    Expected  R_Squared\n",
       "0  Headline A     Click        14   11.333333   0.627451\n",
       "1  Headline A  No-click       986  988.666667   0.007193\n",
       "2  Headline B     Click         8   11.333333   0.980392\n",
       "3  Headline B  No-click       992  988.666667   0.011238\n",
       "4  Headline C     Click        12   11.333333   0.039216\n",
       "5  Headline C  No-click       988  988.666667   0.000450"
      ]
     },
     "execution_count": 55,
     "metadata": {},
     "output_type": "execute_result"
    }
   ],
   "source": [
    "click_rates"
   ]
  },
  {
   "cell_type": "markdown",
   "metadata": {},
   "source": [
    "P-value from the permutation test returned 0.477 as opposed to 0.89 from the earlier chi-test.\n",
    "\n",
    "The `click_rates` dataset does not contain enough data for click counts, which suggests resampling method is more likely to produce a more accurate p-value."
   ]
  },
  {
   "cell_type": "markdown",
   "metadata": {},
   "source": [
    "---\n",
    "## Effect size and sample size\n",
    "- What is the minimum size of the effect to detect in a stastical test (i.e. a 20% improvenment in click rates)\n",
    "- **Power** : The probability of detecting a given effect size with a given sample size\n",
    "\n",
    "For example, suppose current click-through rates are about 1.1% and I am seeking a 10% uplift to 1.21%."
   ]
  },
  {
   "cell_type": "code",
   "execution_count": 2,
   "metadata": {},
   "outputs": [
    {
     "data": {
      "text/plain": [
       "0.01029785095103608"
      ]
     },
     "execution_count": 2,
     "metadata": {},
     "output_type": "execute_result"
    }
   ],
   "source": [
    "# Finding the effect size for a test of two proportional values\n",
    "effect_size = sm.stats.proportion_effectsize(0.0121, 0.011) \n",
    "effect_size"
   ]
  },
  {
   "cell_type": "code",
   "execution_count": 4,
   "metadata": {},
   "outputs": [],
   "source": [
    "# Power calculation for a t-test \n",
    "power_analysis = sm.stats.TTestIndPower()"
   ]
  },
  {
   "cell_type": "code",
   "execution_count": 5,
   "metadata": {},
   "outputs": [],
   "source": [
    "# Find the desired sample size to obtain for a one-sided test\n",
    "# Suppose that we want a power of 80%, given 95% confidence level\n",
    "result = power_analysis.solve_power(effect_size=effect_size, \n",
    "                                    alpha=0.05,\n",
    "                                    power=0.8, alternative='larger')"
   ]
  },
  {
   "cell_type": "code",
   "execution_count": 7,
   "metadata": {
    "scrolled": true
   },
   "outputs": [
    {
     "name": "stdout",
     "output_type": "stream",
     "text": [
      "Sample size: 116602.39258799309\n"
     ]
    }
   ],
   "source": [
    "print(f'Sample size: {result}')"
   ]
  },
  {
   "cell_type": "markdown",
   "metadata": {},
   "source": [
    "For a one-side ttest with the effect size of 0.0103 (the current click-through rates are about 1.1% with 10% uplift to desire), I need to achieve at least 116603 sample size for a power of 80% given 95% confidence level.\n",
    "\n",
    "In summary, to find out how big a sample size I need requires :\n",
    "- the minimum size of the effect that I want to detect\n",
    "- the required probability of detecting the desired effect size (power)\n",
    "- the significance level (alpha) at which the test will be conducted"
   ]
  },
  {
   "cell_type": "markdown",
   "metadata": {},
   "source": [
    "<a id=bottom></a>\n",
    "[Go to top](#top)"
   ]
  }
 ],
 "metadata": {
  "kernelspec": {
   "display_name": "Python [conda env:my_env]",
   "language": "python",
   "name": "conda-env-my_env-py"
  },
  "language_info": {
   "codemirror_mode": {
    "name": "ipython",
    "version": 3
   },
   "file_extension": ".py",
   "mimetype": "text/x-python",
   "name": "python",
   "nbconvert_exporter": "python",
   "pygments_lexer": "ipython3",
   "version": "3.8.3"
  }
 },
 "nbformat": 4,
 "nbformat_minor": 4
}
