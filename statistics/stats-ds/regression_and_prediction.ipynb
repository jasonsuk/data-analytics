{
 "cells": [
  {
   "cell_type": "markdown",
   "metadata": {},
   "source": [
    "# Regression and prediction\n",
    "From Chapter 4 of `Practical Statistics for Data Scientists` "
   ]
  },
  {
   "cell_type": "code",
   "execution_count": 1,
   "metadata": {},
   "outputs": [],
   "source": [
    "import numpy as np\n",
    "import pandas as pd\n",
    "import matplotlib.pyplot as plt\n",
    "import seaborn as sns\n",
    "\n",
    "from scipy.stats import stats\n",
    "import statsmodels.api as sm\n",
    "import statsmodels.formula.api as smf\n",
    "\n",
    "from sklearn.linear_model import LinearRegression\n",
    "from sklearn.metrics import mean_squared_error\n",
    "from sklearn.metrics import r2_score\n",
    "\n",
    "import os\n",
    "import random"
   ]
  },
  {
   "cell_type": "code",
   "execution_count": 2,
   "metadata": {},
   "outputs": [],
   "source": [
    "def populate_data(filename) :\n",
    "    data_path = os.path.join(os.getcwd(), 'data') + '/' + filename\n",
    "    df = pd.read_csv(data_path)\n",
    "    print(df.info())\n",
    "    print(df.head())\n",
    "    return df"
   ]
  },
  {
   "cell_type": "markdown",
   "metadata": {},
   "source": [
    "---\n",
    "## `1.` Simple linear regression\n",
    "\n",
    "`pefr` dataframe represents records of the followings:\n",
    "- PEFR : Peak Expiratory Flow Rate (a measure of lung capacity)\n",
    "- Exposure: The number of years a work was exposed to cotton dust"
   ]
  },
  {
   "cell_type": "code",
   "execution_count": 3,
   "metadata": {
    "scrolled": false
   },
   "outputs": [
    {
     "name": "stdout",
     "output_type": "stream",
     "text": [
      "<class 'pandas.core.frame.DataFrame'>\n",
      "RangeIndex: 122 entries, 0 to 121\n",
      "Data columns (total 2 columns):\n",
      " #   Column    Non-Null Count  Dtype\n",
      "---  ------    --------------  -----\n",
      " 0   PEFR      122 non-null    int64\n",
      " 1   Exposure  122 non-null    int64\n",
      "dtypes: int64(2)\n",
      "memory usage: 2.0 KB\n",
      "None\n",
      "   PEFR  Exposure\n",
      "0   390         0\n",
      "1   410         0\n",
      "2   430         0\n",
      "3   460         0\n",
      "4   420         1\n"
     ]
    }
   ],
   "source": [
    "lung = populate_data('LungDisease.csv')"
   ]
  },
  {
   "cell_type": "code",
   "execution_count": 4,
   "metadata": {},
   "outputs": [
    {
     "data": {
      "image/png": "[encoded data removed]",
      "text/plain": [
       "<Figure size 432x288 with 1 Axes>"
      ]
     },
     "metadata": {
      "needs_background": "light"
     },
     "output_type": "display_data"
    }
   ],
   "source": [
    "vis = sns.scatterplot(data=lung, x='Exposure', y='PEFR')\n",
    "\n",
    "vis.set_title('Cotton exposure vs Lung Capacity')\n",
    "vis.set_xlabel('Exposure (Unit: Years)')\n",
    "plt.show()"
   ]
  },
  {
   "cell_type": "markdown",
   "metadata": {},
   "source": [
    "---\n",
    "### Fitting a model\n",
    "The feature X is Exposure and the target Y is PEFR."
   ]
  },
  {
   "cell_type": "code",
   "execution_count": 5,
   "metadata": {},
   "outputs": [],
   "source": [
    "model = LinearRegression()"
   ]
  },
  {
   "cell_type": "code",
   "execution_count": 6,
   "metadata": {},
   "outputs": [
    {
     "data": {
      "text/plain": [
       "LinearRegression()"
      ]
     },
     "execution_count": 6,
     "metadata": {},
     "output_type": "execute_result"
    }
   ],
   "source": [
    "# Fitting the linear regression model\n",
    "# Feature(s) must be in at least 2d-array\n",
    "predictor = lung[['Exposure']] \n",
    "target = lung['PEFR']\n",
    "model.fit(predictor, target) "
   ]
  },
  {
   "cell_type": "code",
   "execution_count": 7,
   "metadata": {},
   "outputs": [
    {
     "name": "stdout",
     "output_type": "stream",
     "text": [
      "Intercept: 424.5828\n",
      "Coefficient: -4.1846\n"
     ]
    }
   ],
   "source": [
    "# Model results\n",
    "print(f'Intercept: {model.intercept_:.4f}')\n",
    "print(f'Coefficient: {model.coef_[0]:.4f}')"
   ]
  },
  {
   "cell_type": "code",
   "execution_count": 8,
   "metadata": {},
   "outputs": [
    {
     "data": {
      "image/png": "[encoded data removed]",
      "text/plain": [
       "<Figure size 432x288 with 1 Axes>"
      ]
     },
     "metadata": {
      "needs_background": "light"
     },
     "output_type": "display_data"
    }
   ],
   "source": [
    "# Draw a regerssion line\n",
    "b0 = model.intercept_\n",
    "b1 = model.coef_\n",
    "x = lung['Exposure']\n",
    "y_pred = b0 + b1 * x \n",
    "\n",
    "sns.scatterplot(data=lung, x='Exposure', y='PEFR', alpha=0.7)\n",
    "plt.plot(x, y_pred, c='orange', lw= 3)\n",
    "\n",
    "plt.title('Cotton exposure vs Lung Capacity')\n",
    "plt.xlabel('Exposure (Unit: Years)')\n",
    "plt.show()"
   ]
  },
  {
   "cell_type": "markdown",
   "metadata": {},
   "source": [
    "Without cotton exposure (Exposure = 0), PEFR is expected to be 424.58. Increase of Exposure by 1 year point is expected to cause the decrease of PEFR by -4.18."
   ]
  },
  {
   "cell_type": "markdown",
   "metadata": {},
   "source": [
    "---\n",
    "### Fitted values and residuals\n",
    "- Fitted values : predictions\n",
    "- Residuals : errors\n",
    "\n",
    "Regerssion equation should include an explicit error term $e_i$, as the fitted values does not generally exactly on a line. The simple linear regression is to calculate $b_0$ and $b_1$ based on the existing data to train (${X_i}$, ${Y_i}$)"
   ]
  },
  {
   "cell_type": "markdown",
   "metadata": {},
   "source": [
    "<center>$Y_i = b_0 + b_1 * X_i + e_i$</center>"
   ]
  },
  {
   "cell_type": "markdown",
   "metadata": {},
   "source": [
    "The fitted values (aka the predicted values) are typtically denoted by $\\hat{Y}$ (Y-hat)"
   ]
  },
  {
   "cell_type": "markdown",
   "metadata": {},
   "source": [
    "<center>$\\hat{Y_i} = \\hat{b_0} + \\hat{b_1} * X_i$</center>"
   ]
  },
  {
   "cell_type": "markdown",
   "metadata": {},
   "source": [
    "Residual is computed by substrating the predicted values from the original data."
   ]
  },
  {
   "cell_type": "markdown",
   "metadata": {},
   "source": [
    "<center>$\\hat{e_i} = Y_i - \\hat{Y_i}$</center>"
   ]
  },
  {
   "cell_type": "markdown",
   "metadata": {},
   "source": [
    "Scikit-learn\\'s LinearRegression model, `predict` method is used to return the fitted values."
   ]
  },
  {
   "cell_type": "code",
   "execution_count": 9,
   "metadata": {},
   "outputs": [],
   "source": [
    "y_predict = model.predict(predictor)\n",
    "residuals = target - y_predict # target = lung['PEFR']"
   ]
  },
  {
   "cell_type": "code",
   "execution_count": 10,
   "metadata": {
    "scrolled": true
   },
   "outputs": [
    {
     "data": {
      "text/plain": [
       "0      -34.582807\n",
       "1      -14.582807\n",
       "2        5.417193\n",
       "3       35.417193\n",
       "4       -0.398230\n",
       "          ...    \n",
       "117    117.477876\n",
       "118    157.477876\n",
       "119    167.477876\n",
       "120     41.662453\n",
       "121     61.662453\n",
       "Name: PEFR, Length: 122, dtype: float64"
      ]
     },
     "execution_count": 10,
     "metadata": {},
     "output_type": "execute_result"
    }
   ],
   "source": [
    "residuals"
   ]
  },
  {
   "cell_type": "markdown",
   "metadata": {},
   "source": [
    "---\n",
    "### Least squares\n",
    "The regression line is the e\n",
    "stimate that minimizes the sum of squared residual values, or the _residual sum of squares (RSS)_. The method of minimizing the sum of the squared residuals is termed **`least squares`** or **`ordinary least squares(OLS)`** regression.\n",
    "\n",
    "One important consideration is `least squares` are susceptible to outliers especially when dealing with small or moderate-sized data sets.\n",
    "\n",
    "Also, regerssion itself does not explain the direction of causation, so the expertise into a subject must be supported."
   ]
  },
  {
   "cell_type": "markdown",
   "metadata": {},
   "source": [
    "---\n",
    "## `2.` Multiple linear regression\n",
    "\n",
    "`house_sales.csv` file is relatively bigger than others and should use a seperater (\\t)"
   ]
  },
  {
   "cell_type": "code",
   "execution_count": 11,
   "metadata": {},
   "outputs": [
    {
     "data": {
      "text/html": [
       "<div>\n",
       "<style scoped>\n",
       "    .dataframe tbody tr th:only-of-type {\n",
       "        vertical-align: middle;\n",
       "    }\n",
       "\n",
       "    .dataframe tbody tr th {\n",
       "        vertical-align: top;\n",
       "    }\n",
       "\n",
       "    .dataframe thead th {\n",
       "        text-align: right;\n",
       "    }\n",
       "</style>\n",
       "<table border=\"1\" class=\"dataframe\">\n",
       "  <thead>\n",
       "    <tr style=\"text-align: right;\">\n",
       "      <th></th>\n",
       "      <th>DocumentDate</th>\n",
       "      <th>SalePrice</th>\n",
       "      <th>PropertyID</th>\n",
       "      <th>PropertyType</th>\n",
       "      <th>ym</th>\n",
       "      <th>zhvi_px</th>\n",
       "      <th>zhvi_idx</th>\n",
       "      <th>AdjSalePrice</th>\n",
       "      <th>NbrLivingUnits</th>\n",
       "      <th>SqFtLot</th>\n",
       "      <th>...</th>\n",
       "      <th>Bathrooms</th>\n",
       "      <th>Bedrooms</th>\n",
       "      <th>BldgGrade</th>\n",
       "      <th>YrBuilt</th>\n",
       "      <th>YrRenovated</th>\n",
       "      <th>TrafficNoise</th>\n",
       "      <th>LandVal</th>\n",
       "      <th>ImpsVal</th>\n",
       "      <th>ZipCode</th>\n",
       "      <th>NewConstruction</th>\n",
       "    </tr>\n",
       "  </thead>\n",
       "  <tbody>\n",
       "    <tr>\n",
       "      <th>1</th>\n",
       "      <td>2014-09-16</td>\n",
       "      <td>280000</td>\n",
       "      <td>1000102</td>\n",
       "      <td>Multiplex</td>\n",
       "      <td>2014-09-01</td>\n",
       "      <td>405100</td>\n",
       "      <td>0.930836</td>\n",
       "      <td>300805.0</td>\n",
       "      <td>2</td>\n",
       "      <td>9373</td>\n",
       "      <td>...</td>\n",
       "      <td>3.00</td>\n",
       "      <td>6</td>\n",
       "      <td>7</td>\n",
       "      <td>1991</td>\n",
       "      <td>0</td>\n",
       "      <td>0</td>\n",
       "      <td>70000</td>\n",
       "      <td>229000</td>\n",
       "      <td>98002</td>\n",
       "      <td>False</td>\n",
       "    </tr>\n",
       "    <tr>\n",
       "      <th>2</th>\n",
       "      <td>2006-06-16</td>\n",
       "      <td>1000000</td>\n",
       "      <td>1200013</td>\n",
       "      <td>Single Family</td>\n",
       "      <td>2006-06-01</td>\n",
       "      <td>404400</td>\n",
       "      <td>0.929228</td>\n",
       "      <td>1076162.0</td>\n",
       "      <td>1</td>\n",
       "      <td>20156</td>\n",
       "      <td>...</td>\n",
       "      <td>3.75</td>\n",
       "      <td>4</td>\n",
       "      <td>10</td>\n",
       "      <td>2005</td>\n",
       "      <td>0</td>\n",
       "      <td>0</td>\n",
       "      <td>203000</td>\n",
       "      <td>590000</td>\n",
       "      <td>98166</td>\n",
       "      <td>True</td>\n",
       "    </tr>\n",
       "    <tr>\n",
       "      <th>3</th>\n",
       "      <td>2007-01-29</td>\n",
       "      <td>745000</td>\n",
       "      <td>1200019</td>\n",
       "      <td>Single Family</td>\n",
       "      <td>2007-01-01</td>\n",
       "      <td>425600</td>\n",
       "      <td>0.977941</td>\n",
       "      <td>761805.0</td>\n",
       "      <td>1</td>\n",
       "      <td>26036</td>\n",
       "      <td>...</td>\n",
       "      <td>1.75</td>\n",
       "      <td>4</td>\n",
       "      <td>8</td>\n",
       "      <td>1947</td>\n",
       "      <td>0</td>\n",
       "      <td>0</td>\n",
       "      <td>183000</td>\n",
       "      <td>275000</td>\n",
       "      <td>98166</td>\n",
       "      <td>False</td>\n",
       "    </tr>\n",
       "  </tbody>\n",
       "</table>\n",
       "<p>3 rows × 22 columns</p>\n",
       "</div>"
      ],
      "text/plain": [
       "  DocumentDate  SalePrice  PropertyID   PropertyType          ym  zhvi_px  \\\n",
       "1   2014-09-16     280000     1000102      Multiplex  2014-09-01   405100   \n",
       "2   2006-06-16    1000000     1200013  Single Family  2006-06-01   404400   \n",
       "3   2007-01-29     745000     1200019  Single Family  2007-01-01   425600   \n",
       "\n",
       "   zhvi_idx  AdjSalePrice  NbrLivingUnits  SqFtLot  ...  Bathrooms  Bedrooms  \\\n",
       "1  0.930836      300805.0               2     9373  ...       3.00         6   \n",
       "2  0.929228     1076162.0               1    20156  ...       3.75         4   \n",
       "3  0.977941      761805.0               1    26036  ...       1.75         4   \n",
       "\n",
       "   BldgGrade  YrBuilt  YrRenovated  TrafficNoise  LandVal  ImpsVal  ZipCode  \\\n",
       "1          7     1991            0             0    70000   229000    98002   \n",
       "2         10     2005            0             0   203000   590000    98166   \n",
       "3          8     1947            0             0   183000   275000    98166   \n",
       "\n",
       "   NewConstruction  \n",
       "1            False  \n",
       "2             True  \n",
       "3            False  \n",
       "\n",
       "[3 rows x 22 columns]"
      ]
     },
     "execution_count": 11,
     "metadata": {},
     "output_type": "execute_result"
    }
   ],
   "source": [
    "house = pd.read_csv('data/house_sales.csv', sep='\\t')\n",
    "house.head(3)"
   ]
  },
  {
   "cell_type": "code",
   "execution_count": 12,
   "metadata": {},
   "outputs": [
    {
     "data": {
      "text/html": [
       "<div>\n",
       "<style scoped>\n",
       "    .dataframe tbody tr th:only-of-type {\n",
       "        vertical-align: middle;\n",
       "    }\n",
       "\n",
       "    .dataframe tbody tr th {\n",
       "        vertical-align: top;\n",
       "    }\n",
       "\n",
       "    .dataframe thead th {\n",
       "        text-align: right;\n",
       "    }\n",
       "</style>\n",
       "<table border=\"1\" class=\"dataframe\">\n",
       "  <thead>\n",
       "    <tr style=\"text-align: right;\">\n",
       "      <th></th>\n",
       "      <th>SalePrice</th>\n",
       "      <th>PropertyID</th>\n",
       "      <th>zhvi_px</th>\n",
       "      <th>zhvi_idx</th>\n",
       "      <th>AdjSalePrice</th>\n",
       "      <th>NbrLivingUnits</th>\n",
       "      <th>SqFtLot</th>\n",
       "      <th>SqFtTotLiving</th>\n",
       "      <th>SqFtFinBasement</th>\n",
       "      <th>Bathrooms</th>\n",
       "      <th>Bedrooms</th>\n",
       "      <th>BldgGrade</th>\n",
       "      <th>YrBuilt</th>\n",
       "      <th>YrRenovated</th>\n",
       "      <th>TrafficNoise</th>\n",
       "      <th>LandVal</th>\n",
       "      <th>ImpsVal</th>\n",
       "      <th>ZipCode</th>\n",
       "    </tr>\n",
       "  </thead>\n",
       "  <tbody>\n",
       "    <tr>\n",
       "      <th>count</th>\n",
       "      <td>2.268900e+04</td>\n",
       "      <td>2.268900e+04</td>\n",
       "      <td>22689.000000</td>\n",
       "      <td>22689.000000</td>\n",
       "      <td>2.268900e+04</td>\n",
       "      <td>22689.000000</td>\n",
       "      <td>2.268900e+04</td>\n",
       "      <td>22689.000000</td>\n",
       "      <td>22689.000000</td>\n",
       "      <td>22689.000000</td>\n",
       "      <td>22689.000000</td>\n",
       "      <td>22689.000000</td>\n",
       "      <td>22689.000000</td>\n",
       "      <td>22689.000000</td>\n",
       "      <td>22689.000000</td>\n",
       "      <td>2.268900e+04</td>\n",
       "      <td>2.268900e+04</td>\n",
       "      <td>22689.000000</td>\n",
       "    </tr>\n",
       "    <tr>\n",
       "      <th>mean</th>\n",
       "      <td>5.079373e+05</td>\n",
       "      <td>4.666067e+09</td>\n",
       "      <td>392178.046631</td>\n",
       "      <td>0.901144</td>\n",
       "      <td>5.652523e+05</td>\n",
       "      <td>1.018820</td>\n",
       "      <td>1.174621e+04</td>\n",
       "      <td>2080.258275</td>\n",
       "      <td>293.240072</td>\n",
       "      <td>2.176550</td>\n",
       "      <td>3.367843</td>\n",
       "      <td>7.680991</td>\n",
       "      <td>1971.194588</td>\n",
       "      <td>102.305743</td>\n",
       "      <td>0.205783</td>\n",
       "      <td>2.203320e+05</td>\n",
       "      <td>3.004871e+05</td>\n",
       "      <td>98074.241174</td>\n",
       "    </tr>\n",
       "    <tr>\n",
       "      <th>std</th>\n",
       "      <td>3.466495e+05</td>\n",
       "      <td>2.877594e+09</td>\n",
       "      <td>36351.442162</td>\n",
       "      <td>0.083528</td>\n",
       "      <td>3.854195e+05</td>\n",
       "      <td>0.159745</td>\n",
       "      <td>2.901475e+04</td>\n",
       "      <td>913.791565</td>\n",
       "      <td>439.449560</td>\n",
       "      <td>0.768044</td>\n",
       "      <td>0.904414</td>\n",
       "      <td>1.180565</td>\n",
       "      <td>30.315556</td>\n",
       "      <td>440.560634</td>\n",
       "      <td>0.554195</td>\n",
       "      <td>1.829144e+05</td>\n",
       "      <td>2.266145e+05</td>\n",
       "      <td>591.396594</td>\n",
       "    </tr>\n",
       "    <tr>\n",
       "      <th>min</th>\n",
       "      <td>3.000000e+03</td>\n",
       "      <td>1.000102e+06</td>\n",
       "      <td>311600.000000</td>\n",
       "      <td>0.715993</td>\n",
       "      <td>3.368000e+03</td>\n",
       "      <td>1.000000</td>\n",
       "      <td>4.940000e+02</td>\n",
       "      <td>370.000000</td>\n",
       "      <td>0.000000</td>\n",
       "      <td>0.000000</td>\n",
       "      <td>0.000000</td>\n",
       "      <td>3.000000</td>\n",
       "      <td>1900.000000</td>\n",
       "      <td>0.000000</td>\n",
       "      <td>0.000000</td>\n",
       "      <td>0.000000e+00</td>\n",
       "      <td>0.000000e+00</td>\n",
       "      <td>9800.000000</td>\n",
       "    </tr>\n",
       "    <tr>\n",
       "      <th>25%</th>\n",
       "      <td>3.250000e+05</td>\n",
       "      <td>2.212400e+09</td>\n",
       "      <td>360700.000000</td>\n",
       "      <td>0.828814</td>\n",
       "      <td>3.605630e+05</td>\n",
       "      <td>1.000000</td>\n",
       "      <td>4.800000e+03</td>\n",
       "      <td>1420.000000</td>\n",
       "      <td>0.000000</td>\n",
       "      <td>1.750000</td>\n",
       "      <td>3.000000</td>\n",
       "      <td>7.000000</td>\n",
       "      <td>1950.000000</td>\n",
       "      <td>0.000000</td>\n",
       "      <td>0.000000</td>\n",
       "      <td>1.070000e+05</td>\n",
       "      <td>1.720000e+05</td>\n",
       "      <td>98034.000000</td>\n",
       "    </tr>\n",
       "    <tr>\n",
       "      <th>50%</th>\n",
       "      <td>4.246500e+05</td>\n",
       "      <td>4.006000e+09</td>\n",
       "      <td>403200.000000</td>\n",
       "      <td>0.926471</td>\n",
       "      <td>4.713150e+05</td>\n",
       "      <td>1.000000</td>\n",
       "      <td>7.200000e+03</td>\n",
       "      <td>1910.000000</td>\n",
       "      <td>0.000000</td>\n",
       "      <td>2.250000</td>\n",
       "      <td>3.000000</td>\n",
       "      <td>7.000000</td>\n",
       "      <td>1977.000000</td>\n",
       "      <td>0.000000</td>\n",
       "      <td>0.000000</td>\n",
       "      <td>1.820000e+05</td>\n",
       "      <td>2.460000e+05</td>\n",
       "      <td>98065.000000</td>\n",
       "    </tr>\n",
       "    <tr>\n",
       "      <th>75%</th>\n",
       "      <td>5.850000e+05</td>\n",
       "      <td>7.417700e+09</td>\n",
       "      <td>421200.000000</td>\n",
       "      <td>0.967831</td>\n",
       "      <td>6.494430e+05</td>\n",
       "      <td>1.000000</td>\n",
       "      <td>9.794000e+03</td>\n",
       "      <td>2540.000000</td>\n",
       "      <td>580.000000</td>\n",
       "      <td>2.500000</td>\n",
       "      <td>4.000000</td>\n",
       "      <td>8.000000</td>\n",
       "      <td>2000.000000</td>\n",
       "      <td>0.000000</td>\n",
       "      <td>0.000000</td>\n",
       "      <td>2.670000e+05</td>\n",
       "      <td>3.610000e+05</td>\n",
       "      <td>98117.000000</td>\n",
       "    </tr>\n",
       "    <tr>\n",
       "      <th>max</th>\n",
       "      <td>1.100000e+07</td>\n",
       "      <td>9.906000e+09</td>\n",
       "      <td>435200.000000</td>\n",
       "      <td>1.000000</td>\n",
       "      <td>1.164486e+07</td>\n",
       "      <td>5.000000</td>\n",
       "      <td>1.024068e+06</td>\n",
       "      <td>10740.000000</td>\n",
       "      <td>3500.000000</td>\n",
       "      <td>8.000000</td>\n",
       "      <td>33.000000</td>\n",
       "      <td>13.000000</td>\n",
       "      <td>2015.000000</td>\n",
       "      <td>2016.000000</td>\n",
       "      <td>3.000000</td>\n",
       "      <td>5.538000e+06</td>\n",
       "      <td>5.772000e+06</td>\n",
       "      <td>98354.000000</td>\n",
       "    </tr>\n",
       "  </tbody>\n",
       "</table>\n",
       "</div>"
      ],
      "text/plain": [
       "          SalePrice    PropertyID        zhvi_px      zhvi_idx  AdjSalePrice  \\\n",
       "count  2.268900e+04  2.268900e+04   22689.000000  22689.000000  2.268900e+04   \n",
       "mean   5.079373e+05  4.666067e+09  392178.046631      0.901144  5.652523e+05   \n",
       "std    3.466495e+05  2.877594e+09   36351.442162      0.083528  3.854195e+05   \n",
       "min    3.000000e+03  1.000102e+06  311600.000000      0.715993  3.368000e+03   \n",
       "25%    3.250000e+05  2.212400e+09  360700.000000      0.828814  3.605630e+05   \n",
       "50%    4.246500e+05  4.006000e+09  403200.000000      0.926471  4.713150e+05   \n",
       "75%    5.850000e+05  7.417700e+09  421200.000000      0.967831  6.494430e+05   \n",
       "max    1.100000e+07  9.906000e+09  435200.000000      1.000000  1.164486e+07   \n",
       "\n",
       "       NbrLivingUnits       SqFtLot  SqFtTotLiving  SqFtFinBasement  \\\n",
       "count    22689.000000  2.268900e+04   22689.000000     22689.000000   \n",
       "mean         1.018820  1.174621e+04    2080.258275       293.240072   \n",
       "std          0.159745  2.901475e+04     913.791565       439.449560   \n",
       "min          1.000000  4.940000e+02     370.000000         0.000000   \n",
       "25%          1.000000  4.800000e+03    1420.000000         0.000000   \n",
       "50%          1.000000  7.200000e+03    1910.000000         0.000000   \n",
       "75%          1.000000  9.794000e+03    2540.000000       580.000000   \n",
       "max          5.000000  1.024068e+06   10740.000000      3500.000000   \n",
       "\n",
       "          Bathrooms      Bedrooms     BldgGrade       YrBuilt   YrRenovated  \\\n",
       "count  22689.000000  22689.000000  22689.000000  22689.000000  22689.000000   \n",
       "mean       2.176550      3.367843      7.680991   1971.194588    102.305743   \n",
       "std        0.768044      0.904414      1.180565     30.315556    440.560634   \n",
       "min        0.000000      0.000000      3.000000   1900.000000      0.000000   \n",
       "25%        1.750000      3.000000      7.000000   1950.000000      0.000000   \n",
       "50%        2.250000      3.000000      7.000000   1977.000000      0.000000   \n",
       "75%        2.500000      4.000000      8.000000   2000.000000      0.000000   \n",
       "max        8.000000     33.000000     13.000000   2015.000000   2016.000000   \n",
       "\n",
       "       TrafficNoise       LandVal       ImpsVal       ZipCode  \n",
       "count  22689.000000  2.268900e+04  2.268900e+04  22689.000000  \n",
       "mean       0.205783  2.203320e+05  3.004871e+05  98074.241174  \n",
       "std        0.554195  1.829144e+05  2.266145e+05    591.396594  \n",
       "min        0.000000  0.000000e+00  0.000000e+00   9800.000000  \n",
       "25%        0.000000  1.070000e+05  1.720000e+05  98034.000000  \n",
       "50%        0.000000  1.820000e+05  2.460000e+05  98065.000000  \n",
       "75%        0.000000  2.670000e+05  3.610000e+05  98117.000000  \n",
       "max        3.000000  5.538000e+06  5.772000e+06  98354.000000  "
      ]
     },
     "execution_count": 12,
     "metadata": {},
     "output_type": "execute_result"
    }
   ],
   "source": [
    "house.describe()"
   ]
  },
  {
   "cell_type": "markdown",
   "metadata": {},
   "source": [
    "### Fitting the model"
   ]
  },
  {
   "cell_type": "code",
   "execution_count": 13,
   "metadata": {
    "scrolled": true
   },
   "outputs": [],
   "source": [
    "# house.columns.values\n",
    "features= ['SqFtLot', 'SqFtTotLiving', 'Bathrooms', 'Bedrooms', 'BldgGrade']\n",
    "response = 'AdjSalePrice'"
   ]
  },
  {
   "cell_type": "code",
   "execution_count": 14,
   "metadata": {},
   "outputs": [
    {
     "data": {
      "text/plain": [
       "LinearRegression()"
      ]
     },
     "execution_count": 14,
     "metadata": {},
     "output_type": "execute_result"
    }
   ],
   "source": [
    "house_lm = LinearRegression()\n",
    "house_lm.fit(house[features], house[response])"
   ]
  },
  {
   "cell_type": "code",
   "execution_count": 15,
   "metadata": {
    "scrolled": true
   },
   "outputs": [
    {
     "name": "stdout",
     "output_type": "stream",
     "text": [
      "Intercept: -521924.722\n",
      "Coefficent: \n",
      "SqFtLot : -0.06050600921000202\n",
      "SqFtTotLiving : 228.83210707273244\n",
      "Bathrooms : -19438.09895978911\n",
      "Bedrooms : -47781.153377023256\n",
      "BldgGrade : 106117.20955540458\n"
     ]
    }
   ],
   "source": [
    "print(f'Intercept: {house_lm.intercept_:.3f}')\n",
    "print(f'Coefficent: ')\n",
    "for feature, coef in zip(features, house_lm.coef_) :\n",
    "    print(f'{feature} : {coef}')"
   ]
  },
  {
   "cell_type": "markdown",
   "metadata": {},
   "source": [
    "### Assessing the model\n",
    "The performance metric to measure the overall accuracy :\n",
    "\n",
    "**`root mean sqaured error (RMSE)`** : the square root of the average squared error in the prediced values\n",
    "**`residual standard error (RSE)`** : similar to RMSE but adjusted for degree of freedom. So the denominator is degree of freedom (n-p-1) where p is number of predictors.\n",
    "\n",
    "Particularly for big data applications, the difference between RMSE and RSE is very small."
   ]
  },
  {
   "cell_type": "markdown",
   "metadata": {},
   "source": [
    "Scikit-learn : `mean_squared_error` to get RMSE & `r2_score` for the coefficient of determination."
   ]
  },
  {
   "cell_type": "code",
   "execution_count": 16,
   "metadata": {},
   "outputs": [
    {
     "name": "stdout",
     "output_type": "stream",
     "text": [
      "RMSE: 261209.6916\n",
      "R_squared: 0.5407\n"
     ]
    }
   ],
   "source": [
    "fitted = house_lm.predict(house[features]) # fit the training data\n",
    "RMSE = np.sqrt(mean_squared_error(house[response], fitted))\n",
    "r2 = r2_score(house[response], fitted)\n",
    "print(f'RMSE: {RMSE:.4f}')\n",
    "print(f'R_squared: {r2:.4f}')"
   ]
  },
  {
   "cell_type": "markdown",
   "metadata": {},
   "source": [
    "Statsmodel: A more detailed analysis"
   ]
  },
  {
   "cell_type": "code",
   "execution_count": 17,
   "metadata": {},
   "outputs": [],
   "source": [
    "model = sm.OLS(house[response], house[features].assign(const=1)) # assign intercept = 1"
   ]
  },
  {
   "cell_type": "code",
   "execution_count": 18,
   "metadata": {},
   "outputs": [
    {
     "data": {
      "text/html": [
       "<table class=\"simpletable\">\n",
       "<caption>OLS Regression Results</caption>\n",
       "<tr>\n",
       "  <th>Dep. Variable:</th>      <td>AdjSalePrice</td>   <th>  R-squared:         </th>  <td>   0.541</td>  \n",
       "</tr>\n",
       "<tr>\n",
       "  <th>Model:</th>                   <td>OLS</td>       <th>  Adj. R-squared:    </th>  <td>   0.541</td>  \n",
       "</tr>\n",
       "<tr>\n",
       "  <th>Method:</th>             <td>Least Squares</td>  <th>  F-statistic:       </th>  <td>   5340.</td>  \n",
       "</tr>\n",
       "<tr>\n",
       "  <th>Date:</th>             <td>Mon, 30 Nov 2020</td> <th>  Prob (F-statistic):</th>   <td>  0.00</td>   \n",
       "</tr>\n",
       "<tr>\n",
       "  <th>Time:</th>                 <td>18:36:48</td>     <th>  Log-Likelihood:    </th> <td>-3.1520e+05</td>\n",
       "</tr>\n",
       "<tr>\n",
       "  <th>No. Observations:</th>      <td> 22689</td>      <th>  AIC:               </th>  <td>6.304e+05</td> \n",
       "</tr>\n",
       "<tr>\n",
       "  <th>Df Residuals:</th>          <td> 22683</td>      <th>  BIC:               </th>  <td>6.305e+05</td> \n",
       "</tr>\n",
       "<tr>\n",
       "  <th>Df Model:</th>              <td>     5</td>      <th>                     </th>      <td> </td>     \n",
       "</tr>\n",
       "<tr>\n",
       "  <th>Covariance Type:</th>      <td>nonrobust</td>    <th>                     </th>      <td> </td>     \n",
       "</tr>\n",
       "</table>\n",
       "<table class=\"simpletable\">\n",
       "<tr>\n",
       "        <td></td>           <th>coef</th>     <th>std err</th>      <th>t</th>      <th>P>|t|</th>  <th>[0.025</th>    <th>0.975]</th>  \n",
       "</tr>\n",
       "<tr>\n",
       "  <th>SqFtLot</th>       <td>   -0.0605</td> <td>    0.061</td> <td>   -0.989</td> <td> 0.323</td> <td>   -0.180</td> <td>    0.059</td>\n",
       "</tr>\n",
       "<tr>\n",
       "  <th>SqFtTotLiving</th> <td>  228.8321</td> <td>    3.898</td> <td>   58.699</td> <td> 0.000</td> <td>  221.191</td> <td>  236.473</td>\n",
       "</tr>\n",
       "<tr>\n",
       "  <th>Bathrooms</th>     <td>-1.944e+04</td> <td> 3625.219</td> <td>   -5.362</td> <td> 0.000</td> <td>-2.65e+04</td> <td>-1.23e+04</td>\n",
       "</tr>\n",
       "<tr>\n",
       "  <th>Bedrooms</th>      <td>-4.778e+04</td> <td> 2489.443</td> <td>  -19.194</td> <td> 0.000</td> <td>-5.27e+04</td> <td>-4.29e+04</td>\n",
       "</tr>\n",
       "<tr>\n",
       "  <th>BldgGrade</th>     <td> 1.061e+05</td> <td> 2396.136</td> <td>   44.287</td> <td> 0.000</td> <td> 1.01e+05</td> <td> 1.11e+05</td>\n",
       "</tr>\n",
       "<tr>\n",
       "  <th>const</th>         <td>-5.219e+05</td> <td> 1.57e+04</td> <td>  -33.349</td> <td> 0.000</td> <td>-5.53e+05</td> <td>-4.91e+05</td>\n",
       "</tr>\n",
       "</table>\n",
       "<table class=\"simpletable\">\n",
       "<tr>\n",
       "  <th>Omnibus:</th>       <td>29679.186</td> <th>  Durbin-Watson:     </th>   <td>   1.247</td>  \n",
       "</tr>\n",
       "<tr>\n",
       "  <th>Prob(Omnibus):</th>  <td> 0.000</td>   <th>  Jarque-Bera (JB):  </th> <td>19394127.212</td>\n",
       "</tr>\n",
       "<tr>\n",
       "  <th>Skew:</th>           <td> 6.889</td>   <th>  Prob(JB):          </th>   <td>    0.00</td>  \n",
       "</tr>\n",
       "<tr>\n",
       "  <th>Kurtosis:</th>       <td>145.565</td>  <th>  Cond. No.          </th>   <td>2.86e+05</td>  \n",
       "</tr>\n",
       "</table><br/><br/>Warnings:<br/>[1] Standard Errors assume that the covariance matrix of the errors is correctly specified.<br/>[2] The condition number is large, 2.86e+05. This might indicate that there are<br/>strong multicollinearity or other numerical problems."
      ],
      "text/plain": [
       "<class 'statsmodels.iolib.summary.Summary'>\n",
       "\"\"\"\n",
       "                            OLS Regression Results                            \n",
       "==============================================================================\n",
       "Dep. Variable:           AdjSalePrice   R-squared:                       0.541\n",
       "Model:                            OLS   Adj. R-squared:                  0.541\n",
       "Method:                 Least Squares   F-statistic:                     5340.\n",
       "Date:                Mon, 30 Nov 2020   Prob (F-statistic):               0.00\n",
       "Time:                        18:36:48   Log-Likelihood:            -3.1520e+05\n",
       "No. Observations:               22689   AIC:                         6.304e+05\n",
       "Df Residuals:                   22683   BIC:                         6.305e+05\n",
       "Df Model:                           5                                         \n",
       "Covariance Type:            nonrobust                                         \n",
       "=================================================================================\n",
       "                    coef    std err          t      P>|t|      [0.025      0.975]\n",
       "---------------------------------------------------------------------------------\n",
       "SqFtLot          -0.0605      0.061     -0.989      0.323      -0.180       0.059\n",
       "SqFtTotLiving   228.8321      3.898     58.699      0.000     221.191     236.473\n",
       "Bathrooms     -1.944e+04   3625.219     -5.362      0.000   -2.65e+04   -1.23e+04\n",
       "Bedrooms      -4.778e+04   2489.443    -19.194      0.000   -5.27e+04   -4.29e+04\n",
       "BldgGrade      1.061e+05   2396.136     44.287      0.000    1.01e+05    1.11e+05\n",
       "const         -5.219e+05   1.57e+04    -33.349      0.000   -5.53e+05   -4.91e+05\n",
       "==============================================================================\n",
       "Omnibus:                    29679.186   Durbin-Watson:                   1.247\n",
       "Prob(Omnibus):                  0.000   Jarque-Bera (JB):         19394127.212\n",
       "Skew:                           6.889   Prob(JB):                         0.00\n",
       "Kurtosis:                     145.565   Cond. No.                     2.86e+05\n",
       "==============================================================================\n",
       "\n",
       "Warnings:\n",
       "[1] Standard Errors assume that the covariance matrix of the errors is correctly specified.\n",
       "[2] The condition number is large, 2.86e+05. This might indicate that there are\n",
       "strong multicollinearity or other numerical problems.\n",
       "\"\"\""
      ]
     },
     "execution_count": 18,
     "metadata": {},
     "output_type": "execute_result"
    }
   ],
   "source": [
    "results = model.fit()\n",
    "results.summary()"
   ]
  },
  {
   "cell_type": "markdown",
   "metadata": {},
   "source": [
    "Imterpretation of R_squared score : the features account for 54.1% of variation in Adjusted Sales Price. Also the t-statistic and the p-value measure the extent to which a coefficient is 'statistically sigificant.' The higher t-statistic(the lower p-value) the more significant the predictor(s)."
   ]
  },
  {
   "cell_type": "markdown",
   "metadata": {},
   "source": [
    "---\n",
    "### Cross-validation\n",
    "R_squared, F-statistics and p-values are applied to the same data. However, it may not be useful when building a model to predict the response with `out-of-sample` data.\n",
    "\n",
    "Cross validation methods, like k-fold, can help make up for the shortcomings from `in-sample` metrics."
   ]
  },
  {
   "cell_type": "markdown",
   "metadata": {},
   "source": [
    "---\n",
    "### Model selection and stepwise regression"
   ]
  },
  {
   "cell_type": "code",
   "execution_count": 19,
   "metadata": {},
   "outputs": [],
   "source": [
    "#house.info()"
   ]
  },
  {
   "cell_type": "code",
   "execution_count": 20,
   "metadata": {},
   "outputs": [],
   "source": [
    "full_features = [\n",
    "    'SqFtLot','SqFtTotLiving', 'SqFtFinBasement', 'Bathrooms', 'Bedrooms',\n",
    "    'BldgGrade', 'YrBuilt', 'YrRenovated', 'NbrLivingUnits', \n",
    "    'PropertyType', 'NewConstruction'\n",
    "]"
   ]
  },
  {
   "cell_type": "code",
   "execution_count": 21,
   "metadata": {},
   "outputs": [],
   "source": [
    "# PropertyType and NewConstruction is categorial and boolean variables\n",
    "# Need encoding into numbers\n",
    "X = pd.get_dummies(house[full_features], drop_first=True) # avoid multicollinearity"
   ]
  },
  {
   "cell_type": "code",
   "execution_count": 22,
   "metadata": {},
   "outputs": [],
   "source": [
    "X['NewConstruction'] = X['NewConstruction'].map({False:0, True:1})"
   ]
  },
  {
   "cell_type": "code",
   "execution_count": 23,
   "metadata": {},
   "outputs": [],
   "source": [
    "# Confirm PropertyType and NewConstruction converted \n",
    "# X.describe() "
   ]
  },
  {
   "cell_type": "code",
   "execution_count": 24,
   "metadata": {
    "scrolled": true
   },
   "outputs": [],
   "source": [
    "house_full = sm.OLS(house[response], X.assign(const=1))\n",
    "results = house_full.fit()"
   ]
  },
  {
   "cell_type": "code",
   "execution_count": 25,
   "metadata": {},
   "outputs": [
    {
     "data": {
      "text/html": [
       "<table class=\"simpletable\">\n",
       "<caption>OLS Regression Results</caption>\n",
       "<tr>\n",
       "  <th>Dep. Variable:</th>      <td>AdjSalePrice</td>   <th>  R-squared:         </th>  <td>   0.595</td>  \n",
       "</tr>\n",
       "<tr>\n",
       "  <th>Model:</th>                   <td>OLS</td>       <th>  Adj. R-squared:    </th>  <td>   0.594</td>  \n",
       "</tr>\n",
       "<tr>\n",
       "  <th>Method:</th>             <td>Least Squares</td>  <th>  F-statistic:       </th>  <td>   2772.</td>  \n",
       "</tr>\n",
       "<tr>\n",
       "  <th>Date:</th>             <td>Mon, 30 Nov 2020</td> <th>  Prob (F-statistic):</th>   <td>  0.00</td>   \n",
       "</tr>\n",
       "<tr>\n",
       "  <th>Time:</th>                 <td>18:36:48</td>     <th>  Log-Likelihood:    </th> <td>-3.1378e+05</td>\n",
       "</tr>\n",
       "<tr>\n",
       "  <th>No. Observations:</th>      <td> 22689</td>      <th>  AIC:               </th>  <td>6.276e+05</td> \n",
       "</tr>\n",
       "<tr>\n",
       "  <th>Df Residuals:</th>          <td> 22676</td>      <th>  BIC:               </th>  <td>6.277e+05</td> \n",
       "</tr>\n",
       "<tr>\n",
       "  <th>Df Model:</th>              <td>    12</td>      <th>                     </th>      <td> </td>     \n",
       "</tr>\n",
       "<tr>\n",
       "  <th>Covariance Type:</th>      <td>nonrobust</td>    <th>                     </th>      <td> </td>     \n",
       "</tr>\n",
       "</table>\n",
       "<table class=\"simpletable\">\n",
       "<tr>\n",
       "               <td></td>                 <th>coef</th>     <th>std err</th>      <th>t</th>      <th>P>|t|</th>  <th>[0.025</th>    <th>0.975]</th>  \n",
       "</tr>\n",
       "<tr>\n",
       "  <th>SqFtLot</th>                    <td>    0.0770</td> <td>    0.058</td> <td>    1.329</td> <td> 0.184</td> <td>   -0.037</td> <td>    0.191</td>\n",
       "</tr>\n",
       "<tr>\n",
       "  <th>SqFtTotLiving</th>              <td>  198.6311</td> <td>    4.233</td> <td>   46.922</td> <td> 0.000</td> <td>  190.334</td> <td>  206.928</td>\n",
       "</tr>\n",
       "<tr>\n",
       "  <th>SqFtFinBasement</th>            <td>    7.0494</td> <td>    4.627</td> <td>    1.524</td> <td> 0.128</td> <td>   -2.020</td> <td>   16.119</td>\n",
       "</tr>\n",
       "<tr>\n",
       "  <th>Bathrooms</th>                  <td> 4.286e+04</td> <td> 3808.013</td> <td>   11.256</td> <td> 0.000</td> <td> 3.54e+04</td> <td> 5.03e+04</td>\n",
       "</tr>\n",
       "<tr>\n",
       "  <th>Bedrooms</th>                   <td>-5.189e+04</td> <td> 2396.632</td> <td>  -21.652</td> <td> 0.000</td> <td>-5.66e+04</td> <td>-4.72e+04</td>\n",
       "</tr>\n",
       "<tr>\n",
       "  <th>BldgGrade</th>                  <td> 1.373e+05</td> <td> 2440.995</td> <td>   56.243</td> <td> 0.000</td> <td> 1.33e+05</td> <td> 1.42e+05</td>\n",
       "</tr>\n",
       "<tr>\n",
       "  <th>YrBuilt</th>                    <td>-3573.7824</td> <td>   77.220</td> <td>  -46.281</td> <td> 0.000</td> <td>-3725.139</td> <td>-3422.426</td>\n",
       "</tr>\n",
       "<tr>\n",
       "  <th>YrRenovated</th>                <td>   -2.5194</td> <td>    3.924</td> <td>   -0.642</td> <td> 0.521</td> <td>  -10.210</td> <td>    5.171</td>\n",
       "</tr>\n",
       "<tr>\n",
       "  <th>NbrLivingUnits</th>             <td> 5765.1825</td> <td> 1.76e+04</td> <td>    0.328</td> <td> 0.743</td> <td>-2.87e+04</td> <td> 4.02e+04</td>\n",
       "</tr>\n",
       "<tr>\n",
       "  <th>NewConstruction</th>            <td>-2440.7694</td> <td> 5935.656</td> <td>   -0.411</td> <td> 0.681</td> <td>-1.41e+04</td> <td> 9193.524</td>\n",
       "</tr>\n",
       "<tr>\n",
       "  <th>PropertyType_Single Family</th> <td> 2.996e+04</td> <td> 2.61e+04</td> <td>    1.149</td> <td> 0.251</td> <td>-2.12e+04</td> <td> 8.11e+04</td>\n",
       "</tr>\n",
       "<tr>\n",
       "  <th>PropertyType_Townhouse</th>     <td> 9.279e+04</td> <td>  2.7e+04</td> <td>    3.436</td> <td> 0.001</td> <td> 3.99e+04</td> <td> 1.46e+05</td>\n",
       "</tr>\n",
       "<tr>\n",
       "  <th>const</th>                      <td> 6.181e+06</td> <td> 1.55e+05</td> <td>   39.900</td> <td> 0.000</td> <td> 5.88e+06</td> <td> 6.48e+06</td>\n",
       "</tr>\n",
       "</table>\n",
       "<table class=\"simpletable\">\n",
       "<tr>\n",
       "  <th>Omnibus:</th>       <td>31008.164</td> <th>  Durbin-Watson:     </th>   <td>   1.393</td>  \n",
       "</tr>\n",
       "<tr>\n",
       "  <th>Prob(Omnibus):</th>  <td> 0.000</td>   <th>  Jarque-Bera (JB):  </th> <td>26253527.214</td>\n",
       "</tr>\n",
       "<tr>\n",
       "  <th>Skew:</th>           <td> 7.427</td>   <th>  Prob(JB):          </th>   <td>    0.00</td>  \n",
       "</tr>\n",
       "<tr>\n",
       "  <th>Kurtosis:</th>       <td>168.981</td>  <th>  Cond. No.          </th>   <td>2.98e+06</td>  \n",
       "</tr>\n",
       "</table><br/><br/>Warnings:<br/>[1] Standard Errors assume that the covariance matrix of the errors is correctly specified.<br/>[2] The condition number is large, 2.98e+06. This might indicate that there are<br/>strong multicollinearity or other numerical problems."
      ],
      "text/plain": [
       "<class 'statsmodels.iolib.summary.Summary'>\n",
       "\"\"\"\n",
       "                            OLS Regression Results                            \n",
       "==============================================================================\n",
       "Dep. Variable:           AdjSalePrice   R-squared:                       0.595\n",
       "Model:                            OLS   Adj. R-squared:                  0.594\n",
       "Method:                 Least Squares   F-statistic:                     2772.\n",
       "Date:                Mon, 30 Nov 2020   Prob (F-statistic):               0.00\n",
       "Time:                        18:36:48   Log-Likelihood:            -3.1378e+05\n",
       "No. Observations:               22689   AIC:                         6.276e+05\n",
       "Df Residuals:                   22676   BIC:                         6.277e+05\n",
       "Df Model:                          12                                         \n",
       "Covariance Type:            nonrobust                                         \n",
       "==============================================================================================\n",
       "                                 coef    std err          t      P>|t|      [0.025      0.975]\n",
       "----------------------------------------------------------------------------------------------\n",
       "SqFtLot                        0.0770      0.058      1.329      0.184      -0.037       0.191\n",
       "SqFtTotLiving                198.6311      4.233     46.922      0.000     190.334     206.928\n",
       "SqFtFinBasement                7.0494      4.627      1.524      0.128      -2.020      16.119\n",
       "Bathrooms                   4.286e+04   3808.013     11.256      0.000    3.54e+04    5.03e+04\n",
       "Bedrooms                   -5.189e+04   2396.632    -21.652      0.000   -5.66e+04   -4.72e+04\n",
       "BldgGrade                   1.373e+05   2440.995     56.243      0.000    1.33e+05    1.42e+05\n",
       "YrBuilt                    -3573.7824     77.220    -46.281      0.000   -3725.139   -3422.426\n",
       "YrRenovated                   -2.5194      3.924     -0.642      0.521     -10.210       5.171\n",
       "NbrLivingUnits              5765.1825   1.76e+04      0.328      0.743   -2.87e+04    4.02e+04\n",
       "NewConstruction            -2440.7694   5935.656     -0.411      0.681   -1.41e+04    9193.524\n",
       "PropertyType_Single Family  2.996e+04   2.61e+04      1.149      0.251   -2.12e+04    8.11e+04\n",
       "PropertyType_Townhouse      9.279e+04    2.7e+04      3.436      0.001    3.99e+04    1.46e+05\n",
       "const                       6.181e+06   1.55e+05     39.900      0.000    5.88e+06    6.48e+06\n",
       "==============================================================================\n",
       "Omnibus:                    31008.164   Durbin-Watson:                   1.393\n",
       "Prob(Omnibus):                  0.000   Jarque-Bera (JB):         26253527.214\n",
       "Skew:                           7.427   Prob(JB):                         0.00\n",
       "Kurtosis:                     168.981   Cond. No.                     2.98e+06\n",
       "==============================================================================\n",
       "\n",
       "Warnings:\n",
       "[1] Standard Errors assume that the covariance matrix of the errors is correctly specified.\n",
       "[2] The condition number is large, 2.98e+06. This might indicate that there are\n",
       "strong multicollinearity or other numerical problems.\n",
       "\"\"\""
      ]
     },
     "execution_count": 25,
     "metadata": {},
     "output_type": "execute_result"
    }
   ],
   "source": [
    "results.summary()"
   ]
  },
  {
   "cell_type": "markdown",
   "metadata": {},
   "source": [
    "It is <span style=\"color:red\">**very important**</span> to note that additional features will lead to the increase of R_score and the decrease of RMSE. Therefore the use of these metrics do not explain if the additional features help the model choice.\n",
    "\n",
    "One of the alternative ways is to apply **adjusted $R^2$** (adjusted for degree of freedom) and **AIC (Akaike's Informative Criteria, or its variants)**, which are use to penalize more extra variables. \n",
    "\n",
    "What stepwise regression can do is to add/drop predictors that optimize **adjusted $R^2$** and **AIC**. No implementation avaiable in Scikit-learn. \n",
    "\n",
    "However, stepwise regression and all subset regression are in-sample methods, which mean they are subject to overfitting - creating some performance issue. To avoid this, the common appoarch is to use **`cross-validation`**"
   ]
  },
  {
   "cell_type": "markdown",
   "metadata": {},
   "source": [
    "---\n",
    "### Weighted regression\n",
    "It is advised by the data owner that the older the date the less reliable the data is, which makes sense. Therefore, each record (row) will be weighted differently in accordance with the date. \n",
    "\n",
    "To achieve this, `LinearRegression()` class contains **`sample_weight`** parameter when fitting the model, and it requires a column of weight data for each individual record."
   ]
  },
  {
   "cell_type": "code",
   "execution_count": 33,
   "metadata": {},
   "outputs": [
    {
     "data": {
      "text/plain": [
       "2006    8176\n",
       "2007    4928\n",
       "2008    2355\n",
       "2009    1879\n",
       "2010    1711\n",
       "2011    1260\n",
       "2012    1000\n",
       "2013     766\n",
       "2014     458\n",
       "2015     156\n",
       "Name: Year, dtype: int64"
      ]
     },
     "execution_count": 33,
     "metadata": {},
     "output_type": "execute_result"
    }
   ],
   "source": [
    "house['Year'] = house['DocumentDate'].str.split('-').str[0]\n",
    "house['Year'].value_counts()"
   ]
  },
  {
   "cell_type": "code",
   "execution_count": 36,
   "metadata": {},
   "outputs": [],
   "source": [
    "# Start from 2006 with the weight of 1, which will grow by 1 for extra one year\n",
    "house['Weight'] = house['Year'].astype(int) - 2005"
   ]
  },
  {
   "cell_type": "code",
   "execution_count": 39,
   "metadata": {},
   "outputs": [],
   "source": [
    "# house.columns.values\n",
    "features= ['SqFtLot', 'SqFtTotLiving', 'Bathrooms', 'Bedrooms', 'BldgGrade']\n",
    "response = 'AdjSalePrice'"
   ]
  },
  {
   "cell_type": "code",
   "execution_count": 42,
   "metadata": {},
   "outputs": [
    {
     "data": {
      "text/plain": [
       "LinearRegression()"
      ]
     },
     "execution_count": 42,
     "metadata": {},
     "output_type": "execute_result"
    }
   ],
   "source": [
    "# Fitting the model \n",
    "model_wt = LinearRegression() # no standardization applied\n",
    "model_wt.fit(house[features], house[response], sample_weight=house['Weight'])"
   ]
  }
 ],
 "metadata": {
  "kernelspec": {
   "display_name": "Python [conda env:my_env]",
   "language": "python",
   "name": "conda-env-my_env-py"
  },
  "language_info": {
   "codemirror_mode": {
    "name": "ipython",
    "version": 3
   },
   "file_extension": ".py",
   "mimetype": "text/x-python",
   "name": "python",
   "nbconvert_exporter": "python",
   "pygments_lexer": "ipython3",
   "version": "3.8.3"
  }
 },
 "nbformat": 4,
 "nbformat_minor": 4
}
