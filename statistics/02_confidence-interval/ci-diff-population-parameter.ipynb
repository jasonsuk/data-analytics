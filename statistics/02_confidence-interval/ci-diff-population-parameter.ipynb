{
 "cells": [
  {
   "cell_type": "markdown",
   "metadata": {},
   "source": [
    "## Confidence Interval for Difference in Population Parameter"
   ]
  },
  {
   "cell_type": "markdown",
   "metadata": {},
   "source": [
    "### Overview\n",
    "\n",
    "We will use the 2015-2016 wave of the NHANES data for our analysis.\n",
    "\n",
    "For our population proportions, we will analyze the difference of proportion between female and male smokers.  The column that specifies smoker and non-smoker is \"SMQ020\" in our dataset.\n",
    "\n",
    "For our population means, we will analyze the difference of mean of body mass index within our female and male populations.  The column that includes the body mass index value is \"BMXBMI\".\n",
    "\n",
    "Additionally, the gender is specified in the column \"RIAGENDR\"."
   ]
  },
  {
   "cell_type": "code",
   "execution_count": 1,
   "metadata": {},
   "outputs": [],
   "source": [
    "import pandas as pd\n",
    "import numpy as np\n",
    "import statsmodels.api as sm\n",
    "import matplotlib as plt\n",
    "import seaborn as sns\n",
    "%matplotlib inline"
   ]
  },
  {
   "cell_type": "markdown",
   "metadata": {},
   "source": [
    "### Cleaning Dataset First"
   ]
  },
  {
   "cell_type": "code",
   "execution_count": 2,
   "metadata": {},
   "outputs": [
    {
     "data": {
      "text/html": [
       "<div>\n",
       "<style scoped>\n",
       "    .dataframe tbody tr th:only-of-type {\n",
       "        vertical-align: middle;\n",
       "    }\n",
       "\n",
       "    .dataframe tbody tr th {\n",
       "        vertical-align: top;\n",
       "    }\n",
       "\n",
       "    .dataframe thead th {\n",
       "        text-align: right;\n",
       "    }\n",
       "</style>\n",
       "<table border=\"1\" class=\"dataframe\">\n",
       "  <thead>\n",
       "    <tr style=\"text-align: right;\">\n",
       "      <th></th>\n",
       "      <th>SMQ020</th>\n",
       "      <th>RIAGENDR</th>\n",
       "      <th>BMXBMI</th>\n",
       "    </tr>\n",
       "  </thead>\n",
       "  <tbody>\n",
       "    <tr>\n",
       "      <th>0</th>\n",
       "      <td>1</td>\n",
       "      <td>1</td>\n",
       "      <td>27.8</td>\n",
       "    </tr>\n",
       "    <tr>\n",
       "      <th>1</th>\n",
       "      <td>1</td>\n",
       "      <td>1</td>\n",
       "      <td>30.8</td>\n",
       "    </tr>\n",
       "    <tr>\n",
       "      <th>2</th>\n",
       "      <td>1</td>\n",
       "      <td>1</td>\n",
       "      <td>28.8</td>\n",
       "    </tr>\n",
       "    <tr>\n",
       "      <th>3</th>\n",
       "      <td>2</td>\n",
       "      <td>2</td>\n",
       "      <td>42.4</td>\n",
       "    </tr>\n",
       "    <tr>\n",
       "      <th>4</th>\n",
       "      <td>2</td>\n",
       "      <td>2</td>\n",
       "      <td>20.3</td>\n",
       "    </tr>\n",
       "  </tbody>\n",
       "</table>\n",
       "</div>"
      ],
      "text/plain": [
       "   SMQ020  RIAGENDR  BMXBMI\n",
       "0       1         1    27.8\n",
       "1       1         1    30.8\n",
       "2       1         1    28.8\n",
       "3       2         2    42.4\n",
       "4       2         2    20.3"
      ]
     },
     "execution_count": 2,
     "metadata": {},
     "output_type": "execute_result"
    }
   ],
   "source": [
    "cols = ['SMQ020', 'BMXBMI', 'RIAGENDR']\n",
    "df = pd.read_csv('../data/nhanes_2015_2016.csv', usecols=cols)\n",
    "df.head()"
   ]
  },
  {
   "cell_type": "code",
   "execution_count": 3,
   "metadata": {},
   "outputs": [
    {
     "name": "stdout",
     "output_type": "stream",
     "text": [
      "<class 'pandas.core.frame.DataFrame'>\n",
      "RangeIndex: 5735 entries, 0 to 5734\n",
      "Data columns (total 3 columns):\n",
      " #   Column    Non-Null Count  Dtype  \n",
      "---  ------    --------------  -----  \n",
      " 0   SMQ020    5735 non-null   int64  \n",
      " 1   RIAGENDR  5735 non-null   int64  \n",
      " 2   BMXBMI    5662 non-null   float64\n",
      "dtypes: float64(1), int64(2)\n",
      "memory usage: 134.5 KB\n"
     ]
    }
   ],
   "source": [
    "df.info()"
   ]
  },
  {
   "cell_type": "code",
   "execution_count": null,
   "metadata": {},
   "outputs": [],
   "source": [
    "# df[df['SMQ020'].isnull()] #no null values"
   ]
  },
  {
   "cell_type": "code",
   "execution_count": 15,
   "metadata": {},
   "outputs": [],
   "source": [
    "# mapping 'SMQ020' and 'RIAGENDR' to be more representable\n",
    "smq_category = {1:'yes', 2:'no', 7:np.nan, 8:np.nan}\n",
    "df.SMQ020 = df.SMQ020.map(smq_category)"
   ]
  },
  {
   "cell_type": "code",
   "execution_count": 16,
   "metadata": {},
   "outputs": [],
   "source": [
    "gendr_category = {1:'male', 2:'female'}\n",
    "df.RIAGENDR = df.RIAGENDR.map(gendr_category) "
   ]
  },
  {
   "cell_type": "code",
   "execution_count": 17,
   "metadata": {},
   "outputs": [
    {
     "data": {
      "text/html": [
       "<div>\n",
       "<style scoped>\n",
       "    .dataframe tbody tr th:only-of-type {\n",
       "        vertical-align: middle;\n",
       "    }\n",
       "\n",
       "    .dataframe tbody tr th {\n",
       "        vertical-align: top;\n",
       "    }\n",
       "\n",
       "    .dataframe thead th {\n",
       "        text-align: right;\n",
       "    }\n",
       "</style>\n",
       "<table border=\"1\" class=\"dataframe\">\n",
       "  <thead>\n",
       "    <tr style=\"text-align: right;\">\n",
       "      <th></th>\n",
       "      <th>SMQ020</th>\n",
       "      <th>RIAGENDR</th>\n",
       "      <th>BMXBMI</th>\n",
       "    </tr>\n",
       "  </thead>\n",
       "  <tbody>\n",
       "    <tr>\n",
       "      <th>0</th>\n",
       "      <td>yes</td>\n",
       "      <td>male</td>\n",
       "      <td>27.8</td>\n",
       "    </tr>\n",
       "    <tr>\n",
       "      <th>1</th>\n",
       "      <td>yes</td>\n",
       "      <td>male</td>\n",
       "      <td>30.8</td>\n",
       "    </tr>\n",
       "    <tr>\n",
       "      <th>2</th>\n",
       "      <td>yes</td>\n",
       "      <td>male</td>\n",
       "      <td>28.8</td>\n",
       "    </tr>\n",
       "    <tr>\n",
       "      <th>3</th>\n",
       "      <td>no</td>\n",
       "      <td>female</td>\n",
       "      <td>42.4</td>\n",
       "    </tr>\n",
       "    <tr>\n",
       "      <th>4</th>\n",
       "      <td>no</td>\n",
       "      <td>female</td>\n",
       "      <td>20.3</td>\n",
       "    </tr>\n",
       "  </tbody>\n",
       "</table>\n",
       "</div>"
      ],
      "text/plain": [
       "  SMQ020 RIAGENDR  BMXBMI\n",
       "0    yes     male    27.8\n",
       "1    yes     male    30.8\n",
       "2    yes     male    28.8\n",
       "3     no   female    42.4\n",
       "4     no   female    20.3"
      ]
     },
     "execution_count": 17,
     "metadata": {},
     "output_type": "execute_result"
    }
   ],
   "source": [
    "# confirm changes\n",
    "df.head()"
   ]
  },
  {
   "cell_type": "code",
   "execution_count": 22,
   "metadata": {},
   "outputs": [
    {
     "name": "stdout",
     "output_type": "stream",
     "text": [
      "SMQ020      no   yes\n",
      "RIAGENDR            \n",
      "female    2066   906\n",
      "male      1340  1413\n"
     ]
    }
   ],
   "source": [
    "# group and drop null\n",
    "gendr_smq = pd.crosstab(index=df.RIAGENDR, columns=df.SMQ020, dropna=True)\n",
    "print(gendr_smq)"
   ]
  },
  {
   "cell_type": "markdown",
   "metadata": {},
   "source": [
    "`BMXBMI` and `RIAGENDR`"
   ]
  },
  {
   "cell_type": "code",
   "execution_count": null,
   "metadata": {},
   "outputs": [],
   "source": [
    "# df[df['BMXBMI'].isnull()]"
   ]
  },
  {
   "cell_type": "code",
   "execution_count": 44,
   "metadata": {},
   "outputs": [
    {
     "name": "stdout",
     "output_type": "stream",
     "text": [
      "         BMXBMI                     \n",
      "          count       mean       std\n",
      "RIAGENDR                            \n",
      "female     2944  29.939946  7.753319\n",
      "male       2718  28.778072  6.252568\n"
     ]
    }
   ],
   "source": [
    "df_bmi = df[df['BMXBMI'].notnull()] # 5662 rows - correct\n",
    "bmi_gendr = df_bmi.groupby('RIAGENDR').agg(['count', 'mean', 'std'])\n",
    "print(bmi_gendr)"
   ]
  },
  {
   "cell_type": "markdown",
   "metadata": {},
   "source": [
    "---"
   ]
  },
  {
   "cell_type": "markdown",
   "metadata": {},
   "source": [
    "### Constructing Confidence Intervals\n",
    "\n",
    "Now that we have the population proportions of male and female smokers, we can begin to calculate confidence intervals.  The equation is as follows:\n",
    "\n",
    "$$Best\\ Estimate \\pm Margin\\ of\\ Error$$\n",
    "\n",
    "Where the *Best Estimate* is the **observed population proportion or mean** from the sample and the *Margin of Error* is the **t-multiplier**.\n",
    "\n",
    "The equation to create a 95% confidence interval can also be shown as:\n",
    "\n",
    "$$Population\\ Proportion\\ or\\ Mean\\ \\pm (t-multiplier *\\ Standard\\ Error)$$\n",
    "\n",
    "The Standard Error (SE) is calculated differenly for population proportion and mean:\n",
    "\n",
    "$$Standard\\ Error \\ for\\ Population\\ Proportion = \\sqrt{\\frac{Population\\ Proportion * (1 - Population\\ Proportion)}{Number\\ Of\\ Observations}}$$\n",
    "\n",
    "$$Standard\\ Error \\ for\\ Mean = \\frac{Standard\\ Deviation}{\\sqrt{Number\\ Of\\ Observations}}$$\n",
    "\n",
    "Lastly, the standard error for difference of population proportions and means is:\n",
    "\n",
    "$$Standard\\ Error\\ for\\ Difference\\ of\\ Two\\ Population\\ Proportions\\ Or\\ Means = \\sqrt{(SE_{\\ 1})^2 + (SE_{\\ 2})^2}$$"
   ]
  },
  {
   "cell_type": "markdown",
   "metadata": {},
   "source": [
    "### Confidence interval for difference of population **proportion** - `SMQ020` and `RIAGENDR`"
   ]
  },
  {
   "cell_type": "code",
   "execution_count": 33,
   "metadata": {},
   "outputs": [
    {
     "name": "stdout",
     "output_type": "stream",
     "text": [
      "2972 2753\n"
     ]
    }
   ],
   "source": [
    "# number of observations : female and male\n",
    "num_f = gendr_smq.loc['female'].sum()\n",
    "num_m = gendr_smq.loc['male'].sum()\n",
    "print(num_f, num_m)"
   ]
  },
  {
   "cell_type": "code",
   "execution_count": 48,
   "metadata": {},
   "outputs": [
    {
     "name": "stdout",
     "output_type": "stream",
     "text": [
      "0.30484522207267833 0.5132582637123139\n",
      "-0.20841304163963553\n"
     ]
    }
   ],
   "source": [
    "# propoartions : female and male\n",
    "prop_f = gendr_smq.loc['female','yes'] / num_f\n",
    "prop_m = gendr_smq.loc['male', 'yes'] / num_m\n",
    "print(prop_f, prop_m)\n",
    "\n",
    "# proportion for difference \n",
    "prop_diff = prop_f - prop_m\n",
    "print(prop_diff)"
   ]
  },
  {
   "cell_type": "code",
   "execution_count": 47,
   "metadata": {},
   "outputs": [
    {
     "name": "stdout",
     "output_type": "stream",
     "text": [
      "0.008444152146214435 0.009526078653689868\n",
      "0.012729881381407434\n"
     ]
    }
   ],
   "source": [
    "# estimated standard error\n",
    "stdErr_f = np.sqrt( prop_f*(1-prop_f) / num_f )\n",
    "stdErr_m = np.sqrt( prop_m*(1-prop_m) / num_m )\n",
    "print(stdErr_f, stdErr_m)\n",
    "\n",
    "# standar error for difference \n",
    "stdErr_diff = np.sqrt( stdErr_f**2 + stdErr_m**2 )\n",
    "print(stdErr_diff)"
   ]
  },
  {
   "cell_type": "code",
   "execution_count": 49,
   "metadata": {},
   "outputs": [
    {
     "name": "stdout",
     "output_type": "stream",
     "text": [
      "(-0.2333636091471941, -0.18346247413207697)\n"
     ]
    }
   ],
   "source": [
    "# with 95% confidence\n",
    "lcb = prop_diff - 1.96 * stdErr_diff\n",
    "ucb = prop_diff + 1.96 * stdErr_diff\n",
    "conf_diff = (lcb, ucb)\n",
    "print(conf_diff)"
   ]
  },
  {
   "cell_type": "markdown",
   "metadata": {},
   "source": [
    "### Confidence interval for difference of population **mean** - `BMXBMI` and `RIAGENDR`"
   ]
  },
  {
   "cell_type": "code",
   "execution_count": 50,
   "metadata": {},
   "outputs": [
    {
     "data": {
      "text/html": [
       "<div>\n",
       "<style scoped>\n",
       "    .dataframe tbody tr th:only-of-type {\n",
       "        vertical-align: middle;\n",
       "    }\n",
       "\n",
       "    .dataframe tbody tr th {\n",
       "        vertical-align: top;\n",
       "    }\n",
       "\n",
       "    .dataframe thead tr th {\n",
       "        text-align: left;\n",
       "    }\n",
       "\n",
       "    .dataframe thead tr:last-of-type th {\n",
       "        text-align: right;\n",
       "    }\n",
       "</style>\n",
       "<table border=\"1\" class=\"dataframe\">\n",
       "  <thead>\n",
       "    <tr>\n",
       "      <th></th>\n",
       "      <th colspan=\"3\" halign=\"left\">BMXBMI</th>\n",
       "    </tr>\n",
       "    <tr>\n",
       "      <th></th>\n",
       "      <th>count</th>\n",
       "      <th>mean</th>\n",
       "      <th>std</th>\n",
       "    </tr>\n",
       "    <tr>\n",
       "      <th>RIAGENDR</th>\n",
       "      <th></th>\n",
       "      <th></th>\n",
       "      <th></th>\n",
       "    </tr>\n",
       "  </thead>\n",
       "  <tbody>\n",
       "    <tr>\n",
       "      <th>female</th>\n",
       "      <td>2944</td>\n",
       "      <td>29.939946</td>\n",
       "      <td>7.753319</td>\n",
       "    </tr>\n",
       "    <tr>\n",
       "      <th>male</th>\n",
       "      <td>2718</td>\n",
       "      <td>28.778072</td>\n",
       "      <td>6.252568</td>\n",
       "    </tr>\n",
       "  </tbody>\n",
       "</table>\n",
       "</div>"
      ],
      "text/plain": [
       "         BMXBMI                     \n",
       "          count       mean       std\n",
       "RIAGENDR                            \n",
       "female     2944  29.939946  7.753319\n",
       "male       2718  28.778072  6.252568"
      ]
     },
     "execution_count": 50,
     "metadata": {},
     "output_type": "execute_result"
    }
   ],
   "source": [
    "bmi_gendr"
   ]
  },
  {
   "cell_type": "code",
   "execution_count": 76,
   "metadata": {},
   "outputs": [
    {
     "name": "stdout",
     "output_type": "stream",
     "text": [
      "2944.0 29.939945652173996 7.753318809545676\n"
     ]
    }
   ],
   "source": [
    "bmi_f = bmi_gendr.loc['female']\n",
    "#print(bmi_f)\n",
    "num_f, mean_f, std_f = [bmi_f[i] for i in range(len(bmi_f))]\n",
    "print(num_f, mean_f, std_f)"
   ]
  },
  {
   "cell_type": "code",
   "execution_count": 77,
   "metadata": {},
   "outputs": [
    {
     "name": "stdout",
     "output_type": "stream",
     "text": [
      "2718.0 28.778072111846985 6.252567616801466\n"
     ]
    }
   ],
   "source": [
    "bmi_m = bmi_gendr.loc['male']\n",
    "#print(bmi_m)\n",
    "num_m, mean_m, std_m = [bmi_m[i] for i in range(len(bmi_m))]\n",
    "print(num_m, mean_m, std_m)"
   ]
  },
  {
   "cell_type": "code",
   "execution_count": 79,
   "metadata": {},
   "outputs": [
    {
     "name": "stdout",
     "output_type": "stream",
     "text": [
      "1.1618735403270115\n"
     ]
    }
   ],
   "source": [
    "# mean difference\n",
    "mean_diff = mean_f - mean_m\n",
    "print(mean_diff)"
   ]
  },
  {
   "cell_type": "code",
   "execution_count": 85,
   "metadata": {},
   "outputs": [
    {
     "name": "stdout",
     "output_type": "stream",
     "text": [
      "0.1428955614964966 0.11993161192479428\n",
      "0.18655490621872828\n"
     ]
    }
   ],
   "source": [
    "# standard error for difference in mean\n",
    "stdErr_f = std_f / np.sqrt(num_f)\n",
    "stdErr_m = std_m / np.sqrt(num_m)\n",
    "print(stdErr_f, stdErr_m)\n",
    "\n",
    "stdErr_diff = np.sqrt( stdErr_f**2 + stdErr_m**2 )\n",
    "print(stdErr_diff)"
   ]
  },
  {
   "cell_type": "code",
   "execution_count": 86,
   "metadata": {},
   "outputs": [
    {
     "name": "stdout",
     "output_type": "stream",
     "text": [
      "(0.7962259241383041, 1.527521156515719)\n"
     ]
    }
   ],
   "source": [
    "# confidence interval for difference in mean\n",
    "lcb = mean_diff - 1.96 * stdErr_diff\n",
    "ucb = mean_diff + 1.96 * stdErr_diff\n",
    "conf_diff = (lcb, ucb)\n",
    "print(conf_diff)"
   ]
  }
 ],
 "metadata": {
  "kernelspec": {
   "display_name": "Python [conda env:my_env]",
   "language": "python",
   "name": "conda-env-my_env-py"
  },
  "language_info": {
   "codemirror_mode": {
    "name": "ipython",
    "version": 3
   },
   "file_extension": ".py",
   "mimetype": "text/x-python",
   "name": "python",
   "nbconvert_exporter": "python",
   "pygments_lexer": "ipython3",
   "version": "3.8.3"
  }
 },
 "nbformat": 4,
 "nbformat_minor": 4
}
